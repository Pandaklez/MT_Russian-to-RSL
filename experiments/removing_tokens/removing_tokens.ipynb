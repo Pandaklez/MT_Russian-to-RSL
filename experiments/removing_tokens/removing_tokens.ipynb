{
 "cells": [
  {
   "cell_type": "markdown",
   "id": "3171b087",
   "metadata": {
    "cellId": "9h276qvelssw2oclulhkx"
   },
   "source": [
    "## Which tokens affect classifier constructions the most?"
   ]
  },
  {
   "cell_type": "markdown",
   "id": "7f97ab2f",
   "metadata": {
    "cellId": "qrirg6pa41qcdokgfqw8ik"
   },
   "source": [
    "Load the best model from data augmentation experiments and the test data:"
   ]
  },
  {
   "cell_type": "code",
   "execution_count": 12,
   "id": "7486545b",
   "metadata": {
    "cellId": "2o72x8162uq8l288ai5b2k"
   },
   "outputs": [],
   "source": [
    "#!g1.1\n",
    "import numpy as np\n",
    "import pandas as pd\n",
    "import torchtext.vocab as vocab\n",
    "import torch\n",
    "from razdel import sentenize\n",
    "import json"
   ]
  },
  {
   "cell_type": "code",
   "execution_count": 3,
   "id": "24b11de6",
   "metadata": {
    "cellId": "yx9ph4j3mu5y5v3jnfrgv"
   },
   "outputs": [],
   "source": [
    "#!g1.1\n",
    "from simpletransformers.t5 import T5Model, T5Args\n",
    "\n",
    "use_cuda = True\n",
    "\n",
    "model_args = T5Args()\n",
    "model_args.special_tokens_list = [\"clf\", \"poss\", \"sg\", \"<nums>\", \"<dact>\", \"1ps\", \"2ps\", \"3ps\", \"indx\", \"pl\"]\n",
    "model_args.max_seq_length = 96\n",
    "model_args.train_batch_size = 30\n",
    "model_args.eval_batch_size = 30\n",
    "model_args.num_train_epochs = 15\n",
    "model_args.evaluate_during_training = True\n",
    "model_args.evaluate_during_training_steps = 30000\n",
    "model_args.use_multiprocessing = False\n",
    "model_args.fp16 = False\n",
    "model_args.save_steps = -1\n",
    "model_args.save_eval_checkpoints = False\n",
    "model_args.no_cache = True\n",
    "model_args.reprocess_input_data = True\n",
    "model_args.overwrite_output_dir = True\n",
    "model_args.preprocess_inputs = False\n",
    "model_args.num_return_sequences = 1\n",
    "model_args.wandb_project = \"MT5 Russian-RSL Translation\"\n",
    "\n",
    "model = T5Model(\"mt5\", \"outputs/best_model\", args=model_args)  #model15_special_tokens_mix_all.pth"
   ]
  },
  {
   "cell_type": "markdown",
   "id": "18173a25",
   "metadata": {
    "cellId": "c2jmgmlhpbk2dp4bdskvw"
   },
   "source": [
    "### Load test data"
   ]
  },
  {
   "cell_type": "code",
   "execution_count": 6,
   "id": "83ee29c4",
   "metadata": {
    "cellId": "mf8pwqjpgcbhzwd1yv4yx"
   },
   "outputs": [],
   "source": [
    "#!g1.1\n",
    "test_data = pd.read_csv('test_data.csv', encoding='utf-8')\n",
    "\n",
    "test_data['stem_rus'] = test_data['test_stem_rus'].apply(lambda sent: sent.strip('[]\\'').split('\\', \\''))\n",
    "test_data['rsl'] = test_data['test_rsl'].apply(lambda sent: sent.strip('[]\\'').split('\\', \\''))\n",
    "test_data['gram_rus'] = test_data['test_gram_rus'].apply(lambda sent: json.loads(sent.replace('\\'', '\\\"')))"
   ]
  },
  {
   "cell_type": "code",
   "execution_count": 7,
   "id": "264b1d1e",
   "metadata": {
    "cellId": "7na18bwxc1jcytukgs36xq"
   },
   "outputs": [],
   "source": [
    "#!g1.1\n",
    "for index, row in test_data.iterrows():\n",
    "    if row['rsl'] == ['']:\n",
    "        test_data.drop(index, inplace=True)"
   ]
  },
  {
   "cell_type": "code",
   "execution_count": 22,
   "id": "3b9b400b",
   "metadata": {
    "cellId": "b8q8ufhd04jbj35fjf6mco"
   },
   "outputs": [],
   "source": [
    "#!g1.1\n",
    "test_data['input_text'] = test_data['stem_rus'].apply(' '.join)\n",
    "test_data['target_text'] = test_data['rsl'].apply(' '.join)"
   ]
  },
  {
   "cell_type": "code",
   "execution_count": 23,
   "id": "0973e3ea",
   "metadata": {
    "cellId": "5nlelld47ctzsmko0j8ohp"
   },
   "outputs": [
    {
     "data": {
      "text/html": [
       "<div>\n",
       "<style scoped>\n",
       "    .dataframe tbody tr th:only-of-type {\n",
       "        vertical-align: middle;\n",
       "    }\n",
       "\n",
       "    .dataframe tbody tr th {\n",
       "        vertical-align: top;\n",
       "    }\n",
       "\n",
       "    .dataframe thead th {\n",
       "        text-align: right;\n",
       "    }\n",
       "</style>\n",
       "<table border=\"1\" class=\"dataframe\">\n",
       "  <thead>\n",
       "    <tr style=\"text-align: right;\">\n",
       "      <th></th>\n",
       "      <th>test_stem_rus</th>\n",
       "      <th>test_gram_rus</th>\n",
       "      <th>test_rsl</th>\n",
       "      <th>stem_rus</th>\n",
       "      <th>rsl</th>\n",
       "      <th>gram_rus</th>\n",
       "      <th>input_text</th>\n",
       "      <th>target_text</th>\n",
       "    </tr>\n",
       "  </thead>\n",
       "  <tbody>\n",
       "    <tr>\n",
       "      <th>0</th>\n",
       "      <td>['а', 'когда', 'дед', 'мороз', 'вернуться', 'д...</td>\n",
       "      <td>[['CONJ'], ['CONJ'], ['им', 'мн', 'S', 'муж', ...</td>\n",
       "      <td>['indx', 'дед.мороз', 'clf', 'clf.группа', 'cl...</td>\n",
       "      <td>[а, когда, дед, мороз, вернуться, домой, мален...</td>\n",
       "      <td>[indx, дед.мороз, clf, clf.группа, clf.перемес...</td>\n",
       "      <td>[[CONJ], [CONJ], [им, мн, S, муж, од], [им, мн...</td>\n",
       "      <td>а когда дед мороз вернуться домой маленький де...</td>\n",
       "      <td>indx дед.мороз clf clf.группа clf.переместить ...</td>\n",
       "    </tr>\n",
       "    <tr>\n",
       "      <th>1</th>\n",
       "      <td>['а', 'мачеха', 'лишать', 'я', 'весь', 'радость']</td>\n",
       "      <td>[['CONJ'], ['им', 'S', 'од', 'жен', 'ед'], ['и...</td>\n",
       "      <td>['мама', 'второй', '3ps', 'все', 'радость', 'д...</td>\n",
       "      <td>[а, мачеха, лишать, я, весь, радость]</td>\n",
       "      <td>[мама, второй, 3ps, все, радость, давать, 1ps,...</td>\n",
       "      <td>[[CONJ], [им, S, од, жен, ед], [изъяв, V, пе, ...</td>\n",
       "      <td>а мачеха лишать я весь радость</td>\n",
       "      <td>мама второй 3ps все радость давать 1ps ноль</td>\n",
       "    </tr>\n",
       "    <tr>\n",
       "      <th>4</th>\n",
       "      <td>['зачем', 'я', 'хотеть', 'изменять', 'свой', '...</td>\n",
       "      <td>[['ADVPRO'], ['им', 'ед', '1-л', 'SPRO'], ['из...</td>\n",
       "      <td>['зачем', 'желание', 'изменение', 'все4', 'при...</td>\n",
       "      <td>[зачем, я, хотеть, изменять, свой, привычка, т...</td>\n",
       "      <td>[зачем, желание, изменение, все4, привычка, тр...</td>\n",
       "      <td>[[ADVPRO], [им, ед, 1-л, SPRO], [изъяв, V, пе,...</td>\n",
       "      <td>зачем я хотеть изменять свой привычка тратить ...</td>\n",
       "      <td>зачем желание изменение все4 привычка тратить ...</td>\n",
       "    </tr>\n",
       "    <tr>\n",
       "      <th>5</th>\n",
       "      <td>['оказываться', 'впервые', 'это', 'появляться'...</td>\n",
       "      <td>[['изъяв', 'V', '3-л', 'нп', 'несов', 'ед', 'н...</td>\n",
       "      <td>['америка', 'есть', 'poss', '3ps', '3ps', 'рас...</td>\n",
       "      <td>[оказываться, впервые, это, появляться, в, аме...</td>\n",
       "      <td>[америка, есть, poss, 3ps, 3ps, рассказ, 1ps, ...</td>\n",
       "      <td>[[изъяв, V, 3-л, нп, несов, ед, непрош], [ADV]...</td>\n",
       "      <td>оказываться впервые это появляться в америка</td>\n",
       "      <td>америка есть poss 3ps 3ps рассказ 1ps интересн...</td>\n",
       "    </tr>\n",
       "    <tr>\n",
       "      <th>6</th>\n",
       "      <td>['я', 'вчера', 'не', 'стирать', 'белье']</td>\n",
       "      <td>[['им', 'ед', '1-л', 'SPRO'], ['ADV'], ['PART'...</td>\n",
       "      <td>['1ps', 'вчера', 'стирать', '&lt;dact&gt;', 'не', 'б...</td>\n",
       "      <td>[я, вчера, не, стирать, белье]</td>\n",
       "      <td>[1ps, вчера, стирать, &lt;dact&gt;, не, был]</td>\n",
       "      <td>[[им, ед, 1-л, SPRO], [ADV], [PART], [изъяв, V...</td>\n",
       "      <td>я вчера не стирать белье</td>\n",
       "      <td>1ps вчера стирать &lt;dact&gt; не был</td>\n",
       "    </tr>\n",
       "  </tbody>\n",
       "</table>\n",
       "</div>"
      ],
      "text/plain": [
       "                                       test_stem_rus  \\\n",
       "0  ['а', 'когда', 'дед', 'мороз', 'вернуться', 'д...   \n",
       "1  ['а', 'мачеха', 'лишать', 'я', 'весь', 'радость']   \n",
       "4  ['зачем', 'я', 'хотеть', 'изменять', 'свой', '...   \n",
       "5  ['оказываться', 'впервые', 'это', 'появляться'...   \n",
       "6           ['я', 'вчера', 'не', 'стирать', 'белье']   \n",
       "\n",
       "                                       test_gram_rus  \\\n",
       "0  [['CONJ'], ['CONJ'], ['им', 'мн', 'S', 'муж', ...   \n",
       "1  [['CONJ'], ['им', 'S', 'од', 'жен', 'ед'], ['и...   \n",
       "4  [['ADVPRO'], ['им', 'ед', '1-л', 'SPRO'], ['из...   \n",
       "5  [['изъяв', 'V', '3-л', 'нп', 'несов', 'ед', 'н...   \n",
       "6  [['им', 'ед', '1-л', 'SPRO'], ['ADV'], ['PART'...   \n",
       "\n",
       "                                            test_rsl  \\\n",
       "0  ['indx', 'дед.мороз', 'clf', 'clf.группа', 'cl...   \n",
       "1  ['мама', 'второй', '3ps', 'все', 'радость', 'д...   \n",
       "4  ['зачем', 'желание', 'изменение', 'все4', 'при...   \n",
       "5  ['америка', 'есть', 'poss', '3ps', '3ps', 'рас...   \n",
       "6  ['1ps', 'вчера', 'стирать', '<dact>', 'не', 'б...   \n",
       "\n",
       "                                            stem_rus  \\\n",
       "0  [а, когда, дед, мороз, вернуться, домой, мален...   \n",
       "1              [а, мачеха, лишать, я, весь, радость]   \n",
       "4  [зачем, я, хотеть, изменять, свой, привычка, т...   \n",
       "5  [оказываться, впервые, это, появляться, в, аме...   \n",
       "6                     [я, вчера, не, стирать, белье]   \n",
       "\n",
       "                                                 rsl  \\\n",
       "0  [indx, дед.мороз, clf, clf.группа, clf.перемес...   \n",
       "1  [мама, второй, 3ps, все, радость, давать, 1ps,...   \n",
       "4  [зачем, желание, изменение, все4, привычка, тр...   \n",
       "5  [америка, есть, poss, 3ps, 3ps, рассказ, 1ps, ...   \n",
       "6             [1ps, вчера, стирать, <dact>, не, был]   \n",
       "\n",
       "                                            gram_rus  \\\n",
       "0  [[CONJ], [CONJ], [им, мн, S, муж, од], [им, мн...   \n",
       "1  [[CONJ], [им, S, од, жен, ед], [изъяв, V, пе, ...   \n",
       "4  [[ADVPRO], [им, ед, 1-л, SPRO], [изъяв, V, пе,...   \n",
       "5  [[изъяв, V, 3-л, нп, несов, ед, непрош], [ADV]...   \n",
       "6  [[им, ед, 1-л, SPRO], [ADV], [PART], [изъяв, V...   \n",
       "\n",
       "                                          input_text  \\\n",
       "0  а когда дед мороз вернуться домой маленький де...   \n",
       "1                     а мачеха лишать я весь радость   \n",
       "4  зачем я хотеть изменять свой привычка тратить ...   \n",
       "5       оказываться впервые это появляться в америка   \n",
       "6                           я вчера не стирать белье   \n",
       "\n",
       "                                         target_text  \n",
       "0  indx дед.мороз clf clf.группа clf.переместить ...  \n",
       "1        мама второй 3ps все радость давать 1ps ноль  \n",
       "4  зачем желание изменение все4 привычка тратить ...  \n",
       "5  америка есть poss 3ps 3ps рассказ 1ps интересн...  \n",
       "6                    1ps вчера стирать <dact> не был  "
      ]
     },
     "execution_count": 23,
     "metadata": {},
     "output_type": "execute_result"
    }
   ],
   "source": [
    "#!g1.1\n",
    "test_data.head()"
   ]
  },
  {
   "cell_type": "markdown",
   "id": "702215e4",
   "metadata": {
    "cellId": "rzu2vy6no1s9bx8sh5emf8"
   },
   "source": [
    "Try predicting something:"
   ]
  },
  {
   "cell_type": "code",
   "execution_count": 19,
   "id": "031a3a00",
   "metadata": {
    "cellId": "3y9g6c1ue42002dza49dnopy"
   },
   "outputs": [
    {
     "data": {
      "text/plain": [
       "['Я умею переводить текст на русский жестовый язык.',\n",
       " 'Этот текст перевела модель машинного перевода.',\n",
       " 'Дети играли в мяч на улице.',\n",
       " 'Получается довольно-таки глупо']"
      ]
     },
     "execution_count": 19,
     "metadata": {},
     "output_type": "execute_result"
    }
   ],
   "source": [
    "#!g1.1\n",
    "text = \"\"\"\n",
    "    Я умею переводить текст на русский жестовый язык.\n",
    "    Этот текст перевела модель машинного перевода.\n",
    "    Дети играли в мяч на улице.\n",
    "    Получается довольно-таки глупо\n",
    "    \"\"\"\n",
    "to_rsl = [_.text for _ in list(sentenize(text))]\n",
    "to_rsl"
   ]
  },
  {
   "cell_type": "code",
   "execution_count": 20,
   "id": "8fa91c8b",
   "metadata": {
    "cellId": "chlwwl15o25b98bjxlb35e"
   },
   "outputs": [
    {
     "data": {
      "application/vnd.jupyter.widget-view+json": {
       "model_id": "5138290661034849b5373f4a67dcc45c",
       "version_major": 2,
       "version_minor": 0
      },
      "text/plain": [
       "Generating outputs:   0%|          | 0/1 [00:00<?, ?it/s]"
      ]
     },
     "metadata": {},
     "output_type": "display_data"
    },
    {
     "data": {
      "application/vnd.jupyter.widget-view+json": {
       "model_id": "c07ce347692c4af3b4d3c136f0f513d9",
       "version_major": 2,
       "version_minor": 0
      },
      "text/plain": [
       "Decoding outputs:   0%|          | 0/4 [00:00<?, ?it/s]"
      ]
     },
     "metadata": {},
     "output_type": "display_data"
    }
   ],
   "source": [
    "#!g1.1\n",
    "rsl_preds = model.predict(to_rsl)"
   ]
  },
  {
   "cell_type": "code",
   "execution_count": 21,
   "id": "f0486c6d",
   "metadata": {
    "cellId": "gxwbl3gnpyz9u3msijj7h"
   },
   "outputs": [
    {
     "data": {
      "text/plain": [
       "['я знать переводить текст на русский жестовый язык',\n",
       " 'перевести текст перевод модель этот машинный перевод',\n",
       " 'ребенок играть мяч в улица на',\n",
       " 'получать2 <dact> глупо']"
      ]
     },
     "execution_count": 21,
     "metadata": {},
     "output_type": "execute_result"
    }
   ],
   "source": [
    "#!g1.1\n",
    "rsl_preds"
   ]
  },
  {
   "cell_type": "markdown",
   "id": "e4064915",
   "metadata": {
    "cellId": "7kb5c0waetc47h1fpymd8x"
   },
   "source": [
    "### Preparing data\n",
    "\n",
    "- selecting sentences that have clf in target\n",
    "- saving those input texts and target texts in a separate dataset\n",
    "- droping subjects -> checking number of classifiers\n",
    "- droping objects -> checking number of classifiers\n",
    "\n",
    "If I drop verbs, for sure classifiers will disappear, so it does not make any sense. \n",
    "\n",
    "Then I need to separately drop figures and grounds, but how do I annotate them? I save my separate dataset as csv, then open it in google docs and introduce two new columns figure ground, where I put respective noun phrases. Then I save it as a csv again"
   ]
  },
  {
   "cell_type": "code",
   "execution_count": null,
   "id": "6d3cd2a6",
   "metadata": {
    "cellId": "3szukkemjqag9bj37ma9dn"
   },
   "outputs": [],
   "source": [
    "#!g1.1\n",
    "for index, row in test_data.iterrows():\n",
    "    if 'clf' in row['target_text']:\n",
    "        print(row['target_text'])"
   ]
  }
 ],
 "metadata": {
  "kernelspec": {
   "display_name": "Yandex DataSphere Kernel",
   "language": "python",
   "name": "python3"
  },
  "language_info": {
   "codemirror_mode": {
    "name": "ipython",
    "version": 3
   },
   "file_extension": ".py",
   "mimetype": "text/x-python",
   "name": "python",
   "nbconvert_exporter": "python",
   "pygments_lexer": "ipython3",
   "version": "3.7.7"
  },
  "notebookId": "3b394e2e-1922-46d5-bf21-3ea87184a3a6",
  "notebookPath": "Notebooks/Untitled.ipynb"
 },
 "nbformat": 4,
 "nbformat_minor": 5
}
