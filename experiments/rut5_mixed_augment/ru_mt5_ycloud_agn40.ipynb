{
 "cells": [
  {
   "cell_type": "markdown",
   "metadata": {
    "cellId": "txf4strch6nd2x9toykyn",
    "id": "0TYzwpg13ge0"
   },
   "source": [
    "В этой тетрадке я предпринимаю отчаянную попытку перевести на ржя через модель mt5"
   ]
  },
  {
   "cell_type": "code",
   "execution_count": 1,
   "metadata": {
    "cellId": "lqaai5xqja8nrb3nugzrx",
    "collapsed": true,
    "id": "tx2DJeJz3fbP",
    "jupyter": {
     "outputs_hidden": true
    }
   },
   "outputs": [
    {
     "name": "stdout",
     "output_type": "stream",
     "text": [
      "Defaulting to user installation because normal site-packages is not writeable\n",
      "Requirement already satisfied: transformers in /home/jupyter/.local/lib/python3.8/site-packages (3.5.0)\n",
      "Requirement already satisfied: sentencepiece in /home/jupyter/.local/lib/python3.8/site-packages (0.1.91)\n",
      "Requirement already satisfied: tqdm>=4.27 in /usr/local/lib/python3.8/dist-packages (from transformers) (4.50.0)\n",
      "Requirement already satisfied: protobuf in /usr/local/lib/python3.8/dist-packages (from transformers) (3.19.1)\n",
      "Requirement already satisfied: numpy in /kernel/fallback/lib/python3.8/site-packages (from transformers) (1.19.4)\n",
      "Requirement already satisfied: tokenizers==0.9.3 in /home/jupyter/.local/lib/python3.8/site-packages (from transformers) (0.9.3)\n",
      "Requirement already satisfied: regex!=2019.12.17 in /usr/local/lib/python3.8/dist-packages (from transformers) (2021.11.10)\n",
      "Requirement already satisfied: filelock in /usr/local/lib/python3.8/dist-packages (from transformers) (3.4.2)\n",
      "Requirement already satisfied: sacremoses in /usr/local/lib/python3.8/dist-packages (from transformers) (0.0.46)\n",
      "Requirement already satisfied: requests in /kernel/lib/python3.8/site-packages (from transformers) (2.25.1)\n",
      "Requirement already satisfied: packaging in /kernel/lib/python3.8/site-packages (from transformers) (20.9)\n",
      "Requirement already satisfied: pyparsing>=2.0.2 in /kernel/lib/python3.8/site-packages (from packaging->transformers) (2.4.7)\n",
      "Requirement already satisfied: chardet<5,>=3.0.2 in /kernel/lib/python3.8/site-packages (from requests->transformers) (4.0.0)\n",
      "Requirement already satisfied: idna<3,>=2.5 in /kernel/lib/python3.8/site-packages (from requests->transformers) (2.10)\n",
      "Requirement already satisfied: urllib3<1.27,>=1.21.1 in /kernel/lib/python3.8/site-packages (from requests->transformers) (1.26.9)\n",
      "Requirement already satisfied: certifi>=2017.4.17 in /kernel/lib/python3.8/site-packages (from requests->transformers) (2021.10.8)\n",
      "Requirement already satisfied: joblib in /usr/local/lib/python3.8/dist-packages (from sacremoses->transformers) (1.1.0)\n",
      "Requirement already satisfied: click in /usr/local/lib/python3.8/dist-packages (from sacremoses->transformers) (8.0.3)\n",
      "Requirement already satisfied: six in /kernel/lib/python3.8/site-packages (from sacremoses->transformers) (1.16.0)\n",
      "\u001b[33mWARNING: You are using pip version 21.3.1; however, version 22.1 is available.\n",
      "You should consider upgrading via the '/usr/local/bin/python3 -m pip install --upgrade pip' command.\u001b[0m\n",
      "Defaulting to user installation because normal site-packages is not writeable\n",
      "Collecting simpletransformers\n",
      "  Downloading simpletransformers-0.63.6-py3-none-any.whl (249 kB)\n",
      "     |████████████████████████████████| 249 kB 3.3 MB/s            \n",
      "\u001b[?25hRequirement already satisfied: tqdm>=4.47.0 in /usr/local/lib/python3.8/dist-packages (from simpletransformers) (4.50.0)\n",
      "Requirement already satisfied: requests in /kernel/lib/python3.8/site-packages (from simpletransformers) (2.25.1)\n",
      "Requirement already satisfied: tensorboard in /usr/local/lib/python3.8/dist-packages (from simpletransformers) (2.6.0)\n",
      "Requirement already satisfied: wandb>=0.10.32 in /home/jupyter/.local/lib/python3.8/site-packages (from simpletransformers) (0.12.15)\n",
      "Requirement already satisfied: pandas in /home/jupyter/.local/lib/python3.8/site-packages (from simpletransformers) (1.4.2)\n",
      "Collecting streamlit\n",
      "  Downloading streamlit-1.9.0-py2.py3-none-any.whl (10.1 MB)\n",
      "     |████████████████████████████████| 10.1 MB 42.2 MB/s            \n",
      "\u001b[?25hRequirement already satisfied: sentencepiece in /home/jupyter/.local/lib/python3.8/site-packages (from simpletransformers) (0.1.91)\n",
      "Requirement already satisfied: scipy in /usr/local/lib/python3.8/dist-packages (from simpletransformers) (1.4.1)\n",
      "Requirement already satisfied: scikit-learn in /usr/local/lib/python3.8/dist-packages (from simpletransformers) (0.22.1)\n",
      "Collecting datasets\n",
      "  Downloading datasets-2.2.1-py3-none-any.whl (342 kB)\n",
      "     |████████████████████████████████| 342 kB 75.3 MB/s            \n",
      "\u001b[?25hCollecting seqeval\n",
      "  Downloading seqeval-1.2.2.tar.gz (43 kB)\n",
      "     |████████████████████████████████| 43 kB 2.1 MB/s             \n",
      "\u001b[?25h  Preparing metadata (setup.py) ... \u001b[?25ldone\n",
      "\u001b[?25hRequirement already satisfied: tokenizers in /home/jupyter/.local/lib/python3.8/site-packages (from simpletransformers) (0.9.3)\n",
      "Requirement already satisfied: numpy in /kernel/fallback/lib/python3.8/site-packages (from simpletransformers) (1.19.4)\n",
      "Collecting transformers>=4.6.0\n",
      "  Downloading transformers-4.19.1-py3-none-any.whl (4.2 MB)\n",
      "     |████████████████████████████████| 4.2 MB 65.2 MB/s            \n",
      "\u001b[?25hRequirement already satisfied: regex in /usr/local/lib/python3.8/dist-packages (from simpletransformers) (2021.11.10)\n",
      "Collecting tokenizers\n",
      "  Downloading tokenizers-0.12.1-cp38-cp38-manylinux_2_12_x86_64.manylinux2010_x86_64.whl (6.6 MB)\n",
      "     |████████████████████████████████| 6.6 MB 69.9 MB/s            \n",
      "\u001b[?25hRequirement already satisfied: filelock in /usr/local/lib/python3.8/dist-packages (from transformers>=4.6.0->simpletransformers) (3.4.2)\n",
      "Requirement already satisfied: packaging>=20.0 in /kernel/lib/python3.8/site-packages (from transformers>=4.6.0->simpletransformers) (20.9)\n",
      "Requirement already satisfied: pyyaml>=5.1 in /usr/local/lib/python3.8/dist-packages (from transformers>=4.6.0->simpletransformers) (5.3.1)\n",
      "Requirement already satisfied: huggingface-hub<1.0,>=0.1.0 in /home/jupyter/.local/lib/python3.8/site-packages (from transformers>=4.6.0->simpletransformers) (0.5.1)\n",
      "Requirement already satisfied: psutil>=5.0.0 in /kernel/lib/python3.8/site-packages (from wandb>=0.10.32->simpletransformers) (5.7.3)\n",
      "Requirement already satisfied: shortuuid>=0.5.0 in /home/jupyter/.local/lib/python3.8/site-packages (from wandb>=0.10.32->simpletransformers) (1.0.8)\n",
      "Requirement already satisfied: promise<3,>=2.0 in /home/jupyter/.local/lib/python3.8/site-packages (from wandb>=0.10.32->simpletransformers) (2.3)\n",
      "Requirement already satisfied: six>=1.13.0 in /kernel/lib/python3.8/site-packages (from wandb>=0.10.32->simpletransformers) (1.16.0)\n",
      "Requirement already satisfied: docker-pycreds>=0.4.0 in /home/jupyter/.local/lib/python3.8/site-packages (from wandb>=0.10.32->simpletransformers) (0.4.0)\n",
      "Requirement already satisfied: setproctitle in /home/jupyter/.local/lib/python3.8/site-packages (from wandb>=0.10.32->simpletransformers) (1.2.3)\n",
      "Requirement already satisfied: python-dateutil>=2.6.1 in /kernel/lib/python3.8/site-packages (from wandb>=0.10.32->simpletransformers) (2.8.2)\n",
      "Requirement already satisfied: GitPython>=1.0.0 in /home/jupyter/.local/lib/python3.8/site-packages (from wandb>=0.10.32->simpletransformers) (3.1.27)\n",
      "Requirement already satisfied: sentry-sdk>=1.0.0 in /home/jupyter/.local/lib/python3.8/site-packages (from wandb>=0.10.32->simpletransformers) (1.5.10)\n",
      "Requirement already satisfied: protobuf>=3.12.0 in /usr/local/lib/python3.8/dist-packages (from wandb>=0.10.32->simpletransformers) (3.19.1)\n",
      "Requirement already satisfied: Click!=8.0.0,>=7.0 in /usr/local/lib/python3.8/dist-packages (from wandb>=0.10.32->simpletransformers) (8.0.3)\n",
      "Requirement already satisfied: pathtools in /home/jupyter/.local/lib/python3.8/site-packages (from wandb>=0.10.32->simpletransformers) (0.1.2)\n",
      "Requirement already satisfied: chardet<5,>=3.0.2 in /kernel/lib/python3.8/site-packages (from requests->simpletransformers) (4.0.0)\n",
      "Requirement already satisfied: idna<3,>=2.5 in /kernel/lib/python3.8/site-packages (from requests->simpletransformers) (2.10)\n",
      "Requirement already satisfied: urllib3<1.27,>=1.21.1 in /kernel/lib/python3.8/site-packages (from requests->simpletransformers) (1.26.9)\n",
      "Requirement already satisfied: certifi>=2017.4.17 in /kernel/lib/python3.8/site-packages (from requests->simpletransformers) (2021.10.8)\n",
      "Collecting pyarrow>=6.0.0\n",
      "  Downloading pyarrow-8.0.0-cp38-cp38-manylinux_2_17_x86_64.manylinux2014_x86_64.whl (29.4 MB)\n",
      "     |████████████████████████████████| 29.4 MB 57.1 MB/s            \n",
      "\u001b[?25hCollecting multiprocess\n",
      "  Downloading multiprocess-0.70.12.2-py38-none-any.whl (128 kB)\n",
      "     |████████████████████████████████| 128 kB 94.5 MB/s            \n",
      "\u001b[?25hRequirement already satisfied: dill in /usr/local/lib/python3.8/dist-packages (from datasets->simpletransformers) (0.3.4)\n",
      "Requirement already satisfied: fsspec[http]>=2021.05.0 in /usr/local/lib/python3.8/dist-packages (from datasets->simpletransformers) (2021.11.1)\n",
      "Requirement already satisfied: responses<0.19 in /usr/local/lib/python3.8/dist-packages (from datasets->simpletransformers) (0.10.15)\n",
      "Requirement already satisfied: aiohttp in /usr/local/lib/python3.8/dist-packages (from datasets->simpletransformers) (3.8.1)\n",
      "Requirement already satisfied: xxhash in /kernel/fallback/lib/python3.8/site-packages (from datasets->simpletransformers) (2.0.0)\n",
      "Collecting tqdm>=4.47.0\n",
      "  Downloading tqdm-4.64.0-py2.py3-none-any.whl (78 kB)\n",
      "     |████████████████████████████████| 78 kB 5.6 MB/s             \n",
      "\u001b[?25hRequirement already satisfied: pytz>=2020.1 in /home/jupyter/.local/lib/python3.8/site-packages (from pandas->simpletransformers) (2022.1)\n",
      "Requirement already satisfied: joblib>=0.11 in /usr/local/lib/python3.8/dist-packages (from scikit-learn->simpletransformers) (1.1.0)\n",
      "Requirement already satisfied: attrs in /kernel/lib/python3.8/site-packages (from streamlit->simpletransformers) (21.4.0)\n",
      "Collecting validators\n",
      "  Downloading validators-0.19.0.tar.gz (30 kB)\n",
      "  Preparing metadata (setup.py) ... \u001b[?25ldone\n",
      "\u001b[?25hRequirement already satisfied: toml in /usr/local/lib/python3.8/dist-packages (from streamlit->simpletransformers) (0.10.2)\n",
      "Requirement already satisfied: pillow>=6.2.0 in /kernel/lib/python3.8/site-packages (from streamlit->simpletransformers) (9.1.0)\n",
      "Collecting semver\n",
      "  Downloading semver-2.13.0-py2.py3-none-any.whl (12 kB)\n",
      "Collecting altair>=3.2.0\n",
      "  Downloading altair-4.2.0-py3-none-any.whl (812 kB)\n",
      "     |████████████████████████████████| 812 kB 59.3 MB/s            \n",
      "\u001b[?25hCollecting blinker\n",
      "  Downloading blinker-1.4.tar.gz (111 kB)\n",
      "     |████████████████████████████████| 111 kB 92.3 MB/s            \n",
      "\u001b[?25h  Preparing metadata (setup.py) ... \u001b[?25ldone\n",
      "\u001b[?25hRequirement already satisfied: pympler>=0.9 in /kernel/lib/python3.8/site-packages (from streamlit->simpletransformers) (0.9)\n",
      "Requirement already satisfied: cachetools>=4.0 in /usr/local/lib/python3.8/dist-packages (from streamlit->simpletransformers) (4.2.4)\n",
      "Requirement already satisfied: tornado>=5.0 in /kernel/lib/python3.8/site-packages (from streamlit->simpletransformers) (6.1)\n",
      "Requirement already satisfied: importlib-metadata>=1.4 in /usr/local/lib/python3.8/dist-packages (from streamlit->simpletransformers) (4.10.0)\n",
      "Collecting pydeck>=0.1.dev5\n",
      "  Downloading pydeck-0.7.1-py2.py3-none-any.whl (4.3 MB)\n",
      "     |████████████████████████████████| 4.3 MB 67.4 MB/s            \n",
      "\u001b[?25hCollecting watchdog\n",
      "  Downloading watchdog-2.1.8-py3-none-manylinux2014_x86_64.whl (77 kB)\n",
      "     |████████████████████████████████| 77 kB 7.0 MB/s             \n",
      "\u001b[?25hCollecting tzlocal\n",
      "  Downloading tzlocal-4.2-py3-none-any.whl (19 kB)\n",
      "Requirement already satisfied: absl-py>=0.4 in /usr/local/lib/python3.8/dist-packages (from tensorboard->simpletransformers) (0.12.0)\n",
      "Requirement already satisfied: markdown>=2.6.8 in /usr/local/lib/python3.8/dist-packages (from tensorboard->simpletransformers) (3.3.6)\n",
      "Requirement already satisfied: google-auth<2,>=1.6.3 in /usr/local/lib/python3.8/dist-packages (from tensorboard->simpletransformers) (1.35.0)\n",
      "Requirement already satisfied: werkzeug>=0.11.15 in /usr/local/lib/python3.8/dist-packages (from tensorboard->simpletransformers) (2.0.2)\n",
      "Requirement already satisfied: setuptools>=41.0.0 in /kernel/lib/python3.8/site-packages (from tensorboard->simpletransformers) (51.0.0)\n",
      "Requirement already satisfied: tensorboard-plugin-wit>=1.6.0 in /usr/local/lib/python3.8/dist-packages (from tensorboard->simpletransformers) (1.8.0)\n",
      "Requirement already satisfied: tensorboard-data-server<0.7.0,>=0.6.0 in /usr/local/lib/python3.8/dist-packages (from tensorboard->simpletransformers) (0.6.1)\n",
      "Requirement already satisfied: google-auth-oauthlib<0.5,>=0.4.1 in /usr/local/lib/python3.8/dist-packages (from tensorboard->simpletransformers) (0.4.6)\n",
      "Requirement already satisfied: wheel>=0.26 in /usr/local/lib/python3.8/dist-packages (from tensorboard->simpletransformers) (0.37.1)\n",
      "Requirement already satisfied: grpcio>=1.24.3 in /usr/local/lib/python3.8/dist-packages (from tensorboard->simpletransformers) (1.43.0)\n",
      "Requirement already satisfied: jsonschema>=3.0 in /kernel/lib/python3.8/site-packages (from altair>=3.2.0->streamlit->simpletransformers) (4.4.0)\n",
      "Collecting toolz\n",
      "  Downloading toolz-0.11.2-py3-none-any.whl (55 kB)\n",
      "     |████████████████████████████████| 55 kB 5.6 MB/s             \n",
      "\u001b[?25hRequirement already satisfied: entrypoints in /kernel/lib/python3.8/site-packages (from altair>=3.2.0->streamlit->simpletransformers) (0.4)\n",
      "Requirement already satisfied: jinja2 in /kernel/lib/python3.8/site-packages (from altair>=3.2.0->streamlit->simpletransformers) (3.1.1)\n",
      "Requirement already satisfied: gitdb<5,>=4.0.1 in /home/jupyter/.local/lib/python3.8/site-packages (from GitPython>=1.0.0->wandb>=0.10.32->simpletransformers) (4.0.9)\n",
      "Requirement already satisfied: rsa<5,>=3.1.4 in /usr/local/lib/python3.8/dist-packages (from google-auth<2,>=1.6.3->tensorboard->simpletransformers) (4.8)\n",
      "Requirement already satisfied: pyasn1-modules>=0.2.1 in /usr/local/lib/python3.8/dist-packages (from google-auth<2,>=1.6.3->tensorboard->simpletransformers) (0.2.8)\n",
      "Requirement already satisfied: requests-oauthlib>=0.7.0 in /usr/local/lib/python3.8/dist-packages (from google-auth-oauthlib<0.5,>=0.4.1->tensorboard->simpletransformers) (1.3.0)\n",
      "Requirement already satisfied: typing-extensions>=3.7.4.3 in /usr/local/lib/python3.8/dist-packages (from huggingface-hub<1.0,>=0.1.0->transformers>=4.6.0->simpletransformers) (3.7.4.3)\n",
      "Requirement already satisfied: zipp>=0.5 in /kernel/lib/python3.8/site-packages (from importlib-metadata>=1.4->streamlit->simpletransformers) (3.8.0)\n",
      "Requirement already satisfied: pyparsing>=2.0.2 in /kernel/lib/python3.8/site-packages (from packaging>=20.0->transformers>=4.6.0->simpletransformers) (2.4.7)\n",
      "Requirement already satisfied: ipywidgets>=7.0.0 in /home/jupyter/.local/lib/python3.8/site-packages (from pydeck>=0.1.dev5->streamlit->simpletransformers) (7.7.0)\n",
      "Collecting ipykernel>=5.1.2\n",
      "  Downloading ipykernel-5.1.4-py3-none-any.whl (116 kB)\n",
      "     |████████████████████████████████| 116 kB 88.8 MB/s            \n",
      "\u001b[?25hRequirement already satisfied: traitlets>=4.3.2 in /kernel/lib/python3.8/site-packages (from pydeck>=0.1.dev5->streamlit->simpletransformers) (5.1.1)\n",
      "Requirement already satisfied: aiosignal>=1.1.2 in /usr/local/lib/python3.8/dist-packages (from aiohttp->datasets->simpletransformers) (1.2.0)\n",
      "Requirement already satisfied: frozenlist>=1.1.1 in /usr/local/lib/python3.8/dist-packages (from aiohttp->datasets->simpletransformers) (1.2.0)\n",
      "Requirement already satisfied: multidict<7.0,>=4.5 in /usr/local/lib/python3.8/dist-packages (from aiohttp->datasets->simpletransformers) (5.2.0)\n",
      "Requirement already satisfied: charset-normalizer<3.0,>=2.0 in /usr/local/lib/python3.8/dist-packages (from aiohttp->datasets->simpletransformers) (2.0.9)\n",
      "Requirement already satisfied: async-timeout<5.0,>=4.0.0a3 in /usr/local/lib/python3.8/dist-packages (from aiohttp->datasets->simpletransformers) (4.0.2)\n",
      "Requirement already satisfied: yarl<2.0,>=1.0 in /usr/local/lib/python3.8/dist-packages (from aiohttp->datasets->simpletransformers) (1.7.2)\n",
      "Collecting backports.zoneinfo\n",
      "  Downloading backports.zoneinfo-0.2.1-cp38-cp38-manylinux1_x86_64.whl (74 kB)\n",
      "     |████████████████████████████████| 74 kB 4.2 MB/s             \n",
      "\u001b[?25hCollecting pytz-deprecation-shim\n",
      "  Downloading pytz_deprecation_shim-0.1.0.post0-py2.py3-none-any.whl (15 kB)\n",
      "Requirement already satisfied: decorator>=3.4.0 in /kernel/lib/python3.8/site-packages (from validators->streamlit->simpletransformers) (5.1.1)\n",
      "Requirement already satisfied: smmap<6,>=3.0.1 in /home/jupyter/.local/lib/python3.8/site-packages (from gitdb<5,>=4.0.1->GitPython>=1.0.0->wandb>=0.10.32->simpletransformers) (5.0.0)\n",
      "Requirement already satisfied: jupyter-client in /kernel/lib/python3.8/site-packages (from ipykernel>=5.1.2->pydeck>=0.1.dev5->streamlit->simpletransformers) (6.1.12)\n",
      "Collecting ipython>=5.0.0\n",
      "  Downloading ipython-7.13.0-py3-none-any.whl (780 kB)\n",
      "     |████████████████████████████████| 780 kB 89.1 MB/s            \n",
      "\u001b[?25hRequirement already satisfied: jupyterlab-widgets>=1.0.0 in /home/jupyter/.local/lib/python3.8/site-packages (from ipywidgets>=7.0.0->pydeck>=0.1.dev5->streamlit->simpletransformers) (1.1.0)\n",
      "Requirement already satisfied: ipython-genutils~=0.2.0 in /kernel/lib/python3.8/site-packages (from ipywidgets>=7.0.0->pydeck>=0.1.dev5->streamlit->simpletransformers) (0.2.0)\n",
      "Requirement already satisfied: nbformat>=4.2.0 in /kernel/lib/python3.8/site-packages (from ipywidgets>=7.0.0->pydeck>=0.1.dev5->streamlit->simpletransformers) (5.3.0)\n",
      "Requirement already satisfied: widgetsnbextension~=3.6.0 in /home/jupyter/.local/lib/python3.8/site-packages (from ipywidgets>=7.0.0->pydeck>=0.1.dev5->streamlit->simpletransformers) (3.6.0)\n",
      "Requirement already satisfied: MarkupSafe>=2.0 in /kernel/lib/python3.8/site-packages (from jinja2->altair>=3.2.0->streamlit->simpletransformers) (2.1.1)\n",
      "Requirement already satisfied: pyrsistent!=0.17.0,!=0.17.1,!=0.17.2,>=0.14.0 in /kernel/lib/python3.8/site-packages (from jsonschema>=3.0->altair>=3.2.0->streamlit->simpletransformers) (0.18.1)\n",
      "Requirement already satisfied: importlib-resources>=1.4.0 in /kernel/lib/python3.8/site-packages (from jsonschema>=3.0->altair>=3.2.0->streamlit->simpletransformers) (5.7.1)\n",
      "Requirement already satisfied: pyasn1<0.5.0,>=0.4.6 in /usr/local/lib/python3.8/dist-packages (from pyasn1-modules>=0.2.1->google-auth<2,>=1.6.3->tensorboard->simpletransformers) (0.4.8)\n",
      "Requirement already satisfied: oauthlib>=3.0.0 in /usr/local/lib/python3.8/dist-packages (from requests-oauthlib>=0.7.0->google-auth-oauthlib<0.5,>=0.4.1->tensorboard->simpletransformers) (3.1.1)\n",
      "Collecting tzdata\n",
      "  Downloading tzdata-2022.1-py2.py3-none-any.whl (339 kB)\n",
      "     |████████████████████████████████| 339 kB 59.1 MB/s            \n",
      "\u001b[?25hRequirement already satisfied: backcall in /kernel/lib/python3.8/site-packages (from ipython>=5.0.0->ipykernel>=5.1.2->pydeck>=0.1.dev5->streamlit->simpletransformers) (0.2.0)\n",
      "Requirement already satisfied: jedi>=0.10 in /kernel/lib/python3.8/site-packages (from ipython>=5.0.0->ipykernel>=5.1.2->pydeck>=0.1.dev5->streamlit->simpletransformers) (0.17.2)\n",
      "Requirement already satisfied: prompt-toolkit!=3.0.0,!=3.0.1,<3.1.0,>=2.0.0 in /kernel/lib/python3.8/site-packages (from ipython>=5.0.0->ipykernel>=5.1.2->pydeck>=0.1.dev5->streamlit->simpletransformers) (3.0.29)\n",
      "Requirement already satisfied: pickleshare in /kernel/lib/python3.8/site-packages (from ipython>=5.0.0->ipykernel>=5.1.2->pydeck>=0.1.dev5->streamlit->simpletransformers) (0.7.5)\n",
      "Requirement already satisfied: pexpect in /kernel/lib/python3.8/site-packages (from ipython>=5.0.0->ipykernel>=5.1.2->pydeck>=0.1.dev5->streamlit->simpletransformers) (4.8.0)\n",
      "Requirement already satisfied: pygments in /kernel/lib/python3.8/site-packages (from ipython>=5.0.0->ipykernel>=5.1.2->pydeck>=0.1.dev5->streamlit->simpletransformers) (2.12.0)\n",
      "Requirement already satisfied: fastjsonschema in /kernel/lib/python3.8/site-packages (from nbformat>=4.2.0->ipywidgets>=7.0.0->pydeck>=0.1.dev5->streamlit->simpletransformers) (2.15.3)\n",
      "Requirement already satisfied: jupyter-core in /kernel/lib/python3.8/site-packages (from nbformat>=4.2.0->ipywidgets>=7.0.0->pydeck>=0.1.dev5->streamlit->simpletransformers) (4.10.0)\n",
      "Collecting notebook>=4.4.1\n",
      "  Downloading notebook-6.1.1-py3-none-any.whl (9.4 MB)\n",
      "     |████████████████████████████████| 9.4 MB 73.7 MB/s            \n",
      "\u001b[?25hRequirement already satisfied: pyzmq>=13 in /kernel/lib/python3.8/site-packages (from jupyter-client->ipykernel>=5.1.2->pydeck>=0.1.dev5->streamlit->simpletransformers) (22.3.0)\n",
      "Requirement already satisfied: parso<0.8.0,>=0.7.0 in /kernel/lib/python3.8/site-packages (from jedi>=0.10->ipython>=5.0.0->ipykernel>=5.1.2->pydeck>=0.1.dev5->streamlit->simpletransformers) (0.7.1)\n",
      "Requirement already satisfied: prometheus-client in /kernel/lib/python3.8/site-packages (from notebook>=4.4.1->widgetsnbextension~=3.6.0->ipywidgets>=7.0.0->pydeck>=0.1.dev5->streamlit->simpletransformers) (0.14.1)\n",
      "Requirement already satisfied: terminado>=0.8.3 in /kernel/lib/python3.8/site-packages (from notebook>=4.4.1->widgetsnbextension~=3.6.0->ipywidgets>=7.0.0->pydeck>=0.1.dev5->streamlit->simpletransformers) (0.13.3)\n",
      "Requirement already satisfied: nbconvert in /kernel/lib/python3.8/site-packages (from notebook>=4.4.1->widgetsnbextension~=3.6.0->ipywidgets>=7.0.0->pydeck>=0.1.dev5->streamlit->simpletransformers) (6.5.0)\n",
      "Requirement already satisfied: argon2-cffi in /kernel/lib/python3.8/site-packages (from notebook>=4.4.1->widgetsnbextension~=3.6.0->ipywidgets>=7.0.0->pydeck>=0.1.dev5->streamlit->simpletransformers) (21.3.0)\n",
      "Requirement already satisfied: Send2Trash in /kernel/lib/python3.8/site-packages (from notebook>=4.4.1->widgetsnbextension~=3.6.0->ipywidgets>=7.0.0->pydeck>=0.1.dev5->streamlit->simpletransformers) (1.8.0)\n",
      "Requirement already satisfied: wcwidth in /kernel/lib/python3.8/site-packages (from prompt-toolkit!=3.0.0,!=3.0.1,<3.1.0,>=2.0.0->ipython>=5.0.0->ipykernel>=5.1.2->pydeck>=0.1.dev5->streamlit->simpletransformers) (0.2.5)\n",
      "Requirement already satisfied: ptyprocess>=0.5 in /kernel/lib/python3.8/site-packages (from pexpect->ipython>=5.0.0->ipykernel>=5.1.2->pydeck>=0.1.dev5->streamlit->simpletransformers) (0.7.0)\n",
      "Requirement already satisfied: argon2-cffi-bindings in /kernel/lib/python3.8/site-packages (from argon2-cffi->notebook>=4.4.1->widgetsnbextension~=3.6.0->ipywidgets>=7.0.0->pydeck>=0.1.dev5->streamlit->simpletransformers) (21.2.0)\n",
      "Requirement already satisfied: nbclient>=0.5.0 in /kernel/lib/python3.8/site-packages (from nbconvert->notebook>=4.4.1->widgetsnbextension~=3.6.0->ipywidgets>=7.0.0->pydeck>=0.1.dev5->streamlit->simpletransformers) (0.6.0)\n",
      "Requirement already satisfied: pandocfilters>=1.4.1 in /kernel/lib/python3.8/site-packages (from nbconvert->notebook>=4.4.1->widgetsnbextension~=3.6.0->ipywidgets>=7.0.0->pydeck>=0.1.dev5->streamlit->simpletransformers) (1.5.0)\n",
      "Requirement already satisfied: defusedxml in /kernel/lib/python3.8/site-packages (from nbconvert->notebook>=4.4.1->widgetsnbextension~=3.6.0->ipywidgets>=7.0.0->pydeck>=0.1.dev5->streamlit->simpletransformers) (0.7.1)\n",
      "Requirement already satisfied: bleach in /kernel/lib/python3.8/site-packages (from nbconvert->notebook>=4.4.1->widgetsnbextension~=3.6.0->ipywidgets>=7.0.0->pydeck>=0.1.dev5->streamlit->simpletransformers) (5.0.0)\n",
      "Requirement already satisfied: jupyterlab-pygments in /kernel/lib/python3.8/site-packages (from nbconvert->notebook>=4.4.1->widgetsnbextension~=3.6.0->ipywidgets>=7.0.0->pydeck>=0.1.dev5->streamlit->simpletransformers) (0.2.2)\n",
      "Requirement already satisfied: tinycss2 in /kernel/lib/python3.8/site-packages (from nbconvert->notebook>=4.4.1->widgetsnbextension~=3.6.0->ipywidgets>=7.0.0->pydeck>=0.1.dev5->streamlit->simpletransformers) (1.1.1)\n",
      "Requirement already satisfied: mistune<2,>=0.8.1 in /kernel/lib/python3.8/site-packages (from nbconvert->notebook>=4.4.1->widgetsnbextension~=3.6.0->ipywidgets>=7.0.0->pydeck>=0.1.dev5->streamlit->simpletransformers) (0.8.4)\n",
      "Requirement already satisfied: beautifulsoup4 in /kernel/lib/python3.8/site-packages (from nbconvert->notebook>=4.4.1->widgetsnbextension~=3.6.0->ipywidgets>=7.0.0->pydeck>=0.1.dev5->streamlit->simpletransformers) (4.11.1)\n",
      "Requirement already satisfied: nest-asyncio in /kernel/lib/python3.8/site-packages (from nbclient>=0.5.0->nbconvert->notebook>=4.4.1->widgetsnbextension~=3.6.0->ipywidgets>=7.0.0->pydeck>=0.1.dev5->streamlit->simpletransformers) (1.5.5)\n",
      "Requirement already satisfied: cffi>=1.0.1 in /kernel/lib/python3.8/site-packages (from argon2-cffi-bindings->argon2-cffi->notebook>=4.4.1->widgetsnbextension~=3.6.0->ipywidgets>=7.0.0->pydeck>=0.1.dev5->streamlit->simpletransformers) (1.15.0)\n",
      "Requirement already satisfied: soupsieve>1.2 in /kernel/lib/python3.8/site-packages (from beautifulsoup4->nbconvert->notebook>=4.4.1->widgetsnbextension~=3.6.0->ipywidgets>=7.0.0->pydeck>=0.1.dev5->streamlit->simpletransformers) (2.3.2.post1)\n",
      "Requirement already satisfied: webencodings in /kernel/lib/python3.8/site-packages (from bleach->nbconvert->notebook>=4.4.1->widgetsnbextension~=3.6.0->ipywidgets>=7.0.0->pydeck>=0.1.dev5->streamlit->simpletransformers) (0.5.1)\n",
      "Requirement already satisfied: pycparser in /kernel/lib/python3.8/site-packages (from cffi>=1.0.1->argon2-cffi-bindings->argon2-cffi->notebook>=4.4.1->widgetsnbextension~=3.6.0->ipywidgets>=7.0.0->pydeck>=0.1.dev5->streamlit->simpletransformers) (2.21)\n",
      "Building wheels for collected packages: seqeval, blinker, validators\n",
      "  Building wheel for seqeval (setup.py) ... \u001b[?25ldone\n",
      "\u001b[?25h  Created wheel for seqeval: filename=seqeval-1.2.2-py3-none-any.whl size=16170 sha256=84eb3b9a59ade66c76c2609809ecfcfc335e3e1aa3b0ee8e45da45aa3a2f07f0\n",
      "  Stored in directory: /tmp/xdg_cache/pip/wheels/ad/5c/ba/05fa33fa5855777b7d686e843ec07452f22a66a138e290e732\n",
      "  Building wheel for blinker (setup.py) ... \u001b[?25ldone\n",
      "\u001b[?25h  Created wheel for blinker: filename=blinker-1.4-py3-none-any.whl size=13451 sha256=7afdc00a0bd40d8e5a60d0c6fb1aedd4b709866bac616c0d1efd9d05f37574b5\n",
      "  Stored in directory: /tmp/xdg_cache/pip/wheels/b7/a5/68/fe632054a5eadd531c7a49d740c50eb6adfbeca822b4eab8d4\n",
      "  Building wheel for validators (setup.py) ... \u001b[?25ldone\n",
      "\u001b[?25h  Created wheel for validators: filename=validators-0.19.0-py3-none-any.whl size=19538 sha256=b70bc88501d687d3cbf4976b5593367a4217ce835d79d05454479cb2ef70d5fd\n",
      "  Stored in directory: /tmp/xdg_cache/pip/wheels/44/50/f0/cb4b5b437aa8bb1f8417c877b27b0722d3f6b5f72f744fc8a3\n",
      "Successfully built seqeval blinker validators\n",
      "Installing collected packages: ipython, ipykernel, notebook, tzdata, backports.zoneinfo, tqdm, toolz, pytz-deprecation-shim, watchdog, validators, tzlocal, tokenizers, semver, pydeck, pyarrow, multiprocess, blinker, altair, transformers, streamlit, seqeval, datasets, simpletransformers\n",
      "\u001b[33m  WARNING: The scripts iptest, iptest3, ipython and ipython3 are installed in '/home/jupyter/.local/bin' which is not on PATH.\n",
      "  Consider adding this directory to PATH or, if you prefer to suppress this warning, use --no-warn-script-location.\u001b[0m\n",
      "\u001b[33m  WARNING: The scripts jupyter-bundlerextension, jupyter-nbextension, jupyter-notebook and jupyter-serverextension are installed in '/home/jupyter/.local/bin' which is not on PATH.\n",
      "  Consider adding this directory to PATH or, if you prefer to suppress this warning, use --no-warn-script-location.\u001b[0m\n",
      "\u001b[33m  WARNING: The script tqdm is installed in '/home/jupyter/.local/bin' which is not on PATH.\n",
      "  Consider adding this directory to PATH or, if you prefer to suppress this warning, use --no-warn-script-location.\u001b[0m\n",
      "\u001b[33m  WARNING: The script watchmedo is installed in '/home/jupyter/.local/bin' which is not on PATH.\n",
      "  Consider adding this directory to PATH or, if you prefer to suppress this warning, use --no-warn-script-location.\u001b[0m\n",
      "  Attempting uninstall: tokenizers\n",
      "    Found existing installation: tokenizers 0.9.3\n",
      "    Uninstalling tokenizers-0.9.3:\n",
      "      Successfully uninstalled tokenizers-0.9.3\n",
      "\u001b[33m  WARNING: The script pysemver is installed in '/home/jupyter/.local/bin' which is not on PATH.\n",
      "  Consider adding this directory to PATH or, if you prefer to suppress this warning, use --no-warn-script-location.\u001b[0m\n",
      "\u001b[33m  WARNING: The script plasma_store is installed in '/home/jupyter/.local/bin' which is not on PATH.\n",
      "  Consider adding this directory to PATH or, if you prefer to suppress this warning, use --no-warn-script-location.\u001b[0m\n",
      "  Attempting uninstall: transformers\n",
      "    Found existing installation: transformers 3.5.0\n",
      "    Uninstalling transformers-3.5.0:\n",
      "      Successfully uninstalled transformers-3.5.0\n",
      "\u001b[33m  WARNING: The script transformers-cli is installed in '/home/jupyter/.local/bin' which is not on PATH.\n",
      "  Consider adding this directory to PATH or, if you prefer to suppress this warning, use --no-warn-script-location.\u001b[0m\n",
      "\u001b[33m  WARNING: The script streamlit is installed in '/home/jupyter/.local/bin' which is not on PATH.\n",
      "  Consider adding this directory to PATH or, if you prefer to suppress this warning, use --no-warn-script-location.\u001b[0m\n",
      "\u001b[33m  WARNING: The script datasets-cli is installed in '/home/jupyter/.local/bin' which is not on PATH.\n",
      "  Consider adding this directory to PATH or, if you prefer to suppress this warning, use --no-warn-script-location.\u001b[0m\n",
      "\u001b[31mERROR: pip's dependency resolver does not currently take into account all the packages that are installed. This behaviour is the source of the following dependency conflicts.\n",
      "ipystate 0.0.1 requires pyarrow<=5.0.0,>=0.17.1, but you have pyarrow 8.0.0 which is incompatible.\n",
      "pytorch-lightning 1.5.10 requires setuptools==59.5.0, but you have setuptools 51.0.0 which is incompatible.\n",
      "kaggle 1.5.8 requires urllib3<1.25,>=1.21.1, but you have urllib3 1.26.9 which is incompatible.\n",
      "cloud-ml 0.0.1 requires tqdm<=4.54.1,>=4.45.0, but you have tqdm 4.64.0 which is incompatible.\u001b[0m\n",
      "Successfully installed altair-4.2.0 backports.zoneinfo-0.2.1 blinker-1.4 datasets-2.2.1 ipykernel-5.1.4 ipython-7.13.0 multiprocess-0.70.12.2 notebook-6.1.1 pyarrow-8.0.0 pydeck-0.7.1 pytz-deprecation-shim-0.1.0.post0 semver-2.13.0 seqeval-1.2.2 simpletransformers-0.63.6 streamlit-1.9.0 tokenizers-0.12.1 toolz-0.11.2 tqdm-4.64.0 transformers-4.19.1 tzdata-2022.1 tzlocal-4.2 validators-0.19.0 watchdog-2.1.8\n",
      "\u001b[33mWARNING: You are using pip version 21.3.1; however, version 22.1 is available.\n",
      "You should consider upgrading via the '/usr/local/bin/python3 -m pip install --upgrade pip' command.\u001b[0m\n",
      "Defaulting to user installation because normal site-packages is not writeable\n",
      "Requirement already satisfied: pympi-ling in /home/jupyter/.local/lib/python3.8/site-packages (1.70.2)\n",
      "\u001b[33mWARNING: You are using pip version 21.3.1; however, version 22.1 is available.\n",
      "You should consider upgrading via the '/usr/local/bin/python3 -m pip install --upgrade pip' command.\u001b[0m\n",
      "Defaulting to user installation because normal site-packages is not writeable\n",
      "Requirement already satisfied: razdel in /home/jupyter/.local/lib/python3.8/site-packages (0.5.0)\n",
      "\u001b[33mWARNING: You are using pip version 21.3.1; however, version 22.1 is available.\n",
      "You should consider upgrading via the '/usr/local/bin/python3 -m pip install --upgrade pip' command.\u001b[0m\n"
     ]
    }
   ],
   "source": [
    "#!g1.1\n",
    "%pip install transformers sentencepiece\n",
    "%pip install simpletransformers\n",
    "%pip install pympi-ling\n",
    "%pip install razdel"
   ]
  },
  {
   "cell_type": "code",
   "execution_count": 2,
   "metadata": {
    "cellId": "a4ajvsmtbv42e44uyear8q",
    "collapsed": true,
    "id": "DztWYXch6Hqu",
    "jupyter": {
     "outputs_hidden": true
    }
   },
   "outputs": [
    {
     "name": "stdout",
     "output_type": "stream",
     "text": [
      "Defaulting to user installation because normal site-packages is not writeable\n",
      "Collecting torchtext\n",
      "  Downloading torchtext-0.12.0-cp38-cp38-manylinux1_x86_64.whl (10.4 MB)\n",
      "     |████████████████████████████████| 10.4 MB 3.3 MB/s            \n",
      "\u001b[?25hRequirement already satisfied: requests in /kernel/lib/python3.8/site-packages (from torchtext) (2.25.1)\n",
      "Requirement already satisfied: tqdm in /home/jupyter/.local/lib/python3.8/site-packages (from torchtext) (4.64.0)\n",
      "Requirement already satisfied: numpy in /kernel/fallback/lib/python3.8/site-packages (from torchtext) (1.19.4)\n",
      "Collecting torch==1.11.0\n",
      "  Downloading torch-1.11.0-cp38-cp38-manylinux1_x86_64.whl (750.6 MB)\n",
      "     |████████████████████████████████| 750.6 MB 5.9 kB/s              \n",
      "\u001b[?25hRequirement already satisfied: typing-extensions in /usr/local/lib/python3.8/dist-packages (from torch==1.11.0->torchtext) (3.7.4.3)\n",
      "Requirement already satisfied: urllib3<1.27,>=1.21.1 in /kernel/lib/python3.8/site-packages (from requests->torchtext) (1.26.9)\n",
      "Requirement already satisfied: certifi>=2017.4.17 in /kernel/lib/python3.8/site-packages (from requests->torchtext) (2021.10.8)\n",
      "Requirement already satisfied: idna<3,>=2.5 in /kernel/lib/python3.8/site-packages (from requests->torchtext) (2.10)\n",
      "Requirement already satisfied: chardet<5,>=3.0.2 in /kernel/lib/python3.8/site-packages (from requests->torchtext) (4.0.0)\n",
      "Installing collected packages: torch, torchtext\n",
      "  Attempting uninstall: torch\n",
      "    Found existing installation: torch 1.7.0\n",
      "    Uninstalling torch-1.7.0:\n",
      "      Successfully uninstalled torch-1.7.0\n",
      "\u001b[33m  WARNING: The scripts convert-caffe2-to-onnx, convert-onnx-to-caffe2 and torchrun are installed in '/home/jupyter/.local/bin' which is not on PATH.\n",
      "  Consider adding this directory to PATH or, if you prefer to suppress this warning, use --no-warn-script-location.\u001b[0m\n",
      "\u001b[31mERROR: pip's dependency resolver does not currently take into account all the packages that are installed. This behaviour is the source of the following dependency conflicts.\n",
      "pytorch-lightning 1.5.10 requires setuptools==59.5.0, but you have setuptools 51.0.0 which is incompatible.\n",
      "torchvision 0.10.1+cu111 requires torch==1.9.1, but you have torch 1.11.0 which is incompatible.\n",
      "torchaudio 0.9.1 requires torch==1.9.1, but you have torch 1.11.0 which is incompatible.\u001b[0m\n",
      "Successfully installed torch-1.11.0 torchtext-0.12.0\n",
      "\u001b[33mWARNING: You are using pip version 21.3.1; however, version 22.1 is available.\n",
      "You should consider upgrading via the '/usr/local/bin/python3 -m pip install --upgrade pip' command.\u001b[0m\n"
     ]
    }
   ],
   "source": [
    "#!g1.1\n",
    "%pip install torchtext"
   ]
  },
  {
   "cell_type": "code",
   "execution_count": null,
   "metadata": {
    "cellId": "d9q6eci7m09loylfck8i2",
    "id": "VCAEbruZ4_7q"
   },
   "outputs": [],
   "source": [
    "#!unzip Разметки.zip"
   ]
  },
  {
   "cell_type": "code",
   "execution_count": 1,
   "metadata": {
    "cellId": "i4v1ymc6e0cdaxnq51ia5g",
    "id": "IuVga8104hn2"
   },
   "outputs": [],
   "source": [
    "#!g1.1\n",
    "import pandas as pd\n",
    "import numpy as np\n",
    "import pympi\n",
    "from razdel import tokenize\n",
    "from sklearn.model_selection import train_test_split\n",
    "#from torchtext.legacy import data\n",
    "import torchtext.vocab as vocab\n",
    "import torch"
   ]
  },
  {
   "cell_type": "code",
   "execution_count": 2,
   "metadata": {
    "cellId": "5uen5fxfr0obtsv8fdgdyi",
    "colab": {
     "base_uri": "https://localhost:8080/"
    },
    "id": "05QoIHotCH7v",
    "outputId": "f082aa05-7c73-4b44-d137-52b2167b63f3"
   },
   "outputs": [
    {
     "data": {
      "text/plain": [
       "True"
      ]
     },
     "execution_count": 2,
     "metadata": {},
     "output_type": "execute_result"
    }
   ],
   "source": [
    "#!g1.1\n",
    "# check if cuda is on\n",
    "torch.cuda.is_available()\n",
    "# Output would be True if Pytorch is using GPU otherwise it would be False"
   ]
  },
  {
   "cell_type": "markdown",
   "metadata": {
    "cellId": "ohdahk0i82b3v01raun08g",
    "id": "-wQ07DFv4yn2"
   },
   "source": [
    "## Загрузка данных"
   ]
  },
  {
   "cell_type": "markdown",
   "metadata": {
    "cellId": "2hx5v1mffvrehd6h83rxhs",
    "id": "jqyTT9cU42yd"
   },
   "source": [
    "Загружаем данные, потом делим их на трейн и тест и сохраняем в соответствующие два файла"
   ]
  },
  {
   "cell_type": "code",
   "execution_count": 2,
   "metadata": {
    "cellId": "53slbi8rhhpaebf7uoh4yk"
   },
   "outputs": [],
   "source": [
    "#!g1.1\n",
    "import re\n",
    "import json\n",
    "import pymystem3\n",
    "import os, sys\n",
    "sys.path.append('../')\n",
    "from argparse import Namespace\n",
    "\n",
    "from pyeaf.pyeaf import EAFReader\n",
    "from pyeaf.text import VocabularyVectorizer, TextStemmer, RSLStemmer, GramBinarizer"
   ]
  },
  {
   "cell_type": "code",
   "execution_count": 105,
   "metadata": {
    "cellId": "mpurseapbgmpeo77jtz6pe",
    "id": "qRZ0RiT35N1E"
   },
   "outputs": [],
   "source": [
    "\"\"\"\n",
    "def save_data(train, test, format_save=\"csv\"):\n",
    "    # Save rsl_sentences and rus_sentences to csv or json\n",
    "    if format_save == 'json':\n",
    "        with open('train.json', 'w', encoding='utf-8') as file:\n",
    "            train.to_json(file, orient='records', lines=True, force_ascii=False)\n",
    "        with open('test.json', 'w', encoding='utf-8') as file:\n",
    "            test.to_json(file, orient='records', lines=True, force_ascii=False)\n",
    "    elif format_save == 'csv':\n",
    "        with open('train.csv', 'w', encoding='utf-8') as file:\n",
    "            train.to_csv(file, index=False)\n",
    "        with open('test.csv', 'w', encoding='utf-8') as file:\n",
    "            test.to_csv(file, index=False)\n",
    "\"\"\""
   ]
  },
  {
   "cell_type": "markdown",
   "metadata": {
    "cellId": "9nw91sx6e6jy354g5jf13a"
   },
   "source": [
    "### Take replacements_less_repeat and sv\\svo data in proportion 70/30"
   ]
  },
  {
   "cell_type": "markdown",
   "metadata": {
    "cellId": "7z0hgjy1beqomtrzivocpg"
   },
   "source": [
    "### Load replacements data"
   ]
  },
  {
   "cell_type": "code",
   "execution_count": 3,
   "metadata": {
    "cellId": "2gxemu9tn8q1d24mqnzzom"
   },
   "outputs": [],
   "source": [
    "#!g1.1\n",
    "generated_data = pd.read_csv('generated_stemed_less_repetitions.csv', encoding='utf-8')\n",
    "\n",
    "generated_data['stem_rus'] = generated_data['new_stem_sent_rus'].apply(lambda sent: sent.strip('[]\\'').split('\\', \\''))\n",
    "generated_data['rsl'] = generated_data['new_stem_rsl'].apply(lambda sent: sent.strip('[]\\'').split('\\', \\''))\n",
    "generated_data['gram_rus'] = generated_data['new_gram_sent_rus'].apply(lambda sent: json.loads(sent.replace('\\'', '\\\"')))"
   ]
  },
  {
   "cell_type": "code",
   "execution_count": 4,
   "metadata": {
    "cellId": "a4472ljn1g545qjr382iic"
   },
   "outputs": [],
   "source": [
    "#!g1.1\n",
    "for index, row in generated_data.iterrows():\n",
    "    if row['rsl'] == ['']:\n",
    "        generated_data.drop(index, inplace=True)"
   ]
  },
  {
   "cell_type": "code",
   "execution_count": 5,
   "metadata": {
    "cellId": "0388eoxioexy1csy2znau86"
   },
   "outputs": [],
   "source": [
    "#!g1.1\n",
    "test_data = pd.read_csv('test_data.csv', encoding='utf-8')\n",
    "\n",
    "test_data['stem_rus'] = test_data['test_stem_rus'].apply(lambda sent: sent.strip('[]\\'').split('\\', \\''))\n",
    "test_data['rsl'] = test_data['test_rsl'].apply(lambda sent: sent.strip('[]\\'').split('\\', \\''))\n",
    "test_data['gram_rus'] = test_data['test_gram_rus'].apply(lambda sent: json.loads(sent.replace('\\'', '\\\"')))"
   ]
  },
  {
   "cell_type": "code",
   "execution_count": 6,
   "metadata": {
    "cellId": "e5mgjc2rngm43lzxvfh4vi"
   },
   "outputs": [],
   "source": [
    "#!g1.1\n",
    "for index, row in test_data.iterrows():\n",
    "    if row['rsl'] == ['']:\n",
    "        test_data.drop(index, inplace=True)"
   ]
  },
  {
   "cell_type": "code",
   "execution_count": 7,
   "metadata": {
    "cellId": "hok4hrj8y3skomaalzw1p"
   },
   "outputs": [
    {
     "data": {
      "text/html": [
       "<div>\n",
       "<style scoped>\n",
       "    .dataframe tbody tr th:only-of-type {\n",
       "        vertical-align: middle;\n",
       "    }\n",
       "\n",
       "    .dataframe tbody tr th {\n",
       "        vertical-align: top;\n",
       "    }\n",
       "\n",
       "    .dataframe thead th {\n",
       "        text-align: right;\n",
       "    }\n",
       "</style>\n",
       "<table border=\"1\" class=\"dataframe\">\n",
       "  <thead>\n",
       "    <tr style=\"text-align: right;\">\n",
       "      <th></th>\n",
       "      <th>new_stem_sent_rus</th>\n",
       "      <th>new_gram_sent_rus</th>\n",
       "      <th>new_stem_rsl</th>\n",
       "      <th>stem_rus</th>\n",
       "      <th>rsl</th>\n",
       "      <th>gram_rus</th>\n",
       "    </tr>\n",
       "  </thead>\n",
       "  <tbody>\n",
       "    <tr>\n",
       "      <th>10511</th>\n",
       "      <td>['скитаться', 'бездельничать', 'вмешиваться', ...</td>\n",
       "      <td>[['V', 'инф', 'несов', 'нп'], ['V', 'инф', 'не...</td>\n",
       "      <td>['скитаться', 'бездельничать', 'вмешиваться', ...</td>\n",
       "      <td>[скитаться, бездельничать, вмешиваться, и, я, ...</td>\n",
       "      <td>[скитаться, бездельничать, вмешиваться, говори...</td>\n",
       "      <td>[[V, инф, несов, нп], [V, инф, несов, нп], [CO...</td>\n",
       "    </tr>\n",
       "    <tr>\n",
       "      <th>10513</th>\n",
       "      <td>['сестра', 'быть', 'танцевать', 'с', 'принц', ...</td>\n",
       "      <td>[['од', 'им', 'ед', 'род', 'мн', 'жен', 'S'], ...</td>\n",
       "      <td>['сестра', 'двое', 'будет', 'танцевать', 'вмес...</td>\n",
       "      <td>[сестра, быть, танцевать, с, принц, а, обо, я,...</td>\n",
       "      <td>[сестра, двое, будет, танцевать, вместе2, прин...</td>\n",
       "      <td>[[од, им, ед, род, мн, жен, S], [изъяв, непрош...</td>\n",
       "    </tr>\n",
       "    <tr>\n",
       "      <th>10514</th>\n",
       "      <td>['героиня', 'клип', 'возвращаться', 'подтвержд...</td>\n",
       "      <td>[['од', 'им', 'ед', 'жен', 'S'], ['V', 'инф', ...</td>\n",
       "      <td>['героиня', 'клип', 'возвращаться', 'будет', '...</td>\n",
       "      <td>[героиня, клип, возвращаться, подтверждать, с,...</td>\n",
       "      <td>[героиня, клип, возвращаться, будет, подтвержд...</td>\n",
       "      <td>[[од, им, ед, жен, S], [V, инф, несов, нп], [V...</td>\n",
       "    </tr>\n",
       "    <tr>\n",
       "      <th>10515</th>\n",
       "      <td>['мамка', 'жучок', 'умирать', 'измерять', 'с',...</td>\n",
       "      <td>[['од', 'им', 'ед', 'жен', 'S'], ['V', 'инф', ...</td>\n",
       "      <td>['мамка', 'жучок', 'умирать', 'будет', 'измеря...</td>\n",
       "      <td>[мамка, жучок, умирать, измерять, с, сын, три,...</td>\n",
       "      <td>[мамка, жучок, умирать, будет, измерять, вмест...</td>\n",
       "      <td>[[од, им, ед, жен, S], [V, инф, нп, сов], [V, ...</td>\n",
       "    </tr>\n",
       "    <tr>\n",
       "      <th>10516</th>\n",
       "      <td>['племянница', 'доминировать', 'ударять', 'с',...</td>\n",
       "      <td>[['од', 'им', 'ед', 'род', 'мн', 'жен', 'S'], ...</td>\n",
       "      <td>['племянница', 'доминировать', 'будет', 'ударя...</td>\n",
       "      <td>[племянница, доминировать, ударять, с, сотрудн...</td>\n",
       "      <td>[племянница, доминировать, будет, ударять, вме...</td>\n",
       "      <td>[[од, им, ед, род, мн, жен, S], [V, инф, несов...</td>\n",
       "    </tr>\n",
       "  </tbody>\n",
       "</table>\n",
       "</div>"
      ],
      "text/plain": [
       "                                       new_stem_sent_rus  \\\n",
       "10511  ['скитаться', 'бездельничать', 'вмешиваться', ...   \n",
       "10513  ['сестра', 'быть', 'танцевать', 'с', 'принц', ...   \n",
       "10514  ['героиня', 'клип', 'возвращаться', 'подтвержд...   \n",
       "10515  ['мамка', 'жучок', 'умирать', 'измерять', 'с',...   \n",
       "10516  ['племянница', 'доминировать', 'ударять', 'с',...   \n",
       "\n",
       "                                       new_gram_sent_rus  \\\n",
       "10511  [['V', 'инф', 'несов', 'нп'], ['V', 'инф', 'не...   \n",
       "10513  [['од', 'им', 'ед', 'род', 'мн', 'жен', 'S'], ...   \n",
       "10514  [['од', 'им', 'ед', 'жен', 'S'], ['V', 'инф', ...   \n",
       "10515  [['од', 'им', 'ед', 'жен', 'S'], ['V', 'инф', ...   \n",
       "10516  [['од', 'им', 'ед', 'род', 'мн', 'жен', 'S'], ...   \n",
       "\n",
       "                                            new_stem_rsl  \\\n",
       "10511  ['скитаться', 'бездельничать', 'вмешиваться', ...   \n",
       "10513  ['сестра', 'двое', 'будет', 'танцевать', 'вмес...   \n",
       "10514  ['героиня', 'клип', 'возвращаться', 'будет', '...   \n",
       "10515  ['мамка', 'жучок', 'умирать', 'будет', 'измеря...   \n",
       "10516  ['племянница', 'доминировать', 'будет', 'ударя...   \n",
       "\n",
       "                                                stem_rus  \\\n",
       "10511  [скитаться, бездельничать, вмешиваться, и, я, ...   \n",
       "10513  [сестра, быть, танцевать, с, принц, а, обо, я,...   \n",
       "10514  [героиня, клип, возвращаться, подтверждать, с,...   \n",
       "10515  [мамка, жучок, умирать, измерять, с, сын, три,...   \n",
       "10516  [племянница, доминировать, ударять, с, сотрудн...   \n",
       "\n",
       "                                                     rsl  \\\n",
       "10511  [скитаться, бездельничать, вмешиваться, говори...   \n",
       "10513  [сестра, двое, будет, танцевать, вместе2, прин...   \n",
       "10514  [героиня, клип, возвращаться, будет, подтвержд...   \n",
       "10515  [мамка, жучок, умирать, будет, измерять, вмест...   \n",
       "10516  [племянница, доминировать, будет, ударять, вме...   \n",
       "\n",
       "                                                gram_rus  \n",
       "10511  [[V, инф, несов, нп], [V, инф, несов, нп], [CO...  \n",
       "10513  [[од, им, ед, род, мн, жен, S], [изъяв, непрош...  \n",
       "10514  [[од, им, ед, жен, S], [V, инф, несов, нп], [V...  \n",
       "10515  [[од, им, ед, жен, S], [V, инф, нп, сов], [V, ...  \n",
       "10516  [[од, им, ед, род, мн, жен, S], [V, инф, несов...  "
      ]
     },
     "execution_count": 7,
     "metadata": {},
     "output_type": "execute_result"
    }
   ],
   "source": [
    "#!g1.1\n",
    "generated_data.tail()"
   ]
  },
  {
   "cell_type": "markdown",
   "metadata": {
    "cellId": "srqim6qx1lkcz5yi97qez",
    "id": "MB9_LSXN7UD4"
   },
   "source": [
    "Теперь мы можем настроить логгирование и загрузить модельку для русского вот отсюда:\n",
    "\n",
    "https://huggingface.co/cointegrated/rut5-small\n",
    "\n",
    "Я беру именно эту, потому что там только русский язык и моделька маленькая, значит, моя память это потянет."
   ]
  },
  {
   "cell_type": "code",
   "execution_count": 8,
   "metadata": {
    "cellId": "9xdi5hzb5fme691qwmtlji",
    "colab": {
     "base_uri": "https://localhost:8080/"
    },
    "id": "5qi0eJD-3Sh-",
    "outputId": "ed6c057b-ca4f-4ded-f6c7-a1b82d40ddfd"
   },
   "outputs": [
    {
     "data": {
      "application/vnd.jupyter.widget-view+json": {
       "model_id": "91c126e5a2af4091b5ed39a1d52dc1d7",
       "version_major": 2,
       "version_minor": 0
      },
      "text/plain": [
       "Downloading:   0%|          | 0.00/625k [00:00<?, ?B/s]"
      ]
     },
     "metadata": {},
     "output_type": "display_data"
    },
    {
     "data": {
      "application/vnd.jupyter.widget-view+json": {
       "model_id": "8ee50cc8b3334dadaeda64d09821354b",
       "version_major": 2,
       "version_minor": 0
      },
      "text/plain": [
       "Downloading:   0%|          | 0.00/98.0 [00:00<?, ?B/s]"
      ]
     },
     "metadata": {},
     "output_type": "display_data"
    },
    {
     "data": {
      "application/vnd.jupyter.widget-view+json": {
       "model_id": "f76d86ba1702422d9b2da7459a72c560",
       "version_major": 2,
       "version_minor": 0
      },
      "text/plain": [
       "Downloading:   0%|          | 0.00/1.76k [00:00<?, ?B/s]"
      ]
     },
     "metadata": {},
     "output_type": "display_data"
    },
    {
     "data": {
      "application/vnd.jupyter.widget-view+json": {
       "model_id": "2a67dd83bc304dd6a53681ac1ec54399",
       "version_major": 2,
       "version_minor": 0
      },
      "text/plain": [
       "Downloading:   0%|          | 0.00/666 [00:00<?, ?B/s]"
      ]
     },
     "metadata": {},
     "output_type": "display_data"
    },
    {
     "data": {
      "text/plain": [
       "9"
      ]
     },
     "execution_count": 8,
     "metadata": {},
     "output_type": "execute_result"
    }
   ],
   "source": [
    "#!g1.1\n",
    "import logging\n",
    "#from simpletransformers.t5 import T5Model, T5Args\n",
    "from transformers import T5ForConditionalGeneration, T5Tokenizer\n",
    "\n",
    "logging.basicConfig(level=logging.INFO)\n",
    "transformers_logger = logging.getLogger(\"transformers\")\n",
    "transformers_logger.setLevel(logging.WARNING)\n",
    "\n",
    "tokenizer = T5Tokenizer.from_pretrained(\"cointegrated/rut5-small\")\n",
    "tokenizer.add_special_tokens({'additional_special_tokens': [\"clf\", \"poss\", \"sg\", \"<nums>\", \"<dact>\", \"1ps\", \"2ps\", \"3ps\", \"indx\", \"pl\"]})\n",
    "#model = T5ForConditionalGeneration.from_pretrained(\"cointegrated/rut5-small\")"
   ]
  },
  {
   "cell_type": "markdown",
   "metadata": {
    "cellId": "ami4j1oq9oj0b1h4b91uai",
    "id": "5cDDH57a7kY-"
   },
   "source": [
    "Теперь достаем данные снова"
   ]
  },
  {
   "cell_type": "code",
   "execution_count": 8,
   "metadata": {
    "cellId": "rf7vuqc3jz4xni22q1boo"
   },
   "outputs": [],
   "source": [
    "#!g1.1\n",
    "generated_data['input_text'] = generated_data['stem_rus'].apply(' '.join)\n",
    "generated_data['target_text'] = generated_data['rsl'].apply(' '.join)"
   ]
  },
  {
   "cell_type": "code",
   "execution_count": 9,
   "metadata": {
    "cellId": "ty6r1gvg2xbhp854sb7k4"
   },
   "outputs": [],
   "source": [
    "#!g1.1\n",
    "test_data['input_text'] = test_data['stem_rus'].apply(' '.join)\n",
    "test_data['target_text'] = test_data['rsl'].apply(' '.join)"
   ]
  },
  {
   "cell_type": "code",
   "execution_count": 10,
   "metadata": {
    "cellId": "guu79wcnvyswyx6tp0xyu"
   },
   "outputs": [],
   "source": [
    "#!g1.1\n",
    "generated_data['prefix'] = ''\n",
    "test_data['prefix'] = ''"
   ]
  },
  {
   "cell_type": "code",
   "execution_count": 11,
   "metadata": {
    "cellId": "0m07gf145crixxm1eng46f"
   },
   "outputs": [
    {
     "data": {
      "text/html": [
       "<div>\n",
       "<style scoped>\n",
       "    .dataframe tbody tr th:only-of-type {\n",
       "        vertical-align: middle;\n",
       "    }\n",
       "\n",
       "    .dataframe tbody tr th {\n",
       "        vertical-align: top;\n",
       "    }\n",
       "\n",
       "    .dataframe thead th {\n",
       "        text-align: right;\n",
       "    }\n",
       "</style>\n",
       "<table border=\"1\" class=\"dataframe\">\n",
       "  <thead>\n",
       "    <tr style=\"text-align: right;\">\n",
       "      <th></th>\n",
       "      <th>test_stem_rus</th>\n",
       "      <th>test_gram_rus</th>\n",
       "      <th>test_rsl</th>\n",
       "      <th>stem_rus</th>\n",
       "      <th>rsl</th>\n",
       "      <th>gram_rus</th>\n",
       "      <th>input_text</th>\n",
       "      <th>target_text</th>\n",
       "      <th>prefix</th>\n",
       "    </tr>\n",
       "  </thead>\n",
       "  <tbody>\n",
       "    <tr>\n",
       "      <th>0</th>\n",
       "      <td>['а', 'когда', 'дед', 'мороз', 'вернуться', 'д...</td>\n",
       "      <td>[['CONJ'], ['CONJ'], ['им', 'мн', 'S', 'муж', ...</td>\n",
       "      <td>['indx', 'дед.мороз', 'clf', 'clf.группа', 'cl...</td>\n",
       "      <td>[а, когда, дед, мороз, вернуться, домой, мален...</td>\n",
       "      <td>[indx, дед.мороз, clf, clf.группа, clf.перемес...</td>\n",
       "      <td>[[CONJ], [CONJ], [им, мн, S, муж, од], [им, мн...</td>\n",
       "      <td>а когда дед мороз вернуться домой маленький де...</td>\n",
       "      <td>indx дед.мороз clf clf.группа clf.переместить ...</td>\n",
       "      <td></td>\n",
       "    </tr>\n",
       "    <tr>\n",
       "      <th>1</th>\n",
       "      <td>['а', 'мачеха', 'лишать', 'я', 'весь', 'радость']</td>\n",
       "      <td>[['CONJ'], ['им', 'S', 'од', 'жен', 'ед'], ['и...</td>\n",
       "      <td>['мама', 'второй', '3ps', 'все', 'радость', 'д...</td>\n",
       "      <td>[а, мачеха, лишать, я, весь, радость]</td>\n",
       "      <td>[мама, второй, 3ps, все, радость, давать, 1ps,...</td>\n",
       "      <td>[[CONJ], [им, S, од, жен, ед], [изъяв, V, пе, ...</td>\n",
       "      <td>а мачеха лишать я весь радость</td>\n",
       "      <td>мама второй 3ps все радость давать 1ps ноль</td>\n",
       "      <td></td>\n",
       "    </tr>\n",
       "    <tr>\n",
       "      <th>4</th>\n",
       "      <td>['зачем', 'я', 'хотеть', 'изменять', 'свой', '...</td>\n",
       "      <td>[['ADVPRO'], ['им', 'ед', '1-л', 'SPRO'], ['из...</td>\n",
       "      <td>['зачем', 'желание', 'изменение', 'все4', 'при...</td>\n",
       "      <td>[зачем, я, хотеть, изменять, свой, привычка, т...</td>\n",
       "      <td>[зачем, желание, изменение, все4, привычка, тр...</td>\n",
       "      <td>[[ADVPRO], [им, ед, 1-л, SPRO], [изъяв, V, пе,...</td>\n",
       "      <td>зачем я хотеть изменять свой привычка тратить ...</td>\n",
       "      <td>зачем желание изменение все4 привычка тратить ...</td>\n",
       "      <td></td>\n",
       "    </tr>\n",
       "    <tr>\n",
       "      <th>5</th>\n",
       "      <td>['оказываться', 'впервые', 'это', 'появляться'...</td>\n",
       "      <td>[['изъяв', 'V', '3-л', 'нп', 'несов', 'ед', 'н...</td>\n",
       "      <td>['америка', 'есть', 'poss', '3ps', '3ps', 'рас...</td>\n",
       "      <td>[оказываться, впервые, это, появляться, в, аме...</td>\n",
       "      <td>[америка, есть, poss, 3ps, 3ps, рассказ, 1ps, ...</td>\n",
       "      <td>[[изъяв, V, 3-л, нп, несов, ед, непрош], [ADV]...</td>\n",
       "      <td>оказываться впервые это появляться в америка</td>\n",
       "      <td>америка есть poss 3ps 3ps рассказ 1ps интересн...</td>\n",
       "      <td></td>\n",
       "    </tr>\n",
       "    <tr>\n",
       "      <th>6</th>\n",
       "      <td>['я', 'вчера', 'не', 'стирать', 'белье']</td>\n",
       "      <td>[['им', 'ед', '1-л', 'SPRO'], ['ADV'], ['PART'...</td>\n",
       "      <td>['1ps', 'вчера', 'стирать', '&lt;dact&gt;', 'не', 'б...</td>\n",
       "      <td>[я, вчера, не, стирать, белье]</td>\n",
       "      <td>[1ps, вчера, стирать, &lt;dact&gt;, не, был]</td>\n",
       "      <td>[[им, ед, 1-л, SPRO], [ADV], [PART], [изъяв, V...</td>\n",
       "      <td>я вчера не стирать белье</td>\n",
       "      <td>1ps вчера стирать &lt;dact&gt; не был</td>\n",
       "      <td></td>\n",
       "    </tr>\n",
       "  </tbody>\n",
       "</table>\n",
       "</div>"
      ],
      "text/plain": [
       "                                       test_stem_rus  \\\n",
       "0  ['а', 'когда', 'дед', 'мороз', 'вернуться', 'д...   \n",
       "1  ['а', 'мачеха', 'лишать', 'я', 'весь', 'радость']   \n",
       "4  ['зачем', 'я', 'хотеть', 'изменять', 'свой', '...   \n",
       "5  ['оказываться', 'впервые', 'это', 'появляться'...   \n",
       "6           ['я', 'вчера', 'не', 'стирать', 'белье']   \n",
       "\n",
       "                                       test_gram_rus  \\\n",
       "0  [['CONJ'], ['CONJ'], ['им', 'мн', 'S', 'муж', ...   \n",
       "1  [['CONJ'], ['им', 'S', 'од', 'жен', 'ед'], ['и...   \n",
       "4  [['ADVPRO'], ['им', 'ед', '1-л', 'SPRO'], ['из...   \n",
       "5  [['изъяв', 'V', '3-л', 'нп', 'несов', 'ед', 'н...   \n",
       "6  [['им', 'ед', '1-л', 'SPRO'], ['ADV'], ['PART'...   \n",
       "\n",
       "                                            test_rsl  \\\n",
       "0  ['indx', 'дед.мороз', 'clf', 'clf.группа', 'cl...   \n",
       "1  ['мама', 'второй', '3ps', 'все', 'радость', 'д...   \n",
       "4  ['зачем', 'желание', 'изменение', 'все4', 'при...   \n",
       "5  ['америка', 'есть', 'poss', '3ps', '3ps', 'рас...   \n",
       "6  ['1ps', 'вчера', 'стирать', '<dact>', 'не', 'б...   \n",
       "\n",
       "                                            stem_rus  \\\n",
       "0  [а, когда, дед, мороз, вернуться, домой, мален...   \n",
       "1              [а, мачеха, лишать, я, весь, радость]   \n",
       "4  [зачем, я, хотеть, изменять, свой, привычка, т...   \n",
       "5  [оказываться, впервые, это, появляться, в, аме...   \n",
       "6                     [я, вчера, не, стирать, белье]   \n",
       "\n",
       "                                                 rsl  \\\n",
       "0  [indx, дед.мороз, clf, clf.группа, clf.перемес...   \n",
       "1  [мама, второй, 3ps, все, радость, давать, 1ps,...   \n",
       "4  [зачем, желание, изменение, все4, привычка, тр...   \n",
       "5  [америка, есть, poss, 3ps, 3ps, рассказ, 1ps, ...   \n",
       "6             [1ps, вчера, стирать, <dact>, не, был]   \n",
       "\n",
       "                                            gram_rus  \\\n",
       "0  [[CONJ], [CONJ], [им, мн, S, муж, од], [им, мн...   \n",
       "1  [[CONJ], [им, S, од, жен, ед], [изъяв, V, пе, ...   \n",
       "4  [[ADVPRO], [им, ед, 1-л, SPRO], [изъяв, V, пе,...   \n",
       "5  [[изъяв, V, 3-л, нп, несов, ед, непрош], [ADV]...   \n",
       "6  [[им, ед, 1-л, SPRO], [ADV], [PART], [изъяв, V...   \n",
       "\n",
       "                                          input_text  \\\n",
       "0  а когда дед мороз вернуться домой маленький де...   \n",
       "1                     а мачеха лишать я весь радость   \n",
       "4  зачем я хотеть изменять свой привычка тратить ...   \n",
       "5       оказываться впервые это появляться в америка   \n",
       "6                           я вчера не стирать белье   \n",
       "\n",
       "                                         target_text prefix  \n",
       "0  indx дед.мороз clf clf.группа clf.переместить ...         \n",
       "1        мама второй 3ps все радость давать 1ps ноль         \n",
       "4  зачем желание изменение все4 привычка тратить ...         \n",
       "5  америка есть poss 3ps 3ps рассказ 1ps интересн...         \n",
       "6                    1ps вчера стирать <dact> не был         "
      ]
     },
     "execution_count": 11,
     "metadata": {},
     "output_type": "execute_result"
    }
   ],
   "source": [
    "#!g1.1\n",
    "test_data.head()"
   ]
  },
  {
   "cell_type": "markdown",
   "metadata": {
    "cellId": "v9a6cgvboyzlbhkvwe94"
   },
   "source": [
    "### Load task-agnostic generated data"
   ]
  },
  {
   "cell_type": "code",
   "execution_count": 12,
   "metadata": {
    "cellId": "doog112wzw7v4yynlw1vq"
   },
   "outputs": [],
   "source": [
    "#!g1.1\n",
    "# task-agnostic data\n",
    "agnostic_data = pd.read_csv('generated_data_task_agnostic.csv', encoding='utf-8')"
   ]
  },
  {
   "cell_type": "code",
   "execution_count": 13,
   "metadata": {
    "cellId": "21273g1vv4xieovds47d0os"
   },
   "outputs": [
    {
     "data": {
      "text/html": [
       "<div>\n",
       "<style scoped>\n",
       "    .dataframe tbody tr th:only-of-type {\n",
       "        vertical-align: middle;\n",
       "    }\n",
       "\n",
       "    .dataframe tbody tr th {\n",
       "        vertical-align: top;\n",
       "    }\n",
       "\n",
       "    .dataframe thead th {\n",
       "        text-align: right;\n",
       "    }\n",
       "</style>\n",
       "<table border=\"1\" class=\"dataframe\">\n",
       "  <thead>\n",
       "    <tr style=\"text-align: right;\">\n",
       "      <th></th>\n",
       "      <th>Unnamed: 0</th>\n",
       "      <th>rsl</th>\n",
       "      <th>rus</th>\n",
       "      <th>lemmatized</th>\n",
       "      <th>input_text</th>\n",
       "      <th>target_text</th>\n",
       "    </tr>\n",
       "  </thead>\n",
       "  <tbody>\n",
       "    <tr>\n",
       "      <th>0</th>\n",
       "      <td>0</td>\n",
       "      <td>['отступление', 'германец', 'и', 'сопоцкин', '...</td>\n",
       "      <td>Бои у Сопоцкина и Друскеник закончились отступ...</td>\n",
       "      <td>['бой', 'у', 'сопоцкин', 'и', 'друскеник', 'за...</td>\n",
       "      <td>Бои у Сопоцкина и Друскеник закончились отступ...</td>\n",
       "      <td>отступление германец и сопоцкин заканчиваться ...</td>\n",
       "    </tr>\n",
       "    <tr>\n",
       "      <th>1</th>\n",
       "      <td>1</td>\n",
       "      <td>['осовец', 'неприятель', 'артиллерийский', 'кр...</td>\n",
       "      <td>Неприятель, приблизившись с севера к Осовцу на...</td>\n",
       "      <td>['неприятель', 'приближаться', 'с', 'север', '...</td>\n",
       "      <td>Неприятель, приблизившись с севера к Осовцу на...</td>\n",
       "      <td>осовец неприятель артиллерийский крепость борь...</td>\n",
       "    </tr>\n",
       "    <tr>\n",
       "      <th>2</th>\n",
       "      <td>2</td>\n",
       "      <td>['участие', 'тяжелый', 'калибр', 'в', 'принима...</td>\n",
       "      <td>В артиллерийском бою принимают участие тяжелые...</td>\n",
       "      <td>['в', 'артиллерийский', 'бой', 'принимать', 'у...</td>\n",
       "      <td>В артиллерийском бою принимают участие тяжелые...</td>\n",
       "      <td>участие тяжелый калибр в принимать артиллерийс...</td>\n",
       "    </tr>\n",
       "    <tr>\n",
       "      <th>3</th>\n",
       "      <td>3</td>\n",
       "      <td>['сентябрь', 'достигать', 'с', 'огонь', 'ранни...</td>\n",
       "      <td>С раннего утра 14 сентября огонь достиг значит...</td>\n",
       "      <td>['с', 'ранний', 'утро', 'сентябрь', 'огонь', '...</td>\n",
       "      <td>С раннего утра 14 сентября огонь достиг значит...</td>\n",
       "      <td>сентябрь достигать с огонь ранний утро напряже...</td>\n",
       "    </tr>\n",
       "    <tr>\n",
       "      <th>4</th>\n",
       "      <td>4</td>\n",
       "      <td>['попытка', 'крепость', 'пехота', 'германский'...</td>\n",
       "      <td>Попытка германской пехоты пробиться ближе к кр...</td>\n",
       "      <td>['попытка', 'германский', 'пехота', 'пробивать...</td>\n",
       "      <td>Попытка германской пехоты пробиться ближе к кр...</td>\n",
       "      <td>попытка крепость пехота германский отражать к ...</td>\n",
       "    </tr>\n",
       "  </tbody>\n",
       "</table>\n",
       "</div>"
      ],
      "text/plain": [
       "   Unnamed: 0                                                rsl  \\\n",
       "0           0  ['отступление', 'германец', 'и', 'сопоцкин', '...   \n",
       "1           1  ['осовец', 'неприятель', 'артиллерийский', 'кр...   \n",
       "2           2  ['участие', 'тяжелый', 'калибр', 'в', 'принима...   \n",
       "3           3  ['сентябрь', 'достигать', 'с', 'огонь', 'ранни...   \n",
       "4           4  ['попытка', 'крепость', 'пехота', 'германский'...   \n",
       "\n",
       "                                                 rus  \\\n",
       "0  Бои у Сопоцкина и Друскеник закончились отступ...   \n",
       "1  Неприятель, приблизившись с севера к Осовцу на...   \n",
       "2  В артиллерийском бою принимают участие тяжелые...   \n",
       "3  С раннего утра 14 сентября огонь достиг значит...   \n",
       "4  Попытка германской пехоты пробиться ближе к кр...   \n",
       "\n",
       "                                          lemmatized  \\\n",
       "0  ['бой', 'у', 'сопоцкин', 'и', 'друскеник', 'за...   \n",
       "1  ['неприятель', 'приближаться', 'с', 'север', '...   \n",
       "2  ['в', 'артиллерийский', 'бой', 'принимать', 'у...   \n",
       "3  ['с', 'ранний', 'утро', 'сентябрь', 'огонь', '...   \n",
       "4  ['попытка', 'германский', 'пехота', 'пробивать...   \n",
       "\n",
       "                                          input_text  \\\n",
       "0  Бои у Сопоцкина и Друскеник закончились отступ...   \n",
       "1  Неприятель, приблизившись с севера к Осовцу на...   \n",
       "2  В артиллерийском бою принимают участие тяжелые...   \n",
       "3  С раннего утра 14 сентября огонь достиг значит...   \n",
       "4  Попытка германской пехоты пробиться ближе к кр...   \n",
       "\n",
       "                                         target_text  \n",
       "0  отступление германец и сопоцкин заканчиваться ...  \n",
       "1  осовец неприятель артиллерийский крепость борь...  \n",
       "2  участие тяжелый калибр в принимать артиллерийс...  \n",
       "3  сентябрь достигать с огонь ранний утро напряже...  \n",
       "4  попытка крепость пехота германский отражать к ...  "
      ]
     },
     "execution_count": 13,
     "metadata": {},
     "output_type": "execute_result"
    }
   ],
   "source": [
    "#!g1.1\n",
    "agnostic_data.head()"
   ]
  },
  {
   "cell_type": "code",
   "execution_count": 14,
   "metadata": {
    "cellId": "xlhaj0a2b2frjswpn4zln"
   },
   "outputs": [],
   "source": [
    "#!g1.1\n",
    "agnostic_data['prefix'] = ''\n",
    "test_data['prefix'] = ''"
   ]
  },
  {
   "cell_type": "code",
   "execution_count": null,
   "metadata": {
    "cellId": "sm0n5iahybrg23drrtex37"
   },
   "outputs": [],
   "source": [
    "#!g1.1"
   ]
  },
  {
   "cell_type": "markdown",
   "metadata": {
    "cellId": "foyonv93lb5fvlfh47pl8"
   },
   "source": [
    "### Load svo\\sv data"
   ]
  },
  {
   "cell_type": "code",
   "execution_count": 15,
   "metadata": {
    "cellId": "w2nqii3zhqp17s1835odq"
   },
   "outputs": [
    {
     "data": {
      "text/html": [
       "<div>\n",
       "<style scoped>\n",
       "    .dataframe tbody tr th:only-of-type {\n",
       "        vertical-align: middle;\n",
       "    }\n",
       "\n",
       "    .dataframe tbody tr th {\n",
       "        vertical-align: top;\n",
       "    }\n",
       "\n",
       "    .dataframe thead th {\n",
       "        text-align: right;\n",
       "    }\n",
       "</style>\n",
       "<table border=\"1\" class=\"dataframe\">\n",
       "  <thead>\n",
       "    <tr style=\"text-align: right;\">\n",
       "      <th></th>\n",
       "      <th>rus</th>\n",
       "      <th>rsl</th>\n",
       "      <th>pred</th>\n",
       "    </tr>\n",
       "  </thead>\n",
       "  <tbody>\n",
       "    <tr>\n",
       "      <th>18996</th>\n",
       "      <td>Сирота создаёт сокращение.</td>\n",
       "      <td>сирота создавать сокращение</td>\n",
       "      <td>0.506723</td>\n",
       "    </tr>\n",
       "    <tr>\n",
       "      <th>18997</th>\n",
       "      <td>Сирота стреляет проверка контроль.</td>\n",
       "      <td>сирота стрелять проверка контроль</td>\n",
       "      <td>0.510003</td>\n",
       "    </tr>\n",
       "    <tr>\n",
       "      <th>18998</th>\n",
       "      <td>Сирота транспортирует проверка контроль.</td>\n",
       "      <td>сирота транспортировать проверка контроль</td>\n",
       "      <td>0.510003</td>\n",
       "    </tr>\n",
       "    <tr>\n",
       "      <th>18999</th>\n",
       "      <td>Сирота узнаёт уверенность.</td>\n",
       "      <td>сирота узнавать уверенность</td>\n",
       "      <td>0.504941</td>\n",
       "    </tr>\n",
       "    <tr>\n",
       "      <th>19000</th>\n",
       "      <td>Сирота усиливает проверка контроль.</td>\n",
       "      <td>сирота усиливать проверка контроль</td>\n",
       "      <td>0.510003</td>\n",
       "    </tr>\n",
       "  </tbody>\n",
       "</table>\n",
       "</div>"
      ],
      "text/plain": [
       "                                            rus  \\\n",
       "18996                Сирота создаёт сокращение.   \n",
       "18997        Сирота стреляет проверка контроль.   \n",
       "18998  Сирота транспортирует проверка контроль.   \n",
       "18999                Сирота узнаёт уверенность.   \n",
       "19000       Сирота усиливает проверка контроль.   \n",
       "\n",
       "                                             rsl      pred  \n",
       "18996                сирота создавать сокращение  0.506723  \n",
       "18997          сирота стрелять проверка контроль  0.510003  \n",
       "18998  сирота транспортировать проверка контроль  0.510003  \n",
       "18999                сирота узнавать уверенность  0.504941  \n",
       "19000         сирота усиливать проверка контроль  0.510003  "
      ]
     },
     "execution_count": 15,
     "metadata": {},
     "output_type": "execute_result"
    }
   ],
   "source": [
    "#!g1.1\n",
    "rared_good = pd.read_csv(\"rared_good_fake_sents.tsv\", sep=\"\\t\", names=['rus', 'rsl', 'pred'])\n",
    "rared_good.tail()"
   ]
  },
  {
   "cell_type": "code",
   "execution_count": 16,
   "metadata": {
    "cellId": "0bbcei686lhgl3yl6tvfgw"
   },
   "outputs": [],
   "source": [
    "#!g1.1\n",
    "rared_good['input_text'] = rared_good['rus']\n",
    "rared_good['target_text'] = rared_good['rsl']"
   ]
  },
  {
   "cell_type": "code",
   "execution_count": 17,
   "metadata": {
    "cellId": "lvxhmvovoqe2ijwukatvks"
   },
   "outputs": [],
   "source": [
    "#!g1.1\n",
    "rared_good['prefix'] = ''\n",
    "#test_data['prefix'] = ''\n",
    "#test_data['input_text'] = test_data['stem_rus'].apply(' '.join)\n",
    "#test_data['target_text'] = test_data['rsl'].apply(' '.join)"
   ]
  },
  {
   "cell_type": "markdown",
   "metadata": {
    "cellId": "io3i90tvqbn8dql7in748"
   },
   "source": [
    "### Concat replacements less repeatitions dataset with svo\\sv dataset"
   ]
  },
  {
   "cell_type": "code",
   "execution_count": 18,
   "metadata": {
    "cellId": "7bmy16k0pltfovctlbogr5"
   },
   "outputs": [],
   "source": [
    "#!g1.1\n",
    "rared_good.drop(['rus', 'rsl', 'pred'], axis=1, inplace=True)  "
   ]
  },
  {
   "cell_type": "code",
   "execution_count": 19,
   "metadata": {
    "cellId": "47lb1atfqp4np15ufkl1jh"
   },
   "outputs": [
    {
     "data": {
      "text/html": [
       "<div>\n",
       "<style scoped>\n",
       "    .dataframe tbody tr th:only-of-type {\n",
       "        vertical-align: middle;\n",
       "    }\n",
       "\n",
       "    .dataframe tbody tr th {\n",
       "        vertical-align: top;\n",
       "    }\n",
       "\n",
       "    .dataframe thead th {\n",
       "        text-align: right;\n",
       "    }\n",
       "</style>\n",
       "<table border=\"1\" class=\"dataframe\">\n",
       "  <thead>\n",
       "    <tr style=\"text-align: right;\">\n",
       "      <th></th>\n",
       "      <th>input_text</th>\n",
       "      <th>target_text</th>\n",
       "      <th>prefix</th>\n",
       "    </tr>\n",
       "  </thead>\n",
       "  <tbody>\n",
       "    <tr>\n",
       "      <th>0</th>\n",
       "      <td>Или, например, человек хочет после вставать, ч...</td>\n",
       "      <td>есть тоже люди кто желание после вставать2 что...</td>\n",
       "      <td></td>\n",
       "    </tr>\n",
       "    <tr>\n",
       "      <th>1</th>\n",
       "      <td>Например, скоро, на предприятии вог, на швейно...</td>\n",
       "      <td>что скоро пример завод вог завод шить2 шить3 п...</td>\n",
       "      <td></td>\n",
       "    </tr>\n",
       "    <tr>\n",
       "      <th>2</th>\n",
       "      <td>Да, мы после хотели.</td>\n",
       "      <td>indx желание после indx да :pl</td>\n",
       "      <td></td>\n",
       "    </tr>\n",
       "    <tr>\n",
       "      <th>3</th>\n",
       "      <td>Вообще, мы рано думали что нужно добавить жест...</td>\n",
       "      <td>результат indx рано думать что необходимость ж...</td>\n",
       "      <td></td>\n",
       "    </tr>\n",
       "    <tr>\n",
       "      <th>4</th>\n",
       "      <td>Дочь достигает.</td>\n",
       "      <td>Дочь достигать</td>\n",
       "      <td></td>\n",
       "    </tr>\n",
       "  </tbody>\n",
       "</table>\n",
       "</div>"
      ],
      "text/plain": [
       "                                          input_text  \\\n",
       "0  Или, например, человек хочет после вставать, ч...   \n",
       "1  Например, скоро, на предприятии вог, на швейно...   \n",
       "2                               Да, мы после хотели.   \n",
       "3  Вообще, мы рано думали что нужно добавить жест...   \n",
       "4                                    Дочь достигает.   \n",
       "\n",
       "                                         target_text prefix  \n",
       "0  есть тоже люди кто желание после вставать2 что...         \n",
       "1  что скоро пример завод вог завод шить2 шить3 п...         \n",
       "2                     indx желание после indx да :pl         \n",
       "3  результат indx рано думать что необходимость ж...         \n",
       "4                                     Дочь достигать         "
      ]
     },
     "execution_count": 19,
     "metadata": {},
     "output_type": "execute_result"
    }
   ],
   "source": [
    "#!g1.1\n",
    "rared_good.head()"
   ]
  },
  {
   "cell_type": "code",
   "execution_count": 20,
   "metadata": {
    "cellId": "t72na0iijejsb9ski2f33q"
   },
   "outputs": [
    {
     "data": {
      "text/plain": [
       "9668.0"
      ]
     },
     "execution_count": 20,
     "metadata": {},
     "output_type": "execute_result"
    }
   ],
   "source": [
    "#!g1.1\n",
    "# take 30,11% of svo\\sv data so that final mix it is 40\\60\n",
    "len(agnostic_data) * 0.4834"
   ]
  },
  {
   "cell_type": "code",
   "execution_count": 21,
   "metadata": {
    "cellId": "bamu03zfra6z0hnjhxeza"
   },
   "outputs": [
    {
     "data": {
      "text/html": [
       "<div>\n",
       "<style scoped>\n",
       "    .dataframe tbody tr th:only-of-type {\n",
       "        vertical-align: middle;\n",
       "    }\n",
       "\n",
       "    .dataframe tbody tr th {\n",
       "        vertical-align: top;\n",
       "    }\n",
       "\n",
       "    .dataframe thead th {\n",
       "        text-align: right;\n",
       "    }\n",
       "</style>\n",
       "<table border=\"1\" class=\"dataframe\">\n",
       "  <thead>\n",
       "    <tr style=\"text-align: right;\">\n",
       "      <th></th>\n",
       "      <th>Unnamed: 0</th>\n",
       "      <th>rsl</th>\n",
       "      <th>rus</th>\n",
       "      <th>lemmatized</th>\n",
       "      <th>input_text</th>\n",
       "      <th>target_text</th>\n",
       "      <th>prefix</th>\n",
       "    </tr>\n",
       "  </thead>\n",
       "  <tbody>\n",
       "    <tr>\n",
       "      <th>0</th>\n",
       "      <td>0</td>\n",
       "      <td>['отступление', 'германец', 'и', 'сопоцкин', '...</td>\n",
       "      <td>Бои у Сопоцкина и Друскеник закончились отступ...</td>\n",
       "      <td>['бой', 'у', 'сопоцкин', 'и', 'друскеник', 'за...</td>\n",
       "      <td>Бои у Сопоцкина и Друскеник закончились отступ...</td>\n",
       "      <td>отступление германец и сопоцкин заканчиваться ...</td>\n",
       "      <td></td>\n",
       "    </tr>\n",
       "    <tr>\n",
       "      <th>1</th>\n",
       "      <td>1</td>\n",
       "      <td>['осовец', 'неприятель', 'артиллерийский', 'кр...</td>\n",
       "      <td>Неприятель, приблизившись с севера к Осовцу на...</td>\n",
       "      <td>['неприятель', 'приближаться', 'с', 'север', '...</td>\n",
       "      <td>Неприятель, приблизившись с севера к Осовцу на...</td>\n",
       "      <td>осовец неприятель артиллерийский крепость борь...</td>\n",
       "      <td></td>\n",
       "    </tr>\n",
       "    <tr>\n",
       "      <th>2</th>\n",
       "      <td>2</td>\n",
       "      <td>['участие', 'тяжелый', 'калибр', 'в', 'принима...</td>\n",
       "      <td>В артиллерийском бою принимают участие тяжелые...</td>\n",
       "      <td>['в', 'артиллерийский', 'бой', 'принимать', 'у...</td>\n",
       "      <td>В артиллерийском бою принимают участие тяжелые...</td>\n",
       "      <td>участие тяжелый калибр в принимать артиллерийс...</td>\n",
       "      <td></td>\n",
       "    </tr>\n",
       "    <tr>\n",
       "      <th>3</th>\n",
       "      <td>3</td>\n",
       "      <td>['сентябрь', 'достигать', 'с', 'огонь', 'ранни...</td>\n",
       "      <td>С раннего утра 14 сентября огонь достиг значит...</td>\n",
       "      <td>['с', 'ранний', 'утро', 'сентябрь', 'огонь', '...</td>\n",
       "      <td>С раннего утра 14 сентября огонь достиг значит...</td>\n",
       "      <td>сентябрь достигать с огонь ранний утро напряже...</td>\n",
       "      <td></td>\n",
       "    </tr>\n",
       "    <tr>\n",
       "      <th>4</th>\n",
       "      <td>4</td>\n",
       "      <td>['попытка', 'крепость', 'пехота', 'германский'...</td>\n",
       "      <td>Попытка германской пехоты пробиться ближе к кр...</td>\n",
       "      <td>['попытка', 'германский', 'пехота', 'пробивать...</td>\n",
       "      <td>Попытка германской пехоты пробиться ближе к кр...</td>\n",
       "      <td>попытка крепость пехота германский отражать к ...</td>\n",
       "      <td></td>\n",
       "    </tr>\n",
       "    <tr>\n",
       "      <th>...</th>\n",
       "      <td>...</td>\n",
       "      <td>...</td>\n",
       "      <td>...</td>\n",
       "      <td>...</td>\n",
       "      <td>...</td>\n",
       "      <td>...</td>\n",
       "      <td>...</td>\n",
       "    </tr>\n",
       "    <tr>\n",
       "      <th>9683</th>\n",
       "      <td>9683</td>\n",
       "      <td>['по', 'схема', 'предполагаться', 'клонировани...</td>\n",
       "      <td>Клонирование предполагается провести по схеме,...</td>\n",
       "      <td>['клонирование', 'предполагаться', 'проводить'...</td>\n",
       "      <td>Клонирование предполагается провести по схеме,...</td>\n",
       "      <td>по схема предполагаться клонирование два назад...</td>\n",
       "      <td></td>\n",
       "    </tr>\n",
       "    <tr>\n",
       "      <th>9684</th>\n",
       "      <td>9684</td>\n",
       "      <td>['от', 'зародыш', 'который', 'быть', 'затем', ...</td>\n",
       "      <td>Яйцеклетку, в которую будет введено клеточное ...</td>\n",
       "      <td>['яйцеклетка', 'в', 'который', 'быть', 'вводит...</td>\n",
       "      <td>Яйцеклетку, в которую будет введено клеточное ...</td>\n",
       "      <td>от зародыш который быть затем матка который вз...</td>\n",
       "      <td></td>\n",
       "    </tr>\n",
       "    <tr>\n",
       "      <th>9685</th>\n",
       "      <td>9685</td>\n",
       "      <td>['родиться', 'от', 'полумамонт', 'скрещивание'...</td>\n",
       "      <td>От такого скрещивания родится полуслон-полумам...</td>\n",
       "      <td>['от', 'такой', 'скрещивание', 'родиться', 'по...</td>\n",
       "      <td>От такого скрещивания родится полуслон-полумам...</td>\n",
       "      <td>родиться от полумамонт скрещивание такой полуслон</td>\n",
       "      <td></td>\n",
       "    </tr>\n",
       "    <tr>\n",
       "      <th>9686</th>\n",
       "      <td>9686</td>\n",
       "      <td>['сам', 'мамонт', 'исследовать', 'ученый', 'на...</td>\n",
       "      <td>Ученые намерены подробно исследовать самого ма...</td>\n",
       "      <td>['ученый', 'намерен', 'подробно', 'исследовать...</td>\n",
       "      <td>Ученые намерены подробно исследовать самого ма...</td>\n",
       "      <td>сам мамонт исследовать ученый намерен подробно</td>\n",
       "      <td></td>\n",
       "    </tr>\n",
       "    <tr>\n",
       "      <th>9687</th>\n",
       "      <td>9687</td>\n",
       "      <td>['глубокий', 'агентство', 'представлять', 'соо...</td>\n",
       "      <td>Как сообщает агентство, особый интерес предста...</td>\n",
       "      <td>['как', 'сообщать', 'агентство', 'особый', 'ин...</td>\n",
       "      <td>Как сообщает агентство, особый интерес предста...</td>\n",
       "      <td>глубокий агентство представлять сообщать живот...</td>\n",
       "      <td></td>\n",
       "    </tr>\n",
       "  </tbody>\n",
       "</table>\n",
       "<p>9688 rows × 7 columns</p>\n",
       "</div>"
      ],
      "text/plain": [
       "      Unnamed: 0                                                rsl  \\\n",
       "0              0  ['отступление', 'германец', 'и', 'сопоцкин', '...   \n",
       "1              1  ['осовец', 'неприятель', 'артиллерийский', 'кр...   \n",
       "2              2  ['участие', 'тяжелый', 'калибр', 'в', 'принима...   \n",
       "3              3  ['сентябрь', 'достигать', 'с', 'огонь', 'ранни...   \n",
       "4              4  ['попытка', 'крепость', 'пехота', 'германский'...   \n",
       "...          ...                                                ...   \n",
       "9683        9683  ['по', 'схема', 'предполагаться', 'клонировани...   \n",
       "9684        9684  ['от', 'зародыш', 'который', 'быть', 'затем', ...   \n",
       "9685        9685  ['родиться', 'от', 'полумамонт', 'скрещивание'...   \n",
       "9686        9686  ['сам', 'мамонт', 'исследовать', 'ученый', 'на...   \n",
       "9687        9687  ['глубокий', 'агентство', 'представлять', 'соо...   \n",
       "\n",
       "                                                    rus  \\\n",
       "0     Бои у Сопоцкина и Друскеник закончились отступ...   \n",
       "1     Неприятель, приблизившись с севера к Осовцу на...   \n",
       "2     В артиллерийском бою принимают участие тяжелые...   \n",
       "3     С раннего утра 14 сентября огонь достиг значит...   \n",
       "4     Попытка германской пехоты пробиться ближе к кр...   \n",
       "...                                                 ...   \n",
       "9683  Клонирование предполагается провести по схеме,...   \n",
       "9684  Яйцеклетку, в которую будет введено клеточное ...   \n",
       "9685  От такого скрещивания родится полуслон-полумам...   \n",
       "9686  Ученые намерены подробно исследовать самого ма...   \n",
       "9687  Как сообщает агентство, особый интерес предста...   \n",
       "\n",
       "                                             lemmatized  \\\n",
       "0     ['бой', 'у', 'сопоцкин', 'и', 'друскеник', 'за...   \n",
       "1     ['неприятель', 'приближаться', 'с', 'север', '...   \n",
       "2     ['в', 'артиллерийский', 'бой', 'принимать', 'у...   \n",
       "3     ['с', 'ранний', 'утро', 'сентябрь', 'огонь', '...   \n",
       "4     ['попытка', 'германский', 'пехота', 'пробивать...   \n",
       "...                                                 ...   \n",
       "9683  ['клонирование', 'предполагаться', 'проводить'...   \n",
       "9684  ['яйцеклетка', 'в', 'который', 'быть', 'вводит...   \n",
       "9685  ['от', 'такой', 'скрещивание', 'родиться', 'по...   \n",
       "9686  ['ученый', 'намерен', 'подробно', 'исследовать...   \n",
       "9687  ['как', 'сообщать', 'агентство', 'особый', 'ин...   \n",
       "\n",
       "                                             input_text  \\\n",
       "0     Бои у Сопоцкина и Друскеник закончились отступ...   \n",
       "1     Неприятель, приблизившись с севера к Осовцу на...   \n",
       "2     В артиллерийском бою принимают участие тяжелые...   \n",
       "3     С раннего утра 14 сентября огонь достиг значит...   \n",
       "4     Попытка германской пехоты пробиться ближе к кр...   \n",
       "...                                                 ...   \n",
       "9683  Клонирование предполагается провести по схеме,...   \n",
       "9684  Яйцеклетку, в которую будет введено клеточное ...   \n",
       "9685  От такого скрещивания родится полуслон-полумам...   \n",
       "9686  Ученые намерены подробно исследовать самого ма...   \n",
       "9687  Как сообщает агентство, особый интерес предста...   \n",
       "\n",
       "                                            target_text prefix  \n",
       "0     отступление германец и сопоцкин заканчиваться ...         \n",
       "1     осовец неприятель артиллерийский крепость борь...         \n",
       "2     участие тяжелый калибр в принимать артиллерийс...         \n",
       "3     сентябрь достигать с огонь ранний утро напряже...         \n",
       "4     попытка крепость пехота германский отражать к ...         \n",
       "...                                                 ...    ...  \n",
       "9683  по схема предполагаться клонирование два назад...         \n",
       "9684  от зародыш который быть затем матка который вз...         \n",
       "9685  родиться от полумамонт скрещивание такой полуслон         \n",
       "9686     сам мамонт исследовать ученый намерен подробно         \n",
       "9687  глубокий агентство представлять сообщать живот...         \n",
       "\n",
       "[9688 rows x 7 columns]"
      ]
     },
     "execution_count": 21,
     "metadata": {},
     "output_type": "execute_result"
    }
   ],
   "source": [
    "#!g1.1\n",
    "agnostic_data.iloc[:9688]"
   ]
  },
  {
   "cell_type": "code",
   "execution_count": 22,
   "metadata": {
    "cellId": "87en44jabh902zvxxyeozyj"
   },
   "outputs": [],
   "source": [
    "#!g1.1\n",
    "generated_data.drop(['new_stem_sent_rus', 'new_gram_sent_rus', 'new_stem_rsl', 'stem_rus', 'rsl', 'gram_rus'], axis=1, inplace=True)"
   ]
  },
  {
   "cell_type": "code",
   "execution_count": 23,
   "metadata": {
    "cellId": "m92qdhl4m7no8k3germiob"
   },
   "outputs": [
    {
     "data": {
      "text/html": [
       "<div>\n",
       "<style scoped>\n",
       "    .dataframe tbody tr th:only-of-type {\n",
       "        vertical-align: middle;\n",
       "    }\n",
       "\n",
       "    .dataframe tbody tr th {\n",
       "        vertical-align: top;\n",
       "    }\n",
       "\n",
       "    .dataframe thead th {\n",
       "        text-align: right;\n",
       "    }\n",
       "</style>\n",
       "<table border=\"1\" class=\"dataframe\">\n",
       "  <thead>\n",
       "    <tr style=\"text-align: right;\">\n",
       "      <th></th>\n",
       "      <th>input_text</th>\n",
       "      <th>target_text</th>\n",
       "      <th>prefix</th>\n",
       "    </tr>\n",
       "  </thead>\n",
       "  <tbody>\n",
       "    <tr>\n",
       "      <th>3</th>\n",
       "      <td>рано я не любить молоко</td>\n",
       "      <td>раньше молоко 1ps не.любить</td>\n",
       "      <td></td>\n",
       "    </tr>\n",
       "    <tr>\n",
       "      <th>4</th>\n",
       "      <td>рано я не гражданин животное</td>\n",
       "      <td>раньше животное 1ps гражданин</td>\n",
       "      <td></td>\n",
       "    </tr>\n",
       "    <tr>\n",
       "      <th>5</th>\n",
       "      <td>рано я не житель наш родной город животное</td>\n",
       "      <td>раньше животное 1ps житель наш родной город</td>\n",
       "      <td></td>\n",
       "    </tr>\n",
       "    <tr>\n",
       "      <th>7</th>\n",
       "      <td>приезжать в деревня а там нет электричество</td>\n",
       "      <td>деревня путешествие ; ничего3 электричество не...</td>\n",
       "      <td></td>\n",
       "    </tr>\n",
       "    <tr>\n",
       "      <th>8</th>\n",
       "      <td>отвечать в рыба много жир в хвост а там нет чу...</td>\n",
       "      <td>отвечать путешествие рыба много жир в хвост ни...</td>\n",
       "      <td></td>\n",
       "    </tr>\n",
       "  </tbody>\n",
       "</table>\n",
       "</div>"
      ],
      "text/plain": [
       "                                          input_text  \\\n",
       "3                            рано я не любить молоко   \n",
       "4                       рано я не гражданин животное   \n",
       "5         рано я не житель наш родной город животное   \n",
       "7        приезжать в деревня а там нет электричество   \n",
       "8  отвечать в рыба много жир в хвост а там нет чу...   \n",
       "\n",
       "                                         target_text prefix  \n",
       "3                        раньше молоко 1ps не.любить         \n",
       "4                      раньше животное 1ps гражданин         \n",
       "5        раньше животное 1ps житель наш родной город         \n",
       "7  деревня путешествие ; ничего3 электричество не...         \n",
       "8  отвечать путешествие рыба много жир в хвост ни...         "
      ]
     },
     "execution_count": 23,
     "metadata": {},
     "output_type": "execute_result"
    }
   ],
   "source": [
    "#!g1.1\n",
    "generated_data.head()"
   ]
  },
  {
   "cell_type": "code",
   "execution_count": 24,
   "metadata": {
    "cellId": "33f8yijzm2t64tzj5pv2ty"
   },
   "outputs": [],
   "source": [
    "#!g1.1\n",
    "agnostic_data.drop(['rus', 'rsl', 'lemmatized', 'Unnamed: 0'], axis=1, inplace=True)  "
   ]
  },
  {
   "cell_type": "code",
   "execution_count": 25,
   "metadata": {
    "cellId": "1r5pfh7mlhjxpavezhu2h"
   },
   "outputs": [
    {
     "data": {
      "text/html": [
       "<div>\n",
       "<style scoped>\n",
       "    .dataframe tbody tr th:only-of-type {\n",
       "        vertical-align: middle;\n",
       "    }\n",
       "\n",
       "    .dataframe tbody tr th {\n",
       "        vertical-align: top;\n",
       "    }\n",
       "\n",
       "    .dataframe thead th {\n",
       "        text-align: right;\n",
       "    }\n",
       "</style>\n",
       "<table border=\"1\" class=\"dataframe\">\n",
       "  <thead>\n",
       "    <tr style=\"text-align: right;\">\n",
       "      <th></th>\n",
       "      <th>input_text</th>\n",
       "      <th>target_text</th>\n",
       "      <th>prefix</th>\n",
       "    </tr>\n",
       "  </thead>\n",
       "  <tbody>\n",
       "    <tr>\n",
       "      <th>0</th>\n",
       "      <td>Бои у Сопоцкина и Друскеник закончились отступ...</td>\n",
       "      <td>отступление германец и сопоцкин заканчиваться ...</td>\n",
       "      <td></td>\n",
       "    </tr>\n",
       "    <tr>\n",
       "      <th>1</th>\n",
       "      <td>Неприятель, приблизившись с севера к Осовцу на...</td>\n",
       "      <td>осовец неприятель артиллерийский крепость борь...</td>\n",
       "      <td></td>\n",
       "    </tr>\n",
       "    <tr>\n",
       "      <th>2</th>\n",
       "      <td>В артиллерийском бою принимают участие тяжелые...</td>\n",
       "      <td>участие тяжелый калибр в принимать артиллерийс...</td>\n",
       "      <td></td>\n",
       "    </tr>\n",
       "    <tr>\n",
       "      <th>3</th>\n",
       "      <td>С раннего утра 14 сентября огонь достиг значит...</td>\n",
       "      <td>сентябрь достигать с огонь ранний утро напряже...</td>\n",
       "      <td></td>\n",
       "    </tr>\n",
       "    <tr>\n",
       "      <th>4</th>\n",
       "      <td>Попытка германской пехоты пробиться ближе к кр...</td>\n",
       "      <td>попытка крепость пехота германский отражать к ...</td>\n",
       "      <td></td>\n",
       "    </tr>\n",
       "  </tbody>\n",
       "</table>\n",
       "</div>"
      ],
      "text/plain": [
       "                                          input_text  \\\n",
       "0  Бои у Сопоцкина и Друскеник закончились отступ...   \n",
       "1  Неприятель, приблизившись с севера к Осовцу на...   \n",
       "2  В артиллерийском бою принимают участие тяжелые...   \n",
       "3  С раннего утра 14 сентября огонь достиг значит...   \n",
       "4  Попытка германской пехоты пробиться ближе к кр...   \n",
       "\n",
       "                                         target_text prefix  \n",
       "0  отступление германец и сопоцкин заканчиваться ...         \n",
       "1  осовец неприятель артиллерийский крепость борь...         \n",
       "2  участие тяжелый калибр в принимать артиллерийс...         \n",
       "3  сентябрь достигать с огонь ранний утро напряже...         \n",
       "4  попытка крепость пехота германский отражать к ...         "
      ]
     },
     "execution_count": 25,
     "metadata": {},
     "output_type": "execute_result"
    }
   ],
   "source": [
    "#!g1.1\n",
    "agnostic_data.head()"
   ]
  },
  {
   "cell_type": "code",
   "execution_count": 27,
   "metadata": {
    "cellId": "3l7lxxyyu2eccg2xbbmu07"
   },
   "outputs": [],
   "source": [
    "#!g1.1\n",
    "# concatenate\n",
    "\n",
    "mixed_data_agn_forty = pd.concat([generated_data, rared_good, agnostic_data.iloc[:9688]], ignore_index=True)"
   ]
  },
  {
   "cell_type": "code",
   "execution_count": 28,
   "metadata": {
    "cellId": "keemuo9catqmu5w5cb27qd"
   },
   "outputs": [
    {
     "data": {
      "text/html": [
       "<div>\n",
       "<style scoped>\n",
       "    .dataframe tbody tr th:only-of-type {\n",
       "        vertical-align: middle;\n",
       "    }\n",
       "\n",
       "    .dataframe tbody tr th {\n",
       "        vertical-align: top;\n",
       "    }\n",
       "\n",
       "    .dataframe thead th {\n",
       "        text-align: right;\n",
       "    }\n",
       "</style>\n",
       "<table border=\"1\" class=\"dataframe\">\n",
       "  <thead>\n",
       "    <tr style=\"text-align: right;\">\n",
       "      <th></th>\n",
       "      <th>input_text</th>\n",
       "      <th>target_text</th>\n",
       "      <th>prefix</th>\n",
       "    </tr>\n",
       "  </thead>\n",
       "  <tbody>\n",
       "    <tr>\n",
       "      <th>0</th>\n",
       "      <td>рано я не любить молоко</td>\n",
       "      <td>раньше молоко 1ps не.любить</td>\n",
       "      <td></td>\n",
       "    </tr>\n",
       "    <tr>\n",
       "      <th>1</th>\n",
       "      <td>рано я не гражданин животное</td>\n",
       "      <td>раньше животное 1ps гражданин</td>\n",
       "      <td></td>\n",
       "    </tr>\n",
       "    <tr>\n",
       "      <th>2</th>\n",
       "      <td>рано я не житель наш родной город животное</td>\n",
       "      <td>раньше животное 1ps житель наш родной город</td>\n",
       "      <td></td>\n",
       "    </tr>\n",
       "    <tr>\n",
       "      <th>3</th>\n",
       "      <td>приезжать в деревня а там нет электричество</td>\n",
       "      <td>деревня путешествие ; ничего3 электричество не...</td>\n",
       "      <td></td>\n",
       "    </tr>\n",
       "    <tr>\n",
       "      <th>4</th>\n",
       "      <td>отвечать в рыба много жир в хвост а там нет чу...</td>\n",
       "      <td>отвечать путешествие рыба много жир в хвост ни...</td>\n",
       "      <td></td>\n",
       "    </tr>\n",
       "  </tbody>\n",
       "</table>\n",
       "</div>"
      ],
      "text/plain": [
       "                                          input_text  \\\n",
       "0                            рано я не любить молоко   \n",
       "1                       рано я не гражданин животное   \n",
       "2         рано я не житель наш родной город животное   \n",
       "3        приезжать в деревня а там нет электричество   \n",
       "4  отвечать в рыба много жир в хвост а там нет чу...   \n",
       "\n",
       "                                         target_text prefix  \n",
       "0                        раньше молоко 1ps не.любить         \n",
       "1                      раньше животное 1ps гражданин         \n",
       "2        раньше животное 1ps житель наш родной город         \n",
       "3  деревня путешествие ; ничего3 электричество не...         \n",
       "4  отвечать путешествие рыба много жир в хвост ни...         "
      ]
     },
     "execution_count": 28,
     "metadata": {},
     "output_type": "execute_result"
    }
   ],
   "source": [
    "#!g1.1\n",
    "mixed_data_agn_forty.head()"
   ]
  },
  {
   "cell_type": "code",
   "execution_count": 29,
   "metadata": {
    "cellId": "dxwbh1gr1zdavsfh3l15x6"
   },
   "outputs": [
    {
     "data": {
      "text/plain": [
       "37272"
      ]
     },
     "execution_count": 29,
     "metadata": {},
     "output_type": "execute_result"
    }
   ],
   "source": [
    "#!g1.1\n",
    "len(mixed_data_agn_forty)"
   ]
  },
  {
   "cell_type": "markdown",
   "metadata": {
    "cellId": "mx3u5br6pqv6skwf65d8s",
    "id": "BgsrZIyA8VmC"
   },
   "source": [
    "### Переходим к обучению\n",
    "\n",
    "Зафайнтьюненная модель будет сохранена в папке `outputs` по дефолту. (https://simpletransformers.ai/docs/tips-and-tricks/#saving-checkpoints)"
   ]
  },
  {
   "cell_type": "code",
   "execution_count": 30,
   "metadata": {
    "cellId": "w9pxusbzsugjr6vhts7ek"
   },
   "outputs": [],
   "source": [
    "#!g1.1\n",
    "import wandb"
   ]
  },
  {
   "cell_type": "code",
   "execution_count": 29,
   "metadata": {
    "cellId": "rqnp7jf29nkaaishvwv6d"
   },
   "outputs": [
    {
     "name": "stdout",
     "output_type": "stream",
     "text": [
      "\u001b[34m\u001b[1mwandb\u001b[0m: Paste an API key from your profile and hit enter, or press ctrl+c to quit:  *******\n"
     ]
    },
    {
     "name": "stderr",
     "output_type": "stream",
     "text": [
      "\u001b[34m\u001b[1mwandb\u001b[0m: You can find your API key in your browser here: https://wandb.ai/authorize\n",
      "\u001b[34m\u001b[1mwandb\u001b[0m: Appending key for api.wandb.ai to your netrc file: /home/jupyter/.netrc\n"
     ]
    },
    {
     "data": {
      "text/plain": [
       "True"
      ]
     },
     "execution_count": 29,
     "metadata": {},
     "output_type": "execute_result"
    }
   ],
   "source": [
    "#!g1.1\n",
    "wandb.login(relogin)"
   ]
  },
  {
   "cell_type": "code",
   "execution_count": 31,
   "metadata": {
    "cellId": "z5jldxyfaxtxui3w7902",
    "id": "E4Tki6h39z32"
   },
   "outputs": [
    {
     "data": {
      "application/vnd.jupyter.widget-view+json": {
       "model_id": "30806296880344f39a270a335c0a8d9d",
       "version_major": 2,
       "version_minor": 0
      },
      "text/plain": [
       "Downloading:   0%|          | 0.00/666 [00:00<?, ?B/s]"
      ]
     },
     "metadata": {},
     "output_type": "display_data"
    },
    {
     "data": {
      "application/vnd.jupyter.widget-view+json": {
       "model_id": "11b9dcd581db43aaad6b4ea0f13aec99",
       "version_major": 2,
       "version_minor": 0
      },
      "text/plain": [
       "Downloading:   0%|          | 0.00/247M [00:00<?, ?B/s]"
      ]
     },
     "metadata": {},
     "output_type": "display_data"
    },
    {
     "data": {
      "application/vnd.jupyter.widget-view+json": {
       "model_id": "2b198ac1fa3143cab71ffe0a0127d3d1",
       "version_major": 2,
       "version_minor": 0
      },
      "text/plain": [
       "Downloading:   0%|          | 0.00/625k [00:00<?, ?B/s]"
      ]
     },
     "metadata": {},
     "output_type": "display_data"
    },
    {
     "data": {
      "application/vnd.jupyter.widget-view+json": {
       "model_id": "3f6fc8c2866d4b5ab2d5b02cf0362d86",
       "version_major": 2,
       "version_minor": 0
      },
      "text/plain": [
       "Downloading:   0%|          | 0.00/98.0 [00:00<?, ?B/s]"
      ]
     },
     "metadata": {},
     "output_type": "display_data"
    },
    {
     "data": {
      "application/vnd.jupyter.widget-view+json": {
       "model_id": "24330a1e093947a2845fda8f112f4611",
       "version_major": 2,
       "version_minor": 0
      },
      "text/plain": [
       "Downloading:   0%|          | 0.00/1.76k [00:00<?, ?B/s]"
      ]
     },
     "metadata": {},
     "output_type": "display_data"
    }
   ],
   "source": [
    "#!g1.1\n",
    "from simpletransformers.t5 import T5Model, T5Args\n",
    "\n",
    "use_cuda = False\n",
    "\n",
    "model_args = T5Args()\n",
    "model_args.special_tokens_list = [\"clf\", \"poss\", \"sg\", \"<nums>\", \"<dact>\", \"1ps\", \"2ps\", \"3ps\", \"indx\", \"pl\"]\n",
    "model_args.max_seq_length = 96\n",
    "model_args.train_batch_size = 30\n",
    "model_args.eval_batch_size = 30\n",
    "model_args.num_train_epochs = 15\n",
    "model_args.evaluate_during_training = True\n",
    "model_args.evaluate_during_training_steps = 30000\n",
    "model_args.use_multiprocessing = False\n",
    "model_args.fp16 = False\n",
    "model_args.save_steps = -1\n",
    "model_args.save_eval_checkpoints = False\n",
    "model_args.no_cache = True\n",
    "model_args.reprocess_input_data = True\n",
    "model_args.overwrite_output_dir = True\n",
    "model_args.preprocess_inputs = False\n",
    "model_args.num_return_sequences = 1\n",
    "model_args.wandb_project = \"MT5 Russian-RSL Translation\"\n",
    "\n",
    "model2 = T5Model(\"mt5\", \"cointegrated/rut5-small\", args=model_args)"
   ]
  },
  {
   "cell_type": "code",
   "execution_count": null,
   "metadata": {
    "cellId": "vijhy9nsbop8jijpqrssn",
    "colab": {
     "base_uri": "https://localhost:8080/"
    },
    "id": "a215Esj5HFB1",
    "outputId": "0672eeef-638c-4933-f188-01c9e0fc793d"
   },
   "outputs": [],
   "source": [
    "# encodings_train = tokenizer.prepare_seq2seq_batch(list(train_df['input_text']), list(train_df['target_text']))"
   ]
  },
  {
   "cell_type": "code",
   "execution_count": null,
   "metadata": {
    "cellId": "9xunhy91sp9znvq3be8pk",
    "colab": {
     "base_uri": "https://localhost:8080/"
    },
    "id": "Z3hHavcRJKFi",
    "outputId": "c3eb68f7-b2e3-42a6-d6b7-1fe3e5965b30"
   },
   "outputs": [],
   "source": [
    "# encodings_train.keys()"
   ]
  },
  {
   "cell_type": "code",
   "execution_count": null,
   "metadata": {
    "cellId": "567hb61mbabeglwjcxyklh",
    "colab": {
     "base_uri": "https://localhost:8080/"
    },
    "id": "t7DAscrYJYYc",
    "outputId": "829a5630-c8f2-4a24-fb25-9b49071e039a"
   },
   "outputs": [],
   "source": [
    "# print(len(encodings_train['input_ids']), len(train_df))"
   ]
  },
  {
   "cell_type": "markdown",
   "metadata": {
    "cellId": "zvlo4fqmv67msp2ct7xe6"
   },
   "source": [
    "### Train\n",
    "\n",
    "either agnostic or data with replacements or svo/sv data\n",
    "\n",
    "trained mixed data:"
   ]
  },
  {
   "cell_type": "code",
   "execution_count": 32,
   "metadata": {
    "cellId": "ofyfbi6kvbof5gm3yjys29"
   },
   "outputs": [
    {
     "data": {
      "application/vnd.jupyter.widget-view+json": {
       "model_id": "1585fe82f7194d8db30a70f4e53f1938",
       "version_major": 2,
       "version_minor": 0
      },
      "text/plain": [
       "  0%|          | 0/37272 [00:00<?, ?it/s]"
      ]
     },
     "metadata": {},
     "output_type": "display_data"
    },
    {
     "name": "stderr",
     "output_type": "stream",
     "text": [
      "/home/jupyter/.local/lib/python3.8/site-packages/transformers/tokenization_utils_base.py:3538: FutureWarning: \n",
      "`prepare_seq2seq_batch` is deprecated and will be removed in version 5 of HuggingFace Transformers. Use the regular\n",
      "`__call__` method to prepare your inputs and the tokenizer under the `as_target_tokenizer` context manager to prepare\n",
      "your targets.\n",
      "\n",
      "Here is a short example:\n",
      "\n",
      "model_inputs = tokenizer(src_texts, ...)\n",
      "with tokenizer.as_target_tokenizer():\n",
      "    labels = tokenizer(tgt_texts, ...)\n",
      "model_inputs[\"labels\"] = labels[\"input_ids\"]\n",
      "\n",
      "See the documentation of your specific tokenizer for more details on the specific arguments to the tokenizer of choice.\n",
      "For a more complete example, see the implementation of `prepare_seq2seq_batch`.\n",
      "\n",
      "  warnings.warn(formatted_warning, FutureWarning)\n"
     ]
    },
    {
     "data": {
      "application/vnd.jupyter.widget-view+json": {
       "model_id": "845e2e23e1474b95ad9ca73e279c7049",
       "version_major": 2,
       "version_minor": 0
      },
      "text/plain": [
       "Epoch:   0%|          | 0/15 [00:00<?, ?it/s]"
      ]
     },
     "metadata": {},
     "output_type": "display_data"
    },
    {
     "name": "stderr",
     "output_type": "stream",
     "text": [
      "Failed to detect the name of this notebook, you can set it manually with the WANDB_NOTEBOOK_NAME environment variable to enable code saving.\n",
      "\u001b[34m\u001b[1mwandb\u001b[0m: Currently logged in as: \u001b[33mannaklezovich2\u001b[0m (use `wandb login --relogin` to force relogin)\n"
     ]
    },
    {
     "data": {
      "text/html": [
       "wandb version 0.12.17 is available!  To upgrade, please run:\n",
       " $ pip install wandb --upgrade"
      ],
      "text/plain": [
       "<IPython.core.display.HTML object>"
      ]
     },
     "metadata": {},
     "output_type": "display_data"
    },
    {
     "data": {
      "text/html": [
       "Tracking run with wandb version 0.12.15"
      ],
      "text/plain": [
       "<IPython.core.display.HTML object>"
      ]
     },
     "metadata": {},
     "output_type": "display_data"
    },
    {
     "data": {
      "text/html": [
       "Run data is saved locally in <code>/home/jupyter/work/resources/Notebooks/wandb/run-20220526_141321-2rf9pimt</code>"
      ],
      "text/plain": [
       "<IPython.core.display.HTML object>"
      ]
     },
     "metadata": {},
     "output_type": "display_data"
    },
    {
     "data": {
      "text/html": [
       "Syncing run <strong><a href=\"https://wandb.ai/annaklezovich2/MT5%20Russian-RSL%20Translation/runs/2rf9pimt\" target=\"_blank\">wise-gorge-15</a></strong> to <a href=\"https://wandb.ai/annaklezovich2/MT5%20Russian-RSL%20Translation\" target=\"_blank\">Weights & Biases</a> (<a href=\"https://wandb.me/run\" target=\"_blank\">docs</a>)<br/>"
      ],
      "text/plain": [
       "<IPython.core.display.HTML object>"
      ]
     },
     "metadata": {},
     "output_type": "display_data"
    },
    {
     "data": {
      "application/vnd.jupyter.widget-view+json": {
       "model_id": "ed700008b2eb46c0a2362c794b6342bf",
       "version_major": 2,
       "version_minor": 0
      },
      "text/plain": [
       "Running Epoch 0 of 15:   0%|          | 0/1243 [00:00<?, ?it/s]"
      ]
     },
     "metadata": {},
     "output_type": "display_data"
    },
    {
     "data": {
      "application/vnd.jupyter.widget-view+json": {
       "model_id": "dd71806d24e141fba2cca59f565ed0d2",
       "version_major": 2,
       "version_minor": 0
      },
      "text/plain": [
       "  0%|          | 0/758 [00:00<?, ?it/s]"
      ]
     },
     "metadata": {},
     "output_type": "display_data"
    },
    {
     "data": {
      "application/vnd.jupyter.widget-view+json": {
       "model_id": "acc80535b7494b38861b806905421a20",
       "version_major": 2,
       "version_minor": 0
      },
      "text/plain": [
       "Running Epoch 1 of 15:   0%|          | 0/1243 [00:00<?, ?it/s]"
      ]
     },
     "metadata": {},
     "output_type": "display_data"
    },
    {
     "data": {
      "application/vnd.jupyter.widget-view+json": {
       "model_id": "2f3aa23b4b08467ab0263b3f4d0a6a10",
       "version_major": 2,
       "version_minor": 0
      },
      "text/plain": [
       "  0%|          | 0/758 [00:00<?, ?it/s]"
      ]
     },
     "metadata": {},
     "output_type": "display_data"
    },
    {
     "data": {
      "application/vnd.jupyter.widget-view+json": {
       "model_id": "7682068598194934ac90a602ea19885f",
       "version_major": 2,
       "version_minor": 0
      },
      "text/plain": [
       "Running Epoch 2 of 15:   0%|          | 0/1243 [00:00<?, ?it/s]"
      ]
     },
     "metadata": {},
     "output_type": "display_data"
    },
    {
     "data": {
      "application/vnd.jupyter.widget-view+json": {
       "model_id": "c8d254885535401fbc58b95957467c7f",
       "version_major": 2,
       "version_minor": 0
      },
      "text/plain": [
       "  0%|          | 0/758 [00:00<?, ?it/s]"
      ]
     },
     "metadata": {},
     "output_type": "display_data"
    },
    {
     "data": {
      "application/vnd.jupyter.widget-view+json": {
       "model_id": "b0e9dc00c16548ecbfb737f2f77768c3",
       "version_major": 2,
       "version_minor": 0
      },
      "text/plain": [
       "Running Epoch 3 of 15:   0%|          | 0/1243 [00:00<?, ?it/s]"
      ]
     },
     "metadata": {},
     "output_type": "display_data"
    },
    {
     "data": {
      "application/vnd.jupyter.widget-view+json": {
       "model_id": "699b9e2294a1420d91033ab13fa3c5c3",
       "version_major": 2,
       "version_minor": 0
      },
      "text/plain": [
       "  0%|          | 0/758 [00:00<?, ?it/s]"
      ]
     },
     "metadata": {},
     "output_type": "display_data"
    },
    {
     "data": {
      "application/vnd.jupyter.widget-view+json": {
       "model_id": "afb0b64be9c540afb0819b4b4bd842a8",
       "version_major": 2,
       "version_minor": 0
      },
      "text/plain": [
       "Running Epoch 4 of 15:   0%|          | 0/1243 [00:00<?, ?it/s]"
      ]
     },
     "metadata": {},
     "output_type": "display_data"
    },
    {
     "data": {
      "application/vnd.jupyter.widget-view+json": {
       "model_id": "9e29a033761b409b91e684c8a40a0c9d",
       "version_major": 2,
       "version_minor": 0
      },
      "text/plain": [
       "  0%|          | 0/758 [00:00<?, ?it/s]"
      ]
     },
     "metadata": {},
     "output_type": "display_data"
    },
    {
     "data": {
      "application/vnd.jupyter.widget-view+json": {
       "model_id": "23a77c3ed4fb48d28ea5d8f50b9413f6",
       "version_major": 2,
       "version_minor": 0
      },
      "text/plain": [
       "Running Epoch 5 of 15:   0%|          | 0/1243 [00:00<?, ?it/s]"
      ]
     },
     "metadata": {},
     "output_type": "display_data"
    },
    {
     "data": {
      "application/vnd.jupyter.widget-view+json": {
       "model_id": "67222aa336504c158e742d4c1727b9c0",
       "version_major": 2,
       "version_minor": 0
      },
      "text/plain": [
       "  0%|          | 0/758 [00:00<?, ?it/s]"
      ]
     },
     "metadata": {},
     "output_type": "display_data"
    },
    {
     "data": {
      "application/vnd.jupyter.widget-view+json": {
       "model_id": "35e30262bf80497d90dc272382136499",
       "version_major": 2,
       "version_minor": 0
      },
      "text/plain": [
       "Running Epoch 6 of 15:   0%|          | 0/1243 [00:00<?, ?it/s]"
      ]
     },
     "metadata": {},
     "output_type": "display_data"
    },
    {
     "data": {
      "application/vnd.jupyter.widget-view+json": {
       "model_id": "6e0064258f134da9bb2d59a5b2c282b9",
       "version_major": 2,
       "version_minor": 0
      },
      "text/plain": [
       "  0%|          | 0/758 [00:00<?, ?it/s]"
      ]
     },
     "metadata": {},
     "output_type": "display_data"
    },
    {
     "data": {
      "application/vnd.jupyter.widget-view+json": {
       "model_id": "7123bfe1775a4027b5297b59e4bac851",
       "version_major": 2,
       "version_minor": 0
      },
      "text/plain": [
       "Running Epoch 7 of 15:   0%|          | 0/1243 [00:00<?, ?it/s]"
      ]
     },
     "metadata": {},
     "output_type": "display_data"
    },
    {
     "data": {
      "application/vnd.jupyter.widget-view+json": {
       "model_id": "1504781e9d2f4d95803a6d73125563d2",
       "version_major": 2,
       "version_minor": 0
      },
      "text/plain": [
       "  0%|          | 0/758 [00:00<?, ?it/s]"
      ]
     },
     "metadata": {},
     "output_type": "display_data"
    },
    {
     "data": {
      "application/vnd.jupyter.widget-view+json": {
       "model_id": "cde79a53ce794c758e8090ebdea52c79",
       "version_major": 2,
       "version_minor": 0
      },
      "text/plain": [
       "Running Epoch 8 of 15:   0%|          | 0/1243 [00:00<?, ?it/s]"
      ]
     },
     "metadata": {},
     "output_type": "display_data"
    },
    {
     "data": {
      "application/vnd.jupyter.widget-view+json": {
       "model_id": "cb5dda56f8454c0d9670f0bae1888000",
       "version_major": 2,
       "version_minor": 0
      },
      "text/plain": [
       "  0%|          | 0/758 [00:00<?, ?it/s]"
      ]
     },
     "metadata": {},
     "output_type": "display_data"
    },
    {
     "data": {
      "application/vnd.jupyter.widget-view+json": {
       "model_id": "8ef5b9eb5b8a47ff9d4221908e5c1846",
       "version_major": 2,
       "version_minor": 0
      },
      "text/plain": [
       "Running Epoch 9 of 15:   0%|          | 0/1243 [00:00<?, ?it/s]"
      ]
     },
     "metadata": {},
     "output_type": "display_data"
    },
    {
     "data": {
      "application/vnd.jupyter.widget-view+json": {
       "model_id": "866d8df2609846bda048fbc3ac5c054b",
       "version_major": 2,
       "version_minor": 0
      },
      "text/plain": [
       "  0%|          | 0/758 [00:00<?, ?it/s]"
      ]
     },
     "metadata": {},
     "output_type": "display_data"
    },
    {
     "data": {
      "application/vnd.jupyter.widget-view+json": {
       "model_id": "eb3dd769ffbb41adbcf92cef80b59fa1",
       "version_major": 2,
       "version_minor": 0
      },
      "text/plain": [
       "Running Epoch 10 of 15:   0%|          | 0/1243 [00:00<?, ?it/s]"
      ]
     },
     "metadata": {},
     "output_type": "display_data"
    },
    {
     "data": {
      "application/vnd.jupyter.widget-view+json": {
       "model_id": "be219a2d43c046f0be36fef0b0db4722",
       "version_major": 2,
       "version_minor": 0
      },
      "text/plain": [
       "  0%|          | 0/758 [00:00<?, ?it/s]"
      ]
     },
     "metadata": {},
     "output_type": "display_data"
    },
    {
     "data": {
      "application/vnd.jupyter.widget-view+json": {
       "model_id": "0498b6e7baf04f26b0c11e5e69565e05",
       "version_major": 2,
       "version_minor": 0
      },
      "text/plain": [
       "Running Epoch 11 of 15:   0%|          | 0/1243 [00:00<?, ?it/s]"
      ]
     },
     "metadata": {},
     "output_type": "display_data"
    },
    {
     "data": {
      "application/vnd.jupyter.widget-view+json": {
       "model_id": "390b0a25642e4158ababfad945170f7d",
       "version_major": 2,
       "version_minor": 0
      },
      "text/plain": [
       "  0%|          | 0/758 [00:00<?, ?it/s]"
      ]
     },
     "metadata": {},
     "output_type": "display_data"
    },
    {
     "data": {
      "application/vnd.jupyter.widget-view+json": {
       "model_id": "b92d3fc134ab4aa49eaf066f129d660c",
       "version_major": 2,
       "version_minor": 0
      },
      "text/plain": [
       "Running Epoch 12 of 15:   0%|          | 0/1243 [00:00<?, ?it/s]"
      ]
     },
     "metadata": {},
     "output_type": "display_data"
    },
    {
     "data": {
      "application/vnd.jupyter.widget-view+json": {
       "model_id": "96441bfc247c477d8fd7cd9b5f2b17e1",
       "version_major": 2,
       "version_minor": 0
      },
      "text/plain": [
       "  0%|          | 0/758 [00:00<?, ?it/s]"
      ]
     },
     "metadata": {},
     "output_type": "display_data"
    },
    {
     "data": {
      "application/vnd.jupyter.widget-view+json": {
       "model_id": "4accdd30d29c4c4687460c5cd68f238b",
       "version_major": 2,
       "version_minor": 0
      },
      "text/plain": [
       "Running Epoch 13 of 15:   0%|          | 0/1243 [00:00<?, ?it/s]"
      ]
     },
     "metadata": {},
     "output_type": "display_data"
    },
    {
     "data": {
      "application/vnd.jupyter.widget-view+json": {
       "model_id": "8da994321bcb4884a212b23e3dc65a10",
       "version_major": 2,
       "version_minor": 0
      },
      "text/plain": [
       "  0%|          | 0/758 [00:00<?, ?it/s]"
      ]
     },
     "metadata": {},
     "output_type": "display_data"
    },
    {
     "data": {
      "application/vnd.jupyter.widget-view+json": {
       "model_id": "ccb2248450db4a55b76e9d52cf5b295f",
       "version_major": 2,
       "version_minor": 0
      },
      "text/plain": [
       "Running Epoch 14 of 15:   0%|          | 0/1243 [00:00<?, ?it/s]"
      ]
     },
     "metadata": {},
     "output_type": "display_data"
    },
    {
     "data": {
      "application/vnd.jupyter.widget-view+json": {
       "model_id": "a8b39aa90f1a4528b600cbdc38fdc75e",
       "version_major": 2,
       "version_minor": 0
      },
      "text/plain": [
       "  0%|          | 0/758 [00:00<?, ?it/s]"
      ]
     },
     "metadata": {},
     "output_type": "display_data"
    },
    {
     "data": {
      "text/plain": [
       "(18645,\n",
       " {'global_step': [1243,\n",
       "   2486,\n",
       "   3729,\n",
       "   4972,\n",
       "   6215,\n",
       "   7458,\n",
       "   8701,\n",
       "   9944,\n",
       "   11187,\n",
       "   12430,\n",
       "   13673,\n",
       "   14916,\n",
       "   16159,\n",
       "   17402,\n",
       "   18645],\n",
       "  'eval_loss': [2.559221015526698,\n",
       "   2.137290363128369,\n",
       "   1.8809485618884747,\n",
       "   1.7063866670315082,\n",
       "   1.5292773980360765,\n",
       "   1.3983793121117811,\n",
       "   1.2884417176246643,\n",
       "   1.2052925458321204,\n",
       "   1.1099997346217816,\n",
       "   1.0548069018584032,\n",
       "   0.9808435806861291,\n",
       "   0.9378048754655398,\n",
       "   0.9062466071202204,\n",
       "   0.8909609386554131,\n",
       "   0.8623971606676395],\n",
       "  'train_loss': [2.8012301921844482,\n",
       "   1.736411690711975,\n",
       "   1.6136212348937988,\n",
       "   1.8659745454788208,\n",
       "   1.9774457216262817,\n",
       "   2.2660181522369385,\n",
       "   1.1241375207901,\n",
       "   1.0532342195510864,\n",
       "   0.8244633078575134,\n",
       "   1.3131656646728516,\n",
       "   1.0608710050582886,\n",
       "   1.4337328672409058,\n",
       "   1.5597245693206787,\n",
       "   0.6983676552772522,\n",
       "   1.5127571821212769]})"
      ]
     },
     "execution_count": 32,
     "metadata": {},
     "output_type": "execute_result"
    }
   ],
   "source": [
    "#!g1.1\n",
    "model2.train_model(mixed_data_agn_forty, eval_data=test_data)"
   ]
  },
  {
   "cell_type": "code",
   "execution_count": 23,
   "metadata": {
    "cellId": "ukpdwu853ue060jgij3utsc",
    "collapsed": true,
    "jupyter": {
     "outputs_hidden": true
    }
   },
   "outputs": [
    {
     "data": {
      "application/vnd.jupyter.widget-view+json": {
       "model_id": "9b74e02b8d1545ff88a208ebc6541714",
       "version_major": 2,
       "version_minor": 0
      },
      "text/plain": [
       "  0%|          | 0/19001 [00:00<?, ?it/s]"
      ]
     },
     "metadata": {},
     "output_type": "display_data"
    },
    {
     "data": {
      "application/vnd.jupyter.widget-view+json": {
       "model_id": "ee18ada3d3e94a7883906af24544afb9",
       "version_major": 2,
       "version_minor": 0
      },
      "text/plain": [
       "Epoch:   0%|          | 0/15 [00:00<?, ?it/s]"
      ]
     },
     "metadata": {},
     "output_type": "display_data"
    },
    {
     "data": {
      "text/html": [
       "Finishing last run (ID:32lmqlvd) before initializing another..."
      ],
      "text/plain": [
       "<IPython.core.display.HTML object>"
      ]
     },
     "metadata": {},
     "output_type": "display_data"
    },
    {
     "data": {
      "text/html": [
       "Waiting for W&B process to finish... <strong style=\"color:green\">(success).</strong>"
      ],
      "text/plain": [
       "<IPython.core.display.HTML object>"
      ]
     },
     "metadata": {},
     "output_type": "display_data"
    },
    {
     "data": {
      "application/vnd.jupyter.widget-view+json": {
       "model_id": "e3215bc4bd744ec3babe053e35e015be",
       "version_major": 2,
       "version_minor": 0
      },
      "text/plain": [
       "VBox(children=(Label(value='0.001 MB of 0.001 MB uploaded (0.000 MB deduped)\\r'), FloatProgress(value=1.0, max…"
      ]
     },
     "metadata": {},
     "output_type": "display_data"
    },
    {
     "data": {
      "text/html": [
       "<style>\n",
       "    table.wandb td:nth-child(1) { padding: 0 10px; text-align: right }\n",
       "    .wandb-row { display: flex; flex-direction: row; flex-wrap: wrap; width: 100% }\n",
       "    .wandb-col { display: flex; flex-direction: column; flex-basis: 100%; flex: 1; padding: 10px; }\n",
       "    </style>\n",
       "<div class=\"wandb-row\"><div class=\"wandb-col\"><h3>Run history:</h3><br/><table class=\"wandb\"><tr><td>Training loss</td><td>█▄▃▂▂▂▂▁▁▂▁▁</td></tr><tr><td>global_step</td><td>▁▂▂▃▄▄▅▅▆▇▇█</td></tr><tr><td>lr</td><td>▁▂▂▃▄▄▅▆▆▇██</td></tr></table><br/></div><div class=\"wandb-col\"><h3>Run summary:</h3><br/><table class=\"wandb\"><tr><td>Training loss</td><td>0.01572</td></tr><tr><td>global_step</td><td>600</td></tr><tr><td>lr</td><td>0.001</td></tr></table><br/></div></div>"
      ],
      "text/plain": [
       "<IPython.core.display.HTML object>"
      ]
     },
     "metadata": {},
     "output_type": "display_data"
    },
    {
     "data": {
      "text/html": [
       "Synced <strong style=\"color:#cdcd00\">sleek-forest-5</strong>: <a href=\"https://wandb.ai/annaklezovich2/MT5%20Russian-RSL%20Translation/runs/32lmqlvd\" target=\"_blank\">https://wandb.ai/annaklezovich2/MT5%20Russian-RSL%20Translation/runs/32lmqlvd</a><br/>Synced 5 W&B file(s), 0 media file(s), 0 artifact file(s) and 0 other file(s)"
      ],
      "text/plain": [
       "<IPython.core.display.HTML object>"
      ]
     },
     "metadata": {},
     "output_type": "display_data"
    },
    {
     "data": {
      "text/html": [
       "Find logs at: <code>./wandb/run-20220525_153333-32lmqlvd/logs</code>"
      ],
      "text/plain": [
       "<IPython.core.display.HTML object>"
      ]
     },
     "metadata": {},
     "output_type": "display_data"
    },
    {
     "data": {
      "text/html": [
       "Successfully finished last run (ID:32lmqlvd). Initializing new run:<br/>"
      ],
      "text/plain": [
       "<IPython.core.display.HTML object>"
      ]
     },
     "metadata": {},
     "output_type": "display_data"
    },
    {
     "data": {
      "text/html": [
       "wandb version 0.12.16 is available!  To upgrade, please run:\n",
       " $ pip install wandb --upgrade"
      ],
      "text/plain": [
       "<IPython.core.display.HTML object>"
      ]
     },
     "metadata": {},
     "output_type": "display_data"
    },
    {
     "data": {
      "text/html": [
       "Tracking run with wandb version 0.12.15"
      ],
      "text/plain": [
       "<IPython.core.display.HTML object>"
      ]
     },
     "metadata": {},
     "output_type": "display_data"
    },
    {
     "data": {
      "text/html": [
       "Run data is saved locally in <code>/home/jupyter/work/resources/Notebooks/wandb/run-20220525_154040-3kdxjvhh</code>"
      ],
      "text/plain": [
       "<IPython.core.display.HTML object>"
      ]
     },
     "metadata": {},
     "output_type": "display_data"
    },
    {
     "data": {
      "text/html": [
       "Syncing run <strong><a href=\"https://wandb.ai/annaklezovich2/MT5%20Russian-RSL%20Translation/runs/3kdxjvhh\" target=\"_blank\">classic-water-6</a></strong> to <a href=\"https://wandb.ai/annaklezovich2/MT5%20Russian-RSL%20Translation\" target=\"_blank\">Weights & Biases</a> (<a href=\"https://wandb.me/run\" target=\"_blank\">docs</a>)<br/>"
      ],
      "text/plain": [
       "<IPython.core.display.HTML object>"
      ]
     },
     "metadata": {},
     "output_type": "display_data"
    },
    {
     "data": {
      "application/vnd.jupyter.widget-view+json": {
       "model_id": "63efd3ad31eb4bb4981612a36ff7716a",
       "version_major": 2,
       "version_minor": 0
      },
      "text/plain": [
       "Running Epoch 0 of 15:   0%|          | 0/634 [00:00<?, ?it/s]"
      ]
     },
     "metadata": {},
     "output_type": "display_data"
    },
    {
     "data": {
      "application/vnd.jupyter.widget-view+json": {
       "model_id": "a03ee6bb23b04e3aabc80e9dc5cb2b31",
       "version_major": 2,
       "version_minor": 0
      },
      "text/plain": [
       "  0%|          | 0/758 [00:00<?, ?it/s]"
      ]
     },
     "metadata": {},
     "output_type": "display_data"
    },
    {
     "data": {
      "application/vnd.jupyter.widget-view+json": {
       "model_id": "da473d14dbcc4f9dbae0298a9ebd31db",
       "version_major": 2,
       "version_minor": 0
      },
      "text/plain": [
       "Running Epoch 1 of 15:   0%|          | 0/634 [00:00<?, ?it/s]"
      ]
     },
     "metadata": {},
     "output_type": "display_data"
    },
    {
     "data": {
      "application/vnd.jupyter.widget-view+json": {
       "model_id": "545d586c65d34a938245752142ad9259",
       "version_major": 2,
       "version_minor": 0
      },
      "text/plain": [
       "  0%|          | 0/758 [00:00<?, ?it/s]"
      ]
     },
     "metadata": {},
     "output_type": "display_data"
    },
    {
     "data": {
      "application/vnd.jupyter.widget-view+json": {
       "model_id": "f938e18f2aed444a8e80fc5c449a6704",
       "version_major": 2,
       "version_minor": 0
      },
      "text/plain": [
       "Running Epoch 2 of 15:   0%|          | 0/634 [00:00<?, ?it/s]"
      ]
     },
     "metadata": {},
     "output_type": "display_data"
    },
    {
     "data": {
      "application/vnd.jupyter.widget-view+json": {
       "model_id": "3989446aa2794a0399e2f42528192f79",
       "version_major": 2,
       "version_minor": 0
      },
      "text/plain": [
       "  0%|          | 0/758 [00:00<?, ?it/s]"
      ]
     },
     "metadata": {},
     "output_type": "display_data"
    },
    {
     "data": {
      "application/vnd.jupyter.widget-view+json": {
       "model_id": "55f68b7adbf240b3b0252db2ba8de245",
       "version_major": 2,
       "version_minor": 0
      },
      "text/plain": [
       "Running Epoch 3 of 15:   0%|          | 0/634 [00:00<?, ?it/s]"
      ]
     },
     "metadata": {},
     "output_type": "display_data"
    },
    {
     "data": {
      "application/vnd.jupyter.widget-view+json": {
       "model_id": "4b0e4118aa0c48bbba8761fbcbccd83b",
       "version_major": 2,
       "version_minor": 0
      },
      "text/plain": [
       "  0%|          | 0/758 [00:00<?, ?it/s]"
      ]
     },
     "metadata": {},
     "output_type": "display_data"
    },
    {
     "data": {
      "application/vnd.jupyter.widget-view+json": {
       "model_id": "3e6363cf95bd4c8782becb13e6524ece",
       "version_major": 2,
       "version_minor": 0
      },
      "text/plain": [
       "Running Epoch 4 of 15:   0%|          | 0/634 [00:00<?, ?it/s]"
      ]
     },
     "metadata": {},
     "output_type": "display_data"
    },
    {
     "data": {
      "application/vnd.jupyter.widget-view+json": {
       "model_id": "c557e6287ab2497994fb710b58bd80ba",
       "version_major": 2,
       "version_minor": 0
      },
      "text/plain": [
       "  0%|          | 0/758 [00:00<?, ?it/s]"
      ]
     },
     "metadata": {},
     "output_type": "display_data"
    },
    {
     "data": {
      "application/vnd.jupyter.widget-view+json": {
       "model_id": "b94d5ae8e8384b75a4ff2effb5740b83",
       "version_major": 2,
       "version_minor": 0
      },
      "text/plain": [
       "Running Epoch 5 of 15:   0%|          | 0/634 [00:00<?, ?it/s]"
      ]
     },
     "metadata": {},
     "output_type": "display_data"
    },
    {
     "data": {
      "application/vnd.jupyter.widget-view+json": {
       "model_id": "1401dcf231154495b2b576d44d8fda5a",
       "version_major": 2,
       "version_minor": 0
      },
      "text/plain": [
       "  0%|          | 0/758 [00:00<?, ?it/s]"
      ]
     },
     "metadata": {},
     "output_type": "display_data"
    },
    {
     "data": {
      "application/vnd.jupyter.widget-view+json": {
       "model_id": "e1d639e984d044b593d561a4f867c339",
       "version_major": 2,
       "version_minor": 0
      },
      "text/plain": [
       "Running Epoch 6 of 15:   0%|          | 0/634 [00:00<?, ?it/s]"
      ]
     },
     "metadata": {},
     "output_type": "display_data"
    },
    {
     "data": {
      "application/vnd.jupyter.widget-view+json": {
       "model_id": "b05f844791ce445bab1781573f543921",
       "version_major": 2,
       "version_minor": 0
      },
      "text/plain": [
       "  0%|          | 0/758 [00:00<?, ?it/s]"
      ]
     },
     "metadata": {},
     "output_type": "display_data"
    },
    {
     "data": {
      "application/vnd.jupyter.widget-view+json": {
       "model_id": "b71e33394d3a4bf4be7f8c57b8e6255a",
       "version_major": 2,
       "version_minor": 0
      },
      "text/plain": [
       "Running Epoch 7 of 15:   0%|          | 0/634 [00:00<?, ?it/s]"
      ]
     },
     "metadata": {},
     "output_type": "display_data"
    },
    {
     "data": {
      "application/vnd.jupyter.widget-view+json": {
       "model_id": "8fbb0157c547400693e625e0ab291c07",
       "version_major": 2,
       "version_minor": 0
      },
      "text/plain": [
       "  0%|          | 0/758 [00:00<?, ?it/s]"
      ]
     },
     "metadata": {},
     "output_type": "display_data"
    },
    {
     "data": {
      "application/vnd.jupyter.widget-view+json": {
       "model_id": "d89e07d69d6843c3adebe932bd574ae4",
       "version_major": 2,
       "version_minor": 0
      },
      "text/plain": [
       "Running Epoch 8 of 15:   0%|          | 0/634 [00:00<?, ?it/s]"
      ]
     },
     "metadata": {},
     "output_type": "display_data"
    },
    {
     "data": {
      "application/vnd.jupyter.widget-view+json": {
       "model_id": "9192530365194806af1aa43d91433d60",
       "version_major": 2,
       "version_minor": 0
      },
      "text/plain": [
       "  0%|          | 0/758 [00:00<?, ?it/s]"
      ]
     },
     "metadata": {},
     "output_type": "display_data"
    },
    {
     "data": {
      "application/vnd.jupyter.widget-view+json": {
       "model_id": "1a24d1c80efc44fdb76c2dd992f88813",
       "version_major": 2,
       "version_minor": 0
      },
      "text/plain": [
       "Running Epoch 9 of 15:   0%|          | 0/634 [00:00<?, ?it/s]"
      ]
     },
     "metadata": {},
     "output_type": "display_data"
    },
    {
     "data": {
      "application/vnd.jupyter.widget-view+json": {
       "model_id": "25387a46ae344df7955bfbf6de48580f",
       "version_major": 2,
       "version_minor": 0
      },
      "text/plain": [
       "  0%|          | 0/758 [00:00<?, ?it/s]"
      ]
     },
     "metadata": {},
     "output_type": "display_data"
    },
    {
     "data": {
      "application/vnd.jupyter.widget-view+json": {
       "model_id": "9c2b5230206a40f3b9e6fb9579b9c32c",
       "version_major": 2,
       "version_minor": 0
      },
      "text/plain": [
       "Running Epoch 10 of 15:   0%|          | 0/634 [00:00<?, ?it/s]"
      ]
     },
     "metadata": {},
     "output_type": "display_data"
    },
    {
     "data": {
      "application/vnd.jupyter.widget-view+json": {
       "model_id": "10ace65832d24d4f9dec7f519e6b970b",
       "version_major": 2,
       "version_minor": 0
      },
      "text/plain": [
       "  0%|          | 0/758 [00:00<?, ?it/s]"
      ]
     },
     "metadata": {},
     "output_type": "display_data"
    },
    {
     "data": {
      "application/vnd.jupyter.widget-view+json": {
       "model_id": "d4a323942d1c4b929b3c4231ec429d1f",
       "version_major": 2,
       "version_minor": 0
      },
      "text/plain": [
       "Running Epoch 11 of 15:   0%|          | 0/634 [00:00<?, ?it/s]"
      ]
     },
     "metadata": {},
     "output_type": "display_data"
    },
    {
     "data": {
      "application/vnd.jupyter.widget-view+json": {
       "model_id": "dea9f9efb8dc4949b903a9b660093605",
       "version_major": 2,
       "version_minor": 0
      },
      "text/plain": [
       "  0%|          | 0/758 [00:00<?, ?it/s]"
      ]
     },
     "metadata": {},
     "output_type": "display_data"
    },
    {
     "data": {
      "application/vnd.jupyter.widget-view+json": {
       "model_id": "38263517c7414c418900c503a7979971",
       "version_major": 2,
       "version_minor": 0
      },
      "text/plain": [
       "Running Epoch 12 of 15:   0%|          | 0/634 [00:00<?, ?it/s]"
      ]
     },
     "metadata": {},
     "output_type": "display_data"
    },
    {
     "data": {
      "application/vnd.jupyter.widget-view+json": {
       "model_id": "2df85022683c49d596f58a68cfacd939",
       "version_major": 2,
       "version_minor": 0
      },
      "text/plain": [
       "  0%|          | 0/758 [00:00<?, ?it/s]"
      ]
     },
     "metadata": {},
     "output_type": "display_data"
    },
    {
     "data": {
      "application/vnd.jupyter.widget-view+json": {
       "model_id": "ac349153aca6455b89b07ce26bd768b8",
       "version_major": 2,
       "version_minor": 0
      },
      "text/plain": [
       "Running Epoch 13 of 15:   0%|          | 0/634 [00:00<?, ?it/s]"
      ]
     },
     "metadata": {},
     "output_type": "display_data"
    },
    {
     "data": {
      "application/vnd.jupyter.widget-view+json": {
       "model_id": "286dad3f11ea41d59e8c423a324fbfde",
       "version_major": 2,
       "version_minor": 0
      },
      "text/plain": [
       "  0%|          | 0/758 [00:00<?, ?it/s]"
      ]
     },
     "metadata": {},
     "output_type": "display_data"
    },
    {
     "data": {
      "application/vnd.jupyter.widget-view+json": {
       "model_id": "232f771806e14024b0b73467bff83d3e",
       "version_major": 2,
       "version_minor": 0
      },
      "text/plain": [
       "Running Epoch 14 of 15:   0%|          | 0/634 [00:00<?, ?it/s]"
      ]
     },
     "metadata": {},
     "output_type": "display_data"
    },
    {
     "data": {
      "application/vnd.jupyter.widget-view+json": {
       "model_id": "96edc225dc1248e692fb7237aa656f30",
       "version_major": 2,
       "version_minor": 0
      },
      "text/plain": [
       "  0%|          | 0/758 [00:00<?, ?it/s]"
      ]
     },
     "metadata": {},
     "output_type": "display_data"
    },
    {
     "name": "stderr",
     "output_type": "stream",
     "text": [
      "INFO:simpletransformers.t5.t5_utils: Creating features from dataset file at cache_dir/\n",
      "/home/jupyter/.local/lib/python3.8/site-packages/transformers/tokenization_utils_base.py:3538: FutureWarning: \n",
      "`prepare_seq2seq_batch` is deprecated and will be removed in version 5 of HuggingFace Transformers. Use the regular\n",
      "`__call__` method to prepare your inputs and the tokenizer under the `as_target_tokenizer` context manager to prepare\n",
      "your targets.\n",
      "\n",
      "Here is a short example:\n",
      "\n",
      "model_inputs = tokenizer(src_texts, ...)\n",
      "with tokenizer.as_target_tokenizer():\n",
      "    labels = tokenizer(tgt_texts, ...)\n",
      "model_inputs[\"labels\"] = labels[\"input_ids\"]\n",
      "\n",
      "See the documentation of your specific tokenizer for more details on the specific arguments to the tokenizer of choice.\n",
      "For a more complete example, see the implementation of `prepare_seq2seq_batch`.\n",
      "\n",
      "  warnings.warn(formatted_warning, FutureWarning)\n",
      "INFO:simpletransformers.t5.t5_model: Training started\n",
      "INFO:simpletransformers.t5.t5_utils: Creating features from dataset file at cache_dir/\n",
      "INFO:simpletransformers.t5.t5_utils: Creating features from dataset file at cache_dir/\n",
      "INFO:simpletransformers.t5.t5_utils: Creating features from dataset file at cache_dir/\n",
      "INFO:simpletransformers.t5.t5_utils: Creating features from dataset file at cache_dir/\n",
      "INFO:simpletransformers.t5.t5_utils: Creating features from dataset file at cache_dir/\n",
      "INFO:simpletransformers.t5.t5_utils: Creating features from dataset file at cache_dir/\n",
      "INFO:simpletransformers.t5.t5_utils: Creating features from dataset file at cache_dir/\n",
      "INFO:simpletransformers.t5.t5_utils: Creating features from dataset file at cache_dir/\n",
      "INFO:simpletransformers.t5.t5_utils: Creating features from dataset file at cache_dir/\n",
      "INFO:simpletransformers.t5.t5_utils: Creating features from dataset file at cache_dir/\n",
      "INFO:simpletransformers.t5.t5_utils: Creating features from dataset file at cache_dir/\n",
      "INFO:simpletransformers.t5.t5_utils: Creating features from dataset file at cache_dir/\n",
      "INFO:simpletransformers.t5.t5_utils: Creating features from dataset file at cache_dir/\n",
      "INFO:simpletransformers.t5.t5_utils: Creating features from dataset file at cache_dir/\n",
      "INFO:simpletransformers.t5.t5_utils: Creating features from dataset file at cache_dir/\n",
      "INFO:simpletransformers.t5.t5_model: Training of cointegrated/rut5-small model complete. Saved to outputs/.\n"
     ]
    },
    {
     "data": {
      "text/plain": [
       "(9510,\n",
       " {'global_step': [634,\n",
       "   1268,\n",
       "   1902,\n",
       "   2536,\n",
       "   3170,\n",
       "   3804,\n",
       "   4438,\n",
       "   5072,\n",
       "   5706,\n",
       "   6340,\n",
       "   6974,\n",
       "   7608,\n",
       "   8242,\n",
       "   8876,\n",
       "   9510],\n",
       "  'eval_loss': [5.907175926061777,\n",
       "   5.618430504432092,\n",
       "   6.423964720505935,\n",
       "   6.288629513520461,\n",
       "   6.206504399959858,\n",
       "   6.745974980867826,\n",
       "   7.042715824567354,\n",
       "   6.993788205660307,\n",
       "   6.963756799697876,\n",
       "   7.538971369083111,\n",
       "   7.825443322841938,\n",
       "   7.997741185701811,\n",
       "   7.982146721619826,\n",
       "   7.547655142270601,\n",
       "   7.821684140425462],\n",
       "  'train_loss': [0.016872042790055275,\n",
       "   0.02989443577826023,\n",
       "   0.03546373173594475,\n",
       "   0.0006675356416963041,\n",
       "   0.6496586799621582,\n",
       "   0.0029251279775053263,\n",
       "   0.008052289485931396,\n",
       "   0.0054920744150877,\n",
       "   0.00021719283540733159,\n",
       "   0.0008286931551992893,\n",
       "   1.4542792087013368e-05,\n",
       "   0.00011964490113314241,\n",
       "   0.00020861021766904742,\n",
       "   0.04833954572677612,\n",
       "   3.6084344174014404e-05]})"
      ]
     },
     "execution_count": 23,
     "metadata": {},
     "output_type": "execute_result"
    }
   ],
   "source": [
    "#!g1.1s\n",
    "# svo\\sv data\n",
    "model2.train_model(rared_good, eval_data=test_data) "
   ]
  },
  {
   "cell_type": "code",
   "execution_count": 14,
   "metadata": {
    "cellId": "y3mqtcg252707lm8o1u9ohg",
    "collapsed": true,
    "jupyter": {
     "outputs_hidden": true
    }
   },
   "outputs": [
    {
     "data": {
      "application/vnd.jupyter.widget-view+json": {
       "model_id": "c55ecac7dfd44081bd3ea2ed5bd1b325",
       "version_major": 2,
       "version_minor": 0
      },
      "text/plain": [
       "  0%|          | 0/20000 [00:00<?, ?it/s]"
      ]
     },
     "metadata": {},
     "output_type": "display_data"
    },
    {
     "data": {
      "application/vnd.jupyter.widget-view+json": {
       "model_id": "32461f623e424a3cb1a8996051191801",
       "version_major": 2,
       "version_minor": 0
      },
      "text/plain": [
       "Epoch:   0%|          | 0/15 [00:00<?, ?it/s]"
      ]
     },
     "metadata": {},
     "output_type": "display_data"
    },
    {
     "data": {
      "text/html": [
       "wandb version 0.12.16 is available!  To upgrade, please run:\n",
       " $ pip install wandb --upgrade"
      ],
      "text/plain": [
       "<IPython.core.display.HTML object>"
      ]
     },
     "metadata": {},
     "output_type": "display_data"
    },
    {
     "data": {
      "text/html": [
       "Tracking run with wandb version 0.12.15"
      ],
      "text/plain": [
       "<IPython.core.display.HTML object>"
      ]
     },
     "metadata": {},
     "output_type": "display_data"
    },
    {
     "data": {
      "text/html": [
       "Run data is saved locally in <code>/home/jupyter/work/resources/Notebooks/wandb/run-20220525_123928-2bmqguw7</code>"
      ],
      "text/plain": [
       "<IPython.core.display.HTML object>"
      ]
     },
     "metadata": {},
     "output_type": "display_data"
    },
    {
     "data": {
      "text/html": [
       "Syncing run <strong><a href=\"https://wandb.ai/annaklezovich2/MT5%20Russian-RSL%20Translation/runs/2bmqguw7\" target=\"_blank\">breezy-blaze-4</a></strong> to <a href=\"https://wandb.ai/annaklezovich2/MT5%20Russian-RSL%20Translation\" target=\"_blank\">Weights & Biases</a> (<a href=\"https://wandb.me/run\" target=\"_blank\">docs</a>)<br/>"
      ],
      "text/plain": [
       "<IPython.core.display.HTML object>"
      ]
     },
     "metadata": {},
     "output_type": "display_data"
    },
    {
     "data": {
      "application/vnd.jupyter.widget-view+json": {
       "model_id": "3e194fce80bd401a9db3781741cb0060",
       "version_major": 2,
       "version_minor": 0
      },
      "text/plain": [
       "Running Epoch 0 of 15:   0%|          | 0/667 [00:00<?, ?it/s]"
      ]
     },
     "metadata": {},
     "output_type": "display_data"
    },
    {
     "data": {
      "application/vnd.jupyter.widget-view+json": {
       "model_id": "7716fbf80bb24fefacf1ff1be1160ccc",
       "version_major": 2,
       "version_minor": 0
      },
      "text/plain": [
       "  0%|          | 0/758 [00:00<?, ?it/s]"
      ]
     },
     "metadata": {},
     "output_type": "display_data"
    },
    {
     "data": {
      "application/vnd.jupyter.widget-view+json": {
       "model_id": "5bf7b7807c5c4985b4ebf6d097f7b496",
       "version_major": 2,
       "version_minor": 0
      },
      "text/plain": [
       "Running Epoch 1 of 15:   0%|          | 0/667 [00:00<?, ?it/s]"
      ]
     },
     "metadata": {},
     "output_type": "display_data"
    },
    {
     "data": {
      "application/vnd.jupyter.widget-view+json": {
       "model_id": "ba00aacc3c8e40eb8a255542e0a8e9cc",
       "version_major": 2,
       "version_minor": 0
      },
      "text/plain": [
       "  0%|          | 0/758 [00:00<?, ?it/s]"
      ]
     },
     "metadata": {},
     "output_type": "display_data"
    },
    {
     "data": {
      "application/vnd.jupyter.widget-view+json": {
       "model_id": "f53bc58970b0433fb53de31e500de3f4",
       "version_major": 2,
       "version_minor": 0
      },
      "text/plain": [
       "Running Epoch 2 of 15:   0%|          | 0/667 [00:00<?, ?it/s]"
      ]
     },
     "metadata": {},
     "output_type": "display_data"
    },
    {
     "data": {
      "application/vnd.jupyter.widget-view+json": {
       "model_id": "cdd425895ef34ae3bf9c75157ea0925d",
       "version_major": 2,
       "version_minor": 0
      },
      "text/plain": [
       "  0%|          | 0/758 [00:00<?, ?it/s]"
      ]
     },
     "metadata": {},
     "output_type": "display_data"
    },
    {
     "data": {
      "application/vnd.jupyter.widget-view+json": {
       "model_id": "ba29af68aaad418a94fbf348c63500f1",
       "version_major": 2,
       "version_minor": 0
      },
      "text/plain": [
       "Running Epoch 3 of 15:   0%|          | 0/667 [00:00<?, ?it/s]"
      ]
     },
     "metadata": {},
     "output_type": "display_data"
    },
    {
     "data": {
      "application/vnd.jupyter.widget-view+json": {
       "model_id": "d6e5032e085f418290e37a6d797d3e07",
       "version_major": 2,
       "version_minor": 0
      },
      "text/plain": [
       "  0%|          | 0/758 [00:00<?, ?it/s]"
      ]
     },
     "metadata": {},
     "output_type": "display_data"
    },
    {
     "data": {
      "application/vnd.jupyter.widget-view+json": {
       "model_id": "cec43aa0de3744e5aa4ea21faf97c3a8",
       "version_major": 2,
       "version_minor": 0
      },
      "text/plain": [
       "Running Epoch 4 of 15:   0%|          | 0/667 [00:00<?, ?it/s]"
      ]
     },
     "metadata": {},
     "output_type": "display_data"
    },
    {
     "data": {
      "application/vnd.jupyter.widget-view+json": {
       "model_id": "b967f3c41a29434a9ee81b2a5290fdb9",
       "version_major": 2,
       "version_minor": 0
      },
      "text/plain": [
       "  0%|          | 0/758 [00:00<?, ?it/s]"
      ]
     },
     "metadata": {},
     "output_type": "display_data"
    },
    {
     "data": {
      "application/vnd.jupyter.widget-view+json": {
       "model_id": "f733f9b8930b448b821ba5b367608739",
       "version_major": 2,
       "version_minor": 0
      },
      "text/plain": [
       "Running Epoch 5 of 15:   0%|          | 0/667 [00:00<?, ?it/s]"
      ]
     },
     "metadata": {},
     "output_type": "display_data"
    },
    {
     "data": {
      "application/vnd.jupyter.widget-view+json": {
       "model_id": "fa5f2087a53049beb5dd704fc1c9b012",
       "version_major": 2,
       "version_minor": 0
      },
      "text/plain": [
       "  0%|          | 0/758 [00:00<?, ?it/s]"
      ]
     },
     "metadata": {},
     "output_type": "display_data"
    },
    {
     "data": {
      "application/vnd.jupyter.widget-view+json": {
       "model_id": "ddeb0c72417c437c98a99ed8f51ee014",
       "version_major": 2,
       "version_minor": 0
      },
      "text/plain": [
       "Running Epoch 6 of 15:   0%|          | 0/667 [00:00<?, ?it/s]"
      ]
     },
     "metadata": {},
     "output_type": "display_data"
    },
    {
     "data": {
      "application/vnd.jupyter.widget-view+json": {
       "model_id": "6b07c2022ae94f1991da05637b46c732",
       "version_major": 2,
       "version_minor": 0
      },
      "text/plain": [
       "  0%|          | 0/758 [00:00<?, ?it/s]"
      ]
     },
     "metadata": {},
     "output_type": "display_data"
    },
    {
     "data": {
      "application/vnd.jupyter.widget-view+json": {
       "model_id": "6d7c7bf67ef346518cf9fc55781227a5",
       "version_major": 2,
       "version_minor": 0
      },
      "text/plain": [
       "Running Epoch 7 of 15:   0%|          | 0/667 [00:00<?, ?it/s]"
      ]
     },
     "metadata": {},
     "output_type": "display_data"
    },
    {
     "data": {
      "application/vnd.jupyter.widget-view+json": {
       "model_id": "a52920867fbb45df8f1277a5eeaaac04",
       "version_major": 2,
       "version_minor": 0
      },
      "text/plain": [
       "  0%|          | 0/758 [00:00<?, ?it/s]"
      ]
     },
     "metadata": {},
     "output_type": "display_data"
    },
    {
     "data": {
      "application/vnd.jupyter.widget-view+json": {
       "model_id": "0d9d58d5924c4a3fbb351ef7aab5810d",
       "version_major": 2,
       "version_minor": 0
      },
      "text/plain": [
       "Running Epoch 8 of 15:   0%|          | 0/667 [00:00<?, ?it/s]"
      ]
     },
     "metadata": {},
     "output_type": "display_data"
    },
    {
     "data": {
      "application/vnd.jupyter.widget-view+json": {
       "model_id": "c205912ce42d462ba6c0a25e413959c7",
       "version_major": 2,
       "version_minor": 0
      },
      "text/plain": [
       "  0%|          | 0/758 [00:00<?, ?it/s]"
      ]
     },
     "metadata": {},
     "output_type": "display_data"
    },
    {
     "data": {
      "application/vnd.jupyter.widget-view+json": {
       "model_id": "4e88815ac7394ac69c72801dd1005726",
       "version_major": 2,
       "version_minor": 0
      },
      "text/plain": [
       "Running Epoch 9 of 15:   0%|          | 0/667 [00:00<?, ?it/s]"
      ]
     },
     "metadata": {},
     "output_type": "display_data"
    },
    {
     "data": {
      "application/vnd.jupyter.widget-view+json": {
       "model_id": "b01498d3e8db4cf4a38f6da3a3ed2cb3",
       "version_major": 2,
       "version_minor": 0
      },
      "text/plain": [
       "  0%|          | 0/758 [00:00<?, ?it/s]"
      ]
     },
     "metadata": {},
     "output_type": "display_data"
    },
    {
     "data": {
      "application/vnd.jupyter.widget-view+json": {
       "model_id": "5300fd987dc141ff833df9a0fcc0e9c0",
       "version_major": 2,
       "version_minor": 0
      },
      "text/plain": [
       "Running Epoch 10 of 15:   0%|          | 0/667 [00:00<?, ?it/s]"
      ]
     },
     "metadata": {},
     "output_type": "display_data"
    },
    {
     "data": {
      "application/vnd.jupyter.widget-view+json": {
       "model_id": "62080b5863e140ddb2a84f55aeed94ab",
       "version_major": 2,
       "version_minor": 0
      },
      "text/plain": [
       "  0%|          | 0/758 [00:00<?, ?it/s]"
      ]
     },
     "metadata": {},
     "output_type": "display_data"
    },
    {
     "data": {
      "application/vnd.jupyter.widget-view+json": {
       "model_id": "0a1bcb0e72314c20856cb0d64fa6af24",
       "version_major": 2,
       "version_minor": 0
      },
      "text/plain": [
       "Running Epoch 11 of 15:   0%|          | 0/667 [00:00<?, ?it/s]"
      ]
     },
     "metadata": {},
     "output_type": "display_data"
    },
    {
     "data": {
      "application/vnd.jupyter.widget-view+json": {
       "model_id": "b16063712cd9481f9c4427edcb9cf527",
       "version_major": 2,
       "version_minor": 0
      },
      "text/plain": [
       "  0%|          | 0/758 [00:00<?, ?it/s]"
      ]
     },
     "metadata": {},
     "output_type": "display_data"
    },
    {
     "data": {
      "application/vnd.jupyter.widget-view+json": {
       "model_id": "6839c65f3f064e7d94dfdcf947265e91",
       "version_major": 2,
       "version_minor": 0
      },
      "text/plain": [
       "Running Epoch 12 of 15:   0%|          | 0/667 [00:00<?, ?it/s]"
      ]
     },
     "metadata": {},
     "output_type": "display_data"
    },
    {
     "data": {
      "application/vnd.jupyter.widget-view+json": {
       "model_id": "e4eaa837378a451db29f4940bd419847",
       "version_major": 2,
       "version_minor": 0
      },
      "text/plain": [
       "  0%|          | 0/758 [00:00<?, ?it/s]"
      ]
     },
     "metadata": {},
     "output_type": "display_data"
    },
    {
     "data": {
      "application/vnd.jupyter.widget-view+json": {
       "model_id": "8c2a5e6d4ff3456fbb3eabc0befa1ab5",
       "version_major": 2,
       "version_minor": 0
      },
      "text/plain": [
       "Running Epoch 13 of 15:   0%|          | 0/667 [00:00<?, ?it/s]"
      ]
     },
     "metadata": {},
     "output_type": "display_data"
    },
    {
     "data": {
      "application/vnd.jupyter.widget-view+json": {
       "model_id": "ddbfe508665e43c787c2785b31904c61",
       "version_major": 2,
       "version_minor": 0
      },
      "text/plain": [
       "  0%|          | 0/758 [00:00<?, ?it/s]"
      ]
     },
     "metadata": {},
     "output_type": "display_data"
    },
    {
     "data": {
      "application/vnd.jupyter.widget-view+json": {
       "model_id": "5a64ca0c52f347bcbeaeb03997539275",
       "version_major": 2,
       "version_minor": 0
      },
      "text/plain": [
       "Running Epoch 14 of 15:   0%|          | 0/667 [00:00<?, ?it/s]"
      ]
     },
     "metadata": {},
     "output_type": "display_data"
    },
    {
     "data": {
      "application/vnd.jupyter.widget-view+json": {
       "model_id": "b97490d94d09421db4a33d4cd8842384",
       "version_major": 2,
       "version_minor": 0
      },
      "text/plain": [
       "  0%|          | 0/758 [00:00<?, ?it/s]"
      ]
     },
     "metadata": {},
     "output_type": "display_data"
    },
    {
     "name": "stderr",
     "output_type": "stream",
     "text": [
      "INFO:simpletransformers.t5.t5_utils: Creating features from dataset file at cache_dir/\n",
      "/home/jupyter/.local/lib/python3.8/site-packages/transformers/tokenization_utils_base.py:3538: FutureWarning: \n",
      "`prepare_seq2seq_batch` is deprecated and will be removed in version 5 of HuggingFace Transformers. Use the regular\n",
      "`__call__` method to prepare your inputs and the tokenizer under the `as_target_tokenizer` context manager to prepare\n",
      "your targets.\n",
      "\n",
      "Here is a short example:\n",
      "\n",
      "model_inputs = tokenizer(src_texts, ...)\n",
      "with tokenizer.as_target_tokenizer():\n",
      "    labels = tokenizer(tgt_texts, ...)\n",
      "model_inputs[\"labels\"] = labels[\"input_ids\"]\n",
      "\n",
      "See the documentation of your specific tokenizer for more details on the specific arguments to the tokenizer of choice.\n",
      "For a more complete example, see the implementation of `prepare_seq2seq_batch`.\n",
      "\n",
      "  warnings.warn(formatted_warning, FutureWarning)\n",
      "INFO:simpletransformers.t5.t5_model: Training started\n",
      "ERROR:wandb.jupyter:Failed to detect the name of this notebook, you can set it manually with the WANDB_NOTEBOOK_NAME environment variable to enable code saving.\n",
      "\u001b[34m\u001b[1mwandb\u001b[0m: Currently logged in as: \u001b[33mannaklezovich2\u001b[0m (use `wandb login --relogin` to force relogin)\n",
      "INFO:simpletransformers.t5.t5_utils: Creating features from dataset file at cache_dir/\n",
      "INFO:simpletransformers.t5.t5_utils: Creating features from dataset file at cache_dir/\n",
      "INFO:simpletransformers.t5.t5_utils: Creating features from dataset file at cache_dir/\n",
      "INFO:simpletransformers.t5.t5_utils: Creating features from dataset file at cache_dir/\n",
      "INFO:simpletransformers.t5.t5_utils: Creating features from dataset file at cache_dir/\n",
      "INFO:simpletransformers.t5.t5_utils: Creating features from dataset file at cache_dir/\n",
      "INFO:simpletransformers.t5.t5_utils: Creating features from dataset file at cache_dir/\n",
      "INFO:simpletransformers.t5.t5_utils: Creating features from dataset file at cache_dir/\n",
      "INFO:simpletransformers.t5.t5_utils: Creating features from dataset file at cache_dir/\n",
      "INFO:simpletransformers.t5.t5_utils: Creating features from dataset file at cache_dir/\n",
      "INFO:simpletransformers.t5.t5_utils: Creating features from dataset file at cache_dir/\n",
      "INFO:simpletransformers.t5.t5_utils: Creating features from dataset file at cache_dir/\n",
      "INFO:simpletransformers.t5.t5_utils: Creating features from dataset file at cache_dir/\n",
      "INFO:simpletransformers.t5.t5_utils: Creating features from dataset file at cache_dir/\n",
      "INFO:simpletransformers.t5.t5_utils: Creating features from dataset file at cache_dir/\n",
      "INFO:simpletransformers.t5.t5_model: Training of cointegrated/rut5-small model complete. Saved to outputs/.\n"
     ]
    },
    {
     "data": {
      "text/plain": [
       "(10005,\n",
       " {'global_step': [667,\n",
       "   1334,\n",
       "   2001,\n",
       "   2668,\n",
       "   3335,\n",
       "   4002,\n",
       "   4669,\n",
       "   5336,\n",
       "   6003,\n",
       "   6670,\n",
       "   7337,\n",
       "   8004,\n",
       "   8671,\n",
       "   9338,\n",
       "   10005],\n",
       "  'eval_loss': [6.505155618374165,\n",
       "   7.19496070421659,\n",
       "   7.524451035719651,\n",
       "   7.674655235730684,\n",
       "   7.884186763029832,\n",
       "   8.134583729964037,\n",
       "   8.145936012268066,\n",
       "   8.465782917462862,\n",
       "   8.68307298880357,\n",
       "   8.987850812765268,\n",
       "   9.066721714459932,\n",
       "   9.233603954315186,\n",
       "   9.514691793001615,\n",
       "   9.781897948338436,\n",
       "   9.932161367856539],\n",
       "  'train_loss': [2.8890109062194824,\n",
       "   2.4369711875915527,\n",
       "   2.1667776107788086,\n",
       "   2.159158706665039,\n",
       "   2.4955761432647705,\n",
       "   2.1294238567352295,\n",
       "   2.1357762813568115,\n",
       "   2.0220770835876465,\n",
       "   1.7337087392807007,\n",
       "   1.7461048364639282,\n",
       "   1.8344472646713257,\n",
       "   1.4781408309936523,\n",
       "   1.7239701747894287,\n",
       "   1.604504942893982,\n",
       "   1.629015326499939]})"
      ]
     },
     "execution_count": 14,
     "metadata": {},
     "output_type": "execute_result"
    }
   ],
   "source": [
    "#!g1.1\n",
    "# agnostic\n",
    "model2.train_model(agnostic_data, eval_data=test_data)"
   ]
  },
  {
   "cell_type": "code",
   "execution_count": 21,
   "metadata": {
    "cellId": "8xpvypf5sn78d81zfyw29r",
    "colab": {
     "base_uri": "https://localhost:8080/",
     "height": 1000,
     "referenced_widgets": [
      "c2792e2f1cd046839d8bc9fd13d07e72",
      "a307df45fe4d4485b19cf3cdfff58110",
      "751779015d194426b3e20329cc201e09",
      "09892ac6f7984ecf85d1540be0f4c267",
      "6e0348890a494d44996a911e96cd5880",
      "64ba5c1e2e664cf991e2398619e7fbbe",
      "e130b161d8ae44ad8d1a406ee00d9004",
      "1908ff978fd4471ba41ce24e3e4ddad8",
      "3dffbd7f520541fab37c86d08e8948e8",
      "391b51e4076a4b7ebc5676d30c84b27c",
      "564bc4a23c054d40b8a405e85f24d321",
      "6280a2ae5f99424d90d36a9ad0a5937a",
      "5e0d0101bbbd4a57a034e6cd15b5b4e2",
      "fe3b76e0f7b043408af9d9c41aaa3e15",
      "b9967852708d46808a647e5b8dd74d25",
      "1e8ba349c29d4342bb3b1c2566d445a1",
      "fb05ef0745ce48d7a505dad1653cb6e6",
      "da485b248eb54f12abb12e69ff6c34a6",
      "6ef68afe94e340a5bddfc6ae9cab1caf",
      "afee4831dcea457dbf149ca04b001678",
      "c1788e660b4b42539b95ad966bada078",
      "221a38316f844ab0a326a4939efffae3",
      "9b90552319e945979d542cbd34fdfde9",
      "b2513b0ef70e4137bb0e8ef536eced5c",
      "d83d397a128a44a7aa868018f0bc02d2",
      "6e653b610d824871bbcd1e1fbae614fb",
      "3c077cf4a994417097028c3674f650b7",
      "939449cb321349e3ad254374ca6f190b",
      "e20192c0b1094fc0b1c73ef1ba619210",
      "f3599019c4c84353ad234874b3389cca",
      "70a5123572e6401b81dea9a49c57048f",
      "f56a2dda521b4e04bb9ef501c8e1f452",
      "110f8c2b0082440d99b917e574f546b8",
      "4c4624e16ad9414083052cb87f7bd665",
      "b4b03336805e43c38a5b5b1e8081dbb2",
      "c4da41fa0a444fb6a636e23095404b7d",
      "982ce11f569e459f955f3bbd4ea31c42",
      "0a1504d790184098a0ba5c20b65e47da",
      "64be69c55d6c4a4d9431d5ae594dd4bc",
      "52a5a63254244bcb92aa82103af75450",
      "26303c61443f40afac31184993ae61e1",
      "74158279a4a849a68a1d99444eb75a8d",
      "4f6f2858a34348808e6cc5defd8b0b42",
      "dc6c7a290c5342ce985f55e560c89ef5",
      "6a6d78f3e73a4a74b5b5059ee04ee72d",
      "7ed70cb8506e46298e71e10a1b3154a3",
      "b042e53b30134b0387b0c1ab3806d888",
      "f160775be32e409e85971f3f3d979b5b",
      "749226aab196463587d52e39ba9e9cc9",
      "f0d2aac6cc404a8394c2d0196e4ecb82",
      "84954a59b7de461b8b56bc9044e9803b",
      "d54194b73b284dbc9d5ac9ff7753a819",
      "ae4344ccaf2049eaa1c838ffe0a2b3c8",
      "ffa5bc74d7e34ef7a1a486278c0c5dce",
      "c01e89866a034007b74a2ea1ad9589c9",
      "0c7c81fd06d046d69b98efbf70e79d76",
      "235de09cfec94670a7e1ae1649a090f3",
      "560b0096640541dbac1d804470ced31b",
      "5e389a2ba7a24ce7a28ac207a5d12aa8",
      "4b53c6dcdd1044e4af79fc6a039ee0e7",
      "063e725e1a8b4bcb99be8044a41df272",
      "4bc56c50daa34f588dc85d4e565f09fc",
      "35766b5eef704c17ac1b78c44a6b00b2",
      "5584cf31309d4ba4a48e5d2d5d4658c5",
      "91f14e55ff7e4be3b40d9effee16c433",
      "107ab26d613c46f385311a6577eda3cb",
      "191257c56ca744e498f51adbac9bc705",
      "feede7927ac94dfa88062e0b35ae70c4",
      "551a94126a4c44ff9ef976fd7b99b25e",
      "057863e92ecf4c4392adf0f8b631e3ba",
      "33ccdd4477594ad8b1fafbde6072436f",
      "7f8f45b27fa64f60852fd78682386c57",
      "e084a6ca3ba8484ba92202065036d832",
      "19cfd40e2a07404a9a9836dbaffbbe6c",
      "f379376077b44cbb9e0955ecd6b5ffa6",
      "c3fc315d61fb4f1481c9396cee0b6ece",
      "8e41d49373e144eab8cf6966a7dd30cf",
      "26966e787cf54b0180c27b1fdcfc09f5",
      "0f2b6ac1e3a24904ab1e6d7c47034f19",
      "31e29995125d4d60b080822878ed846a",
      "faa8bcfdcb2d481eb5e63fc73e0a8824",
      "d8fa2882ac6b4f2cb4479a45d6fdc1bf",
      "a83e8bb5446d4f54b524abfe06c00e47",
      "02969c4845fd4aa099cebd1d833e119e",
      "59cfb6f0eac24b49a9b17796624bb016",
      "3cda3d219a9249548d6089a1693cdf1d",
      "f1457426a085442490af65db8cc99fbc",
      "c5237619d24a404fb0459c5769a4a550",
      "d611fb296ca54178a47c652e545a1ae0",
      "5b6629d339ce416a9c70e1bcfe3c80f0",
      "016868cf755d452ca688369d8d46b370",
      "b1f8ed4a01b149f49c401f85b81a9152",
      "104d1d3c4abe4c469d0cfaa9797555c7",
      "468908b5397d4f75b0bf747780b286fb",
      "06cb4c51ac0544b8b685ef1a16587217",
      "4f974756a04b42b78d379aa5a914e467",
      "7ab3a8446dd24778845b52b4263c3e6e",
      "bcbc3a6e49ba4756a238c6d293965393",
      "d709a8bd0d8d43238684fb592af27df1",
      "e255e89709dd45a5bb5d29499fc9ec70",
      "f3d1fe0a6306449fa72ae6c38ed9a7be",
      "5a9d4876a31a40309bb8758de0523a93",
      "cf03603c81af4438951d4d5ee27ee940",
      "c885e7f997404fed8ec550a2e2a0a4dd",
      "49eb18f07a494066bc2bf1aca2f6dc96",
      "115b3ffdd6b645a687ec1df438a67c43",
      "ab12545bff1345c0a000c7ae6f4525ff",
      "c31afa4325e047d4b083424ba232897f",
      "85551fc4ac7942ba9aa00143716d0ea5",
      "95eb8eaf48bf440680287c8c3f8952e6",
      "70d77dc27bea4ae091a69a8f647e0ea4",
      "47d3b7711feb4a1da5dd4352e80be5e7",
      "a2e7ee77469d4cc0ba0c58920e9bfdb6",
      "85a61e411eb54ec4823aa2005f8bade7",
      "9fa5b3031a9d414fa00930519ac5a6b7",
      "f9408b99e4f14b3d9d529977cb785aa4",
      "1e306c2bd918457c8621ac596dd9b620",
      "f1fd08ff87564afa8c2173bbb9931d44",
      "e584126fe6334bd894eae2a1eee40edf",
      "7a9aacf62df949c1bc0f8202d4341b15",
      "0141219afc1143719f10fa5a99842af4",
      "9d6bacb8b14c4a968c5a6ca1eee159f0",
      "4e1ead4108de4bc4bd2a6bd9564cbe11",
      "acbad1e766c948c1941c06b7db50fe7b",
      "480a4d1f6f4e48a797b8b699c720ad9c",
      "ae23cd63fb6c47d99388bbe7194aa5ee",
      "d3237388f67c4bb6b9fa1cdf93bb9f7d",
      "83d96adb347c4d72a2d6566c25b99e5d",
      "d8f04eaddcc44844b12b264c74d97660",
      "501d209da08e48f2ba5421dea63ad9a4",
      "cfa8c7023fe642409294a2e3252bb0e3",
      "9901de442903430088a1e96650f38842",
      "4b143941959b429db31757e0d9ae41d0",
      "0c1e64356eef4eb69bd1896dde6f5550",
      "3c96009a0746451dad92f6afce23cf7d",
      "1c9d29fb797e435b824347059310d820",
      "a00ded9dc27142e7a9cd850aaea91cb3",
      "2faa57c22fda4a199a70fb62718aa306",
      "f5b56d04849440778b8293f8e3ca40ef",
      "74ed0700b3fc4b46ae49ceb788d2a9af",
      "e3ddb3a627c44aaca08e4fcedcf67875",
      "19e9db7db2f04736b1d0a5ced15ad2fd",
      "eed9797ddb614413afa9c332d695b93c",
      "a3355d45624d43c09790817ace0556a6",
      "f427df0028af4869bdaeefe34e0c2732",
      "73242d9fa66f41eba062ae3d0da287bf",
      "a55a9672c3d0447f97ffb38d1c4d15d2",
      "5ede1cfdddcd481899e2fce172c2c6d8",
      "b08227caa1034ca6b0ef1b930f9b1e36",
      "fa791ec59e8a45f4b50af0932ae7f02c",
      "bd074f0217c64290ae5096a47486f62e",
      "120ba06b3eec434489fd2943270d55cb",
      "a46486cdacb1472189e1b8ec210d610b",
      "77390a95bc8e4c0c9ad1758693e79666",
      "37b10735d7d54941b30c80a93ec13331",
      "52a986d8a64548618f969e7f13dab2a1",
      "01f6bf27400f4da28869e826ae1f259d",
      "e47d30f4002a422da028a55f22f61a2a",
      "09abff69e22747088756e0adfaf98032",
      "1cb416e79e5f41a69a89832ffe5f0d98",
      "cbeeb003961148249946908c44d2b81b",
      "b05af1ff1b93487ab0ab78a5c9cbc411",
      "039b19770db7414aa327e39d90ec55ee",
      "33340c7713334a4395f61b42c468809f",
      "96448b2fd5324d7e85d266099d95d32c",
      "c82c4424f9954f58b5109ce7ade702f1",
      "67f86f0467cc458cb5099178dd11307c",
      "b56b6df6483d4972ae9e0beda5d3e911",
      "1be915d5c22c461291db2cb3723b76b8",
      "6e8b6d1b05384e2985d1e4ed0be1c4cc",
      "13a50e079e514e6b9e8799f82cb52536",
      "9487d7d3852c431c94300d09c676ef99",
      "03cdc2ed456e4310abc199c0252a01ee",
      "6f92884fc4e149249fd62a339aada5ad",
      "60a74040c18f4a60a086cb96b61994b3",
      "13ea8d0f395e4d7cb8de8c0dcad2ec79",
      "be30018a39d648829a112726bcad35f1",
      "adc472d346e8488b98e51efe29b494b2",
      "c7ea228fcec94aab996a96ca9f67e8d2",
      "163007bdecb44c45abbb79f0014813f0",
      "55f1244392e74571ac9196639f863130",
      "82d55e13d50f42d7921fd2f96698e942",
      "2e82d0e9278e4f9ba3000ea7923a6669",
      "77a0d921b0ff43059732fb35d11a74bd",
      "b1e2772ed6494d2fb7f315460c33faeb",
      "fbbc552de17e4d30a3055188daef956d",
      "7e5d014e8d794a5db540fb350d09bf17",
      "1382fb4f1cd0441f8051c8dbdc2ebe88",
      "d24bbdb8a8c24aa9886a278aeb1cefec",
      "f90eb94c158547b586b9f4bd243a812a",
      "48c24eb9f6d64ebf871fbe6e7ddf06bc",
      "afc38e7408dd471abfb353aa948db81e",
      "204272f5ebdf43c2bf8095aec30caf41",
      "0feeff43eecb4f12bcbd42338676dede",
      "8263e1b41bee42f4902cdf685754795f",
      "1de3abf54de14efca1a09777fe097e06",
      "4a3ce54f961f4d68bd54fefbac25a189",
      "49ea4ce451ea4ac793f281fd8d416ee2",
      "90e43d5b251c4aa8880c3b9aeb0054bc",
      "649e3916dff84e36b93d93bd08f29ba0",
      "f6a8abb461bb4fb2bd1c26e6df6e0c90",
      "90991b9013d3467295ede722c39ff96e",
      "94775987ecc34f258a5f128197e11935",
      "b592b773bbf947a2ab47014405a1eb1f",
      "3065ea5e1a6a4fb88b5b7c1a97192f33",
      "826d3705f1234aada4a3e5699d849504",
      "fca5ead103824c73a3b155c59acb3d78",
      "883866a1f0884eb69a0fc9d078e6b1aa",
      "f506bc00a0324011b8b8f0b9c0306db3",
      "bc2756b24bd94b82b27e3d7f7719d9e7",
      "ea9c7df7196f4d52986f622ca04038f9",
      "8994968834ca46bb8ef8910c58e2cfb9",
      "04282e1751464ac2ad96437d34e40a41",
      "81f786fa6c6447d9b201fc369c357302",
      "5b60dd02c54a4882b3eee3abd3a12f8d",
      "db1a4351f33949f2874f59244494ac8f",
      "de01e68e8c3d4bc29d09dd2a6a081aee",
      "31eed39719fb4d82948020817cf0a3a1",
      "b33a9fa8bf03408c810303bfa8b59c3f",
      "6b60d2a132aa49ac919b2f60a960a215",
      "300ff8f3b8b940e190b3992998fcd3a1",
      "7bc0ba8a8f054ae1a05656b04ef0298a",
      "c452eb8a1c354a9c9fe8b43c68e994d3",
      "39f5d27bc4414837a890147553c3c286",
      "35071f00352c46fbac98867fb4616b2c",
      "c89bd7b0c41e41d3afdf58a1cc9eea40",
      "2b3e8737e26d4ea4ab4f57599f56724d",
      "bd3ea10f317440bda57860bffda9c97a",
      "759e3448ae994d6498b7bd28afdb6f10",
      "2ca31e573bd04d8f9959b516161ca33c",
      "462febac101940918cf6ef6caab1c1b3",
      "8699f756ccc242f0bbec98dd9c2abe25",
      "88974d3696734019866f0167830f2c9c",
      "a356000307614d25803d739c945c828d",
      "6b25e0f3280d4c398a5893d1b0fe0b45",
      "c929aadd4d544366bb58b370ddfbbff1",
      "34a07ad8763041c184b4fa7cd298f3b6",
      "e2d0f978cbf9483fb5ea272ebd9cf4d7",
      "3a652e13d837451586f7debfd785692c",
      "6ec9100e415645cfb590241e9c817f66",
      "5aa3a92d13a0456a9a9af0f1621bd68e",
      "f41333f520594383b5602a37efa99957",
      "6d985e8cc4764f9fb06d20e538b87332",
      "4bfc346ee5004e4c86eb67df0c4866e4",
      "102d4c38186d4f2f96299d557ad8fb16",
      "e598429ed41c42c78e395b305a8b2049",
      "12ea18a8c2df47a899ddad68c8564d7e",
      "1bad4658ab3d40a5b3875980672c9e88",
      "084af33532704f4c936c970162eb23bb",
      "b4da91d3dda543d5b7bad504d3e7fc67",
      "6e462d3f205942bd857a3b69ae804e1c",
      "8e38b99dd9b4438e8c64bd8d34871688",
      "ca8dea293eef47bc84d9eb189f4840fd",
      "23b9707dec304a5a8da2e18a6c1f96c5",
      "ed0eb0a15f9e40f9b1a87646b702003a",
      "a99bd2a593cc4e0d94b7610d2b345c11",
      "50f2c277d4404cff9f6058e6b2d9a472",
      "9476ae28614a47f5a739b5fc8e50e177",
      "7fa2f920b2594ad59423db51d0000838",
      "3c7c922bb0204299bbae71e55569589b",
      "e9fd1d5b97e04c799beaa09707bc0fc8",
      "90be0db76b054633a79cba7d614d1565",
      "72f925218bd04460857ecc31a9839a01",
      "966af797282b436ea23b690e372a845a",
      "3d0e2ee516cd46dfb47feb12f5927e3c",
      "6a06f52593a043f5b2fbcef8efb2484d",
      "096a58e5af7f442d90857ab402cf3ce3",
      "f950b74132374fe18924aec3de21b6b8",
      "266134dcef4e441fa6ddb82a583b14c6",
      "01152cbbe9934596a73f12b4e55230a8",
      "c2eb2c91e5e14e3f9f5015b450e96697",
      "96974f5b9e0e437d9e28d01b1f80d18f",
      "88d1bcbd4bcf45928a84a1783b6def75",
      "f4f072b203134a70a51d7969657844c8",
      "0a401753aa4045ca8643605267258a6a",
      "827978524816491a9e447a2c8a77fb77",
      "a0a66e0a3a6648cdab8caa8ad37d15fa",
      "93a4b4df5c854a28af4d70a82886e977",
      "1a31b3afb38f447bbd3b8e1d56794f79",
      "e24fc15730744c96b38d2bc8b5fbeced",
      "4df39dcf1461427fabf0db2585e0eab6",
      "fd345de0c536427e83aafcc7d9edf5fd",
      "4e94e21a183d491c8ff2f710c52b0217",
      "60a72cb6412244209c3bdc6e64000ebc",
      "8057111c2d0d4f04885001dc077b36c3",
      "c8c052d619e345edab43af75cb3694bc",
      "ecc595347ddf40e3890c3575840326a4",
      "43cd01499ffe4dcf8f73c39242337f76",
      "68983805f76c4cc88178a1e322f42c31",
      "e4e9979315404ca2859ce06290395c67",
      "c3876a7344ac493380ef937cbff2710c",
      "e057f81dcd9e45958e8bb9a4921c3f8a",
      "f99f12d22b1b418d821ec900f3e38ce0",
      "83694e35e3d04575ad93276f47f13958"
     ]
    },
    "collapsed": true,
    "id": "Kgw3CrBD8Xm4",
    "jupyter": {
     "outputs_hidden": true
    },
    "outputId": "0f5cdcf4-bb8c-4919-a0ef-4b720b27ca54"
   },
   "outputs": [
    {
     "data": {
      "application/vnd.jupyter.widget-view+json": {
       "model_id": "abd287f2a6734f0eb395b0d578cd3bae",
       "version_major": 2,
       "version_minor": 0
      },
      "text/plain": [
       "  0%|          | 0/8583 [00:00<?, ?it/s]"
      ]
     },
     "metadata": {},
     "output_type": "display_data"
    },
    {
     "data": {
      "application/vnd.jupyter.widget-view+json": {
       "model_id": "6a3605179ced4b45b6b115e182fb9016",
       "version_major": 2,
       "version_minor": 0
      },
      "text/plain": [
       "Epoch:   0%|          | 0/15 [00:00<?, ?it/s]"
      ]
     },
     "metadata": {},
     "output_type": "display_data"
    },
    {
     "data": {
      "text/html": [
       "wandb version 0.12.16 is available!  To upgrade, please run:\n",
       " $ pip install wandb --upgrade"
      ],
      "text/plain": [
       "<IPython.core.display.HTML object>"
      ]
     },
     "metadata": {},
     "output_type": "display_data"
    },
    {
     "data": {
      "text/html": [
       "Tracking run with wandb version 0.12.15"
      ],
      "text/plain": [
       "<IPython.core.display.HTML object>"
      ]
     },
     "metadata": {},
     "output_type": "display_data"
    },
    {
     "data": {
      "text/html": [
       "Run data is saved locally in <code>/home/jupyter/work/resources/Notebooks/wandb/run-20220518_112253-ukrh6yrx</code>"
      ],
      "text/plain": [
       "<IPython.core.display.HTML object>"
      ]
     },
     "metadata": {},
     "output_type": "display_data"
    },
    {
     "data": {
      "text/html": [
       "Syncing run <strong><a href=\"https://wandb.ai/annaklezovich2/MT5%20Russian-RSL%20Translation/runs/ukrh6yrx\" target=\"_blank\">comfy-cherry-3</a></strong> to <a href=\"https://wandb.ai/annaklezovich2/MT5%20Russian-RSL%20Translation\" target=\"_blank\">Weights & Biases</a> (<a href=\"https://wandb.me/run\" target=\"_blank\">docs</a>)<br/>"
      ],
      "text/plain": [
       "<IPython.core.display.HTML object>"
      ]
     },
     "metadata": {},
     "output_type": "display_data"
    },
    {
     "data": {
      "application/vnd.jupyter.widget-view+json": {
       "model_id": "14768014e88b46d4ae7f9fccf3c995bc",
       "version_major": 2,
       "version_minor": 0
      },
      "text/plain": [
       "Running Epoch 0 of 15:   0%|          | 0/287 [00:00<?, ?it/s]"
      ]
     },
     "metadata": {},
     "output_type": "display_data"
    },
    {
     "data": {
      "application/vnd.jupyter.widget-view+json": {
       "model_id": "64e17b56e8244114aa154bb764e418fa",
       "version_major": 2,
       "version_minor": 0
      },
      "text/plain": [
       "  0%|          | 0/758 [00:00<?, ?it/s]"
      ]
     },
     "metadata": {},
     "output_type": "display_data"
    },
    {
     "data": {
      "application/vnd.jupyter.widget-view+json": {
       "model_id": "8faea8cbc6ae4185bf408230829cddbe",
       "version_major": 2,
       "version_minor": 0
      },
      "text/plain": [
       "Running Epoch 1 of 15:   0%|          | 0/287 [00:00<?, ?it/s]"
      ]
     },
     "metadata": {},
     "output_type": "display_data"
    },
    {
     "data": {
      "application/vnd.jupyter.widget-view+json": {
       "model_id": "ed156063d1e04a96829c9153f757d341",
       "version_major": 2,
       "version_minor": 0
      },
      "text/plain": [
       "  0%|          | 0/758 [00:00<?, ?it/s]"
      ]
     },
     "metadata": {},
     "output_type": "display_data"
    },
    {
     "data": {
      "application/vnd.jupyter.widget-view+json": {
       "model_id": "f2b924088c864fe99da390caa11219db",
       "version_major": 2,
       "version_minor": 0
      },
      "text/plain": [
       "Running Epoch 2 of 15:   0%|          | 0/287 [00:00<?, ?it/s]"
      ]
     },
     "metadata": {},
     "output_type": "display_data"
    },
    {
     "data": {
      "application/vnd.jupyter.widget-view+json": {
       "model_id": "ebf56437eb6249d09334499563bd2a99",
       "version_major": 2,
       "version_minor": 0
      },
      "text/plain": [
       "  0%|          | 0/758 [00:00<?, ?it/s]"
      ]
     },
     "metadata": {},
     "output_type": "display_data"
    },
    {
     "data": {
      "application/vnd.jupyter.widget-view+json": {
       "model_id": "01e6a64cc8f24192a21f5f90300cd67b",
       "version_major": 2,
       "version_minor": 0
      },
      "text/plain": [
       "Running Epoch 3 of 15:   0%|          | 0/287 [00:00<?, ?it/s]"
      ]
     },
     "metadata": {},
     "output_type": "display_data"
    },
    {
     "data": {
      "application/vnd.jupyter.widget-view+json": {
       "model_id": "2d6899e2b7394ab199ce94d34dbd487f",
       "version_major": 2,
       "version_minor": 0
      },
      "text/plain": [
       "  0%|          | 0/758 [00:00<?, ?it/s]"
      ]
     },
     "metadata": {},
     "output_type": "display_data"
    },
    {
     "data": {
      "application/vnd.jupyter.widget-view+json": {
       "model_id": "224c94c07fba4ee98b2234f05d7998aa",
       "version_major": 2,
       "version_minor": 0
      },
      "text/plain": [
       "Running Epoch 4 of 15:   0%|          | 0/287 [00:00<?, ?it/s]"
      ]
     },
     "metadata": {},
     "output_type": "display_data"
    },
    {
     "data": {
      "application/vnd.jupyter.widget-view+json": {
       "model_id": "4be83ae6fb434afcaf987e525f3f38c9",
       "version_major": 2,
       "version_minor": 0
      },
      "text/plain": [
       "  0%|          | 0/758 [00:00<?, ?it/s]"
      ]
     },
     "metadata": {},
     "output_type": "display_data"
    },
    {
     "data": {
      "application/vnd.jupyter.widget-view+json": {
       "model_id": "81de5d4e242947848ab11d173b510e49",
       "version_major": 2,
       "version_minor": 0
      },
      "text/plain": [
       "Running Epoch 5 of 15:   0%|          | 0/287 [00:00<?, ?it/s]"
      ]
     },
     "metadata": {},
     "output_type": "display_data"
    },
    {
     "data": {
      "application/vnd.jupyter.widget-view+json": {
       "model_id": "deba5f0627854cffa21e908e4a300bcd",
       "version_major": 2,
       "version_minor": 0
      },
      "text/plain": [
       "  0%|          | 0/758 [00:00<?, ?it/s]"
      ]
     },
     "metadata": {},
     "output_type": "display_data"
    },
    {
     "data": {
      "application/vnd.jupyter.widget-view+json": {
       "model_id": "61b67ca78197417c9ae2423571aa7056",
       "version_major": 2,
       "version_minor": 0
      },
      "text/plain": [
       "Running Epoch 6 of 15:   0%|          | 0/287 [00:00<?, ?it/s]"
      ]
     },
     "metadata": {},
     "output_type": "display_data"
    },
    {
     "data": {
      "application/vnd.jupyter.widget-view+json": {
       "model_id": "97cb588945884111b072adde92112a1a",
       "version_major": 2,
       "version_minor": 0
      },
      "text/plain": [
       "  0%|          | 0/758 [00:00<?, ?it/s]"
      ]
     },
     "metadata": {},
     "output_type": "display_data"
    },
    {
     "data": {
      "application/vnd.jupyter.widget-view+json": {
       "model_id": "31855682c763497da3ee3a90777d8ab2",
       "version_major": 2,
       "version_minor": 0
      },
      "text/plain": [
       "Running Epoch 7 of 15:   0%|          | 0/287 [00:00<?, ?it/s]"
      ]
     },
     "metadata": {},
     "output_type": "display_data"
    },
    {
     "data": {
      "application/vnd.jupyter.widget-view+json": {
       "model_id": "ec996d5d623241bf8a97360bfd5796e4",
       "version_major": 2,
       "version_minor": 0
      },
      "text/plain": [
       "  0%|          | 0/758 [00:00<?, ?it/s]"
      ]
     },
     "metadata": {},
     "output_type": "display_data"
    },
    {
     "data": {
      "application/vnd.jupyter.widget-view+json": {
       "model_id": "8235bc338b90470a989b828d928d729c",
       "version_major": 2,
       "version_minor": 0
      },
      "text/plain": [
       "Running Epoch 8 of 15:   0%|          | 0/287 [00:00<?, ?it/s]"
      ]
     },
     "metadata": {},
     "output_type": "display_data"
    },
    {
     "data": {
      "application/vnd.jupyter.widget-view+json": {
       "model_id": "62dd7e7fcada4338883402e157522bc3",
       "version_major": 2,
       "version_minor": 0
      },
      "text/plain": [
       "  0%|          | 0/758 [00:00<?, ?it/s]"
      ]
     },
     "metadata": {},
     "output_type": "display_data"
    },
    {
     "data": {
      "application/vnd.jupyter.widget-view+json": {
       "model_id": "dfdd0f9e3a714c6c9f3fb290040a60eb",
       "version_major": 2,
       "version_minor": 0
      },
      "text/plain": [
       "Running Epoch 9 of 15:   0%|          | 0/287 [00:00<?, ?it/s]"
      ]
     },
     "metadata": {},
     "output_type": "display_data"
    },
    {
     "data": {
      "application/vnd.jupyter.widget-view+json": {
       "model_id": "df3cf18017f9432ea68c247e211e97b6",
       "version_major": 2,
       "version_minor": 0
      },
      "text/plain": [
       "  0%|          | 0/758 [00:00<?, ?it/s]"
      ]
     },
     "metadata": {},
     "output_type": "display_data"
    },
    {
     "data": {
      "application/vnd.jupyter.widget-view+json": {
       "model_id": "9585aeab448e40cda27835ac63e921ec",
       "version_major": 2,
       "version_minor": 0
      },
      "text/plain": [
       "Running Epoch 10 of 15:   0%|          | 0/287 [00:00<?, ?it/s]"
      ]
     },
     "metadata": {},
     "output_type": "display_data"
    },
    {
     "data": {
      "application/vnd.jupyter.widget-view+json": {
       "model_id": "a95f263ac4584d24961ff894d5492325",
       "version_major": 2,
       "version_minor": 0
      },
      "text/plain": [
       "  0%|          | 0/758 [00:00<?, ?it/s]"
      ]
     },
     "metadata": {},
     "output_type": "display_data"
    },
    {
     "data": {
      "application/vnd.jupyter.widget-view+json": {
       "model_id": "9bdb94945be04ddc952857dd0311f770",
       "version_major": 2,
       "version_minor": 0
      },
      "text/plain": [
       "Running Epoch 11 of 15:   0%|          | 0/287 [00:00<?, ?it/s]"
      ]
     },
     "metadata": {},
     "output_type": "display_data"
    },
    {
     "data": {
      "application/vnd.jupyter.widget-view+json": {
       "model_id": "ed5488546f624c4a8d9170a45f5e7934",
       "version_major": 2,
       "version_minor": 0
      },
      "text/plain": [
       "  0%|          | 0/758 [00:00<?, ?it/s]"
      ]
     },
     "metadata": {},
     "output_type": "display_data"
    },
    {
     "data": {
      "application/vnd.jupyter.widget-view+json": {
       "model_id": "d1a015ecf37e4b2e8db57c75392bb20f",
       "version_major": 2,
       "version_minor": 0
      },
      "text/plain": [
       "Running Epoch 12 of 15:   0%|          | 0/287 [00:00<?, ?it/s]"
      ]
     },
     "metadata": {},
     "output_type": "display_data"
    },
    {
     "data": {
      "application/vnd.jupyter.widget-view+json": {
       "model_id": "d16dbc5fa2894182b9be07b68dc6beff",
       "version_major": 2,
       "version_minor": 0
      },
      "text/plain": [
       "  0%|          | 0/758 [00:00<?, ?it/s]"
      ]
     },
     "metadata": {},
     "output_type": "display_data"
    },
    {
     "data": {
      "application/vnd.jupyter.widget-view+json": {
       "model_id": "c3ace639476f4f0bb3ebad80e9780562",
       "version_major": 2,
       "version_minor": 0
      },
      "text/plain": [
       "Running Epoch 13 of 15:   0%|          | 0/287 [00:00<?, ?it/s]"
      ]
     },
     "metadata": {},
     "output_type": "display_data"
    },
    {
     "data": {
      "application/vnd.jupyter.widget-view+json": {
       "model_id": "b8d6de98f2e7473989d4f4130f0e32fb",
       "version_major": 2,
       "version_minor": 0
      },
      "text/plain": [
       "  0%|          | 0/758 [00:00<?, ?it/s]"
      ]
     },
     "metadata": {},
     "output_type": "display_data"
    },
    {
     "data": {
      "application/vnd.jupyter.widget-view+json": {
       "model_id": "a406da2d92864bf991ba386136c0cadb",
       "version_major": 2,
       "version_minor": 0
      },
      "text/plain": [
       "Running Epoch 14 of 15:   0%|          | 0/287 [00:00<?, ?it/s]"
      ]
     },
     "metadata": {},
     "output_type": "display_data"
    },
    {
     "data": {
      "application/vnd.jupyter.widget-view+json": {
       "model_id": "fed4f0e0d7444de7bb9de40243f6b0d4",
       "version_major": 2,
       "version_minor": 0
      },
      "text/plain": [
       "  0%|          | 0/758 [00:00<?, ?it/s]"
      ]
     },
     "metadata": {},
     "output_type": "display_data"
    },
    {
     "name": "stderr",
     "output_type": "stream",
     "text": [
      "INFO:simpletransformers.t5.t5_utils: Creating features from dataset file at cache_dir/\n",
      "/home/jupyter/.local/lib/python3.8/site-packages/transformers/tokenization_utils_base.py:3538: FutureWarning: \n",
      "`prepare_seq2seq_batch` is deprecated and will be removed in version 5 of HuggingFace Transformers. Use the regular\n",
      "`__call__` method to prepare your inputs and the tokenizer under the `as_target_tokenizer` context manager to prepare\n",
      "your targets.\n",
      "\n",
      "Here is a short example:\n",
      "\n",
      "model_inputs = tokenizer(src_texts, ...)\n",
      "with tokenizer.as_target_tokenizer():\n",
      "    labels = tokenizer(tgt_texts, ...)\n",
      "model_inputs[\"labels\"] = labels[\"input_ids\"]\n",
      "\n",
      "See the documentation of your specific tokenizer for more details on the specific arguments to the tokenizer of choice.\n",
      "For a more complete example, see the implementation of `prepare_seq2seq_batch`.\n",
      "\n",
      "  warnings.warn(formatted_warning, FutureWarning)\n",
      "INFO:simpletransformers.t5.t5_model: Training started\n",
      "ERROR:wandb.jupyter:Failed to detect the name of this notebook, you can set it manually with the WANDB_NOTEBOOK_NAME environment variable to enable code saving.\n",
      "\u001b[34m\u001b[1mwandb\u001b[0m: Currently logged in as: \u001b[33mannaklezovich2\u001b[0m (use `wandb login --relogin` to force relogin)\n",
      "INFO:simpletransformers.t5.t5_utils: Creating features from dataset file at cache_dir/\n",
      "INFO:simpletransformers.t5.t5_utils: Creating features from dataset file at cache_dir/\n",
      "INFO:simpletransformers.t5.t5_utils: Creating features from dataset file at cache_dir/\n",
      "INFO:simpletransformers.t5.t5_utils: Creating features from dataset file at cache_dir/\n",
      "INFO:simpletransformers.t5.t5_utils: Creating features from dataset file at cache_dir/\n",
      "INFO:simpletransformers.t5.t5_utils: Creating features from dataset file at cache_dir/\n",
      "INFO:simpletransformers.t5.t5_utils: Creating features from dataset file at cache_dir/\n",
      "INFO:simpletransformers.t5.t5_utils: Creating features from dataset file at cache_dir/\n",
      "INFO:simpletransformers.t5.t5_utils: Creating features from dataset file at cache_dir/\n",
      "INFO:simpletransformers.t5.t5_utils: Creating features from dataset file at cache_dir/\n",
      "INFO:simpletransformers.t5.t5_utils: Creating features from dataset file at cache_dir/\n",
      "INFO:simpletransformers.t5.t5_utils: Creating features from dataset file at cache_dir/\n",
      "INFO:simpletransformers.t5.t5_utils: Creating features from dataset file at cache_dir/\n",
      "INFO:simpletransformers.t5.t5_utils: Creating features from dataset file at cache_dir/\n",
      "INFO:simpletransformers.t5.t5_utils: Creating features from dataset file at cache_dir/\n",
      "INFO:simpletransformers.t5.t5_model: Training of cointegrated/rut5-small model complete. Saved to outputs/.\n"
     ]
    },
    {
     "data": {
      "text/plain": [
       "(4305,\n",
       " {'global_step': [287,\n",
       "   574,\n",
       "   861,\n",
       "   1148,\n",
       "   1435,\n",
       "   1722,\n",
       "   2009,\n",
       "   2296,\n",
       "   2583,\n",
       "   2870,\n",
       "   3157,\n",
       "   3444,\n",
       "   3731,\n",
       "   4018,\n",
       "   4305],\n",
       "  'eval_loss': [2.604471119550558,\n",
       "   2.1991730424074025,\n",
       "   1.8686640125054579,\n",
       "   1.6936039924621582,\n",
       "   1.5209928567592914,\n",
       "   1.3695773207224333,\n",
       "   1.308110067477593,\n",
       "   1.183432393349134,\n",
       "   1.0926029086112976,\n",
       "   1.0079271220243895,\n",
       "   0.9608077452732966,\n",
       "   0.9460315704345703,\n",
       "   0.8813960701227188,\n",
       "   0.8587194898953805,\n",
       "   0.8240238336416391],\n",
       "  'train_loss': [1.4555743932724,\n",
       "   2.39312744140625,\n",
       "   2.8093395233154297,\n",
       "   1.4802021980285645,\n",
       "   2.015174627304077,\n",
       "   1.4182299375534058,\n",
       "   0.9098504781723022,\n",
       "   0.7829874753952026,\n",
       "   1.0982511043548584,\n",
       "   1.103837490081787,\n",
       "   0.6056715846061707,\n",
       "   0.6505894064903259,\n",
       "   0.5889272689819336,\n",
       "   0.351738303899765,\n",
       "   0.6417041420936584]})"
      ]
     },
     "execution_count": 21,
     "metadata": {},
     "output_type": "execute_result"
    }
   ],
   "source": [
    "#!g1.1\n",
    "# replacements\n",
    "# Train the model\n",
    "model2.train_model(generated_data, eval_data=test_data)"
   ]
  },
  {
   "cell_type": "markdown",
   "metadata": {
    "cellId": "yf3ttpa9k9iwq3hpt3f0s",
    "id": "GUzRMQb-LzLz"
   },
   "source": [
    "Вот, что-то обучили...\n",
    "\n",
    "Попробовала на 5, 15 и 10 эпох. На 5 эпох получились самые лучшие результаты.\n",
    "\n",
    "P.S. Забыла про дурацкую токенизацию ржя, пришлось еще раз переобучить, в этот раз сделала на 7 эпох.\n",
    "\n",
    "\n",
    "Для модели на аугментированных данных 30 эпох слишком много, судя по картинке на wandb после 22 эпохи начинается переобучение."
   ]
  },
  {
   "cell_type": "markdown",
   "metadata": {
    "cellId": "tlzobbgqvsaaidh3r0ztdl",
    "id": "V8k9f71BNXHX"
   },
   "source": [
    "Теперь можно оценить и протестировать (пока тестирую модель на 10)"
   ]
  },
  {
   "cell_type": "code",
   "execution_count": 36,
   "metadata": {
    "cellId": "t2cixzjs7ibdtx8t466twd",
    "id": "ZBZk2uwnQz5Y"
   },
   "outputs": [
    {
     "name": "stdout",
     "output_type": "stream",
     "text": [
      "Defaulting to user installation because normal site-packages is not writeable\n",
      "Requirement already satisfied: sacrebleu in /usr/local/lib/python3.8/dist-packages (2.0.0)\n",
      "Requirement already satisfied: tabulate>=0.8.9 in /usr/local/lib/python3.8/dist-packages (from sacrebleu) (0.8.9)\n",
      "Requirement already satisfied: portalocker in /usr/local/lib/python3.8/dist-packages (from sacrebleu) (2.3.2)\n",
      "Requirement already satisfied: colorama in /usr/local/lib/python3.8/dist-packages (from sacrebleu) (0.4.4)\n",
      "Requirement already satisfied: regex in /usr/local/lib/python3.8/dist-packages (from sacrebleu) (2021.11.10)\n",
      "Requirement already satisfied: numpy>=1.17 in /kernel/fallback/lib/python3.8/site-packages (from sacrebleu) (1.19.4)\n",
      "\u001b[33mWARNING: You are using pip version 21.3.1; however, version 22.1 is available.\n",
      "You should consider upgrading via the '/usr/local/bin/python3 -m pip install --upgrade pip' command.\u001b[0m\n"
     ]
    }
   ],
   "source": [
    "#!g1.1\n",
    "%pip install sacrebleu"
   ]
  },
  {
   "cell_type": "code",
   "execution_count": 37,
   "metadata": {
    "cellId": "3sp95wt5hx7qtqk7a790tk",
    "collapsed": true,
    "id": "l3BlP2qy8UAx",
    "jupyter": {
     "outputs_hidden": true
    }
   },
   "outputs": [
    {
     "name": "stderr",
     "output_type": "stream",
     "text": [
      "Failed to deserialize variable 'model_args'. Run the following code to delete it:\n",
      "  del_datasphere_variables('model', 'model2', 'model_args')\n",
      "Traceback (most recent call last):\n",
      "  File \"/kernel/lib/python3.8/site-packages/ml_kernel/state/state_protocol.py\", line 283, in _load_component\n",
      "    value = unpickler.load()\n",
      "  File \"/home/jupyter/.local/lib/python3.8/site-packages/transformers/models/t5/tokenization_t5.py\", line 282, in __setstate__\n",
      "    self.sp_model.Load(self.vocab_file)\n",
      "  File \"/home/jupyter/.local/lib/python3.8/site-packages/sentencepiece.py\", line 367, in Load\n",
      "    return self.LoadFromFile(model_file)\n",
      "  File \"/home/jupyter/.local/lib/python3.8/site-packages/sentencepiece.py\", line 177, in LoadFromFile\n",
      "    return _sentencepiece.SentencePieceProcessor_LoadFromFile(self, arg)\n",
      "OSError: Not found: \"/tmp/xdg_cache/huggingface/transformers/a70e10655dd799aac70d77cb3c0e2ed2dbc7e0e9e5a5fdcea95b424e5c7696fc.49f19f2d88f5168206d686d69bd0f6495942381027a2decd2658470f4e669fb9\": No such file or directory Error #2\n",
      "\n",
      "The above exception was the direct cause of the following exception:\n",
      "\n",
      "ml_kernel.state.state_protocol.KernelStateProtocol.DeserializationException: ['model', 'model2', 'model_args']\n",
      "Failed to deserialize variable 'model_args'. Run the following code to delete it:\n",
      "  del_datasphere_variables('model', 'model2', 'model_args')\n",
      "Traceback (most recent call last):\n",
      "  File \"/kernel/lib/python3.8/site-packages/ml_kernel/state/state_protocol.py\", line 283, in _load_component\n",
      "    value = unpickler.load()\n",
      "  File \"/home/jupyter/.local/lib/python3.8/site-packages/transformers/models/t5/tokenization_t5.py\", line 282, in __setstate__\n",
      "    self.sp_model.Load(self.vocab_file)\n",
      "  File \"/home/jupyter/.local/lib/python3.8/site-packages/sentencepiece.py\", line 367, in Load\n",
      "    return self.LoadFromFile(model_file)\n",
      "  File \"/home/jupyter/.local/lib/python3.8/site-packages/sentencepiece.py\", line 177, in LoadFromFile\n",
      "    return _sentencepiece.SentencePieceProcessor_LoadFromFile(self, arg)\n",
      "OSError: Not found: \"/tmp/xdg_cache/huggingface/transformers/a70e10655dd799aac70d77cb3c0e2ed2dbc7e0e9e5a5fdcea95b424e5c7696fc.49f19f2d88f5168206d686d69bd0f6495942381027a2decd2658470f4e669fb9\": No such file or directory Error #2\n",
      "\n",
      "The above exception was the direct cause of the following exception:\n",
      "\n",
      "ml_kernel.state.state_protocol.KernelStateProtocol.DeserializationException: ['model', 'model2', 'model_args']\n",
      "Failed to deserialize variable 'model_args'. Run the following code to delete it:\n",
      "  del_datasphere_variables('model', 'model2', 'model_args')\n",
      "Traceback (most recent call last):\n",
      "  File \"/kernel/lib/python3.8/site-packages/ml_kernel/state/state_protocol.py\", line 283, in _load_component\n",
      "    value = unpickler.load()\n",
      "  File \"/home/jupyter/.local/lib/python3.8/site-packages/transformers/models/t5/tokenization_t5.py\", line 282, in __setstate__\n",
      "    self.sp_model.Load(self.vocab_file)\n",
      "  File \"/home/jupyter/.local/lib/python3.8/site-packages/sentencepiece.py\", line 367, in Load\n",
      "    return self.LoadFromFile(model_file)\n",
      "  File \"/home/jupyter/.local/lib/python3.8/site-packages/sentencepiece.py\", line 177, in LoadFromFile\n",
      "    return _sentencepiece.SentencePieceProcessor_LoadFromFile(self, arg)\n",
      "OSError: Not found: \"/tmp/xdg_cache/huggingface/transformers/a70e10655dd799aac70d77cb3c0e2ed2dbc7e0e9e5a5fdcea95b424e5c7696fc.49f19f2d88f5168206d686d69bd0f6495942381027a2decd2658470f4e669fb9\": No such file or directory Error #2\n",
      "\n",
      "The above exception was the direct cause of the following exception:\n",
      "\n",
      "ml_kernel.state.state_protocol.KernelStateProtocol.DeserializationException: ['model', 'model2', 'model_args']\n",
      "Failed to deserialize variable 'model_args'. Run the following code to delete it:\n",
      "  del_datasphere_variables('model', 'model2', 'model_args')\n",
      "Traceback (most recent call last):\n",
      "  File \"/kernel/lib/python3.8/site-packages/ml_kernel/state/state_protocol.py\", line 283, in _load_component\n",
      "    value = unpickler.load()\n",
      "  File \"/home/jupyter/.local/lib/python3.8/site-packages/transformers/models/t5/tokenization_t5.py\", line 282, in __setstate__\n",
      "    self.sp_model.Load(self.vocab_file)\n",
      "  File \"/home/jupyter/.local/lib/python3.8/site-packages/sentencepiece.py\", line 367, in Load\n",
      "    return self.LoadFromFile(model_file)\n",
      "  File \"/home/jupyter/.local/lib/python3.8/site-packages/sentencepiece.py\", line 177, in LoadFromFile\n",
      "    return _sentencepiece.SentencePieceProcessor_LoadFromFile(self, arg)\n",
      "OSError: Not found: \"/tmp/xdg_cache/huggingface/transformers/a70e10655dd799aac70d77cb3c0e2ed2dbc7e0e9e5a5fdcea95b424e5c7696fc.49f19f2d88f5168206d686d69bd0f6495942381027a2decd2658470f4e669fb9\": No such file or directory Error #2\n",
      "\n",
      "The above exception was the direct cause of the following exception:\n",
      "\n",
      "ml_kernel.state.state_protocol.KernelStateProtocol.DeserializationException: ['model', 'model2', 'model_args']\n",
      "Failed to deserialize variable 'model_args'. Run the following code to delete it:\n",
      "  del_datasphere_variables('model', 'model2', 'model_args')\n",
      "Traceback (most recent call last):\n",
      "  File \"/kernel/lib/python3.8/site-packages/ml_kernel/state/state_protocol.py\", line 283, in _load_component\n",
      "    value = unpickler.load()\n",
      "  File \"/home/jupyter/.local/lib/python3.8/site-packages/transformers/models/t5/tokenization_t5.py\", line 282, in __setstate__\n",
      "    self.sp_model.Load(self.vocab_file)\n",
      "  File \"/home/jupyter/.local/lib/python3.8/site-packages/sentencepiece.py\", line 367, in Load\n",
      "    return self.LoadFromFile(model_file)\n",
      "  File \"/home/jupyter/.local/lib/python3.8/site-packages/sentencepiece.py\", line 177, in LoadFromFile\n",
      "    return _sentencepiece.SentencePieceProcessor_LoadFromFile(self, arg)\n",
      "OSError: Not found: \"/tmp/xdg_cache/huggingface/transformers/a70e10655dd799aac70d77cb3c0e2ed2dbc7e0e9e5a5fdcea95b424e5c7696fc.49f19f2d88f5168206d686d69bd0f6495942381027a2decd2658470f4e669fb9\": No such file or directory Error #2\n",
      "\n",
      "The above exception was the direct cause of the following exception:\n",
      "\n",
      "ml_kernel.state.state_protocol.KernelStateProtocol.DeserializationException: ['model', 'model2', 'model_args']\n",
      "/kernel/lib/python3.8/site-packages/ml_kernel/ignored_keyboard_interrupt.py:16: UserWarning: Kernel cannot be interrupted during state load\n",
      "  warnings.warn(self._warn_message)\n",
      "Failed to deserialize variable 'model2'. Run the following code to delete it:\n",
      "  del_datasphere_variables('model', 'model2', 'model_args')\n",
      "Traceback (most recent call last):\n",
      "  File \"/kernel/lib/python3.8/site-packages/ml_kernel/state/state_protocol.py\", line 283, in _load_component\n",
      "    value = unpickler.load()\n",
      "  File \"/home/jupyter/.local/lib/python3.8/site-packages/transformers/models/t5/tokenization_t5.py\", line 282, in __setstate__\n",
      "    self.sp_model.Load(self.vocab_file)\n",
      "  File \"/home/jupyter/.local/lib/python3.8/site-packages/sentencepiece.py\", line 367, in Load\n",
      "    return self.LoadFromFile(model_file)\n",
      "  File \"/home/jupyter/.local/lib/python3.8/site-packages/sentencepiece.py\", line 177, in LoadFromFile\n",
      "    return _sentencepiece.SentencePieceProcessor_LoadFromFile(self, arg)\n",
      "OSError: Not found: \"/tmp/xdg_cache/huggingface/transformers/a70e10655dd799aac70d77cb3c0e2ed2dbc7e0e9e5a5fdcea95b424e5c7696fc.49f19f2d88f5168206d686d69bd0f6495942381027a2decd2658470f4e669fb9\": No such file or directory Error #2\n",
      "\n",
      "The above exception was the direct cause of the following exception:\n",
      "\n",
      "ml_kernel.state.state_protocol.KernelStateProtocol.DeserializationException: ['model', 'model2', 'model_args']\n"
     ]
    }
   ],
   "source": [
    "#!g1.1\n",
    "#import logging\n",
    "#import sacrebleu\n",
    "#from simpletransformers.t5 import T5Model, T5Args\n",
    "\n",
    "\n",
    "#logging.basicConfig(level=logging.INFO)\n",
    "#transformers_logger = logging.getLogger(\"transformers\")\n",
    "#transformers_logger.setLevel(logging.WARNING)\n",
    "\n",
    "#model_args = T5Args()\n",
    "#model_args.max_length = 512\n",
    "#model_args.length_penalty = 1 \n",
    "#model_args.num_beams = 10\n",
    "\n",
    "#model2 = T5Model(\"mt5\", \"outputs\", args=model_args)"
   ]
  },
  {
   "cell_type": "code",
   "execution_count": 33,
   "metadata": {
    "cellId": "wr09ko28t0hczk7k8i0imh"
   },
   "outputs": [],
   "source": [
    "#!g1.1\n",
    "torch.save(model2, \"model15_special_tokens_mix_agn_forty.pth\")"
   ]
  },
  {
   "cell_type": "markdown",
   "metadata": {
    "cellId": "scks3af3emfjmfx82o72l7",
    "id": "0KN6jB08Qm6x"
   },
   "source": [
    "Попробуем оценить, что произошло"
   ]
  },
  {
   "cell_type": "code",
   "execution_count": 34,
   "metadata": {
    "cellId": "xrrks3cclvfr7awy02fec"
   },
   "outputs": [
    {
     "data": {
      "application/vnd.jupyter.widget-view+json": {
       "model_id": "aaa7c8c406ff42f498753567bbb003b2",
       "version_major": 2,
       "version_minor": 0
      },
      "text/plain": [
       "  0%|          | 0/758 [00:00<?, ?it/s]"
      ]
     },
     "metadata": {},
     "output_type": "display_data"
    },
    {
     "data": {
      "application/vnd.jupyter.widget-view+json": {
       "model_id": "a37490ffdd024fefb02ba21c52ed6f37",
       "version_major": 2,
       "version_minor": 0
      },
      "text/plain": [
       "Running Evaluation:   0%|          | 0/26 [00:00<?, ?it/s]"
      ]
     },
     "metadata": {},
     "output_type": "display_data"
    },
    {
     "data": {
      "text/plain": [
       "{'eval_loss': 0.8623971606676395}"
      ]
     },
     "execution_count": 34,
     "metadata": {},
     "output_type": "execute_result"
    }
   ],
   "source": [
    "#!g1.1\n",
    "model2.eval_model(eval_data=test_data)"
   ]
  },
  {
   "cell_type": "code",
   "execution_count": 35,
   "metadata": {
    "cellId": "7bkbcnts1gmipygi257hie",
    "id": "XoeE0GL2M8pd"
   },
   "outputs": [],
   "source": [
    "#!g1.1\n",
    "truth_rsl = test_data[\"target_text\"].tolist()\n",
    "to_rsl = test_data[\"input_text\"].tolist()"
   ]
  },
  {
   "cell_type": "code",
   "execution_count": 36,
   "metadata": {
    "cellId": "t7suswrodm74cqm3bo70d",
    "colab": {
     "base_uri": "https://localhost:8080/",
     "height": 413,
     "referenced_widgets": [
      "a9f9677a62ea4c9d9d996ea9f54f8009",
      "11677e2e4d2f42b785c1e3dc4860b693",
      "75824665003c4a42bbd4b3f365422bf9",
      "da26e3a4ebf64e7fa7a4a0a5fbcb5891",
      "00876108d2974d4a85285fc0ad3e9b04",
      "fd9caf3bf52b4080aa0bfd43871ac3fc",
      "624eb62d06bc40909f66ea046ba54111",
      "de932e3b963043fb9cb2f8820579fab4",
      "0404498b044846a68a1973717c338bb0",
      "3e8e8d672a134895b91196650ccf035e",
      "663c495992b943c4a8fae13956c6cfb7",
      "5ba13095df7d4814aa8a99fe3694612a",
      "c60f52d1ab8f4d90ab859cbdeca60d82",
      "5fda45b8a5ce4695ba071d2222ec2723",
      "26d2934965544fbc8b593c6905a9314f",
      "e41720049b30475cb767c8cc6a0fe84d",
      "770755724c6d4f379ca081b3fc8fb64c",
      "59c14ea9c21549a8be6713ec060430d5",
      "9b2cda7eb4d84dd7b35ff49f15cfa391",
      "82c7bba18b5743bd8e69f9f6bfa10fb2",
      "aa9c3272c53e4b5ba0b7019c8d4b4eaf",
      "0abad0acf1544247b3dd9a916254d4a6"
     ]
    },
    "collapsed": true,
    "id": "HTxEsIt7NqHH",
    "jupyter": {
     "outputs_hidden": true
    },
    "outputId": "656da995-ea09-46ef-b658-96363e1b3895"
   },
   "outputs": [
    {
     "data": {
      "application/vnd.jupyter.widget-view+json": {
       "model_id": "aec064c1ebc54ded9e5517d6653f6f7e",
       "version_major": 2,
       "version_minor": 0
      },
      "text/plain": [
       "Generating outputs:   0%|          | 0/26 [00:00<?, ?it/s]"
      ]
     },
     "metadata": {},
     "output_type": "display_data"
    },
    {
     "data": {
      "application/vnd.jupyter.widget-view+json": {
       "model_id": "ead08733f3c3441289d9a552268ac02b",
       "version_major": 2,
       "version_minor": 0
      },
      "text/plain": [
       "Decoding outputs:   0%|          | 0/758 [00:00<?, ?it/s]"
      ]
     },
     "metadata": {},
     "output_type": "display_data"
    },
    {
     "name": "stderr",
     "output_type": "stream",
     "text": [
      "/home/jupyter/.local/lib/python3.8/site-packages/torch/utils/hooks.py:59: UserWarning: backward hook <function TorchHistory._hook_variable_gradient_stats.<locals>.<lambda> at 0x7fcc4a1ffca0> on tensor will not be serialized.  If this is expected, you can decorate the function with @torch.utils.hooks.unserializable_hook to suppress this warning\n",
      "  warnings.warn(\"backward hook {} on tensor will not be \"\n",
      "/home/jupyter/.local/lib/python3.8/site-packages/torch/utils/hooks.py:59: UserWarning: backward hook <function TorchHistory._hook_variable_gradient_stats.<locals>.<lambda> at 0x7fcc4a1ffdc0> on tensor will not be serialized.  If this is expected, you can decorate the function with @torch.utils.hooks.unserializable_hook to suppress this warning\n",
      "  warnings.warn(\"backward hook {} on tensor will not be \"\n",
      "/home/jupyter/.local/lib/python3.8/site-packages/torch/utils/hooks.py:59: UserWarning: backward hook <function TorchHistory._hook_variable_gradient_stats.<locals>.<lambda> at 0x7fcc4a1ffee0> on tensor will not be serialized.  If this is expected, you can decorate the function with @torch.utils.hooks.unserializable_hook to suppress this warning\n",
      "  warnings.warn(\"backward hook {} on tensor will not be \"\n",
      "/home/jupyter/.local/lib/python3.8/site-packages/torch/utils/hooks.py:59: UserWarning: backward hook <function TorchHistory._hook_variable_gradient_stats.<locals>.<lambda> at 0x7fcc4a16e040> on tensor will not be serialized.  If this is expected, you can decorate the function with @torch.utils.hooks.unserializable_hook to suppress this warning\n",
      "  warnings.warn(\"backward hook {} on tensor will not be \"\n",
      "/home/jupyter/.local/lib/python3.8/site-packages/torch/utils/hooks.py:59: UserWarning: backward hook <function TorchHistory._hook_variable_gradient_stats.<locals>.<lambda> at 0x7fcc4a16e160> on tensor will not be serialized.  If this is expected, you can decorate the function with @torch.utils.hooks.unserializable_hook to suppress this warning\n",
      "  warnings.warn(\"backward hook {} on tensor will not be \"\n",
      "/home/jupyter/.local/lib/python3.8/site-packages/torch/utils/hooks.py:59: UserWarning: backward hook <function TorchHistory._hook_variable_gradient_stats.<locals>.<lambda> at 0x7fcc4a16e280> on tensor will not be serialized.  If this is expected, you can decorate the function with @torch.utils.hooks.unserializable_hook to suppress this warning\n",
      "  warnings.warn(\"backward hook {} on tensor will not be \"\n",
      "/home/jupyter/.local/lib/python3.8/site-packages/torch/utils/hooks.py:59: UserWarning: backward hook <function TorchHistory._hook_variable_gradient_stats.<locals>.<lambda> at 0x7fcc4a16e3a0> on tensor will not be serialized.  If this is expected, you can decorate the function with @torch.utils.hooks.unserializable_hook to suppress this warning\n",
      "  warnings.warn(\"backward hook {} on tensor will not be \"\n",
      "/home/jupyter/.local/lib/python3.8/site-packages/torch/utils/hooks.py:59: UserWarning: backward hook <function TorchHistory._hook_variable_gradient_stats.<locals>.<lambda> at 0x7fcc4a16e4c0> on tensor will not be serialized.  If this is expected, you can decorate the function with @torch.utils.hooks.unserializable_hook to suppress this warning\n",
      "  warnings.warn(\"backward hook {} on tensor will not be \"\n",
      "/home/jupyter/.local/lib/python3.8/site-packages/torch/utils/hooks.py:59: UserWarning: backward hook <function TorchHistory._hook_variable_gradient_stats.<locals>.<lambda> at 0x7fcc4a16e5e0> on tensor will not be serialized.  If this is expected, you can decorate the function with @torch.utils.hooks.unserializable_hook to suppress this warning\n",
      "  warnings.warn(\"backward hook {} on tensor will not be \"\n",
      "/home/jupyter/.local/lib/python3.8/site-packages/torch/utils/hooks.py:59: UserWarning: backward hook <function TorchHistory._hook_variable_gradient_stats.<locals>.<lambda> at 0x7fcc4a16e700> on tensor will not be serialized.  If this is expected, you can decorate the function with @torch.utils.hooks.unserializable_hook to suppress this warning\n",
      "  warnings.warn(\"backward hook {} on tensor will not be \"\n",
      "/home/jupyter/.local/lib/python3.8/site-packages/torch/utils/hooks.py:59: UserWarning: backward hook <function TorchHistory._hook_variable_gradient_stats.<locals>.<lambda> at 0x7fcc4a16e820> on tensor will not be serialized.  If this is expected, you can decorate the function with @torch.utils.hooks.unserializable_hook to suppress this warning\n",
      "  warnings.warn(\"backward hook {} on tensor will not be \"\n",
      "/home/jupyter/.local/lib/python3.8/site-packages/torch/utils/hooks.py:59: UserWarning: backward hook <function TorchHistory._hook_variable_gradient_stats.<locals>.<lambda> at 0x7fcc4a16e940> on tensor will not be serialized.  If this is expected, you can decorate the function with @torch.utils.hooks.unserializable_hook to suppress this warning\n",
      "  warnings.warn(\"backward hook {} on tensor will not be \"\n",
      "/home/jupyter/.local/lib/python3.8/site-packages/torch/utils/hooks.py:59: UserWarning: backward hook <function TorchHistory._hook_variable_gradient_stats.<locals>.<lambda> at 0x7fcc4a16ea60> on tensor will not be serialized.  If this is expected, you can decorate the function with @torch.utils.hooks.unserializable_hook to suppress this warning\n",
      "  warnings.warn(\"backward hook {} on tensor will not be \"\n",
      "/home/jupyter/.local/lib/python3.8/site-packages/torch/utils/hooks.py:59: UserWarning: backward hook <function TorchHistory._hook_variable_gradient_stats.<locals>.<lambda> at 0x7fcc4a16eb80> on tensor will not be serialized.  If this is expected, you can decorate the function with @torch.utils.hooks.unserializable_hook to suppress this warning\n",
      "  warnings.warn(\"backward hook {} on tensor will not be \"\n",
      "/home/jupyter/.local/lib/python3.8/site-packages/torch/utils/hooks.py:59: UserWarning: backward hook <function TorchHistory._hook_variable_gradient_stats.<locals>.<lambda> at 0x7fcc4a16eca0> on tensor will not be serialized.  If this is expected, you can decorate the function with @torch.utils.hooks.unserializable_hook to suppress this warning\n",
      "  warnings.warn(\"backward hook {} on tensor will not be \"\n",
      "/home/jupyter/.local/lib/python3.8/site-packages/torch/utils/hooks.py:59: UserWarning: backward hook <function TorchHistory._hook_variable_gradient_stats.<locals>.<lambda> at 0x7fcc4a16edc0> on tensor will not be serialized.  If this is expected, you can decorate the function with @torch.utils.hooks.unserializable_hook to suppress this warning\n",
      "  warnings.warn(\"backward hook {} on tensor will not be \"\n",
      "/home/jupyter/.local/lib/python3.8/site-packages/torch/utils/hooks.py:59: UserWarning: backward hook <function TorchHistory._hook_variable_gradient_stats.<locals>.<lambda> at 0x7fcc4a16eee0> on tensor will not be serialized.  If this is expected, you can decorate the function with @torch.utils.hooks.unserializable_hook to suppress this warning\n",
      "  warnings.warn(\"backward hook {} on tensor will not be \"\n",
      "/home/jupyter/.local/lib/python3.8/site-packages/torch/utils/hooks.py:59: UserWarning: backward hook <function TorchHistory._hook_variable_gradient_stats.<locals>.<lambda> at 0x7fcc4a172040> on tensor will not be serialized.  If this is expected, you can decorate the function with @torch.utils.hooks.unserializable_hook to suppress this warning\n",
      "  warnings.warn(\"backward hook {} on tensor will not be \"\n",
      "/home/jupyter/.local/lib/python3.8/site-packages/torch/utils/hooks.py:59: UserWarning: backward hook <function TorchHistory._hook_variable_gradient_stats.<locals>.<lambda> at 0x7fcc4a172160> on tensor will not be serialized.  If this is expected, you can decorate the function with @torch.utils.hooks.unserializable_hook to suppress this warning\n",
      "  warnings.warn(\"backward hook {} on tensor will not be \"\n",
      "/home/jupyter/.local/lib/python3.8/site-packages/torch/utils/hooks.py:59: UserWarning: backward hook <function TorchHistory._hook_variable_gradient_stats.<locals>.<lambda> at 0x7fcc4a172280> on tensor will not be serialized.  If this is expected, you can decorate the function with @torch.utils.hooks.unserializable_hook to suppress this warning\n",
      "  warnings.warn(\"backward hook {} on tensor will not be \"\n",
      "/home/jupyter/.local/lib/python3.8/site-packages/torch/utils/hooks.py:59: UserWarning: backward hook <function TorchHistory._hook_variable_gradient_stats.<locals>.<lambda> at 0x7fcc4a1723a0> on tensor will not be serialized.  If this is expected, you can decorate the function with @torch.utils.hooks.unserializable_hook to suppress this warning\n",
      "  warnings.warn(\"backward hook {} on tensor will not be \"\n",
      "/home/jupyter/.local/lib/python3.8/site-packages/torch/utils/hooks.py:59: UserWarning: backward hook <function TorchHistory._hook_variable_gradient_stats.<locals>.<lambda> at 0x7fcc4a1724c0> on tensor will not be serialized.  If this is expected, you can decorate the function with @torch.utils.hooks.unserializable_hook to suppress this warning\n",
      "  warnings.warn(\"backward hook {} on tensor will not be \"\n",
      "/home/jupyter/.local/lib/python3.8/site-packages/torch/utils/hooks.py:59: UserWarning: backward hook <function TorchHistory._hook_variable_gradient_stats.<locals>.<lambda> at 0x7fcc4a1725e0> on tensor will not be serialized.  If this is expected, you can decorate the function with @torch.utils.hooks.unserializable_hook to suppress this warning\n",
      "  warnings.warn(\"backward hook {} on tensor will not be \"\n",
      "/home/jupyter/.local/lib/python3.8/site-packages/torch/utils/hooks.py:59: UserWarning: backward hook <function TorchHistory._hook_variable_gradient_stats.<locals>.<lambda> at 0x7fcc4a172700> on tensor will not be serialized.  If this is expected, you can decorate the function with @torch.utils.hooks.unserializable_hook to suppress this warning\n",
      "  warnings.warn(\"backward hook {} on tensor will not be \"\n",
      "/home/jupyter/.local/lib/python3.8/site-packages/torch/utils/hooks.py:59: UserWarning: backward hook <function TorchHistory._hook_variable_gradient_stats.<locals>.<lambda> at 0x7fcc4a172820> on tensor will not be serialized.  If this is expected, you can decorate the function with @torch.utils.hooks.unserializable_hook to suppress this warning\n",
      "  warnings.warn(\"backward hook {} on tensor will not be \"\n",
      "/home/jupyter/.local/lib/python3.8/site-packages/torch/utils/hooks.py:59: UserWarning: backward hook <function TorchHistory._hook_variable_gradient_stats.<locals>.<lambda> at 0x7fcc4a172940> on tensor will not be serialized.  If this is expected, you can decorate the function with @torch.utils.hooks.unserializable_hook to suppress this warning\n",
      "  warnings.warn(\"backward hook {} on tensor will not be \"\n",
      "/home/jupyter/.local/lib/python3.8/site-packages/torch/utils/hooks.py:59: UserWarning: backward hook <function TorchHistory._hook_variable_gradient_stats.<locals>.<lambda> at 0x7fcc4a172a60> on tensor will not be serialized.  If this is expected, you can decorate the function with @torch.utils.hooks.unserializable_hook to suppress this warning\n",
      "  warnings.warn(\"backward hook {} on tensor will not be \"\n",
      "/home/jupyter/.local/lib/python3.8/site-packages/torch/utils/hooks.py:59: UserWarning: backward hook <function TorchHistory._hook_variable_gradient_stats.<locals>.<lambda> at 0x7fcc4a172b80> on tensor will not be serialized.  If this is expected, you can decorate the function with @torch.utils.hooks.unserializable_hook to suppress this warning\n",
      "  warnings.warn(\"backward hook {} on tensor will not be \"\n",
      "/home/jupyter/.local/lib/python3.8/site-packages/torch/utils/hooks.py:59: UserWarning: backward hook <function TorchHistory._hook_variable_gradient_stats.<locals>.<lambda> at 0x7fcc4a172ca0> on tensor will not be serialized.  If this is expected, you can decorate the function with @torch.utils.hooks.unserializable_hook to suppress this warning\n",
      "  warnings.warn(\"backward hook {} on tensor will not be \"\n",
      "/home/jupyter/.local/lib/python3.8/site-packages/torch/utils/hooks.py:59: UserWarning: backward hook <function TorchHistory._hook_variable_gradient_stats.<locals>.<lambda> at 0x7fcc4a172dc0> on tensor will not be serialized.  If this is expected, you can decorate the function with @torch.utils.hooks.unserializable_hook to suppress this warning\n",
      "  warnings.warn(\"backward hook {} on tensor will not be \"\n",
      "/home/jupyter/.local/lib/python3.8/site-packages/torch/utils/hooks.py:59: UserWarning: backward hook <function TorchHistory._hook_variable_gradient_stats.<locals>.<lambda> at 0x7fcc4a172ee0> on tensor will not be serialized.  If this is expected, you can decorate the function with @torch.utils.hooks.unserializable_hook to suppress this warning\n",
      "  warnings.warn(\"backward hook {} on tensor will not be \"\n",
      "/home/jupyter/.local/lib/python3.8/site-packages/torch/utils/hooks.py:59: UserWarning: backward hook <function TorchHistory._hook_variable_gradient_stats.<locals>.<lambda> at 0x7fcc4a176040> on tensor will not be serialized.  If this is expected, you can decorate the function with @torch.utils.hooks.unserializable_hook to suppress this warning\n",
      "  warnings.warn(\"backward hook {} on tensor will not be \"\n",
      "/home/jupyter/.local/lib/python3.8/site-packages/torch/utils/hooks.py:59: UserWarning: backward hook <function TorchHistory._hook_variable_gradient_stats.<locals>.<lambda> at 0x7fcc4a176160> on tensor will not be serialized.  If this is expected, you can decorate the function with @torch.utils.hooks.unserializable_hook to suppress this warning\n",
      "  warnings.warn(\"backward hook {} on tensor will not be \"\n",
      "/home/jupyter/.local/lib/python3.8/site-packages/torch/utils/hooks.py:59: UserWarning: backward hook <function TorchHistory._hook_variable_gradient_stats.<locals>.<lambda> at 0x7fcc4a176280> on tensor will not be serialized.  If this is expected, you can decorate the function with @torch.utils.hooks.unserializable_hook to suppress this warning\n",
      "  warnings.warn(\"backward hook {} on tensor will not be \"\n",
      "/home/jupyter/.local/lib/python3.8/site-packages/torch/utils/hooks.py:59: UserWarning: backward hook <function TorchHistory._hook_variable_gradient_stats.<locals>.<lambda> at 0x7fcc4a1763a0> on tensor will not be serialized.  If this is expected, you can decorate the function with @torch.utils.hooks.unserializable_hook to suppress this warning\n",
      "  warnings.warn(\"backward hook {} on tensor will not be \"\n",
      "/home/jupyter/.local/lib/python3.8/site-packages/torch/utils/hooks.py:59: UserWarning: backward hook <function TorchHistory._hook_variable_gradient_stats.<locals>.<lambda> at 0x7fcc4a1764c0> on tensor will not be serialized.  If this is expected, you can decorate the function with @torch.utils.hooks.unserializable_hook to suppress this warning\n",
      "  warnings.warn(\"backward hook {} on tensor will not be \"\n",
      "/home/jupyter/.local/lib/python3.8/site-packages/torch/utils/hooks.py:59: UserWarning: backward hook <function TorchHistory._hook_variable_gradient_stats.<locals>.<lambda> at 0x7fcc4a1765e0> on tensor will not be serialized.  If this is expected, you can decorate the function with @torch.utils.hooks.unserializable_hook to suppress this warning\n",
      "  warnings.warn(\"backward hook {} on tensor will not be \"\n",
      "/home/jupyter/.local/lib/python3.8/site-packages/torch/utils/hooks.py:59: UserWarning: backward hook <function TorchHistory._hook_variable_gradient_stats.<locals>.<lambda> at 0x7fcc4a176700> on tensor will not be serialized.  If this is expected, you can decorate the function with @torch.utils.hooks.unserializable_hook to suppress this warning\n",
      "  warnings.warn(\"backward hook {} on tensor will not be \"\n",
      "/home/jupyter/.local/lib/python3.8/site-packages/torch/utils/hooks.py:59: UserWarning: backward hook <function TorchHistory._hook_variable_gradient_stats.<locals>.<lambda> at 0x7fcc4a176820> on tensor will not be serialized.  If this is expected, you can decorate the function with @torch.utils.hooks.unserializable_hook to suppress this warning\n",
      "  warnings.warn(\"backward hook {} on tensor will not be \"\n",
      "/home/jupyter/.local/lib/python3.8/site-packages/torch/utils/hooks.py:59: UserWarning: backward hook <function TorchHistory._hook_variable_gradient_stats.<locals>.<lambda> at 0x7fcc4a176940> on tensor will not be serialized.  If this is expected, you can decorate the function with @torch.utils.hooks.unserializable_hook to suppress this warning\n",
      "  warnings.warn(\"backward hook {} on tensor will not be \"\n",
      "/home/jupyter/.local/lib/python3.8/site-packages/torch/utils/hooks.py:59: UserWarning: backward hook <function TorchHistory._hook_variable_gradient_stats.<locals>.<lambda> at 0x7fcc4a176a60> on tensor will not be serialized.  If this is expected, you can decorate the function with @torch.utils.hooks.unserializable_hook to suppress this warning\n",
      "  warnings.warn(\"backward hook {} on tensor will not be \"\n",
      "/home/jupyter/.local/lib/python3.8/site-packages/torch/utils/hooks.py:59: UserWarning: backward hook <function TorchHistory._hook_variable_gradient_stats.<locals>.<lambda> at 0x7fcc4a176b80> on tensor will not be serialized.  If this is expected, you can decorate the function with @torch.utils.hooks.unserializable_hook to suppress this warning\n",
      "  warnings.warn(\"backward hook {} on tensor will not be \"\n",
      "/home/jupyter/.local/lib/python3.8/site-packages/torch/utils/hooks.py:59: UserWarning: backward hook <function TorchHistory._hook_variable_gradient_stats.<locals>.<lambda> at 0x7fcc4a176ca0> on tensor will not be serialized.  If this is expected, you can decorate the function with @torch.utils.hooks.unserializable_hook to suppress this warning\n",
      "  warnings.warn(\"backward hook {} on tensor will not be \"\n",
      "/home/jupyter/.local/lib/python3.8/site-packages/torch/utils/hooks.py:59: UserWarning: backward hook <function TorchHistory._hook_variable_gradient_stats.<locals>.<lambda> at 0x7fcc4a176dc0> on tensor will not be serialized.  If this is expected, you can decorate the function with @torch.utils.hooks.unserializable_hook to suppress this warning\n",
      "  warnings.warn(\"backward hook {} on tensor will not be \"\n",
      "/home/jupyter/.local/lib/python3.8/site-packages/torch/utils/hooks.py:59: UserWarning: backward hook <function TorchHistory._hook_variable_gradient_stats.<locals>.<lambda> at 0x7fcc4a176ee0> on tensor will not be serialized.  If this is expected, you can decorate the function with @torch.utils.hooks.unserializable_hook to suppress this warning\n",
      "  warnings.warn(\"backward hook {} on tensor will not be \"\n",
      "/home/jupyter/.local/lib/python3.8/site-packages/torch/utils/hooks.py:59: UserWarning: backward hook <function TorchHistory._hook_variable_gradient_stats.<locals>.<lambda> at 0x7fcc4a179040> on tensor will not be serialized.  If this is expected, you can decorate the function with @torch.utils.hooks.unserializable_hook to suppress this warning\n",
      "  warnings.warn(\"backward hook {} on tensor will not be \"\n",
      "/home/jupyter/.local/lib/python3.8/site-packages/torch/utils/hooks.py:59: UserWarning: backward hook <function TorchHistory._hook_variable_gradient_stats.<locals>.<lambda> at 0x7fcc4a179160> on tensor will not be serialized.  If this is expected, you can decorate the function with @torch.utils.hooks.unserializable_hook to suppress this warning\n",
      "  warnings.warn(\"backward hook {} on tensor will not be \"\n",
      "/home/jupyter/.local/lib/python3.8/site-packages/torch/utils/hooks.py:59: UserWarning: backward hook <function TorchHistory._hook_variable_gradient_stats.<locals>.<lambda> at 0x7fcc4a179280> on tensor will not be serialized.  If this is expected, you can decorate the function with @torch.utils.hooks.unserializable_hook to suppress this warning\n",
      "  warnings.warn(\"backward hook {} on tensor will not be \"\n",
      "/home/jupyter/.local/lib/python3.8/site-packages/torch/utils/hooks.py:59: UserWarning: backward hook <function TorchHistory._hook_variable_gradient_stats.<locals>.<lambda> at 0x7fcc4a1793a0> on tensor will not be serialized.  If this is expected, you can decorate the function with @torch.utils.hooks.unserializable_hook to suppress this warning\n",
      "  warnings.warn(\"backward hook {} on tensor will not be \"\n",
      "/home/jupyter/.local/lib/python3.8/site-packages/torch/utils/hooks.py:59: UserWarning: backward hook <function TorchHistory._hook_variable_gradient_stats.<locals>.<lambda> at 0x7fcc4a1794c0> on tensor will not be serialized.  If this is expected, you can decorate the function with @torch.utils.hooks.unserializable_hook to suppress this warning\n",
      "  warnings.warn(\"backward hook {} on tensor will not be \"\n",
      "/home/jupyter/.local/lib/python3.8/site-packages/torch/utils/hooks.py:59: UserWarning: backward hook <function TorchHistory._hook_variable_gradient_stats.<locals>.<lambda> at 0x7fcc4a1795e0> on tensor will not be serialized.  If this is expected, you can decorate the function with @torch.utils.hooks.unserializable_hook to suppress this warning\n",
      "  warnings.warn(\"backward hook {} on tensor will not be \"\n",
      "/home/jupyter/.local/lib/python3.8/site-packages/torch/utils/hooks.py:59: UserWarning: backward hook <function TorchHistory._hook_variable_gradient_stats.<locals>.<lambda> at 0x7fcc4a179700> on tensor will not be serialized.  If this is expected, you can decorate the function with @torch.utils.hooks.unserializable_hook to suppress this warning\n",
      "  warnings.warn(\"backward hook {} on tensor will not be \"\n",
      "/home/jupyter/.local/lib/python3.8/site-packages/torch/utils/hooks.py:59: UserWarning: backward hook <function TorchHistory._hook_variable_gradient_stats.<locals>.<lambda> at 0x7fcc4a179820> on tensor will not be serialized.  If this is expected, you can decorate the function with @torch.utils.hooks.unserializable_hook to suppress this warning\n",
      "  warnings.warn(\"backward hook {} on tensor will not be \"\n",
      "/home/jupyter/.local/lib/python3.8/site-packages/torch/utils/hooks.py:59: UserWarning: backward hook <function TorchHistory._hook_variable_gradient_stats.<locals>.<lambda> at 0x7fcc4a179940> on tensor will not be serialized.  If this is expected, you can decorate the function with @torch.utils.hooks.unserializable_hook to suppress this warning\n",
      "  warnings.warn(\"backward hook {} on tensor will not be \"\n",
      "/home/jupyter/.local/lib/python3.8/site-packages/torch/utils/hooks.py:59: UserWarning: backward hook <function TorchHistory._hook_variable_gradient_stats.<locals>.<lambda> at 0x7fcc4a179a60> on tensor will not be serialized.  If this is expected, you can decorate the function with @torch.utils.hooks.unserializable_hook to suppress this warning\n",
      "  warnings.warn(\"backward hook {} on tensor will not be \"\n",
      "/home/jupyter/.local/lib/python3.8/site-packages/torch/utils/hooks.py:59: UserWarning: backward hook <function TorchHistory._hook_variable_gradient_stats.<locals>.<lambda> at 0x7fcc4a179b80> on tensor will not be serialized.  If this is expected, you can decorate the function with @torch.utils.hooks.unserializable_hook to suppress this warning\n",
      "  warnings.warn(\"backward hook {} on tensor will not be \"\n",
      "/home/jupyter/.local/lib/python3.8/site-packages/torch/utils/hooks.py:59: UserWarning: backward hook <function TorchHistory._hook_variable_gradient_stats.<locals>.<lambda> at 0x7fcc4a179ca0> on tensor will not be serialized.  If this is expected, you can decorate the function with @torch.utils.hooks.unserializable_hook to suppress this warning\n",
      "  warnings.warn(\"backward hook {} on tensor will not be \"\n",
      "/home/jupyter/.local/lib/python3.8/site-packages/torch/utils/hooks.py:59: UserWarning: backward hook <function TorchHistory._hook_variable_gradient_stats.<locals>.<lambda> at 0x7fcc4a179dc0> on tensor will not be serialized.  If this is expected, you can decorate the function with @torch.utils.hooks.unserializable_hook to suppress this warning\n",
      "  warnings.warn(\"backward hook {} on tensor will not be \"\n",
      "/home/jupyter/.local/lib/python3.8/site-packages/torch/utils/hooks.py:59: UserWarning: backward hook <function TorchHistory._hook_variable_gradient_stats.<locals>.<lambda> at 0x7fcc4a179ee0> on tensor will not be serialized.  If this is expected, you can decorate the function with @torch.utils.hooks.unserializable_hook to suppress this warning\n",
      "  warnings.warn(\"backward hook {} on tensor will not be \"\n",
      "/home/jupyter/.local/lib/python3.8/site-packages/torch/utils/hooks.py:59: UserWarning: backward hook <function TorchHistory._hook_variable_gradient_stats.<locals>.<lambda> at 0x7fcc4a17d040> on tensor will not be serialized.  If this is expected, you can decorate the function with @torch.utils.hooks.unserializable_hook to suppress this warning\n",
      "  warnings.warn(\"backward hook {} on tensor will not be \"\n",
      "/home/jupyter/.local/lib/python3.8/site-packages/torch/utils/hooks.py:59: UserWarning: backward hook <function TorchHistory._hook_variable_gradient_stats.<locals>.<lambda> at 0x7fcc4a17d160> on tensor will not be serialized.  If this is expected, you can decorate the function with @torch.utils.hooks.unserializable_hook to suppress this warning\n",
      "  warnings.warn(\"backward hook {} on tensor will not be \"\n",
      "/home/jupyter/.local/lib/python3.8/site-packages/torch/utils/hooks.py:59: UserWarning: backward hook <function TorchHistory._hook_variable_gradient_stats.<locals>.<lambda> at 0x7fcc4a17d280> on tensor will not be serialized.  If this is expected, you can decorate the function with @torch.utils.hooks.unserializable_hook to suppress this warning\n",
      "  warnings.warn(\"backward hook {} on tensor will not be \"\n",
      "/home/jupyter/.local/lib/python3.8/site-packages/torch/utils/hooks.py:59: UserWarning: backward hook <function TorchHistory._hook_variable_gradient_stats.<locals>.<lambda> at 0x7fcc4a17d3a0> on tensor will not be serialized.  If this is expected, you can decorate the function with @torch.utils.hooks.unserializable_hook to suppress this warning\n",
      "  warnings.warn(\"backward hook {} on tensor will not be \"\n",
      "/home/jupyter/.local/lib/python3.8/site-packages/torch/utils/hooks.py:59: UserWarning: backward hook <function TorchHistory._hook_variable_gradient_stats.<locals>.<lambda> at 0x7fcc4a17d4c0> on tensor will not be serialized.  If this is expected, you can decorate the function with @torch.utils.hooks.unserializable_hook to suppress this warning\n",
      "  warnings.warn(\"backward hook {} on tensor will not be \"\n",
      "/home/jupyter/.local/lib/python3.8/site-packages/torch/utils/hooks.py:59: UserWarning: backward hook <function TorchHistory._hook_variable_gradient_stats.<locals>.<lambda> at 0x7fcc4a17d5e0> on tensor will not be serialized.  If this is expected, you can decorate the function with @torch.utils.hooks.unserializable_hook to suppress this warning\n",
      "  warnings.warn(\"backward hook {} on tensor will not be \"\n",
      "/home/jupyter/.local/lib/python3.8/site-packages/torch/utils/hooks.py:59: UserWarning: backward hook <function TorchHistory._hook_variable_gradient_stats.<locals>.<lambda> at 0x7fcc4a17d700> on tensor will not be serialized.  If this is expected, you can decorate the function with @torch.utils.hooks.unserializable_hook to suppress this warning\n",
      "  warnings.warn(\"backward hook {} on tensor will not be \"\n",
      "/home/jupyter/.local/lib/python3.8/site-packages/torch/utils/hooks.py:59: UserWarning: backward hook <function TorchHistory._hook_variable_gradient_stats.<locals>.<lambda> at 0x7fcc4a17d820> on tensor will not be serialized.  If this is expected, you can decorate the function with @torch.utils.hooks.unserializable_hook to suppress this warning\n",
      "  warnings.warn(\"backward hook {} on tensor will not be \"\n",
      "/home/jupyter/.local/lib/python3.8/site-packages/torch/utils/hooks.py:59: UserWarning: backward hook <function TorchHistory._hook_variable_gradient_stats.<locals>.<lambda> at 0x7fcc4a17d940> on tensor will not be serialized.  If this is expected, you can decorate the function with @torch.utils.hooks.unserializable_hook to suppress this warning\n",
      "  warnings.warn(\"backward hook {} on tensor will not be \"\n",
      "/home/jupyter/.local/lib/python3.8/site-packages/torch/utils/hooks.py:59: UserWarning: backward hook <function TorchHistory._hook_variable_gradient_stats.<locals>.<lambda> at 0x7fcc4a17da60> on tensor will not be serialized.  If this is expected, you can decorate the function with @torch.utils.hooks.unserializable_hook to suppress this warning\n",
      "  warnings.warn(\"backward hook {} on tensor will not be \"\n",
      "/home/jupyter/.local/lib/python3.8/site-packages/torch/utils/hooks.py:59: UserWarning: backward hook <function TorchHistory._hook_variable_gradient_stats.<locals>.<lambda> at 0x7fcc4a17db80> on tensor will not be serialized.  If this is expected, you can decorate the function with @torch.utils.hooks.unserializable_hook to suppress this warning\n",
      "  warnings.warn(\"backward hook {} on tensor will not be \"\n",
      "/home/jupyter/.local/lib/python3.8/site-packages/torch/utils/hooks.py:59: UserWarning: backward hook <function TorchHistory._hook_variable_gradient_stats.<locals>.<lambda> at 0x7fcc4a17dca0> on tensor will not be serialized.  If this is expected, you can decorate the function with @torch.utils.hooks.unserializable_hook to suppress this warning\n",
      "  warnings.warn(\"backward hook {} on tensor will not be \"\n",
      "/home/jupyter/.local/lib/python3.8/site-packages/torch/utils/hooks.py:59: UserWarning: backward hook <function TorchHistory._hook_variable_gradient_stats.<locals>.<lambda> at 0x7fcc4a17ddc0> on tensor will not be serialized.  If this is expected, you can decorate the function with @torch.utils.hooks.unserializable_hook to suppress this warning\n",
      "  warnings.warn(\"backward hook {} on tensor will not be \"\n",
      "/home/jupyter/.local/lib/python3.8/site-packages/torch/utils/hooks.py:59: UserWarning: backward hook <function TorchHistory._hook_variable_gradient_stats.<locals>.<lambda> at 0x7fcc4a17dee0> on tensor will not be serialized.  If this is expected, you can decorate the function with @torch.utils.hooks.unserializable_hook to suppress this warning\n",
      "  warnings.warn(\"backward hook {} on tensor will not be \"\n",
      "/home/jupyter/.local/lib/python3.8/site-packages/torch/utils/hooks.py:59: UserWarning: backward hook <function TorchHistory._hook_variable_gradient_stats.<locals>.<lambda> at 0x7fcc4a180040> on tensor will not be serialized.  If this is expected, you can decorate the function with @torch.utils.hooks.unserializable_hook to suppress this warning\n",
      "  warnings.warn(\"backward hook {} on tensor will not be \"\n",
      "/home/jupyter/.local/lib/python3.8/site-packages/torch/utils/hooks.py:59: UserWarning: backward hook <function TorchHistory._hook_variable_gradient_stats.<locals>.<lambda> at 0x7fcc4a180160> on tensor will not be serialized.  If this is expected, you can decorate the function with @torch.utils.hooks.unserializable_hook to suppress this warning\n",
      "  warnings.warn(\"backward hook {} on tensor will not be \"\n",
      "/home/jupyter/.local/lib/python3.8/site-packages/torch/utils/hooks.py:59: UserWarning: backward hook <function TorchHistory._hook_variable_gradient_stats.<locals>.<lambda> at 0x7fcc4a180280> on tensor will not be serialized.  If this is expected, you can decorate the function with @torch.utils.hooks.unserializable_hook to suppress this warning\n",
      "  warnings.warn(\"backward hook {} on tensor will not be \"\n",
      "/home/jupyter/.local/lib/python3.8/site-packages/torch/utils/hooks.py:59: UserWarning: backward hook <function TorchHistory._hook_variable_gradient_stats.<locals>.<lambda> at 0x7fcc4a1803a0> on tensor will not be serialized.  If this is expected, you can decorate the function with @torch.utils.hooks.unserializable_hook to suppress this warning\n",
      "  warnings.warn(\"backward hook {} on tensor will not be \"\n",
      "/home/jupyter/.local/lib/python3.8/site-packages/torch/utils/hooks.py:59: UserWarning: backward hook <function TorchHistory._hook_variable_gradient_stats.<locals>.<lambda> at 0x7fcc4a1804c0> on tensor will not be serialized.  If this is expected, you can decorate the function with @torch.utils.hooks.unserializable_hook to suppress this warning\n",
      "  warnings.warn(\"backward hook {} on tensor will not be \"\n",
      "/home/jupyter/.local/lib/python3.8/site-packages/torch/utils/hooks.py:59: UserWarning: backward hook <function TorchHistory._hook_variable_gradient_stats.<locals>.<lambda> at 0x7fcc4a1805e0> on tensor will not be serialized.  If this is expected, you can decorate the function with @torch.utils.hooks.unserializable_hook to suppress this warning\n",
      "  warnings.warn(\"backward hook {} on tensor will not be \"\n",
      "/home/jupyter/.local/lib/python3.8/site-packages/torch/utils/hooks.py:59: UserWarning: backward hook <function TorchHistory._hook_variable_gradient_stats.<locals>.<lambda> at 0x7fcc4a180700> on tensor will not be serialized.  If this is expected, you can decorate the function with @torch.utils.hooks.unserializable_hook to suppress this warning\n",
      "  warnings.warn(\"backward hook {} on tensor will not be \"\n",
      "/home/jupyter/.local/lib/python3.8/site-packages/torch/utils/hooks.py:59: UserWarning: backward hook <function TorchHistory._hook_variable_gradient_stats.<locals>.<lambda> at 0x7fcc4a180820> on tensor will not be serialized.  If this is expected, you can decorate the function with @torch.utils.hooks.unserializable_hook to suppress this warning\n",
      "  warnings.warn(\"backward hook {} on tensor will not be \"\n",
      "/home/jupyter/.local/lib/python3.8/site-packages/torch/utils/hooks.py:59: UserWarning: backward hook <function TorchHistory._hook_variable_gradient_stats.<locals>.<lambda> at 0x7fcc4a180940> on tensor will not be serialized.  If this is expected, you can decorate the function with @torch.utils.hooks.unserializable_hook to suppress this warning\n",
      "  warnings.warn(\"backward hook {} on tensor will not be \"\n",
      "/home/jupyter/.local/lib/python3.8/site-packages/torch/utils/hooks.py:59: UserWarning: backward hook <function TorchHistory._hook_variable_gradient_stats.<locals>.<lambda> at 0x7fcc4a180a60> on tensor will not be serialized.  If this is expected, you can decorate the function with @torch.utils.hooks.unserializable_hook to suppress this warning\n",
      "  warnings.warn(\"backward hook {} on tensor will not be \"\n",
      "/home/jupyter/.local/lib/python3.8/site-packages/torch/utils/hooks.py:59: UserWarning: backward hook <function TorchHistory._hook_variable_gradient_stats.<locals>.<lambda> at 0x7fcc4a180b80> on tensor will not be serialized.  If this is expected, you can decorate the function with @torch.utils.hooks.unserializable_hook to suppress this warning\n",
      "  warnings.warn(\"backward hook {} on tensor will not be \"\n",
      "/home/jupyter/.local/lib/python3.8/site-packages/torch/utils/hooks.py:59: UserWarning: backward hook <function TorchHistory._hook_variable_gradient_stats.<locals>.<lambda> at 0x7fcc4a180ca0> on tensor will not be serialized.  If this is expected, you can decorate the function with @torch.utils.hooks.unserializable_hook to suppress this warning\n",
      "  warnings.warn(\"backward hook {} on tensor will not be \"\n",
      "/home/jupyter/.local/lib/python3.8/site-packages/torch/utils/hooks.py:59: UserWarning: backward hook <function TorchHistory._hook_variable_gradient_stats.<locals>.<lambda> at 0x7fcc4a180dc0> on tensor will not be serialized.  If this is expected, you can decorate the function with @torch.utils.hooks.unserializable_hook to suppress this warning\n",
      "  warnings.warn(\"backward hook {} on tensor will not be \"\n",
      "/home/jupyter/.local/lib/python3.8/site-packages/torch/utils/hooks.py:59: UserWarning: backward hook <function TorchHistory._hook_variable_gradient_stats.<locals>.<lambda> at 0x7fcc4a180ee0> on tensor will not be serialized.  If this is expected, you can decorate the function with @torch.utils.hooks.unserializable_hook to suppress this warning\n",
      "  warnings.warn(\"backward hook {} on tensor will not be \"\n",
      "/home/jupyter/.local/lib/python3.8/site-packages/torch/utils/hooks.py:59: UserWarning: backward hook <function TorchHistory._hook_variable_gradient_stats.<locals>.<lambda> at 0x7fcc4a183040> on tensor will not be serialized.  If this is expected, you can decorate the function with @torch.utils.hooks.unserializable_hook to suppress this warning\n",
      "  warnings.warn(\"backward hook {} on tensor will not be \"\n",
      "/home/jupyter/.local/lib/python3.8/site-packages/torch/utils/hooks.py:59: UserWarning: backward hook <function TorchHistory._hook_variable_gradient_stats.<locals>.<lambda> at 0x7fcc4a183160> on tensor will not be serialized.  If this is expected, you can decorate the function with @torch.utils.hooks.unserializable_hook to suppress this warning\n",
      "  warnings.warn(\"backward hook {} on tensor will not be \"\n",
      "/home/jupyter/.local/lib/python3.8/site-packages/torch/utils/hooks.py:59: UserWarning: backward hook <function TorchHistory._hook_variable_gradient_stats.<locals>.<lambda> at 0x7fcc4a183280> on tensor will not be serialized.  If this is expected, you can decorate the function with @torch.utils.hooks.unserializable_hook to suppress this warning\n",
      "  warnings.warn(\"backward hook {} on tensor will not be \"\n",
      "/home/jupyter/.local/lib/python3.8/site-packages/torch/utils/hooks.py:59: UserWarning: backward hook <function TorchHistory._hook_variable_gradient_stats.<locals>.<lambda> at 0x7fcc4a1833a0> on tensor will not be serialized.  If this is expected, you can decorate the function with @torch.utils.hooks.unserializable_hook to suppress this warning\n",
      "  warnings.warn(\"backward hook {} on tensor will not be \"\n",
      "/home/jupyter/.local/lib/python3.8/site-packages/torch/utils/hooks.py:59: UserWarning: backward hook <function TorchHistory._hook_variable_gradient_stats.<locals>.<lambda> at 0x7fcc4a1834c0> on tensor will not be serialized.  If this is expected, you can decorate the function with @torch.utils.hooks.unserializable_hook to suppress this warning\n",
      "  warnings.warn(\"backward hook {} on tensor will not be \"\n",
      "/home/jupyter/.local/lib/python3.8/site-packages/torch/utils/hooks.py:59: UserWarning: backward hook <function TorchHistory._hook_variable_gradient_stats.<locals>.<lambda> at 0x7fcc4a1835e0> on tensor will not be serialized.  If this is expected, you can decorate the function with @torch.utils.hooks.unserializable_hook to suppress this warning\n",
      "  warnings.warn(\"backward hook {} on tensor will not be \"\n",
      "/home/jupyter/.local/lib/python3.8/site-packages/torch/utils/hooks.py:59: UserWarning: backward hook <function TorchHistory._hook_variable_gradient_stats.<locals>.<lambda> at 0x7fcc4a183700> on tensor will not be serialized.  If this is expected, you can decorate the function with @torch.utils.hooks.unserializable_hook to suppress this warning\n",
      "  warnings.warn(\"backward hook {} on tensor will not be \"\n",
      "/home/jupyter/.local/lib/python3.8/site-packages/torch/utils/hooks.py:59: UserWarning: backward hook <function TorchHistory._hook_variable_gradient_stats.<locals>.<lambda> at 0x7fcc4a183820> on tensor will not be serialized.  If this is expected, you can decorate the function with @torch.utils.hooks.unserializable_hook to suppress this warning\n",
      "  warnings.warn(\"backward hook {} on tensor will not be \"\n",
      "/home/jupyter/.local/lib/python3.8/site-packages/torch/utils/hooks.py:59: UserWarning: backward hook <function TorchHistory._hook_variable_gradient_stats.<locals>.<lambda> at 0x7fcc4a183940> on tensor will not be serialized.  If this is expected, you can decorate the function with @torch.utils.hooks.unserializable_hook to suppress this warning\n",
      "  warnings.warn(\"backward hook {} on tensor will not be \"\n",
      "/home/jupyter/.local/lib/python3.8/site-packages/torch/utils/hooks.py:59: UserWarning: backward hook <function TorchHistory._hook_variable_gradient_stats.<locals>.<lambda> at 0x7fcc4a183a60> on tensor will not be serialized.  If this is expected, you can decorate the function with @torch.utils.hooks.unserializable_hook to suppress this warning\n",
      "  warnings.warn(\"backward hook {} on tensor will not be \"\n",
      "/home/jupyter/.local/lib/python3.8/site-packages/torch/utils/hooks.py:59: UserWarning: backward hook <function TorchHistory._hook_variable_gradient_stats.<locals>.<lambda> at 0x7fcc4a183b80> on tensor will not be serialized.  If this is expected, you can decorate the function with @torch.utils.hooks.unserializable_hook to suppress this warning\n",
      "  warnings.warn(\"backward hook {} on tensor will not be \"\n",
      "/home/jupyter/.local/lib/python3.8/site-packages/torch/utils/hooks.py:59: UserWarning: backward hook <function TorchHistory._hook_variable_gradient_stats.<locals>.<lambda> at 0x7fcc4a183ca0> on tensor will not be serialized.  If this is expected, you can decorate the function with @torch.utils.hooks.unserializable_hook to suppress this warning\n",
      "  warnings.warn(\"backward hook {} on tensor will not be \"\n",
      "/home/jupyter/.local/lib/python3.8/site-packages/torch/utils/hooks.py:59: UserWarning: backward hook <function TorchHistory._hook_variable_gradient_stats.<locals>.<lambda> at 0x7fcc4a183dc0> on tensor will not be serialized.  If this is expected, you can decorate the function with @torch.utils.hooks.unserializable_hook to suppress this warning\n",
      "  warnings.warn(\"backward hook {} on tensor will not be \"\n",
      "/home/jupyter/.local/lib/python3.8/site-packages/torch/utils/hooks.py:59: UserWarning: backward hook <function TorchHistory._hook_variable_gradient_stats.<locals>.<lambda> at 0x7fcc4a183ee0> on tensor will not be serialized.  If this is expected, you can decorate the function with @torch.utils.hooks.unserializable_hook to suppress this warning\n",
      "  warnings.warn(\"backward hook {} on tensor will not be \"\n",
      "/home/jupyter/.local/lib/python3.8/site-packages/torch/utils/hooks.py:59: UserWarning: backward hook <function TorchHistory._hook_variable_gradient_stats.<locals>.<lambda> at 0x7fcc48ca9040> on tensor will not be serialized.  If this is expected, you can decorate the function with @torch.utils.hooks.unserializable_hook to suppress this warning\n",
      "  warnings.warn(\"backward hook {} on tensor will not be \"\n",
      "/home/jupyter/.local/lib/python3.8/site-packages/torch/utils/hooks.py:59: UserWarning: backward hook <function TorchHistory._hook_variable_gradient_stats.<locals>.<lambda> at 0x7fcc48ca9160> on tensor will not be serialized.  If this is expected, you can decorate the function with @torch.utils.hooks.unserializable_hook to suppress this warning\n",
      "  warnings.warn(\"backward hook {} on tensor will not be \"\n",
      "/home/jupyter/.local/lib/python3.8/site-packages/torch/utils/hooks.py:59: UserWarning: backward hook <function TorchHistory._hook_variable_gradient_stats.<locals>.<lambda> at 0x7fcc48ca9280> on tensor will not be serialized.  If this is expected, you can decorate the function with @torch.utils.hooks.unserializable_hook to suppress this warning\n",
      "  warnings.warn(\"backward hook {} on tensor will not be \"\n",
      "/home/jupyter/.local/lib/python3.8/site-packages/torch/utils/hooks.py:59: UserWarning: backward hook <function TorchHistory._hook_variable_gradient_stats.<locals>.<lambda> at 0x7fcc48ca93a0> on tensor will not be serialized.  If this is expected, you can decorate the function with @torch.utils.hooks.unserializable_hook to suppress this warning\n",
      "  warnings.warn(\"backward hook {} on tensor will not be \"\n",
      "/home/jupyter/.local/lib/python3.8/site-packages/torch/utils/hooks.py:59: UserWarning: backward hook <function TorchHistory._hook_variable_gradient_stats.<locals>.<lambda> at 0x7fcc48ca94c0> on tensor will not be serialized.  If this is expected, you can decorate the function with @torch.utils.hooks.unserializable_hook to suppress this warning\n",
      "  warnings.warn(\"backward hook {} on tensor will not be \"\n",
      "/home/jupyter/.local/lib/python3.8/site-packages/torch/utils/hooks.py:59: UserWarning: backward hook <function TorchHistory._hook_variable_gradient_stats.<locals>.<lambda> at 0x7fcc48ca95e0> on tensor will not be serialized.  If this is expected, you can decorate the function with @torch.utils.hooks.unserializable_hook to suppress this warning\n",
      "  warnings.warn(\"backward hook {} on tensor will not be \"\n",
      "/home/jupyter/.local/lib/python3.8/site-packages/torch/utils/hooks.py:59: UserWarning: backward hook <function TorchHistory._hook_variable_gradient_stats.<locals>.<lambda> at 0x7fcc48ca9700> on tensor will not be serialized.  If this is expected, you can decorate the function with @torch.utils.hooks.unserializable_hook to suppress this warning\n",
      "  warnings.warn(\"backward hook {} on tensor will not be \"\n",
      "/home/jupyter/.local/lib/python3.8/site-packages/torch/utils/hooks.py:59: UserWarning: backward hook <function TorchHistory._hook_variable_gradient_stats.<locals>.<lambda> at 0x7fcc48ca9820> on tensor will not be serialized.  If this is expected, you can decorate the function with @torch.utils.hooks.unserializable_hook to suppress this warning\n",
      "  warnings.warn(\"backward hook {} on tensor will not be \"\n",
      "/home/jupyter/.local/lib/python3.8/site-packages/torch/utils/hooks.py:59: UserWarning: backward hook <function TorchHistory._hook_variable_gradient_stats.<locals>.<lambda> at 0x7fcc48ca9940> on tensor will not be serialized.  If this is expected, you can decorate the function with @torch.utils.hooks.unserializable_hook to suppress this warning\n",
      "  warnings.warn(\"backward hook {} on tensor will not be \"\n",
      "/home/jupyter/.local/lib/python3.8/site-packages/torch/utils/hooks.py:59: UserWarning: backward hook <function TorchHistory._hook_variable_gradient_stats.<locals>.<lambda> at 0x7fcc48ca9a60> on tensor will not be serialized.  If this is expected, you can decorate the function with @torch.utils.hooks.unserializable_hook to suppress this warning\n",
      "  warnings.warn(\"backward hook {} on tensor will not be \"\n",
      "/home/jupyter/.local/lib/python3.8/site-packages/torch/utils/hooks.py:59: UserWarning: backward hook <function TorchHistory._hook_variable_gradient_stats.<locals>.<lambda> at 0x7fcc48ca9b80> on tensor will not be serialized.  If this is expected, you can decorate the function with @torch.utils.hooks.unserializable_hook to suppress this warning\n",
      "  warnings.warn(\"backward hook {} on tensor will not be \"\n",
      "/home/jupyter/.local/lib/python3.8/site-packages/torch/utils/hooks.py:59: UserWarning: backward hook <function TorchHistory._hook_variable_gradient_stats.<locals>.<lambda> at 0x7fcc48ca9ca0> on tensor will not be serialized.  If this is expected, you can decorate the function with @torch.utils.hooks.unserializable_hook to suppress this warning\n",
      "  warnings.warn(\"backward hook {} on tensor will not be \"\n",
      "/home/jupyter/.local/lib/python3.8/site-packages/torch/utils/hooks.py:59: UserWarning: backward hook <function TorchHistory._hook_variable_gradient_stats.<locals>.<lambda> at 0x7fcc48ca9dc0> on tensor will not be serialized.  If this is expected, you can decorate the function with @torch.utils.hooks.unserializable_hook to suppress this warning\n",
      "  warnings.warn(\"backward hook {} on tensor will not be \"\n",
      "/home/jupyter/.local/lib/python3.8/site-packages/torch/utils/hooks.py:59: UserWarning: backward hook <function TorchHistory._hook_variable_gradient_stats.<locals>.<lambda> at 0x7fcc48ca9ee0> on tensor will not be serialized.  If this is expected, you can decorate the function with @torch.utils.hooks.unserializable_hook to suppress this warning\n",
      "  warnings.warn(\"backward hook {} on tensor will not be \"\n",
      "/home/jupyter/.local/lib/python3.8/site-packages/torch/utils/hooks.py:59: UserWarning: backward hook <function TorchHistory._hook_variable_gradient_stats.<locals>.<lambda> at 0x7fcc48cad040> on tensor will not be serialized.  If this is expected, you can decorate the function with @torch.utils.hooks.unserializable_hook to suppress this warning\n",
      "  warnings.warn(\"backward hook {} on tensor will not be \"\n",
      "/home/jupyter/.local/lib/python3.8/site-packages/torch/utils/hooks.py:59: UserWarning: backward hook <function TorchHistory._hook_variable_gradient_stats.<locals>.<lambda> at 0x7fcc48cad160> on tensor will not be serialized.  If this is expected, you can decorate the function with @torch.utils.hooks.unserializable_hook to suppress this warning\n",
      "  warnings.warn(\"backward hook {} on tensor will not be \"\n",
      "/home/jupyter/.local/lib/python3.8/site-packages/torch/utils/hooks.py:59: UserWarning: backward hook <function TorchHistory._hook_variable_gradient_stats.<locals>.<lambda> at 0x7fcc48cad280> on tensor will not be serialized.  If this is expected, you can decorate the function with @torch.utils.hooks.unserializable_hook to suppress this warning\n",
      "  warnings.warn(\"backward hook {} on tensor will not be \"\n",
      "/home/jupyter/.local/lib/python3.8/site-packages/torch/utils/hooks.py:59: UserWarning: backward hook <function TorchHistory._hook_variable_gradient_stats.<locals>.<lambda> at 0x7fcc48cad3a0> on tensor will not be serialized.  If this is expected, you can decorate the function with @torch.utils.hooks.unserializable_hook to suppress this warning\n",
      "  warnings.warn(\"backward hook {} on tensor will not be \"\n",
      "/home/jupyter/.local/lib/python3.8/site-packages/torch/utils/hooks.py:59: UserWarning: backward hook <function TorchHistory._hook_variable_gradient_stats.<locals>.<lambda> at 0x7fcc48cad4c0> on tensor will not be serialized.  If this is expected, you can decorate the function with @torch.utils.hooks.unserializable_hook to suppress this warning\n",
      "  warnings.warn(\"backward hook {} on tensor will not be \"\n",
      "/home/jupyter/.local/lib/python3.8/site-packages/torch/utils/hooks.py:59: UserWarning: backward hook <function TorchHistory._hook_variable_gradient_stats.<locals>.<lambda> at 0x7fcc48cad5e0> on tensor will not be serialized.  If this is expected, you can decorate the function with @torch.utils.hooks.unserializable_hook to suppress this warning\n",
      "  warnings.warn(\"backward hook {} on tensor will not be \"\n",
      "/home/jupyter/.local/lib/python3.8/site-packages/torch/utils/hooks.py:59: UserWarning: backward hook <function TorchHistory._hook_variable_gradient_stats.<locals>.<lambda> at 0x7fcc48cad700> on tensor will not be serialized.  If this is expected, you can decorate the function with @torch.utils.hooks.unserializable_hook to suppress this warning\n",
      "  warnings.warn(\"backward hook {} on tensor will not be \"\n",
      "/home/jupyter/.local/lib/python3.8/site-packages/torch/utils/hooks.py:59: UserWarning: backward hook <function TorchHistory._hook_variable_gradient_stats.<locals>.<lambda> at 0x7fcc48cad820> on tensor will not be serialized.  If this is expected, you can decorate the function with @torch.utils.hooks.unserializable_hook to suppress this warning\n",
      "  warnings.warn(\"backward hook {} on tensor will not be \"\n",
      "/home/jupyter/.local/lib/python3.8/site-packages/torch/utils/hooks.py:59: UserWarning: backward hook <function TorchHistory._hook_variable_gradient_stats.<locals>.<lambda> at 0x7fcc48cad940> on tensor will not be serialized.  If this is expected, you can decorate the function with @torch.utils.hooks.unserializable_hook to suppress this warning\n",
      "  warnings.warn(\"backward hook {} on tensor will not be \"\n",
      "/home/jupyter/.local/lib/python3.8/site-packages/torch/utils/hooks.py:59: UserWarning: backward hook <function TorchHistory._hook_variable_gradient_stats.<locals>.<lambda> at 0x7fcc48cada60> on tensor will not be serialized.  If this is expected, you can decorate the function with @torch.utils.hooks.unserializable_hook to suppress this warning\n",
      "  warnings.warn(\"backward hook {} on tensor will not be \"\n",
      "/home/jupyter/.local/lib/python3.8/site-packages/torch/utils/hooks.py:59: UserWarning: backward hook <function TorchHistory._hook_variable_gradient_stats.<locals>.<lambda> at 0x7fcc48cadb80> on tensor will not be serialized.  If this is expected, you can decorate the function with @torch.utils.hooks.unserializable_hook to suppress this warning\n",
      "  warnings.warn(\"backward hook {} on tensor will not be \"\n",
      "/home/jupyter/.local/lib/python3.8/site-packages/torch/utils/hooks.py:59: UserWarning: backward hook <function TorchHistory._hook_variable_gradient_stats.<locals>.<lambda> at 0x7fcc48cadca0> on tensor will not be serialized.  If this is expected, you can decorate the function with @torch.utils.hooks.unserializable_hook to suppress this warning\n",
      "  warnings.warn(\"backward hook {} on tensor will not be \"\n",
      "/home/jupyter/.local/lib/python3.8/site-packages/torch/utils/hooks.py:59: UserWarning: backward hook <function TorchHistory._hook_variable_gradient_stats.<locals>.<lambda> at 0x7fcc48caddc0> on tensor will not be serialized.  If this is expected, you can decorate the function with @torch.utils.hooks.unserializable_hook to suppress this warning\n",
      "  warnings.warn(\"backward hook {} on tensor will not be \"\n",
      "/home/jupyter/.local/lib/python3.8/site-packages/torch/utils/hooks.py:59: UserWarning: backward hook <function TorchHistory._hook_variable_gradient_stats.<locals>.<lambda> at 0x7fcc48cadee0> on tensor will not be serialized.  If this is expected, you can decorate the function with @torch.utils.hooks.unserializable_hook to suppress this warning\n",
      "  warnings.warn(\"backward hook {} on tensor will not be \"\n",
      "/home/jupyter/.local/lib/python3.8/site-packages/torch/utils/hooks.py:59: UserWarning: backward hook <function TorchHistory._hook_variable_gradient_stats.<locals>.<lambda> at 0x7fcc48cb3040> on tensor will not be serialized.  If this is expected, you can decorate the function with @torch.utils.hooks.unserializable_hook to suppress this warning\n",
      "  warnings.warn(\"backward hook {} on tensor will not be \"\n",
      "/home/jupyter/.local/lib/python3.8/site-packages/torch/utils/hooks.py:59: UserWarning: backward hook <function TorchHistory._hook_variable_gradient_stats.<locals>.<lambda> at 0x7fcc48cb3160> on tensor will not be serialized.  If this is expected, you can decorate the function with @torch.utils.hooks.unserializable_hook to suppress this warning\n",
      "  warnings.warn(\"backward hook {} on tensor will not be \"\n",
      "/home/jupyter/.local/lib/python3.8/site-packages/torch/utils/hooks.py:59: UserWarning: backward hook <function TorchHistory._hook_variable_gradient_stats.<locals>.<lambda> at 0x7fcc48cb3280> on tensor will not be serialized.  If this is expected, you can decorate the function with @torch.utils.hooks.unserializable_hook to suppress this warning\n",
      "  warnings.warn(\"backward hook {} on tensor will not be \"\n",
      "/home/jupyter/.local/lib/python3.8/site-packages/torch/utils/hooks.py:59: UserWarning: backward hook <function TorchHistory._hook_variable_gradient_stats.<locals>.<lambda> at 0x7fcc48cb33a0> on tensor will not be serialized.  If this is expected, you can decorate the function with @torch.utils.hooks.unserializable_hook to suppress this warning\n",
      "  warnings.warn(\"backward hook {} on tensor will not be \"\n",
      "/home/jupyter/.local/lib/python3.8/site-packages/torch/utils/hooks.py:59: UserWarning: backward hook <function TorchHistory._hook_variable_gradient_stats.<locals>.<lambda> at 0x7fcc48cb34c0> on tensor will not be serialized.  If this is expected, you can decorate the function with @torch.utils.hooks.unserializable_hook to suppress this warning\n",
      "  warnings.warn(\"backward hook {} on tensor will not be \"\n",
      "/home/jupyter/.local/lib/python3.8/site-packages/torch/utils/hooks.py:59: UserWarning: backward hook <function TorchHistory._hook_variable_gradient_stats.<locals>.<lambda> at 0x7fcc48cb35e0> on tensor will not be serialized.  If this is expected, you can decorate the function with @torch.utils.hooks.unserializable_hook to suppress this warning\n",
      "  warnings.warn(\"backward hook {} on tensor will not be \"\n",
      "/home/jupyter/.local/lib/python3.8/site-packages/torch/utils/hooks.py:59: UserWarning: backward hook <function TorchHistory._hook_variable_gradient_stats.<locals>.<lambda> at 0x7fcc48cb3700> on tensor will not be serialized.  If this is expected, you can decorate the function with @torch.utils.hooks.unserializable_hook to suppress this warning\n",
      "  warnings.warn(\"backward hook {} on tensor will not be \"\n",
      "/home/jupyter/.local/lib/python3.8/site-packages/torch/utils/hooks.py:59: UserWarning: backward hook <function TorchHistory._hook_variable_gradient_stats.<locals>.<lambda> at 0x7fcc48cb3820> on tensor will not be serialized.  If this is expected, you can decorate the function with @torch.utils.hooks.unserializable_hook to suppress this warning\n",
      "  warnings.warn(\"backward hook {} on tensor will not be \"\n",
      "/home/jupyter/.local/lib/python3.8/site-packages/torch/utils/hooks.py:59: UserWarning: backward hook <function TorchHistory._hook_variable_gradient_stats.<locals>.<lambda> at 0x7fcc48cb3940> on tensor will not be serialized.  If this is expected, you can decorate the function with @torch.utils.hooks.unserializable_hook to suppress this warning\n",
      "  warnings.warn(\"backward hook {} on tensor will not be \"\n",
      "/home/jupyter/.local/lib/python3.8/site-packages/torch/utils/hooks.py:59: UserWarning: backward hook <function TorchHistory._hook_variable_gradient_stats.<locals>.<lambda> at 0x7fcc48cb3a60> on tensor will not be serialized.  If this is expected, you can decorate the function with @torch.utils.hooks.unserializable_hook to suppress this warning\n",
      "  warnings.warn(\"backward hook {} on tensor will not be \"\n",
      "/home/jupyter/.local/lib/python3.8/site-packages/torch/utils/hooks.py:59: UserWarning: backward hook <function TorchHistory._hook_variable_gradient_stats.<locals>.<lambda> at 0x7fcc48cb3b80> on tensor will not be serialized.  If this is expected, you can decorate the function with @torch.utils.hooks.unserializable_hook to suppress this warning\n",
      "  warnings.warn(\"backward hook {} on tensor will not be \"\n",
      "/home/jupyter/.local/lib/python3.8/site-packages/torch/utils/hooks.py:59: UserWarning: backward hook <function TorchHistory._hook_variable_gradient_stats.<locals>.<lambda> at 0x7fcc48cb3ca0> on tensor will not be serialized.  If this is expected, you can decorate the function with @torch.utils.hooks.unserializable_hook to suppress this warning\n",
      "  warnings.warn(\"backward hook {} on tensor will not be \"\n",
      "/home/jupyter/.local/lib/python3.8/site-packages/torch/utils/hooks.py:59: UserWarning: backward hook <function TorchHistory._hook_variable_gradient_stats.<locals>.<lambda> at 0x7fcc48cb3dc0> on tensor will not be serialized.  If this is expected, you can decorate the function with @torch.utils.hooks.unserializable_hook to suppress this warning\n",
      "  warnings.warn(\"backward hook {} on tensor will not be \"\n",
      "/home/jupyter/.local/lib/python3.8/site-packages/torch/utils/hooks.py:59: UserWarning: backward hook <function TorchHistory._hook_variable_gradient_stats.<locals>.<lambda> at 0x7fcc48cb3ee0> on tensor will not be serialized.  If this is expected, you can decorate the function with @torch.utils.hooks.unserializable_hook to suppress this warning\n",
      "  warnings.warn(\"backward hook {} on tensor will not be \"\n",
      "/home/jupyter/.local/lib/python3.8/site-packages/torch/utils/hooks.py:59: UserWarning: backward hook <function TorchHistory._hook_variable_gradient_stats.<locals>.<lambda> at 0x7fcc48cb7040> on tensor will not be serialized.  If this is expected, you can decorate the function with @torch.utils.hooks.unserializable_hook to suppress this warning\n",
      "  warnings.warn(\"backward hook {} on tensor will not be \"\n",
      "/home/jupyter/.local/lib/python3.8/site-packages/torch/utils/hooks.py:59: UserWarning: backward hook <function TorchHistory._hook_variable_gradient_stats.<locals>.<lambda> at 0x7fcc48cb7160> on tensor will not be serialized.  If this is expected, you can decorate the function with @torch.utils.hooks.unserializable_hook to suppress this warning\n",
      "  warnings.warn(\"backward hook {} on tensor will not be \"\n",
      "/home/jupyter/.local/lib/python3.8/site-packages/torch/utils/hooks.py:59: UserWarning: backward hook <function TorchHistory._hook_variable_gradient_stats.<locals>.<lambda> at 0x7fcc48cb7280> on tensor will not be serialized.  If this is expected, you can decorate the function with @torch.utils.hooks.unserializable_hook to suppress this warning\n",
      "  warnings.warn(\"backward hook {} on tensor will not be \"\n",
      "/home/jupyter/.local/lib/python3.8/site-packages/torch/utils/hooks.py:59: UserWarning: backward hook <function TorchHistory._hook_variable_gradient_stats.<locals>.<lambda> at 0x7fcc48cb73a0> on tensor will not be serialized.  If this is expected, you can decorate the function with @torch.utils.hooks.unserializable_hook to suppress this warning\n",
      "  warnings.warn(\"backward hook {} on tensor will not be \"\n",
      "/home/jupyter/.local/lib/python3.8/site-packages/torch/utils/hooks.py:59: UserWarning: backward hook <function TorchHistory._hook_variable_gradient_stats.<locals>.<lambda> at 0x7fcc48cb74c0> on tensor will not be serialized.  If this is expected, you can decorate the function with @torch.utils.hooks.unserializable_hook to suppress this warning\n",
      "  warnings.warn(\"backward hook {} on tensor will not be \"\n",
      "/home/jupyter/.local/lib/python3.8/site-packages/torch/utils/hooks.py:59: UserWarning: backward hook <function TorchHistory._hook_variable_gradient_stats.<locals>.<lambda> at 0x7fcc48cb75e0> on tensor will not be serialized.  If this is expected, you can decorate the function with @torch.utils.hooks.unserializable_hook to suppress this warning\n",
      "  warnings.warn(\"backward hook {} on tensor will not be \"\n",
      "/home/jupyter/.local/lib/python3.8/site-packages/torch/utils/hooks.py:59: UserWarning: backward hook <function TorchHistory._hook_variable_gradient_stats.<locals>.<lambda> at 0x7fcc48cb7700> on tensor will not be serialized.  If this is expected, you can decorate the function with @torch.utils.hooks.unserializable_hook to suppress this warning\n",
      "  warnings.warn(\"backward hook {} on tensor will not be \"\n",
      "/home/jupyter/.local/lib/python3.8/site-packages/torch/utils/hooks.py:59: UserWarning: backward hook <function TorchHistory._hook_variable_gradient_stats.<locals>.<lambda> at 0x7fcc48cb7820> on tensor will not be serialized.  If this is expected, you can decorate the function with @torch.utils.hooks.unserializable_hook to suppress this warning\n",
      "  warnings.warn(\"backward hook {} on tensor will not be \"\n",
      "/home/jupyter/.local/lib/python3.8/site-packages/torch/utils/hooks.py:59: UserWarning: backward hook <function TorchHistory._hook_variable_gradient_stats.<locals>.<lambda> at 0x7fcc48cb7940> on tensor will not be serialized.  If this is expected, you can decorate the function with @torch.utils.hooks.unserializable_hook to suppress this warning\n",
      "  warnings.warn(\"backward hook {} on tensor will not be \"\n",
      "/home/jupyter/.local/lib/python3.8/site-packages/torch/utils/hooks.py:59: UserWarning: backward hook <function TorchHistory._hook_variable_gradient_stats.<locals>.<lambda> at 0x7fcc48cb7a60> on tensor will not be serialized.  If this is expected, you can decorate the function with @torch.utils.hooks.unserializable_hook to suppress this warning\n",
      "  warnings.warn(\"backward hook {} on tensor will not be \"\n",
      "/home/jupyter/.local/lib/python3.8/site-packages/torch/utils/hooks.py:59: UserWarning: backward hook <function TorchHistory._hook_variable_gradient_stats.<locals>.<lambda> at 0x7fcc48cb7b80> on tensor will not be serialized.  If this is expected, you can decorate the function with @torch.utils.hooks.unserializable_hook to suppress this warning\n",
      "  warnings.warn(\"backward hook {} on tensor will not be \"\n",
      "/home/jupyter/.local/lib/python3.8/site-packages/torch/utils/hooks.py:59: UserWarning: backward hook <function TorchHistory._hook_variable_gradient_stats.<locals>.<lambda> at 0x7fcc48cb7ca0> on tensor will not be serialized.  If this is expected, you can decorate the function with @torch.utils.hooks.unserializable_hook to suppress this warning\n",
      "  warnings.warn(\"backward hook {} on tensor will not be \"\n",
      "/home/jupyter/.local/lib/python3.8/site-packages/torch/utils/hooks.py:59: UserWarning: backward hook <function TorchHistory._hook_variable_gradient_stats.<locals>.<lambda> at 0x7fcc48cb7dc0> on tensor will not be serialized.  If this is expected, you can decorate the function with @torch.utils.hooks.unserializable_hook to suppress this warning\n",
      "  warnings.warn(\"backward hook {} on tensor will not be \"\n",
      "/home/jupyter/.local/lib/python3.8/site-packages/torch/utils/hooks.py:59: UserWarning: backward hook <function TorchHistory._hook_variable_gradient_stats.<locals>.<lambda> at 0x7fcc48cb7ee0> on tensor will not be serialized.  If this is expected, you can decorate the function with @torch.utils.hooks.unserializable_hook to suppress this warning\n",
      "  warnings.warn(\"backward hook {} on tensor will not be \"\n",
      "/home/jupyter/.local/lib/python3.8/site-packages/torch/utils/hooks.py:59: UserWarning: backward hook <function TorchHistory._hook_variable_gradient_stats.<locals>.<lambda> at 0x7fcc48cbd040> on tensor will not be serialized.  If this is expected, you can decorate the function with @torch.utils.hooks.unserializable_hook to suppress this warning\n",
      "  warnings.warn(\"backward hook {} on tensor will not be \"\n",
      "/home/jupyter/.local/lib/python3.8/site-packages/torch/utils/hooks.py:59: UserWarning: backward hook <function TorchHistory._hook_variable_gradient_stats.<locals>.<lambda> at 0x7fcc48cbd160> on tensor will not be serialized.  If this is expected, you can decorate the function with @torch.utils.hooks.unserializable_hook to suppress this warning\n",
      "  warnings.warn(\"backward hook {} on tensor will not be \"\n",
      "/home/jupyter/.local/lib/python3.8/site-packages/torch/utils/hooks.py:59: UserWarning: backward hook <function TorchHistory._hook_variable_gradient_stats.<locals>.<lambda> at 0x7fcc48cbd280> on tensor will not be serialized.  If this is expected, you can decorate the function with @torch.utils.hooks.unserializable_hook to suppress this warning\n",
      "  warnings.warn(\"backward hook {} on tensor will not be \"\n",
      "/home/jupyter/.local/lib/python3.8/site-packages/torch/utils/hooks.py:59: UserWarning: backward hook <function TorchHistory._hook_variable_gradient_stats.<locals>.<lambda> at 0x7fcc48cbd3a0> on tensor will not be serialized.  If this is expected, you can decorate the function with @torch.utils.hooks.unserializable_hook to suppress this warning\n",
      "  warnings.warn(\"backward hook {} on tensor will not be \"\n",
      "/home/jupyter/.local/lib/python3.8/site-packages/torch/utils/hooks.py:59: UserWarning: backward hook <function TorchHistory._hook_variable_gradient_stats.<locals>.<lambda> at 0x7fcc48cbd4c0> on tensor will not be serialized.  If this is expected, you can decorate the function with @torch.utils.hooks.unserializable_hook to suppress this warning\n",
      "  warnings.warn(\"backward hook {} on tensor will not be \"\n",
      "/home/jupyter/.local/lib/python3.8/site-packages/torch/utils/hooks.py:59: UserWarning: backward hook <function TorchHistory._hook_variable_gradient_stats.<locals>.<lambda> at 0x7fcc48cbd5e0> on tensor will not be serialized.  If this is expected, you can decorate the function with @torch.utils.hooks.unserializable_hook to suppress this warning\n",
      "  warnings.warn(\"backward hook {} on tensor will not be \"\n",
      "/home/jupyter/.local/lib/python3.8/site-packages/torch/utils/hooks.py:59: UserWarning: backward hook <function TorchHistory._hook_variable_gradient_stats.<locals>.<lambda> at 0x7fcc48cbd700> on tensor will not be serialized.  If this is expected, you can decorate the function with @torch.utils.hooks.unserializable_hook to suppress this warning\n",
      "  warnings.warn(\"backward hook {} on tensor will not be \"\n",
      "/home/jupyter/.local/lib/python3.8/site-packages/torch/utils/hooks.py:59: UserWarning: backward hook <function TorchHistory._hook_variable_gradient_stats.<locals>.<lambda> at 0x7fcc48cbd820> on tensor will not be serialized.  If this is expected, you can decorate the function with @torch.utils.hooks.unserializable_hook to suppress this warning\n",
      "  warnings.warn(\"backward hook {} on tensor will not be \"\n",
      "/home/jupyter/.local/lib/python3.8/site-packages/torch/utils/hooks.py:59: UserWarning: backward hook <function TorchHistory._hook_variable_gradient_stats.<locals>.<lambda> at 0x7fcc48cbd940> on tensor will not be serialized.  If this is expected, you can decorate the function with @torch.utils.hooks.unserializable_hook to suppress this warning\n",
      "  warnings.warn(\"backward hook {} on tensor will not be \"\n",
      "/home/jupyter/.local/lib/python3.8/site-packages/torch/utils/hooks.py:59: UserWarning: backward hook <function TorchHistory._hook_variable_gradient_stats.<locals>.<lambda> at 0x7fcc48cbda60> on tensor will not be serialized.  If this is expected, you can decorate the function with @torch.utils.hooks.unserializable_hook to suppress this warning\n",
      "  warnings.warn(\"backward hook {} on tensor will not be \"\n",
      "/home/jupyter/.local/lib/python3.8/site-packages/torch/utils/hooks.py:59: UserWarning: backward hook <function TorchHistory._hook_variable_gradient_stats.<locals>.<lambda> at 0x7fcc48cbdb80> on tensor will not be serialized.  If this is expected, you can decorate the function with @torch.utils.hooks.unserializable_hook to suppress this warning\n",
      "  warnings.warn(\"backward hook {} on tensor will not be \"\n",
      "/home/jupyter/.local/lib/python3.8/site-packages/torch/utils/hooks.py:59: UserWarning: backward hook <function TorchHistory._hook_variable_gradient_stats.<locals>.<lambda> at 0x7fcc48cbdca0> on tensor will not be serialized.  If this is expected, you can decorate the function with @torch.utils.hooks.unserializable_hook to suppress this warning\n",
      "  warnings.warn(\"backward hook {} on tensor will not be \"\n",
      "/home/jupyter/.local/lib/python3.8/site-packages/torch/utils/hooks.py:59: UserWarning: backward hook <function TorchHistory._hook_variable_gradient_stats.<locals>.<lambda> at 0x7fcc48cbddc0> on tensor will not be serialized.  If this is expected, you can decorate the function with @torch.utils.hooks.unserializable_hook to suppress this warning\n",
      "  warnings.warn(\"backward hook {} on tensor will not be \"\n",
      "/home/jupyter/.local/lib/python3.8/site-packages/torch/utils/hooks.py:59: UserWarning: backward hook <function TorchHistory._hook_variable_gradient_stats.<locals>.<lambda> at 0x7fcc48cbdee0> on tensor will not be serialized.  If this is expected, you can decorate the function with @torch.utils.hooks.unserializable_hook to suppress this warning\n",
      "  warnings.warn(\"backward hook {} on tensor will not be \"\n",
      "/home/jupyter/.local/lib/python3.8/site-packages/torch/utils/hooks.py:59: UserWarning: backward hook <function TorchHistory._hook_variable_gradient_stats.<locals>.<lambda> at 0x7fcc48cc3040> on tensor will not be serialized.  If this is expected, you can decorate the function with @torch.utils.hooks.unserializable_hook to suppress this warning\n",
      "  warnings.warn(\"backward hook {} on tensor will not be \"\n",
      "/home/jupyter/.local/lib/python3.8/site-packages/torch/utils/hooks.py:59: UserWarning: backward hook <function TorchHistory._hook_variable_gradient_stats.<locals>.<lambda> at 0x7fcc48cc3160> on tensor will not be serialized.  If this is expected, you can decorate the function with @torch.utils.hooks.unserializable_hook to suppress this warning\n",
      "  warnings.warn(\"backward hook {} on tensor will not be \"\n",
      "/home/jupyter/.local/lib/python3.8/site-packages/torch/utils/hooks.py:59: UserWarning: backward hook <function TorchHistory._hook_variable_gradient_stats.<locals>.<lambda> at 0x7fcc48cc3280> on tensor will not be serialized.  If this is expected, you can decorate the function with @torch.utils.hooks.unserializable_hook to suppress this warning\n",
      "  warnings.warn(\"backward hook {} on tensor will not be \"\n",
      "/home/jupyter/.local/lib/python3.8/site-packages/torch/utils/hooks.py:59: UserWarning: backward hook <function TorchHistory._hook_variable_gradient_stats.<locals>.<lambda> at 0x7fcc48cc33a0> on tensor will not be serialized.  If this is expected, you can decorate the function with @torch.utils.hooks.unserializable_hook to suppress this warning\n",
      "  warnings.warn(\"backward hook {} on tensor will not be \"\n",
      "/home/jupyter/.local/lib/python3.8/site-packages/torch/utils/hooks.py:59: UserWarning: backward hook <function TorchHistory._hook_variable_gradient_stats.<locals>.<lambda> at 0x7fcc48cc34c0> on tensor will not be serialized.  If this is expected, you can decorate the function with @torch.utils.hooks.unserializable_hook to suppress this warning\n",
      "  warnings.warn(\"backward hook {} on tensor will not be \"\n",
      "/home/jupyter/.local/lib/python3.8/site-packages/torch/utils/hooks.py:59: UserWarning: backward hook <function TorchHistory._hook_variable_gradient_stats.<locals>.<lambda> at 0x7fcc48cc35e0> on tensor will not be serialized.  If this is expected, you can decorate the function with @torch.utils.hooks.unserializable_hook to suppress this warning\n",
      "  warnings.warn(\"backward hook {} on tensor will not be \"\n",
      "/home/jupyter/.local/lib/python3.8/site-packages/torch/utils/hooks.py:59: UserWarning: backward hook <function TorchHistory._hook_variable_gradient_stats.<locals>.<lambda> at 0x7fcc48cc3700> on tensor will not be serialized.  If this is expected, you can decorate the function with @torch.utils.hooks.unserializable_hook to suppress this warning\n",
      "  warnings.warn(\"backward hook {} on tensor will not be \"\n",
      "/home/jupyter/.local/lib/python3.8/site-packages/torch/utils/hooks.py:59: UserWarning: backward hook <function TorchHistory._hook_variable_gradient_stats.<locals>.<lambda> at 0x7fcc48cc3820> on tensor will not be serialized.  If this is expected, you can decorate the function with @torch.utils.hooks.unserializable_hook to suppress this warning\n",
      "  warnings.warn(\"backward hook {} on tensor will not be \"\n",
      "/home/jupyter/.local/lib/python3.8/site-packages/torch/utils/hooks.py:59: UserWarning: backward hook <function TorchHistory._hook_variable_gradient_stats.<locals>.<lambda> at 0x7fcc48cc3940> on tensor will not be serialized.  If this is expected, you can decorate the function with @torch.utils.hooks.unserializable_hook to suppress this warning\n",
      "  warnings.warn(\"backward hook {} on tensor will not be \"\n",
      "/home/jupyter/.local/lib/python3.8/site-packages/torch/utils/hooks.py:59: UserWarning: backward hook <function TorchHistory._hook_variable_gradient_stats.<locals>.<lambda> at 0x7fcc48cc3a60> on tensor will not be serialized.  If this is expected, you can decorate the function with @torch.utils.hooks.unserializable_hook to suppress this warning\n",
      "  warnings.warn(\"backward hook {} on tensor will not be \"\n",
      "/home/jupyter/.local/lib/python3.8/site-packages/torch/utils/hooks.py:59: UserWarning: backward hook <function TorchHistory._hook_variable_gradient_stats.<locals>.<lambda> at 0x7fcc48cc3b80> on tensor will not be serialized.  If this is expected, you can decorate the function with @torch.utils.hooks.unserializable_hook to suppress this warning\n",
      "  warnings.warn(\"backward hook {} on tensor will not be \"\n",
      "/home/jupyter/.local/lib/python3.8/site-packages/torch/utils/hooks.py:59: UserWarning: backward hook <function TorchHistory._hook_variable_gradient_stats.<locals>.<lambda> at 0x7fcc48cc3ca0> on tensor will not be serialized.  If this is expected, you can decorate the function with @torch.utils.hooks.unserializable_hook to suppress this warning\n",
      "  warnings.warn(\"backward hook {} on tensor will not be \"\n",
      "/home/jupyter/.local/lib/python3.8/site-packages/torch/utils/hooks.py:59: UserWarning: backward hook <function TorchHistory._hook_variable_gradient_stats.<locals>.<lambda> at 0x7fcc48cc3dc0> on tensor will not be serialized.  If this is expected, you can decorate the function with @torch.utils.hooks.unserializable_hook to suppress this warning\n",
      "  warnings.warn(\"backward hook {} on tensor will not be \"\n",
      "/home/jupyter/.local/lib/python3.8/site-packages/torch/utils/hooks.py:59: UserWarning: backward hook <function TorchHistory._hook_variable_gradient_stats.<locals>.<lambda> at 0x7fcc48cc3ee0> on tensor will not be serialized.  If this is expected, you can decorate the function with @torch.utils.hooks.unserializable_hook to suppress this warning\n",
      "  warnings.warn(\"backward hook {} on tensor will not be \"\n",
      "/home/jupyter/.local/lib/python3.8/site-packages/torch/utils/hooks.py:59: UserWarning: backward hook <function TorchHistory._hook_variable_gradient_stats.<locals>.<lambda> at 0x7fcc48cc7040> on tensor will not be serialized.  If this is expected, you can decorate the function with @torch.utils.hooks.unserializable_hook to suppress this warning\n",
      "  warnings.warn(\"backward hook {} on tensor will not be \"\n",
      "/home/jupyter/.local/lib/python3.8/site-packages/torch/utils/hooks.py:59: UserWarning: backward hook <function TorchHistory._hook_variable_gradient_stats.<locals>.<lambda> at 0x7fcc48cc7160> on tensor will not be serialized.  If this is expected, you can decorate the function with @torch.utils.hooks.unserializable_hook to suppress this warning\n",
      "  warnings.warn(\"backward hook {} on tensor will not be \"\n",
      "/home/jupyter/.local/lib/python3.8/site-packages/torch/utils/hooks.py:59: UserWarning: backward hook <function TorchHistory._hook_variable_gradient_stats.<locals>.<lambda> at 0x7fcc48cc7280> on tensor will not be serialized.  If this is expected, you can decorate the function with @torch.utils.hooks.unserializable_hook to suppress this warning\n",
      "  warnings.warn(\"backward hook {} on tensor will not be \"\n",
      "/home/jupyter/.local/lib/python3.8/site-packages/torch/utils/hooks.py:59: UserWarning: backward hook <function TorchHistory._hook_variable_gradient_stats.<locals>.<lambda> at 0x7fcc48cc73a0> on tensor will not be serialized.  If this is expected, you can decorate the function with @torch.utils.hooks.unserializable_hook to suppress this warning\n",
      "  warnings.warn(\"backward hook {} on tensor will not be \"\n",
      "/home/jupyter/.local/lib/python3.8/site-packages/torch/utils/hooks.py:59: UserWarning: backward hook <function TorchHistory._hook_variable_gradient_stats.<locals>.<lambda> at 0x7fcc48cc74c0> on tensor will not be serialized.  If this is expected, you can decorate the function with @torch.utils.hooks.unserializable_hook to suppress this warning\n",
      "  warnings.warn(\"backward hook {} on tensor will not be \"\n",
      "/home/jupyter/.local/lib/python3.8/site-packages/torch/utils/hooks.py:59: UserWarning: backward hook <function TorchHistory._hook_variable_gradient_stats.<locals>.<lambda> at 0x7fcc4a1ffca0> on tensor will not be serialized.  If this is expected, you can decorate the function with @torch.utils.hooks.unserializable_hook to suppress this warning\n",
      "  warnings.warn(\"backward hook {} on tensor will not be \"\n",
      "/home/jupyter/.local/lib/python3.8/site-packages/torch/utils/hooks.py:59: UserWarning: backward hook <function TorchHistory._hook_variable_gradient_stats.<locals>.<lambda> at 0x7fcc4a1ffdc0> on tensor will not be serialized.  If this is expected, you can decorate the function with @torch.utils.hooks.unserializable_hook to suppress this warning\n",
      "  warnings.warn(\"backward hook {} on tensor will not be \"\n",
      "/home/jupyter/.local/lib/python3.8/site-packages/torch/utils/hooks.py:59: UserWarning: backward hook <function TorchHistory._hook_variable_gradient_stats.<locals>.<lambda> at 0x7fcc4a1ffee0> on tensor will not be serialized.  If this is expected, you can decorate the function with @torch.utils.hooks.unserializable_hook to suppress this warning\n",
      "  warnings.warn(\"backward hook {} on tensor will not be \"\n",
      "/home/jupyter/.local/lib/python3.8/site-packages/torch/utils/hooks.py:59: UserWarning: backward hook <function TorchHistory._hook_variable_gradient_stats.<locals>.<lambda> at 0x7fcc4a16e040> on tensor will not be serialized.  If this is expected, you can decorate the function with @torch.utils.hooks.unserializable_hook to suppress this warning\n",
      "  warnings.warn(\"backward hook {} on tensor will not be \"\n",
      "/home/jupyter/.local/lib/python3.8/site-packages/torch/utils/hooks.py:59: UserWarning: backward hook <function TorchHistory._hook_variable_gradient_stats.<locals>.<lambda> at 0x7fcc4a16e160> on tensor will not be serialized.  If this is expected, you can decorate the function with @torch.utils.hooks.unserializable_hook to suppress this warning\n",
      "  warnings.warn(\"backward hook {} on tensor will not be \"\n",
      "/home/jupyter/.local/lib/python3.8/site-packages/torch/utils/hooks.py:59: UserWarning: backward hook <function TorchHistory._hook_variable_gradient_stats.<locals>.<lambda> at 0x7fcc4a16e280> on tensor will not be serialized.  If this is expected, you can decorate the function with @torch.utils.hooks.unserializable_hook to suppress this warning\n",
      "  warnings.warn(\"backward hook {} on tensor will not be \"\n",
      "/home/jupyter/.local/lib/python3.8/site-packages/torch/utils/hooks.py:59: UserWarning: backward hook <function TorchHistory._hook_variable_gradient_stats.<locals>.<lambda> at 0x7fcc4a16e3a0> on tensor will not be serialized.  If this is expected, you can decorate the function with @torch.utils.hooks.unserializable_hook to suppress this warning\n",
      "  warnings.warn(\"backward hook {} on tensor will not be \"\n",
      "/home/jupyter/.local/lib/python3.8/site-packages/torch/utils/hooks.py:59: UserWarning: backward hook <function TorchHistory._hook_variable_gradient_stats.<locals>.<lambda> at 0x7fcc4a16e4c0> on tensor will not be serialized.  If this is expected, you can decorate the function with @torch.utils.hooks.unserializable_hook to suppress this warning\n",
      "  warnings.warn(\"backward hook {} on tensor will not be \"\n",
      "/home/jupyter/.local/lib/python3.8/site-packages/torch/utils/hooks.py:59: UserWarning: backward hook <function TorchHistory._hook_variable_gradient_stats.<locals>.<lambda> at 0x7fcc4a16e5e0> on tensor will not be serialized.  If this is expected, you can decorate the function with @torch.utils.hooks.unserializable_hook to suppress this warning\n",
      "  warnings.warn(\"backward hook {} on tensor will not be \"\n",
      "/home/jupyter/.local/lib/python3.8/site-packages/torch/utils/hooks.py:59: UserWarning: backward hook <function TorchHistory._hook_variable_gradient_stats.<locals>.<lambda> at 0x7fcc4a16e700> on tensor will not be serialized.  If this is expected, you can decorate the function with @torch.utils.hooks.unserializable_hook to suppress this warning\n",
      "  warnings.warn(\"backward hook {} on tensor will not be \"\n",
      "/home/jupyter/.local/lib/python3.8/site-packages/torch/utils/hooks.py:59: UserWarning: backward hook <function TorchHistory._hook_variable_gradient_stats.<locals>.<lambda> at 0x7fcc4a16e820> on tensor will not be serialized.  If this is expected, you can decorate the function with @torch.utils.hooks.unserializable_hook to suppress this warning\n",
      "  warnings.warn(\"backward hook {} on tensor will not be \"\n",
      "/home/jupyter/.local/lib/python3.8/site-packages/torch/utils/hooks.py:59: UserWarning: backward hook <function TorchHistory._hook_variable_gradient_stats.<locals>.<lambda> at 0x7fcc4a16e940> on tensor will not be serialized.  If this is expected, you can decorate the function with @torch.utils.hooks.unserializable_hook to suppress this warning\n",
      "  warnings.warn(\"backward hook {} on tensor will not be \"\n",
      "/home/jupyter/.local/lib/python3.8/site-packages/torch/utils/hooks.py:59: UserWarning: backward hook <function TorchHistory._hook_variable_gradient_stats.<locals>.<lambda> at 0x7fcc4a16ea60> on tensor will not be serialized.  If this is expected, you can decorate the function with @torch.utils.hooks.unserializable_hook to suppress this warning\n",
      "  warnings.warn(\"backward hook {} on tensor will not be \"\n",
      "/home/jupyter/.local/lib/python3.8/site-packages/torch/utils/hooks.py:59: UserWarning: backward hook <function TorchHistory._hook_variable_gradient_stats.<locals>.<lambda> at 0x7fcc4a16eb80> on tensor will not be serialized.  If this is expected, you can decorate the function with @torch.utils.hooks.unserializable_hook to suppress this warning\n",
      "  warnings.warn(\"backward hook {} on tensor will not be \"\n",
      "/home/jupyter/.local/lib/python3.8/site-packages/torch/utils/hooks.py:59: UserWarning: backward hook <function TorchHistory._hook_variable_gradient_stats.<locals>.<lambda> at 0x7fcc4a16eca0> on tensor will not be serialized.  If this is expected, you can decorate the function with @torch.utils.hooks.unserializable_hook to suppress this warning\n",
      "  warnings.warn(\"backward hook {} on tensor will not be \"\n",
      "/home/jupyter/.local/lib/python3.8/site-packages/torch/utils/hooks.py:59: UserWarning: backward hook <function TorchHistory._hook_variable_gradient_stats.<locals>.<lambda> at 0x7fcc4a16edc0> on tensor will not be serialized.  If this is expected, you can decorate the function with @torch.utils.hooks.unserializable_hook to suppress this warning\n",
      "  warnings.warn(\"backward hook {} on tensor will not be \"\n",
      "/home/jupyter/.local/lib/python3.8/site-packages/torch/utils/hooks.py:59: UserWarning: backward hook <function TorchHistory._hook_variable_gradient_stats.<locals>.<lambda> at 0x7fcc4a16eee0> on tensor will not be serialized.  If this is expected, you can decorate the function with @torch.utils.hooks.unserializable_hook to suppress this warning\n",
      "  warnings.warn(\"backward hook {} on tensor will not be \"\n",
      "/home/jupyter/.local/lib/python3.8/site-packages/torch/utils/hooks.py:59: UserWarning: backward hook <function TorchHistory._hook_variable_gradient_stats.<locals>.<lambda> at 0x7fcc4a172040> on tensor will not be serialized.  If this is expected, you can decorate the function with @torch.utils.hooks.unserializable_hook to suppress this warning\n",
      "  warnings.warn(\"backward hook {} on tensor will not be \"\n",
      "/home/jupyter/.local/lib/python3.8/site-packages/torch/utils/hooks.py:59: UserWarning: backward hook <function TorchHistory._hook_variable_gradient_stats.<locals>.<lambda> at 0x7fcc4a172160> on tensor will not be serialized.  If this is expected, you can decorate the function with @torch.utils.hooks.unserializable_hook to suppress this warning\n",
      "  warnings.warn(\"backward hook {} on tensor will not be \"\n",
      "/home/jupyter/.local/lib/python3.8/site-packages/torch/utils/hooks.py:59: UserWarning: backward hook <function TorchHistory._hook_variable_gradient_stats.<locals>.<lambda> at 0x7fcc4a172280> on tensor will not be serialized.  If this is expected, you can decorate the function with @torch.utils.hooks.unserializable_hook to suppress this warning\n",
      "  warnings.warn(\"backward hook {} on tensor will not be \"\n",
      "/home/jupyter/.local/lib/python3.8/site-packages/torch/utils/hooks.py:59: UserWarning: backward hook <function TorchHistory._hook_variable_gradient_stats.<locals>.<lambda> at 0x7fcc4a1723a0> on tensor will not be serialized.  If this is expected, you can decorate the function with @torch.utils.hooks.unserializable_hook to suppress this warning\n",
      "  warnings.warn(\"backward hook {} on tensor will not be \"\n",
      "/home/jupyter/.local/lib/python3.8/site-packages/torch/utils/hooks.py:59: UserWarning: backward hook <function TorchHistory._hook_variable_gradient_stats.<locals>.<lambda> at 0x7fcc4a1724c0> on tensor will not be serialized.  If this is expected, you can decorate the function with @torch.utils.hooks.unserializable_hook to suppress this warning\n",
      "  warnings.warn(\"backward hook {} on tensor will not be \"\n",
      "/home/jupyter/.local/lib/python3.8/site-packages/torch/utils/hooks.py:59: UserWarning: backward hook <function TorchHistory._hook_variable_gradient_stats.<locals>.<lambda> at 0x7fcc4a1725e0> on tensor will not be serialized.  If this is expected, you can decorate the function with @torch.utils.hooks.unserializable_hook to suppress this warning\n",
      "  warnings.warn(\"backward hook {} on tensor will not be \"\n",
      "/home/jupyter/.local/lib/python3.8/site-packages/torch/utils/hooks.py:59: UserWarning: backward hook <function TorchHistory._hook_variable_gradient_stats.<locals>.<lambda> at 0x7fcc4a172700> on tensor will not be serialized.  If this is expected, you can decorate the function with @torch.utils.hooks.unserializable_hook to suppress this warning\n",
      "  warnings.warn(\"backward hook {} on tensor will not be \"\n",
      "/home/jupyter/.local/lib/python3.8/site-packages/torch/utils/hooks.py:59: UserWarning: backward hook <function TorchHistory._hook_variable_gradient_stats.<locals>.<lambda> at 0x7fcc4a172820> on tensor will not be serialized.  If this is expected, you can decorate the function with @torch.utils.hooks.unserializable_hook to suppress this warning\n",
      "  warnings.warn(\"backward hook {} on tensor will not be \"\n",
      "/home/jupyter/.local/lib/python3.8/site-packages/torch/utils/hooks.py:59: UserWarning: backward hook <function TorchHistory._hook_variable_gradient_stats.<locals>.<lambda> at 0x7fcc4a172940> on tensor will not be serialized.  If this is expected, you can decorate the function with @torch.utils.hooks.unserializable_hook to suppress this warning\n",
      "  warnings.warn(\"backward hook {} on tensor will not be \"\n",
      "/home/jupyter/.local/lib/python3.8/site-packages/torch/utils/hooks.py:59: UserWarning: backward hook <function TorchHistory._hook_variable_gradient_stats.<locals>.<lambda> at 0x7fcc4a172a60> on tensor will not be serialized.  If this is expected, you can decorate the function with @torch.utils.hooks.unserializable_hook to suppress this warning\n",
      "  warnings.warn(\"backward hook {} on tensor will not be \"\n",
      "/home/jupyter/.local/lib/python3.8/site-packages/torch/utils/hooks.py:59: UserWarning: backward hook <function TorchHistory._hook_variable_gradient_stats.<locals>.<lambda> at 0x7fcc4a172b80> on tensor will not be serialized.  If this is expected, you can decorate the function with @torch.utils.hooks.unserializable_hook to suppress this warning\n",
      "  warnings.warn(\"backward hook {} on tensor will not be \"\n",
      "/home/jupyter/.local/lib/python3.8/site-packages/torch/utils/hooks.py:59: UserWarning: backward hook <function TorchHistory._hook_variable_gradient_stats.<locals>.<lambda> at 0x7fcc4a172ca0> on tensor will not be serialized.  If this is expected, you can decorate the function with @torch.utils.hooks.unserializable_hook to suppress this warning\n",
      "  warnings.warn(\"backward hook {} on tensor will not be \"\n",
      "/home/jupyter/.local/lib/python3.8/site-packages/torch/utils/hooks.py:59: UserWarning: backward hook <function TorchHistory._hook_variable_gradient_stats.<locals>.<lambda> at 0x7fcc4a172dc0> on tensor will not be serialized.  If this is expected, you can decorate the function with @torch.utils.hooks.unserializable_hook to suppress this warning\n",
      "  warnings.warn(\"backward hook {} on tensor will not be \"\n",
      "/home/jupyter/.local/lib/python3.8/site-packages/torch/utils/hooks.py:59: UserWarning: backward hook <function TorchHistory._hook_variable_gradient_stats.<locals>.<lambda> at 0x7fcc4a172ee0> on tensor will not be serialized.  If this is expected, you can decorate the function with @torch.utils.hooks.unserializable_hook to suppress this warning\n",
      "  warnings.warn(\"backward hook {} on tensor will not be \"\n",
      "/home/jupyter/.local/lib/python3.8/site-packages/torch/utils/hooks.py:59: UserWarning: backward hook <function TorchHistory._hook_variable_gradient_stats.<locals>.<lambda> at 0x7fcc4a176040> on tensor will not be serialized.  If this is expected, you can decorate the function with @torch.utils.hooks.unserializable_hook to suppress this warning\n",
      "  warnings.warn(\"backward hook {} on tensor will not be \"\n",
      "/home/jupyter/.local/lib/python3.8/site-packages/torch/utils/hooks.py:59: UserWarning: backward hook <function TorchHistory._hook_variable_gradient_stats.<locals>.<lambda> at 0x7fcc4a176160> on tensor will not be serialized.  If this is expected, you can decorate the function with @torch.utils.hooks.unserializable_hook to suppress this warning\n",
      "  warnings.warn(\"backward hook {} on tensor will not be \"\n",
      "/home/jupyter/.local/lib/python3.8/site-packages/torch/utils/hooks.py:59: UserWarning: backward hook <function TorchHistory._hook_variable_gradient_stats.<locals>.<lambda> at 0x7fcc4a176280> on tensor will not be serialized.  If this is expected, you can decorate the function with @torch.utils.hooks.unserializable_hook to suppress this warning\n",
      "  warnings.warn(\"backward hook {} on tensor will not be \"\n",
      "/home/jupyter/.local/lib/python3.8/site-packages/torch/utils/hooks.py:59: UserWarning: backward hook <function TorchHistory._hook_variable_gradient_stats.<locals>.<lambda> at 0x7fcc4a1763a0> on tensor will not be serialized.  If this is expected, you can decorate the function with @torch.utils.hooks.unserializable_hook to suppress this warning\n",
      "  warnings.warn(\"backward hook {} on tensor will not be \"\n",
      "/home/jupyter/.local/lib/python3.8/site-packages/torch/utils/hooks.py:59: UserWarning: backward hook <function TorchHistory._hook_variable_gradient_stats.<locals>.<lambda> at 0x7fcc4a1764c0> on tensor will not be serialized.  If this is expected, you can decorate the function with @torch.utils.hooks.unserializable_hook to suppress this warning\n",
      "  warnings.warn(\"backward hook {} on tensor will not be \"\n",
      "/home/jupyter/.local/lib/python3.8/site-packages/torch/utils/hooks.py:59: UserWarning: backward hook <function TorchHistory._hook_variable_gradient_stats.<locals>.<lambda> at 0x7fcc4a1765e0> on tensor will not be serialized.  If this is expected, you can decorate the function with @torch.utils.hooks.unserializable_hook to suppress this warning\n",
      "  warnings.warn(\"backward hook {} on tensor will not be \"\n",
      "/home/jupyter/.local/lib/python3.8/site-packages/torch/utils/hooks.py:59: UserWarning: backward hook <function TorchHistory._hook_variable_gradient_stats.<locals>.<lambda> at 0x7fcc4a176700> on tensor will not be serialized.  If this is expected, you can decorate the function with @torch.utils.hooks.unserializable_hook to suppress this warning\n",
      "  warnings.warn(\"backward hook {} on tensor will not be \"\n",
      "/home/jupyter/.local/lib/python3.8/site-packages/torch/utils/hooks.py:59: UserWarning: backward hook <function TorchHistory._hook_variable_gradient_stats.<locals>.<lambda> at 0x7fcc4a176820> on tensor will not be serialized.  If this is expected, you can decorate the function with @torch.utils.hooks.unserializable_hook to suppress this warning\n",
      "  warnings.warn(\"backward hook {} on tensor will not be \"\n",
      "/home/jupyter/.local/lib/python3.8/site-packages/torch/utils/hooks.py:59: UserWarning: backward hook <function TorchHistory._hook_variable_gradient_stats.<locals>.<lambda> at 0x7fcc4a176940> on tensor will not be serialized.  If this is expected, you can decorate the function with @torch.utils.hooks.unserializable_hook to suppress this warning\n",
      "  warnings.warn(\"backward hook {} on tensor will not be \"\n",
      "/home/jupyter/.local/lib/python3.8/site-packages/torch/utils/hooks.py:59: UserWarning: backward hook <function TorchHistory._hook_variable_gradient_stats.<locals>.<lambda> at 0x7fcc4a176a60> on tensor will not be serialized.  If this is expected, you can decorate the function with @torch.utils.hooks.unserializable_hook to suppress this warning\n",
      "  warnings.warn(\"backward hook {} on tensor will not be \"\n",
      "/home/jupyter/.local/lib/python3.8/site-packages/torch/utils/hooks.py:59: UserWarning: backward hook <function TorchHistory._hook_variable_gradient_stats.<locals>.<lambda> at 0x7fcc4a176b80> on tensor will not be serialized.  If this is expected, you can decorate the function with @torch.utils.hooks.unserializable_hook to suppress this warning\n",
      "  warnings.warn(\"backward hook {} on tensor will not be \"\n",
      "/home/jupyter/.local/lib/python3.8/site-packages/torch/utils/hooks.py:59: UserWarning: backward hook <function TorchHistory._hook_variable_gradient_stats.<locals>.<lambda> at 0x7fcc4a176ca0> on tensor will not be serialized.  If this is expected, you can decorate the function with @torch.utils.hooks.unserializable_hook to suppress this warning\n",
      "  warnings.warn(\"backward hook {} on tensor will not be \"\n",
      "/home/jupyter/.local/lib/python3.8/site-packages/torch/utils/hooks.py:59: UserWarning: backward hook <function TorchHistory._hook_variable_gradient_stats.<locals>.<lambda> at 0x7fcc4a176dc0> on tensor will not be serialized.  If this is expected, you can decorate the function with @torch.utils.hooks.unserializable_hook to suppress this warning\n",
      "  warnings.warn(\"backward hook {} on tensor will not be \"\n",
      "/home/jupyter/.local/lib/python3.8/site-packages/torch/utils/hooks.py:59: UserWarning: backward hook <function TorchHistory._hook_variable_gradient_stats.<locals>.<lambda> at 0x7fcc4a176ee0> on tensor will not be serialized.  If this is expected, you can decorate the function with @torch.utils.hooks.unserializable_hook to suppress this warning\n",
      "  warnings.warn(\"backward hook {} on tensor will not be \"\n",
      "/home/jupyter/.local/lib/python3.8/site-packages/torch/utils/hooks.py:59: UserWarning: backward hook <function TorchHistory._hook_variable_gradient_stats.<locals>.<lambda> at 0x7fcc4a179040> on tensor will not be serialized.  If this is expected, you can decorate the function with @torch.utils.hooks.unserializable_hook to suppress this warning\n",
      "  warnings.warn(\"backward hook {} on tensor will not be \"\n",
      "/home/jupyter/.local/lib/python3.8/site-packages/torch/utils/hooks.py:59: UserWarning: backward hook <function TorchHistory._hook_variable_gradient_stats.<locals>.<lambda> at 0x7fcc4a179160> on tensor will not be serialized.  If this is expected, you can decorate the function with @torch.utils.hooks.unserializable_hook to suppress this warning\n",
      "  warnings.warn(\"backward hook {} on tensor will not be \"\n",
      "/home/jupyter/.local/lib/python3.8/site-packages/torch/utils/hooks.py:59: UserWarning: backward hook <function TorchHistory._hook_variable_gradient_stats.<locals>.<lambda> at 0x7fcc4a179280> on tensor will not be serialized.  If this is expected, you can decorate the function with @torch.utils.hooks.unserializable_hook to suppress this warning\n",
      "  warnings.warn(\"backward hook {} on tensor will not be \"\n",
      "/home/jupyter/.local/lib/python3.8/site-packages/torch/utils/hooks.py:59: UserWarning: backward hook <function TorchHistory._hook_variable_gradient_stats.<locals>.<lambda> at 0x7fcc4a1793a0> on tensor will not be serialized.  If this is expected, you can decorate the function with @torch.utils.hooks.unserializable_hook to suppress this warning\n",
      "  warnings.warn(\"backward hook {} on tensor will not be \"\n",
      "/home/jupyter/.local/lib/python3.8/site-packages/torch/utils/hooks.py:59: UserWarning: backward hook <function TorchHistory._hook_variable_gradient_stats.<locals>.<lambda> at 0x7fcc4a1794c0> on tensor will not be serialized.  If this is expected, you can decorate the function with @torch.utils.hooks.unserializable_hook to suppress this warning\n",
      "  warnings.warn(\"backward hook {} on tensor will not be \"\n",
      "/home/jupyter/.local/lib/python3.8/site-packages/torch/utils/hooks.py:59: UserWarning: backward hook <function TorchHistory._hook_variable_gradient_stats.<locals>.<lambda> at 0x7fcc4a1795e0> on tensor will not be serialized.  If this is expected, you can decorate the function with @torch.utils.hooks.unserializable_hook to suppress this warning\n",
      "  warnings.warn(\"backward hook {} on tensor will not be \"\n",
      "/home/jupyter/.local/lib/python3.8/site-packages/torch/utils/hooks.py:59: UserWarning: backward hook <function TorchHistory._hook_variable_gradient_stats.<locals>.<lambda> at 0x7fcc4a179700> on tensor will not be serialized.  If this is expected, you can decorate the function with @torch.utils.hooks.unserializable_hook to suppress this warning\n",
      "  warnings.warn(\"backward hook {} on tensor will not be \"\n",
      "/home/jupyter/.local/lib/python3.8/site-packages/torch/utils/hooks.py:59: UserWarning: backward hook <function TorchHistory._hook_variable_gradient_stats.<locals>.<lambda> at 0x7fcc4a179820> on tensor will not be serialized.  If this is expected, you can decorate the function with @torch.utils.hooks.unserializable_hook to suppress this warning\n",
      "  warnings.warn(\"backward hook {} on tensor will not be \"\n",
      "/home/jupyter/.local/lib/python3.8/site-packages/torch/utils/hooks.py:59: UserWarning: backward hook <function TorchHistory._hook_variable_gradient_stats.<locals>.<lambda> at 0x7fcc4a179940> on tensor will not be serialized.  If this is expected, you can decorate the function with @torch.utils.hooks.unserializable_hook to suppress this warning\n",
      "  warnings.warn(\"backward hook {} on tensor will not be \"\n",
      "/home/jupyter/.local/lib/python3.8/site-packages/torch/utils/hooks.py:59: UserWarning: backward hook <function TorchHistory._hook_variable_gradient_stats.<locals>.<lambda> at 0x7fcc4a179a60> on tensor will not be serialized.  If this is expected, you can decorate the function with @torch.utils.hooks.unserializable_hook to suppress this warning\n",
      "  warnings.warn(\"backward hook {} on tensor will not be \"\n",
      "/home/jupyter/.local/lib/python3.8/site-packages/torch/utils/hooks.py:59: UserWarning: backward hook <function TorchHistory._hook_variable_gradient_stats.<locals>.<lambda> at 0x7fcc4a179b80> on tensor will not be serialized.  If this is expected, you can decorate the function with @torch.utils.hooks.unserializable_hook to suppress this warning\n",
      "  warnings.warn(\"backward hook {} on tensor will not be \"\n",
      "/home/jupyter/.local/lib/python3.8/site-packages/torch/utils/hooks.py:59: UserWarning: backward hook <function TorchHistory._hook_variable_gradient_stats.<locals>.<lambda> at 0x7fcc4a179ca0> on tensor will not be serialized.  If this is expected, you can decorate the function with @torch.utils.hooks.unserializable_hook to suppress this warning\n",
      "  warnings.warn(\"backward hook {} on tensor will not be \"\n",
      "/home/jupyter/.local/lib/python3.8/site-packages/torch/utils/hooks.py:59: UserWarning: backward hook <function TorchHistory._hook_variable_gradient_stats.<locals>.<lambda> at 0x7fcc4a179dc0> on tensor will not be serialized.  If this is expected, you can decorate the function with @torch.utils.hooks.unserializable_hook to suppress this warning\n",
      "  warnings.warn(\"backward hook {} on tensor will not be \"\n",
      "/home/jupyter/.local/lib/python3.8/site-packages/torch/utils/hooks.py:59: UserWarning: backward hook <function TorchHistory._hook_variable_gradient_stats.<locals>.<lambda> at 0x7fcc4a179ee0> on tensor will not be serialized.  If this is expected, you can decorate the function with @torch.utils.hooks.unserializable_hook to suppress this warning\n",
      "  warnings.warn(\"backward hook {} on tensor will not be \"\n",
      "/home/jupyter/.local/lib/python3.8/site-packages/torch/utils/hooks.py:59: UserWarning: backward hook <function TorchHistory._hook_variable_gradient_stats.<locals>.<lambda> at 0x7fcc4a17d040> on tensor will not be serialized.  If this is expected, you can decorate the function with @torch.utils.hooks.unserializable_hook to suppress this warning\n",
      "  warnings.warn(\"backward hook {} on tensor will not be \"\n",
      "/home/jupyter/.local/lib/python3.8/site-packages/torch/utils/hooks.py:59: UserWarning: backward hook <function TorchHistory._hook_variable_gradient_stats.<locals>.<lambda> at 0x7fcc4a17d160> on tensor will not be serialized.  If this is expected, you can decorate the function with @torch.utils.hooks.unserializable_hook to suppress this warning\n",
      "  warnings.warn(\"backward hook {} on tensor will not be \"\n",
      "/home/jupyter/.local/lib/python3.8/site-packages/torch/utils/hooks.py:59: UserWarning: backward hook <function TorchHistory._hook_variable_gradient_stats.<locals>.<lambda> at 0x7fcc4a17d280> on tensor will not be serialized.  If this is expected, you can decorate the function with @torch.utils.hooks.unserializable_hook to suppress this warning\n",
      "  warnings.warn(\"backward hook {} on tensor will not be \"\n",
      "/home/jupyter/.local/lib/python3.8/site-packages/torch/utils/hooks.py:59: UserWarning: backward hook <function TorchHistory._hook_variable_gradient_stats.<locals>.<lambda> at 0x7fcc4a17d3a0> on tensor will not be serialized.  If this is expected, you can decorate the function with @torch.utils.hooks.unserializable_hook to suppress this warning\n",
      "  warnings.warn(\"backward hook {} on tensor will not be \"\n",
      "/home/jupyter/.local/lib/python3.8/site-packages/torch/utils/hooks.py:59: UserWarning: backward hook <function TorchHistory._hook_variable_gradient_stats.<locals>.<lambda> at 0x7fcc4a17d4c0> on tensor will not be serialized.  If this is expected, you can decorate the function with @torch.utils.hooks.unserializable_hook to suppress this warning\n",
      "  warnings.warn(\"backward hook {} on tensor will not be \"\n",
      "/home/jupyter/.local/lib/python3.8/site-packages/torch/utils/hooks.py:59: UserWarning: backward hook <function TorchHistory._hook_variable_gradient_stats.<locals>.<lambda> at 0x7fcc4a17d5e0> on tensor will not be serialized.  If this is expected, you can decorate the function with @torch.utils.hooks.unserializable_hook to suppress this warning\n",
      "  warnings.warn(\"backward hook {} on tensor will not be \"\n",
      "/home/jupyter/.local/lib/python3.8/site-packages/torch/utils/hooks.py:59: UserWarning: backward hook <function TorchHistory._hook_variable_gradient_stats.<locals>.<lambda> at 0x7fcc4a17d700> on tensor will not be serialized.  If this is expected, you can decorate the function with @torch.utils.hooks.unserializable_hook to suppress this warning\n",
      "  warnings.warn(\"backward hook {} on tensor will not be \"\n",
      "/home/jupyter/.local/lib/python3.8/site-packages/torch/utils/hooks.py:59: UserWarning: backward hook <function TorchHistory._hook_variable_gradient_stats.<locals>.<lambda> at 0x7fcc4a17d820> on tensor will not be serialized.  If this is expected, you can decorate the function with @torch.utils.hooks.unserializable_hook to suppress this warning\n",
      "  warnings.warn(\"backward hook {} on tensor will not be \"\n",
      "/home/jupyter/.local/lib/python3.8/site-packages/torch/utils/hooks.py:59: UserWarning: backward hook <function TorchHistory._hook_variable_gradient_stats.<locals>.<lambda> at 0x7fcc4a17d940> on tensor will not be serialized.  If this is expected, you can decorate the function with @torch.utils.hooks.unserializable_hook to suppress this warning\n",
      "  warnings.warn(\"backward hook {} on tensor will not be \"\n",
      "/home/jupyter/.local/lib/python3.8/site-packages/torch/utils/hooks.py:59: UserWarning: backward hook <function TorchHistory._hook_variable_gradient_stats.<locals>.<lambda> at 0x7fcc4a17da60> on tensor will not be serialized.  If this is expected, you can decorate the function with @torch.utils.hooks.unserializable_hook to suppress this warning\n",
      "  warnings.warn(\"backward hook {} on tensor will not be \"\n",
      "/home/jupyter/.local/lib/python3.8/site-packages/torch/utils/hooks.py:59: UserWarning: backward hook <function TorchHistory._hook_variable_gradient_stats.<locals>.<lambda> at 0x7fcc4a17db80> on tensor will not be serialized.  If this is expected, you can decorate the function with @torch.utils.hooks.unserializable_hook to suppress this warning\n",
      "  warnings.warn(\"backward hook {} on tensor will not be \"\n",
      "/home/jupyter/.local/lib/python3.8/site-packages/torch/utils/hooks.py:59: UserWarning: backward hook <function TorchHistory._hook_variable_gradient_stats.<locals>.<lambda> at 0x7fcc4a17dca0> on tensor will not be serialized.  If this is expected, you can decorate the function with @torch.utils.hooks.unserializable_hook to suppress this warning\n",
      "  warnings.warn(\"backward hook {} on tensor will not be \"\n",
      "/home/jupyter/.local/lib/python3.8/site-packages/torch/utils/hooks.py:59: UserWarning: backward hook <function TorchHistory._hook_variable_gradient_stats.<locals>.<lambda> at 0x7fcc4a17ddc0> on tensor will not be serialized.  If this is expected, you can decorate the function with @torch.utils.hooks.unserializable_hook to suppress this warning\n",
      "  warnings.warn(\"backward hook {} on tensor will not be \"\n",
      "/home/jupyter/.local/lib/python3.8/site-packages/torch/utils/hooks.py:59: UserWarning: backward hook <function TorchHistory._hook_variable_gradient_stats.<locals>.<lambda> at 0x7fcc4a17dee0> on tensor will not be serialized.  If this is expected, you can decorate the function with @torch.utils.hooks.unserializable_hook to suppress this warning\n",
      "  warnings.warn(\"backward hook {} on tensor will not be \"\n",
      "/home/jupyter/.local/lib/python3.8/site-packages/torch/utils/hooks.py:59: UserWarning: backward hook <function TorchHistory._hook_variable_gradient_stats.<locals>.<lambda> at 0x7fcc4a180040> on tensor will not be serialized.  If this is expected, you can decorate the function with @torch.utils.hooks.unserializable_hook to suppress this warning\n",
      "  warnings.warn(\"backward hook {} on tensor will not be \"\n",
      "/home/jupyter/.local/lib/python3.8/site-packages/torch/utils/hooks.py:59: UserWarning: backward hook <function TorchHistory._hook_variable_gradient_stats.<locals>.<lambda> at 0x7fcc4a180160> on tensor will not be serialized.  If this is expected, you can decorate the function with @torch.utils.hooks.unserializable_hook to suppress this warning\n",
      "  warnings.warn(\"backward hook {} on tensor will not be \"\n",
      "/home/jupyter/.local/lib/python3.8/site-packages/torch/utils/hooks.py:59: UserWarning: backward hook <function TorchHistory._hook_variable_gradient_stats.<locals>.<lambda> at 0x7fcc4a180280> on tensor will not be serialized.  If this is expected, you can decorate the function with @torch.utils.hooks.unserializable_hook to suppress this warning\n",
      "  warnings.warn(\"backward hook {} on tensor will not be \"\n",
      "/home/jupyter/.local/lib/python3.8/site-packages/torch/utils/hooks.py:59: UserWarning: backward hook <function TorchHistory._hook_variable_gradient_stats.<locals>.<lambda> at 0x7fcc4a1803a0> on tensor will not be serialized.  If this is expected, you can decorate the function with @torch.utils.hooks.unserializable_hook to suppress this warning\n",
      "  warnings.warn(\"backward hook {} on tensor will not be \"\n",
      "/home/jupyter/.local/lib/python3.8/site-packages/torch/utils/hooks.py:59: UserWarning: backward hook <function TorchHistory._hook_variable_gradient_stats.<locals>.<lambda> at 0x7fcc4a1804c0> on tensor will not be serialized.  If this is expected, you can decorate the function with @torch.utils.hooks.unserializable_hook to suppress this warning\n",
      "  warnings.warn(\"backward hook {} on tensor will not be \"\n",
      "/home/jupyter/.local/lib/python3.8/site-packages/torch/utils/hooks.py:59: UserWarning: backward hook <function TorchHistory._hook_variable_gradient_stats.<locals>.<lambda> at 0x7fcc4a1805e0> on tensor will not be serialized.  If this is expected, you can decorate the function with @torch.utils.hooks.unserializable_hook to suppress this warning\n",
      "  warnings.warn(\"backward hook {} on tensor will not be \"\n",
      "/home/jupyter/.local/lib/python3.8/site-packages/torch/utils/hooks.py:59: UserWarning: backward hook <function TorchHistory._hook_variable_gradient_stats.<locals>.<lambda> at 0x7fcc4a180700> on tensor will not be serialized.  If this is expected, you can decorate the function with @torch.utils.hooks.unserializable_hook to suppress this warning\n",
      "  warnings.warn(\"backward hook {} on tensor will not be \"\n",
      "/home/jupyter/.local/lib/python3.8/site-packages/torch/utils/hooks.py:59: UserWarning: backward hook <function TorchHistory._hook_variable_gradient_stats.<locals>.<lambda> at 0x7fcc4a180820> on tensor will not be serialized.  If this is expected, you can decorate the function with @torch.utils.hooks.unserializable_hook to suppress this warning\n",
      "  warnings.warn(\"backward hook {} on tensor will not be \"\n",
      "/home/jupyter/.local/lib/python3.8/site-packages/torch/utils/hooks.py:59: UserWarning: backward hook <function TorchHistory._hook_variable_gradient_stats.<locals>.<lambda> at 0x7fcc4a180940> on tensor will not be serialized.  If this is expected, you can decorate the function with @torch.utils.hooks.unserializable_hook to suppress this warning\n",
      "  warnings.warn(\"backward hook {} on tensor will not be \"\n",
      "/home/jupyter/.local/lib/python3.8/site-packages/torch/utils/hooks.py:59: UserWarning: backward hook <function TorchHistory._hook_variable_gradient_stats.<locals>.<lambda> at 0x7fcc4a180a60> on tensor will not be serialized.  If this is expected, you can decorate the function with @torch.utils.hooks.unserializable_hook to suppress this warning\n",
      "  warnings.warn(\"backward hook {} on tensor will not be \"\n",
      "/home/jupyter/.local/lib/python3.8/site-packages/torch/utils/hooks.py:59: UserWarning: backward hook <function TorchHistory._hook_variable_gradient_stats.<locals>.<lambda> at 0x7fcc4a180b80> on tensor will not be serialized.  If this is expected, you can decorate the function with @torch.utils.hooks.unserializable_hook to suppress this warning\n",
      "  warnings.warn(\"backward hook {} on tensor will not be \"\n",
      "/home/jupyter/.local/lib/python3.8/site-packages/torch/utils/hooks.py:59: UserWarning: backward hook <function TorchHistory._hook_variable_gradient_stats.<locals>.<lambda> at 0x7fcc4a180ca0> on tensor will not be serialized.  If this is expected, you can decorate the function with @torch.utils.hooks.unserializable_hook to suppress this warning\n",
      "  warnings.warn(\"backward hook {} on tensor will not be \"\n",
      "/home/jupyter/.local/lib/python3.8/site-packages/torch/utils/hooks.py:59: UserWarning: backward hook <function TorchHistory._hook_variable_gradient_stats.<locals>.<lambda> at 0x7fcc4a180dc0> on tensor will not be serialized.  If this is expected, you can decorate the function with @torch.utils.hooks.unserializable_hook to suppress this warning\n",
      "  warnings.warn(\"backward hook {} on tensor will not be \"\n",
      "/home/jupyter/.local/lib/python3.8/site-packages/torch/utils/hooks.py:59: UserWarning: backward hook <function TorchHistory._hook_variable_gradient_stats.<locals>.<lambda> at 0x7fcc4a180ee0> on tensor will not be serialized.  If this is expected, you can decorate the function with @torch.utils.hooks.unserializable_hook to suppress this warning\n",
      "  warnings.warn(\"backward hook {} on tensor will not be \"\n",
      "/home/jupyter/.local/lib/python3.8/site-packages/torch/utils/hooks.py:59: UserWarning: backward hook <function TorchHistory._hook_variable_gradient_stats.<locals>.<lambda> at 0x7fcc4a183040> on tensor will not be serialized.  If this is expected, you can decorate the function with @torch.utils.hooks.unserializable_hook to suppress this warning\n",
      "  warnings.warn(\"backward hook {} on tensor will not be \"\n",
      "/home/jupyter/.local/lib/python3.8/site-packages/torch/utils/hooks.py:59: UserWarning: backward hook <function TorchHistory._hook_variable_gradient_stats.<locals>.<lambda> at 0x7fcc4a183160> on tensor will not be serialized.  If this is expected, you can decorate the function with @torch.utils.hooks.unserializable_hook to suppress this warning\n",
      "  warnings.warn(\"backward hook {} on tensor will not be \"\n",
      "/home/jupyter/.local/lib/python3.8/site-packages/torch/utils/hooks.py:59: UserWarning: backward hook <function TorchHistory._hook_variable_gradient_stats.<locals>.<lambda> at 0x7fcc4a183280> on tensor will not be serialized.  If this is expected, you can decorate the function with @torch.utils.hooks.unserializable_hook to suppress this warning\n",
      "  warnings.warn(\"backward hook {} on tensor will not be \"\n",
      "/home/jupyter/.local/lib/python3.8/site-packages/torch/utils/hooks.py:59: UserWarning: backward hook <function TorchHistory._hook_variable_gradient_stats.<locals>.<lambda> at 0x7fcc4a1833a0> on tensor will not be serialized.  If this is expected, you can decorate the function with @torch.utils.hooks.unserializable_hook to suppress this warning\n",
      "  warnings.warn(\"backward hook {} on tensor will not be \"\n",
      "/home/jupyter/.local/lib/python3.8/site-packages/torch/utils/hooks.py:59: UserWarning: backward hook <function TorchHistory._hook_variable_gradient_stats.<locals>.<lambda> at 0x7fcc4a1834c0> on tensor will not be serialized.  If this is expected, you can decorate the function with @torch.utils.hooks.unserializable_hook to suppress this warning\n",
      "  warnings.warn(\"backward hook {} on tensor will not be \"\n",
      "/home/jupyter/.local/lib/python3.8/site-packages/torch/utils/hooks.py:59: UserWarning: backward hook <function TorchHistory._hook_variable_gradient_stats.<locals>.<lambda> at 0x7fcc4a1835e0> on tensor will not be serialized.  If this is expected, you can decorate the function with @torch.utils.hooks.unserializable_hook to suppress this warning\n",
      "  warnings.warn(\"backward hook {} on tensor will not be \"\n",
      "/home/jupyter/.local/lib/python3.8/site-packages/torch/utils/hooks.py:59: UserWarning: backward hook <function TorchHistory._hook_variable_gradient_stats.<locals>.<lambda> at 0x7fcc4a183700> on tensor will not be serialized.  If this is expected, you can decorate the function with @torch.utils.hooks.unserializable_hook to suppress this warning\n",
      "  warnings.warn(\"backward hook {} on tensor will not be \"\n",
      "/home/jupyter/.local/lib/python3.8/site-packages/torch/utils/hooks.py:59: UserWarning: backward hook <function TorchHistory._hook_variable_gradient_stats.<locals>.<lambda> at 0x7fcc4a183820> on tensor will not be serialized.  If this is expected, you can decorate the function with @torch.utils.hooks.unserializable_hook to suppress this warning\n",
      "  warnings.warn(\"backward hook {} on tensor will not be \"\n",
      "/home/jupyter/.local/lib/python3.8/site-packages/torch/utils/hooks.py:59: UserWarning: backward hook <function TorchHistory._hook_variable_gradient_stats.<locals>.<lambda> at 0x7fcc4a183940> on tensor will not be serialized.  If this is expected, you can decorate the function with @torch.utils.hooks.unserializable_hook to suppress this warning\n",
      "  warnings.warn(\"backward hook {} on tensor will not be \"\n",
      "/home/jupyter/.local/lib/python3.8/site-packages/torch/utils/hooks.py:59: UserWarning: backward hook <function TorchHistory._hook_variable_gradient_stats.<locals>.<lambda> at 0x7fcc4a183a60> on tensor will not be serialized.  If this is expected, you can decorate the function with @torch.utils.hooks.unserializable_hook to suppress this warning\n",
      "  warnings.warn(\"backward hook {} on tensor will not be \"\n",
      "/home/jupyter/.local/lib/python3.8/site-packages/torch/utils/hooks.py:59: UserWarning: backward hook <function TorchHistory._hook_variable_gradient_stats.<locals>.<lambda> at 0x7fcc4a183b80> on tensor will not be serialized.  If this is expected, you can decorate the function with @torch.utils.hooks.unserializable_hook to suppress this warning\n",
      "  warnings.warn(\"backward hook {} on tensor will not be \"\n",
      "/home/jupyter/.local/lib/python3.8/site-packages/torch/utils/hooks.py:59: UserWarning: backward hook <function TorchHistory._hook_variable_gradient_stats.<locals>.<lambda> at 0x7fcc4a183ca0> on tensor will not be serialized.  If this is expected, you can decorate the function with @torch.utils.hooks.unserializable_hook to suppress this warning\n",
      "  warnings.warn(\"backward hook {} on tensor will not be \"\n",
      "/home/jupyter/.local/lib/python3.8/site-packages/torch/utils/hooks.py:59: UserWarning: backward hook <function TorchHistory._hook_variable_gradient_stats.<locals>.<lambda> at 0x7fcc4a183dc0> on tensor will not be serialized.  If this is expected, you can decorate the function with @torch.utils.hooks.unserializable_hook to suppress this warning\n",
      "  warnings.warn(\"backward hook {} on tensor will not be \"\n",
      "/home/jupyter/.local/lib/python3.8/site-packages/torch/utils/hooks.py:59: UserWarning: backward hook <function TorchHistory._hook_variable_gradient_stats.<locals>.<lambda> at 0x7fcc4a183ee0> on tensor will not be serialized.  If this is expected, you can decorate the function with @torch.utils.hooks.unserializable_hook to suppress this warning\n",
      "  warnings.warn(\"backward hook {} on tensor will not be \"\n",
      "/home/jupyter/.local/lib/python3.8/site-packages/torch/utils/hooks.py:59: UserWarning: backward hook <function TorchHistory._hook_variable_gradient_stats.<locals>.<lambda> at 0x7fcc48ca9040> on tensor will not be serialized.  If this is expected, you can decorate the function with @torch.utils.hooks.unserializable_hook to suppress this warning\n",
      "  warnings.warn(\"backward hook {} on tensor will not be \"\n",
      "/home/jupyter/.local/lib/python3.8/site-packages/torch/utils/hooks.py:59: UserWarning: backward hook <function TorchHistory._hook_variable_gradient_stats.<locals>.<lambda> at 0x7fcc48ca9160> on tensor will not be serialized.  If this is expected, you can decorate the function with @torch.utils.hooks.unserializable_hook to suppress this warning\n",
      "  warnings.warn(\"backward hook {} on tensor will not be \"\n",
      "/home/jupyter/.local/lib/python3.8/site-packages/torch/utils/hooks.py:59: UserWarning: backward hook <function TorchHistory._hook_variable_gradient_stats.<locals>.<lambda> at 0x7fcc48ca9280> on tensor will not be serialized.  If this is expected, you can decorate the function with @torch.utils.hooks.unserializable_hook to suppress this warning\n",
      "  warnings.warn(\"backward hook {} on tensor will not be \"\n",
      "/home/jupyter/.local/lib/python3.8/site-packages/torch/utils/hooks.py:59: UserWarning: backward hook <function TorchHistory._hook_variable_gradient_stats.<locals>.<lambda> at 0x7fcc48ca93a0> on tensor will not be serialized.  If this is expected, you can decorate the function with @torch.utils.hooks.unserializable_hook to suppress this warning\n",
      "  warnings.warn(\"backward hook {} on tensor will not be \"\n",
      "/home/jupyter/.local/lib/python3.8/site-packages/torch/utils/hooks.py:59: UserWarning: backward hook <function TorchHistory._hook_variable_gradient_stats.<locals>.<lambda> at 0x7fcc48ca94c0> on tensor will not be serialized.  If this is expected, you can decorate the function with @torch.utils.hooks.unserializable_hook to suppress this warning\n",
      "  warnings.warn(\"backward hook {} on tensor will not be \"\n",
      "/home/jupyter/.local/lib/python3.8/site-packages/torch/utils/hooks.py:59: UserWarning: backward hook <function TorchHistory._hook_variable_gradient_stats.<locals>.<lambda> at 0x7fcc48ca95e0> on tensor will not be serialized.  If this is expected, you can decorate the function with @torch.utils.hooks.unserializable_hook to suppress this warning\n",
      "  warnings.warn(\"backward hook {} on tensor will not be \"\n",
      "/home/jupyter/.local/lib/python3.8/site-packages/torch/utils/hooks.py:59: UserWarning: backward hook <function TorchHistory._hook_variable_gradient_stats.<locals>.<lambda> at 0x7fcc48ca9700> on tensor will not be serialized.  If this is expected, you can decorate the function with @torch.utils.hooks.unserializable_hook to suppress this warning\n",
      "  warnings.warn(\"backward hook {} on tensor will not be \"\n",
      "/home/jupyter/.local/lib/python3.8/site-packages/torch/utils/hooks.py:59: UserWarning: backward hook <function TorchHistory._hook_variable_gradient_stats.<locals>.<lambda> at 0x7fcc48ca9820> on tensor will not be serialized.  If this is expected, you can decorate the function with @torch.utils.hooks.unserializable_hook to suppress this warning\n",
      "  warnings.warn(\"backward hook {} on tensor will not be \"\n",
      "/home/jupyter/.local/lib/python3.8/site-packages/torch/utils/hooks.py:59: UserWarning: backward hook <function TorchHistory._hook_variable_gradient_stats.<locals>.<lambda> at 0x7fcc48ca9940> on tensor will not be serialized.  If this is expected, you can decorate the function with @torch.utils.hooks.unserializable_hook to suppress this warning\n",
      "  warnings.warn(\"backward hook {} on tensor will not be \"\n",
      "/home/jupyter/.local/lib/python3.8/site-packages/torch/utils/hooks.py:59: UserWarning: backward hook <function TorchHistory._hook_variable_gradient_stats.<locals>.<lambda> at 0x7fcc48ca9a60> on tensor will not be serialized.  If this is expected, you can decorate the function with @torch.utils.hooks.unserializable_hook to suppress this warning\n",
      "  warnings.warn(\"backward hook {} on tensor will not be \"\n",
      "/home/jupyter/.local/lib/python3.8/site-packages/torch/utils/hooks.py:59: UserWarning: backward hook <function TorchHistory._hook_variable_gradient_stats.<locals>.<lambda> at 0x7fcc48ca9b80> on tensor will not be serialized.  If this is expected, you can decorate the function with @torch.utils.hooks.unserializable_hook to suppress this warning\n",
      "  warnings.warn(\"backward hook {} on tensor will not be \"\n",
      "/home/jupyter/.local/lib/python3.8/site-packages/torch/utils/hooks.py:59: UserWarning: backward hook <function TorchHistory._hook_variable_gradient_stats.<locals>.<lambda> at 0x7fcc48ca9ca0> on tensor will not be serialized.  If this is expected, you can decorate the function with @torch.utils.hooks.unserializable_hook to suppress this warning\n",
      "  warnings.warn(\"backward hook {} on tensor will not be \"\n",
      "/home/jupyter/.local/lib/python3.8/site-packages/torch/utils/hooks.py:59: UserWarning: backward hook <function TorchHistory._hook_variable_gradient_stats.<locals>.<lambda> at 0x7fcc48ca9dc0> on tensor will not be serialized.  If this is expected, you can decorate the function with @torch.utils.hooks.unserializable_hook to suppress this warning\n",
      "  warnings.warn(\"backward hook {} on tensor will not be \"\n",
      "/home/jupyter/.local/lib/python3.8/site-packages/torch/utils/hooks.py:59: UserWarning: backward hook <function TorchHistory._hook_variable_gradient_stats.<locals>.<lambda> at 0x7fcc48ca9ee0> on tensor will not be serialized.  If this is expected, you can decorate the function with @torch.utils.hooks.unserializable_hook to suppress this warning\n",
      "  warnings.warn(\"backward hook {} on tensor will not be \"\n",
      "/home/jupyter/.local/lib/python3.8/site-packages/torch/utils/hooks.py:59: UserWarning: backward hook <function TorchHistory._hook_variable_gradient_stats.<locals>.<lambda> at 0x7fcc48cad040> on tensor will not be serialized.  If this is expected, you can decorate the function with @torch.utils.hooks.unserializable_hook to suppress this warning\n",
      "  warnings.warn(\"backward hook {} on tensor will not be \"\n",
      "/home/jupyter/.local/lib/python3.8/site-packages/torch/utils/hooks.py:59: UserWarning: backward hook <function TorchHistory._hook_variable_gradient_stats.<locals>.<lambda> at 0x7fcc48cad160> on tensor will not be serialized.  If this is expected, you can decorate the function with @torch.utils.hooks.unserializable_hook to suppress this warning\n",
      "  warnings.warn(\"backward hook {} on tensor will not be \"\n",
      "/home/jupyter/.local/lib/python3.8/site-packages/torch/utils/hooks.py:59: UserWarning: backward hook <function TorchHistory._hook_variable_gradient_stats.<locals>.<lambda> at 0x7fcc48cad280> on tensor will not be serialized.  If this is expected, you can decorate the function with @torch.utils.hooks.unserializable_hook to suppress this warning\n",
      "  warnings.warn(\"backward hook {} on tensor will not be \"\n",
      "/home/jupyter/.local/lib/python3.8/site-packages/torch/utils/hooks.py:59: UserWarning: backward hook <function TorchHistory._hook_variable_gradient_stats.<locals>.<lambda> at 0x7fcc48cad3a0> on tensor will not be serialized.  If this is expected, you can decorate the function with @torch.utils.hooks.unserializable_hook to suppress this warning\n",
      "  warnings.warn(\"backward hook {} on tensor will not be \"\n",
      "/home/jupyter/.local/lib/python3.8/site-packages/torch/utils/hooks.py:59: UserWarning: backward hook <function TorchHistory._hook_variable_gradient_stats.<locals>.<lambda> at 0x7fcc48cad4c0> on tensor will not be serialized.  If this is expected, you can decorate the function with @torch.utils.hooks.unserializable_hook to suppress this warning\n",
      "  warnings.warn(\"backward hook {} on tensor will not be \"\n",
      "/home/jupyter/.local/lib/python3.8/site-packages/torch/utils/hooks.py:59: UserWarning: backward hook <function TorchHistory._hook_variable_gradient_stats.<locals>.<lambda> at 0x7fcc48cad5e0> on tensor will not be serialized.  If this is expected, you can decorate the function with @torch.utils.hooks.unserializable_hook to suppress this warning\n",
      "  warnings.warn(\"backward hook {} on tensor will not be \"\n",
      "/home/jupyter/.local/lib/python3.8/site-packages/torch/utils/hooks.py:59: UserWarning: backward hook <function TorchHistory._hook_variable_gradient_stats.<locals>.<lambda> at 0x7fcc48cad700> on tensor will not be serialized.  If this is expected, you can decorate the function with @torch.utils.hooks.unserializable_hook to suppress this warning\n",
      "  warnings.warn(\"backward hook {} on tensor will not be \"\n",
      "/home/jupyter/.local/lib/python3.8/site-packages/torch/utils/hooks.py:59: UserWarning: backward hook <function TorchHistory._hook_variable_gradient_stats.<locals>.<lambda> at 0x7fcc48cad820> on tensor will not be serialized.  If this is expected, you can decorate the function with @torch.utils.hooks.unserializable_hook to suppress this warning\n",
      "  warnings.warn(\"backward hook {} on tensor will not be \"\n",
      "/home/jupyter/.local/lib/python3.8/site-packages/torch/utils/hooks.py:59: UserWarning: backward hook <function TorchHistory._hook_variable_gradient_stats.<locals>.<lambda> at 0x7fcc48cad940> on tensor will not be serialized.  If this is expected, you can decorate the function with @torch.utils.hooks.unserializable_hook to suppress this warning\n",
      "  warnings.warn(\"backward hook {} on tensor will not be \"\n",
      "/home/jupyter/.local/lib/python3.8/site-packages/torch/utils/hooks.py:59: UserWarning: backward hook <function TorchHistory._hook_variable_gradient_stats.<locals>.<lambda> at 0x7fcc48cada60> on tensor will not be serialized.  If this is expected, you can decorate the function with @torch.utils.hooks.unserializable_hook to suppress this warning\n",
      "  warnings.warn(\"backward hook {} on tensor will not be \"\n",
      "/home/jupyter/.local/lib/python3.8/site-packages/torch/utils/hooks.py:59: UserWarning: backward hook <function TorchHistory._hook_variable_gradient_stats.<locals>.<lambda> at 0x7fcc48cadb80> on tensor will not be serialized.  If this is expected, you can decorate the function with @torch.utils.hooks.unserializable_hook to suppress this warning\n",
      "  warnings.warn(\"backward hook {} on tensor will not be \"\n",
      "/home/jupyter/.local/lib/python3.8/site-packages/torch/utils/hooks.py:59: UserWarning: backward hook <function TorchHistory._hook_variable_gradient_stats.<locals>.<lambda> at 0x7fcc48cadca0> on tensor will not be serialized.  If this is expected, you can decorate the function with @torch.utils.hooks.unserializable_hook to suppress this warning\n",
      "  warnings.warn(\"backward hook {} on tensor will not be \"\n",
      "/home/jupyter/.local/lib/python3.8/site-packages/torch/utils/hooks.py:59: UserWarning: backward hook <function TorchHistory._hook_variable_gradient_stats.<locals>.<lambda> at 0x7fcc48caddc0> on tensor will not be serialized.  If this is expected, you can decorate the function with @torch.utils.hooks.unserializable_hook to suppress this warning\n",
      "  warnings.warn(\"backward hook {} on tensor will not be \"\n",
      "/home/jupyter/.local/lib/python3.8/site-packages/torch/utils/hooks.py:59: UserWarning: backward hook <function TorchHistory._hook_variable_gradient_stats.<locals>.<lambda> at 0x7fcc48cadee0> on tensor will not be serialized.  If this is expected, you can decorate the function with @torch.utils.hooks.unserializable_hook to suppress this warning\n",
      "  warnings.warn(\"backward hook {} on tensor will not be \"\n",
      "/home/jupyter/.local/lib/python3.8/site-packages/torch/utils/hooks.py:59: UserWarning: backward hook <function TorchHistory._hook_variable_gradient_stats.<locals>.<lambda> at 0x7fcc48cb3040> on tensor will not be serialized.  If this is expected, you can decorate the function with @torch.utils.hooks.unserializable_hook to suppress this warning\n",
      "  warnings.warn(\"backward hook {} on tensor will not be \"\n",
      "/home/jupyter/.local/lib/python3.8/site-packages/torch/utils/hooks.py:59: UserWarning: backward hook <function TorchHistory._hook_variable_gradient_stats.<locals>.<lambda> at 0x7fcc48cb3160> on tensor will not be serialized.  If this is expected, you can decorate the function with @torch.utils.hooks.unserializable_hook to suppress this warning\n",
      "  warnings.warn(\"backward hook {} on tensor will not be \"\n",
      "/home/jupyter/.local/lib/python3.8/site-packages/torch/utils/hooks.py:59: UserWarning: backward hook <function TorchHistory._hook_variable_gradient_stats.<locals>.<lambda> at 0x7fcc48cb3280> on tensor will not be serialized.  If this is expected, you can decorate the function with @torch.utils.hooks.unserializable_hook to suppress this warning\n",
      "  warnings.warn(\"backward hook {} on tensor will not be \"\n",
      "/home/jupyter/.local/lib/python3.8/site-packages/torch/utils/hooks.py:59: UserWarning: backward hook <function TorchHistory._hook_variable_gradient_stats.<locals>.<lambda> at 0x7fcc48cb33a0> on tensor will not be serialized.  If this is expected, you can decorate the function with @torch.utils.hooks.unserializable_hook to suppress this warning\n",
      "  warnings.warn(\"backward hook {} on tensor will not be \"\n",
      "/home/jupyter/.local/lib/python3.8/site-packages/torch/utils/hooks.py:59: UserWarning: backward hook <function TorchHistory._hook_variable_gradient_stats.<locals>.<lambda> at 0x7fcc48cb34c0> on tensor will not be serialized.  If this is expected, you can decorate the function with @torch.utils.hooks.unserializable_hook to suppress this warning\n",
      "  warnings.warn(\"backward hook {} on tensor will not be \"\n",
      "/home/jupyter/.local/lib/python3.8/site-packages/torch/utils/hooks.py:59: UserWarning: backward hook <function TorchHistory._hook_variable_gradient_stats.<locals>.<lambda> at 0x7fcc48cb35e0> on tensor will not be serialized.  If this is expected, you can decorate the function with @torch.utils.hooks.unserializable_hook to suppress this warning\n",
      "  warnings.warn(\"backward hook {} on tensor will not be \"\n",
      "/home/jupyter/.local/lib/python3.8/site-packages/torch/utils/hooks.py:59: UserWarning: backward hook <function TorchHistory._hook_variable_gradient_stats.<locals>.<lambda> at 0x7fcc48cb3700> on tensor will not be serialized.  If this is expected, you can decorate the function with @torch.utils.hooks.unserializable_hook to suppress this warning\n",
      "  warnings.warn(\"backward hook {} on tensor will not be \"\n",
      "/home/jupyter/.local/lib/python3.8/site-packages/torch/utils/hooks.py:59: UserWarning: backward hook <function TorchHistory._hook_variable_gradient_stats.<locals>.<lambda> at 0x7fcc48cb3820> on tensor will not be serialized.  If this is expected, you can decorate the function with @torch.utils.hooks.unserializable_hook to suppress this warning\n",
      "  warnings.warn(\"backward hook {} on tensor will not be \"\n",
      "/home/jupyter/.local/lib/python3.8/site-packages/torch/utils/hooks.py:59: UserWarning: backward hook <function TorchHistory._hook_variable_gradient_stats.<locals>.<lambda> at 0x7fcc48cb3940> on tensor will not be serialized.  If this is expected, you can decorate the function with @torch.utils.hooks.unserializable_hook to suppress this warning\n",
      "  warnings.warn(\"backward hook {} on tensor will not be \"\n",
      "/home/jupyter/.local/lib/python3.8/site-packages/torch/utils/hooks.py:59: UserWarning: backward hook <function TorchHistory._hook_variable_gradient_stats.<locals>.<lambda> at 0x7fcc48cb3a60> on tensor will not be serialized.  If this is expected, you can decorate the function with @torch.utils.hooks.unserializable_hook to suppress this warning\n",
      "  warnings.warn(\"backward hook {} on tensor will not be \"\n",
      "/home/jupyter/.local/lib/python3.8/site-packages/torch/utils/hooks.py:59: UserWarning: backward hook <function TorchHistory._hook_variable_gradient_stats.<locals>.<lambda> at 0x7fcc48cb3b80> on tensor will not be serialized.  If this is expected, you can decorate the function with @torch.utils.hooks.unserializable_hook to suppress this warning\n",
      "  warnings.warn(\"backward hook {} on tensor will not be \"\n",
      "/home/jupyter/.local/lib/python3.8/site-packages/torch/utils/hooks.py:59: UserWarning: backward hook <function TorchHistory._hook_variable_gradient_stats.<locals>.<lambda> at 0x7fcc48cb3ca0> on tensor will not be serialized.  If this is expected, you can decorate the function with @torch.utils.hooks.unserializable_hook to suppress this warning\n",
      "  warnings.warn(\"backward hook {} on tensor will not be \"\n",
      "/home/jupyter/.local/lib/python3.8/site-packages/torch/utils/hooks.py:59: UserWarning: backward hook <function TorchHistory._hook_variable_gradient_stats.<locals>.<lambda> at 0x7fcc48cb3dc0> on tensor will not be serialized.  If this is expected, you can decorate the function with @torch.utils.hooks.unserializable_hook to suppress this warning\n",
      "  warnings.warn(\"backward hook {} on tensor will not be \"\n",
      "/home/jupyter/.local/lib/python3.8/site-packages/torch/utils/hooks.py:59: UserWarning: backward hook <function TorchHistory._hook_variable_gradient_stats.<locals>.<lambda> at 0x7fcc48cb3ee0> on tensor will not be serialized.  If this is expected, you can decorate the function with @torch.utils.hooks.unserializable_hook to suppress this warning\n",
      "  warnings.warn(\"backward hook {} on tensor will not be \"\n",
      "/home/jupyter/.local/lib/python3.8/site-packages/torch/utils/hooks.py:59: UserWarning: backward hook <function TorchHistory._hook_variable_gradient_stats.<locals>.<lambda> at 0x7fcc48cb7040> on tensor will not be serialized.  If this is expected, you can decorate the function with @torch.utils.hooks.unserializable_hook to suppress this warning\n",
      "  warnings.warn(\"backward hook {} on tensor will not be \"\n",
      "/home/jupyter/.local/lib/python3.8/site-packages/torch/utils/hooks.py:59: UserWarning: backward hook <function TorchHistory._hook_variable_gradient_stats.<locals>.<lambda> at 0x7fcc48cb7160> on tensor will not be serialized.  If this is expected, you can decorate the function with @torch.utils.hooks.unserializable_hook to suppress this warning\n",
      "  warnings.warn(\"backward hook {} on tensor will not be \"\n",
      "/home/jupyter/.local/lib/python3.8/site-packages/torch/utils/hooks.py:59: UserWarning: backward hook <function TorchHistory._hook_variable_gradient_stats.<locals>.<lambda> at 0x7fcc48cb7280> on tensor will not be serialized.  If this is expected, you can decorate the function with @torch.utils.hooks.unserializable_hook to suppress this warning\n",
      "  warnings.warn(\"backward hook {} on tensor will not be \"\n",
      "/home/jupyter/.local/lib/python3.8/site-packages/torch/utils/hooks.py:59: UserWarning: backward hook <function TorchHistory._hook_variable_gradient_stats.<locals>.<lambda> at 0x7fcc48cb73a0> on tensor will not be serialized.  If this is expected, you can decorate the function with @torch.utils.hooks.unserializable_hook to suppress this warning\n",
      "  warnings.warn(\"backward hook {} on tensor will not be \"\n",
      "/home/jupyter/.local/lib/python3.8/site-packages/torch/utils/hooks.py:59: UserWarning: backward hook <function TorchHistory._hook_variable_gradient_stats.<locals>.<lambda> at 0x7fcc48cb74c0> on tensor will not be serialized.  If this is expected, you can decorate the function with @torch.utils.hooks.unserializable_hook to suppress this warning\n",
      "  warnings.warn(\"backward hook {} on tensor will not be \"\n",
      "/home/jupyter/.local/lib/python3.8/site-packages/torch/utils/hooks.py:59: UserWarning: backward hook <function TorchHistory._hook_variable_gradient_stats.<locals>.<lambda> at 0x7fcc48cb75e0> on tensor will not be serialized.  If this is expected, you can decorate the function with @torch.utils.hooks.unserializable_hook to suppress this warning\n",
      "  warnings.warn(\"backward hook {} on tensor will not be \"\n",
      "/home/jupyter/.local/lib/python3.8/site-packages/torch/utils/hooks.py:59: UserWarning: backward hook <function TorchHistory._hook_variable_gradient_stats.<locals>.<lambda> at 0x7fcc48cb7700> on tensor will not be serialized.  If this is expected, you can decorate the function with @torch.utils.hooks.unserializable_hook to suppress this warning\n",
      "  warnings.warn(\"backward hook {} on tensor will not be \"\n",
      "/home/jupyter/.local/lib/python3.8/site-packages/torch/utils/hooks.py:59: UserWarning: backward hook <function TorchHistory._hook_variable_gradient_stats.<locals>.<lambda> at 0x7fcc48cb7820> on tensor will not be serialized.  If this is expected, you can decorate the function with @torch.utils.hooks.unserializable_hook to suppress this warning\n",
      "  warnings.warn(\"backward hook {} on tensor will not be \"\n",
      "/home/jupyter/.local/lib/python3.8/site-packages/torch/utils/hooks.py:59: UserWarning: backward hook <function TorchHistory._hook_variable_gradient_stats.<locals>.<lambda> at 0x7fcc48cb7940> on tensor will not be serialized.  If this is expected, you can decorate the function with @torch.utils.hooks.unserializable_hook to suppress this warning\n",
      "  warnings.warn(\"backward hook {} on tensor will not be \"\n",
      "/home/jupyter/.local/lib/python3.8/site-packages/torch/utils/hooks.py:59: UserWarning: backward hook <function TorchHistory._hook_variable_gradient_stats.<locals>.<lambda> at 0x7fcc48cb7a60> on tensor will not be serialized.  If this is expected, you can decorate the function with @torch.utils.hooks.unserializable_hook to suppress this warning\n",
      "  warnings.warn(\"backward hook {} on tensor will not be \"\n",
      "/home/jupyter/.local/lib/python3.8/site-packages/torch/utils/hooks.py:59: UserWarning: backward hook <function TorchHistory._hook_variable_gradient_stats.<locals>.<lambda> at 0x7fcc48cb7b80> on tensor will not be serialized.  If this is expected, you can decorate the function with @torch.utils.hooks.unserializable_hook to suppress this warning\n",
      "  warnings.warn(\"backward hook {} on tensor will not be \"\n",
      "/home/jupyter/.local/lib/python3.8/site-packages/torch/utils/hooks.py:59: UserWarning: backward hook <function TorchHistory._hook_variable_gradient_stats.<locals>.<lambda> at 0x7fcc48cb7ca0> on tensor will not be serialized.  If this is expected, you can decorate the function with @torch.utils.hooks.unserializable_hook to suppress this warning\n",
      "  warnings.warn(\"backward hook {} on tensor will not be \"\n",
      "/home/jupyter/.local/lib/python3.8/site-packages/torch/utils/hooks.py:59: UserWarning: backward hook <function TorchHistory._hook_variable_gradient_stats.<locals>.<lambda> at 0x7fcc48cb7dc0> on tensor will not be serialized.  If this is expected, you can decorate the function with @torch.utils.hooks.unserializable_hook to suppress this warning\n",
      "  warnings.warn(\"backward hook {} on tensor will not be \"\n",
      "/home/jupyter/.local/lib/python3.8/site-packages/torch/utils/hooks.py:59: UserWarning: backward hook <function TorchHistory._hook_variable_gradient_stats.<locals>.<lambda> at 0x7fcc48cb7ee0> on tensor will not be serialized.  If this is expected, you can decorate the function with @torch.utils.hooks.unserializable_hook to suppress this warning\n",
      "  warnings.warn(\"backward hook {} on tensor will not be \"\n",
      "/home/jupyter/.local/lib/python3.8/site-packages/torch/utils/hooks.py:59: UserWarning: backward hook <function TorchHistory._hook_variable_gradient_stats.<locals>.<lambda> at 0x7fcc48cbd040> on tensor will not be serialized.  If this is expected, you can decorate the function with @torch.utils.hooks.unserializable_hook to suppress this warning\n",
      "  warnings.warn(\"backward hook {} on tensor will not be \"\n",
      "/home/jupyter/.local/lib/python3.8/site-packages/torch/utils/hooks.py:59: UserWarning: backward hook <function TorchHistory._hook_variable_gradient_stats.<locals>.<lambda> at 0x7fcc48cbd160> on tensor will not be serialized.  If this is expected, you can decorate the function with @torch.utils.hooks.unserializable_hook to suppress this warning\n",
      "  warnings.warn(\"backward hook {} on tensor will not be \"\n",
      "/home/jupyter/.local/lib/python3.8/site-packages/torch/utils/hooks.py:59: UserWarning: backward hook <function TorchHistory._hook_variable_gradient_stats.<locals>.<lambda> at 0x7fcc48cbd280> on tensor will not be serialized.  If this is expected, you can decorate the function with @torch.utils.hooks.unserializable_hook to suppress this warning\n",
      "  warnings.warn(\"backward hook {} on tensor will not be \"\n",
      "/home/jupyter/.local/lib/python3.8/site-packages/torch/utils/hooks.py:59: UserWarning: backward hook <function TorchHistory._hook_variable_gradient_stats.<locals>.<lambda> at 0x7fcc48cbd3a0> on tensor will not be serialized.  If this is expected, you can decorate the function with @torch.utils.hooks.unserializable_hook to suppress this warning\n",
      "  warnings.warn(\"backward hook {} on tensor will not be \"\n",
      "/home/jupyter/.local/lib/python3.8/site-packages/torch/utils/hooks.py:59: UserWarning: backward hook <function TorchHistory._hook_variable_gradient_stats.<locals>.<lambda> at 0x7fcc48cbd4c0> on tensor will not be serialized.  If this is expected, you can decorate the function with @torch.utils.hooks.unserializable_hook to suppress this warning\n",
      "  warnings.warn(\"backward hook {} on tensor will not be \"\n",
      "/home/jupyter/.local/lib/python3.8/site-packages/torch/utils/hooks.py:59: UserWarning: backward hook <function TorchHistory._hook_variable_gradient_stats.<locals>.<lambda> at 0x7fcc48cbd5e0> on tensor will not be serialized.  If this is expected, you can decorate the function with @torch.utils.hooks.unserializable_hook to suppress this warning\n",
      "  warnings.warn(\"backward hook {} on tensor will not be \"\n",
      "/home/jupyter/.local/lib/python3.8/site-packages/torch/utils/hooks.py:59: UserWarning: backward hook <function TorchHistory._hook_variable_gradient_stats.<locals>.<lambda> at 0x7fcc48cbd700> on tensor will not be serialized.  If this is expected, you can decorate the function with @torch.utils.hooks.unserializable_hook to suppress this warning\n",
      "  warnings.warn(\"backward hook {} on tensor will not be \"\n",
      "/home/jupyter/.local/lib/python3.8/site-packages/torch/utils/hooks.py:59: UserWarning: backward hook <function TorchHistory._hook_variable_gradient_stats.<locals>.<lambda> at 0x7fcc48cbd820> on tensor will not be serialized.  If this is expected, you can decorate the function with @torch.utils.hooks.unserializable_hook to suppress this warning\n",
      "  warnings.warn(\"backward hook {} on tensor will not be \"\n",
      "/home/jupyter/.local/lib/python3.8/site-packages/torch/utils/hooks.py:59: UserWarning: backward hook <function TorchHistory._hook_variable_gradient_stats.<locals>.<lambda> at 0x7fcc48cbd940> on tensor will not be serialized.  If this is expected, you can decorate the function with @torch.utils.hooks.unserializable_hook to suppress this warning\n",
      "  warnings.warn(\"backward hook {} on tensor will not be \"\n",
      "/home/jupyter/.local/lib/python3.8/site-packages/torch/utils/hooks.py:59: UserWarning: backward hook <function TorchHistory._hook_variable_gradient_stats.<locals>.<lambda> at 0x7fcc48cbda60> on tensor will not be serialized.  If this is expected, you can decorate the function with @torch.utils.hooks.unserializable_hook to suppress this warning\n",
      "  warnings.warn(\"backward hook {} on tensor will not be \"\n",
      "/home/jupyter/.local/lib/python3.8/site-packages/torch/utils/hooks.py:59: UserWarning: backward hook <function TorchHistory._hook_variable_gradient_stats.<locals>.<lambda> at 0x7fcc48cbdb80> on tensor will not be serialized.  If this is expected, you can decorate the function with @torch.utils.hooks.unserializable_hook to suppress this warning\n",
      "  warnings.warn(\"backward hook {} on tensor will not be \"\n",
      "/home/jupyter/.local/lib/python3.8/site-packages/torch/utils/hooks.py:59: UserWarning: backward hook <function TorchHistory._hook_variable_gradient_stats.<locals>.<lambda> at 0x7fcc48cbdca0> on tensor will not be serialized.  If this is expected, you can decorate the function with @torch.utils.hooks.unserializable_hook to suppress this warning\n",
      "  warnings.warn(\"backward hook {} on tensor will not be \"\n",
      "/home/jupyter/.local/lib/python3.8/site-packages/torch/utils/hooks.py:59: UserWarning: backward hook <function TorchHistory._hook_variable_gradient_stats.<locals>.<lambda> at 0x7fcc48cbddc0> on tensor will not be serialized.  If this is expected, you can decorate the function with @torch.utils.hooks.unserializable_hook to suppress this warning\n",
      "  warnings.warn(\"backward hook {} on tensor will not be \"\n",
      "/home/jupyter/.local/lib/python3.8/site-packages/torch/utils/hooks.py:59: UserWarning: backward hook <function TorchHistory._hook_variable_gradient_stats.<locals>.<lambda> at 0x7fcc48cbdee0> on tensor will not be serialized.  If this is expected, you can decorate the function with @torch.utils.hooks.unserializable_hook to suppress this warning\n",
      "  warnings.warn(\"backward hook {} on tensor will not be \"\n",
      "/home/jupyter/.local/lib/python3.8/site-packages/torch/utils/hooks.py:59: UserWarning: backward hook <function TorchHistory._hook_variable_gradient_stats.<locals>.<lambda> at 0x7fcc48cc3040> on tensor will not be serialized.  If this is expected, you can decorate the function with @torch.utils.hooks.unserializable_hook to suppress this warning\n",
      "  warnings.warn(\"backward hook {} on tensor will not be \"\n",
      "/home/jupyter/.local/lib/python3.8/site-packages/torch/utils/hooks.py:59: UserWarning: backward hook <function TorchHistory._hook_variable_gradient_stats.<locals>.<lambda> at 0x7fcc48cc3160> on tensor will not be serialized.  If this is expected, you can decorate the function with @torch.utils.hooks.unserializable_hook to suppress this warning\n",
      "  warnings.warn(\"backward hook {} on tensor will not be \"\n",
      "/home/jupyter/.local/lib/python3.8/site-packages/torch/utils/hooks.py:59: UserWarning: backward hook <function TorchHistory._hook_variable_gradient_stats.<locals>.<lambda> at 0x7fcc48cc3280> on tensor will not be serialized.  If this is expected, you can decorate the function with @torch.utils.hooks.unserializable_hook to suppress this warning\n",
      "  warnings.warn(\"backward hook {} on tensor will not be \"\n",
      "/home/jupyter/.local/lib/python3.8/site-packages/torch/utils/hooks.py:59: UserWarning: backward hook <function TorchHistory._hook_variable_gradient_stats.<locals>.<lambda> at 0x7fcc48cc33a0> on tensor will not be serialized.  If this is expected, you can decorate the function with @torch.utils.hooks.unserializable_hook to suppress this warning\n",
      "  warnings.warn(\"backward hook {} on tensor will not be \"\n",
      "/home/jupyter/.local/lib/python3.8/site-packages/torch/utils/hooks.py:59: UserWarning: backward hook <function TorchHistory._hook_variable_gradient_stats.<locals>.<lambda> at 0x7fcc48cc34c0> on tensor will not be serialized.  If this is expected, you can decorate the function with @torch.utils.hooks.unserializable_hook to suppress this warning\n",
      "  warnings.warn(\"backward hook {} on tensor will not be \"\n",
      "/home/jupyter/.local/lib/python3.8/site-packages/torch/utils/hooks.py:59: UserWarning: backward hook <function TorchHistory._hook_variable_gradient_stats.<locals>.<lambda> at 0x7fcc48cc35e0> on tensor will not be serialized.  If this is expected, you can decorate the function with @torch.utils.hooks.unserializable_hook to suppress this warning\n",
      "  warnings.warn(\"backward hook {} on tensor will not be \"\n",
      "/home/jupyter/.local/lib/python3.8/site-packages/torch/utils/hooks.py:59: UserWarning: backward hook <function TorchHistory._hook_variable_gradient_stats.<locals>.<lambda> at 0x7fcc48cc3700> on tensor will not be serialized.  If this is expected, you can decorate the function with @torch.utils.hooks.unserializable_hook to suppress this warning\n",
      "  warnings.warn(\"backward hook {} on tensor will not be \"\n",
      "/home/jupyter/.local/lib/python3.8/site-packages/torch/utils/hooks.py:59: UserWarning: backward hook <function TorchHistory._hook_variable_gradient_stats.<locals>.<lambda> at 0x7fcc48cc3820> on tensor will not be serialized.  If this is expected, you can decorate the function with @torch.utils.hooks.unserializable_hook to suppress this warning\n",
      "  warnings.warn(\"backward hook {} on tensor will not be \"\n",
      "/home/jupyter/.local/lib/python3.8/site-packages/torch/utils/hooks.py:59: UserWarning: backward hook <function TorchHistory._hook_variable_gradient_stats.<locals>.<lambda> at 0x7fcc48cc3940> on tensor will not be serialized.  If this is expected, you can decorate the function with @torch.utils.hooks.unserializable_hook to suppress this warning\n",
      "  warnings.warn(\"backward hook {} on tensor will not be \"\n",
      "/home/jupyter/.local/lib/python3.8/site-packages/torch/utils/hooks.py:59: UserWarning: backward hook <function TorchHistory._hook_variable_gradient_stats.<locals>.<lambda> at 0x7fcc48cc3a60> on tensor will not be serialized.  If this is expected, you can decorate the function with @torch.utils.hooks.unserializable_hook to suppress this warning\n",
      "  warnings.warn(\"backward hook {} on tensor will not be \"\n",
      "/home/jupyter/.local/lib/python3.8/site-packages/torch/utils/hooks.py:59: UserWarning: backward hook <function TorchHistory._hook_variable_gradient_stats.<locals>.<lambda> at 0x7fcc48cc3b80> on tensor will not be serialized.  If this is expected, you can decorate the function with @torch.utils.hooks.unserializable_hook to suppress this warning\n",
      "  warnings.warn(\"backward hook {} on tensor will not be \"\n",
      "/home/jupyter/.local/lib/python3.8/site-packages/torch/utils/hooks.py:59: UserWarning: backward hook <function TorchHistory._hook_variable_gradient_stats.<locals>.<lambda> at 0x7fcc48cc3ca0> on tensor will not be serialized.  If this is expected, you can decorate the function with @torch.utils.hooks.unserializable_hook to suppress this warning\n",
      "  warnings.warn(\"backward hook {} on tensor will not be \"\n",
      "/home/jupyter/.local/lib/python3.8/site-packages/torch/utils/hooks.py:59: UserWarning: backward hook <function TorchHistory._hook_variable_gradient_stats.<locals>.<lambda> at 0x7fcc48cc3dc0> on tensor will not be serialized.  If this is expected, you can decorate the function with @torch.utils.hooks.unserializable_hook to suppress this warning\n",
      "  warnings.warn(\"backward hook {} on tensor will not be \"\n",
      "/home/jupyter/.local/lib/python3.8/site-packages/torch/utils/hooks.py:59: UserWarning: backward hook <function TorchHistory._hook_variable_gradient_stats.<locals>.<lambda> at 0x7fcc48cc3ee0> on tensor will not be serialized.  If this is expected, you can decorate the function with @torch.utils.hooks.unserializable_hook to suppress this warning\n",
      "  warnings.warn(\"backward hook {} on tensor will not be \"\n",
      "/home/jupyter/.local/lib/python3.8/site-packages/torch/utils/hooks.py:59: UserWarning: backward hook <function TorchHistory._hook_variable_gradient_stats.<locals>.<lambda> at 0x7fcc48cc7040> on tensor will not be serialized.  If this is expected, you can decorate the function with @torch.utils.hooks.unserializable_hook to suppress this warning\n",
      "  warnings.warn(\"backward hook {} on tensor will not be \"\n",
      "/home/jupyter/.local/lib/python3.8/site-packages/torch/utils/hooks.py:59: UserWarning: backward hook <function TorchHistory._hook_variable_gradient_stats.<locals>.<lambda> at 0x7fcc48cc7160> on tensor will not be serialized.  If this is expected, you can decorate the function with @torch.utils.hooks.unserializable_hook to suppress this warning\n",
      "  warnings.warn(\"backward hook {} on tensor will not be \"\n",
      "/home/jupyter/.local/lib/python3.8/site-packages/torch/utils/hooks.py:59: UserWarning: backward hook <function TorchHistory._hook_variable_gradient_stats.<locals>.<lambda> at 0x7fcc48cc7280> on tensor will not be serialized.  If this is expected, you can decorate the function with @torch.utils.hooks.unserializable_hook to suppress this warning\n",
      "  warnings.warn(\"backward hook {} on tensor will not be \"\n",
      "/home/jupyter/.local/lib/python3.8/site-packages/torch/utils/hooks.py:59: UserWarning: backward hook <function TorchHistory._hook_variable_gradient_stats.<locals>.<lambda> at 0x7fcc48cc73a0> on tensor will not be serialized.  If this is expected, you can decorate the function with @torch.utils.hooks.unserializable_hook to suppress this warning\n",
      "  warnings.warn(\"backward hook {} on tensor will not be \"\n",
      "/home/jupyter/.local/lib/python3.8/site-packages/torch/utils/hooks.py:59: UserWarning: backward hook <function TorchHistory._hook_variable_gradient_stats.<locals>.<lambda> at 0x7fcc48cc74c0> on tensor will not be serialized.  If this is expected, you can decorate the function with @torch.utils.hooks.unserializable_hook to suppress this warning\n",
      "  warnings.warn(\"backward hook {} on tensor will not be \"\n"
     ]
    },
    {
     "name": "stdout",
     "output_type": "stream",
     "text": [
      "--------------------------\n",
      "Russian to RSL:  32.426547957056044\n"
     ]
    }
   ],
   "source": [
    "#!g1.1\n",
    "import sacrebleu\n",
    "\n",
    "rsl_preds = model2.predict(to_rsl)\n",
    "rus_rsl_bleu = sacrebleu.corpus_bleu(rsl_preds, [truth_rsl])\n",
    "print(\"--------------------------\")\n",
    "print(\"Russian to RSL: \", rus_rsl_bleu.score)"
   ]
  },
  {
   "cell_type": "code",
   "execution_count": 38,
   "metadata": {
    "cellId": "tamar90aqxu6gugi3kwm"
   },
   "outputs": [
    {
     "data": {
      "text/plain": [
       "['indx дед.мороз маленький домой маленький встретить приходить 1ps дед.',\n",
       " 'мама второй лишать 1ps все радость взять',\n",
       " 'зачем желание изменение свой привычка тратить все4 желание',\n",
       " 'америка есть <dact>',\n",
       " '1ps вчера стирать <dact> не был',\n",
       " '3ps чувствовать радость бабушка2 скидывать 3ps <dact> чулок скоро открывать.',\n",
       " '<dact> дальше <dact>',\n",
       " 'заиграть солнце друг уже рядом река',\n",
       " 'все 1ps все устраивать 1ps интересный учиться и скоро выполнять уже готовый',\n",
       " 'мы отдых']"
      ]
     },
     "execution_count": 38,
     "metadata": {},
     "output_type": "execute_result"
    }
   ],
   "source": [
    "#!g1.1\n",
    "rsl_preds[:10]"
   ]
  },
  {
   "cell_type": "code",
   "execution_count": 39,
   "metadata": {
    "cellId": "7vzyo3s9f52ncnezp4dsi8"
   },
   "outputs": [
    {
     "data": {
      "text/plain": [
       "['indx дед.мороз clf clf.группа clf.переместить домой clf clf.группа clf.переместить дед.мороз маленький встретить приходить обращение главный 1ps был лес подарок clf clf.перечислять',\n",
       " 'мама второй 3ps все радость давать 1ps ноль',\n",
       " 'зачем желание изменение все4 привычка тратить все4 желание именение привычка свой изменение тратить и копить думать',\n",
       " 'америка есть poss 3ps 3ps рассказ 1ps интересный америка первый прогресс',\n",
       " '1ps вчера стирать <dact> не был',\n",
       " 'обувь2 убирать чулок бродить дверь 1ps думать радость 3ps скоро открывать.дверь сейчас скоро радость сердцебиение',\n",
       " '<dact> дальше <dact>',\n",
       " 'утро солнце друг уже рядом река',\n",
       " '1ps спокойный2 1ps был интересный учиться и время clf clf.время clf.идет 1ps уже сам2 получать даже сложный 3ps заказывать 1ps',\n",
       " 'мы отдых']"
      ]
     },
     "execution_count": 39,
     "metadata": {},
     "output_type": "execute_result"
    }
   ],
   "source": [
    "#!g1.1\n",
    "truth_rsl[:10]"
   ]
  },
  {
   "cell_type": "code",
   "execution_count": null,
   "metadata": {
    "cellId": "s775lty2fosjqlb6bjjpu"
   },
   "outputs": [],
   "source": [
    "#!g1.1\n"
   ]
  },
  {
   "cell_type": "markdown",
   "metadata": {
    "cellId": "uh97x4bdpqftj2th1v2c9",
    "id": "OvukvfcRT7lD"
   },
   "source": [
    "**Результат:**\n",
    "\n",
    "Russian to RSL (на неправильльной токенизации ржя):  28.527910962357836\n",
    "\n",
    "Но как бы сравнить не с чем. Хотя чиселка вроде немаленькая такая\n",
    "\n",
    "Но при этом почему-то, когда я переехала на более корректную предобработку русского, качество модели резко упало\n",
    "\n",
    "Russian to RSL:  5.3837717877066265\n",
    "\n",
    "Та же тетрадка, но replacements augmentation strategy не больше 4 повторений одной структуры:\n",
    "\n",
    "* Russian to RSL:  18.513365924823393  на 10 эпохах\n",
    "* Russian to RSL:  42.435910660455576 на 30 эпохах, судя по графику после 22 эпохи происходит overfit\n",
    "* Russian to RSL:  27.061430610729374 на 15 эпохах, because we want to take something on the edge of the eval_fit curve, right before it flatlines\n",
    "* Russian to RSL:  32.42277878410936 на 15 эпохах с добавлением special tokens из ржя\n",
    "* Russian to RSL:  0.230552555420057 на 15 эпохах с добавлением special tokens из ржя task-agnostic\n",
    "* Russian to RSL:  0.3871642472384286 на 15 эпохах с добавлением special tokens из ржя svo sv augment\n",
    "* Russian to RSL:  35.158140963068426 на 15 эпохах с добавлением special tokens из ржя 80 less repeat replacements & 20 svo\\sv augment\n",
    "* Russian to RSL:  35.96907221402139 на 15 эпохах с добавлением special tokens из ржя 70 less repeat replacements & 30 svo\\sv augment\n",
    "* Russian to RSL:  38.15468267614459 на 15 эпохах с добавлением special tokens из ржя 60 less repeat replacements & 40 svo\\sv augment\n",
    "* Russian to RSL:  37.650750377254276 на 15 эпохах с добавлением special tokens из ржя 50 less repeat replacements & 50 svo\\sv augment\n",
    "* Russian to RSL:  41.461511795834944 на 15 эпохах с добавлением special tokens из ржя 40 less repeat replacements & 60 svo\\sv augment\n",
    "* Russian to RSL:  41.76795308141426 на 15 эпохах с добавлением special tokens из ржя 30 less repeat replacements & 70 svo\\sv augment -- это уже примерно то же самое что сумма этих двух датасетов, они соотносятся как 0.311, так что можно просто сумму взять\n",
    "* Russian to RSL: 39.05822344559681 на 15 эпохах с добавлением special tokens из ржя task-agnostic data, svo/sv augmentation strategy с классификацией + replacements augmentation strategy не больше 4 повторений одной структуры без классификации **20/56/24** (basically whole svo\\sv+replacements and 20% task-agnostic)\n",
    "* Russian to RSL: 33.000636006770314 на 15 эпохах с добавлением special tokens из ржя task-agnostic data, svo/sv augmentation strategy с классификацией + replacements augmentation strategy не больше 4 повторений одной структуры без классификации **30/49/21** (basically whole svo\\sv+replacements and 30% task-agnostic)\n",
    "* Russian to RSL: 32.426547957056044 на 15 эпохах с добавлением special tokens из ржя task-agnostic data, svo/sv augmentation strategy с классификацией + replacements augmentation strategy не больше 4 повторений одной структуры без классификации **40/42/18** (basically whole svo\\sv+replacements and 40% task-agnostic)"
   ]
  },
  {
   "cell_type": "markdown",
   "metadata": {
    "cellId": "hdyro3pd4e22var11zzfk"
   },
   "source": [
    "To mix svo\\sv strategy with replacements strategy in some proportion we need to find out their length:"
   ]
  },
  {
   "cell_type": "code",
   "execution_count": 33,
   "metadata": {
    "cellId": "hp3iz1t3p86j2nudknl1tg"
   },
   "outputs": [
    {
     "name": "stdout",
     "output_type": "stream",
     "text": [
      "27584\n"
     ]
    }
   ],
   "source": [
    "#!g1.1\n",
    "print(len(rared_good) + len(generated_data))"
   ]
  },
  {
   "cell_type": "code",
   "execution_count": 37,
   "metadata": {
    "cellId": "2oy758el4q3ut9gzq9s989"
   },
   "outputs": [
    {
     "data": {
      "text/plain": [
       "20000"
      ]
     },
     "execution_count": 37,
     "metadata": {},
     "output_type": "execute_result"
    }
   ],
   "source": [
    "#!g1.1\n",
    "len(agnostic_data)"
   ]
  },
  {
   "cell_type": "code",
   "execution_count": 38,
   "metadata": {
    "cellId": "vv9dvz8nysl8ycjzjum7yq"
   },
   "outputs": [
    {
     "data": {
      "text/plain": [
       "0.1813"
      ]
     },
     "execution_count": 38,
     "metadata": {},
     "output_type": "execute_result"
    }
   ],
   "source": [
    "#!g1.1\n",
    "percentage_agnostic = (0.2 * len(agnostic_data)) / (0.8 * (len(rared_good) + len(generated_data)))\n",
    "round(percentage_agnostic, 4)"
   ]
  },
  {
   "cell_type": "code",
   "execution_count": 25,
   "metadata": {
    "cellId": "gdjztxfgch3wyma1g5qd3"
   },
   "outputs": [
    {
     "data": {
      "text/plain": [
       "0.3107"
      ]
     },
     "execution_count": 25,
     "metadata": {},
     "output_type": "execute_result"
    }
   ],
   "source": [
    "#!g1.1\n",
    "percentage_agnostic = (0.3 * len(agnostic_data)) / (0.7 * (len(rared_good) + len(generated_data)))\n",
    "round(percentage_agnostic, 4)"
   ]
  },
  {
   "cell_type": "code",
   "execution_count": 40,
   "metadata": {
    "cellId": "9nog6pvq1h7df6fi423g"
   },
   "outputs": [
    {
     "data": {
      "text/plain": [
       "0.4834"
      ]
     },
     "execution_count": 40,
     "metadata": {},
     "output_type": "execute_result"
    }
   ],
   "source": [
    "#!g1.1\n",
    "percentage_agnostic = (0.4 * len(agnostic_data)) / (0.6 * (len(rared_good) + len(generated_data)))\n",
    "round(percentage_agnostic, 4)"
   ]
  },
  {
   "cell_type": "markdown",
   "metadata": {
    "cellId": "6gfqtacex5sr4zlfl7eyjo"
   },
   "source": [
    "If we want 20% svo\\sv + 80% replacements with less repetitions:"
   ]
  },
  {
   "cell_type": "code",
   "execution_count": 43,
   "metadata": {
    "cellId": "7b97t1q3btadhr1v4af1m"
   },
   "outputs": [
    {
     "data": {
      "text/plain": [
       "0.1129"
      ]
     },
     "execution_count": 43,
     "metadata": {},
     "output_type": "execute_result"
    }
   ],
   "source": [
    "#!g1.1\n",
    "#len(generated_data) - 0.8\n",
    "#len(rared_good) * X - 0.2\n",
    "#0.2 * len(generated_data) = 0.8 * len(rared_good) * X\n",
    "\n",
    "percentage_svo = (0.2 * len(generated_data)) / (0.8 * len(rared_good))\n",
    "round(percentage_svo, 4)"
   ]
  },
  {
   "cell_type": "code",
   "execution_count": 47,
   "metadata": {
    "cellId": "ub2ij787sls2ljpm6rcpg9"
   },
   "outputs": [
    {
     "data": {
      "text/plain": [
       "0.1936"
      ]
     },
     "execution_count": 47,
     "metadata": {},
     "output_type": "execute_result"
    }
   ],
   "source": [
    "#!g1.1\n",
    "percentage_svo = (0.3 * len(generated_data)) / (0.7 * len(rared_good))\n",
    "round(percentage_svo, 4)"
   ]
  },
  {
   "cell_type": "code",
   "execution_count": 38,
   "metadata": {
    "cellId": "sf7sr7ti97alpj48yxwths"
   },
   "outputs": [
    {
     "data": {
      "text/plain": [
       "0.3011"
      ]
     },
     "execution_count": 38,
     "metadata": {},
     "output_type": "execute_result"
    }
   ],
   "source": [
    "#!g1.1\n",
    "percentage_svo = (0.4 * len(generated_data)) / (0.6 * len(rared_good))\n",
    "round(percentage_svo, 4)"
   ]
  },
  {
   "cell_type": "code",
   "execution_count": 35,
   "metadata": {
    "cellId": "8yvmv3nbd1afrbhs2fiqyn"
   },
   "outputs": [
    {
     "data": {
      "text/plain": [
       "0.4517"
      ]
     },
     "execution_count": 35,
     "metadata": {},
     "output_type": "execute_result"
    }
   ],
   "source": [
    "#!g1.1\n",
    "percentage_svo = (0.5 * len(generated_data)) / (0.5 * len(rared_good))\n",
    "round(percentage_svo, 4)"
   ]
  },
  {
   "cell_type": "code",
   "execution_count": 36,
   "metadata": {
    "cellId": "xvd9fdtb79grnhxyz62e"
   },
   "outputs": [
    {
     "data": {
      "text/plain": [
       "0.6776"
      ]
     },
     "execution_count": 36,
     "metadata": {},
     "output_type": "execute_result"
    }
   ],
   "source": [
    "#!g1.1\n",
    "percentage_svo = (0.6 * len(generated_data)) / (0.4 * len(rared_good))\n",
    "round(percentage_svo, 4)"
   ]
  },
  {
   "cell_type": "code",
   "execution_count": 33,
   "metadata": {
    "cellId": "qmslqufjp2319w6qdh7sa"
   },
   "outputs": [
    {
     "data": {
      "text/plain": [
       "1.054"
      ]
     },
     "execution_count": 33,
     "metadata": {},
     "output_type": "execute_result"
    }
   ],
   "source": [
    "#!g1.1\n",
    "percentage_svo = (0.7 * len(generated_data)) / (0.3 * len(rared_good))\n",
    "round(percentage_svo, 4)"
   ]
  },
  {
   "cell_type": "code",
   "execution_count": null,
   "metadata": {
    "cellId": "qmaf9dt091om6mfmy47v"
   },
   "outputs": [],
   "source": [
    "#!g1.1\n"
   ]
  },
  {
   "cell_type": "code",
   "execution_count": 25,
   "metadata": {
    "cellId": "1r72pdhteheuvjcp398cvs",
    "colab": {
     "base_uri": "https://localhost:8080/"
    },
    "id": "3cSugSw1OR86",
    "outputId": "acfdba78-a552-442b-f0b9-57276860852b"
   },
   "outputs": [
    {
     "name": "stdout",
     "output_type": "stream",
     "text": [
      "когда и а а а вон я тоже вернуться\t===\tindx дед.мороз clf clf.группа clf.переместить домой clf clf.группа clf.переместить дед.мороз маленький встретить приходить обращение главный 1ps был лес подарок clf clf.перечислять\n",
      "радость лишать я а весь я матче\t===\tмама второй 3ps все радость давать 1ps ноль\n"
     ]
    }
   ],
   "source": [
    "#!g1.1\n",
    "for x, y in zip(rsl_preds[:2], truth_rsl[:2]):\n",
    "    print(x + '\\t' + '===' + '\\t' + y)"
   ]
  },
  {
   "cell_type": "code",
   "execution_count": 23,
   "metadata": {
    "cellId": "u47d7pg99ymdh87c33y43",
    "colab": {
     "base_uri": "https://localhost:8080/"
    },
    "id": "BaLSAkEncvAL",
    "outputId": "dc90e81f-6259-4339-905a-9ba9570279d1"
   },
   "outputs": [
    {
     "data": {
      "text/plain": [
       "('когда и а а а вон я тоже вернуться',\n",
       " 'indx дед.мороз clf clf.группа clf.переместить домой clf clf.группа clf.переместить дед.мороз маленький встретить приходить обращение главный 1ps был лес подарок clf clf.перечислять')"
      ]
     },
     "execution_count": 23,
     "metadata": {},
     "output_type": "execute_result"
    }
   ],
   "source": [
    "#!g1.1 \n",
    "rsl_preds[0], truth_rsl[0]"
   ]
  },
  {
   "cell_type": "code",
   "execution_count": 37,
   "metadata": {
    "cellId": "iuv1q3itkcthv6vatkl4xi",
    "id": "vHIidPL3P8ns"
   },
   "outputs": [],
   "source": [
    "#!g1.1\n",
    "with open(\"predict_15_special_tokens_mix_agn_forty.tsv\", \"w\", encoding=\"utf-8\") as f: \n",
    "    f.write('Russian' + '\\t' + 'Predicted' + '\\t' + 'Truth' + '\\n')\n",
    "    for rus, preds, real in zip(to_rsl, rsl_preds, truth_rsl):\n",
    "        f.write(rus + '\\t' + preds + '\\t' + real + '\\n')"
   ]
  },
  {
   "cell_type": "markdown",
   "metadata": {
    "cellId": "oheo8vhzm7tijpr8u749r",
    "id": "rb0CsML2OeWb"
   },
   "source": [
    "## Classifiers Position Prediction\n",
    "\n",
    "### Number of classifiers in predicted sentences Vs. real glosses\n",
    "\n",
    "Как проверить, что позиция классификатора пресдказывается правильно?\n",
    "\n",
    "* достать из truth_rsl и rsl_preds индексы позиций токенов, начинающихся с clf\n",
    "* отдельная метрика точности не для конкретных позиций классификатора, а просто количество классификаторов в предложении совпадает или не совпадает.\n"
   ]
  },
  {
   "cell_type": "code",
   "execution_count": 30,
   "metadata": {
    "cellId": "efhskp3vruwqo88en5g8bm"
   },
   "outputs": [
    {
     "data": {
      "text/plain": [
       "'indx дед.мороз clf clf.группа clf.переместить домой clf clf.группа clf.переместить дед.мороз маленький встретить приходить обращение главный 1ps был лес подарок clf clf.перечислять'"
      ]
     },
     "execution_count": 30,
     "metadata": {},
     "output_type": "execute_result"
    }
   ],
   "source": [
    "#!g1.1\n",
    "truth_rsl[0]"
   ]
  },
  {
   "cell_type": "code",
   "execution_count": 126,
   "metadata": {
    "cellId": "oe11ubgb8lai7rh8htspq9"
   },
   "outputs": [
    {
     "name": "stdout",
     "output_type": "stream",
     "text": [
      "['indx', 'дед', '.', 'мороз', 'clf', 'clf', '', '.', 'группа', 'clf', '', '.', 'пере', 'мест', 'ить', 'дом', 'ой', 'clf', 'clf', '', '.', 'группа', 'clf', '', '.', 'пере', 'мест', 'ить', 'дед', '.', 'мороз', '', 'маленьк', 'ий', 'встре', 'тить', 'при', 'ходить', 'об', 'ращение', 'глав', 'ный', '1ps', 'был', 'лес', 'подар', 'ок', 'clf', 'clf', '', '.', 'пере', 'числ', 'ять', '</s>']\n",
      "4\n",
      "5\n",
      "9\n",
      "17\n",
      "18\n",
      "22\n",
      "47\n",
      "48\n"
     ]
    }
   ],
   "source": [
    "#!g1.1\n",
    "preds = [\n",
    "    tokenizer.decode(input_id)\n",
    "    for input_id in tokenizer(truth_rsl[0])['input_ids']\n",
    "]\n",
    "\n",
    "print(preds)\n",
    "#print(preds.count('clf'))\n",
    "for position, item in enumerate(preds):\n",
    "    if item == 'clf':\n",
    "        print(position)"
   ]
  },
  {
   "cell_type": "markdown",
   "metadata": {
    "cellId": "4l4pkbtl5ln10ap1hx91"
   },
   "source": [
    "### 6.1.1. Совпадает ли количество классификаторов в переводах и предиктах на тестовой выборке\n",
    "\n",
    "accuracy"
   ]
  },
  {
   "cell_type": "code",
   "execution_count": 121,
   "metadata": {
    "cellId": "tnxldqfoneka6mvexvhg9a"
   },
   "outputs": [
    {
     "name": "stdout",
     "output_type": "stream",
     "text": [
      "86.675 %\n"
     ]
    }
   ],
   "source": [
    "#!g1.1\n",
    "test_length = len(truth_rsl)\n",
    "i = 0\n",
    "for truth, pred in zip(truth_rsl, rsl_preds):\n",
    "    truth_tokens = [\n",
    "        tokenizer.decode(input_id)\n",
    "        for input_id in tokenizer(truth)['input_ids']\n",
    "    ]\n",
    "    pred_tokens = [\n",
    "        tokenizer.decode(input_id)\n",
    "        for input_id in tokenizer(pred)['input_ids']\n",
    "    ]\n",
    "    \n",
    "    truth_clf_n = truth_tokens.count('clf')\n",
    "    pred_clf_n = pred_tokens.count('clf')\n",
    "    if truth_clf_n == pred_clf_n:\n",
    "        i += 1\n",
    "\n",
    "acc_num = i / test_length\n",
    "print(round(acc_num*100, 3), '%')"
   ]
  },
  {
   "cell_type": "markdown",
   "metadata": {
    "cellId": "akpryiamy5g9samm6vdzl"
   },
   "source": [
    "It means that in 86.675% of cases number of classifiers in the predicted sentence is correct on a zero-shot test set.\n",
    "\n",
    "But what about their position in a sentences?"
   ]
  },
  {
   "cell_type": "markdown",
   "metadata": {
    "cellId": "sh9wtx98p1gos2ieu6jun"
   },
   "source": [
    "### 6.1.2. Token position prediction\n",
    "\n",
    "accuracy, precision, recall для позиций (потому что важно знать, сколько было fp, fn, tp, tn)\n",
    "\n",
    "- fp - предсказан классификатор на позиции где его не должно быть\n",
    "- tp - индекс предикта совпал с реальным переводом\n",
    "- tn - нет и не было\n",
    "- fn - нет классификатора там где он должен быть\n",
    "\n",
    "Кажется, это всё-таки дурацкая идея, потому что данных мало, во-первых. А во-вторых, это же языковые данные и если например в начале всё сдвинулось на один жест, а потом идет всё в правильном порядке, то все индексы будут неправильными, но это не будет значить, что всё предложение прямо настолько ужасное"
   ]
  },
  {
   "cell_type": "code",
   "execution_count": 137,
   "metadata": {
    "cellId": "vv9kkkkgawlf541f279k9n"
   },
   "outputs": [],
   "source": [
    "#!g1.1\n",
    "accs = []\n",
    "for truth, pred in zip(truth_rsl, rsl_preds):\n",
    "    truth_tokens = [\n",
    "        tokenizer.decode(input_id)\n",
    "        for input_id in tokenizer(truth)['input_ids']\n",
    "    ]\n",
    "    \n",
    "    if 'clf' in truth_tokens:\n",
    "        \n",
    "        pred_tokens = [\n",
    "            tokenizer.decode(input_id)\n",
    "            for input_id in tokenizer(pred)['input_ids']\n",
    "        ]\n",
    "        \n",
    "        truth_positions, pred_positions = [], []\n",
    "        for position, item in enumerate(truth_tokens):\n",
    "            if item == 'clf':\n",
    "                truth_positions.append(position)\n",
    "        for position, item in enumerate(pred_tokens):\n",
    "            if item == 'clf':\n",
    "                pred_positions.append(position)\n",
    "                \n",
    "        #tn = len(set(truth_positions) - set(pred_positions))\n",
    "        #tp = len(set(pred_positions) & set(truth_positions))\n",
    "        #fp = len(set(pred_positions) - set(truth_positions))\n",
    "        #fn = len()\n",
    "        \n",
    "        acc_per_sent = len(set(pred_positions) & set(truth_positions)) / len(truth_positions)\n",
    "        accs.append(acc_per_sent)"
   ]
  },
  {
   "cell_type": "code",
   "execution_count": 141,
   "metadata": {
    "cellId": "mh6jacb6knk9l7dfpd1nk"
   },
   "outputs": [
    {
     "data": {
      "text/plain": [
       "[<matplotlib.lines.Line2D at 0x7f82a05870a0>]"
      ]
     },
     "execution_count": 141,
     "metadata": {},
     "output_type": "execute_result"
    },
    {
     "data": {
      "image/png": "[encoded data removed]",
      "text/plain": [
       "<Figure size 432x288 with 1 Axes>"
      ]
     },
     "metadata": {
      "needs_background": "light"
     },
     "output_type": "display_data"
    }
   ],
   "source": [
    "#!g1.1\n",
    "from matplotlib import pyplot as plt\n",
    "\n",
    "plt.plot(sorted(accs))"
   ]
  },
  {
   "cell_type": "markdown",
   "metadata": {
    "cellId": "toaswfwnfefiu8p2lolp0h"
   },
   "source": [
    "Короче на уровне совпадения позиций классификаторов совпадений крайне мало. Нет смысла дальше использовать эту метрику."
   ]
  },
  {
   "cell_type": "markdown",
   "metadata": {
    "cellId": "w0886qohv1l2qo86xp22yg"
   },
   "source": [
    "### Fun part"
   ]
  },
  {
   "cell_type": "code",
   "execution_count": 46,
   "metadata": {
    "cellId": "ufzgxe11yeflkohl7mrh"
   },
   "outputs": [],
   "source": [
    "#!g1.1\n",
    "sentence1 = \"Я умею переводить текст на русский жестовый язык.\"\n",
    "sentence2 = \"Этот текст перевела модель машинного перевода.\"\n",
    "to_rsl = [sentence1, sentence2]"
   ]
  },
  {
   "cell_type": "code",
   "execution_count": 47,
   "metadata": {
    "cellId": "lry23ytg1zl89shl1qhk53",
    "collapsed": true,
    "jupyter": {
     "outputs_hidden": true
    }
   },
   "outputs": [
    {
     "data": {
      "application/vnd.jupyter.widget-view+json": {
       "model_id": "d42482729d524ef8b16076be43896e86",
       "version_major": 2,
       "version_minor": 0
      },
      "text/plain": [
       "Generating outputs:   0%|          | 0/1 [00:00<?, ?it/s]"
      ]
     },
     "metadata": {},
     "output_type": "display_data"
    },
    {
     "name": "stderr",
     "output_type": "stream",
     "text": [
      "/home/jupyter/.local/lib/python3.8/site-packages/torch/utils/hooks.py:59: UserWarning: backward hook <function TorchHistory._hook_variable_gradient_stats.<locals>.<lambda> at 0x7fcc4a1ffca0> on tensor will not be serialized.  If this is expected, you can decorate the function with @torch.utils.hooks.unserializable_hook to suppress this warning\n",
      "  warnings.warn(\"backward hook {} on tensor will not be \"\n",
      "/home/jupyter/.local/lib/python3.8/site-packages/torch/utils/hooks.py:59: UserWarning: backward hook <function TorchHistory._hook_variable_gradient_stats.<locals>.<lambda> at 0x7fcc4a1ffdc0> on tensor will not be serialized.  If this is expected, you can decorate the function with @torch.utils.hooks.unserializable_hook to suppress this warning\n",
      "  warnings.warn(\"backward hook {} on tensor will not be \"\n",
      "/home/jupyter/.local/lib/python3.8/site-packages/torch/utils/hooks.py:59: UserWarning: backward hook <function TorchHistory._hook_variable_gradient_stats.<locals>.<lambda> at 0x7fcc4a1ffee0> on tensor will not be serialized.  If this is expected, you can decorate the function with @torch.utils.hooks.unserializable_hook to suppress this warning\n",
      "  warnings.warn(\"backward hook {} on tensor will not be \"\n",
      "/home/jupyter/.local/lib/python3.8/site-packages/torch/utils/hooks.py:59: UserWarning: backward hook <function TorchHistory._hook_variable_gradient_stats.<locals>.<lambda> at 0x7fcc4a16e040> on tensor will not be serialized.  If this is expected, you can decorate the function with @torch.utils.hooks.unserializable_hook to suppress this warning\n",
      "  warnings.warn(\"backward hook {} on tensor will not be \"\n",
      "/home/jupyter/.local/lib/python3.8/site-packages/torch/utils/hooks.py:59: UserWarning: backward hook <function TorchHistory._hook_variable_gradient_stats.<locals>.<lambda> at 0x7fcc4a16e160> on tensor will not be serialized.  If this is expected, you can decorate the function with @torch.utils.hooks.unserializable_hook to suppress this warning\n",
      "  warnings.warn(\"backward hook {} on tensor will not be \"\n",
      "/home/jupyter/.local/lib/python3.8/site-packages/torch/utils/hooks.py:59: UserWarning: backward hook <function TorchHistory._hook_variable_gradient_stats.<locals>.<lambda> at 0x7fcc4a16e280> on tensor will not be serialized.  If this is expected, you can decorate the function with @torch.utils.hooks.unserializable_hook to suppress this warning\n",
      "  warnings.warn(\"backward hook {} on tensor will not be \"\n",
      "/home/jupyter/.local/lib/python3.8/site-packages/torch/utils/hooks.py:59: UserWarning: backward hook <function TorchHistory._hook_variable_gradient_stats.<locals>.<lambda> at 0x7fcc4a16e3a0> on tensor will not be serialized.  If this is expected, you can decorate the function with @torch.utils.hooks.unserializable_hook to suppress this warning\n",
      "  warnings.warn(\"backward hook {} on tensor will not be \"\n",
      "/home/jupyter/.local/lib/python3.8/site-packages/torch/utils/hooks.py:59: UserWarning: backward hook <function TorchHistory._hook_variable_gradient_stats.<locals>.<lambda> at 0x7fcc4a16e4c0> on tensor will not be serialized.  If this is expected, you can decorate the function with @torch.utils.hooks.unserializable_hook to suppress this warning\n",
      "  warnings.warn(\"backward hook {} on tensor will not be \"\n",
      "/home/jupyter/.local/lib/python3.8/site-packages/torch/utils/hooks.py:59: UserWarning: backward hook <function TorchHistory._hook_variable_gradient_stats.<locals>.<lambda> at 0x7fcc4a16e5e0> on tensor will not be serialized.  If this is expected, you can decorate the function with @torch.utils.hooks.unserializable_hook to suppress this warning\n",
      "  warnings.warn(\"backward hook {} on tensor will not be \"\n",
      "/home/jupyter/.local/lib/python3.8/site-packages/torch/utils/hooks.py:59: UserWarning: backward hook <function TorchHistory._hook_variable_gradient_stats.<locals>.<lambda> at 0x7fcc4a16e700> on tensor will not be serialized.  If this is expected, you can decorate the function with @torch.utils.hooks.unserializable_hook to suppress this warning\n",
      "  warnings.warn(\"backward hook {} on tensor will not be \"\n",
      "/home/jupyter/.local/lib/python3.8/site-packages/torch/utils/hooks.py:59: UserWarning: backward hook <function TorchHistory._hook_variable_gradient_stats.<locals>.<lambda> at 0x7fcc4a16e820> on tensor will not be serialized.  If this is expected, you can decorate the function with @torch.utils.hooks.unserializable_hook to suppress this warning\n",
      "  warnings.warn(\"backward hook {} on tensor will not be \"\n",
      "/home/jupyter/.local/lib/python3.8/site-packages/torch/utils/hooks.py:59: UserWarning: backward hook <function TorchHistory._hook_variable_gradient_stats.<locals>.<lambda> at 0x7fcc4a16e940> on tensor will not be serialized.  If this is expected, you can decorate the function with @torch.utils.hooks.unserializable_hook to suppress this warning\n",
      "  warnings.warn(\"backward hook {} on tensor will not be \"\n",
      "/home/jupyter/.local/lib/python3.8/site-packages/torch/utils/hooks.py:59: UserWarning: backward hook <function TorchHistory._hook_variable_gradient_stats.<locals>.<lambda> at 0x7fcc4a16ea60> on tensor will not be serialized.  If this is expected, you can decorate the function with @torch.utils.hooks.unserializable_hook to suppress this warning\n",
      "  warnings.warn(\"backward hook {} on tensor will not be \"\n",
      "/home/jupyter/.local/lib/python3.8/site-packages/torch/utils/hooks.py:59: UserWarning: backward hook <function TorchHistory._hook_variable_gradient_stats.<locals>.<lambda> at 0x7fcc4a16eb80> on tensor will not be serialized.  If this is expected, you can decorate the function with @torch.utils.hooks.unserializable_hook to suppress this warning\n",
      "  warnings.warn(\"backward hook {} on tensor will not be \"\n",
      "/home/jupyter/.local/lib/python3.8/site-packages/torch/utils/hooks.py:59: UserWarning: backward hook <function TorchHistory._hook_variable_gradient_stats.<locals>.<lambda> at 0x7fcc4a16eca0> on tensor will not be serialized.  If this is expected, you can decorate the function with @torch.utils.hooks.unserializable_hook to suppress this warning\n",
      "  warnings.warn(\"backward hook {} on tensor will not be \"\n",
      "/home/jupyter/.local/lib/python3.8/site-packages/torch/utils/hooks.py:59: UserWarning: backward hook <function TorchHistory._hook_variable_gradient_stats.<locals>.<lambda> at 0x7fcc4a16edc0> on tensor will not be serialized.  If this is expected, you can decorate the function with @torch.utils.hooks.unserializable_hook to suppress this warning\n",
      "  warnings.warn(\"backward hook {} on tensor will not be \"\n",
      "/home/jupyter/.local/lib/python3.8/site-packages/torch/utils/hooks.py:59: UserWarning: backward hook <function TorchHistory._hook_variable_gradient_stats.<locals>.<lambda> at 0x7fcc4a16eee0> on tensor will not be serialized.  If this is expected, you can decorate the function with @torch.utils.hooks.unserializable_hook to suppress this warning\n",
      "  warnings.warn(\"backward hook {} on tensor will not be \"\n",
      "/home/jupyter/.local/lib/python3.8/site-packages/torch/utils/hooks.py:59: UserWarning: backward hook <function TorchHistory._hook_variable_gradient_stats.<locals>.<lambda> at 0x7fcc4a172040> on tensor will not be serialized.  If this is expected, you can decorate the function with @torch.utils.hooks.unserializable_hook to suppress this warning\n",
      "  warnings.warn(\"backward hook {} on tensor will not be \"\n",
      "/home/jupyter/.local/lib/python3.8/site-packages/torch/utils/hooks.py:59: UserWarning: backward hook <function TorchHistory._hook_variable_gradient_stats.<locals>.<lambda> at 0x7fcc4a172160> on tensor will not be serialized.  If this is expected, you can decorate the function with @torch.utils.hooks.unserializable_hook to suppress this warning\n",
      "  warnings.warn(\"backward hook {} on tensor will not be \"\n",
      "/home/jupyter/.local/lib/python3.8/site-packages/torch/utils/hooks.py:59: UserWarning: backward hook <function TorchHistory._hook_variable_gradient_stats.<locals>.<lambda> at 0x7fcc4a172280> on tensor will not be serialized.  If this is expected, you can decorate the function with @torch.utils.hooks.unserializable_hook to suppress this warning\n",
      "  warnings.warn(\"backward hook {} on tensor will not be \"\n",
      "/home/jupyter/.local/lib/python3.8/site-packages/torch/utils/hooks.py:59: UserWarning: backward hook <function TorchHistory._hook_variable_gradient_stats.<locals>.<lambda> at 0x7fcc4a1723a0> on tensor will not be serialized.  If this is expected, you can decorate the function with @torch.utils.hooks.unserializable_hook to suppress this warning\n",
      "  warnings.warn(\"backward hook {} on tensor will not be \"\n",
      "/home/jupyter/.local/lib/python3.8/site-packages/torch/utils/hooks.py:59: UserWarning: backward hook <function TorchHistory._hook_variable_gradient_stats.<locals>.<lambda> at 0x7fcc4a1724c0> on tensor will not be serialized.  If this is expected, you can decorate the function with @torch.utils.hooks.unserializable_hook to suppress this warning\n",
      "  warnings.warn(\"backward hook {} on tensor will not be \"\n",
      "/home/jupyter/.local/lib/python3.8/site-packages/torch/utils/hooks.py:59: UserWarning: backward hook <function TorchHistory._hook_variable_gradient_stats.<locals>.<lambda> at 0x7fcc4a1725e0> on tensor will not be serialized.  If this is expected, you can decorate the function with @torch.utils.hooks.unserializable_hook to suppress this warning\n",
      "  warnings.warn(\"backward hook {} on tensor will not be \"\n",
      "/home/jupyter/.local/lib/python3.8/site-packages/torch/utils/hooks.py:59: UserWarning: backward hook <function TorchHistory._hook_variable_gradient_stats.<locals>.<lambda> at 0x7fcc4a172700> on tensor will not be serialized.  If this is expected, you can decorate the function with @torch.utils.hooks.unserializable_hook to suppress this warning\n",
      "  warnings.warn(\"backward hook {} on tensor will not be \"\n",
      "/home/jupyter/.local/lib/python3.8/site-packages/torch/utils/hooks.py:59: UserWarning: backward hook <function TorchHistory._hook_variable_gradient_stats.<locals>.<lambda> at 0x7fcc4a172820> on tensor will not be serialized.  If this is expected, you can decorate the function with @torch.utils.hooks.unserializable_hook to suppress this warning\n",
      "  warnings.warn(\"backward hook {} on tensor will not be \"\n",
      "/home/jupyter/.local/lib/python3.8/site-packages/torch/utils/hooks.py:59: UserWarning: backward hook <function TorchHistory._hook_variable_gradient_stats.<locals>.<lambda> at 0x7fcc4a172940> on tensor will not be serialized.  If this is expected, you can decorate the function with @torch.utils.hooks.unserializable_hook to suppress this warning\n",
      "  warnings.warn(\"backward hook {} on tensor will not be \"\n",
      "/home/jupyter/.local/lib/python3.8/site-packages/torch/utils/hooks.py:59: UserWarning: backward hook <function TorchHistory._hook_variable_gradient_stats.<locals>.<lambda> at 0x7fcc4a172a60> on tensor will not be serialized.  If this is expected, you can decorate the function with @torch.utils.hooks.unserializable_hook to suppress this warning\n",
      "  warnings.warn(\"backward hook {} on tensor will not be \"\n",
      "/home/jupyter/.local/lib/python3.8/site-packages/torch/utils/hooks.py:59: UserWarning: backward hook <function TorchHistory._hook_variable_gradient_stats.<locals>.<lambda> at 0x7fcc4a172b80> on tensor will not be serialized.  If this is expected, you can decorate the function with @torch.utils.hooks.unserializable_hook to suppress this warning\n",
      "  warnings.warn(\"backward hook {} on tensor will not be \"\n",
      "/home/jupyter/.local/lib/python3.8/site-packages/torch/utils/hooks.py:59: UserWarning: backward hook <function TorchHistory._hook_variable_gradient_stats.<locals>.<lambda> at 0x7fcc4a172ca0> on tensor will not be serialized.  If this is expected, you can decorate the function with @torch.utils.hooks.unserializable_hook to suppress this warning\n",
      "  warnings.warn(\"backward hook {} on tensor will not be \"\n",
      "/home/jupyter/.local/lib/python3.8/site-packages/torch/utils/hooks.py:59: UserWarning: backward hook <function TorchHistory._hook_variable_gradient_stats.<locals>.<lambda> at 0x7fcc4a172dc0> on tensor will not be serialized.  If this is expected, you can decorate the function with @torch.utils.hooks.unserializable_hook to suppress this warning\n",
      "  warnings.warn(\"backward hook {} on tensor will not be \"\n",
      "/home/jupyter/.local/lib/python3.8/site-packages/torch/utils/hooks.py:59: UserWarning: backward hook <function TorchHistory._hook_variable_gradient_stats.<locals>.<lambda> at 0x7fcc4a172ee0> on tensor will not be serialized.  If this is expected, you can decorate the function with @torch.utils.hooks.unserializable_hook to suppress this warning\n",
      "  warnings.warn(\"backward hook {} on tensor will not be \"\n",
      "/home/jupyter/.local/lib/python3.8/site-packages/torch/utils/hooks.py:59: UserWarning: backward hook <function TorchHistory._hook_variable_gradient_stats.<locals>.<lambda> at 0x7fcc4a176040> on tensor will not be serialized.  If this is expected, you can decorate the function with @torch.utils.hooks.unserializable_hook to suppress this warning\n",
      "  warnings.warn(\"backward hook {} on tensor will not be \"\n",
      "/home/jupyter/.local/lib/python3.8/site-packages/torch/utils/hooks.py:59: UserWarning: backward hook <function TorchHistory._hook_variable_gradient_stats.<locals>.<lambda> at 0x7fcc4a176160> on tensor will not be serialized.  If this is expected, you can decorate the function with @torch.utils.hooks.unserializable_hook to suppress this warning\n",
      "  warnings.warn(\"backward hook {} on tensor will not be \"\n",
      "/home/jupyter/.local/lib/python3.8/site-packages/torch/utils/hooks.py:59: UserWarning: backward hook <function TorchHistory._hook_variable_gradient_stats.<locals>.<lambda> at 0x7fcc4a176280> on tensor will not be serialized.  If this is expected, you can decorate the function with @torch.utils.hooks.unserializable_hook to suppress this warning\n",
      "  warnings.warn(\"backward hook {} on tensor will not be \"\n",
      "/home/jupyter/.local/lib/python3.8/site-packages/torch/utils/hooks.py:59: UserWarning: backward hook <function TorchHistory._hook_variable_gradient_stats.<locals>.<lambda> at 0x7fcc4a1763a0> on tensor will not be serialized.  If this is expected, you can decorate the function with @torch.utils.hooks.unserializable_hook to suppress this warning\n",
      "  warnings.warn(\"backward hook {} on tensor will not be \"\n",
      "/home/jupyter/.local/lib/python3.8/site-packages/torch/utils/hooks.py:59: UserWarning: backward hook <function TorchHistory._hook_variable_gradient_stats.<locals>.<lambda> at 0x7fcc4a1764c0> on tensor will not be serialized.  If this is expected, you can decorate the function with @torch.utils.hooks.unserializable_hook to suppress this warning\n",
      "  warnings.warn(\"backward hook {} on tensor will not be \"\n",
      "/home/jupyter/.local/lib/python3.8/site-packages/torch/utils/hooks.py:59: UserWarning: backward hook <function TorchHistory._hook_variable_gradient_stats.<locals>.<lambda> at 0x7fcc4a1765e0> on tensor will not be serialized.  If this is expected, you can decorate the function with @torch.utils.hooks.unserializable_hook to suppress this warning\n",
      "  warnings.warn(\"backward hook {} on tensor will not be \"\n",
      "/home/jupyter/.local/lib/python3.8/site-packages/torch/utils/hooks.py:59: UserWarning: backward hook <function TorchHistory._hook_variable_gradient_stats.<locals>.<lambda> at 0x7fcc4a176700> on tensor will not be serialized.  If this is expected, you can decorate the function with @torch.utils.hooks.unserializable_hook to suppress this warning\n",
      "  warnings.warn(\"backward hook {} on tensor will not be \"\n",
      "/home/jupyter/.local/lib/python3.8/site-packages/torch/utils/hooks.py:59: UserWarning: backward hook <function TorchHistory._hook_variable_gradient_stats.<locals>.<lambda> at 0x7fcc4a176820> on tensor will not be serialized.  If this is expected, you can decorate the function with @torch.utils.hooks.unserializable_hook to suppress this warning\n",
      "  warnings.warn(\"backward hook {} on tensor will not be \"\n",
      "/home/jupyter/.local/lib/python3.8/site-packages/torch/utils/hooks.py:59: UserWarning: backward hook <function TorchHistory._hook_variable_gradient_stats.<locals>.<lambda> at 0x7fcc4a176940> on tensor will not be serialized.  If this is expected, you can decorate the function with @torch.utils.hooks.unserializable_hook to suppress this warning\n",
      "  warnings.warn(\"backward hook {} on tensor will not be \"\n",
      "/home/jupyter/.local/lib/python3.8/site-packages/torch/utils/hooks.py:59: UserWarning: backward hook <function TorchHistory._hook_variable_gradient_stats.<locals>.<lambda> at 0x7fcc4a176a60> on tensor will not be serialized.  If this is expected, you can decorate the function with @torch.utils.hooks.unserializable_hook to suppress this warning\n",
      "  warnings.warn(\"backward hook {} on tensor will not be \"\n",
      "/home/jupyter/.local/lib/python3.8/site-packages/torch/utils/hooks.py:59: UserWarning: backward hook <function TorchHistory._hook_variable_gradient_stats.<locals>.<lambda> at 0x7fcc4a176b80> on tensor will not be serialized.  If this is expected, you can decorate the function with @torch.utils.hooks.unserializable_hook to suppress this warning\n",
      "  warnings.warn(\"backward hook {} on tensor will not be \"\n",
      "/home/jupyter/.local/lib/python3.8/site-packages/torch/utils/hooks.py:59: UserWarning: backward hook <function TorchHistory._hook_variable_gradient_stats.<locals>.<lambda> at 0x7fcc4a176ca0> on tensor will not be serialized.  If this is expected, you can decorate the function with @torch.utils.hooks.unserializable_hook to suppress this warning\n",
      "  warnings.warn(\"backward hook {} on tensor will not be \"\n",
      "/home/jupyter/.local/lib/python3.8/site-packages/torch/utils/hooks.py:59: UserWarning: backward hook <function TorchHistory._hook_variable_gradient_stats.<locals>.<lambda> at 0x7fcc4a176dc0> on tensor will not be serialized.  If this is expected, you can decorate the function with @torch.utils.hooks.unserializable_hook to suppress this warning\n",
      "  warnings.warn(\"backward hook {} on tensor will not be \"\n",
      "/home/jupyter/.local/lib/python3.8/site-packages/torch/utils/hooks.py:59: UserWarning: backward hook <function TorchHistory._hook_variable_gradient_stats.<locals>.<lambda> at 0x7fcc4a176ee0> on tensor will not be serialized.  If this is expected, you can decorate the function with @torch.utils.hooks.unserializable_hook to suppress this warning\n",
      "  warnings.warn(\"backward hook {} on tensor will not be \"\n",
      "/home/jupyter/.local/lib/python3.8/site-packages/torch/utils/hooks.py:59: UserWarning: backward hook <function TorchHistory._hook_variable_gradient_stats.<locals>.<lambda> at 0x7fcc4a179040> on tensor will not be serialized.  If this is expected, you can decorate the function with @torch.utils.hooks.unserializable_hook to suppress this warning\n",
      "  warnings.warn(\"backward hook {} on tensor will not be \"\n",
      "/home/jupyter/.local/lib/python3.8/site-packages/torch/utils/hooks.py:59: UserWarning: backward hook <function TorchHistory._hook_variable_gradient_stats.<locals>.<lambda> at 0x7fcc4a179160> on tensor will not be serialized.  If this is expected, you can decorate the function with @torch.utils.hooks.unserializable_hook to suppress this warning\n",
      "  warnings.warn(\"backward hook {} on tensor will not be \"\n",
      "/home/jupyter/.local/lib/python3.8/site-packages/torch/utils/hooks.py:59: UserWarning: backward hook <function TorchHistory._hook_variable_gradient_stats.<locals>.<lambda> at 0x7fcc4a179280> on tensor will not be serialized.  If this is expected, you can decorate the function with @torch.utils.hooks.unserializable_hook to suppress this warning\n",
      "  warnings.warn(\"backward hook {} on tensor will not be \"\n",
      "/home/jupyter/.local/lib/python3.8/site-packages/torch/utils/hooks.py:59: UserWarning: backward hook <function TorchHistory._hook_variable_gradient_stats.<locals>.<lambda> at 0x7fcc4a1793a0> on tensor will not be serialized.  If this is expected, you can decorate the function with @torch.utils.hooks.unserializable_hook to suppress this warning\n",
      "  warnings.warn(\"backward hook {} on tensor will not be \"\n",
      "/home/jupyter/.local/lib/python3.8/site-packages/torch/utils/hooks.py:59: UserWarning: backward hook <function TorchHistory._hook_variable_gradient_stats.<locals>.<lambda> at 0x7fcc4a1794c0> on tensor will not be serialized.  If this is expected, you can decorate the function with @torch.utils.hooks.unserializable_hook to suppress this warning\n",
      "  warnings.warn(\"backward hook {} on tensor will not be \"\n",
      "/home/jupyter/.local/lib/python3.8/site-packages/torch/utils/hooks.py:59: UserWarning: backward hook <function TorchHistory._hook_variable_gradient_stats.<locals>.<lambda> at 0x7fcc4a1795e0> on tensor will not be serialized.  If this is expected, you can decorate the function with @torch.utils.hooks.unserializable_hook to suppress this warning\n",
      "  warnings.warn(\"backward hook {} on tensor will not be \"\n",
      "/home/jupyter/.local/lib/python3.8/site-packages/torch/utils/hooks.py:59: UserWarning: backward hook <function TorchHistory._hook_variable_gradient_stats.<locals>.<lambda> at 0x7fcc4a179700> on tensor will not be serialized.  If this is expected, you can decorate the function with @torch.utils.hooks.unserializable_hook to suppress this warning\n",
      "  warnings.warn(\"backward hook {} on tensor will not be \"\n",
      "/home/jupyter/.local/lib/python3.8/site-packages/torch/utils/hooks.py:59: UserWarning: backward hook <function TorchHistory._hook_variable_gradient_stats.<locals>.<lambda> at 0x7fcc4a179820> on tensor will not be serialized.  If this is expected, you can decorate the function with @torch.utils.hooks.unserializable_hook to suppress this warning\n",
      "  warnings.warn(\"backward hook {} on tensor will not be \"\n",
      "/home/jupyter/.local/lib/python3.8/site-packages/torch/utils/hooks.py:59: UserWarning: backward hook <function TorchHistory._hook_variable_gradient_stats.<locals>.<lambda> at 0x7fcc4a179940> on tensor will not be serialized.  If this is expected, you can decorate the function with @torch.utils.hooks.unserializable_hook to suppress this warning\n",
      "  warnings.warn(\"backward hook {} on tensor will not be \"\n",
      "/home/jupyter/.local/lib/python3.8/site-packages/torch/utils/hooks.py:59: UserWarning: backward hook <function TorchHistory._hook_variable_gradient_stats.<locals>.<lambda> at 0x7fcc4a179a60> on tensor will not be serialized.  If this is expected, you can decorate the function with @torch.utils.hooks.unserializable_hook to suppress this warning\n",
      "  warnings.warn(\"backward hook {} on tensor will not be \"\n",
      "/home/jupyter/.local/lib/python3.8/site-packages/torch/utils/hooks.py:59: UserWarning: backward hook <function TorchHistory._hook_variable_gradient_stats.<locals>.<lambda> at 0x7fcc4a179b80> on tensor will not be serialized.  If this is expected, you can decorate the function with @torch.utils.hooks.unserializable_hook to suppress this warning\n",
      "  warnings.warn(\"backward hook {} on tensor will not be \"\n",
      "/home/jupyter/.local/lib/python3.8/site-packages/torch/utils/hooks.py:59: UserWarning: backward hook <function TorchHistory._hook_variable_gradient_stats.<locals>.<lambda> at 0x7fcc4a179ca0> on tensor will not be serialized.  If this is expected, you can decorate the function with @torch.utils.hooks.unserializable_hook to suppress this warning\n",
      "  warnings.warn(\"backward hook {} on tensor will not be \"\n",
      "/home/jupyter/.local/lib/python3.8/site-packages/torch/utils/hooks.py:59: UserWarning: backward hook <function TorchHistory._hook_variable_gradient_stats.<locals>.<lambda> at 0x7fcc4a179dc0> on tensor will not be serialized.  If this is expected, you can decorate the function with @torch.utils.hooks.unserializable_hook to suppress this warning\n",
      "  warnings.warn(\"backward hook {} on tensor will not be \"\n",
      "/home/jupyter/.local/lib/python3.8/site-packages/torch/utils/hooks.py:59: UserWarning: backward hook <function TorchHistory._hook_variable_gradient_stats.<locals>.<lambda> at 0x7fcc4a179ee0> on tensor will not be serialized.  If this is expected, you can decorate the function with @torch.utils.hooks.unserializable_hook to suppress this warning\n",
      "  warnings.warn(\"backward hook {} on tensor will not be \"\n",
      "/home/jupyter/.local/lib/python3.8/site-packages/torch/utils/hooks.py:59: UserWarning: backward hook <function TorchHistory._hook_variable_gradient_stats.<locals>.<lambda> at 0x7fcc4a17d040> on tensor will not be serialized.  If this is expected, you can decorate the function with @torch.utils.hooks.unserializable_hook to suppress this warning\n",
      "  warnings.warn(\"backward hook {} on tensor will not be \"\n",
      "/home/jupyter/.local/lib/python3.8/site-packages/torch/utils/hooks.py:59: UserWarning: backward hook <function TorchHistory._hook_variable_gradient_stats.<locals>.<lambda> at 0x7fcc4a17d160> on tensor will not be serialized.  If this is expected, you can decorate the function with @torch.utils.hooks.unserializable_hook to suppress this warning\n",
      "  warnings.warn(\"backward hook {} on tensor will not be \"\n",
      "/home/jupyter/.local/lib/python3.8/site-packages/torch/utils/hooks.py:59: UserWarning: backward hook <function TorchHistory._hook_variable_gradient_stats.<locals>.<lambda> at 0x7fcc4a17d280> on tensor will not be serialized.  If this is expected, you can decorate the function with @torch.utils.hooks.unserializable_hook to suppress this warning\n",
      "  warnings.warn(\"backward hook {} on tensor will not be \"\n",
      "/home/jupyter/.local/lib/python3.8/site-packages/torch/utils/hooks.py:59: UserWarning: backward hook <function TorchHistory._hook_variable_gradient_stats.<locals>.<lambda> at 0x7fcc4a17d3a0> on tensor will not be serialized.  If this is expected, you can decorate the function with @torch.utils.hooks.unserializable_hook to suppress this warning\n",
      "  warnings.warn(\"backward hook {} on tensor will not be \"\n",
      "/home/jupyter/.local/lib/python3.8/site-packages/torch/utils/hooks.py:59: UserWarning: backward hook <function TorchHistory._hook_variable_gradient_stats.<locals>.<lambda> at 0x7fcc4a17d4c0> on tensor will not be serialized.  If this is expected, you can decorate the function with @torch.utils.hooks.unserializable_hook to suppress this warning\n",
      "  warnings.warn(\"backward hook {} on tensor will not be \"\n",
      "/home/jupyter/.local/lib/python3.8/site-packages/torch/utils/hooks.py:59: UserWarning: backward hook <function TorchHistory._hook_variable_gradient_stats.<locals>.<lambda> at 0x7fcc4a17d5e0> on tensor will not be serialized.  If this is expected, you can decorate the function with @torch.utils.hooks.unserializable_hook to suppress this warning\n",
      "  warnings.warn(\"backward hook {} on tensor will not be \"\n",
      "/home/jupyter/.local/lib/python3.8/site-packages/torch/utils/hooks.py:59: UserWarning: backward hook <function TorchHistory._hook_variable_gradient_stats.<locals>.<lambda> at 0x7fcc4a17d700> on tensor will not be serialized.  If this is expected, you can decorate the function with @torch.utils.hooks.unserializable_hook to suppress this warning\n",
      "  warnings.warn(\"backward hook {} on tensor will not be \"\n",
      "/home/jupyter/.local/lib/python3.8/site-packages/torch/utils/hooks.py:59: UserWarning: backward hook <function TorchHistory._hook_variable_gradient_stats.<locals>.<lambda> at 0x7fcc4a17d820> on tensor will not be serialized.  If this is expected, you can decorate the function with @torch.utils.hooks.unserializable_hook to suppress this warning\n",
      "  warnings.warn(\"backward hook {} on tensor will not be \"\n",
      "/home/jupyter/.local/lib/python3.8/site-packages/torch/utils/hooks.py:59: UserWarning: backward hook <function TorchHistory._hook_variable_gradient_stats.<locals>.<lambda> at 0x7fcc4a17d940> on tensor will not be serialized.  If this is expected, you can decorate the function with @torch.utils.hooks.unserializable_hook to suppress this warning\n",
      "  warnings.warn(\"backward hook {} on tensor will not be \"\n",
      "/home/jupyter/.local/lib/python3.8/site-packages/torch/utils/hooks.py:59: UserWarning: backward hook <function TorchHistory._hook_variable_gradient_stats.<locals>.<lambda> at 0x7fcc4a17da60> on tensor will not be serialized.  If this is expected, you can decorate the function with @torch.utils.hooks.unserializable_hook to suppress this warning\n",
      "  warnings.warn(\"backward hook {} on tensor will not be \"\n",
      "/home/jupyter/.local/lib/python3.8/site-packages/torch/utils/hooks.py:59: UserWarning: backward hook <function TorchHistory._hook_variable_gradient_stats.<locals>.<lambda> at 0x7fcc4a17db80> on tensor will not be serialized.  If this is expected, you can decorate the function with @torch.utils.hooks.unserializable_hook to suppress this warning\n",
      "  warnings.warn(\"backward hook {} on tensor will not be \"\n",
      "/home/jupyter/.local/lib/python3.8/site-packages/torch/utils/hooks.py:59: UserWarning: backward hook <function TorchHistory._hook_variable_gradient_stats.<locals>.<lambda> at 0x7fcc4a17dca0> on tensor will not be serialized.  If this is expected, you can decorate the function with @torch.utils.hooks.unserializable_hook to suppress this warning\n",
      "  warnings.warn(\"backward hook {} on tensor will not be \"\n",
      "/home/jupyter/.local/lib/python3.8/site-packages/torch/utils/hooks.py:59: UserWarning: backward hook <function TorchHistory._hook_variable_gradient_stats.<locals>.<lambda> at 0x7fcc4a17ddc0> on tensor will not be serialized.  If this is expected, you can decorate the function with @torch.utils.hooks.unserializable_hook to suppress this warning\n",
      "  warnings.warn(\"backward hook {} on tensor will not be \"\n",
      "/home/jupyter/.local/lib/python3.8/site-packages/torch/utils/hooks.py:59: UserWarning: backward hook <function TorchHistory._hook_variable_gradient_stats.<locals>.<lambda> at 0x7fcc4a17dee0> on tensor will not be serialized.  If this is expected, you can decorate the function with @torch.utils.hooks.unserializable_hook to suppress this warning\n",
      "  warnings.warn(\"backward hook {} on tensor will not be \"\n",
      "/home/jupyter/.local/lib/python3.8/site-packages/torch/utils/hooks.py:59: UserWarning: backward hook <function TorchHistory._hook_variable_gradient_stats.<locals>.<lambda> at 0x7fcc4a180040> on tensor will not be serialized.  If this is expected, you can decorate the function with @torch.utils.hooks.unserializable_hook to suppress this warning\n",
      "  warnings.warn(\"backward hook {} on tensor will not be \"\n",
      "/home/jupyter/.local/lib/python3.8/site-packages/torch/utils/hooks.py:59: UserWarning: backward hook <function TorchHistory._hook_variable_gradient_stats.<locals>.<lambda> at 0x7fcc4a180160> on tensor will not be serialized.  If this is expected, you can decorate the function with @torch.utils.hooks.unserializable_hook to suppress this warning\n",
      "  warnings.warn(\"backward hook {} on tensor will not be \"\n",
      "/home/jupyter/.local/lib/python3.8/site-packages/torch/utils/hooks.py:59: UserWarning: backward hook <function TorchHistory._hook_variable_gradient_stats.<locals>.<lambda> at 0x7fcc4a180280> on tensor will not be serialized.  If this is expected, you can decorate the function with @torch.utils.hooks.unserializable_hook to suppress this warning\n",
      "  warnings.warn(\"backward hook {} on tensor will not be \"\n",
      "/home/jupyter/.local/lib/python3.8/site-packages/torch/utils/hooks.py:59: UserWarning: backward hook <function TorchHistory._hook_variable_gradient_stats.<locals>.<lambda> at 0x7fcc4a1803a0> on tensor will not be serialized.  If this is expected, you can decorate the function with @torch.utils.hooks.unserializable_hook to suppress this warning\n",
      "  warnings.warn(\"backward hook {} on tensor will not be \"\n",
      "/home/jupyter/.local/lib/python3.8/site-packages/torch/utils/hooks.py:59: UserWarning: backward hook <function TorchHistory._hook_variable_gradient_stats.<locals>.<lambda> at 0x7fcc4a1804c0> on tensor will not be serialized.  If this is expected, you can decorate the function with @torch.utils.hooks.unserializable_hook to suppress this warning\n",
      "  warnings.warn(\"backward hook {} on tensor will not be \"\n",
      "/home/jupyter/.local/lib/python3.8/site-packages/torch/utils/hooks.py:59: UserWarning: backward hook <function TorchHistory._hook_variable_gradient_stats.<locals>.<lambda> at 0x7fcc4a1805e0> on tensor will not be serialized.  If this is expected, you can decorate the function with @torch.utils.hooks.unserializable_hook to suppress this warning\n",
      "  warnings.warn(\"backward hook {} on tensor will not be \"\n",
      "/home/jupyter/.local/lib/python3.8/site-packages/torch/utils/hooks.py:59: UserWarning: backward hook <function TorchHistory._hook_variable_gradient_stats.<locals>.<lambda> at 0x7fcc4a180700> on tensor will not be serialized.  If this is expected, you can decorate the function with @torch.utils.hooks.unserializable_hook to suppress this warning\n",
      "  warnings.warn(\"backward hook {} on tensor will not be \"\n",
      "/home/jupyter/.local/lib/python3.8/site-packages/torch/utils/hooks.py:59: UserWarning: backward hook <function TorchHistory._hook_variable_gradient_stats.<locals>.<lambda> at 0x7fcc4a180820> on tensor will not be serialized.  If this is expected, you can decorate the function with @torch.utils.hooks.unserializable_hook to suppress this warning\n",
      "  warnings.warn(\"backward hook {} on tensor will not be \"\n",
      "/home/jupyter/.local/lib/python3.8/site-packages/torch/utils/hooks.py:59: UserWarning: backward hook <function TorchHistory._hook_variable_gradient_stats.<locals>.<lambda> at 0x7fcc4a180940> on tensor will not be serialized.  If this is expected, you can decorate the function with @torch.utils.hooks.unserializable_hook to suppress this warning\n",
      "  warnings.warn(\"backward hook {} on tensor will not be \"\n",
      "/home/jupyter/.local/lib/python3.8/site-packages/torch/utils/hooks.py:59: UserWarning: backward hook <function TorchHistory._hook_variable_gradient_stats.<locals>.<lambda> at 0x7fcc4a180a60> on tensor will not be serialized.  If this is expected, you can decorate the function with @torch.utils.hooks.unserializable_hook to suppress this warning\n",
      "  warnings.warn(\"backward hook {} on tensor will not be \"\n",
      "/home/jupyter/.local/lib/python3.8/site-packages/torch/utils/hooks.py:59: UserWarning: backward hook <function TorchHistory._hook_variable_gradient_stats.<locals>.<lambda> at 0x7fcc4a180b80> on tensor will not be serialized.  If this is expected, you can decorate the function with @torch.utils.hooks.unserializable_hook to suppress this warning\n",
      "  warnings.warn(\"backward hook {} on tensor will not be \"\n",
      "/home/jupyter/.local/lib/python3.8/site-packages/torch/utils/hooks.py:59: UserWarning: backward hook <function TorchHistory._hook_variable_gradient_stats.<locals>.<lambda> at 0x7fcc4a180ca0> on tensor will not be serialized.  If this is expected, you can decorate the function with @torch.utils.hooks.unserializable_hook to suppress this warning\n",
      "  warnings.warn(\"backward hook {} on tensor will not be \"\n",
      "/home/jupyter/.local/lib/python3.8/site-packages/torch/utils/hooks.py:59: UserWarning: backward hook <function TorchHistory._hook_variable_gradient_stats.<locals>.<lambda> at 0x7fcc4a180dc0> on tensor will not be serialized.  If this is expected, you can decorate the function with @torch.utils.hooks.unserializable_hook to suppress this warning\n",
      "  warnings.warn(\"backward hook {} on tensor will not be \"\n",
      "/home/jupyter/.local/lib/python3.8/site-packages/torch/utils/hooks.py:59: UserWarning: backward hook <function TorchHistory._hook_variable_gradient_stats.<locals>.<lambda> at 0x7fcc4a180ee0> on tensor will not be serialized.  If this is expected, you can decorate the function with @torch.utils.hooks.unserializable_hook to suppress this warning\n",
      "  warnings.warn(\"backward hook {} on tensor will not be \"\n",
      "/home/jupyter/.local/lib/python3.8/site-packages/torch/utils/hooks.py:59: UserWarning: backward hook <function TorchHistory._hook_variable_gradient_stats.<locals>.<lambda> at 0x7fcc4a183040> on tensor will not be serialized.  If this is expected, you can decorate the function with @torch.utils.hooks.unserializable_hook to suppress this warning\n",
      "  warnings.warn(\"backward hook {} on tensor will not be \"\n",
      "/home/jupyter/.local/lib/python3.8/site-packages/torch/utils/hooks.py:59: UserWarning: backward hook <function TorchHistory._hook_variable_gradient_stats.<locals>.<lambda> at 0x7fcc4a183160> on tensor will not be serialized.  If this is expected, you can decorate the function with @torch.utils.hooks.unserializable_hook to suppress this warning\n",
      "  warnings.warn(\"backward hook {} on tensor will not be \"\n",
      "/home/jupyter/.local/lib/python3.8/site-packages/torch/utils/hooks.py:59: UserWarning: backward hook <function TorchHistory._hook_variable_gradient_stats.<locals>.<lambda> at 0x7fcc4a183280> on tensor will not be serialized.  If this is expected, you can decorate the function with @torch.utils.hooks.unserializable_hook to suppress this warning\n",
      "  warnings.warn(\"backward hook {} on tensor will not be \"\n",
      "/home/jupyter/.local/lib/python3.8/site-packages/torch/utils/hooks.py:59: UserWarning: backward hook <function TorchHistory._hook_variable_gradient_stats.<locals>.<lambda> at 0x7fcc4a1833a0> on tensor will not be serialized.  If this is expected, you can decorate the function with @torch.utils.hooks.unserializable_hook to suppress this warning\n",
      "  warnings.warn(\"backward hook {} on tensor will not be \"\n",
      "/home/jupyter/.local/lib/python3.8/site-packages/torch/utils/hooks.py:59: UserWarning: backward hook <function TorchHistory._hook_variable_gradient_stats.<locals>.<lambda> at 0x7fcc4a1834c0> on tensor will not be serialized.  If this is expected, you can decorate the function with @torch.utils.hooks.unserializable_hook to suppress this warning\n",
      "  warnings.warn(\"backward hook {} on tensor will not be \"\n",
      "/home/jupyter/.local/lib/python3.8/site-packages/torch/utils/hooks.py:59: UserWarning: backward hook <function TorchHistory._hook_variable_gradient_stats.<locals>.<lambda> at 0x7fcc4a1835e0> on tensor will not be serialized.  If this is expected, you can decorate the function with @torch.utils.hooks.unserializable_hook to suppress this warning\n",
      "  warnings.warn(\"backward hook {} on tensor will not be \"\n",
      "/home/jupyter/.local/lib/python3.8/site-packages/torch/utils/hooks.py:59: UserWarning: backward hook <function TorchHistory._hook_variable_gradient_stats.<locals>.<lambda> at 0x7fcc4a183700> on tensor will not be serialized.  If this is expected, you can decorate the function with @torch.utils.hooks.unserializable_hook to suppress this warning\n",
      "  warnings.warn(\"backward hook {} on tensor will not be \"\n",
      "/home/jupyter/.local/lib/python3.8/site-packages/torch/utils/hooks.py:59: UserWarning: backward hook <function TorchHistory._hook_variable_gradient_stats.<locals>.<lambda> at 0x7fcc4a183820> on tensor will not be serialized.  If this is expected, you can decorate the function with @torch.utils.hooks.unserializable_hook to suppress this warning\n",
      "  warnings.warn(\"backward hook {} on tensor will not be \"\n",
      "/home/jupyter/.local/lib/python3.8/site-packages/torch/utils/hooks.py:59: UserWarning: backward hook <function TorchHistory._hook_variable_gradient_stats.<locals>.<lambda> at 0x7fcc4a183940> on tensor will not be serialized.  If this is expected, you can decorate the function with @torch.utils.hooks.unserializable_hook to suppress this warning\n",
      "  warnings.warn(\"backward hook {} on tensor will not be \"\n"
     ]
    },
    {
     "data": {
      "application/vnd.jupyter.widget-view+json": {
       "model_id": "db6610d5602f456c91fa434721da0432",
       "version_major": 2,
       "version_minor": 0
      },
      "text/plain": [
       "Decoding outputs:   0%|          | 0/2 [00:00<?, ?it/s]"
      ]
     },
     "metadata": {},
     "output_type": "display_data"
    },
    {
     "name": "stderr",
     "output_type": "stream",
     "text": [
      "/home/jupyter/.local/lib/python3.8/site-packages/torch/utils/hooks.py:59: UserWarning: backward hook <function TorchHistory._hook_variable_gradient_stats.<locals>.<lambda> at 0x7fcc4a183a60> on tensor will not be serialized.  If this is expected, you can decorate the function with @torch.utils.hooks.unserializable_hook to suppress this warning\n",
      "  warnings.warn(\"backward hook {} on tensor will not be \"\n",
      "/home/jupyter/.local/lib/python3.8/site-packages/torch/utils/hooks.py:59: UserWarning: backward hook <function TorchHistory._hook_variable_gradient_stats.<locals>.<lambda> at 0x7fcc4a183b80> on tensor will not be serialized.  If this is expected, you can decorate the function with @torch.utils.hooks.unserializable_hook to suppress this warning\n",
      "  warnings.warn(\"backward hook {} on tensor will not be \"\n",
      "/home/jupyter/.local/lib/python3.8/site-packages/torch/utils/hooks.py:59: UserWarning: backward hook <function TorchHistory._hook_variable_gradient_stats.<locals>.<lambda> at 0x7fcc4a183ca0> on tensor will not be serialized.  If this is expected, you can decorate the function with @torch.utils.hooks.unserializable_hook to suppress this warning\n",
      "  warnings.warn(\"backward hook {} on tensor will not be \"\n",
      "/home/jupyter/.local/lib/python3.8/site-packages/torch/utils/hooks.py:59: UserWarning: backward hook <function TorchHistory._hook_variable_gradient_stats.<locals>.<lambda> at 0x7fcc4a183dc0> on tensor will not be serialized.  If this is expected, you can decorate the function with @torch.utils.hooks.unserializable_hook to suppress this warning\n",
      "  warnings.warn(\"backward hook {} on tensor will not be \"\n",
      "/home/jupyter/.local/lib/python3.8/site-packages/torch/utils/hooks.py:59: UserWarning: backward hook <function TorchHistory._hook_variable_gradient_stats.<locals>.<lambda> at 0x7fcc4a183ee0> on tensor will not be serialized.  If this is expected, you can decorate the function with @torch.utils.hooks.unserializable_hook to suppress this warning\n",
      "  warnings.warn(\"backward hook {} on tensor will not be \"\n",
      "/home/jupyter/.local/lib/python3.8/site-packages/torch/utils/hooks.py:59: UserWarning: backward hook <function TorchHistory._hook_variable_gradient_stats.<locals>.<lambda> at 0x7fcc48ca9040> on tensor will not be serialized.  If this is expected, you can decorate the function with @torch.utils.hooks.unserializable_hook to suppress this warning\n",
      "  warnings.warn(\"backward hook {} on tensor will not be \"\n",
      "/home/jupyter/.local/lib/python3.8/site-packages/torch/utils/hooks.py:59: UserWarning: backward hook <function TorchHistory._hook_variable_gradient_stats.<locals>.<lambda> at 0x7fcc48ca9160> on tensor will not be serialized.  If this is expected, you can decorate the function with @torch.utils.hooks.unserializable_hook to suppress this warning\n",
      "  warnings.warn(\"backward hook {} on tensor will not be \"\n",
      "/home/jupyter/.local/lib/python3.8/site-packages/torch/utils/hooks.py:59: UserWarning: backward hook <function TorchHistory._hook_variable_gradient_stats.<locals>.<lambda> at 0x7fcc48ca9280> on tensor will not be serialized.  If this is expected, you can decorate the function with @torch.utils.hooks.unserializable_hook to suppress this warning\n",
      "  warnings.warn(\"backward hook {} on tensor will not be \"\n",
      "/home/jupyter/.local/lib/python3.8/site-packages/torch/utils/hooks.py:59: UserWarning: backward hook <function TorchHistory._hook_variable_gradient_stats.<locals>.<lambda> at 0x7fcc48ca93a0> on tensor will not be serialized.  If this is expected, you can decorate the function with @torch.utils.hooks.unserializable_hook to suppress this warning\n",
      "  warnings.warn(\"backward hook {} on tensor will not be \"\n",
      "/home/jupyter/.local/lib/python3.8/site-packages/torch/utils/hooks.py:59: UserWarning: backward hook <function TorchHistory._hook_variable_gradient_stats.<locals>.<lambda> at 0x7fcc48ca94c0> on tensor will not be serialized.  If this is expected, you can decorate the function with @torch.utils.hooks.unserializable_hook to suppress this warning\n",
      "  warnings.warn(\"backward hook {} on tensor will not be \"\n",
      "/home/jupyter/.local/lib/python3.8/site-packages/torch/utils/hooks.py:59: UserWarning: backward hook <function TorchHistory._hook_variable_gradient_stats.<locals>.<lambda> at 0x7fcc48ca95e0> on tensor will not be serialized.  If this is expected, you can decorate the function with @torch.utils.hooks.unserializable_hook to suppress this warning\n",
      "  warnings.warn(\"backward hook {} on tensor will not be \"\n",
      "/home/jupyter/.local/lib/python3.8/site-packages/torch/utils/hooks.py:59: UserWarning: backward hook <function TorchHistory._hook_variable_gradient_stats.<locals>.<lambda> at 0x7fcc48ca9700> on tensor will not be serialized.  If this is expected, you can decorate the function with @torch.utils.hooks.unserializable_hook to suppress this warning\n",
      "  warnings.warn(\"backward hook {} on tensor will not be \"\n",
      "/home/jupyter/.local/lib/python3.8/site-packages/torch/utils/hooks.py:59: UserWarning: backward hook <function TorchHistory._hook_variable_gradient_stats.<locals>.<lambda> at 0x7fcc48ca9820> on tensor will not be serialized.  If this is expected, you can decorate the function with @torch.utils.hooks.unserializable_hook to suppress this warning\n",
      "  warnings.warn(\"backward hook {} on tensor will not be \"\n",
      "/home/jupyter/.local/lib/python3.8/site-packages/torch/utils/hooks.py:59: UserWarning: backward hook <function TorchHistory._hook_variable_gradient_stats.<locals>.<lambda> at 0x7fcc48ca9940> on tensor will not be serialized.  If this is expected, you can decorate the function with @torch.utils.hooks.unserializable_hook to suppress this warning\n",
      "  warnings.warn(\"backward hook {} on tensor will not be \"\n",
      "/home/jupyter/.local/lib/python3.8/site-packages/torch/utils/hooks.py:59: UserWarning: backward hook <function TorchHistory._hook_variable_gradient_stats.<locals>.<lambda> at 0x7fcc48ca9a60> on tensor will not be serialized.  If this is expected, you can decorate the function with @torch.utils.hooks.unserializable_hook to suppress this warning\n",
      "  warnings.warn(\"backward hook {} on tensor will not be \"\n",
      "/home/jupyter/.local/lib/python3.8/site-packages/torch/utils/hooks.py:59: UserWarning: backward hook <function TorchHistory._hook_variable_gradient_stats.<locals>.<lambda> at 0x7fcc48ca9b80> on tensor will not be serialized.  If this is expected, you can decorate the function with @torch.utils.hooks.unserializable_hook to suppress this warning\n",
      "  warnings.warn(\"backward hook {} on tensor will not be \"\n",
      "/home/jupyter/.local/lib/python3.8/site-packages/torch/utils/hooks.py:59: UserWarning: backward hook <function TorchHistory._hook_variable_gradient_stats.<locals>.<lambda> at 0x7fcc48ca9ca0> on tensor will not be serialized.  If this is expected, you can decorate the function with @torch.utils.hooks.unserializable_hook to suppress this warning\n",
      "  warnings.warn(\"backward hook {} on tensor will not be \"\n",
      "/home/jupyter/.local/lib/python3.8/site-packages/torch/utils/hooks.py:59: UserWarning: backward hook <function TorchHistory._hook_variable_gradient_stats.<locals>.<lambda> at 0x7fcc48ca9dc0> on tensor will not be serialized.  If this is expected, you can decorate the function with @torch.utils.hooks.unserializable_hook to suppress this warning\n",
      "  warnings.warn(\"backward hook {} on tensor will not be \"\n",
      "/home/jupyter/.local/lib/python3.8/site-packages/torch/utils/hooks.py:59: UserWarning: backward hook <function TorchHistory._hook_variable_gradient_stats.<locals>.<lambda> at 0x7fcc48ca9ee0> on tensor will not be serialized.  If this is expected, you can decorate the function with @torch.utils.hooks.unserializable_hook to suppress this warning\n",
      "  warnings.warn(\"backward hook {} on tensor will not be \"\n",
      "/home/jupyter/.local/lib/python3.8/site-packages/torch/utils/hooks.py:59: UserWarning: backward hook <function TorchHistory._hook_variable_gradient_stats.<locals>.<lambda> at 0x7fcc48cad040> on tensor will not be serialized.  If this is expected, you can decorate the function with @torch.utils.hooks.unserializable_hook to suppress this warning\n",
      "  warnings.warn(\"backward hook {} on tensor will not be \"\n",
      "/home/jupyter/.local/lib/python3.8/site-packages/torch/utils/hooks.py:59: UserWarning: backward hook <function TorchHistory._hook_variable_gradient_stats.<locals>.<lambda> at 0x7fcc48cad160> on tensor will not be serialized.  If this is expected, you can decorate the function with @torch.utils.hooks.unserializable_hook to suppress this warning\n",
      "  warnings.warn(\"backward hook {} on tensor will not be \"\n",
      "/home/jupyter/.local/lib/python3.8/site-packages/torch/utils/hooks.py:59: UserWarning: backward hook <function TorchHistory._hook_variable_gradient_stats.<locals>.<lambda> at 0x7fcc48cad280> on tensor will not be serialized.  If this is expected, you can decorate the function with @torch.utils.hooks.unserializable_hook to suppress this warning\n",
      "  warnings.warn(\"backward hook {} on tensor will not be \"\n",
      "/home/jupyter/.local/lib/python3.8/site-packages/torch/utils/hooks.py:59: UserWarning: backward hook <function TorchHistory._hook_variable_gradient_stats.<locals>.<lambda> at 0x7fcc48cad3a0> on tensor will not be serialized.  If this is expected, you can decorate the function with @torch.utils.hooks.unserializable_hook to suppress this warning\n",
      "  warnings.warn(\"backward hook {} on tensor will not be \"\n",
      "/home/jupyter/.local/lib/python3.8/site-packages/torch/utils/hooks.py:59: UserWarning: backward hook <function TorchHistory._hook_variable_gradient_stats.<locals>.<lambda> at 0x7fcc48cad4c0> on tensor will not be serialized.  If this is expected, you can decorate the function with @torch.utils.hooks.unserializable_hook to suppress this warning\n",
      "  warnings.warn(\"backward hook {} on tensor will not be \"\n",
      "/home/jupyter/.local/lib/python3.8/site-packages/torch/utils/hooks.py:59: UserWarning: backward hook <function TorchHistory._hook_variable_gradient_stats.<locals>.<lambda> at 0x7fcc48cad5e0> on tensor will not be serialized.  If this is expected, you can decorate the function with @torch.utils.hooks.unserializable_hook to suppress this warning\n",
      "  warnings.warn(\"backward hook {} on tensor will not be \"\n",
      "/home/jupyter/.local/lib/python3.8/site-packages/torch/utils/hooks.py:59: UserWarning: backward hook <function TorchHistory._hook_variable_gradient_stats.<locals>.<lambda> at 0x7fcc48cad700> on tensor will not be serialized.  If this is expected, you can decorate the function with @torch.utils.hooks.unserializable_hook to suppress this warning\n",
      "  warnings.warn(\"backward hook {} on tensor will not be \"\n",
      "/home/jupyter/.local/lib/python3.8/site-packages/torch/utils/hooks.py:59: UserWarning: backward hook <function TorchHistory._hook_variable_gradient_stats.<locals>.<lambda> at 0x7fcc48cad820> on tensor will not be serialized.  If this is expected, you can decorate the function with @torch.utils.hooks.unserializable_hook to suppress this warning\n",
      "  warnings.warn(\"backward hook {} on tensor will not be \"\n",
      "/home/jupyter/.local/lib/python3.8/site-packages/torch/utils/hooks.py:59: UserWarning: backward hook <function TorchHistory._hook_variable_gradient_stats.<locals>.<lambda> at 0x7fcc48cad940> on tensor will not be serialized.  If this is expected, you can decorate the function with @torch.utils.hooks.unserializable_hook to suppress this warning\n",
      "  warnings.warn(\"backward hook {} on tensor will not be \"\n",
      "/home/jupyter/.local/lib/python3.8/site-packages/torch/utils/hooks.py:59: UserWarning: backward hook <function TorchHistory._hook_variable_gradient_stats.<locals>.<lambda> at 0x7fcc48cada60> on tensor will not be serialized.  If this is expected, you can decorate the function with @torch.utils.hooks.unserializable_hook to suppress this warning\n",
      "  warnings.warn(\"backward hook {} on tensor will not be \"\n",
      "/home/jupyter/.local/lib/python3.8/site-packages/torch/utils/hooks.py:59: UserWarning: backward hook <function TorchHistory._hook_variable_gradient_stats.<locals>.<lambda> at 0x7fcc48cadb80> on tensor will not be serialized.  If this is expected, you can decorate the function with @torch.utils.hooks.unserializable_hook to suppress this warning\n",
      "  warnings.warn(\"backward hook {} on tensor will not be \"\n",
      "/home/jupyter/.local/lib/python3.8/site-packages/torch/utils/hooks.py:59: UserWarning: backward hook <function TorchHistory._hook_variable_gradient_stats.<locals>.<lambda> at 0x7fcc48cadca0> on tensor will not be serialized.  If this is expected, you can decorate the function with @torch.utils.hooks.unserializable_hook to suppress this warning\n",
      "  warnings.warn(\"backward hook {} on tensor will not be \"\n",
      "/home/jupyter/.local/lib/python3.8/site-packages/torch/utils/hooks.py:59: UserWarning: backward hook <function TorchHistory._hook_variable_gradient_stats.<locals>.<lambda> at 0x7fcc48caddc0> on tensor will not be serialized.  If this is expected, you can decorate the function with @torch.utils.hooks.unserializable_hook to suppress this warning\n",
      "  warnings.warn(\"backward hook {} on tensor will not be \"\n",
      "/home/jupyter/.local/lib/python3.8/site-packages/torch/utils/hooks.py:59: UserWarning: backward hook <function TorchHistory._hook_variable_gradient_stats.<locals>.<lambda> at 0x7fcc48cadee0> on tensor will not be serialized.  If this is expected, you can decorate the function with @torch.utils.hooks.unserializable_hook to suppress this warning\n",
      "  warnings.warn(\"backward hook {} on tensor will not be \"\n",
      "/home/jupyter/.local/lib/python3.8/site-packages/torch/utils/hooks.py:59: UserWarning: backward hook <function TorchHistory._hook_variable_gradient_stats.<locals>.<lambda> at 0x7fcc48cb3040> on tensor will not be serialized.  If this is expected, you can decorate the function with @torch.utils.hooks.unserializable_hook to suppress this warning\n",
      "  warnings.warn(\"backward hook {} on tensor will not be \"\n",
      "/home/jupyter/.local/lib/python3.8/site-packages/torch/utils/hooks.py:59: UserWarning: backward hook <function TorchHistory._hook_variable_gradient_stats.<locals>.<lambda> at 0x7fcc48cb3160> on tensor will not be serialized.  If this is expected, you can decorate the function with @torch.utils.hooks.unserializable_hook to suppress this warning\n",
      "  warnings.warn(\"backward hook {} on tensor will not be \"\n",
      "/home/jupyter/.local/lib/python3.8/site-packages/torch/utils/hooks.py:59: UserWarning: backward hook <function TorchHistory._hook_variable_gradient_stats.<locals>.<lambda> at 0x7fcc48cb3280> on tensor will not be serialized.  If this is expected, you can decorate the function with @torch.utils.hooks.unserializable_hook to suppress this warning\n",
      "  warnings.warn(\"backward hook {} on tensor will not be \"\n",
      "/home/jupyter/.local/lib/python3.8/site-packages/torch/utils/hooks.py:59: UserWarning: backward hook <function TorchHistory._hook_variable_gradient_stats.<locals>.<lambda> at 0x7fcc48cb33a0> on tensor will not be serialized.  If this is expected, you can decorate the function with @torch.utils.hooks.unserializable_hook to suppress this warning\n",
      "  warnings.warn(\"backward hook {} on tensor will not be \"\n",
      "/home/jupyter/.local/lib/python3.8/site-packages/torch/utils/hooks.py:59: UserWarning: backward hook <function TorchHistory._hook_variable_gradient_stats.<locals>.<lambda> at 0x7fcc48cb34c0> on tensor will not be serialized.  If this is expected, you can decorate the function with @torch.utils.hooks.unserializable_hook to suppress this warning\n",
      "  warnings.warn(\"backward hook {} on tensor will not be \"\n",
      "/home/jupyter/.local/lib/python3.8/site-packages/torch/utils/hooks.py:59: UserWarning: backward hook <function TorchHistory._hook_variable_gradient_stats.<locals>.<lambda> at 0x7fcc48cb35e0> on tensor will not be serialized.  If this is expected, you can decorate the function with @torch.utils.hooks.unserializable_hook to suppress this warning\n",
      "  warnings.warn(\"backward hook {} on tensor will not be \"\n",
      "/home/jupyter/.local/lib/python3.8/site-packages/torch/utils/hooks.py:59: UserWarning: backward hook <function TorchHistory._hook_variable_gradient_stats.<locals>.<lambda> at 0x7fcc48cb3700> on tensor will not be serialized.  If this is expected, you can decorate the function with @torch.utils.hooks.unserializable_hook to suppress this warning\n",
      "  warnings.warn(\"backward hook {} on tensor will not be \"\n",
      "/home/jupyter/.local/lib/python3.8/site-packages/torch/utils/hooks.py:59: UserWarning: backward hook <function TorchHistory._hook_variable_gradient_stats.<locals>.<lambda> at 0x7fcc48cb3820> on tensor will not be serialized.  If this is expected, you can decorate the function with @torch.utils.hooks.unserializable_hook to suppress this warning\n",
      "  warnings.warn(\"backward hook {} on tensor will not be \"\n",
      "/home/jupyter/.local/lib/python3.8/site-packages/torch/utils/hooks.py:59: UserWarning: backward hook <function TorchHistory._hook_variable_gradient_stats.<locals>.<lambda> at 0x7fcc48cb3940> on tensor will not be serialized.  If this is expected, you can decorate the function with @torch.utils.hooks.unserializable_hook to suppress this warning\n",
      "  warnings.warn(\"backward hook {} on tensor will not be \"\n",
      "/home/jupyter/.local/lib/python3.8/site-packages/torch/utils/hooks.py:59: UserWarning: backward hook <function TorchHistory._hook_variable_gradient_stats.<locals>.<lambda> at 0x7fcc48cb3a60> on tensor will not be serialized.  If this is expected, you can decorate the function with @torch.utils.hooks.unserializable_hook to suppress this warning\n",
      "  warnings.warn(\"backward hook {} on tensor will not be \"\n",
      "/home/jupyter/.local/lib/python3.8/site-packages/torch/utils/hooks.py:59: UserWarning: backward hook <function TorchHistory._hook_variable_gradient_stats.<locals>.<lambda> at 0x7fcc48cb3b80> on tensor will not be serialized.  If this is expected, you can decorate the function with @torch.utils.hooks.unserializable_hook to suppress this warning\n",
      "  warnings.warn(\"backward hook {} on tensor will not be \"\n",
      "/home/jupyter/.local/lib/python3.8/site-packages/torch/utils/hooks.py:59: UserWarning: backward hook <function TorchHistory._hook_variable_gradient_stats.<locals>.<lambda> at 0x7fcc48cb3ca0> on tensor will not be serialized.  If this is expected, you can decorate the function with @torch.utils.hooks.unserializable_hook to suppress this warning\n",
      "  warnings.warn(\"backward hook {} on tensor will not be \"\n",
      "/home/jupyter/.local/lib/python3.8/site-packages/torch/utils/hooks.py:59: UserWarning: backward hook <function TorchHistory._hook_variable_gradient_stats.<locals>.<lambda> at 0x7fcc48cb3dc0> on tensor will not be serialized.  If this is expected, you can decorate the function with @torch.utils.hooks.unserializable_hook to suppress this warning\n",
      "  warnings.warn(\"backward hook {} on tensor will not be \"\n",
      "/home/jupyter/.local/lib/python3.8/site-packages/torch/utils/hooks.py:59: UserWarning: backward hook <function TorchHistory._hook_variable_gradient_stats.<locals>.<lambda> at 0x7fcc48cb3ee0> on tensor will not be serialized.  If this is expected, you can decorate the function with @torch.utils.hooks.unserializable_hook to suppress this warning\n",
      "  warnings.warn(\"backward hook {} on tensor will not be \"\n",
      "/home/jupyter/.local/lib/python3.8/site-packages/torch/utils/hooks.py:59: UserWarning: backward hook <function TorchHistory._hook_variable_gradient_stats.<locals>.<lambda> at 0x7fcc48cb7040> on tensor will not be serialized.  If this is expected, you can decorate the function with @torch.utils.hooks.unserializable_hook to suppress this warning\n",
      "  warnings.warn(\"backward hook {} on tensor will not be \"\n",
      "/home/jupyter/.local/lib/python3.8/site-packages/torch/utils/hooks.py:59: UserWarning: backward hook <function TorchHistory._hook_variable_gradient_stats.<locals>.<lambda> at 0x7fcc48cb7160> on tensor will not be serialized.  If this is expected, you can decorate the function with @torch.utils.hooks.unserializable_hook to suppress this warning\n",
      "  warnings.warn(\"backward hook {} on tensor will not be \"\n",
      "/home/jupyter/.local/lib/python3.8/site-packages/torch/utils/hooks.py:59: UserWarning: backward hook <function TorchHistory._hook_variable_gradient_stats.<locals>.<lambda> at 0x7fcc48cb7280> on tensor will not be serialized.  If this is expected, you can decorate the function with @torch.utils.hooks.unserializable_hook to suppress this warning\n",
      "  warnings.warn(\"backward hook {} on tensor will not be \"\n",
      "/home/jupyter/.local/lib/python3.8/site-packages/torch/utils/hooks.py:59: UserWarning: backward hook <function TorchHistory._hook_variable_gradient_stats.<locals>.<lambda> at 0x7fcc48cb73a0> on tensor will not be serialized.  If this is expected, you can decorate the function with @torch.utils.hooks.unserializable_hook to suppress this warning\n",
      "  warnings.warn(\"backward hook {} on tensor will not be \"\n",
      "/home/jupyter/.local/lib/python3.8/site-packages/torch/utils/hooks.py:59: UserWarning: backward hook <function TorchHistory._hook_variable_gradient_stats.<locals>.<lambda> at 0x7fcc48cb74c0> on tensor will not be serialized.  If this is expected, you can decorate the function with @torch.utils.hooks.unserializable_hook to suppress this warning\n",
      "  warnings.warn(\"backward hook {} on tensor will not be \"\n",
      "/home/jupyter/.local/lib/python3.8/site-packages/torch/utils/hooks.py:59: UserWarning: backward hook <function TorchHistory._hook_variable_gradient_stats.<locals>.<lambda> at 0x7fcc48cb75e0> on tensor will not be serialized.  If this is expected, you can decorate the function with @torch.utils.hooks.unserializable_hook to suppress this warning\n",
      "  warnings.warn(\"backward hook {} on tensor will not be \"\n",
      "/home/jupyter/.local/lib/python3.8/site-packages/torch/utils/hooks.py:59: UserWarning: backward hook <function TorchHistory._hook_variable_gradient_stats.<locals>.<lambda> at 0x7fcc48cb7700> on tensor will not be serialized.  If this is expected, you can decorate the function with @torch.utils.hooks.unserializable_hook to suppress this warning\n",
      "  warnings.warn(\"backward hook {} on tensor will not be \"\n",
      "/home/jupyter/.local/lib/python3.8/site-packages/torch/utils/hooks.py:59: UserWarning: backward hook <function TorchHistory._hook_variable_gradient_stats.<locals>.<lambda> at 0x7fcc48cb7820> on tensor will not be serialized.  If this is expected, you can decorate the function with @torch.utils.hooks.unserializable_hook to suppress this warning\n",
      "  warnings.warn(\"backward hook {} on tensor will not be \"\n",
      "/home/jupyter/.local/lib/python3.8/site-packages/torch/utils/hooks.py:59: UserWarning: backward hook <function TorchHistory._hook_variable_gradient_stats.<locals>.<lambda> at 0x7fcc48cb7940> on tensor will not be serialized.  If this is expected, you can decorate the function with @torch.utils.hooks.unserializable_hook to suppress this warning\n",
      "  warnings.warn(\"backward hook {} on tensor will not be \"\n",
      "/home/jupyter/.local/lib/python3.8/site-packages/torch/utils/hooks.py:59: UserWarning: backward hook <function TorchHistory._hook_variable_gradient_stats.<locals>.<lambda> at 0x7fcc48cb7a60> on tensor will not be serialized.  If this is expected, you can decorate the function with @torch.utils.hooks.unserializable_hook to suppress this warning\n",
      "  warnings.warn(\"backward hook {} on tensor will not be \"\n",
      "/home/jupyter/.local/lib/python3.8/site-packages/torch/utils/hooks.py:59: UserWarning: backward hook <function TorchHistory._hook_variable_gradient_stats.<locals>.<lambda> at 0x7fcc48cb7b80> on tensor will not be serialized.  If this is expected, you can decorate the function with @torch.utils.hooks.unserializable_hook to suppress this warning\n",
      "  warnings.warn(\"backward hook {} on tensor will not be \"\n",
      "/home/jupyter/.local/lib/python3.8/site-packages/torch/utils/hooks.py:59: UserWarning: backward hook <function TorchHistory._hook_variable_gradient_stats.<locals>.<lambda> at 0x7fcc48cb7ca0> on tensor will not be serialized.  If this is expected, you can decorate the function with @torch.utils.hooks.unserializable_hook to suppress this warning\n",
      "  warnings.warn(\"backward hook {} on tensor will not be \"\n",
      "/home/jupyter/.local/lib/python3.8/site-packages/torch/utils/hooks.py:59: UserWarning: backward hook <function TorchHistory._hook_variable_gradient_stats.<locals>.<lambda> at 0x7fcc48cb7dc0> on tensor will not be serialized.  If this is expected, you can decorate the function with @torch.utils.hooks.unserializable_hook to suppress this warning\n",
      "  warnings.warn(\"backward hook {} on tensor will not be \"\n",
      "/home/jupyter/.local/lib/python3.8/site-packages/torch/utils/hooks.py:59: UserWarning: backward hook <function TorchHistory._hook_variable_gradient_stats.<locals>.<lambda> at 0x7fcc48cb7ee0> on tensor will not be serialized.  If this is expected, you can decorate the function with @torch.utils.hooks.unserializable_hook to suppress this warning\n",
      "  warnings.warn(\"backward hook {} on tensor will not be \"\n",
      "/home/jupyter/.local/lib/python3.8/site-packages/torch/utils/hooks.py:59: UserWarning: backward hook <function TorchHistory._hook_variable_gradient_stats.<locals>.<lambda> at 0x7fcc48cbd040> on tensor will not be serialized.  If this is expected, you can decorate the function with @torch.utils.hooks.unserializable_hook to suppress this warning\n",
      "  warnings.warn(\"backward hook {} on tensor will not be \"\n",
      "/home/jupyter/.local/lib/python3.8/site-packages/torch/utils/hooks.py:59: UserWarning: backward hook <function TorchHistory._hook_variable_gradient_stats.<locals>.<lambda> at 0x7fcc48cbd160> on tensor will not be serialized.  If this is expected, you can decorate the function with @torch.utils.hooks.unserializable_hook to suppress this warning\n",
      "  warnings.warn(\"backward hook {} on tensor will not be \"\n",
      "/home/jupyter/.local/lib/python3.8/site-packages/torch/utils/hooks.py:59: UserWarning: backward hook <function TorchHistory._hook_variable_gradient_stats.<locals>.<lambda> at 0x7fcc48cbd280> on tensor will not be serialized.  If this is expected, you can decorate the function with @torch.utils.hooks.unserializable_hook to suppress this warning\n",
      "  warnings.warn(\"backward hook {} on tensor will not be \"\n",
      "/home/jupyter/.local/lib/python3.8/site-packages/torch/utils/hooks.py:59: UserWarning: backward hook <function TorchHistory._hook_variable_gradient_stats.<locals>.<lambda> at 0x7fcc48cbd3a0> on tensor will not be serialized.  If this is expected, you can decorate the function with @torch.utils.hooks.unserializable_hook to suppress this warning\n",
      "  warnings.warn(\"backward hook {} on tensor will not be \"\n",
      "/home/jupyter/.local/lib/python3.8/site-packages/torch/utils/hooks.py:59: UserWarning: backward hook <function TorchHistory._hook_variable_gradient_stats.<locals>.<lambda> at 0x7fcc48cbd4c0> on tensor will not be serialized.  If this is expected, you can decorate the function with @torch.utils.hooks.unserializable_hook to suppress this warning\n",
      "  warnings.warn(\"backward hook {} on tensor will not be \"\n",
      "/home/jupyter/.local/lib/python3.8/site-packages/torch/utils/hooks.py:59: UserWarning: backward hook <function TorchHistory._hook_variable_gradient_stats.<locals>.<lambda> at 0x7fcc48cbd5e0> on tensor will not be serialized.  If this is expected, you can decorate the function with @torch.utils.hooks.unserializable_hook to suppress this warning\n",
      "  warnings.warn(\"backward hook {} on tensor will not be \"\n",
      "/home/jupyter/.local/lib/python3.8/site-packages/torch/utils/hooks.py:59: UserWarning: backward hook <function TorchHistory._hook_variable_gradient_stats.<locals>.<lambda> at 0x7fcc48cbd700> on tensor will not be serialized.  If this is expected, you can decorate the function with @torch.utils.hooks.unserializable_hook to suppress this warning\n",
      "  warnings.warn(\"backward hook {} on tensor will not be \"\n",
      "/home/jupyter/.local/lib/python3.8/site-packages/torch/utils/hooks.py:59: UserWarning: backward hook <function TorchHistory._hook_variable_gradient_stats.<locals>.<lambda> at 0x7fcc48cbd820> on tensor will not be serialized.  If this is expected, you can decorate the function with @torch.utils.hooks.unserializable_hook to suppress this warning\n",
      "  warnings.warn(\"backward hook {} on tensor will not be \"\n",
      "/home/jupyter/.local/lib/python3.8/site-packages/torch/utils/hooks.py:59: UserWarning: backward hook <function TorchHistory._hook_variable_gradient_stats.<locals>.<lambda> at 0x7fcc48cbd940> on tensor will not be serialized.  If this is expected, you can decorate the function with @torch.utils.hooks.unserializable_hook to suppress this warning\n",
      "  warnings.warn(\"backward hook {} on tensor will not be \"\n",
      "/home/jupyter/.local/lib/python3.8/site-packages/torch/utils/hooks.py:59: UserWarning: backward hook <function TorchHistory._hook_variable_gradient_stats.<locals>.<lambda> at 0x7fcc48cbda60> on tensor will not be serialized.  If this is expected, you can decorate the function with @torch.utils.hooks.unserializable_hook to suppress this warning\n",
      "  warnings.warn(\"backward hook {} on tensor will not be \"\n",
      "/home/jupyter/.local/lib/python3.8/site-packages/torch/utils/hooks.py:59: UserWarning: backward hook <function TorchHistory._hook_variable_gradient_stats.<locals>.<lambda> at 0x7fcc48cbdb80> on tensor will not be serialized.  If this is expected, you can decorate the function with @torch.utils.hooks.unserializable_hook to suppress this warning\n",
      "  warnings.warn(\"backward hook {} on tensor will not be \"\n",
      "/home/jupyter/.local/lib/python3.8/site-packages/torch/utils/hooks.py:59: UserWarning: backward hook <function TorchHistory._hook_variable_gradient_stats.<locals>.<lambda> at 0x7fcc48cbdca0> on tensor will not be serialized.  If this is expected, you can decorate the function with @torch.utils.hooks.unserializable_hook to suppress this warning\n",
      "  warnings.warn(\"backward hook {} on tensor will not be \"\n",
      "/home/jupyter/.local/lib/python3.8/site-packages/torch/utils/hooks.py:59: UserWarning: backward hook <function TorchHistory._hook_variable_gradient_stats.<locals>.<lambda> at 0x7fcc48cbddc0> on tensor will not be serialized.  If this is expected, you can decorate the function with @torch.utils.hooks.unserializable_hook to suppress this warning\n",
      "  warnings.warn(\"backward hook {} on tensor will not be \"\n",
      "/home/jupyter/.local/lib/python3.8/site-packages/torch/utils/hooks.py:59: UserWarning: backward hook <function TorchHistory._hook_variable_gradient_stats.<locals>.<lambda> at 0x7fcc48cbdee0> on tensor will not be serialized.  If this is expected, you can decorate the function with @torch.utils.hooks.unserializable_hook to suppress this warning\n",
      "  warnings.warn(\"backward hook {} on tensor will not be \"\n",
      "/home/jupyter/.local/lib/python3.8/site-packages/torch/utils/hooks.py:59: UserWarning: backward hook <function TorchHistory._hook_variable_gradient_stats.<locals>.<lambda> at 0x7fcc48cc3040> on tensor will not be serialized.  If this is expected, you can decorate the function with @torch.utils.hooks.unserializable_hook to suppress this warning\n",
      "  warnings.warn(\"backward hook {} on tensor will not be \"\n",
      "/home/jupyter/.local/lib/python3.8/site-packages/torch/utils/hooks.py:59: UserWarning: backward hook <function TorchHistory._hook_variable_gradient_stats.<locals>.<lambda> at 0x7fcc48cc3160> on tensor will not be serialized.  If this is expected, you can decorate the function with @torch.utils.hooks.unserializable_hook to suppress this warning\n",
      "  warnings.warn(\"backward hook {} on tensor will not be \"\n",
      "/home/jupyter/.local/lib/python3.8/site-packages/torch/utils/hooks.py:59: UserWarning: backward hook <function TorchHistory._hook_variable_gradient_stats.<locals>.<lambda> at 0x7fcc48cc3280> on tensor will not be serialized.  If this is expected, you can decorate the function with @torch.utils.hooks.unserializable_hook to suppress this warning\n",
      "  warnings.warn(\"backward hook {} on tensor will not be \"\n",
      "/home/jupyter/.local/lib/python3.8/site-packages/torch/utils/hooks.py:59: UserWarning: backward hook <function TorchHistory._hook_variable_gradient_stats.<locals>.<lambda> at 0x7fcc48cc33a0> on tensor will not be serialized.  If this is expected, you can decorate the function with @torch.utils.hooks.unserializable_hook to suppress this warning\n",
      "  warnings.warn(\"backward hook {} on tensor will not be \"\n",
      "/home/jupyter/.local/lib/python3.8/site-packages/torch/utils/hooks.py:59: UserWarning: backward hook <function TorchHistory._hook_variable_gradient_stats.<locals>.<lambda> at 0x7fcc48cc34c0> on tensor will not be serialized.  If this is expected, you can decorate the function with @torch.utils.hooks.unserializable_hook to suppress this warning\n",
      "  warnings.warn(\"backward hook {} on tensor will not be \"\n",
      "/home/jupyter/.local/lib/python3.8/site-packages/torch/utils/hooks.py:59: UserWarning: backward hook <function TorchHistory._hook_variable_gradient_stats.<locals>.<lambda> at 0x7fcc48cc35e0> on tensor will not be serialized.  If this is expected, you can decorate the function with @torch.utils.hooks.unserializable_hook to suppress this warning\n",
      "  warnings.warn(\"backward hook {} on tensor will not be \"\n",
      "/home/jupyter/.local/lib/python3.8/site-packages/torch/utils/hooks.py:59: UserWarning: backward hook <function TorchHistory._hook_variable_gradient_stats.<locals>.<lambda> at 0x7fcc48cc3700> on tensor will not be serialized.  If this is expected, you can decorate the function with @torch.utils.hooks.unserializable_hook to suppress this warning\n",
      "  warnings.warn(\"backward hook {} on tensor will not be \"\n",
      "/home/jupyter/.local/lib/python3.8/site-packages/torch/utils/hooks.py:59: UserWarning: backward hook <function TorchHistory._hook_variable_gradient_stats.<locals>.<lambda> at 0x7fcc48cc3820> on tensor will not be serialized.  If this is expected, you can decorate the function with @torch.utils.hooks.unserializable_hook to suppress this warning\n",
      "  warnings.warn(\"backward hook {} on tensor will not be \"\n",
      "/home/jupyter/.local/lib/python3.8/site-packages/torch/utils/hooks.py:59: UserWarning: backward hook <function TorchHistory._hook_variable_gradient_stats.<locals>.<lambda> at 0x7fcc48cc3940> on tensor will not be serialized.  If this is expected, you can decorate the function with @torch.utils.hooks.unserializable_hook to suppress this warning\n",
      "  warnings.warn(\"backward hook {} on tensor will not be \"\n",
      "/home/jupyter/.local/lib/python3.8/site-packages/torch/utils/hooks.py:59: UserWarning: backward hook <function TorchHistory._hook_variable_gradient_stats.<locals>.<lambda> at 0x7fcc48cc3a60> on tensor will not be serialized.  If this is expected, you can decorate the function with @torch.utils.hooks.unserializable_hook to suppress this warning\n",
      "  warnings.warn(\"backward hook {} on tensor will not be \"\n",
      "/home/jupyter/.local/lib/python3.8/site-packages/torch/utils/hooks.py:59: UserWarning: backward hook <function TorchHistory._hook_variable_gradient_stats.<locals>.<lambda> at 0x7fcc48cc3b80> on tensor will not be serialized.  If this is expected, you can decorate the function with @torch.utils.hooks.unserializable_hook to suppress this warning\n",
      "  warnings.warn(\"backward hook {} on tensor will not be \"\n",
      "/home/jupyter/.local/lib/python3.8/site-packages/torch/utils/hooks.py:59: UserWarning: backward hook <function TorchHistory._hook_variable_gradient_stats.<locals>.<lambda> at 0x7fcc48cc3ca0> on tensor will not be serialized.  If this is expected, you can decorate the function with @torch.utils.hooks.unserializable_hook to suppress this warning\n",
      "  warnings.warn(\"backward hook {} on tensor will not be \"\n",
      "/home/jupyter/.local/lib/python3.8/site-packages/torch/utils/hooks.py:59: UserWarning: backward hook <function TorchHistory._hook_variable_gradient_stats.<locals>.<lambda> at 0x7fcc48cc3dc0> on tensor will not be serialized.  If this is expected, you can decorate the function with @torch.utils.hooks.unserializable_hook to suppress this warning\n",
      "  warnings.warn(\"backward hook {} on tensor will not be \"\n",
      "/home/jupyter/.local/lib/python3.8/site-packages/torch/utils/hooks.py:59: UserWarning: backward hook <function TorchHistory._hook_variable_gradient_stats.<locals>.<lambda> at 0x7fcc48cc3ee0> on tensor will not be serialized.  If this is expected, you can decorate the function with @torch.utils.hooks.unserializable_hook to suppress this warning\n",
      "  warnings.warn(\"backward hook {} on tensor will not be \"\n",
      "/home/jupyter/.local/lib/python3.8/site-packages/torch/utils/hooks.py:59: UserWarning: backward hook <function TorchHistory._hook_variable_gradient_stats.<locals>.<lambda> at 0x7fcc48cc7040> on tensor will not be serialized.  If this is expected, you can decorate the function with @torch.utils.hooks.unserializable_hook to suppress this warning\n",
      "  warnings.warn(\"backward hook {} on tensor will not be \"\n",
      "/home/jupyter/.local/lib/python3.8/site-packages/torch/utils/hooks.py:59: UserWarning: backward hook <function TorchHistory._hook_variable_gradient_stats.<locals>.<lambda> at 0x7fcc48cc7160> on tensor will not be serialized.  If this is expected, you can decorate the function with @torch.utils.hooks.unserializable_hook to suppress this warning\n",
      "  warnings.warn(\"backward hook {} on tensor will not be \"\n",
      "/home/jupyter/.local/lib/python3.8/site-packages/torch/utils/hooks.py:59: UserWarning: backward hook <function TorchHistory._hook_variable_gradient_stats.<locals>.<lambda> at 0x7fcc48cc7280> on tensor will not be serialized.  If this is expected, you can decorate the function with @torch.utils.hooks.unserializable_hook to suppress this warning\n",
      "  warnings.warn(\"backward hook {} on tensor will not be \"\n",
      "/home/jupyter/.local/lib/python3.8/site-packages/torch/utils/hooks.py:59: UserWarning: backward hook <function TorchHistory._hook_variable_gradient_stats.<locals>.<lambda> at 0x7fcc48cc73a0> on tensor will not be serialized.  If this is expected, you can decorate the function with @torch.utils.hooks.unserializable_hook to suppress this warning\n",
      "  warnings.warn(\"backward hook {} on tensor will not be \"\n",
      "/home/jupyter/.local/lib/python3.8/site-packages/torch/utils/hooks.py:59: UserWarning: backward hook <function TorchHistory._hook_variable_gradient_stats.<locals>.<lambda> at 0x7fcc48cc74c0> on tensor will not be serialized.  If this is expected, you can decorate the function with @torch.utils.hooks.unserializable_hook to suppress this warning\n",
      "  warnings.warn(\"backward hook {} on tensor will not be \"\n"
     ]
    }
   ],
   "source": [
    "#!g1.1\n",
    "rsl_preds = model2.predict(to_rsl)"
   ]
  },
  {
   "cell_type": "code",
   "execution_count": 48,
   "metadata": {
    "cellId": "kv8i9vz8zviaggtum4rxyc"
   },
   "outputs": [
    {
     "data": {
      "text/plain": [
       "['я знать переводить текст на русский жестовый язык',\n",
       " 'перевести текст перевод модель этот машинный перевод']"
      ]
     },
     "execution_count": 48,
     "metadata": {},
     "output_type": "execute_result"
    }
   ],
   "source": [
    "#!g1.1\n",
    "rsl_preds"
   ]
  }
 ],
 "metadata": {
  "accelerator": "GPU",
  "colab": {
   "collapsed_sections": [],
   "name": "ru-mt5.ipynb",
   "provenance": []
  },
  "kernelspec": {
   "display_name": "Yandex DataSphere Kernel",
   "language": "python",
   "name": "python3"
  },
  "language_info": {
   "codemirror_mode": {
    "name": "ipython",
    "version": 3
   },
   "file_extension": ".py",
   "mimetype": "text/x-python",
   "name": "python",
   "nbconvert_exporter": "python",
   "pygments_lexer": "ipython3",
   "version": "3.7.7"
  },
  "notebookId": "d63bc697-2b4e-4e70-9772-8a0e2962969e",
  "notebookPath": "Notebooks/ru_mt5_ycloud.ipynb",
  "widgets": {
   "application/vnd.jupyter.widget-state+json": {
    "00876108d2974d4a85285fc0ad3e9b04": {
     "model_module": "@jupyter-widgets/controls",
     "model_module_version": "1.5.0",
     "model_name": "HTMLModel",
     "state": {
      "_dom_classes": [],
      "_model_module": "@jupyter-widgets/controls",
      "_model_module_version": "1.5.0",
      "_model_name": "HTMLModel",
      "_view_count": null,
      "_view_module": "@jupyter-widgets/controls",
      "_view_module_version": "1.5.0",
      "_view_name": "HTMLView",
      "description": "",
      "description_tooltip": null,
      "layout": "IPY_MODEL_663c495992b943c4a8fae13956c6cfb7",
      "placeholder": "​",
      "style": "IPY_MODEL_3e8e8d672a134895b91196650ccf035e",
      "value": " 82/82 [05:57&lt;00:00,  1.57s/it]"
     }
    },
    "01152cbbe9934596a73f12b4e55230a8": {
     "model_module": "@jupyter-widgets/base",
     "model_module_version": "1.2.0",
     "model_name": "LayoutModel",
     "state": {
      "_model_module": "@jupyter-widgets/base",
      "_model_module_version": "1.2.0",
      "_model_name": "LayoutModel",
      "_view_count": null,
      "_view_module": "@jupyter-widgets/base",
      "_view_module_version": "1.2.0",
      "_view_name": "LayoutView",
      "align_content": null,
      "align_items": null,
      "align_self": null,
      "border": null,
      "bottom": null,
      "display": null,
      "flex": null,
      "flex_flow": null,
      "grid_area": null,
      "grid_auto_columns": null,
      "grid_auto_flow": null,
      "grid_auto_rows": null,
      "grid_column": null,
      "grid_gap": null,
      "grid_row": null,
      "grid_template_areas": null,
      "grid_template_columns": null,
      "grid_template_rows": null,
      "height": null,
      "justify_content": null,
      "justify_items": null,
      "left": null,
      "margin": null,
      "max_height": null,
      "max_width": null,
      "min_height": null,
      "min_width": null,
      "object_fit": null,
      "object_position": null,
      "order": null,
      "overflow": null,
      "overflow_x": null,
      "overflow_y": null,
      "padding": null,
      "right": null,
      "top": null,
      "visibility": null,
      "width": null
     }
    },
    "0141219afc1143719f10fa5a99842af4": {
     "model_module": "@jupyter-widgets/controls",
     "model_module_version": "1.5.0",
     "model_name": "HTMLModel",
     "state": {
      "_dom_classes": [],
      "_model_module": "@jupyter-widgets/controls",
      "_model_module_version": "1.5.0",
      "_model_name": "HTMLModel",
      "_view_count": null,
      "_view_module": "@jupyter-widgets/controls",
      "_view_module_version": "1.5.0",
      "_view_name": "HTMLView",
      "description": "",
      "description_tooltip": null,
      "layout": "IPY_MODEL_480a4d1f6f4e48a797b8b699c720ad9c",
      "placeholder": "​",
      "style": "IPY_MODEL_acbad1e766c948c1941c06b7db50fe7b",
      "value": "Epochs 4/12. Running Loss:    1.9977: 100%"
     }
    },
    "016868cf755d452ca688369d8d46b370": {
     "model_module": "@jupyter-widgets/controls",
     "model_module_version": "1.5.0",
     "model_name": "DescriptionStyleModel",
     "state": {
      "_model_module": "@jupyter-widgets/controls",
      "_model_module_version": "1.5.0",
      "_model_name": "DescriptionStyleModel",
      "_view_count": null,
      "_view_module": "@jupyter-widgets/base",
      "_view_module_version": "1.2.0",
      "_view_name": "StyleView",
      "description_width": ""
     }
    },
    "01f6bf27400f4da28869e826ae1f259d": {
     "model_module": "@jupyter-widgets/controls",
     "model_module_version": "1.5.0",
     "model_name": "DescriptionStyleModel",
     "state": {
      "_model_module": "@jupyter-widgets/controls",
      "_model_module_version": "1.5.0",
      "_model_name": "DescriptionStyleModel",
      "_view_count": null,
      "_view_module": "@jupyter-widgets/base",
      "_view_module_version": "1.2.0",
      "_view_name": "StyleView",
      "description_width": ""
     }
    },
    "02969c4845fd4aa099cebd1d833e119e": {
     "model_module": "@jupyter-widgets/controls",
     "model_module_version": "1.5.0",
     "model_name": "DescriptionStyleModel",
     "state": {
      "_model_module": "@jupyter-widgets/controls",
      "_model_module_version": "1.5.0",
      "_model_name": "DescriptionStyleModel",
      "_view_count": null,
      "_view_module": "@jupyter-widgets/base",
      "_view_module_version": "1.2.0",
      "_view_name": "StyleView",
      "description_width": ""
     }
    },
    "039b19770db7414aa327e39d90ec55ee": {
     "model_module": "@jupyter-widgets/controls",
     "model_module_version": "1.5.0",
     "model_name": "HBoxModel",
     "state": {
      "_dom_classes": [],
      "_model_module": "@jupyter-widgets/controls",
      "_model_module_version": "1.5.0",
      "_model_name": "HBoxModel",
      "_view_count": null,
      "_view_module": "@jupyter-widgets/controls",
      "_view_module_version": "1.5.0",
      "_view_name": "HBoxView",
      "box_style": "",
      "children": [
       "IPY_MODEL_96448b2fd5324d7e85d266099d95d32c",
       "IPY_MODEL_c82c4424f9954f58b5109ce7ade702f1",
       "IPY_MODEL_67f86f0467cc458cb5099178dd11307c"
      ],
      "layout": "IPY_MODEL_33340c7713334a4395f61b42c468809f"
     }
    },
    "03cdc2ed456e4310abc199c0252a01ee": {
     "model_module": "@jupyter-widgets/base",
     "model_module_version": "1.2.0",
     "model_name": "LayoutModel",
     "state": {
      "_model_module": "@jupyter-widgets/base",
      "_model_module_version": "1.2.0",
      "_model_name": "LayoutModel",
      "_view_count": null,
      "_view_module": "@jupyter-widgets/base",
      "_view_module_version": "1.2.0",
      "_view_name": "LayoutView",
      "align_content": null,
      "align_items": null,
      "align_self": null,
      "border": null,
      "bottom": null,
      "display": null,
      "flex": null,
      "flex_flow": null,
      "grid_area": null,
      "grid_auto_columns": null,
      "grid_auto_flow": null,
      "grid_auto_rows": null,
      "grid_column": null,
      "grid_gap": null,
      "grid_row": null,
      "grid_template_areas": null,
      "grid_template_columns": null,
      "grid_template_rows": null,
      "height": null,
      "justify_content": null,
      "justify_items": null,
      "left": null,
      "margin": null,
      "max_height": null,
      "max_width": null,
      "min_height": null,
      "min_width": null,
      "object_fit": null,
      "object_position": null,
      "order": null,
      "overflow": null,
      "overflow_x": null,
      "overflow_y": null,
      "padding": null,
      "right": null,
      "top": null,
      "visibility": null,
      "width": null
     }
    },
    "0404498b044846a68a1973717c338bb0": {
     "model_module": "@jupyter-widgets/base",
     "model_module_version": "1.2.0",
     "model_name": "LayoutModel",
     "state": {
      "_model_module": "@jupyter-widgets/base",
      "_model_module_version": "1.2.0",
      "_model_name": "LayoutModel",
      "_view_count": null,
      "_view_module": "@jupyter-widgets/base",
      "_view_module_version": "1.2.0",
      "_view_name": "LayoutView",
      "align_content": null,
      "align_items": null,
      "align_self": null,
      "border": null,
      "bottom": null,
      "display": null,
      "flex": null,
      "flex_flow": null,
      "grid_area": null,
      "grid_auto_columns": null,
      "grid_auto_flow": null,
      "grid_auto_rows": null,
      "grid_column": null,
      "grid_gap": null,
      "grid_row": null,
      "grid_template_areas": null,
      "grid_template_columns": null,
      "grid_template_rows": null,
      "height": null,
      "justify_content": null,
      "justify_items": null,
      "left": null,
      "margin": null,
      "max_height": null,
      "max_width": null,
      "min_height": null,
      "min_width": null,
      "object_fit": null,
      "object_position": null,
      "order": null,
      "overflow": null,
      "overflow_x": null,
      "overflow_y": null,
      "padding": null,
      "right": null,
      "top": null,
      "visibility": null,
      "width": null
     }
    },
    "04282e1751464ac2ad96437d34e40a41": {
     "model_module": "@jupyter-widgets/base",
     "model_module_version": "1.2.0",
     "model_name": "LayoutModel",
     "state": {
      "_model_module": "@jupyter-widgets/base",
      "_model_module_version": "1.2.0",
      "_model_name": "LayoutModel",
      "_view_count": null,
      "_view_module": "@jupyter-widgets/base",
      "_view_module_version": "1.2.0",
      "_view_name": "LayoutView",
      "align_content": null,
      "align_items": null,
      "align_self": null,
      "border": null,
      "bottom": null,
      "display": null,
      "flex": null,
      "flex_flow": null,
      "grid_area": null,
      "grid_auto_columns": null,
      "grid_auto_flow": null,
      "grid_auto_rows": null,
      "grid_column": null,
      "grid_gap": null,
      "grid_row": null,
      "grid_template_areas": null,
      "grid_template_columns": null,
      "grid_template_rows": null,
      "height": null,
      "justify_content": null,
      "justify_items": null,
      "left": null,
      "margin": null,
      "max_height": null,
      "max_width": null,
      "min_height": null,
      "min_width": null,
      "object_fit": null,
      "object_position": null,
      "order": null,
      "overflow": null,
      "overflow_x": null,
      "overflow_y": null,
      "padding": null,
      "right": null,
      "top": null,
      "visibility": null,
      "width": null
     }
    },
    "057863e92ecf4c4392adf0f8b631e3ba": {
     "model_module": "@jupyter-widgets/base",
     "model_module_version": "1.2.0",
     "model_name": "LayoutModel",
     "state": {
      "_model_module": "@jupyter-widgets/base",
      "_model_module_version": "1.2.0",
      "_model_name": "LayoutModel",
      "_view_count": null,
      "_view_module": "@jupyter-widgets/base",
      "_view_module_version": "1.2.0",
      "_view_name": "LayoutView",
      "align_content": null,
      "align_items": null,
      "align_self": null,
      "border": null,
      "bottom": null,
      "display": null,
      "flex": null,
      "flex_flow": null,
      "grid_area": null,
      "grid_auto_columns": null,
      "grid_auto_flow": null,
      "grid_auto_rows": null,
      "grid_column": null,
      "grid_gap": null,
      "grid_row": null,
      "grid_template_areas": null,
      "grid_template_columns": null,
      "grid_template_rows": null,
      "height": null,
      "justify_content": null,
      "justify_items": null,
      "left": null,
      "margin": null,
      "max_height": null,
      "max_width": null,
      "min_height": null,
      "min_width": null,
      "object_fit": null,
      "object_position": null,
      "order": null,
      "overflow": null,
      "overflow_x": null,
      "overflow_y": null,
      "padding": null,
      "right": null,
      "top": null,
      "visibility": null,
      "width": null
     }
    },
    "063e725e1a8b4bcb99be8044a41df272": {
     "model_module": "@jupyter-widgets/base",
     "model_module_version": "1.2.0",
     "model_name": "LayoutModel",
     "state": {
      "_model_module": "@jupyter-widgets/base",
      "_model_module_version": "1.2.0",
      "_model_name": "LayoutModel",
      "_view_count": null,
      "_view_module": "@jupyter-widgets/base",
      "_view_module_version": "1.2.0",
      "_view_name": "LayoutView",
      "align_content": null,
      "align_items": null,
      "align_self": null,
      "border": null,
      "bottom": null,
      "display": null,
      "flex": null,
      "flex_flow": null,
      "grid_area": null,
      "grid_auto_columns": null,
      "grid_auto_flow": null,
      "grid_auto_rows": null,
      "grid_column": null,
      "grid_gap": null,
      "grid_row": null,
      "grid_template_areas": null,
      "grid_template_columns": null,
      "grid_template_rows": null,
      "height": null,
      "justify_content": null,
      "justify_items": null,
      "left": null,
      "margin": null,
      "max_height": null,
      "max_width": null,
      "min_height": null,
      "min_width": null,
      "object_fit": null,
      "object_position": null,
      "order": null,
      "overflow": null,
      "overflow_x": null,
      "overflow_y": null,
      "padding": null,
      "right": null,
      "top": null,
      "visibility": null,
      "width": null
     }
    },
    "06cb4c51ac0544b8b685ef1a16587217": {
     "model_module": "@jupyter-widgets/controls",
     "model_module_version": "1.5.0",
     "model_name": "DescriptionStyleModel",
     "state": {
      "_model_module": "@jupyter-widgets/controls",
      "_model_module_version": "1.5.0",
      "_model_name": "DescriptionStyleModel",
      "_view_count": null,
      "_view_module": "@jupyter-widgets/base",
      "_view_module_version": "1.2.0",
      "_view_name": "StyleView",
      "description_width": ""
     }
    },
    "084af33532704f4c936c970162eb23bb": {
     "model_module": "@jupyter-widgets/controls",
     "model_module_version": "1.5.0",
     "model_name": "DescriptionStyleModel",
     "state": {
      "_model_module": "@jupyter-widgets/controls",
      "_model_module_version": "1.5.0",
      "_model_name": "DescriptionStyleModel",
      "_view_count": null,
      "_view_module": "@jupyter-widgets/base",
      "_view_module_version": "1.2.0",
      "_view_name": "StyleView",
      "description_width": ""
     }
    },
    "096a58e5af7f442d90857ab402cf3ce3": {
     "model_module": "@jupyter-widgets/controls",
     "model_module_version": "1.5.0",
     "model_name": "DescriptionStyleModel",
     "state": {
      "_model_module": "@jupyter-widgets/controls",
      "_model_module_version": "1.5.0",
      "_model_name": "DescriptionStyleModel",
      "_view_count": null,
      "_view_module": "@jupyter-widgets/base",
      "_view_module_version": "1.2.0",
      "_view_name": "StyleView",
      "description_width": ""
     }
    },
    "09892ac6f7984ecf85d1540be0f4c267": {
     "model_module": "@jupyter-widgets/controls",
     "model_module_version": "1.5.0",
     "model_name": "FloatProgressModel",
     "state": {
      "_dom_classes": [],
      "_model_module": "@jupyter-widgets/controls",
      "_model_module_version": "1.5.0",
      "_model_name": "FloatProgressModel",
      "_view_count": null,
      "_view_module": "@jupyter-widgets/controls",
      "_view_module_version": "1.5.0",
      "_view_name": "ProgressView",
      "bar_style": "success",
      "description": "",
      "description_tooltip": null,
      "layout": "IPY_MODEL_3dffbd7f520541fab37c86d08e8948e8",
      "max": 2615,
      "min": 0,
      "orientation": "horizontal",
      "style": "IPY_MODEL_1908ff978fd4471ba41ce24e3e4ddad8",
      "value": 2615
     }
    },
    "09abff69e22747088756e0adfaf98032": {
     "model_module": "@jupyter-widgets/controls",
     "model_module_version": "1.5.0",
     "model_name": "ProgressStyleModel",
     "state": {
      "_model_module": "@jupyter-widgets/controls",
      "_model_module_version": "1.5.0",
      "_model_name": "ProgressStyleModel",
      "_view_count": null,
      "_view_module": "@jupyter-widgets/base",
      "_view_module_version": "1.2.0",
      "_view_name": "StyleView",
      "bar_color": null,
      "description_width": ""
     }
    },
    "0a1504d790184098a0ba5c20b65e47da": {
     "model_module": "@jupyter-widgets/controls",
     "model_module_version": "1.5.0",
     "model_name": "ProgressStyleModel",
     "state": {
      "_model_module": "@jupyter-widgets/controls",
      "_model_module_version": "1.5.0",
      "_model_name": "ProgressStyleModel",
      "_view_count": null,
      "_view_module": "@jupyter-widgets/base",
      "_view_module_version": "1.2.0",
      "_view_name": "StyleView",
      "bar_color": null,
      "description_width": ""
     }
    },
    "0a401753aa4045ca8643605267258a6a": {
     "model_module": "@jupyter-widgets/controls",
     "model_module_version": "1.5.0",
     "model_name": "HTMLModel",
     "state": {
      "_dom_classes": [],
      "_model_module": "@jupyter-widgets/controls",
      "_model_module_version": "1.5.0",
      "_model_name": "HTMLModel",
      "_view_count": null,
      "_view_module": "@jupyter-widgets/controls",
      "_view_module_version": "1.5.0",
      "_view_name": "HTMLView",
      "description": "",
      "description_tooltip": null,
      "layout": "IPY_MODEL_1a31b3afb38f447bbd3b8e1d56794f79",
      "placeholder": "​",
      "style": "IPY_MODEL_93a4b4df5c854a28af4d70a82886e977",
      "value": "Epochs 11/12. Running Loss:    0.9851: 100%"
     }
    },
    "0abad0acf1544247b3dd9a916254d4a6": {
     "model_module": "@jupyter-widgets/base",
     "model_module_version": "1.2.0",
     "model_name": "LayoutModel",
     "state": {
      "_model_module": "@jupyter-widgets/base",
      "_model_module_version": "1.2.0",
      "_model_name": "LayoutModel",
      "_view_count": null,
      "_view_module": "@jupyter-widgets/base",
      "_view_module_version": "1.2.0",
      "_view_name": "LayoutView",
      "align_content": null,
      "align_items": null,
      "align_self": null,
      "border": null,
      "bottom": null,
      "display": null,
      "flex": null,
      "flex_flow": null,
      "grid_area": null,
      "grid_auto_columns": null,
      "grid_auto_flow": null,
      "grid_auto_rows": null,
      "grid_column": null,
      "grid_gap": null,
      "grid_row": null,
      "grid_template_areas": null,
      "grid_template_columns": null,
      "grid_template_rows": null,
      "height": null,
      "justify_content": null,
      "justify_items": null,
      "left": null,
      "margin": null,
      "max_height": null,
      "max_width": null,
      "min_height": null,
      "min_width": null,
      "object_fit": null,
      "object_position": null,
      "order": null,
      "overflow": null,
      "overflow_x": null,
      "overflow_y": null,
      "padding": null,
      "right": null,
      "top": null,
      "visibility": null,
      "width": null
     }
    },
    "0c1e64356eef4eb69bd1896dde6f5550": {
     "model_module": "@jupyter-widgets/controls",
     "model_module_version": "1.5.0",
     "model_name": "HTMLModel",
     "state": {
      "_dom_classes": [],
      "_model_module": "@jupyter-widgets/controls",
      "_model_module_version": "1.5.0",
      "_model_name": "HTMLModel",
      "_view_count": null,
      "_view_module": "@jupyter-widgets/controls",
      "_view_module_version": "1.5.0",
      "_view_name": "HTMLView",
      "description": "",
      "description_tooltip": null,
      "layout": "IPY_MODEL_74ed0700b3fc4b46ae49ceb788d2a9af",
      "placeholder": "​",
      "style": "IPY_MODEL_f5b56d04849440778b8293f8e3ca40ef",
      "value": " 654/654 [00:02&lt;00:00, 338.41it/s]"
     }
    },
    "0c7c81fd06d046d69b98efbf70e79d76": {
     "model_module": "@jupyter-widgets/controls",
     "model_module_version": "1.5.0",
     "model_name": "FloatProgressModel",
     "state": {
      "_dom_classes": [],
      "_model_module": "@jupyter-widgets/controls",
      "_model_module_version": "1.5.0",
      "_model_name": "FloatProgressModel",
      "_view_count": null,
      "_view_module": "@jupyter-widgets/controls",
      "_view_module_version": "1.5.0",
      "_view_name": "ProgressView",
      "bar_style": "success",
      "description": "",
      "description_tooltip": null,
      "layout": "IPY_MODEL_063e725e1a8b4bcb99be8044a41df272",
      "max": 88,
      "min": 0,
      "orientation": "horizontal",
      "style": "IPY_MODEL_4b53c6dcdd1044e4af79fc6a039ee0e7",
      "value": 88
     }
    },
    "0f2b6ac1e3a24904ab1e6d7c47034f19": {
     "model_module": "@jupyter-widgets/controls",
     "model_module_version": "1.5.0",
     "model_name": "HTMLModel",
     "state": {
      "_dom_classes": [],
      "_model_module": "@jupyter-widgets/controls",
      "_model_module_version": "1.5.0",
      "_model_name": "HTMLModel",
      "_view_count": null,
      "_view_module": "@jupyter-widgets/controls",
      "_view_module_version": "1.5.0",
      "_view_name": "HTMLView",
      "description": "",
      "description_tooltip": null,
      "layout": "IPY_MODEL_59cfb6f0eac24b49a9b17796624bb016",
      "placeholder": "​",
      "style": "IPY_MODEL_02969c4845fd4aa099cebd1d833e119e",
      "value": " 88/88 [00:38&lt;00:00,  2.81it/s]"
     }
    },
    "0feeff43eecb4f12bcbd42338676dede": {
     "model_module": "@jupyter-widgets/controls",
     "model_module_version": "1.5.0",
     "model_name": "DescriptionStyleModel",
     "state": {
      "_model_module": "@jupyter-widgets/controls",
      "_model_module_version": "1.5.0",
      "_model_name": "DescriptionStyleModel",
      "_view_count": null,
      "_view_module": "@jupyter-widgets/base",
      "_view_module_version": "1.2.0",
      "_view_name": "StyleView",
      "description_width": ""
     }
    },
    "102d4c38186d4f2f96299d557ad8fb16": {
     "model_module": "@jupyter-widgets/controls",
     "model_module_version": "1.5.0",
     "model_name": "DescriptionStyleModel",
     "state": {
      "_model_module": "@jupyter-widgets/controls",
      "_model_module_version": "1.5.0",
      "_model_name": "DescriptionStyleModel",
      "_view_count": null,
      "_view_module": "@jupyter-widgets/base",
      "_view_module_version": "1.2.0",
      "_view_name": "StyleView",
      "description_width": ""
     }
    },
    "104d1d3c4abe4c469d0cfaa9797555c7": {
     "model_module": "@jupyter-widgets/controls",
     "model_module_version": "1.5.0",
     "model_name": "ProgressStyleModel",
     "state": {
      "_model_module": "@jupyter-widgets/controls",
      "_model_module_version": "1.5.0",
      "_model_name": "ProgressStyleModel",
      "_view_count": null,
      "_view_module": "@jupyter-widgets/base",
      "_view_module_version": "1.2.0",
      "_view_name": "StyleView",
      "bar_color": null,
      "description_width": ""
     }
    },
    "107ab26d613c46f385311a6577eda3cb": {
     "model_module": "@jupyter-widgets/controls",
     "model_module_version": "1.5.0",
     "model_name": "HTMLModel",
     "state": {
      "_dom_classes": [],
      "_model_module": "@jupyter-widgets/controls",
      "_model_module_version": "1.5.0",
      "_model_name": "HTMLModel",
      "_view_count": null,
      "_view_module": "@jupyter-widgets/controls",
      "_view_module_version": "1.5.0",
      "_view_name": "HTMLView",
      "description": "",
      "description_tooltip": null,
      "layout": "IPY_MODEL_057863e92ecf4c4392adf0f8b631e3ba",
      "placeholder": "​",
      "style": "IPY_MODEL_551a94126a4c44ff9ef976fd7b99b25e",
      "value": "100%"
     }
    },
    "110f8c2b0082440d99b917e574f546b8": {
     "model_module": "@jupyter-widgets/controls",
     "model_module_version": "1.5.0",
     "model_name": "HTMLModel",
     "state": {
      "_dom_classes": [],
      "_model_module": "@jupyter-widgets/controls",
      "_model_module_version": "1.5.0",
      "_model_name": "HTMLModel",
      "_view_count": null,
      "_view_module": "@jupyter-widgets/controls",
      "_view_module_version": "1.5.0",
      "_view_name": "HTMLView",
      "description": "",
      "description_tooltip": null,
      "layout": "IPY_MODEL_982ce11f569e459f955f3bbd4ea31c42",
      "placeholder": "​",
      "style": "IPY_MODEL_c4da41fa0a444fb6a636e23095404b7d",
      "value": "Epochs 0/12. Running Loss:    2.0455: 100%"
     }
    },
    "115b3ffdd6b645a687ec1df438a67c43": {
     "model_module": "@jupyter-widgets/controls",
     "model_module_version": "1.5.0",
     "model_name": "DescriptionStyleModel",
     "state": {
      "_model_module": "@jupyter-widgets/controls",
      "_model_module_version": "1.5.0",
      "_model_name": "DescriptionStyleModel",
      "_view_count": null,
      "_view_module": "@jupyter-widgets/base",
      "_view_module_version": "1.2.0",
      "_view_name": "StyleView",
      "description_width": ""
     }
    },
    "11677e2e4d2f42b785c1e3dc4860b693": {
     "model_module": "@jupyter-widgets/base",
     "model_module_version": "1.2.0",
     "model_name": "LayoutModel",
     "state": {
      "_model_module": "@jupyter-widgets/base",
      "_model_module_version": "1.2.0",
      "_model_name": "LayoutModel",
      "_view_count": null,
      "_view_module": "@jupyter-widgets/base",
      "_view_module_version": "1.2.0",
      "_view_name": "LayoutView",
      "align_content": null,
      "align_items": null,
      "align_self": null,
      "border": null,
      "bottom": null,
      "display": null,
      "flex": null,
      "flex_flow": null,
      "grid_area": null,
      "grid_auto_columns": null,
      "grid_auto_flow": null,
      "grid_auto_rows": null,
      "grid_column": null,
      "grid_gap": null,
      "grid_row": null,
      "grid_template_areas": null,
      "grid_template_columns": null,
      "grid_template_rows": null,
      "height": null,
      "justify_content": null,
      "justify_items": null,
      "left": null,
      "margin": null,
      "max_height": null,
      "max_width": null,
      "min_height": null,
      "min_width": null,
      "object_fit": null,
      "object_position": null,
      "order": null,
      "overflow": null,
      "overflow_x": null,
      "overflow_y": null,
      "padding": null,
      "right": null,
      "top": null,
      "visibility": null,
      "width": null
     }
    },
    "120ba06b3eec434489fd2943270d55cb": {
     "model_module": "@jupyter-widgets/controls",
     "model_module_version": "1.5.0",
     "model_name": "HBoxModel",
     "state": {
      "_dom_classes": [],
      "_model_module": "@jupyter-widgets/controls",
      "_model_module_version": "1.5.0",
      "_model_name": "HBoxModel",
      "_view_count": null,
      "_view_module": "@jupyter-widgets/controls",
      "_view_module_version": "1.5.0",
      "_view_name": "HBoxView",
      "box_style": "",
      "children": [
       "IPY_MODEL_77390a95bc8e4c0c9ad1758693e79666",
       "IPY_MODEL_37b10735d7d54941b30c80a93ec13331",
       "IPY_MODEL_52a986d8a64548618f969e7f13dab2a1"
      ],
      "layout": "IPY_MODEL_a46486cdacb1472189e1b8ec210d610b"
     }
    },
    "12ea18a8c2df47a899ddad68c8564d7e": {
     "model_module": "@jupyter-widgets/controls",
     "model_module_version": "1.5.0",
     "model_name": "ProgressStyleModel",
     "state": {
      "_model_module": "@jupyter-widgets/controls",
      "_model_module_version": "1.5.0",
      "_model_name": "ProgressStyleModel",
      "_view_count": null,
      "_view_module": "@jupyter-widgets/base",
      "_view_module_version": "1.2.0",
      "_view_name": "StyleView",
      "bar_color": null,
      "description_width": ""
     }
    },
    "1382fb4f1cd0441f8051c8dbdc2ebe88": {
     "model_module": "@jupyter-widgets/controls",
     "model_module_version": "1.5.0",
     "model_name": "FloatProgressModel",
     "state": {
      "_dom_classes": [],
      "_model_module": "@jupyter-widgets/controls",
      "_model_module_version": "1.5.0",
      "_model_name": "FloatProgressModel",
      "_view_count": null,
      "_view_module": "@jupyter-widgets/controls",
      "_view_module_version": "1.5.0",
      "_view_name": "ProgressView",
      "bar_style": "success",
      "description": "",
      "description_tooltip": null,
      "layout": "IPY_MODEL_204272f5ebdf43c2bf8095aec30caf41",
      "max": 88,
      "min": 0,
      "orientation": "horizontal",
      "style": "IPY_MODEL_afc38e7408dd471abfb353aa948db81e",
      "value": 88
     }
    },
    "13a50e079e514e6b9e8799f82cb52536": {
     "model_module": "@jupyter-widgets/base",
     "model_module_version": "1.2.0",
     "model_name": "LayoutModel",
     "state": {
      "_model_module": "@jupyter-widgets/base",
      "_model_module_version": "1.2.0",
      "_model_name": "LayoutModel",
      "_view_count": null,
      "_view_module": "@jupyter-widgets/base",
      "_view_module_version": "1.2.0",
      "_view_name": "LayoutView",
      "align_content": null,
      "align_items": null,
      "align_self": null,
      "border": null,
      "bottom": null,
      "display": null,
      "flex": null,
      "flex_flow": null,
      "grid_area": null,
      "grid_auto_columns": null,
      "grid_auto_flow": null,
      "grid_auto_rows": null,
      "grid_column": null,
      "grid_gap": null,
      "grid_row": null,
      "grid_template_areas": null,
      "grid_template_columns": null,
      "grid_template_rows": null,
      "height": null,
      "justify_content": null,
      "justify_items": null,
      "left": null,
      "margin": null,
      "max_height": null,
      "max_width": null,
      "min_height": null,
      "min_width": null,
      "object_fit": null,
      "object_position": null,
      "order": null,
      "overflow": null,
      "overflow_x": null,
      "overflow_y": null,
      "padding": null,
      "right": null,
      "top": null,
      "visibility": null,
      "width": null
     }
    },
    "13ea8d0f395e4d7cb8de8c0dcad2ec79": {
     "model_module": "@jupyter-widgets/controls",
     "model_module_version": "1.5.0",
     "model_name": "HTMLModel",
     "state": {
      "_dom_classes": [],
      "_model_module": "@jupyter-widgets/controls",
      "_model_module_version": "1.5.0",
      "_model_name": "HTMLModel",
      "_view_count": null,
      "_view_module": "@jupyter-widgets/controls",
      "_view_module_version": "1.5.0",
      "_view_name": "HTMLView",
      "description": "",
      "description_tooltip": null,
      "layout": "IPY_MODEL_163007bdecb44c45abbb79f0014813f0",
      "placeholder": "​",
      "style": "IPY_MODEL_c7ea228fcec94aab996a96ca9f67e8d2",
      "value": "100%"
     }
    },
    "163007bdecb44c45abbb79f0014813f0": {
     "model_module": "@jupyter-widgets/base",
     "model_module_version": "1.2.0",
     "model_name": "LayoutModel",
     "state": {
      "_model_module": "@jupyter-widgets/base",
      "_model_module_version": "1.2.0",
      "_model_name": "LayoutModel",
      "_view_count": null,
      "_view_module": "@jupyter-widgets/base",
      "_view_module_version": "1.2.0",
      "_view_name": "LayoutView",
      "align_content": null,
      "align_items": null,
      "align_self": null,
      "border": null,
      "bottom": null,
      "display": null,
      "flex": null,
      "flex_flow": null,
      "grid_area": null,
      "grid_auto_columns": null,
      "grid_auto_flow": null,
      "grid_auto_rows": null,
      "grid_column": null,
      "grid_gap": null,
      "grid_row": null,
      "grid_template_areas": null,
      "grid_template_columns": null,
      "grid_template_rows": null,
      "height": null,
      "justify_content": null,
      "justify_items": null,
      "left": null,
      "margin": null,
      "max_height": null,
      "max_width": null,
      "min_height": null,
      "min_width": null,
      "object_fit": null,
      "object_position": null,
      "order": null,
      "overflow": null,
      "overflow_x": null,
      "overflow_y": null,
      "padding": null,
      "right": null,
      "top": null,
      "visibility": null,
      "width": null
     }
    },
    "1908ff978fd4471ba41ce24e3e4ddad8": {
     "model_module": "@jupyter-widgets/controls",
     "model_module_version": "1.5.0",
     "model_name": "ProgressStyleModel",
     "state": {
      "_model_module": "@jupyter-widgets/controls",
      "_model_module_version": "1.5.0",
      "_model_name": "ProgressStyleModel",
      "_view_count": null,
      "_view_module": "@jupyter-widgets/base",
      "_view_module_version": "1.2.0",
      "_view_name": "StyleView",
      "bar_color": null,
      "description_width": ""
     }
    },
    "191257c56ca744e498f51adbac9bc705": {
     "model_module": "@jupyter-widgets/controls",
     "model_module_version": "1.5.0",
     "model_name": "FloatProgressModel",
     "state": {
      "_dom_classes": [],
      "_model_module": "@jupyter-widgets/controls",
      "_model_module_version": "1.5.0",
      "_model_name": "FloatProgressModel",
      "_view_count": null,
      "_view_module": "@jupyter-widgets/controls",
      "_view_module_version": "1.5.0",
      "_view_name": "ProgressView",
      "bar_style": "success",
      "description": "",
      "description_tooltip": null,
      "layout": "IPY_MODEL_7f8f45b27fa64f60852fd78682386c57",
      "max": 654,
      "min": 0,
      "orientation": "horizontal",
      "style": "IPY_MODEL_33ccdd4477594ad8b1fafbde6072436f",
      "value": 654
     }
    },
    "19cfd40e2a07404a9a9836dbaffbbe6c": {
     "model_module": "@jupyter-widgets/base",
     "model_module_version": "1.2.0",
     "model_name": "LayoutModel",
     "state": {
      "_model_module": "@jupyter-widgets/base",
      "_model_module_version": "1.2.0",
      "_model_name": "LayoutModel",
      "_view_count": null,
      "_view_module": "@jupyter-widgets/base",
      "_view_module_version": "1.2.0",
      "_view_name": "LayoutView",
      "align_content": null,
      "align_items": null,
      "align_self": null,
      "border": null,
      "bottom": null,
      "display": null,
      "flex": null,
      "flex_flow": null,
      "grid_area": null,
      "grid_auto_columns": null,
      "grid_auto_flow": null,
      "grid_auto_rows": null,
      "grid_column": null,
      "grid_gap": null,
      "grid_row": null,
      "grid_template_areas": null,
      "grid_template_columns": null,
      "grid_template_rows": null,
      "height": null,
      "justify_content": null,
      "justify_items": null,
      "left": null,
      "margin": null,
      "max_height": null,
      "max_width": null,
      "min_height": null,
      "min_width": null,
      "object_fit": null,
      "object_position": null,
      "order": null,
      "overflow": null,
      "overflow_x": null,
      "overflow_y": null,
      "padding": null,
      "right": null,
      "top": null,
      "visibility": null,
      "width": null
     }
    },
    "19e9db7db2f04736b1d0a5ced15ad2fd": {
     "model_module": "@jupyter-widgets/base",
     "model_module_version": "1.2.0",
     "model_name": "LayoutModel",
     "state": {
      "_model_module": "@jupyter-widgets/base",
      "_model_module_version": "1.2.0",
      "_model_name": "LayoutModel",
      "_view_count": null,
      "_view_module": "@jupyter-widgets/base",
      "_view_module_version": "1.2.0",
      "_view_name": "LayoutView",
      "align_content": null,
      "align_items": null,
      "align_self": null,
      "border": null,
      "bottom": null,
      "display": null,
      "flex": null,
      "flex_flow": null,
      "grid_area": null,
      "grid_auto_columns": null,
      "grid_auto_flow": null,
      "grid_auto_rows": null,
      "grid_column": null,
      "grid_gap": null,
      "grid_row": null,
      "grid_template_areas": null,
      "grid_template_columns": null,
      "grid_template_rows": null,
      "height": null,
      "justify_content": null,
      "justify_items": null,
      "left": null,
      "margin": null,
      "max_height": null,
      "max_width": null,
      "min_height": null,
      "min_width": null,
      "object_fit": null,
      "object_position": null,
      "order": null,
      "overflow": null,
      "overflow_x": null,
      "overflow_y": null,
      "padding": null,
      "right": null,
      "top": null,
      "visibility": null,
      "width": null
     }
    },
    "1a31b3afb38f447bbd3b8e1d56794f79": {
     "model_module": "@jupyter-widgets/base",
     "model_module_version": "1.2.0",
     "model_name": "LayoutModel",
     "state": {
      "_model_module": "@jupyter-widgets/base",
      "_model_module_version": "1.2.0",
      "_model_name": "LayoutModel",
      "_view_count": null,
      "_view_module": "@jupyter-widgets/base",
      "_view_module_version": "1.2.0",
      "_view_name": "LayoutView",
      "align_content": null,
      "align_items": null,
      "align_self": null,
      "border": null,
      "bottom": null,
      "display": null,
      "flex": null,
      "flex_flow": null,
      "grid_area": null,
      "grid_auto_columns": null,
      "grid_auto_flow": null,
      "grid_auto_rows": null,
      "grid_column": null,
      "grid_gap": null,
      "grid_row": null,
      "grid_template_areas": null,
      "grid_template_columns": null,
      "grid_template_rows": null,
      "height": null,
      "justify_content": null,
      "justify_items": null,
      "left": null,
      "margin": null,
      "max_height": null,
      "max_width": null,
      "min_height": null,
      "min_width": null,
      "object_fit": null,
      "object_position": null,
      "order": null,
      "overflow": null,
      "overflow_x": null,
      "overflow_y": null,
      "padding": null,
      "right": null,
      "top": null,
      "visibility": null,
      "width": null
     }
    },
    "1bad4658ab3d40a5b3875980672c9e88": {
     "model_module": "@jupyter-widgets/base",
     "model_module_version": "1.2.0",
     "model_name": "LayoutModel",
     "state": {
      "_model_module": "@jupyter-widgets/base",
      "_model_module_version": "1.2.0",
      "_model_name": "LayoutModel",
      "_view_count": null,
      "_view_module": "@jupyter-widgets/base",
      "_view_module_version": "1.2.0",
      "_view_name": "LayoutView",
      "align_content": null,
      "align_items": null,
      "align_self": null,
      "border": null,
      "bottom": null,
      "display": null,
      "flex": null,
      "flex_flow": null,
      "grid_area": null,
      "grid_auto_columns": null,
      "grid_auto_flow": null,
      "grid_auto_rows": null,
      "grid_column": null,
      "grid_gap": null,
      "grid_row": null,
      "grid_template_areas": null,
      "grid_template_columns": null,
      "grid_template_rows": null,
      "height": null,
      "justify_content": null,
      "justify_items": null,
      "left": null,
      "margin": null,
      "max_height": null,
      "max_width": null,
      "min_height": null,
      "min_width": null,
      "object_fit": null,
      "object_position": null,
      "order": null,
      "overflow": null,
      "overflow_x": null,
      "overflow_y": null,
      "padding": null,
      "right": null,
      "top": null,
      "visibility": null,
      "width": null
     }
    },
    "1be915d5c22c461291db2cb3723b76b8": {
     "model_module": "@jupyter-widgets/base",
     "model_module_version": "1.2.0",
     "model_name": "LayoutModel",
     "state": {
      "_model_module": "@jupyter-widgets/base",
      "_model_module_version": "1.2.0",
      "_model_name": "LayoutModel",
      "_view_count": null,
      "_view_module": "@jupyter-widgets/base",
      "_view_module_version": "1.2.0",
      "_view_name": "LayoutView",
      "align_content": null,
      "align_items": null,
      "align_self": null,
      "border": null,
      "bottom": null,
      "display": null,
      "flex": null,
      "flex_flow": null,
      "grid_area": null,
      "grid_auto_columns": null,
      "grid_auto_flow": null,
      "grid_auto_rows": null,
      "grid_column": null,
      "grid_gap": null,
      "grid_row": null,
      "grid_template_areas": null,
      "grid_template_columns": null,
      "grid_template_rows": null,
      "height": null,
      "justify_content": null,
      "justify_items": null,
      "left": null,
      "margin": null,
      "max_height": null,
      "max_width": null,
      "min_height": null,
      "min_width": null,
      "object_fit": null,
      "object_position": null,
      "order": null,
      "overflow": null,
      "overflow_x": null,
      "overflow_y": null,
      "padding": null,
      "right": null,
      "top": null,
      "visibility": null,
      "width": null
     }
    },
    "1c9d29fb797e435b824347059310d820": {
     "model_module": "@jupyter-widgets/base",
     "model_module_version": "1.2.0",
     "model_name": "LayoutModel",
     "state": {
      "_model_module": "@jupyter-widgets/base",
      "_model_module_version": "1.2.0",
      "_model_name": "LayoutModel",
      "_view_count": null,
      "_view_module": "@jupyter-widgets/base",
      "_view_module_version": "1.2.0",
      "_view_name": "LayoutView",
      "align_content": null,
      "align_items": null,
      "align_self": null,
      "border": null,
      "bottom": null,
      "display": null,
      "flex": null,
      "flex_flow": null,
      "grid_area": null,
      "grid_auto_columns": null,
      "grid_auto_flow": null,
      "grid_auto_rows": null,
      "grid_column": null,
      "grid_gap": null,
      "grid_row": null,
      "grid_template_areas": null,
      "grid_template_columns": null,
      "grid_template_rows": null,
      "height": null,
      "justify_content": null,
      "justify_items": null,
      "left": null,
      "margin": null,
      "max_height": null,
      "max_width": null,
      "min_height": null,
      "min_width": null,
      "object_fit": null,
      "object_position": null,
      "order": null,
      "overflow": null,
      "overflow_x": null,
      "overflow_y": null,
      "padding": null,
      "right": null,
      "top": null,
      "visibility": null,
      "width": null
     }
    },
    "1cb416e79e5f41a69a89832ffe5f0d98": {
     "model_module": "@jupyter-widgets/base",
     "model_module_version": "1.2.0",
     "model_name": "LayoutModel",
     "state": {
      "_model_module": "@jupyter-widgets/base",
      "_model_module_version": "1.2.0",
      "_model_name": "LayoutModel",
      "_view_count": null,
      "_view_module": "@jupyter-widgets/base",
      "_view_module_version": "1.2.0",
      "_view_name": "LayoutView",
      "align_content": null,
      "align_items": null,
      "align_self": null,
      "border": null,
      "bottom": null,
      "display": null,
      "flex": null,
      "flex_flow": null,
      "grid_area": null,
      "grid_auto_columns": null,
      "grid_auto_flow": null,
      "grid_auto_rows": null,
      "grid_column": null,
      "grid_gap": null,
      "grid_row": null,
      "grid_template_areas": null,
      "grid_template_columns": null,
      "grid_template_rows": null,
      "height": null,
      "justify_content": null,
      "justify_items": null,
      "left": null,
      "margin": null,
      "max_height": null,
      "max_width": null,
      "min_height": null,
      "min_width": null,
      "object_fit": null,
      "object_position": null,
      "order": null,
      "overflow": null,
      "overflow_x": null,
      "overflow_y": null,
      "padding": null,
      "right": null,
      "top": null,
      "visibility": null,
      "width": null
     }
    },
    "1de3abf54de14efca1a09777fe097e06": {
     "model_module": "@jupyter-widgets/controls",
     "model_module_version": "1.5.0",
     "model_name": "HBoxModel",
     "state": {
      "_dom_classes": [],
      "_model_module": "@jupyter-widgets/controls",
      "_model_module_version": "1.5.0",
      "_model_name": "HBoxModel",
      "_view_count": null,
      "_view_module": "@jupyter-widgets/controls",
      "_view_module_version": "1.5.0",
      "_view_name": "HBoxView",
      "box_style": "",
      "children": [
       "IPY_MODEL_49ea4ce451ea4ac793f281fd8d416ee2",
       "IPY_MODEL_90e43d5b251c4aa8880c3b9aeb0054bc",
       "IPY_MODEL_649e3916dff84e36b93d93bd08f29ba0"
      ],
      "layout": "IPY_MODEL_4a3ce54f961f4d68bd54fefbac25a189"
     }
    },
    "1e306c2bd918457c8621ac596dd9b620": {
     "model_module": "@jupyter-widgets/controls",
     "model_module_version": "1.5.0",
     "model_name": "DescriptionStyleModel",
     "state": {
      "_model_module": "@jupyter-widgets/controls",
      "_model_module_version": "1.5.0",
      "_model_name": "DescriptionStyleModel",
      "_view_count": null,
      "_view_module": "@jupyter-widgets/base",
      "_view_module_version": "1.2.0",
      "_view_name": "StyleView",
      "description_width": ""
     }
    },
    "1e8ba349c29d4342bb3b1c2566d445a1": {
     "model_module": "@jupyter-widgets/controls",
     "model_module_version": "1.5.0",
     "model_name": "HTMLModel",
     "state": {
      "_dom_classes": [],
      "_model_module": "@jupyter-widgets/controls",
      "_model_module_version": "1.5.0",
      "_model_name": "HTMLModel",
      "_view_count": null,
      "_view_module": "@jupyter-widgets/controls",
      "_view_module_version": "1.5.0",
      "_view_name": "HTMLView",
      "description": "",
      "description_tooltip": null,
      "layout": "IPY_MODEL_221a38316f844ab0a326a4939efffae3",
      "placeholder": "​",
      "style": "IPY_MODEL_c1788e660b4b42539b95ad966bada078",
      "value": " 12/12 [08:59&lt;00:00, 44.52s/it]"
     }
    },
    "204272f5ebdf43c2bf8095aec30caf41": {
     "model_module": "@jupyter-widgets/base",
     "model_module_version": "1.2.0",
     "model_name": "LayoutModel",
     "state": {
      "_model_module": "@jupyter-widgets/base",
      "_model_module_version": "1.2.0",
      "_model_name": "LayoutModel",
      "_view_count": null,
      "_view_module": "@jupyter-widgets/base",
      "_view_module_version": "1.2.0",
      "_view_name": "LayoutView",
      "align_content": null,
      "align_items": null,
      "align_self": null,
      "border": null,
      "bottom": null,
      "display": null,
      "flex": null,
      "flex_flow": null,
      "grid_area": null,
      "grid_auto_columns": null,
      "grid_auto_flow": null,
      "grid_auto_rows": null,
      "grid_column": null,
      "grid_gap": null,
      "grid_row": null,
      "grid_template_areas": null,
      "grid_template_columns": null,
      "grid_template_rows": null,
      "height": null,
      "justify_content": null,
      "justify_items": null,
      "left": null,
      "margin": null,
      "max_height": null,
      "max_width": null,
      "min_height": null,
      "min_width": null,
      "object_fit": null,
      "object_position": null,
      "order": null,
      "overflow": null,
      "overflow_x": null,
      "overflow_y": null,
      "padding": null,
      "right": null,
      "top": null,
      "visibility": null,
      "width": null
     }
    },
    "221a38316f844ab0a326a4939efffae3": {
     "model_module": "@jupyter-widgets/base",
     "model_module_version": "1.2.0",
     "model_name": "LayoutModel",
     "state": {
      "_model_module": "@jupyter-widgets/base",
      "_model_module_version": "1.2.0",
      "_model_name": "LayoutModel",
      "_view_count": null,
      "_view_module": "@jupyter-widgets/base",
      "_view_module_version": "1.2.0",
      "_view_name": "LayoutView",
      "align_content": null,
      "align_items": null,
      "align_self": null,
      "border": null,
      "bottom": null,
      "display": null,
      "flex": null,
      "flex_flow": null,
      "grid_area": null,
      "grid_auto_columns": null,
      "grid_auto_flow": null,
      "grid_auto_rows": null,
      "grid_column": null,
      "grid_gap": null,
      "grid_row": null,
      "grid_template_areas": null,
      "grid_template_columns": null,
      "grid_template_rows": null,
      "height": null,
      "justify_content": null,
      "justify_items": null,
      "left": null,
      "margin": null,
      "max_height": null,
      "max_width": null,
      "min_height": null,
      "min_width": null,
      "object_fit": null,
      "object_position": null,
      "order": null,
      "overflow": null,
      "overflow_x": null,
      "overflow_y": null,
      "padding": null,
      "right": null,
      "top": null,
      "visibility": null,
      "width": null
     }
    },
    "235de09cfec94670a7e1ae1649a090f3": {
     "model_module": "@jupyter-widgets/controls",
     "model_module_version": "1.5.0",
     "model_name": "HTMLModel",
     "state": {
      "_dom_classes": [],
      "_model_module": "@jupyter-widgets/controls",
      "_model_module_version": "1.5.0",
      "_model_name": "HTMLModel",
      "_view_count": null,
      "_view_module": "@jupyter-widgets/controls",
      "_view_module_version": "1.5.0",
      "_view_name": "HTMLView",
      "description": "",
      "description_tooltip": null,
      "layout": "IPY_MODEL_35766b5eef704c17ac1b78c44a6b00b2",
      "placeholder": "​",
      "style": "IPY_MODEL_4bc56c50daa34f588dc85d4e565f09fc",
      "value": " 88/88 [00:38&lt;00:00,  2.83it/s]"
     }
    },
    "23b9707dec304a5a8da2e18a6c1f96c5": {
     "model_module": "@jupyter-widgets/controls",
     "model_module_version": "1.5.0",
     "model_name": "FloatProgressModel",
     "state": {
      "_dom_classes": [],
      "_model_module": "@jupyter-widgets/controls",
      "_model_module_version": "1.5.0",
      "_model_name": "FloatProgressModel",
      "_view_count": null,
      "_view_module": "@jupyter-widgets/controls",
      "_view_module_version": "1.5.0",
      "_view_name": "ProgressView",
      "bar_style": "success",
      "description": "",
      "description_tooltip": null,
      "layout": "IPY_MODEL_7fa2f920b2594ad59423db51d0000838",
      "max": 88,
      "min": 0,
      "orientation": "horizontal",
      "style": "IPY_MODEL_9476ae28614a47f5a739b5fc8e50e177",
      "value": 88
     }
    },
    "26303c61443f40afac31184993ae61e1": {
     "model_module": "@jupyter-widgets/base",
     "model_module_version": "1.2.0",
     "model_name": "LayoutModel",
     "state": {
      "_model_module": "@jupyter-widgets/base",
      "_model_module_version": "1.2.0",
      "_model_name": "LayoutModel",
      "_view_count": null,
      "_view_module": "@jupyter-widgets/base",
      "_view_module_version": "1.2.0",
      "_view_name": "LayoutView",
      "align_content": null,
      "align_items": null,
      "align_self": null,
      "border": null,
      "bottom": null,
      "display": null,
      "flex": null,
      "flex_flow": null,
      "grid_area": null,
      "grid_auto_columns": null,
      "grid_auto_flow": null,
      "grid_auto_rows": null,
      "grid_column": null,
      "grid_gap": null,
      "grid_row": null,
      "grid_template_areas": null,
      "grid_template_columns": null,
      "grid_template_rows": null,
      "height": null,
      "justify_content": null,
      "justify_items": null,
      "left": null,
      "margin": null,
      "max_height": null,
      "max_width": null,
      "min_height": null,
      "min_width": null,
      "object_fit": null,
      "object_position": null,
      "order": null,
      "overflow": null,
      "overflow_x": null,
      "overflow_y": null,
      "padding": null,
      "right": null,
      "top": null,
      "visibility": null,
      "width": null
     }
    },
    "266134dcef4e441fa6ddb82a583b14c6": {
     "model_module": "@jupyter-widgets/controls",
     "model_module_version": "1.5.0",
     "model_name": "ProgressStyleModel",
     "state": {
      "_model_module": "@jupyter-widgets/controls",
      "_model_module_version": "1.5.0",
      "_model_name": "ProgressStyleModel",
      "_view_count": null,
      "_view_module": "@jupyter-widgets/base",
      "_view_module_version": "1.2.0",
      "_view_name": "StyleView",
      "bar_color": null,
      "description_width": ""
     }
    },
    "26966e787cf54b0180c27b1fdcfc09f5": {
     "model_module": "@jupyter-widgets/controls",
     "model_module_version": "1.5.0",
     "model_name": "FloatProgressModel",
     "state": {
      "_dom_classes": [],
      "_model_module": "@jupyter-widgets/controls",
      "_model_module_version": "1.5.0",
      "_model_name": "FloatProgressModel",
      "_view_count": null,
      "_view_module": "@jupyter-widgets/controls",
      "_view_module_version": "1.5.0",
      "_view_name": "ProgressView",
      "bar_style": "success",
      "description": "",
      "description_tooltip": null,
      "layout": "IPY_MODEL_a83e8bb5446d4f54b524abfe06c00e47",
      "max": 88,
      "min": 0,
      "orientation": "horizontal",
      "style": "IPY_MODEL_d8fa2882ac6b4f2cb4479a45d6fdc1bf",
      "value": 88
     }
    },
    "26d2934965544fbc8b593c6905a9314f": {
     "model_module": "@jupyter-widgets/controls",
     "model_module_version": "1.5.0",
     "model_name": "FloatProgressModel",
     "state": {
      "_dom_classes": [],
      "_model_module": "@jupyter-widgets/controls",
      "_model_module_version": "1.5.0",
      "_model_name": "FloatProgressModel",
      "_view_count": null,
      "_view_module": "@jupyter-widgets/controls",
      "_view_module_version": "1.5.0",
      "_view_name": "ProgressView",
      "bar_style": "success",
      "description": "",
      "description_tooltip": null,
      "layout": "IPY_MODEL_82c7bba18b5743bd8e69f9f6bfa10fb2",
      "max": 654,
      "min": 0,
      "orientation": "horizontal",
      "style": "IPY_MODEL_9b2cda7eb4d84dd7b35ff49f15cfa391",
      "value": 654
     }
    },
    "2b3e8737e26d4ea4ab4f57599f56724d": {
     "model_module": "@jupyter-widgets/controls",
     "model_module_version": "1.5.0",
     "model_name": "DescriptionStyleModel",
     "state": {
      "_model_module": "@jupyter-widgets/controls",
      "_model_module_version": "1.5.0",
      "_model_name": "DescriptionStyleModel",
      "_view_count": null,
      "_view_module": "@jupyter-widgets/base",
      "_view_module_version": "1.2.0",
      "_view_name": "StyleView",
      "description_width": ""
     }
    },
    "2ca31e573bd04d8f9959b516161ca33c": {
     "model_module": "@jupyter-widgets/base",
     "model_module_version": "1.2.0",
     "model_name": "LayoutModel",
     "state": {
      "_model_module": "@jupyter-widgets/base",
      "_model_module_version": "1.2.0",
      "_model_name": "LayoutModel",
      "_view_count": null,
      "_view_module": "@jupyter-widgets/base",
      "_view_module_version": "1.2.0",
      "_view_name": "LayoutView",
      "align_content": null,
      "align_items": null,
      "align_self": null,
      "border": null,
      "bottom": null,
      "display": null,
      "flex": null,
      "flex_flow": null,
      "grid_area": null,
      "grid_auto_columns": null,
      "grid_auto_flow": null,
      "grid_auto_rows": null,
      "grid_column": null,
      "grid_gap": null,
      "grid_row": null,
      "grid_template_areas": null,
      "grid_template_columns": null,
      "grid_template_rows": null,
      "height": null,
      "justify_content": null,
      "justify_items": null,
      "left": null,
      "margin": null,
      "max_height": null,
      "max_width": null,
      "min_height": null,
      "min_width": null,
      "object_fit": null,
      "object_position": null,
      "order": null,
      "overflow": null,
      "overflow_x": null,
      "overflow_y": null,
      "padding": null,
      "right": null,
      "top": null,
      "visibility": null,
      "width": null
     }
    },
    "2e82d0e9278e4f9ba3000ea7923a6669": {
     "model_module": "@jupyter-widgets/controls",
     "model_module_version": "1.5.0",
     "model_name": "DescriptionStyleModel",
     "state": {
      "_model_module": "@jupyter-widgets/controls",
      "_model_module_version": "1.5.0",
      "_model_name": "DescriptionStyleModel",
      "_view_count": null,
      "_view_module": "@jupyter-widgets/base",
      "_view_module_version": "1.2.0",
      "_view_name": "StyleView",
      "description_width": ""
     }
    },
    "2faa57c22fda4a199a70fb62718aa306": {
     "model_module": "@jupyter-widgets/base",
     "model_module_version": "1.2.0",
     "model_name": "LayoutModel",
     "state": {
      "_model_module": "@jupyter-widgets/base",
      "_model_module_version": "1.2.0",
      "_model_name": "LayoutModel",
      "_view_count": null,
      "_view_module": "@jupyter-widgets/base",
      "_view_module_version": "1.2.0",
      "_view_name": "LayoutView",
      "align_content": null,
      "align_items": null,
      "align_self": null,
      "border": null,
      "bottom": null,
      "display": null,
      "flex": null,
      "flex_flow": null,
      "grid_area": null,
      "grid_auto_columns": null,
      "grid_auto_flow": null,
      "grid_auto_rows": null,
      "grid_column": null,
      "grid_gap": null,
      "grid_row": null,
      "grid_template_areas": null,
      "grid_template_columns": null,
      "grid_template_rows": null,
      "height": null,
      "justify_content": null,
      "justify_items": null,
      "left": null,
      "margin": null,
      "max_height": null,
      "max_width": null,
      "min_height": null,
      "min_width": null,
      "object_fit": null,
      "object_position": null,
      "order": null,
      "overflow": null,
      "overflow_x": null,
      "overflow_y": null,
      "padding": null,
      "right": null,
      "top": null,
      "visibility": null,
      "width": null
     }
    },
    "300ff8f3b8b940e190b3992998fcd3a1": {
     "model_module": "@jupyter-widgets/controls",
     "model_module_version": "1.5.0",
     "model_name": "FloatProgressModel",
     "state": {
      "_dom_classes": [],
      "_model_module": "@jupyter-widgets/controls",
      "_model_module_version": "1.5.0",
      "_model_name": "FloatProgressModel",
      "_view_count": null,
      "_view_module": "@jupyter-widgets/controls",
      "_view_module_version": "1.5.0",
      "_view_name": "ProgressView",
      "bar_style": "success",
      "description": "",
      "description_tooltip": null,
      "layout": "IPY_MODEL_c89bd7b0c41e41d3afdf58a1cc9eea40",
      "max": 654,
      "min": 0,
      "orientation": "horizontal",
      "style": "IPY_MODEL_35071f00352c46fbac98867fb4616b2c",
      "value": 654
     }
    },
    "3065ea5e1a6a4fb88b5b7c1a97192f33": {
     "model_module": "@jupyter-widgets/controls",
     "model_module_version": "1.5.0",
     "model_name": "DescriptionStyleModel",
     "state": {
      "_model_module": "@jupyter-widgets/controls",
      "_model_module_version": "1.5.0",
      "_model_name": "DescriptionStyleModel",
      "_view_count": null,
      "_view_module": "@jupyter-widgets/base",
      "_view_module_version": "1.2.0",
      "_view_name": "StyleView",
      "description_width": ""
     }
    },
    "31e29995125d4d60b080822878ed846a": {
     "model_module": "@jupyter-widgets/controls",
     "model_module_version": "1.5.0",
     "model_name": "DescriptionStyleModel",
     "state": {
      "_model_module": "@jupyter-widgets/controls",
      "_model_module_version": "1.5.0",
      "_model_name": "DescriptionStyleModel",
      "_view_count": null,
      "_view_module": "@jupyter-widgets/base",
      "_view_module_version": "1.2.0",
      "_view_name": "StyleView",
      "description_width": ""
     }
    },
    "31eed39719fb4d82948020817cf0a3a1": {
     "model_module": "@jupyter-widgets/controls",
     "model_module_version": "1.5.0",
     "model_name": "HBoxModel",
     "state": {
      "_dom_classes": [],
      "_model_module": "@jupyter-widgets/controls",
      "_model_module_version": "1.5.0",
      "_model_name": "HBoxModel",
      "_view_count": null,
      "_view_module": "@jupyter-widgets/controls",
      "_view_module_version": "1.5.0",
      "_view_name": "HBoxView",
      "box_style": "",
      "children": [
       "IPY_MODEL_6b60d2a132aa49ac919b2f60a960a215",
       "IPY_MODEL_300ff8f3b8b940e190b3992998fcd3a1",
       "IPY_MODEL_7bc0ba8a8f054ae1a05656b04ef0298a"
      ],
      "layout": "IPY_MODEL_b33a9fa8bf03408c810303bfa8b59c3f"
     }
    },
    "33340c7713334a4395f61b42c468809f": {
     "model_module": "@jupyter-widgets/base",
     "model_module_version": "1.2.0",
     "model_name": "LayoutModel",
     "state": {
      "_model_module": "@jupyter-widgets/base",
      "_model_module_version": "1.2.0",
      "_model_name": "LayoutModel",
      "_view_count": null,
      "_view_module": "@jupyter-widgets/base",
      "_view_module_version": "1.2.0",
      "_view_name": "LayoutView",
      "align_content": null,
      "align_items": null,
      "align_self": null,
      "border": null,
      "bottom": null,
      "display": null,
      "flex": null,
      "flex_flow": null,
      "grid_area": null,
      "grid_auto_columns": null,
      "grid_auto_flow": null,
      "grid_auto_rows": null,
      "grid_column": null,
      "grid_gap": null,
      "grid_row": null,
      "grid_template_areas": null,
      "grid_template_columns": null,
      "grid_template_rows": null,
      "height": null,
      "justify_content": null,
      "justify_items": null,
      "left": null,
      "margin": null,
      "max_height": null,
      "max_width": null,
      "min_height": null,
      "min_width": null,
      "object_fit": null,
      "object_position": null,
      "order": null,
      "overflow": null,
      "overflow_x": null,
      "overflow_y": null,
      "padding": null,
      "right": null,
      "top": null,
      "visibility": null,
      "width": null
     }
    },
    "33ccdd4477594ad8b1fafbde6072436f": {
     "model_module": "@jupyter-widgets/controls",
     "model_module_version": "1.5.0",
     "model_name": "ProgressStyleModel",
     "state": {
      "_model_module": "@jupyter-widgets/controls",
      "_model_module_version": "1.5.0",
      "_model_name": "ProgressStyleModel",
      "_view_count": null,
      "_view_module": "@jupyter-widgets/base",
      "_view_module_version": "1.2.0",
      "_view_name": "StyleView",
      "bar_color": null,
      "description_width": ""
     }
    },
    "34a07ad8763041c184b4fa7cd298f3b6": {
     "model_module": "@jupyter-widgets/base",
     "model_module_version": "1.2.0",
     "model_name": "LayoutModel",
     "state": {
      "_model_module": "@jupyter-widgets/base",
      "_model_module_version": "1.2.0",
      "_model_name": "LayoutModel",
      "_view_count": null,
      "_view_module": "@jupyter-widgets/base",
      "_view_module_version": "1.2.0",
      "_view_name": "LayoutView",
      "align_content": null,
      "align_items": null,
      "align_self": null,
      "border": null,
      "bottom": null,
      "display": null,
      "flex": null,
      "flex_flow": null,
      "grid_area": null,
      "grid_auto_columns": null,
      "grid_auto_flow": null,
      "grid_auto_rows": null,
      "grid_column": null,
      "grid_gap": null,
      "grid_row": null,
      "grid_template_areas": null,
      "grid_template_columns": null,
      "grid_template_rows": null,
      "height": null,
      "justify_content": null,
      "justify_items": null,
      "left": null,
      "margin": null,
      "max_height": null,
      "max_width": null,
      "min_height": null,
      "min_width": null,
      "object_fit": null,
      "object_position": null,
      "order": null,
      "overflow": null,
      "overflow_x": null,
      "overflow_y": null,
      "padding": null,
      "right": null,
      "top": null,
      "visibility": null,
      "width": null
     }
    },
    "35071f00352c46fbac98867fb4616b2c": {
     "model_module": "@jupyter-widgets/controls",
     "model_module_version": "1.5.0",
     "model_name": "ProgressStyleModel",
     "state": {
      "_model_module": "@jupyter-widgets/controls",
      "_model_module_version": "1.5.0",
      "_model_name": "ProgressStyleModel",
      "_view_count": null,
      "_view_module": "@jupyter-widgets/base",
      "_view_module_version": "1.2.0",
      "_view_name": "StyleView",
      "bar_color": null,
      "description_width": ""
     }
    },
    "35766b5eef704c17ac1b78c44a6b00b2": {
     "model_module": "@jupyter-widgets/base",
     "model_module_version": "1.2.0",
     "model_name": "LayoutModel",
     "state": {
      "_model_module": "@jupyter-widgets/base",
      "_model_module_version": "1.2.0",
      "_model_name": "LayoutModel",
      "_view_count": null,
      "_view_module": "@jupyter-widgets/base",
      "_view_module_version": "1.2.0",
      "_view_name": "LayoutView",
      "align_content": null,
      "align_items": null,
      "align_self": null,
      "border": null,
      "bottom": null,
      "display": null,
      "flex": null,
      "flex_flow": null,
      "grid_area": null,
      "grid_auto_columns": null,
      "grid_auto_flow": null,
      "grid_auto_rows": null,
      "grid_column": null,
      "grid_gap": null,
      "grid_row": null,
      "grid_template_areas": null,
      "grid_template_columns": null,
      "grid_template_rows": null,
      "height": null,
      "justify_content": null,
      "justify_items": null,
      "left": null,
      "margin": null,
      "max_height": null,
      "max_width": null,
      "min_height": null,
      "min_width": null,
      "object_fit": null,
      "object_position": null,
      "order": null,
      "overflow": null,
      "overflow_x": null,
      "overflow_y": null,
      "padding": null,
      "right": null,
      "top": null,
      "visibility": null,
      "width": null
     }
    },
    "37b10735d7d54941b30c80a93ec13331": {
     "model_module": "@jupyter-widgets/controls",
     "model_module_version": "1.5.0",
     "model_name": "FloatProgressModel",
     "state": {
      "_dom_classes": [],
      "_model_module": "@jupyter-widgets/controls",
      "_model_module_version": "1.5.0",
      "_model_name": "FloatProgressModel",
      "_view_count": null,
      "_view_module": "@jupyter-widgets/controls",
      "_view_module_version": "1.5.0",
      "_view_name": "ProgressView",
      "bar_style": "success",
      "description": "",
      "description_tooltip": null,
      "layout": "IPY_MODEL_1cb416e79e5f41a69a89832ffe5f0d98",
      "max": 654,
      "min": 0,
      "orientation": "horizontal",
      "style": "IPY_MODEL_09abff69e22747088756e0adfaf98032",
      "value": 654
     }
    },
    "391b51e4076a4b7ebc5676d30c84b27c": {
     "model_module": "@jupyter-widgets/controls",
     "model_module_version": "1.5.0",
     "model_name": "DescriptionStyleModel",
     "state": {
      "_model_module": "@jupyter-widgets/controls",
      "_model_module_version": "1.5.0",
      "_model_name": "DescriptionStyleModel",
      "_view_count": null,
      "_view_module": "@jupyter-widgets/base",
      "_view_module_version": "1.2.0",
      "_view_name": "StyleView",
      "description_width": ""
     }
    },
    "39f5d27bc4414837a890147553c3c286": {
     "model_module": "@jupyter-widgets/base",
     "model_module_version": "1.2.0",
     "model_name": "LayoutModel",
     "state": {
      "_model_module": "@jupyter-widgets/base",
      "_model_module_version": "1.2.0",
      "_model_name": "LayoutModel",
      "_view_count": null,
      "_view_module": "@jupyter-widgets/base",
      "_view_module_version": "1.2.0",
      "_view_name": "LayoutView",
      "align_content": null,
      "align_items": null,
      "align_self": null,
      "border": null,
      "bottom": null,
      "display": null,
      "flex": null,
      "flex_flow": null,
      "grid_area": null,
      "grid_auto_columns": null,
      "grid_auto_flow": null,
      "grid_auto_rows": null,
      "grid_column": null,
      "grid_gap": null,
      "grid_row": null,
      "grid_template_areas": null,
      "grid_template_columns": null,
      "grid_template_rows": null,
      "height": null,
      "justify_content": null,
      "justify_items": null,
      "left": null,
      "margin": null,
      "max_height": null,
      "max_width": null,
      "min_height": null,
      "min_width": null,
      "object_fit": null,
      "object_position": null,
      "order": null,
      "overflow": null,
      "overflow_x": null,
      "overflow_y": null,
      "padding": null,
      "right": null,
      "top": null,
      "visibility": null,
      "width": null
     }
    },
    "3a652e13d837451586f7debfd785692c": {
     "model_module": "@jupyter-widgets/base",
     "model_module_version": "1.2.0",
     "model_name": "LayoutModel",
     "state": {
      "_model_module": "@jupyter-widgets/base",
      "_model_module_version": "1.2.0",
      "_model_name": "LayoutModel",
      "_view_count": null,
      "_view_module": "@jupyter-widgets/base",
      "_view_module_version": "1.2.0",
      "_view_name": "LayoutView",
      "align_content": null,
      "align_items": null,
      "align_self": null,
      "border": null,
      "bottom": null,
      "display": null,
      "flex": null,
      "flex_flow": null,
      "grid_area": null,
      "grid_auto_columns": null,
      "grid_auto_flow": null,
      "grid_auto_rows": null,
      "grid_column": null,
      "grid_gap": null,
      "grid_row": null,
      "grid_template_areas": null,
      "grid_template_columns": null,
      "grid_template_rows": null,
      "height": null,
      "justify_content": null,
      "justify_items": null,
      "left": null,
      "margin": null,
      "max_height": null,
      "max_width": null,
      "min_height": null,
      "min_width": null,
      "object_fit": null,
      "object_position": null,
      "order": null,
      "overflow": null,
      "overflow_x": null,
      "overflow_y": null,
      "padding": null,
      "right": null,
      "top": null,
      "visibility": null,
      "width": null
     }
    },
    "3c077cf4a994417097028c3674f650b7": {
     "model_module": "@jupyter-widgets/controls",
     "model_module_version": "1.5.0",
     "model_name": "DescriptionStyleModel",
     "state": {
      "_model_module": "@jupyter-widgets/controls",
      "_model_module_version": "1.5.0",
      "_model_name": "DescriptionStyleModel",
      "_view_count": null,
      "_view_module": "@jupyter-widgets/base",
      "_view_module_version": "1.2.0",
      "_view_name": "StyleView",
      "description_width": ""
     }
    },
    "3c7c922bb0204299bbae71e55569589b": {
     "model_module": "@jupyter-widgets/controls",
     "model_module_version": "1.5.0",
     "model_name": "DescriptionStyleModel",
     "state": {
      "_model_module": "@jupyter-widgets/controls",
      "_model_module_version": "1.5.0",
      "_model_name": "DescriptionStyleModel",
      "_view_count": null,
      "_view_module": "@jupyter-widgets/base",
      "_view_module_version": "1.2.0",
      "_view_name": "StyleView",
      "description_width": ""
     }
    },
    "3c96009a0746451dad92f6afce23cf7d": {
     "model_module": "@jupyter-widgets/controls",
     "model_module_version": "1.5.0",
     "model_name": "DescriptionStyleModel",
     "state": {
      "_model_module": "@jupyter-widgets/controls",
      "_model_module_version": "1.5.0",
      "_model_name": "DescriptionStyleModel",
      "_view_count": null,
      "_view_module": "@jupyter-widgets/base",
      "_view_module_version": "1.2.0",
      "_view_name": "StyleView",
      "description_width": ""
     }
    },
    "3cda3d219a9249548d6089a1693cdf1d": {
     "model_module": "@jupyter-widgets/controls",
     "model_module_version": "1.5.0",
     "model_name": "HBoxModel",
     "state": {
      "_dom_classes": [],
      "_model_module": "@jupyter-widgets/controls",
      "_model_module_version": "1.5.0",
      "_model_name": "HBoxModel",
      "_view_count": null,
      "_view_module": "@jupyter-widgets/controls",
      "_view_module_version": "1.5.0",
      "_view_name": "HBoxView",
      "box_style": "",
      "children": [
       "IPY_MODEL_c5237619d24a404fb0459c5769a4a550",
       "IPY_MODEL_d611fb296ca54178a47c652e545a1ae0",
       "IPY_MODEL_5b6629d339ce416a9c70e1bcfe3c80f0"
      ],
      "layout": "IPY_MODEL_f1457426a085442490af65db8cc99fbc"
     }
    },
    "3d0e2ee516cd46dfb47feb12f5927e3c": {
     "model_module": "@jupyter-widgets/controls",
     "model_module_version": "1.5.0",
     "model_name": "FloatProgressModel",
     "state": {
      "_dom_classes": [],
      "_model_module": "@jupyter-widgets/controls",
      "_model_module_version": "1.5.0",
      "_model_name": "FloatProgressModel",
      "_view_count": null,
      "_view_module": "@jupyter-widgets/controls",
      "_view_module_version": "1.5.0",
      "_view_name": "ProgressView",
      "bar_style": "success",
      "description": "",
      "description_tooltip": null,
      "layout": "IPY_MODEL_01152cbbe9934596a73f12b4e55230a8",
      "max": 654,
      "min": 0,
      "orientation": "horizontal",
      "style": "IPY_MODEL_266134dcef4e441fa6ddb82a583b14c6",
      "value": 654
     }
    },
    "3dffbd7f520541fab37c86d08e8948e8": {
     "model_module": "@jupyter-widgets/base",
     "model_module_version": "1.2.0",
     "model_name": "LayoutModel",
     "state": {
      "_model_module": "@jupyter-widgets/base",
      "_model_module_version": "1.2.0",
      "_model_name": "LayoutModel",
      "_view_count": null,
      "_view_module": "@jupyter-widgets/base",
      "_view_module_version": "1.2.0",
      "_view_name": "LayoutView",
      "align_content": null,
      "align_items": null,
      "align_self": null,
      "border": null,
      "bottom": null,
      "display": null,
      "flex": null,
      "flex_flow": null,
      "grid_area": null,
      "grid_auto_columns": null,
      "grid_auto_flow": null,
      "grid_auto_rows": null,
      "grid_column": null,
      "grid_gap": null,
      "grid_row": null,
      "grid_template_areas": null,
      "grid_template_columns": null,
      "grid_template_rows": null,
      "height": null,
      "justify_content": null,
      "justify_items": null,
      "left": null,
      "margin": null,
      "max_height": null,
      "max_width": null,
      "min_height": null,
      "min_width": null,
      "object_fit": null,
      "object_position": null,
      "order": null,
      "overflow": null,
      "overflow_x": null,
      "overflow_y": null,
      "padding": null,
      "right": null,
      "top": null,
      "visibility": null,
      "width": null
     }
    },
    "3e8e8d672a134895b91196650ccf035e": {
     "model_module": "@jupyter-widgets/controls",
     "model_module_version": "1.5.0",
     "model_name": "DescriptionStyleModel",
     "state": {
      "_model_module": "@jupyter-widgets/controls",
      "_model_module_version": "1.5.0",
      "_model_name": "DescriptionStyleModel",
      "_view_count": null,
      "_view_module": "@jupyter-widgets/base",
      "_view_module_version": "1.2.0",
      "_view_name": "StyleView",
      "description_width": ""
     }
    },
    "43cd01499ffe4dcf8f73c39242337f76": {
     "model_module": "@jupyter-widgets/controls",
     "model_module_version": "1.5.0",
     "model_name": "HTMLModel",
     "state": {
      "_dom_classes": [],
      "_model_module": "@jupyter-widgets/controls",
      "_model_module_version": "1.5.0",
      "_model_name": "HTMLModel",
      "_view_count": null,
      "_view_module": "@jupyter-widgets/controls",
      "_view_module_version": "1.5.0",
      "_view_name": "HTMLView",
      "description": "",
      "description_tooltip": null,
      "layout": "IPY_MODEL_83694e35e3d04575ad93276f47f13958",
      "placeholder": "​",
      "style": "IPY_MODEL_f99f12d22b1b418d821ec900f3e38ce0",
      "value": " 654/654 [00:01&lt;00:00, 360.73it/s]"
     }
    },
    "462febac101940918cf6ef6caab1c1b3": {
     "model_module": "@jupyter-widgets/controls",
     "model_module_version": "1.5.0",
     "model_name": "HTMLModel",
     "state": {
      "_dom_classes": [],
      "_model_module": "@jupyter-widgets/controls",
      "_model_module_version": "1.5.0",
      "_model_name": "HTMLModel",
      "_view_count": null,
      "_view_module": "@jupyter-widgets/controls",
      "_view_module_version": "1.5.0",
      "_view_name": "HTMLView",
      "description": "",
      "description_tooltip": null,
      "layout": "IPY_MODEL_6b25e0f3280d4c398a5893d1b0fe0b45",
      "placeholder": "​",
      "style": "IPY_MODEL_a356000307614d25803d739c945c828d",
      "value": "Epochs 9/12. Running Loss:    1.1537: 100%"
     }
    },
    "468908b5397d4f75b0bf747780b286fb": {
     "model_module": "@jupyter-widgets/base",
     "model_module_version": "1.2.0",
     "model_name": "LayoutModel",
     "state": {
      "_model_module": "@jupyter-widgets/base",
      "_model_module_version": "1.2.0",
      "_model_name": "LayoutModel",
      "_view_count": null,
      "_view_module": "@jupyter-widgets/base",
      "_view_module_version": "1.2.0",
      "_view_name": "LayoutView",
      "align_content": null,
      "align_items": null,
      "align_self": null,
      "border": null,
      "bottom": null,
      "display": null,
      "flex": null,
      "flex_flow": null,
      "grid_area": null,
      "grid_auto_columns": null,
      "grid_auto_flow": null,
      "grid_auto_rows": null,
      "grid_column": null,
      "grid_gap": null,
      "grid_row": null,
      "grid_template_areas": null,
      "grid_template_columns": null,
      "grid_template_rows": null,
      "height": null,
      "justify_content": null,
      "justify_items": null,
      "left": null,
      "margin": null,
      "max_height": null,
      "max_width": null,
      "min_height": null,
      "min_width": null,
      "object_fit": null,
      "object_position": null,
      "order": null,
      "overflow": null,
      "overflow_x": null,
      "overflow_y": null,
      "padding": null,
      "right": null,
      "top": null,
      "visibility": null,
      "width": null
     }
    },
    "47d3b7711feb4a1da5dd4352e80be5e7": {
     "model_module": "@jupyter-widgets/controls",
     "model_module_version": "1.5.0",
     "model_name": "HTMLModel",
     "state": {
      "_dom_classes": [],
      "_model_module": "@jupyter-widgets/controls",
      "_model_module_version": "1.5.0",
      "_model_name": "HTMLModel",
      "_view_count": null,
      "_view_module": "@jupyter-widgets/controls",
      "_view_module_version": "1.5.0",
      "_view_name": "HTMLView",
      "description": "",
      "description_tooltip": null,
      "layout": "IPY_MODEL_f1fd08ff87564afa8c2173bbb9931d44",
      "placeholder": "​",
      "style": "IPY_MODEL_1e306c2bd918457c8621ac596dd9b620",
      "value": " 654/654 [00:01&lt;00:00, 431.06it/s]"
     }
    },
    "480a4d1f6f4e48a797b8b699c720ad9c": {
     "model_module": "@jupyter-widgets/base",
     "model_module_version": "1.2.0",
     "model_name": "LayoutModel",
     "state": {
      "_model_module": "@jupyter-widgets/base",
      "_model_module_version": "1.2.0",
      "_model_name": "LayoutModel",
      "_view_count": null,
      "_view_module": "@jupyter-widgets/base",
      "_view_module_version": "1.2.0",
      "_view_name": "LayoutView",
      "align_content": null,
      "align_items": null,
      "align_self": null,
      "border": null,
      "bottom": null,
      "display": null,
      "flex": null,
      "flex_flow": null,
      "grid_area": null,
      "grid_auto_columns": null,
      "grid_auto_flow": null,
      "grid_auto_rows": null,
      "grid_column": null,
      "grid_gap": null,
      "grid_row": null,
      "grid_template_areas": null,
      "grid_template_columns": null,
      "grid_template_rows": null,
      "height": null,
      "justify_content": null,
      "justify_items": null,
      "left": null,
      "margin": null,
      "max_height": null,
      "max_width": null,
      "min_height": null,
      "min_width": null,
      "object_fit": null,
      "object_position": null,
      "order": null,
      "overflow": null,
      "overflow_x": null,
      "overflow_y": null,
      "padding": null,
      "right": null,
      "top": null,
      "visibility": null,
      "width": null
     }
    },
    "48c24eb9f6d64ebf871fbe6e7ddf06bc": {
     "model_module": "@jupyter-widgets/base",
     "model_module_version": "1.2.0",
     "model_name": "LayoutModel",
     "state": {
      "_model_module": "@jupyter-widgets/base",
      "_model_module_version": "1.2.0",
      "_model_name": "LayoutModel",
      "_view_count": null,
      "_view_module": "@jupyter-widgets/base",
      "_view_module_version": "1.2.0",
      "_view_name": "LayoutView",
      "align_content": null,
      "align_items": null,
      "align_self": null,
      "border": null,
      "bottom": null,
      "display": null,
      "flex": null,
      "flex_flow": null,
      "grid_area": null,
      "grid_auto_columns": null,
      "grid_auto_flow": null,
      "grid_auto_rows": null,
      "grid_column": null,
      "grid_gap": null,
      "grid_row": null,
      "grid_template_areas": null,
      "grid_template_columns": null,
      "grid_template_rows": null,
      "height": null,
      "justify_content": null,
      "justify_items": null,
      "left": null,
      "margin": null,
      "max_height": null,
      "max_width": null,
      "min_height": null,
      "min_width": null,
      "object_fit": null,
      "object_position": null,
      "order": null,
      "overflow": null,
      "overflow_x": null,
      "overflow_y": null,
      "padding": null,
      "right": null,
      "top": null,
      "visibility": null,
      "width": null
     }
    },
    "49ea4ce451ea4ac793f281fd8d416ee2": {
     "model_module": "@jupyter-widgets/controls",
     "model_module_version": "1.5.0",
     "model_name": "HTMLModel",
     "state": {
      "_dom_classes": [],
      "_model_module": "@jupyter-widgets/controls",
      "_model_module_version": "1.5.0",
      "_model_name": "HTMLModel",
      "_view_count": null,
      "_view_module": "@jupyter-widgets/controls",
      "_view_module_version": "1.5.0",
      "_view_name": "HTMLView",
      "description": "",
      "description_tooltip": null,
      "layout": "IPY_MODEL_90991b9013d3467295ede722c39ff96e",
      "placeholder": "​",
      "style": "IPY_MODEL_f6a8abb461bb4fb2bd1c26e6df6e0c90",
      "value": "100%"
     }
    },
    "49eb18f07a494066bc2bf1aca2f6dc96": {
     "model_module": "@jupyter-widgets/base",
     "model_module_version": "1.2.0",
     "model_name": "LayoutModel",
     "state": {
      "_model_module": "@jupyter-widgets/base",
      "_model_module_version": "1.2.0",
      "_model_name": "LayoutModel",
      "_view_count": null,
      "_view_module": "@jupyter-widgets/base",
      "_view_module_version": "1.2.0",
      "_view_name": "LayoutView",
      "align_content": null,
      "align_items": null,
      "align_self": null,
      "border": null,
      "bottom": null,
      "display": null,
      "flex": null,
      "flex_flow": null,
      "grid_area": null,
      "grid_auto_columns": null,
      "grid_auto_flow": null,
      "grid_auto_rows": null,
      "grid_column": null,
      "grid_gap": null,
      "grid_row": null,
      "grid_template_areas": null,
      "grid_template_columns": null,
      "grid_template_rows": null,
      "height": null,
      "justify_content": null,
      "justify_items": null,
      "left": null,
      "margin": null,
      "max_height": null,
      "max_width": null,
      "min_height": null,
      "min_width": null,
      "object_fit": null,
      "object_position": null,
      "order": null,
      "overflow": null,
      "overflow_x": null,
      "overflow_y": null,
      "padding": null,
      "right": null,
      "top": null,
      "visibility": null,
      "width": null
     }
    },
    "4a3ce54f961f4d68bd54fefbac25a189": {
     "model_module": "@jupyter-widgets/base",
     "model_module_version": "1.2.0",
     "model_name": "LayoutModel",
     "state": {
      "_model_module": "@jupyter-widgets/base",
      "_model_module_version": "1.2.0",
      "_model_name": "LayoutModel",
      "_view_count": null,
      "_view_module": "@jupyter-widgets/base",
      "_view_module_version": "1.2.0",
      "_view_name": "LayoutView",
      "align_content": null,
      "align_items": null,
      "align_self": null,
      "border": null,
      "bottom": null,
      "display": null,
      "flex": null,
      "flex_flow": null,
      "grid_area": null,
      "grid_auto_columns": null,
      "grid_auto_flow": null,
      "grid_auto_rows": null,
      "grid_column": null,
      "grid_gap": null,
      "grid_row": null,
      "grid_template_areas": null,
      "grid_template_columns": null,
      "grid_template_rows": null,
      "height": null,
      "justify_content": null,
      "justify_items": null,
      "left": null,
      "margin": null,
      "max_height": null,
      "max_width": null,
      "min_height": null,
      "min_width": null,
      "object_fit": null,
      "object_position": null,
      "order": null,
      "overflow": null,
      "overflow_x": null,
      "overflow_y": null,
      "padding": null,
      "right": null,
      "top": null,
      "visibility": null,
      "width": null
     }
    },
    "4b143941959b429db31757e0d9ae41d0": {
     "model_module": "@jupyter-widgets/controls",
     "model_module_version": "1.5.0",
     "model_name": "FloatProgressModel",
     "state": {
      "_dom_classes": [],
      "_model_module": "@jupyter-widgets/controls",
      "_model_module_version": "1.5.0",
      "_model_name": "FloatProgressModel",
      "_view_count": null,
      "_view_module": "@jupyter-widgets/controls",
      "_view_module_version": "1.5.0",
      "_view_name": "ProgressView",
      "bar_style": "success",
      "description": "",
      "description_tooltip": null,
      "layout": "IPY_MODEL_2faa57c22fda4a199a70fb62718aa306",
      "max": 654,
      "min": 0,
      "orientation": "horizontal",
      "style": "IPY_MODEL_a00ded9dc27142e7a9cd850aaea91cb3",
      "value": 654
     }
    },
    "4b53c6dcdd1044e4af79fc6a039ee0e7": {
     "model_module": "@jupyter-widgets/controls",
     "model_module_version": "1.5.0",
     "model_name": "ProgressStyleModel",
     "state": {
      "_model_module": "@jupyter-widgets/controls",
      "_model_module_version": "1.5.0",
      "_model_name": "ProgressStyleModel",
      "_view_count": null,
      "_view_module": "@jupyter-widgets/base",
      "_view_module_version": "1.2.0",
      "_view_name": "StyleView",
      "bar_color": null,
      "description_width": ""
     }
    },
    "4bc56c50daa34f588dc85d4e565f09fc": {
     "model_module": "@jupyter-widgets/controls",
     "model_module_version": "1.5.0",
     "model_name": "DescriptionStyleModel",
     "state": {
      "_model_module": "@jupyter-widgets/controls",
      "_model_module_version": "1.5.0",
      "_model_name": "DescriptionStyleModel",
      "_view_count": null,
      "_view_module": "@jupyter-widgets/base",
      "_view_module_version": "1.2.0",
      "_view_name": "StyleView",
      "description_width": ""
     }
    },
    "4bfc346ee5004e4c86eb67df0c4866e4": {
     "model_module": "@jupyter-widgets/controls",
     "model_module_version": "1.5.0",
     "model_name": "HTMLModel",
     "state": {
      "_dom_classes": [],
      "_model_module": "@jupyter-widgets/controls",
      "_model_module_version": "1.5.0",
      "_model_name": "HTMLModel",
      "_view_count": null,
      "_view_module": "@jupyter-widgets/controls",
      "_view_module_version": "1.5.0",
      "_view_name": "HTMLView",
      "description": "",
      "description_tooltip": null,
      "layout": "IPY_MODEL_b4da91d3dda543d5b7bad504d3e7fc67",
      "placeholder": "​",
      "style": "IPY_MODEL_084af33532704f4c936c970162eb23bb",
      "value": " 654/654 [00:01&lt;00:00, 429.22it/s]"
     }
    },
    "4c4624e16ad9414083052cb87f7bd665": {
     "model_module": "@jupyter-widgets/controls",
     "model_module_version": "1.5.0",
     "model_name": "FloatProgressModel",
     "state": {
      "_dom_classes": [],
      "_model_module": "@jupyter-widgets/controls",
      "_model_module_version": "1.5.0",
      "_model_name": "FloatProgressModel",
      "_view_count": null,
      "_view_module": "@jupyter-widgets/controls",
      "_view_module_version": "1.5.0",
      "_view_name": "ProgressView",
      "bar_style": "success",
      "description": "",
      "description_tooltip": null,
      "layout": "IPY_MODEL_64be69c55d6c4a4d9431d5ae594dd4bc",
      "max": 88,
      "min": 0,
      "orientation": "horizontal",
      "style": "IPY_MODEL_0a1504d790184098a0ba5c20b65e47da",
      "value": 88
     }
    },
    "4df39dcf1461427fabf0db2585e0eab6": {
     "model_module": "@jupyter-widgets/base",
     "model_module_version": "1.2.0",
     "model_name": "LayoutModel",
     "state": {
      "_model_module": "@jupyter-widgets/base",
      "_model_module_version": "1.2.0",
      "_model_name": "LayoutModel",
      "_view_count": null,
      "_view_module": "@jupyter-widgets/base",
      "_view_module_version": "1.2.0",
      "_view_name": "LayoutView",
      "align_content": null,
      "align_items": null,
      "align_self": null,
      "border": null,
      "bottom": null,
      "display": null,
      "flex": null,
      "flex_flow": null,
      "grid_area": null,
      "grid_auto_columns": null,
      "grid_auto_flow": null,
      "grid_auto_rows": null,
      "grid_column": null,
      "grid_gap": null,
      "grid_row": null,
      "grid_template_areas": null,
      "grid_template_columns": null,
      "grid_template_rows": null,
      "height": null,
      "justify_content": null,
      "justify_items": null,
      "left": null,
      "margin": null,
      "max_height": null,
      "max_width": null,
      "min_height": null,
      "min_width": null,
      "object_fit": null,
      "object_position": null,
      "order": null,
      "overflow": null,
      "overflow_x": null,
      "overflow_y": null,
      "padding": null,
      "right": null,
      "top": null,
      "visibility": null,
      "width": null
     }
    },
    "4e1ead4108de4bc4bd2a6bd9564cbe11": {
     "model_module": "@jupyter-widgets/controls",
     "model_module_version": "1.5.0",
     "model_name": "HTMLModel",
     "state": {
      "_dom_classes": [],
      "_model_module": "@jupyter-widgets/controls",
      "_model_module_version": "1.5.0",
      "_model_name": "HTMLModel",
      "_view_count": null,
      "_view_module": "@jupyter-widgets/controls",
      "_view_module_version": "1.5.0",
      "_view_name": "HTMLView",
      "description": "",
      "description_tooltip": null,
      "layout": "IPY_MODEL_d8f04eaddcc44844b12b264c74d97660",
      "placeholder": "​",
      "style": "IPY_MODEL_83d96adb347c4d72a2d6566c25b99e5d",
      "value": " 88/88 [00:38&lt;00:00,  2.86it/s]"
     }
    },
    "4e94e21a183d491c8ff2f710c52b0217": {
     "model_module": "@jupyter-widgets/base",
     "model_module_version": "1.2.0",
     "model_name": "LayoutModel",
     "state": {
      "_model_module": "@jupyter-widgets/base",
      "_model_module_version": "1.2.0",
      "_model_name": "LayoutModel",
      "_view_count": null,
      "_view_module": "@jupyter-widgets/base",
      "_view_module_version": "1.2.0",
      "_view_name": "LayoutView",
      "align_content": null,
      "align_items": null,
      "align_self": null,
      "border": null,
      "bottom": null,
      "display": null,
      "flex": null,
      "flex_flow": null,
      "grid_area": null,
      "grid_auto_columns": null,
      "grid_auto_flow": null,
      "grid_auto_rows": null,
      "grid_column": null,
      "grid_gap": null,
      "grid_row": null,
      "grid_template_areas": null,
      "grid_template_columns": null,
      "grid_template_rows": null,
      "height": null,
      "justify_content": null,
      "justify_items": null,
      "left": null,
      "margin": null,
      "max_height": null,
      "max_width": null,
      "min_height": null,
      "min_width": null,
      "object_fit": null,
      "object_position": null,
      "order": null,
      "overflow": null,
      "overflow_x": null,
      "overflow_y": null,
      "padding": null,
      "right": null,
      "top": null,
      "visibility": null,
      "width": null
     }
    },
    "4f6f2858a34348808e6cc5defd8b0b42": {
     "model_module": "@jupyter-widgets/base",
     "model_module_version": "1.2.0",
     "model_name": "LayoutModel",
     "state": {
      "_model_module": "@jupyter-widgets/base",
      "_model_module_version": "1.2.0",
      "_model_name": "LayoutModel",
      "_view_count": null,
      "_view_module": "@jupyter-widgets/base",
      "_view_module_version": "1.2.0",
      "_view_name": "LayoutView",
      "align_content": null,
      "align_items": null,
      "align_self": null,
      "border": null,
      "bottom": null,
      "display": null,
      "flex": null,
      "flex_flow": null,
      "grid_area": null,
      "grid_auto_columns": null,
      "grid_auto_flow": null,
      "grid_auto_rows": null,
      "grid_column": null,
      "grid_gap": null,
      "grid_row": null,
      "grid_template_areas": null,
      "grid_template_columns": null,
      "grid_template_rows": null,
      "height": null,
      "justify_content": null,
      "justify_items": null,
      "left": null,
      "margin": null,
      "max_height": null,
      "max_width": null,
      "min_height": null,
      "min_width": null,
      "object_fit": null,
      "object_position": null,
      "order": null,
      "overflow": null,
      "overflow_x": null,
      "overflow_y": null,
      "padding": null,
      "right": null,
      "top": null,
      "visibility": null,
      "width": null
     }
    },
    "4f974756a04b42b78d379aa5a914e467": {
     "model_module": "@jupyter-widgets/base",
     "model_module_version": "1.2.0",
     "model_name": "LayoutModel",
     "state": {
      "_model_module": "@jupyter-widgets/base",
      "_model_module_version": "1.2.0",
      "_model_name": "LayoutModel",
      "_view_count": null,
      "_view_module": "@jupyter-widgets/base",
      "_view_module_version": "1.2.0",
      "_view_name": "LayoutView",
      "align_content": null,
      "align_items": null,
      "align_self": null,
      "border": null,
      "bottom": null,
      "display": null,
      "flex": null,
      "flex_flow": null,
      "grid_area": null,
      "grid_auto_columns": null,
      "grid_auto_flow": null,
      "grid_auto_rows": null,
      "grid_column": null,
      "grid_gap": null,
      "grid_row": null,
      "grid_template_areas": null,
      "grid_template_columns": null,
      "grid_template_rows": null,
      "height": null,
      "justify_content": null,
      "justify_items": null,
      "left": null,
      "margin": null,
      "max_height": null,
      "max_width": null,
      "min_height": null,
      "min_width": null,
      "object_fit": null,
      "object_position": null,
      "order": null,
      "overflow": null,
      "overflow_x": null,
      "overflow_y": null,
      "padding": null,
      "right": null,
      "top": null,
      "visibility": null,
      "width": null
     }
    },
    "501d209da08e48f2ba5421dea63ad9a4": {
     "model_module": "@jupyter-widgets/controls",
     "model_module_version": "1.5.0",
     "model_name": "HBoxModel",
     "state": {
      "_dom_classes": [],
      "_model_module": "@jupyter-widgets/controls",
      "_model_module_version": "1.5.0",
      "_model_name": "HBoxModel",
      "_view_count": null,
      "_view_module": "@jupyter-widgets/controls",
      "_view_module_version": "1.5.0",
      "_view_name": "HBoxView",
      "box_style": "",
      "children": [
       "IPY_MODEL_9901de442903430088a1e96650f38842",
       "IPY_MODEL_4b143941959b429db31757e0d9ae41d0",
       "IPY_MODEL_0c1e64356eef4eb69bd1896dde6f5550"
      ],
      "layout": "IPY_MODEL_cfa8c7023fe642409294a2e3252bb0e3"
     }
    },
    "50f2c277d4404cff9f6058e6b2d9a472": {
     "model_module": "@jupyter-widgets/base",
     "model_module_version": "1.2.0",
     "model_name": "LayoutModel",
     "state": {
      "_model_module": "@jupyter-widgets/base",
      "_model_module_version": "1.2.0",
      "_model_name": "LayoutModel",
      "_view_count": null,
      "_view_module": "@jupyter-widgets/base",
      "_view_module_version": "1.2.0",
      "_view_name": "LayoutView",
      "align_content": null,
      "align_items": null,
      "align_self": null,
      "border": null,
      "bottom": null,
      "display": null,
      "flex": null,
      "flex_flow": null,
      "grid_area": null,
      "grid_auto_columns": null,
      "grid_auto_flow": null,
      "grid_auto_rows": null,
      "grid_column": null,
      "grid_gap": null,
      "grid_row": null,
      "grid_template_areas": null,
      "grid_template_columns": null,
      "grid_template_rows": null,
      "height": null,
      "justify_content": null,
      "justify_items": null,
      "left": null,
      "margin": null,
      "max_height": null,
      "max_width": null,
      "min_height": null,
      "min_width": null,
      "object_fit": null,
      "object_position": null,
      "order": null,
      "overflow": null,
      "overflow_x": null,
      "overflow_y": null,
      "padding": null,
      "right": null,
      "top": null,
      "visibility": null,
      "width": null
     }
    },
    "52a5a63254244bcb92aa82103af75450": {
     "model_module": "@jupyter-widgets/controls",
     "model_module_version": "1.5.0",
     "model_name": "DescriptionStyleModel",
     "state": {
      "_model_module": "@jupyter-widgets/controls",
      "_model_module_version": "1.5.0",
      "_model_name": "DescriptionStyleModel",
      "_view_count": null,
      "_view_module": "@jupyter-widgets/base",
      "_view_module_version": "1.2.0",
      "_view_name": "StyleView",
      "description_width": ""
     }
    },
    "52a986d8a64548618f969e7f13dab2a1": {
     "model_module": "@jupyter-widgets/controls",
     "model_module_version": "1.5.0",
     "model_name": "HTMLModel",
     "state": {
      "_dom_classes": [],
      "_model_module": "@jupyter-widgets/controls",
      "_model_module_version": "1.5.0",
      "_model_name": "HTMLModel",
      "_view_count": null,
      "_view_module": "@jupyter-widgets/controls",
      "_view_module_version": "1.5.0",
      "_view_name": "HTMLView",
      "description": "",
      "description_tooltip": null,
      "layout": "IPY_MODEL_b05af1ff1b93487ab0ab78a5c9cbc411",
      "placeholder": "​",
      "style": "IPY_MODEL_cbeeb003961148249946908c44d2b81b",
      "value": " 654/654 [00:01&lt;00:00, 464.09it/s]"
     }
    },
    "551a94126a4c44ff9ef976fd7b99b25e": {
     "model_module": "@jupyter-widgets/controls",
     "model_module_version": "1.5.0",
     "model_name": "DescriptionStyleModel",
     "state": {
      "_model_module": "@jupyter-widgets/controls",
      "_model_module_version": "1.5.0",
      "_model_name": "DescriptionStyleModel",
      "_view_count": null,
      "_view_module": "@jupyter-widgets/base",
      "_view_module_version": "1.2.0",
      "_view_name": "StyleView",
      "description_width": ""
     }
    },
    "5584cf31309d4ba4a48e5d2d5d4658c5": {
     "model_module": "@jupyter-widgets/controls",
     "model_module_version": "1.5.0",
     "model_name": "HBoxModel",
     "state": {
      "_dom_classes": [],
      "_model_module": "@jupyter-widgets/controls",
      "_model_module_version": "1.5.0",
      "_model_name": "HBoxModel",
      "_view_count": null,
      "_view_module": "@jupyter-widgets/controls",
      "_view_module_version": "1.5.0",
      "_view_name": "HBoxView",
      "box_style": "",
      "children": [
       "IPY_MODEL_107ab26d613c46f385311a6577eda3cb",
       "IPY_MODEL_191257c56ca744e498f51adbac9bc705",
       "IPY_MODEL_feede7927ac94dfa88062e0b35ae70c4"
      ],
      "layout": "IPY_MODEL_91f14e55ff7e4be3b40d9effee16c433"
     }
    },
    "55f1244392e74571ac9196639f863130": {
     "model_module": "@jupyter-widgets/controls",
     "model_module_version": "1.5.0",
     "model_name": "ProgressStyleModel",
     "state": {
      "_model_module": "@jupyter-widgets/controls",
      "_model_module_version": "1.5.0",
      "_model_name": "ProgressStyleModel",
      "_view_count": null,
      "_view_module": "@jupyter-widgets/base",
      "_view_module_version": "1.2.0",
      "_view_name": "StyleView",
      "bar_color": null,
      "description_width": ""
     }
    },
    "560b0096640541dbac1d804470ced31b": {
     "model_module": "@jupyter-widgets/controls",
     "model_module_version": "1.5.0",
     "model_name": "DescriptionStyleModel",
     "state": {
      "_model_module": "@jupyter-widgets/controls",
      "_model_module_version": "1.5.0",
      "_model_name": "DescriptionStyleModel",
      "_view_count": null,
      "_view_module": "@jupyter-widgets/base",
      "_view_module_version": "1.2.0",
      "_view_name": "StyleView",
      "description_width": ""
     }
    },
    "564bc4a23c054d40b8a405e85f24d321": {
     "model_module": "@jupyter-widgets/base",
     "model_module_version": "1.2.0",
     "model_name": "LayoutModel",
     "state": {
      "_model_module": "@jupyter-widgets/base",
      "_model_module_version": "1.2.0",
      "_model_name": "LayoutModel",
      "_view_count": null,
      "_view_module": "@jupyter-widgets/base",
      "_view_module_version": "1.2.0",
      "_view_name": "LayoutView",
      "align_content": null,
      "align_items": null,
      "align_self": null,
      "border": null,
      "bottom": null,
      "display": null,
      "flex": null,
      "flex_flow": null,
      "grid_area": null,
      "grid_auto_columns": null,
      "grid_auto_flow": null,
      "grid_auto_rows": null,
      "grid_column": null,
      "grid_gap": null,
      "grid_row": null,
      "grid_template_areas": null,
      "grid_template_columns": null,
      "grid_template_rows": null,
      "height": null,
      "justify_content": null,
      "justify_items": null,
      "left": null,
      "margin": null,
      "max_height": null,
      "max_width": null,
      "min_height": null,
      "min_width": null,
      "object_fit": null,
      "object_position": null,
      "order": null,
      "overflow": null,
      "overflow_x": null,
      "overflow_y": null,
      "padding": null,
      "right": null,
      "top": null,
      "visibility": null,
      "width": null
     }
    },
    "59c14ea9c21549a8be6713ec060430d5": {
     "model_module": "@jupyter-widgets/base",
     "model_module_version": "1.2.0",
     "model_name": "LayoutModel",
     "state": {
      "_model_module": "@jupyter-widgets/base",
      "_model_module_version": "1.2.0",
      "_model_name": "LayoutModel",
      "_view_count": null,
      "_view_module": "@jupyter-widgets/base",
      "_view_module_version": "1.2.0",
      "_view_name": "LayoutView",
      "align_content": null,
      "align_items": null,
      "align_self": null,
      "border": null,
      "bottom": null,
      "display": null,
      "flex": null,
      "flex_flow": null,
      "grid_area": null,
      "grid_auto_columns": null,
      "grid_auto_flow": null,
      "grid_auto_rows": null,
      "grid_column": null,
      "grid_gap": null,
      "grid_row": null,
      "grid_template_areas": null,
      "grid_template_columns": null,
      "grid_template_rows": null,
      "height": null,
      "justify_content": null,
      "justify_items": null,
      "left": null,
      "margin": null,
      "max_height": null,
      "max_width": null,
      "min_height": null,
      "min_width": null,
      "object_fit": null,
      "object_position": null,
      "order": null,
      "overflow": null,
      "overflow_x": null,
      "overflow_y": null,
      "padding": null,
      "right": null,
      "top": null,
      "visibility": null,
      "width": null
     }
    },
    "59cfb6f0eac24b49a9b17796624bb016": {
     "model_module": "@jupyter-widgets/base",
     "model_module_version": "1.2.0",
     "model_name": "LayoutModel",
     "state": {
      "_model_module": "@jupyter-widgets/base",
      "_model_module_version": "1.2.0",
      "_model_name": "LayoutModel",
      "_view_count": null,
      "_view_module": "@jupyter-widgets/base",
      "_view_module_version": "1.2.0",
      "_view_name": "LayoutView",
      "align_content": null,
      "align_items": null,
      "align_self": null,
      "border": null,
      "bottom": null,
      "display": null,
      "flex": null,
      "flex_flow": null,
      "grid_area": null,
      "grid_auto_columns": null,
      "grid_auto_flow": null,
      "grid_auto_rows": null,
      "grid_column": null,
      "grid_gap": null,
      "grid_row": null,
      "grid_template_areas": null,
      "grid_template_columns": null,
      "grid_template_rows": null,
      "height": null,
      "justify_content": null,
      "justify_items": null,
      "left": null,
      "margin": null,
      "max_height": null,
      "max_width": null,
      "min_height": null,
      "min_width": null,
      "object_fit": null,
      "object_position": null,
      "order": null,
      "overflow": null,
      "overflow_x": null,
      "overflow_y": null,
      "padding": null,
      "right": null,
      "top": null,
      "visibility": null,
      "width": null
     }
    },
    "5a9d4876a31a40309bb8758de0523a93": {
     "model_module": "@jupyter-widgets/controls",
     "model_module_version": "1.5.0",
     "model_name": "DescriptionStyleModel",
     "state": {
      "_model_module": "@jupyter-widgets/controls",
      "_model_module_version": "1.5.0",
      "_model_name": "DescriptionStyleModel",
      "_view_count": null,
      "_view_module": "@jupyter-widgets/base",
      "_view_module_version": "1.2.0",
      "_view_name": "StyleView",
      "description_width": ""
     }
    },
    "5aa3a92d13a0456a9a9af0f1621bd68e": {
     "model_module": "@jupyter-widgets/base",
     "model_module_version": "1.2.0",
     "model_name": "LayoutModel",
     "state": {
      "_model_module": "@jupyter-widgets/base",
      "_model_module_version": "1.2.0",
      "_model_name": "LayoutModel",
      "_view_count": null,
      "_view_module": "@jupyter-widgets/base",
      "_view_module_version": "1.2.0",
      "_view_name": "LayoutView",
      "align_content": null,
      "align_items": null,
      "align_self": null,
      "border": null,
      "bottom": null,
      "display": null,
      "flex": null,
      "flex_flow": null,
      "grid_area": null,
      "grid_auto_columns": null,
      "grid_auto_flow": null,
      "grid_auto_rows": null,
      "grid_column": null,
      "grid_gap": null,
      "grid_row": null,
      "grid_template_areas": null,
      "grid_template_columns": null,
      "grid_template_rows": null,
      "height": null,
      "justify_content": null,
      "justify_items": null,
      "left": null,
      "margin": null,
      "max_height": null,
      "max_width": null,
      "min_height": null,
      "min_width": null,
      "object_fit": null,
      "object_position": null,
      "order": null,
      "overflow": null,
      "overflow_x": null,
      "overflow_y": null,
      "padding": null,
      "right": null,
      "top": null,
      "visibility": null,
      "width": null
     }
    },
    "5b60dd02c54a4882b3eee3abd3a12f8d": {
     "model_module": "@jupyter-widgets/base",
     "model_module_version": "1.2.0",
     "model_name": "LayoutModel",
     "state": {
      "_model_module": "@jupyter-widgets/base",
      "_model_module_version": "1.2.0",
      "_model_name": "LayoutModel",
      "_view_count": null,
      "_view_module": "@jupyter-widgets/base",
      "_view_module_version": "1.2.0",
      "_view_name": "LayoutView",
      "align_content": null,
      "align_items": null,
      "align_self": null,
      "border": null,
      "bottom": null,
      "display": null,
      "flex": null,
      "flex_flow": null,
      "grid_area": null,
      "grid_auto_columns": null,
      "grid_auto_flow": null,
      "grid_auto_rows": null,
      "grid_column": null,
      "grid_gap": null,
      "grid_row": null,
      "grid_template_areas": null,
      "grid_template_columns": null,
      "grid_template_rows": null,
      "height": null,
      "justify_content": null,
      "justify_items": null,
      "left": null,
      "margin": null,
      "max_height": null,
      "max_width": null,
      "min_height": null,
      "min_width": null,
      "object_fit": null,
      "object_position": null,
      "order": null,
      "overflow": null,
      "overflow_x": null,
      "overflow_y": null,
      "padding": null,
      "right": null,
      "top": null,
      "visibility": null,
      "width": null
     }
    },
    "5b6629d339ce416a9c70e1bcfe3c80f0": {
     "model_module": "@jupyter-widgets/controls",
     "model_module_version": "1.5.0",
     "model_name": "HTMLModel",
     "state": {
      "_dom_classes": [],
      "_model_module": "@jupyter-widgets/controls",
      "_model_module_version": "1.5.0",
      "_model_name": "HTMLModel",
      "_view_count": null,
      "_view_module": "@jupyter-widgets/controls",
      "_view_module_version": "1.5.0",
      "_view_name": "HTMLView",
      "description": "",
      "description_tooltip": null,
      "layout": "IPY_MODEL_4f974756a04b42b78d379aa5a914e467",
      "placeholder": "​",
      "style": "IPY_MODEL_06cb4c51ac0544b8b685ef1a16587217",
      "value": " 654/654 [00:01&lt;00:00, 431.40it/s]"
     }
    },
    "5ba13095df7d4814aa8a99fe3694612a": {
     "model_module": "@jupyter-widgets/controls",
     "model_module_version": "1.5.0",
     "model_name": "HBoxModel",
     "state": {
      "_dom_classes": [],
      "_model_module": "@jupyter-widgets/controls",
      "_model_module_version": "1.5.0",
      "_model_name": "HBoxModel",
      "_view_count": null,
      "_view_module": "@jupyter-widgets/controls",
      "_view_module_version": "1.5.0",
      "_view_name": "HBoxView",
      "box_style": "",
      "children": [
       "IPY_MODEL_5fda45b8a5ce4695ba071d2222ec2723",
       "IPY_MODEL_26d2934965544fbc8b593c6905a9314f",
       "IPY_MODEL_e41720049b30475cb767c8cc6a0fe84d"
      ],
      "layout": "IPY_MODEL_c60f52d1ab8f4d90ab859cbdeca60d82"
     }
    },
    "5e0d0101bbbd4a57a034e6cd15b5b4e2": {
     "model_module": "@jupyter-widgets/base",
     "model_module_version": "1.2.0",
     "model_name": "LayoutModel",
     "state": {
      "_model_module": "@jupyter-widgets/base",
      "_model_module_version": "1.2.0",
      "_model_name": "LayoutModel",
      "_view_count": null,
      "_view_module": "@jupyter-widgets/base",
      "_view_module_version": "1.2.0",
      "_view_name": "LayoutView",
      "align_content": null,
      "align_items": null,
      "align_self": null,
      "border": null,
      "bottom": null,
      "display": null,
      "flex": null,
      "flex_flow": null,
      "grid_area": null,
      "grid_auto_columns": null,
      "grid_auto_flow": null,
      "grid_auto_rows": null,
      "grid_column": null,
      "grid_gap": null,
      "grid_row": null,
      "grid_template_areas": null,
      "grid_template_columns": null,
      "grid_template_rows": null,
      "height": null,
      "justify_content": null,
      "justify_items": null,
      "left": null,
      "margin": null,
      "max_height": null,
      "max_width": null,
      "min_height": null,
      "min_width": null,
      "object_fit": null,
      "object_position": null,
      "order": null,
      "overflow": null,
      "overflow_x": null,
      "overflow_y": null,
      "padding": null,
      "right": null,
      "top": null,
      "visibility": null,
      "width": null
     }
    },
    "5e389a2ba7a24ce7a28ac207a5d12aa8": {
     "model_module": "@jupyter-widgets/base",
     "model_module_version": "1.2.0",
     "model_name": "LayoutModel",
     "state": {
      "_model_module": "@jupyter-widgets/base",
      "_model_module_version": "1.2.0",
      "_model_name": "LayoutModel",
      "_view_count": null,
      "_view_module": "@jupyter-widgets/base",
      "_view_module_version": "1.2.0",
      "_view_name": "LayoutView",
      "align_content": null,
      "align_items": null,
      "align_self": null,
      "border": null,
      "bottom": null,
      "display": null,
      "flex": null,
      "flex_flow": null,
      "grid_area": null,
      "grid_auto_columns": null,
      "grid_auto_flow": null,
      "grid_auto_rows": null,
      "grid_column": null,
      "grid_gap": null,
      "grid_row": null,
      "grid_template_areas": null,
      "grid_template_columns": null,
      "grid_template_rows": null,
      "height": null,
      "justify_content": null,
      "justify_items": null,
      "left": null,
      "margin": null,
      "max_height": null,
      "max_width": null,
      "min_height": null,
      "min_width": null,
      "object_fit": null,
      "object_position": null,
      "order": null,
      "overflow": null,
      "overflow_x": null,
      "overflow_y": null,
      "padding": null,
      "right": null,
      "top": null,
      "visibility": null,
      "width": null
     }
    },
    "5ede1cfdddcd481899e2fce172c2c6d8": {
     "model_module": "@jupyter-widgets/controls",
     "model_module_version": "1.5.0",
     "model_name": "ProgressStyleModel",
     "state": {
      "_model_module": "@jupyter-widgets/controls",
      "_model_module_version": "1.5.0",
      "_model_name": "ProgressStyleModel",
      "_view_count": null,
      "_view_module": "@jupyter-widgets/base",
      "_view_module_version": "1.2.0",
      "_view_name": "StyleView",
      "bar_color": null,
      "description_width": ""
     }
    },
    "5fda45b8a5ce4695ba071d2222ec2723": {
     "model_module": "@jupyter-widgets/controls",
     "model_module_version": "1.5.0",
     "model_name": "HTMLModel",
     "state": {
      "_dom_classes": [],
      "_model_module": "@jupyter-widgets/controls",
      "_model_module_version": "1.5.0",
      "_model_name": "HTMLModel",
      "_view_count": null,
      "_view_module": "@jupyter-widgets/controls",
      "_view_module_version": "1.5.0",
      "_view_name": "HTMLView",
      "description": "",
      "description_tooltip": null,
      "layout": "IPY_MODEL_59c14ea9c21549a8be6713ec060430d5",
      "placeholder": "​",
      "style": "IPY_MODEL_770755724c6d4f379ca081b3fc8fb64c",
      "value": "Decoding outputs: 100%"
     }
    },
    "60a72cb6412244209c3bdc6e64000ebc": {
     "model_module": "@jupyter-widgets/controls",
     "model_module_version": "1.5.0",
     "model_name": "HBoxModel",
     "state": {
      "_dom_classes": [],
      "_model_module": "@jupyter-widgets/controls",
      "_model_module_version": "1.5.0",
      "_model_name": "HBoxModel",
      "_view_count": null,
      "_view_module": "@jupyter-widgets/controls",
      "_view_module_version": "1.5.0",
      "_view_name": "HBoxView",
      "box_style": "",
      "children": [
       "IPY_MODEL_c8c052d619e345edab43af75cb3694bc",
       "IPY_MODEL_ecc595347ddf40e3890c3575840326a4",
       "IPY_MODEL_43cd01499ffe4dcf8f73c39242337f76"
      ],
      "layout": "IPY_MODEL_8057111c2d0d4f04885001dc077b36c3"
     }
    },
    "60a74040c18f4a60a086cb96b61994b3": {
     "model_module": "@jupyter-widgets/base",
     "model_module_version": "1.2.0",
     "model_name": "LayoutModel",
     "state": {
      "_model_module": "@jupyter-widgets/base",
      "_model_module_version": "1.2.0",
      "_model_name": "LayoutModel",
      "_view_count": null,
      "_view_module": "@jupyter-widgets/base",
      "_view_module_version": "1.2.0",
      "_view_name": "LayoutView",
      "align_content": null,
      "align_items": null,
      "align_self": null,
      "border": null,
      "bottom": null,
      "display": null,
      "flex": null,
      "flex_flow": null,
      "grid_area": null,
      "grid_auto_columns": null,
      "grid_auto_flow": null,
      "grid_auto_rows": null,
      "grid_column": null,
      "grid_gap": null,
      "grid_row": null,
      "grid_template_areas": null,
      "grid_template_columns": null,
      "grid_template_rows": null,
      "height": null,
      "justify_content": null,
      "justify_items": null,
      "left": null,
      "margin": null,
      "max_height": null,
      "max_width": null,
      "min_height": null,
      "min_width": null,
      "object_fit": null,
      "object_position": null,
      "order": null,
      "overflow": null,
      "overflow_x": null,
      "overflow_y": null,
      "padding": null,
      "right": null,
      "top": null,
      "visibility": null,
      "width": null
     }
    },
    "624eb62d06bc40909f66ea046ba54111": {
     "model_module": "@jupyter-widgets/base",
     "model_module_version": "1.2.0",
     "model_name": "LayoutModel",
     "state": {
      "_model_module": "@jupyter-widgets/base",
      "_model_module_version": "1.2.0",
      "_model_name": "LayoutModel",
      "_view_count": null,
      "_view_module": "@jupyter-widgets/base",
      "_view_module_version": "1.2.0",
      "_view_name": "LayoutView",
      "align_content": null,
      "align_items": null,
      "align_self": null,
      "border": null,
      "bottom": null,
      "display": null,
      "flex": null,
      "flex_flow": null,
      "grid_area": null,
      "grid_auto_columns": null,
      "grid_auto_flow": null,
      "grid_auto_rows": null,
      "grid_column": null,
      "grid_gap": null,
      "grid_row": null,
      "grid_template_areas": null,
      "grid_template_columns": null,
      "grid_template_rows": null,
      "height": null,
      "justify_content": null,
      "justify_items": null,
      "left": null,
      "margin": null,
      "max_height": null,
      "max_width": null,
      "min_height": null,
      "min_width": null,
      "object_fit": null,
      "object_position": null,
      "order": null,
      "overflow": null,
      "overflow_x": null,
      "overflow_y": null,
      "padding": null,
      "right": null,
      "top": null,
      "visibility": null,
      "width": null
     }
    },
    "6280a2ae5f99424d90d36a9ad0a5937a": {
     "model_module": "@jupyter-widgets/controls",
     "model_module_version": "1.5.0",
     "model_name": "HBoxModel",
     "state": {
      "_dom_classes": [],
      "_model_module": "@jupyter-widgets/controls",
      "_model_module_version": "1.5.0",
      "_model_name": "HBoxModel",
      "_view_count": null,
      "_view_module": "@jupyter-widgets/controls",
      "_view_module_version": "1.5.0",
      "_view_name": "HBoxView",
      "box_style": "",
      "children": [
       "IPY_MODEL_fe3b76e0f7b043408af9d9c41aaa3e15",
       "IPY_MODEL_b9967852708d46808a647e5b8dd74d25",
       "IPY_MODEL_1e8ba349c29d4342bb3b1c2566d445a1"
      ],
      "layout": "IPY_MODEL_5e0d0101bbbd4a57a034e6cd15b5b4e2"
     }
    },
    "649e3916dff84e36b93d93bd08f29ba0": {
     "model_module": "@jupyter-widgets/controls",
     "model_module_version": "1.5.0",
     "model_name": "HTMLModel",
     "state": {
      "_dom_classes": [],
      "_model_module": "@jupyter-widgets/controls",
      "_model_module_version": "1.5.0",
      "_model_name": "HTMLModel",
      "_view_count": null,
      "_view_module": "@jupyter-widgets/controls",
      "_view_module_version": "1.5.0",
      "_view_name": "HTMLView",
      "description": "",
      "description_tooltip": null,
      "layout": "IPY_MODEL_826d3705f1234aada4a3e5699d849504",
      "placeholder": "​",
      "style": "IPY_MODEL_3065ea5e1a6a4fb88b5b7c1a97192f33",
      "value": " 654/654 [00:01&lt;00:00, 441.39it/s]"
     }
    },
    "64ba5c1e2e664cf991e2398619e7fbbe": {
     "model_module": "@jupyter-widgets/controls",
     "model_module_version": "1.5.0",
     "model_name": "DescriptionStyleModel",
     "state": {
      "_model_module": "@jupyter-widgets/controls",
      "_model_module_version": "1.5.0",
      "_model_name": "DescriptionStyleModel",
      "_view_count": null,
      "_view_module": "@jupyter-widgets/base",
      "_view_module_version": "1.2.0",
      "_view_name": "StyleView",
      "description_width": ""
     }
    },
    "64be69c55d6c4a4d9431d5ae594dd4bc": {
     "model_module": "@jupyter-widgets/base",
     "model_module_version": "1.2.0",
     "model_name": "LayoutModel",
     "state": {
      "_model_module": "@jupyter-widgets/base",
      "_model_module_version": "1.2.0",
      "_model_name": "LayoutModel",
      "_view_count": null,
      "_view_module": "@jupyter-widgets/base",
      "_view_module_version": "1.2.0",
      "_view_name": "LayoutView",
      "align_content": null,
      "align_items": null,
      "align_self": null,
      "border": null,
      "bottom": null,
      "display": null,
      "flex": null,
      "flex_flow": null,
      "grid_area": null,
      "grid_auto_columns": null,
      "grid_auto_flow": null,
      "grid_auto_rows": null,
      "grid_column": null,
      "grid_gap": null,
      "grid_row": null,
      "grid_template_areas": null,
      "grid_template_columns": null,
      "grid_template_rows": null,
      "height": null,
      "justify_content": null,
      "justify_items": null,
      "left": null,
      "margin": null,
      "max_height": null,
      "max_width": null,
      "min_height": null,
      "min_width": null,
      "object_fit": null,
      "object_position": null,
      "order": null,
      "overflow": null,
      "overflow_x": null,
      "overflow_y": null,
      "padding": null,
      "right": null,
      "top": null,
      "visibility": null,
      "width": null
     }
    },
    "663c495992b943c4a8fae13956c6cfb7": {
     "model_module": "@jupyter-widgets/base",
     "model_module_version": "1.2.0",
     "model_name": "LayoutModel",
     "state": {
      "_model_module": "@jupyter-widgets/base",
      "_model_module_version": "1.2.0",
      "_model_name": "LayoutModel",
      "_view_count": null,
      "_view_module": "@jupyter-widgets/base",
      "_view_module_version": "1.2.0",
      "_view_name": "LayoutView",
      "align_content": null,
      "align_items": null,
      "align_self": null,
      "border": null,
      "bottom": null,
      "display": null,
      "flex": null,
      "flex_flow": null,
      "grid_area": null,
      "grid_auto_columns": null,
      "grid_auto_flow": null,
      "grid_auto_rows": null,
      "grid_column": null,
      "grid_gap": null,
      "grid_row": null,
      "grid_template_areas": null,
      "grid_template_columns": null,
      "grid_template_rows": null,
      "height": null,
      "justify_content": null,
      "justify_items": null,
      "left": null,
      "margin": null,
      "max_height": null,
      "max_width": null,
      "min_height": null,
      "min_width": null,
      "object_fit": null,
      "object_position": null,
      "order": null,
      "overflow": null,
      "overflow_x": null,
      "overflow_y": null,
      "padding": null,
      "right": null,
      "top": null,
      "visibility": null,
      "width": null
     }
    },
    "67f86f0467cc458cb5099178dd11307c": {
     "model_module": "@jupyter-widgets/controls",
     "model_module_version": "1.5.0",
     "model_name": "HTMLModel",
     "state": {
      "_dom_classes": [],
      "_model_module": "@jupyter-widgets/controls",
      "_model_module_version": "1.5.0",
      "_model_name": "HTMLModel",
      "_view_count": null,
      "_view_module": "@jupyter-widgets/controls",
      "_view_module_version": "1.5.0",
      "_view_name": "HTMLView",
      "description": "",
      "description_tooltip": null,
      "layout": "IPY_MODEL_03cdc2ed456e4310abc199c0252a01ee",
      "placeholder": "​",
      "style": "IPY_MODEL_9487d7d3852c431c94300d09c676ef99",
      "value": " 88/88 [00:38&lt;00:00,  2.82it/s]"
     }
    },
    "68983805f76c4cc88178a1e322f42c31": {
     "model_module": "@jupyter-widgets/controls",
     "model_module_version": "1.5.0",
     "model_name": "DescriptionStyleModel",
     "state": {
      "_model_module": "@jupyter-widgets/controls",
      "_model_module_version": "1.5.0",
      "_model_name": "DescriptionStyleModel",
      "_view_count": null,
      "_view_module": "@jupyter-widgets/base",
      "_view_module_version": "1.2.0",
      "_view_name": "StyleView",
      "description_width": ""
     }
    },
    "6a06f52593a043f5b2fbcef8efb2484d": {
     "model_module": "@jupyter-widgets/controls",
     "model_module_version": "1.5.0",
     "model_name": "HTMLModel",
     "state": {
      "_dom_classes": [],
      "_model_module": "@jupyter-widgets/controls",
      "_model_module_version": "1.5.0",
      "_model_name": "HTMLModel",
      "_view_count": null,
      "_view_module": "@jupyter-widgets/controls",
      "_view_module_version": "1.5.0",
      "_view_name": "HTMLView",
      "description": "",
      "description_tooltip": null,
      "layout": "IPY_MODEL_96974f5b9e0e437d9e28d01b1f80d18f",
      "placeholder": "​",
      "style": "IPY_MODEL_c2eb2c91e5e14e3f9f5015b450e96697",
      "value": " 654/654 [00:01&lt;00:00, 431.76it/s]"
     }
    },
    "6a6d78f3e73a4a74b5b5059ee04ee72d": {
     "model_module": "@jupyter-widgets/controls",
     "model_module_version": "1.5.0",
     "model_name": "FloatProgressModel",
     "state": {
      "_dom_classes": [],
      "_model_module": "@jupyter-widgets/controls",
      "_model_module_version": "1.5.0",
      "_model_name": "FloatProgressModel",
      "_view_count": null,
      "_view_module": "@jupyter-widgets/controls",
      "_view_module_version": "1.5.0",
      "_view_name": "ProgressView",
      "bar_style": "success",
      "description": "",
      "description_tooltip": null,
      "layout": "IPY_MODEL_f0d2aac6cc404a8394c2d0196e4ecb82",
      "max": 654,
      "min": 0,
      "orientation": "horizontal",
      "style": "IPY_MODEL_749226aab196463587d52e39ba9e9cc9",
      "value": 654
     }
    },
    "6b25e0f3280d4c398a5893d1b0fe0b45": {
     "model_module": "@jupyter-widgets/base",
     "model_module_version": "1.2.0",
     "model_name": "LayoutModel",
     "state": {
      "_model_module": "@jupyter-widgets/base",
      "_model_module_version": "1.2.0",
      "_model_name": "LayoutModel",
      "_view_count": null,
      "_view_module": "@jupyter-widgets/base",
      "_view_module_version": "1.2.0",
      "_view_name": "LayoutView",
      "align_content": null,
      "align_items": null,
      "align_self": null,
      "border": null,
      "bottom": null,
      "display": null,
      "flex": null,
      "flex_flow": null,
      "grid_area": null,
      "grid_auto_columns": null,
      "grid_auto_flow": null,
      "grid_auto_rows": null,
      "grid_column": null,
      "grid_gap": null,
      "grid_row": null,
      "grid_template_areas": null,
      "grid_template_columns": null,
      "grid_template_rows": null,
      "height": null,
      "justify_content": null,
      "justify_items": null,
      "left": null,
      "margin": null,
      "max_height": null,
      "max_width": null,
      "min_height": null,
      "min_width": null,
      "object_fit": null,
      "object_position": null,
      "order": null,
      "overflow": null,
      "overflow_x": null,
      "overflow_y": null,
      "padding": null,
      "right": null,
      "top": null,
      "visibility": null,
      "width": null
     }
    },
    "6b60d2a132aa49ac919b2f60a960a215": {
     "model_module": "@jupyter-widgets/controls",
     "model_module_version": "1.5.0",
     "model_name": "HTMLModel",
     "state": {
      "_dom_classes": [],
      "_model_module": "@jupyter-widgets/controls",
      "_model_module_version": "1.5.0",
      "_model_name": "HTMLModel",
      "_view_count": null,
      "_view_module": "@jupyter-widgets/controls",
      "_view_module_version": "1.5.0",
      "_view_name": "HTMLView",
      "description": "",
      "description_tooltip": null,
      "layout": "IPY_MODEL_39f5d27bc4414837a890147553c3c286",
      "placeholder": "​",
      "style": "IPY_MODEL_c452eb8a1c354a9c9fe8b43c68e994d3",
      "value": "100%"
     }
    },
    "6d985e8cc4764f9fb06d20e538b87332": {
     "model_module": "@jupyter-widgets/controls",
     "model_module_version": "1.5.0",
     "model_name": "FloatProgressModel",
     "state": {
      "_dom_classes": [],
      "_model_module": "@jupyter-widgets/controls",
      "_model_module_version": "1.5.0",
      "_model_name": "FloatProgressModel",
      "_view_count": null,
      "_view_module": "@jupyter-widgets/controls",
      "_view_module_version": "1.5.0",
      "_view_name": "ProgressView",
      "bar_style": "success",
      "description": "",
      "description_tooltip": null,
      "layout": "IPY_MODEL_1bad4658ab3d40a5b3875980672c9e88",
      "max": 654,
      "min": 0,
      "orientation": "horizontal",
      "style": "IPY_MODEL_12ea18a8c2df47a899ddad68c8564d7e",
      "value": 654
     }
    },
    "6e0348890a494d44996a911e96cd5880": {
     "model_module": "@jupyter-widgets/controls",
     "model_module_version": "1.5.0",
     "model_name": "HTMLModel",
     "state": {
      "_dom_classes": [],
      "_model_module": "@jupyter-widgets/controls",
      "_model_module_version": "1.5.0",
      "_model_name": "HTMLModel",
      "_view_count": null,
      "_view_module": "@jupyter-widgets/controls",
      "_view_module_version": "1.5.0",
      "_view_name": "HTMLView",
      "description": "",
      "description_tooltip": null,
      "layout": "IPY_MODEL_564bc4a23c054d40b8a405e85f24d321",
      "placeholder": "​",
      "style": "IPY_MODEL_391b51e4076a4b7ebc5676d30c84b27c",
      "value": " 2615/2615 [00:01&lt;00:00, 1934.19it/s]"
     }
    },
    "6e462d3f205942bd857a3b69ae804e1c": {
     "model_module": "@jupyter-widgets/controls",
     "model_module_version": "1.5.0",
     "model_name": "HBoxModel",
     "state": {
      "_dom_classes": [],
      "_model_module": "@jupyter-widgets/controls",
      "_model_module_version": "1.5.0",
      "_model_name": "HBoxModel",
      "_view_count": null,
      "_view_module": "@jupyter-widgets/controls",
      "_view_module_version": "1.5.0",
      "_view_name": "HBoxView",
      "box_style": "",
      "children": [
       "IPY_MODEL_ca8dea293eef47bc84d9eb189f4840fd",
       "IPY_MODEL_23b9707dec304a5a8da2e18a6c1f96c5",
       "IPY_MODEL_ed0eb0a15f9e40f9b1a87646b702003a"
      ],
      "layout": "IPY_MODEL_8e38b99dd9b4438e8c64bd8d34871688"
     }
    },
    "6e653b610d824871bbcd1e1fbae614fb": {
     "model_module": "@jupyter-widgets/controls",
     "model_module_version": "1.5.0",
     "model_name": "FloatProgressModel",
     "state": {
      "_dom_classes": [],
      "_model_module": "@jupyter-widgets/controls",
      "_model_module_version": "1.5.0",
      "_model_name": "FloatProgressModel",
      "_view_count": null,
      "_view_module": "@jupyter-widgets/controls",
      "_view_module_version": "1.5.0",
      "_view_name": "ProgressView",
      "bar_style": "",
      "description": "",
      "description_tooltip": null,
      "layout": "IPY_MODEL_f3599019c4c84353ad234874b3389cca",
      "max": 1,
      "min": 0,
      "orientation": "horizontal",
      "style": "IPY_MODEL_e20192c0b1094fc0b1c73ef1ba619210",
      "value": 1
     }
    },
    "6e8b6d1b05384e2985d1e4ed0be1c4cc": {
     "model_module": "@jupyter-widgets/controls",
     "model_module_version": "1.5.0",
     "model_name": "ProgressStyleModel",
     "state": {
      "_model_module": "@jupyter-widgets/controls",
      "_model_module_version": "1.5.0",
      "_model_name": "ProgressStyleModel",
      "_view_count": null,
      "_view_module": "@jupyter-widgets/base",
      "_view_module_version": "1.2.0",
      "_view_name": "StyleView",
      "bar_color": null,
      "description_width": ""
     }
    },
    "6ec9100e415645cfb590241e9c817f66": {
     "model_module": "@jupyter-widgets/controls",
     "model_module_version": "1.5.0",
     "model_name": "HBoxModel",
     "state": {
      "_dom_classes": [],
      "_model_module": "@jupyter-widgets/controls",
      "_model_module_version": "1.5.0",
      "_model_name": "HBoxModel",
      "_view_count": null,
      "_view_module": "@jupyter-widgets/controls",
      "_view_module_version": "1.5.0",
      "_view_name": "HBoxView",
      "box_style": "",
      "children": [
       "IPY_MODEL_f41333f520594383b5602a37efa99957",
       "IPY_MODEL_6d985e8cc4764f9fb06d20e538b87332",
       "IPY_MODEL_4bfc346ee5004e4c86eb67df0c4866e4"
      ],
      "layout": "IPY_MODEL_5aa3a92d13a0456a9a9af0f1621bd68e"
     }
    },
    "6ef68afe94e340a5bddfc6ae9cab1caf": {
     "model_module": "@jupyter-widgets/controls",
     "model_module_version": "1.5.0",
     "model_name": "ProgressStyleModel",
     "state": {
      "_model_module": "@jupyter-widgets/controls",
      "_model_module_version": "1.5.0",
      "_model_name": "ProgressStyleModel",
      "_view_count": null,
      "_view_module": "@jupyter-widgets/base",
      "_view_module_version": "1.2.0",
      "_view_name": "StyleView",
      "bar_color": null,
      "description_width": ""
     }
    },
    "6f92884fc4e149249fd62a339aada5ad": {
     "model_module": "@jupyter-widgets/controls",
     "model_module_version": "1.5.0",
     "model_name": "HBoxModel",
     "state": {
      "_dom_classes": [],
      "_model_module": "@jupyter-widgets/controls",
      "_model_module_version": "1.5.0",
      "_model_name": "HBoxModel",
      "_view_count": null,
      "_view_module": "@jupyter-widgets/controls",
      "_view_module_version": "1.5.0",
      "_view_name": "HBoxView",
      "box_style": "",
      "children": [
       "IPY_MODEL_13ea8d0f395e4d7cb8de8c0dcad2ec79",
       "IPY_MODEL_be30018a39d648829a112726bcad35f1",
       "IPY_MODEL_adc472d346e8488b98e51efe29b494b2"
      ],
      "layout": "IPY_MODEL_60a74040c18f4a60a086cb96b61994b3"
     }
    },
    "70a5123572e6401b81dea9a49c57048f": {
     "model_module": "@jupyter-widgets/controls",
     "model_module_version": "1.5.0",
     "model_name": "HBoxModel",
     "state": {
      "_dom_classes": [],
      "_model_module": "@jupyter-widgets/controls",
      "_model_module_version": "1.5.0",
      "_model_name": "HBoxModel",
      "_view_count": null,
      "_view_module": "@jupyter-widgets/controls",
      "_view_module_version": "1.5.0",
      "_view_name": "HBoxView",
      "box_style": "",
      "children": [
       "IPY_MODEL_110f8c2b0082440d99b917e574f546b8",
       "IPY_MODEL_4c4624e16ad9414083052cb87f7bd665",
       "IPY_MODEL_b4b03336805e43c38a5b5b1e8081dbb2"
      ],
      "layout": "IPY_MODEL_f56a2dda521b4e04bb9ef501c8e1f452"
     }
    },
    "70d77dc27bea4ae091a69a8f647e0ea4": {
     "model_module": "@jupyter-widgets/controls",
     "model_module_version": "1.5.0",
     "model_name": "FloatProgressModel",
     "state": {
      "_dom_classes": [],
      "_model_module": "@jupyter-widgets/controls",
      "_model_module_version": "1.5.0",
      "_model_name": "FloatProgressModel",
      "_view_count": null,
      "_view_module": "@jupyter-widgets/controls",
      "_view_module_version": "1.5.0",
      "_view_name": "ProgressView",
      "bar_style": "success",
      "description": "",
      "description_tooltip": null,
      "layout": "IPY_MODEL_f9408b99e4f14b3d9d529977cb785aa4",
      "max": 654,
      "min": 0,
      "orientation": "horizontal",
      "style": "IPY_MODEL_9fa5b3031a9d414fa00930519ac5a6b7",
      "value": 654
     }
    },
    "72f925218bd04460857ecc31a9839a01": {
     "model_module": "@jupyter-widgets/base",
     "model_module_version": "1.2.0",
     "model_name": "LayoutModel",
     "state": {
      "_model_module": "@jupyter-widgets/base",
      "_model_module_version": "1.2.0",
      "_model_name": "LayoutModel",
      "_view_count": null,
      "_view_module": "@jupyter-widgets/base",
      "_view_module_version": "1.2.0",
      "_view_name": "LayoutView",
      "align_content": null,
      "align_items": null,
      "align_self": null,
      "border": null,
      "bottom": null,
      "display": null,
      "flex": null,
      "flex_flow": null,
      "grid_area": null,
      "grid_auto_columns": null,
      "grid_auto_flow": null,
      "grid_auto_rows": null,
      "grid_column": null,
      "grid_gap": null,
      "grid_row": null,
      "grid_template_areas": null,
      "grid_template_columns": null,
      "grid_template_rows": null,
      "height": null,
      "justify_content": null,
      "justify_items": null,
      "left": null,
      "margin": null,
      "max_height": null,
      "max_width": null,
      "min_height": null,
      "min_width": null,
      "object_fit": null,
      "object_position": null,
      "order": null,
      "overflow": null,
      "overflow_x": null,
      "overflow_y": null,
      "padding": null,
      "right": null,
      "top": null,
      "visibility": null,
      "width": null
     }
    },
    "73242d9fa66f41eba062ae3d0da287bf": {
     "model_module": "@jupyter-widgets/controls",
     "model_module_version": "1.5.0",
     "model_name": "DescriptionStyleModel",
     "state": {
      "_model_module": "@jupyter-widgets/controls",
      "_model_module_version": "1.5.0",
      "_model_name": "DescriptionStyleModel",
      "_view_count": null,
      "_view_module": "@jupyter-widgets/base",
      "_view_module_version": "1.2.0",
      "_view_name": "StyleView",
      "description_width": ""
     }
    },
    "74158279a4a849a68a1d99444eb75a8d": {
     "model_module": "@jupyter-widgets/controls",
     "model_module_version": "1.5.0",
     "model_name": "HBoxModel",
     "state": {
      "_dom_classes": [],
      "_model_module": "@jupyter-widgets/controls",
      "_model_module_version": "1.5.0",
      "_model_name": "HBoxModel",
      "_view_count": null,
      "_view_module": "@jupyter-widgets/controls",
      "_view_module_version": "1.5.0",
      "_view_name": "HBoxView",
      "box_style": "",
      "children": [
       "IPY_MODEL_dc6c7a290c5342ce985f55e560c89ef5",
       "IPY_MODEL_6a6d78f3e73a4a74b5b5059ee04ee72d",
       "IPY_MODEL_7ed70cb8506e46298e71e10a1b3154a3"
      ],
      "layout": "IPY_MODEL_4f6f2858a34348808e6cc5defd8b0b42"
     }
    },
    "749226aab196463587d52e39ba9e9cc9": {
     "model_module": "@jupyter-widgets/controls",
     "model_module_version": "1.5.0",
     "model_name": "ProgressStyleModel",
     "state": {
      "_model_module": "@jupyter-widgets/controls",
      "_model_module_version": "1.5.0",
      "_model_name": "ProgressStyleModel",
      "_view_count": null,
      "_view_module": "@jupyter-widgets/base",
      "_view_module_version": "1.2.0",
      "_view_name": "StyleView",
      "bar_color": null,
      "description_width": ""
     }
    },
    "74ed0700b3fc4b46ae49ceb788d2a9af": {
     "model_module": "@jupyter-widgets/base",
     "model_module_version": "1.2.0",
     "model_name": "LayoutModel",
     "state": {
      "_model_module": "@jupyter-widgets/base",
      "_model_module_version": "1.2.0",
      "_model_name": "LayoutModel",
      "_view_count": null,
      "_view_module": "@jupyter-widgets/base",
      "_view_module_version": "1.2.0",
      "_view_name": "LayoutView",
      "align_content": null,
      "align_items": null,
      "align_self": null,
      "border": null,
      "bottom": null,
      "display": null,
      "flex": null,
      "flex_flow": null,
      "grid_area": null,
      "grid_auto_columns": null,
      "grid_auto_flow": null,
      "grid_auto_rows": null,
      "grid_column": null,
      "grid_gap": null,
      "grid_row": null,
      "grid_template_areas": null,
      "grid_template_columns": null,
      "grid_template_rows": null,
      "height": null,
      "justify_content": null,
      "justify_items": null,
      "left": null,
      "margin": null,
      "max_height": null,
      "max_width": null,
      "min_height": null,
      "min_width": null,
      "object_fit": null,
      "object_position": null,
      "order": null,
      "overflow": null,
      "overflow_x": null,
      "overflow_y": null,
      "padding": null,
      "right": null,
      "top": null,
      "visibility": null,
      "width": null
     }
    },
    "751779015d194426b3e20329cc201e09": {
     "model_module": "@jupyter-widgets/controls",
     "model_module_version": "1.5.0",
     "model_name": "HTMLModel",
     "state": {
      "_dom_classes": [],
      "_model_module": "@jupyter-widgets/controls",
      "_model_module_version": "1.5.0",
      "_model_name": "HTMLModel",
      "_view_count": null,
      "_view_module": "@jupyter-widgets/controls",
      "_view_module_version": "1.5.0",
      "_view_name": "HTMLView",
      "description": "",
      "description_tooltip": null,
      "layout": "IPY_MODEL_e130b161d8ae44ad8d1a406ee00d9004",
      "placeholder": "​",
      "style": "IPY_MODEL_64ba5c1e2e664cf991e2398619e7fbbe",
      "value": "100%"
     }
    },
    "75824665003c4a42bbd4b3f365422bf9": {
     "model_module": "@jupyter-widgets/controls",
     "model_module_version": "1.5.0",
     "model_name": "HTMLModel",
     "state": {
      "_dom_classes": [],
      "_model_module": "@jupyter-widgets/controls",
      "_model_module_version": "1.5.0",
      "_model_name": "HTMLModel",
      "_view_count": null,
      "_view_module": "@jupyter-widgets/controls",
      "_view_module_version": "1.5.0",
      "_view_name": "HTMLView",
      "description": "",
      "description_tooltip": null,
      "layout": "IPY_MODEL_624eb62d06bc40909f66ea046ba54111",
      "placeholder": "​",
      "style": "IPY_MODEL_fd9caf3bf52b4080aa0bfd43871ac3fc",
      "value": "Generating outputs: 100%"
     }
    },
    "759e3448ae994d6498b7bd28afdb6f10": {
     "model_module": "@jupyter-widgets/controls",
     "model_module_version": "1.5.0",
     "model_name": "HBoxModel",
     "state": {
      "_dom_classes": [],
      "_model_module": "@jupyter-widgets/controls",
      "_model_module_version": "1.5.0",
      "_model_name": "HBoxModel",
      "_view_count": null,
      "_view_module": "@jupyter-widgets/controls",
      "_view_module_version": "1.5.0",
      "_view_name": "HBoxView",
      "box_style": "",
      "children": [
       "IPY_MODEL_462febac101940918cf6ef6caab1c1b3",
       "IPY_MODEL_8699f756ccc242f0bbec98dd9c2abe25",
       "IPY_MODEL_88974d3696734019866f0167830f2c9c"
      ],
      "layout": "IPY_MODEL_2ca31e573bd04d8f9959b516161ca33c"
     }
    },
    "770755724c6d4f379ca081b3fc8fb64c": {
     "model_module": "@jupyter-widgets/controls",
     "model_module_version": "1.5.0",
     "model_name": "DescriptionStyleModel",
     "state": {
      "_model_module": "@jupyter-widgets/controls",
      "_model_module_version": "1.5.0",
      "_model_name": "DescriptionStyleModel",
      "_view_count": null,
      "_view_module": "@jupyter-widgets/base",
      "_view_module_version": "1.2.0",
      "_view_name": "StyleView",
      "description_width": ""
     }
    },
    "77390a95bc8e4c0c9ad1758693e79666": {
     "model_module": "@jupyter-widgets/controls",
     "model_module_version": "1.5.0",
     "model_name": "HTMLModel",
     "state": {
      "_dom_classes": [],
      "_model_module": "@jupyter-widgets/controls",
      "_model_module_version": "1.5.0",
      "_model_name": "HTMLModel",
      "_view_count": null,
      "_view_module": "@jupyter-widgets/controls",
      "_view_module_version": "1.5.0",
      "_view_name": "HTMLView",
      "description": "",
      "description_tooltip": null,
      "layout": "IPY_MODEL_e47d30f4002a422da028a55f22f61a2a",
      "placeholder": "​",
      "style": "IPY_MODEL_01f6bf27400f4da28869e826ae1f259d",
      "value": "100%"
     }
    },
    "77a0d921b0ff43059732fb35d11a74bd": {
     "model_module": "@jupyter-widgets/base",
     "model_module_version": "1.2.0",
     "model_name": "LayoutModel",
     "state": {
      "_model_module": "@jupyter-widgets/base",
      "_model_module_version": "1.2.0",
      "_model_name": "LayoutModel",
      "_view_count": null,
      "_view_module": "@jupyter-widgets/base",
      "_view_module_version": "1.2.0",
      "_view_name": "LayoutView",
      "align_content": null,
      "align_items": null,
      "align_self": null,
      "border": null,
      "bottom": null,
      "display": null,
      "flex": null,
      "flex_flow": null,
      "grid_area": null,
      "grid_auto_columns": null,
      "grid_auto_flow": null,
      "grid_auto_rows": null,
      "grid_column": null,
      "grid_gap": null,
      "grid_row": null,
      "grid_template_areas": null,
      "grid_template_columns": null,
      "grid_template_rows": null,
      "height": null,
      "justify_content": null,
      "justify_items": null,
      "left": null,
      "margin": null,
      "max_height": null,
      "max_width": null,
      "min_height": null,
      "min_width": null,
      "object_fit": null,
      "object_position": null,
      "order": null,
      "overflow": null,
      "overflow_x": null,
      "overflow_y": null,
      "padding": null,
      "right": null,
      "top": null,
      "visibility": null,
      "width": null
     }
    },
    "7a9aacf62df949c1bc0f8202d4341b15": {
     "model_module": "@jupyter-widgets/base",
     "model_module_version": "1.2.0",
     "model_name": "LayoutModel",
     "state": {
      "_model_module": "@jupyter-widgets/base",
      "_model_module_version": "1.2.0",
      "_model_name": "LayoutModel",
      "_view_count": null,
      "_view_module": "@jupyter-widgets/base",
      "_view_module_version": "1.2.0",
      "_view_name": "LayoutView",
      "align_content": null,
      "align_items": null,
      "align_self": null,
      "border": null,
      "bottom": null,
      "display": null,
      "flex": null,
      "flex_flow": null,
      "grid_area": null,
      "grid_auto_columns": null,
      "grid_auto_flow": null,
      "grid_auto_rows": null,
      "grid_column": null,
      "grid_gap": null,
      "grid_row": null,
      "grid_template_areas": null,
      "grid_template_columns": null,
      "grid_template_rows": null,
      "height": null,
      "justify_content": null,
      "justify_items": null,
      "left": null,
      "margin": null,
      "max_height": null,
      "max_width": null,
      "min_height": null,
      "min_width": null,
      "object_fit": null,
      "object_position": null,
      "order": null,
      "overflow": null,
      "overflow_x": null,
      "overflow_y": null,
      "padding": null,
      "right": null,
      "top": null,
      "visibility": null,
      "width": null
     }
    },
    "7ab3a8446dd24778845b52b4263c3e6e": {
     "model_module": "@jupyter-widgets/controls",
     "model_module_version": "1.5.0",
     "model_name": "HBoxModel",
     "state": {
      "_dom_classes": [],
      "_model_module": "@jupyter-widgets/controls",
      "_model_module_version": "1.5.0",
      "_model_name": "HBoxModel",
      "_view_count": null,
      "_view_module": "@jupyter-widgets/controls",
      "_view_module_version": "1.5.0",
      "_view_name": "HBoxView",
      "box_style": "",
      "children": [
       "IPY_MODEL_d709a8bd0d8d43238684fb592af27df1",
       "IPY_MODEL_e255e89709dd45a5bb5d29499fc9ec70",
       "IPY_MODEL_f3d1fe0a6306449fa72ae6c38ed9a7be"
      ],
      "layout": "IPY_MODEL_bcbc3a6e49ba4756a238c6d293965393"
     }
    },
    "7bc0ba8a8f054ae1a05656b04ef0298a": {
     "model_module": "@jupyter-widgets/controls",
     "model_module_version": "1.5.0",
     "model_name": "HTMLModel",
     "state": {
      "_dom_classes": [],
      "_model_module": "@jupyter-widgets/controls",
      "_model_module_version": "1.5.0",
      "_model_name": "HTMLModel",
      "_view_count": null,
      "_view_module": "@jupyter-widgets/controls",
      "_view_module_version": "1.5.0",
      "_view_name": "HTMLView",
      "description": "",
      "description_tooltip": null,
      "layout": "IPY_MODEL_bd3ea10f317440bda57860bffda9c97a",
      "placeholder": "​",
      "style": "IPY_MODEL_2b3e8737e26d4ea4ab4f57599f56724d",
      "value": " 654/654 [00:01&lt;00:00, 454.62it/s]"
     }
    },
    "7e5d014e8d794a5db540fb350d09bf17": {
     "model_module": "@jupyter-widgets/controls",
     "model_module_version": "1.5.0",
     "model_name": "HTMLModel",
     "state": {
      "_dom_classes": [],
      "_model_module": "@jupyter-widgets/controls",
      "_model_module_version": "1.5.0",
      "_model_name": "HTMLModel",
      "_view_count": null,
      "_view_module": "@jupyter-widgets/controls",
      "_view_module_version": "1.5.0",
      "_view_name": "HTMLView",
      "description": "",
      "description_tooltip": null,
      "layout": "IPY_MODEL_48c24eb9f6d64ebf871fbe6e7ddf06bc",
      "placeholder": "​",
      "style": "IPY_MODEL_f90eb94c158547b586b9f4bd243a812a",
      "value": "Epochs 7/12. Running Loss:    1.5504: 100%"
     }
    },
    "7ed70cb8506e46298e71e10a1b3154a3": {
     "model_module": "@jupyter-widgets/controls",
     "model_module_version": "1.5.0",
     "model_name": "HTMLModel",
     "state": {
      "_dom_classes": [],
      "_model_module": "@jupyter-widgets/controls",
      "_model_module_version": "1.5.0",
      "_model_name": "HTMLModel",
      "_view_count": null,
      "_view_module": "@jupyter-widgets/controls",
      "_view_module_version": "1.5.0",
      "_view_name": "HTMLView",
      "description": "",
      "description_tooltip": null,
      "layout": "IPY_MODEL_d54194b73b284dbc9d5ac9ff7753a819",
      "placeholder": "​",
      "style": "IPY_MODEL_84954a59b7de461b8b56bc9044e9803b",
      "value": " 654/654 [00:01&lt;00:00, 469.93it/s]"
     }
    },
    "7f8f45b27fa64f60852fd78682386c57": {
     "model_module": "@jupyter-widgets/base",
     "model_module_version": "1.2.0",
     "model_name": "LayoutModel",
     "state": {
      "_model_module": "@jupyter-widgets/base",
      "_model_module_version": "1.2.0",
      "_model_name": "LayoutModel",
      "_view_count": null,
      "_view_module": "@jupyter-widgets/base",
      "_view_module_version": "1.2.0",
      "_view_name": "LayoutView",
      "align_content": null,
      "align_items": null,
      "align_self": null,
      "border": null,
      "bottom": null,
      "display": null,
      "flex": null,
      "flex_flow": null,
      "grid_area": null,
      "grid_auto_columns": null,
      "grid_auto_flow": null,
      "grid_auto_rows": null,
      "grid_column": null,
      "grid_gap": null,
      "grid_row": null,
      "grid_template_areas": null,
      "grid_template_columns": null,
      "grid_template_rows": null,
      "height": null,
      "justify_content": null,
      "justify_items": null,
      "left": null,
      "margin": null,
      "max_height": null,
      "max_width": null,
      "min_height": null,
      "min_width": null,
      "object_fit": null,
      "object_position": null,
      "order": null,
      "overflow": null,
      "overflow_x": null,
      "overflow_y": null,
      "padding": null,
      "right": null,
      "top": null,
      "visibility": null,
      "width": null
     }
    },
    "7fa2f920b2594ad59423db51d0000838": {
     "model_module": "@jupyter-widgets/base",
     "model_module_version": "1.2.0",
     "model_name": "LayoutModel",
     "state": {
      "_model_module": "@jupyter-widgets/base",
      "_model_module_version": "1.2.0",
      "_model_name": "LayoutModel",
      "_view_count": null,
      "_view_module": "@jupyter-widgets/base",
      "_view_module_version": "1.2.0",
      "_view_name": "LayoutView",
      "align_content": null,
      "align_items": null,
      "align_self": null,
      "border": null,
      "bottom": null,
      "display": null,
      "flex": null,
      "flex_flow": null,
      "grid_area": null,
      "grid_auto_columns": null,
      "grid_auto_flow": null,
      "grid_auto_rows": null,
      "grid_column": null,
      "grid_gap": null,
      "grid_row": null,
      "grid_template_areas": null,
      "grid_template_columns": null,
      "grid_template_rows": null,
      "height": null,
      "justify_content": null,
      "justify_items": null,
      "left": null,
      "margin": null,
      "max_height": null,
      "max_width": null,
      "min_height": null,
      "min_width": null,
      "object_fit": null,
      "object_position": null,
      "order": null,
      "overflow": null,
      "overflow_x": null,
      "overflow_y": null,
      "padding": null,
      "right": null,
      "top": null,
      "visibility": null,
      "width": null
     }
    },
    "8057111c2d0d4f04885001dc077b36c3": {
     "model_module": "@jupyter-widgets/base",
     "model_module_version": "1.2.0",
     "model_name": "LayoutModel",
     "state": {
      "_model_module": "@jupyter-widgets/base",
      "_model_module_version": "1.2.0",
      "_model_name": "LayoutModel",
      "_view_count": null,
      "_view_module": "@jupyter-widgets/base",
      "_view_module_version": "1.2.0",
      "_view_name": "LayoutView",
      "align_content": null,
      "align_items": null,
      "align_self": null,
      "border": null,
      "bottom": null,
      "display": null,
      "flex": null,
      "flex_flow": null,
      "grid_area": null,
      "grid_auto_columns": null,
      "grid_auto_flow": null,
      "grid_auto_rows": null,
      "grid_column": null,
      "grid_gap": null,
      "grid_row": null,
      "grid_template_areas": null,
      "grid_template_columns": null,
      "grid_template_rows": null,
      "height": null,
      "justify_content": null,
      "justify_items": null,
      "left": null,
      "margin": null,
      "max_height": null,
      "max_width": null,
      "min_height": null,
      "min_width": null,
      "object_fit": null,
      "object_position": null,
      "order": null,
      "overflow": null,
      "overflow_x": null,
      "overflow_y": null,
      "padding": null,
      "right": null,
      "top": null,
      "visibility": null,
      "width": null
     }
    },
    "81f786fa6c6447d9b201fc369c357302": {
     "model_module": "@jupyter-widgets/controls",
     "model_module_version": "1.5.0",
     "model_name": "ProgressStyleModel",
     "state": {
      "_model_module": "@jupyter-widgets/controls",
      "_model_module_version": "1.5.0",
      "_model_name": "ProgressStyleModel",
      "_view_count": null,
      "_view_module": "@jupyter-widgets/base",
      "_view_module_version": "1.2.0",
      "_view_name": "StyleView",
      "bar_color": null,
      "description_width": ""
     }
    },
    "8263e1b41bee42f4902cdf685754795f": {
     "model_module": "@jupyter-widgets/base",
     "model_module_version": "1.2.0",
     "model_name": "LayoutModel",
     "state": {
      "_model_module": "@jupyter-widgets/base",
      "_model_module_version": "1.2.0",
      "_model_name": "LayoutModel",
      "_view_count": null,
      "_view_module": "@jupyter-widgets/base",
      "_view_module_version": "1.2.0",
      "_view_name": "LayoutView",
      "align_content": null,
      "align_items": null,
      "align_self": null,
      "border": null,
      "bottom": null,
      "display": null,
      "flex": null,
      "flex_flow": null,
      "grid_area": null,
      "grid_auto_columns": null,
      "grid_auto_flow": null,
      "grid_auto_rows": null,
      "grid_column": null,
      "grid_gap": null,
      "grid_row": null,
      "grid_template_areas": null,
      "grid_template_columns": null,
      "grid_template_rows": null,
      "height": null,
      "justify_content": null,
      "justify_items": null,
      "left": null,
      "margin": null,
      "max_height": null,
      "max_width": null,
      "min_height": null,
      "min_width": null,
      "object_fit": null,
      "object_position": null,
      "order": null,
      "overflow": null,
      "overflow_x": null,
      "overflow_y": null,
      "padding": null,
      "right": null,
      "top": null,
      "visibility": null,
      "width": null
     }
    },
    "826d3705f1234aada4a3e5699d849504": {
     "model_module": "@jupyter-widgets/base",
     "model_module_version": "1.2.0",
     "model_name": "LayoutModel",
     "state": {
      "_model_module": "@jupyter-widgets/base",
      "_model_module_version": "1.2.0",
      "_model_name": "LayoutModel",
      "_view_count": null,
      "_view_module": "@jupyter-widgets/base",
      "_view_module_version": "1.2.0",
      "_view_name": "LayoutView",
      "align_content": null,
      "align_items": null,
      "align_self": null,
      "border": null,
      "bottom": null,
      "display": null,
      "flex": null,
      "flex_flow": null,
      "grid_area": null,
      "grid_auto_columns": null,
      "grid_auto_flow": null,
      "grid_auto_rows": null,
      "grid_column": null,
      "grid_gap": null,
      "grid_row": null,
      "grid_template_areas": null,
      "grid_template_columns": null,
      "grid_template_rows": null,
      "height": null,
      "justify_content": null,
      "justify_items": null,
      "left": null,
      "margin": null,
      "max_height": null,
      "max_width": null,
      "min_height": null,
      "min_width": null,
      "object_fit": null,
      "object_position": null,
      "order": null,
      "overflow": null,
      "overflow_x": null,
      "overflow_y": null,
      "padding": null,
      "right": null,
      "top": null,
      "visibility": null,
      "width": null
     }
    },
    "827978524816491a9e447a2c8a77fb77": {
     "model_module": "@jupyter-widgets/controls",
     "model_module_version": "1.5.0",
     "model_name": "FloatProgressModel",
     "state": {
      "_dom_classes": [],
      "_model_module": "@jupyter-widgets/controls",
      "_model_module_version": "1.5.0",
      "_model_name": "FloatProgressModel",
      "_view_count": null,
      "_view_module": "@jupyter-widgets/controls",
      "_view_module_version": "1.5.0",
      "_view_name": "ProgressView",
      "bar_style": "success",
      "description": "",
      "description_tooltip": null,
      "layout": "IPY_MODEL_4df39dcf1461427fabf0db2585e0eab6",
      "max": 88,
      "min": 0,
      "orientation": "horizontal",
      "style": "IPY_MODEL_e24fc15730744c96b38d2bc8b5fbeced",
      "value": 88
     }
    },
    "82c7bba18b5743bd8e69f9f6bfa10fb2": {
     "model_module": "@jupyter-widgets/base",
     "model_module_version": "1.2.0",
     "model_name": "LayoutModel",
     "state": {
      "_model_module": "@jupyter-widgets/base",
      "_model_module_version": "1.2.0",
      "_model_name": "LayoutModel",
      "_view_count": null,
      "_view_module": "@jupyter-widgets/base",
      "_view_module_version": "1.2.0",
      "_view_name": "LayoutView",
      "align_content": null,
      "align_items": null,
      "align_self": null,
      "border": null,
      "bottom": null,
      "display": null,
      "flex": null,
      "flex_flow": null,
      "grid_area": null,
      "grid_auto_columns": null,
      "grid_auto_flow": null,
      "grid_auto_rows": null,
      "grid_column": null,
      "grid_gap": null,
      "grid_row": null,
      "grid_template_areas": null,
      "grid_template_columns": null,
      "grid_template_rows": null,
      "height": null,
      "justify_content": null,
      "justify_items": null,
      "left": null,
      "margin": null,
      "max_height": null,
      "max_width": null,
      "min_height": null,
      "min_width": null,
      "object_fit": null,
      "object_position": null,
      "order": null,
      "overflow": null,
      "overflow_x": null,
      "overflow_y": null,
      "padding": null,
      "right": null,
      "top": null,
      "visibility": null,
      "width": null
     }
    },
    "82d55e13d50f42d7921fd2f96698e942": {
     "model_module": "@jupyter-widgets/base",
     "model_module_version": "1.2.0",
     "model_name": "LayoutModel",
     "state": {
      "_model_module": "@jupyter-widgets/base",
      "_model_module_version": "1.2.0",
      "_model_name": "LayoutModel",
      "_view_count": null,
      "_view_module": "@jupyter-widgets/base",
      "_view_module_version": "1.2.0",
      "_view_name": "LayoutView",
      "align_content": null,
      "align_items": null,
      "align_self": null,
      "border": null,
      "bottom": null,
      "display": null,
      "flex": null,
      "flex_flow": null,
      "grid_area": null,
      "grid_auto_columns": null,
      "grid_auto_flow": null,
      "grid_auto_rows": null,
      "grid_column": null,
      "grid_gap": null,
      "grid_row": null,
      "grid_template_areas": null,
      "grid_template_columns": null,
      "grid_template_rows": null,
      "height": null,
      "justify_content": null,
      "justify_items": null,
      "left": null,
      "margin": null,
      "max_height": null,
      "max_width": null,
      "min_height": null,
      "min_width": null,
      "object_fit": null,
      "object_position": null,
      "order": null,
      "overflow": null,
      "overflow_x": null,
      "overflow_y": null,
      "padding": null,
      "right": null,
      "top": null,
      "visibility": null,
      "width": null
     }
    },
    "83694e35e3d04575ad93276f47f13958": {
     "model_module": "@jupyter-widgets/base",
     "model_module_version": "1.2.0",
     "model_name": "LayoutModel",
     "state": {
      "_model_module": "@jupyter-widgets/base",
      "_model_module_version": "1.2.0",
      "_model_name": "LayoutModel",
      "_view_count": null,
      "_view_module": "@jupyter-widgets/base",
      "_view_module_version": "1.2.0",
      "_view_name": "LayoutView",
      "align_content": null,
      "align_items": null,
      "align_self": null,
      "border": null,
      "bottom": null,
      "display": null,
      "flex": null,
      "flex_flow": null,
      "grid_area": null,
      "grid_auto_columns": null,
      "grid_auto_flow": null,
      "grid_auto_rows": null,
      "grid_column": null,
      "grid_gap": null,
      "grid_row": null,
      "grid_template_areas": null,
      "grid_template_columns": null,
      "grid_template_rows": null,
      "height": null,
      "justify_content": null,
      "justify_items": null,
      "left": null,
      "margin": null,
      "max_height": null,
      "max_width": null,
      "min_height": null,
      "min_width": null,
      "object_fit": null,
      "object_position": null,
      "order": null,
      "overflow": null,
      "overflow_x": null,
      "overflow_y": null,
      "padding": null,
      "right": null,
      "top": null,
      "visibility": null,
      "width": null
     }
    },
    "83d96adb347c4d72a2d6566c25b99e5d": {
     "model_module": "@jupyter-widgets/controls",
     "model_module_version": "1.5.0",
     "model_name": "DescriptionStyleModel",
     "state": {
      "_model_module": "@jupyter-widgets/controls",
      "_model_module_version": "1.5.0",
      "_model_name": "DescriptionStyleModel",
      "_view_count": null,
      "_view_module": "@jupyter-widgets/base",
      "_view_module_version": "1.2.0",
      "_view_name": "StyleView",
      "description_width": ""
     }
    },
    "84954a59b7de461b8b56bc9044e9803b": {
     "model_module": "@jupyter-widgets/controls",
     "model_module_version": "1.5.0",
     "model_name": "DescriptionStyleModel",
     "state": {
      "_model_module": "@jupyter-widgets/controls",
      "_model_module_version": "1.5.0",
      "_model_name": "DescriptionStyleModel",
      "_view_count": null,
      "_view_module": "@jupyter-widgets/base",
      "_view_module_version": "1.2.0",
      "_view_name": "StyleView",
      "description_width": ""
     }
    },
    "85551fc4ac7942ba9aa00143716d0ea5": {
     "model_module": "@jupyter-widgets/base",
     "model_module_version": "1.2.0",
     "model_name": "LayoutModel",
     "state": {
      "_model_module": "@jupyter-widgets/base",
      "_model_module_version": "1.2.0",
      "_model_name": "LayoutModel",
      "_view_count": null,
      "_view_module": "@jupyter-widgets/base",
      "_view_module_version": "1.2.0",
      "_view_name": "LayoutView",
      "align_content": null,
      "align_items": null,
      "align_self": null,
      "border": null,
      "bottom": null,
      "display": null,
      "flex": null,
      "flex_flow": null,
      "grid_area": null,
      "grid_auto_columns": null,
      "grid_auto_flow": null,
      "grid_auto_rows": null,
      "grid_column": null,
      "grid_gap": null,
      "grid_row": null,
      "grid_template_areas": null,
      "grid_template_columns": null,
      "grid_template_rows": null,
      "height": null,
      "justify_content": null,
      "justify_items": null,
      "left": null,
      "margin": null,
      "max_height": null,
      "max_width": null,
      "min_height": null,
      "min_width": null,
      "object_fit": null,
      "object_position": null,
      "order": null,
      "overflow": null,
      "overflow_x": null,
      "overflow_y": null,
      "padding": null,
      "right": null,
      "top": null,
      "visibility": null,
      "width": null
     }
    },
    "85a61e411eb54ec4823aa2005f8bade7": {
     "model_module": "@jupyter-widgets/base",
     "model_module_version": "1.2.0",
     "model_name": "LayoutModel",
     "state": {
      "_model_module": "@jupyter-widgets/base",
      "_model_module_version": "1.2.0",
      "_model_name": "LayoutModel",
      "_view_count": null,
      "_view_module": "@jupyter-widgets/base",
      "_view_module_version": "1.2.0",
      "_view_name": "LayoutView",
      "align_content": null,
      "align_items": null,
      "align_self": null,
      "border": null,
      "bottom": null,
      "display": null,
      "flex": null,
      "flex_flow": null,
      "grid_area": null,
      "grid_auto_columns": null,
      "grid_auto_flow": null,
      "grid_auto_rows": null,
      "grid_column": null,
      "grid_gap": null,
      "grid_row": null,
      "grid_template_areas": null,
      "grid_template_columns": null,
      "grid_template_rows": null,
      "height": null,
      "justify_content": null,
      "justify_items": null,
      "left": null,
      "margin": null,
      "max_height": null,
      "max_width": null,
      "min_height": null,
      "min_width": null,
      "object_fit": null,
      "object_position": null,
      "order": null,
      "overflow": null,
      "overflow_x": null,
      "overflow_y": null,
      "padding": null,
      "right": null,
      "top": null,
      "visibility": null,
      "width": null
     }
    },
    "8699f756ccc242f0bbec98dd9c2abe25": {
     "model_module": "@jupyter-widgets/controls",
     "model_module_version": "1.5.0",
     "model_name": "FloatProgressModel",
     "state": {
      "_dom_classes": [],
      "_model_module": "@jupyter-widgets/controls",
      "_model_module_version": "1.5.0",
      "_model_name": "FloatProgressModel",
      "_view_count": null,
      "_view_module": "@jupyter-widgets/controls",
      "_view_module_version": "1.5.0",
      "_view_name": "ProgressView",
      "bar_style": "success",
      "description": "",
      "description_tooltip": null,
      "layout": "IPY_MODEL_34a07ad8763041c184b4fa7cd298f3b6",
      "max": 88,
      "min": 0,
      "orientation": "horizontal",
      "style": "IPY_MODEL_c929aadd4d544366bb58b370ddfbbff1",
      "value": 88
     }
    },
    "883866a1f0884eb69a0fc9d078e6b1aa": {
     "model_module": "@jupyter-widgets/base",
     "model_module_version": "1.2.0",
     "model_name": "LayoutModel",
     "state": {
      "_model_module": "@jupyter-widgets/base",
      "_model_module_version": "1.2.0",
      "_model_name": "LayoutModel",
      "_view_count": null,
      "_view_module": "@jupyter-widgets/base",
      "_view_module_version": "1.2.0",
      "_view_name": "LayoutView",
      "align_content": null,
      "align_items": null,
      "align_self": null,
      "border": null,
      "bottom": null,
      "display": null,
      "flex": null,
      "flex_flow": null,
      "grid_area": null,
      "grid_auto_columns": null,
      "grid_auto_flow": null,
      "grid_auto_rows": null,
      "grid_column": null,
      "grid_gap": null,
      "grid_row": null,
      "grid_template_areas": null,
      "grid_template_columns": null,
      "grid_template_rows": null,
      "height": null,
      "justify_content": null,
      "justify_items": null,
      "left": null,
      "margin": null,
      "max_height": null,
      "max_width": null,
      "min_height": null,
      "min_width": null,
      "object_fit": null,
      "object_position": null,
      "order": null,
      "overflow": null,
      "overflow_x": null,
      "overflow_y": null,
      "padding": null,
      "right": null,
      "top": null,
      "visibility": null,
      "width": null
     }
    },
    "88974d3696734019866f0167830f2c9c": {
     "model_module": "@jupyter-widgets/controls",
     "model_module_version": "1.5.0",
     "model_name": "HTMLModel",
     "state": {
      "_dom_classes": [],
      "_model_module": "@jupyter-widgets/controls",
      "_model_module_version": "1.5.0",
      "_model_name": "HTMLModel",
      "_view_count": null,
      "_view_module": "@jupyter-widgets/controls",
      "_view_module_version": "1.5.0",
      "_view_name": "HTMLView",
      "description": "",
      "description_tooltip": null,
      "layout": "IPY_MODEL_3a652e13d837451586f7debfd785692c",
      "placeholder": "​",
      "style": "IPY_MODEL_e2d0f978cbf9483fb5ea272ebd9cf4d7",
      "value": " 88/88 [00:38&lt;00:00,  2.82it/s]"
     }
    },
    "88d1bcbd4bcf45928a84a1783b6def75": {
     "model_module": "@jupyter-widgets/controls",
     "model_module_version": "1.5.0",
     "model_name": "HBoxModel",
     "state": {
      "_dom_classes": [],
      "_model_module": "@jupyter-widgets/controls",
      "_model_module_version": "1.5.0",
      "_model_name": "HBoxModel",
      "_view_count": null,
      "_view_module": "@jupyter-widgets/controls",
      "_view_module_version": "1.5.0",
      "_view_name": "HBoxView",
      "box_style": "",
      "children": [
       "IPY_MODEL_0a401753aa4045ca8643605267258a6a",
       "IPY_MODEL_827978524816491a9e447a2c8a77fb77",
       "IPY_MODEL_a0a66e0a3a6648cdab8caa8ad37d15fa"
      ],
      "layout": "IPY_MODEL_f4f072b203134a70a51d7969657844c8"
     }
    },
    "8994968834ca46bb8ef8910c58e2cfb9": {
     "model_module": "@jupyter-widgets/controls",
     "model_module_version": "1.5.0",
     "model_name": "DescriptionStyleModel",
     "state": {
      "_model_module": "@jupyter-widgets/controls",
      "_model_module_version": "1.5.0",
      "_model_name": "DescriptionStyleModel",
      "_view_count": null,
      "_view_module": "@jupyter-widgets/base",
      "_view_module_version": "1.2.0",
      "_view_name": "StyleView",
      "description_width": ""
     }
    },
    "8e38b99dd9b4438e8c64bd8d34871688": {
     "model_module": "@jupyter-widgets/base",
     "model_module_version": "1.2.0",
     "model_name": "LayoutModel",
     "state": {
      "_model_module": "@jupyter-widgets/base",
      "_model_module_version": "1.2.0",
      "_model_name": "LayoutModel",
      "_view_count": null,
      "_view_module": "@jupyter-widgets/base",
      "_view_module_version": "1.2.0",
      "_view_name": "LayoutView",
      "align_content": null,
      "align_items": null,
      "align_self": null,
      "border": null,
      "bottom": null,
      "display": null,
      "flex": null,
      "flex_flow": null,
      "grid_area": null,
      "grid_auto_columns": null,
      "grid_auto_flow": null,
      "grid_auto_rows": null,
      "grid_column": null,
      "grid_gap": null,
      "grid_row": null,
      "grid_template_areas": null,
      "grid_template_columns": null,
      "grid_template_rows": null,
      "height": null,
      "justify_content": null,
      "justify_items": null,
      "left": null,
      "margin": null,
      "max_height": null,
      "max_width": null,
      "min_height": null,
      "min_width": null,
      "object_fit": null,
      "object_position": null,
      "order": null,
      "overflow": null,
      "overflow_x": null,
      "overflow_y": null,
      "padding": null,
      "right": null,
      "top": null,
      "visibility": null,
      "width": null
     }
    },
    "8e41d49373e144eab8cf6966a7dd30cf": {
     "model_module": "@jupyter-widgets/controls",
     "model_module_version": "1.5.0",
     "model_name": "HTMLModel",
     "state": {
      "_dom_classes": [],
      "_model_module": "@jupyter-widgets/controls",
      "_model_module_version": "1.5.0",
      "_model_name": "HTMLModel",
      "_view_count": null,
      "_view_module": "@jupyter-widgets/controls",
      "_view_module_version": "1.5.0",
      "_view_name": "HTMLView",
      "description": "",
      "description_tooltip": null,
      "layout": "IPY_MODEL_faa8bcfdcb2d481eb5e63fc73e0a8824",
      "placeholder": "​",
      "style": "IPY_MODEL_31e29995125d4d60b080822878ed846a",
      "value": "Epochs 2/12. Running Loss:    2.0338: 100%"
     }
    },
    "90991b9013d3467295ede722c39ff96e": {
     "model_module": "@jupyter-widgets/base",
     "model_module_version": "1.2.0",
     "model_name": "LayoutModel",
     "state": {
      "_model_module": "@jupyter-widgets/base",
      "_model_module_version": "1.2.0",
      "_model_name": "LayoutModel",
      "_view_count": null,
      "_view_module": "@jupyter-widgets/base",
      "_view_module_version": "1.2.0",
      "_view_name": "LayoutView",
      "align_content": null,
      "align_items": null,
      "align_self": null,
      "border": null,
      "bottom": null,
      "display": null,
      "flex": null,
      "flex_flow": null,
      "grid_area": null,
      "grid_auto_columns": null,
      "grid_auto_flow": null,
      "grid_auto_rows": null,
      "grid_column": null,
      "grid_gap": null,
      "grid_row": null,
      "grid_template_areas": null,
      "grid_template_columns": null,
      "grid_template_rows": null,
      "height": null,
      "justify_content": null,
      "justify_items": null,
      "left": null,
      "margin": null,
      "max_height": null,
      "max_width": null,
      "min_height": null,
      "min_width": null,
      "object_fit": null,
      "object_position": null,
      "order": null,
      "overflow": null,
      "overflow_x": null,
      "overflow_y": null,
      "padding": null,
      "right": null,
      "top": null,
      "visibility": null,
      "width": null
     }
    },
    "90be0db76b054633a79cba7d614d1565": {
     "model_module": "@jupyter-widgets/controls",
     "model_module_version": "1.5.0",
     "model_name": "HBoxModel",
     "state": {
      "_dom_classes": [],
      "_model_module": "@jupyter-widgets/controls",
      "_model_module_version": "1.5.0",
      "_model_name": "HBoxModel",
      "_view_count": null,
      "_view_module": "@jupyter-widgets/controls",
      "_view_module_version": "1.5.0",
      "_view_name": "HBoxView",
      "box_style": "",
      "children": [
       "IPY_MODEL_966af797282b436ea23b690e372a845a",
       "IPY_MODEL_3d0e2ee516cd46dfb47feb12f5927e3c",
       "IPY_MODEL_6a06f52593a043f5b2fbcef8efb2484d"
      ],
      "layout": "IPY_MODEL_72f925218bd04460857ecc31a9839a01"
     }
    },
    "90e43d5b251c4aa8880c3b9aeb0054bc": {
     "model_module": "@jupyter-widgets/controls",
     "model_module_version": "1.5.0",
     "model_name": "FloatProgressModel",
     "state": {
      "_dom_classes": [],
      "_model_module": "@jupyter-widgets/controls",
      "_model_module_version": "1.5.0",
      "_model_name": "FloatProgressModel",
      "_view_count": null,
      "_view_module": "@jupyter-widgets/controls",
      "_view_module_version": "1.5.0",
      "_view_name": "ProgressView",
      "bar_style": "success",
      "description": "",
      "description_tooltip": null,
      "layout": "IPY_MODEL_b592b773bbf947a2ab47014405a1eb1f",
      "max": 654,
      "min": 0,
      "orientation": "horizontal",
      "style": "IPY_MODEL_94775987ecc34f258a5f128197e11935",
      "value": 654
     }
    },
    "91f14e55ff7e4be3b40d9effee16c433": {
     "model_module": "@jupyter-widgets/base",
     "model_module_version": "1.2.0",
     "model_name": "LayoutModel",
     "state": {
      "_model_module": "@jupyter-widgets/base",
      "_model_module_version": "1.2.0",
      "_model_name": "LayoutModel",
      "_view_count": null,
      "_view_module": "@jupyter-widgets/base",
      "_view_module_version": "1.2.0",
      "_view_name": "LayoutView",
      "align_content": null,
      "align_items": null,
      "align_self": null,
      "border": null,
      "bottom": null,
      "display": null,
      "flex": null,
      "flex_flow": null,
      "grid_area": null,
      "grid_auto_columns": null,
      "grid_auto_flow": null,
      "grid_auto_rows": null,
      "grid_column": null,
      "grid_gap": null,
      "grid_row": null,
      "grid_template_areas": null,
      "grid_template_columns": null,
      "grid_template_rows": null,
      "height": null,
      "justify_content": null,
      "justify_items": null,
      "left": null,
      "margin": null,
      "max_height": null,
      "max_width": null,
      "min_height": null,
      "min_width": null,
      "object_fit": null,
      "object_position": null,
      "order": null,
      "overflow": null,
      "overflow_x": null,
      "overflow_y": null,
      "padding": null,
      "right": null,
      "top": null,
      "visibility": null,
      "width": null
     }
    },
    "939449cb321349e3ad254374ca6f190b": {
     "model_module": "@jupyter-widgets/base",
     "model_module_version": "1.2.0",
     "model_name": "LayoutModel",
     "state": {
      "_model_module": "@jupyter-widgets/base",
      "_model_module_version": "1.2.0",
      "_model_name": "LayoutModel",
      "_view_count": null,
      "_view_module": "@jupyter-widgets/base",
      "_view_module_version": "1.2.0",
      "_view_name": "LayoutView",
      "align_content": null,
      "align_items": null,
      "align_self": null,
      "border": null,
      "bottom": null,
      "display": null,
      "flex": null,
      "flex_flow": null,
      "grid_area": null,
      "grid_auto_columns": null,
      "grid_auto_flow": null,
      "grid_auto_rows": null,
      "grid_column": null,
      "grid_gap": null,
      "grid_row": null,
      "grid_template_areas": null,
      "grid_template_columns": null,
      "grid_template_rows": null,
      "height": null,
      "justify_content": null,
      "justify_items": null,
      "left": null,
      "margin": null,
      "max_height": null,
      "max_width": null,
      "min_height": null,
      "min_width": null,
      "object_fit": null,
      "object_position": null,
      "order": null,
      "overflow": null,
      "overflow_x": null,
      "overflow_y": null,
      "padding": null,
      "right": null,
      "top": null,
      "visibility": null,
      "width": null
     }
    },
    "93a4b4df5c854a28af4d70a82886e977": {
     "model_module": "@jupyter-widgets/controls",
     "model_module_version": "1.5.0",
     "model_name": "DescriptionStyleModel",
     "state": {
      "_model_module": "@jupyter-widgets/controls",
      "_model_module_version": "1.5.0",
      "_model_name": "DescriptionStyleModel",
      "_view_count": null,
      "_view_module": "@jupyter-widgets/base",
      "_view_module_version": "1.2.0",
      "_view_name": "StyleView",
      "description_width": ""
     }
    },
    "9476ae28614a47f5a739b5fc8e50e177": {
     "model_module": "@jupyter-widgets/controls",
     "model_module_version": "1.5.0",
     "model_name": "ProgressStyleModel",
     "state": {
      "_model_module": "@jupyter-widgets/controls",
      "_model_module_version": "1.5.0",
      "_model_name": "ProgressStyleModel",
      "_view_count": null,
      "_view_module": "@jupyter-widgets/base",
      "_view_module_version": "1.2.0",
      "_view_name": "StyleView",
      "bar_color": null,
      "description_width": ""
     }
    },
    "94775987ecc34f258a5f128197e11935": {
     "model_module": "@jupyter-widgets/controls",
     "model_module_version": "1.5.0",
     "model_name": "ProgressStyleModel",
     "state": {
      "_model_module": "@jupyter-widgets/controls",
      "_model_module_version": "1.5.0",
      "_model_name": "ProgressStyleModel",
      "_view_count": null,
      "_view_module": "@jupyter-widgets/base",
      "_view_module_version": "1.2.0",
      "_view_name": "StyleView",
      "bar_color": null,
      "description_width": ""
     }
    },
    "9487d7d3852c431c94300d09c676ef99": {
     "model_module": "@jupyter-widgets/controls",
     "model_module_version": "1.5.0",
     "model_name": "DescriptionStyleModel",
     "state": {
      "_model_module": "@jupyter-widgets/controls",
      "_model_module_version": "1.5.0",
      "_model_name": "DescriptionStyleModel",
      "_view_count": null,
      "_view_module": "@jupyter-widgets/base",
      "_view_module_version": "1.2.0",
      "_view_name": "StyleView",
      "description_width": ""
     }
    },
    "95eb8eaf48bf440680287c8c3f8952e6": {
     "model_module": "@jupyter-widgets/controls",
     "model_module_version": "1.5.0",
     "model_name": "HTMLModel",
     "state": {
      "_dom_classes": [],
      "_model_module": "@jupyter-widgets/controls",
      "_model_module_version": "1.5.0",
      "_model_name": "HTMLModel",
      "_view_count": null,
      "_view_module": "@jupyter-widgets/controls",
      "_view_module_version": "1.5.0",
      "_view_name": "HTMLView",
      "description": "",
      "description_tooltip": null,
      "layout": "IPY_MODEL_85a61e411eb54ec4823aa2005f8bade7",
      "placeholder": "​",
      "style": "IPY_MODEL_a2e7ee77469d4cc0ba0c58920e9bfdb6",
      "value": "100%"
     }
    },
    "96448b2fd5324d7e85d266099d95d32c": {
     "model_module": "@jupyter-widgets/controls",
     "model_module_version": "1.5.0",
     "model_name": "HTMLModel",
     "state": {
      "_dom_classes": [],
      "_model_module": "@jupyter-widgets/controls",
      "_model_module_version": "1.5.0",
      "_model_name": "HTMLModel",
      "_view_count": null,
      "_view_module": "@jupyter-widgets/controls",
      "_view_module_version": "1.5.0",
      "_view_name": "HTMLView",
      "description": "",
      "description_tooltip": null,
      "layout": "IPY_MODEL_1be915d5c22c461291db2cb3723b76b8",
      "placeholder": "​",
      "style": "IPY_MODEL_b56b6df6483d4972ae9e0beda5d3e911",
      "value": "Epochs 6/12. Running Loss:    1.5662: 100%"
     }
    },
    "966af797282b436ea23b690e372a845a": {
     "model_module": "@jupyter-widgets/controls",
     "model_module_version": "1.5.0",
     "model_name": "HTMLModel",
     "state": {
      "_dom_classes": [],
      "_model_module": "@jupyter-widgets/controls",
      "_model_module_version": "1.5.0",
      "_model_name": "HTMLModel",
      "_view_count": null,
      "_view_module": "@jupyter-widgets/controls",
      "_view_module_version": "1.5.0",
      "_view_name": "HTMLView",
      "description": "",
      "description_tooltip": null,
      "layout": "IPY_MODEL_f950b74132374fe18924aec3de21b6b8",
      "placeholder": "​",
      "style": "IPY_MODEL_096a58e5af7f442d90857ab402cf3ce3",
      "value": "100%"
     }
    },
    "96974f5b9e0e437d9e28d01b1f80d18f": {
     "model_module": "@jupyter-widgets/base",
     "model_module_version": "1.2.0",
     "model_name": "LayoutModel",
     "state": {
      "_model_module": "@jupyter-widgets/base",
      "_model_module_version": "1.2.0",
      "_model_name": "LayoutModel",
      "_view_count": null,
      "_view_module": "@jupyter-widgets/base",
      "_view_module_version": "1.2.0",
      "_view_name": "LayoutView",
      "align_content": null,
      "align_items": null,
      "align_self": null,
      "border": null,
      "bottom": null,
      "display": null,
      "flex": null,
      "flex_flow": null,
      "grid_area": null,
      "grid_auto_columns": null,
      "grid_auto_flow": null,
      "grid_auto_rows": null,
      "grid_column": null,
      "grid_gap": null,
      "grid_row": null,
      "grid_template_areas": null,
      "grid_template_columns": null,
      "grid_template_rows": null,
      "height": null,
      "justify_content": null,
      "justify_items": null,
      "left": null,
      "margin": null,
      "max_height": null,
      "max_width": null,
      "min_height": null,
      "min_width": null,
      "object_fit": null,
      "object_position": null,
      "order": null,
      "overflow": null,
      "overflow_x": null,
      "overflow_y": null,
      "padding": null,
      "right": null,
      "top": null,
      "visibility": null,
      "width": null
     }
    },
    "982ce11f569e459f955f3bbd4ea31c42": {
     "model_module": "@jupyter-widgets/base",
     "model_module_version": "1.2.0",
     "model_name": "LayoutModel",
     "state": {
      "_model_module": "@jupyter-widgets/base",
      "_model_module_version": "1.2.0",
      "_model_name": "LayoutModel",
      "_view_count": null,
      "_view_module": "@jupyter-widgets/base",
      "_view_module_version": "1.2.0",
      "_view_name": "LayoutView",
      "align_content": null,
      "align_items": null,
      "align_self": null,
      "border": null,
      "bottom": null,
      "display": null,
      "flex": null,
      "flex_flow": null,
      "grid_area": null,
      "grid_auto_columns": null,
      "grid_auto_flow": null,
      "grid_auto_rows": null,
      "grid_column": null,
      "grid_gap": null,
      "grid_row": null,
      "grid_template_areas": null,
      "grid_template_columns": null,
      "grid_template_rows": null,
      "height": null,
      "justify_content": null,
      "justify_items": null,
      "left": null,
      "margin": null,
      "max_height": null,
      "max_width": null,
      "min_height": null,
      "min_width": null,
      "object_fit": null,
      "object_position": null,
      "order": null,
      "overflow": null,
      "overflow_x": null,
      "overflow_y": null,
      "padding": null,
      "right": null,
      "top": null,
      "visibility": null,
      "width": null
     }
    },
    "9901de442903430088a1e96650f38842": {
     "model_module": "@jupyter-widgets/controls",
     "model_module_version": "1.5.0",
     "model_name": "HTMLModel",
     "state": {
      "_dom_classes": [],
      "_model_module": "@jupyter-widgets/controls",
      "_model_module_version": "1.5.0",
      "_model_name": "HTMLModel",
      "_view_count": null,
      "_view_module": "@jupyter-widgets/controls",
      "_view_module_version": "1.5.0",
      "_view_name": "HTMLView",
      "description": "",
      "description_tooltip": null,
      "layout": "IPY_MODEL_1c9d29fb797e435b824347059310d820",
      "placeholder": "​",
      "style": "IPY_MODEL_3c96009a0746451dad92f6afce23cf7d",
      "value": "100%"
     }
    },
    "9b2cda7eb4d84dd7b35ff49f15cfa391": {
     "model_module": "@jupyter-widgets/controls",
     "model_module_version": "1.5.0",
     "model_name": "ProgressStyleModel",
     "state": {
      "_model_module": "@jupyter-widgets/controls",
      "_model_module_version": "1.5.0",
      "_model_name": "ProgressStyleModel",
      "_view_count": null,
      "_view_module": "@jupyter-widgets/base",
      "_view_module_version": "1.2.0",
      "_view_name": "StyleView",
      "bar_color": null,
      "description_width": ""
     }
    },
    "9b90552319e945979d542cbd34fdfde9": {
     "model_module": "@jupyter-widgets/controls",
     "model_module_version": "1.5.0",
     "model_name": "VBoxModel",
     "state": {
      "_dom_classes": [],
      "_model_module": "@jupyter-widgets/controls",
      "_model_module_version": "1.5.0",
      "_model_name": "VBoxModel",
      "_view_count": null,
      "_view_module": "@jupyter-widgets/controls",
      "_view_module_version": "1.5.0",
      "_view_name": "VBoxView",
      "box_style": "",
      "children": [
       "IPY_MODEL_d83d397a128a44a7aa868018f0bc02d2",
       "IPY_MODEL_6e653b610d824871bbcd1e1fbae614fb"
      ],
      "layout": "IPY_MODEL_b2513b0ef70e4137bb0e8ef536eced5c"
     }
    },
    "9d6bacb8b14c4a968c5a6ca1eee159f0": {
     "model_module": "@jupyter-widgets/controls",
     "model_module_version": "1.5.0",
     "model_name": "FloatProgressModel",
     "state": {
      "_dom_classes": [],
      "_model_module": "@jupyter-widgets/controls",
      "_model_module_version": "1.5.0",
      "_model_name": "FloatProgressModel",
      "_view_count": null,
      "_view_module": "@jupyter-widgets/controls",
      "_view_module_version": "1.5.0",
      "_view_name": "ProgressView",
      "bar_style": "success",
      "description": "",
      "description_tooltip": null,
      "layout": "IPY_MODEL_d3237388f67c4bb6b9fa1cdf93bb9f7d",
      "max": 88,
      "min": 0,
      "orientation": "horizontal",
      "style": "IPY_MODEL_ae23cd63fb6c47d99388bbe7194aa5ee",
      "value": 88
     }
    },
    "9fa5b3031a9d414fa00930519ac5a6b7": {
     "model_module": "@jupyter-widgets/controls",
     "model_module_version": "1.5.0",
     "model_name": "ProgressStyleModel",
     "state": {
      "_model_module": "@jupyter-widgets/controls",
      "_model_module_version": "1.5.0",
      "_model_name": "ProgressStyleModel",
      "_view_count": null,
      "_view_module": "@jupyter-widgets/base",
      "_view_module_version": "1.2.0",
      "_view_name": "StyleView",
      "bar_color": null,
      "description_width": ""
     }
    },
    "a00ded9dc27142e7a9cd850aaea91cb3": {
     "model_module": "@jupyter-widgets/controls",
     "model_module_version": "1.5.0",
     "model_name": "ProgressStyleModel",
     "state": {
      "_model_module": "@jupyter-widgets/controls",
      "_model_module_version": "1.5.0",
      "_model_name": "ProgressStyleModel",
      "_view_count": null,
      "_view_module": "@jupyter-widgets/base",
      "_view_module_version": "1.2.0",
      "_view_name": "StyleView",
      "bar_color": null,
      "description_width": ""
     }
    },
    "a0a66e0a3a6648cdab8caa8ad37d15fa": {
     "model_module": "@jupyter-widgets/controls",
     "model_module_version": "1.5.0",
     "model_name": "HTMLModel",
     "state": {
      "_dom_classes": [],
      "_model_module": "@jupyter-widgets/controls",
      "_model_module_version": "1.5.0",
      "_model_name": "HTMLModel",
      "_view_count": null,
      "_view_module": "@jupyter-widgets/controls",
      "_view_module_version": "1.5.0",
      "_view_name": "HTMLView",
      "description": "",
      "description_tooltip": null,
      "layout": "IPY_MODEL_4e94e21a183d491c8ff2f710c52b0217",
      "placeholder": "​",
      "style": "IPY_MODEL_fd345de0c536427e83aafcc7d9edf5fd",
      "value": " 88/88 [00:39&lt;00:00,  2.81it/s]"
     }
    },
    "a2e7ee77469d4cc0ba0c58920e9bfdb6": {
     "model_module": "@jupyter-widgets/controls",
     "model_module_version": "1.5.0",
     "model_name": "DescriptionStyleModel",
     "state": {
      "_model_module": "@jupyter-widgets/controls",
      "_model_module_version": "1.5.0",
      "_model_name": "DescriptionStyleModel",
      "_view_count": null,
      "_view_module": "@jupyter-widgets/base",
      "_view_module_version": "1.2.0",
      "_view_name": "StyleView",
      "description_width": ""
     }
    },
    "a307df45fe4d4485b19cf3cdfff58110": {
     "model_module": "@jupyter-widgets/base",
     "model_module_version": "1.2.0",
     "model_name": "LayoutModel",
     "state": {
      "_model_module": "@jupyter-widgets/base",
      "_model_module_version": "1.2.0",
      "_model_name": "LayoutModel",
      "_view_count": null,
      "_view_module": "@jupyter-widgets/base",
      "_view_module_version": "1.2.0",
      "_view_name": "LayoutView",
      "align_content": null,
      "align_items": null,
      "align_self": null,
      "border": null,
      "bottom": null,
      "display": null,
      "flex": null,
      "flex_flow": null,
      "grid_area": null,
      "grid_auto_columns": null,
      "grid_auto_flow": null,
      "grid_auto_rows": null,
      "grid_column": null,
      "grid_gap": null,
      "grid_row": null,
      "grid_template_areas": null,
      "grid_template_columns": null,
      "grid_template_rows": null,
      "height": null,
      "justify_content": null,
      "justify_items": null,
      "left": null,
      "margin": null,
      "max_height": null,
      "max_width": null,
      "min_height": null,
      "min_width": null,
      "object_fit": null,
      "object_position": null,
      "order": null,
      "overflow": null,
      "overflow_x": null,
      "overflow_y": null,
      "padding": null,
      "right": null,
      "top": null,
      "visibility": null,
      "width": null
     }
    },
    "a3355d45624d43c09790817ace0556a6": {
     "model_module": "@jupyter-widgets/controls",
     "model_module_version": "1.5.0",
     "model_name": "FloatProgressModel",
     "state": {
      "_dom_classes": [],
      "_model_module": "@jupyter-widgets/controls",
      "_model_module_version": "1.5.0",
      "_model_name": "FloatProgressModel",
      "_view_count": null,
      "_view_module": "@jupyter-widgets/controls",
      "_view_module_version": "1.5.0",
      "_view_name": "ProgressView",
      "bar_style": "success",
      "description": "",
      "description_tooltip": null,
      "layout": "IPY_MODEL_b08227caa1034ca6b0ef1b930f9b1e36",
      "max": 88,
      "min": 0,
      "orientation": "horizontal",
      "style": "IPY_MODEL_5ede1cfdddcd481899e2fce172c2c6d8",
      "value": 88
     }
    },
    "a356000307614d25803d739c945c828d": {
     "model_module": "@jupyter-widgets/controls",
     "model_module_version": "1.5.0",
     "model_name": "DescriptionStyleModel",
     "state": {
      "_model_module": "@jupyter-widgets/controls",
      "_model_module_version": "1.5.0",
      "_model_name": "DescriptionStyleModel",
      "_view_count": null,
      "_view_module": "@jupyter-widgets/base",
      "_view_module_version": "1.2.0",
      "_view_name": "StyleView",
      "description_width": ""
     }
    },
    "a46486cdacb1472189e1b8ec210d610b": {
     "model_module": "@jupyter-widgets/base",
     "model_module_version": "1.2.0",
     "model_name": "LayoutModel",
     "state": {
      "_model_module": "@jupyter-widgets/base",
      "_model_module_version": "1.2.0",
      "_model_name": "LayoutModel",
      "_view_count": null,
      "_view_module": "@jupyter-widgets/base",
      "_view_module_version": "1.2.0",
      "_view_name": "LayoutView",
      "align_content": null,
      "align_items": null,
      "align_self": null,
      "border": null,
      "bottom": null,
      "display": null,
      "flex": null,
      "flex_flow": null,
      "grid_area": null,
      "grid_auto_columns": null,
      "grid_auto_flow": null,
      "grid_auto_rows": null,
      "grid_column": null,
      "grid_gap": null,
      "grid_row": null,
      "grid_template_areas": null,
      "grid_template_columns": null,
      "grid_template_rows": null,
      "height": null,
      "justify_content": null,
      "justify_items": null,
      "left": null,
      "margin": null,
      "max_height": null,
      "max_width": null,
      "min_height": null,
      "min_width": null,
      "object_fit": null,
      "object_position": null,
      "order": null,
      "overflow": null,
      "overflow_x": null,
      "overflow_y": null,
      "padding": null,
      "right": null,
      "top": null,
      "visibility": null,
      "width": null
     }
    },
    "a55a9672c3d0447f97ffb38d1c4d15d2": {
     "model_module": "@jupyter-widgets/base",
     "model_module_version": "1.2.0",
     "model_name": "LayoutModel",
     "state": {
      "_model_module": "@jupyter-widgets/base",
      "_model_module_version": "1.2.0",
      "_model_name": "LayoutModel",
      "_view_count": null,
      "_view_module": "@jupyter-widgets/base",
      "_view_module_version": "1.2.0",
      "_view_name": "LayoutView",
      "align_content": null,
      "align_items": null,
      "align_self": null,
      "border": null,
      "bottom": null,
      "display": null,
      "flex": null,
      "flex_flow": null,
      "grid_area": null,
      "grid_auto_columns": null,
      "grid_auto_flow": null,
      "grid_auto_rows": null,
      "grid_column": null,
      "grid_gap": null,
      "grid_row": null,
      "grid_template_areas": null,
      "grid_template_columns": null,
      "grid_template_rows": null,
      "height": null,
      "justify_content": null,
      "justify_items": null,
      "left": null,
      "margin": null,
      "max_height": null,
      "max_width": null,
      "min_height": null,
      "min_width": null,
      "object_fit": null,
      "object_position": null,
      "order": null,
      "overflow": null,
      "overflow_x": null,
      "overflow_y": null,
      "padding": null,
      "right": null,
      "top": null,
      "visibility": null,
      "width": null
     }
    },
    "a83e8bb5446d4f54b524abfe06c00e47": {
     "model_module": "@jupyter-widgets/base",
     "model_module_version": "1.2.0",
     "model_name": "LayoutModel",
     "state": {
      "_model_module": "@jupyter-widgets/base",
      "_model_module_version": "1.2.0",
      "_model_name": "LayoutModel",
      "_view_count": null,
      "_view_module": "@jupyter-widgets/base",
      "_view_module_version": "1.2.0",
      "_view_name": "LayoutView",
      "align_content": null,
      "align_items": null,
      "align_self": null,
      "border": null,
      "bottom": null,
      "display": null,
      "flex": null,
      "flex_flow": null,
      "grid_area": null,
      "grid_auto_columns": null,
      "grid_auto_flow": null,
      "grid_auto_rows": null,
      "grid_column": null,
      "grid_gap": null,
      "grid_row": null,
      "grid_template_areas": null,
      "grid_template_columns": null,
      "grid_template_rows": null,
      "height": null,
      "justify_content": null,
      "justify_items": null,
      "left": null,
      "margin": null,
      "max_height": null,
      "max_width": null,
      "min_height": null,
      "min_width": null,
      "object_fit": null,
      "object_position": null,
      "order": null,
      "overflow": null,
      "overflow_x": null,
      "overflow_y": null,
      "padding": null,
      "right": null,
      "top": null,
      "visibility": null,
      "width": null
     }
    },
    "a99bd2a593cc4e0d94b7610d2b345c11": {
     "model_module": "@jupyter-widgets/controls",
     "model_module_version": "1.5.0",
     "model_name": "DescriptionStyleModel",
     "state": {
      "_model_module": "@jupyter-widgets/controls",
      "_model_module_version": "1.5.0",
      "_model_name": "DescriptionStyleModel",
      "_view_count": null,
      "_view_module": "@jupyter-widgets/base",
      "_view_module_version": "1.2.0",
      "_view_name": "StyleView",
      "description_width": ""
     }
    },
    "a9f9677a62ea4c9d9d996ea9f54f8009": {
     "model_module": "@jupyter-widgets/controls",
     "model_module_version": "1.5.0",
     "model_name": "HBoxModel",
     "state": {
      "_dom_classes": [],
      "_model_module": "@jupyter-widgets/controls",
      "_model_module_version": "1.5.0",
      "_model_name": "HBoxModel",
      "_view_count": null,
      "_view_module": "@jupyter-widgets/controls",
      "_view_module_version": "1.5.0",
      "_view_name": "HBoxView",
      "box_style": "",
      "children": [
       "IPY_MODEL_75824665003c4a42bbd4b3f365422bf9",
       "IPY_MODEL_da26e3a4ebf64e7fa7a4a0a5fbcb5891",
       "IPY_MODEL_00876108d2974d4a85285fc0ad3e9b04"
      ],
      "layout": "IPY_MODEL_11677e2e4d2f42b785c1e3dc4860b693"
     }
    },
    "aa9c3272c53e4b5ba0b7019c8d4b4eaf": {
     "model_module": "@jupyter-widgets/controls",
     "model_module_version": "1.5.0",
     "model_name": "DescriptionStyleModel",
     "state": {
      "_model_module": "@jupyter-widgets/controls",
      "_model_module_version": "1.5.0",
      "_model_name": "DescriptionStyleModel",
      "_view_count": null,
      "_view_module": "@jupyter-widgets/base",
      "_view_module_version": "1.2.0",
      "_view_name": "StyleView",
      "description_width": ""
     }
    },
    "ab12545bff1345c0a000c7ae6f4525ff": {
     "model_module": "@jupyter-widgets/base",
     "model_module_version": "1.2.0",
     "model_name": "LayoutModel",
     "state": {
      "_model_module": "@jupyter-widgets/base",
      "_model_module_version": "1.2.0",
      "_model_name": "LayoutModel",
      "_view_count": null,
      "_view_module": "@jupyter-widgets/base",
      "_view_module_version": "1.2.0",
      "_view_name": "LayoutView",
      "align_content": null,
      "align_items": null,
      "align_self": null,
      "border": null,
      "bottom": null,
      "display": null,
      "flex": null,
      "flex_flow": null,
      "grid_area": null,
      "grid_auto_columns": null,
      "grid_auto_flow": null,
      "grid_auto_rows": null,
      "grid_column": null,
      "grid_gap": null,
      "grid_row": null,
      "grid_template_areas": null,
      "grid_template_columns": null,
      "grid_template_rows": null,
      "height": null,
      "justify_content": null,
      "justify_items": null,
      "left": null,
      "margin": null,
      "max_height": null,
      "max_width": null,
      "min_height": null,
      "min_width": null,
      "object_fit": null,
      "object_position": null,
      "order": null,
      "overflow": null,
      "overflow_x": null,
      "overflow_y": null,
      "padding": null,
      "right": null,
      "top": null,
      "visibility": null,
      "width": null
     }
    },
    "acbad1e766c948c1941c06b7db50fe7b": {
     "model_module": "@jupyter-widgets/controls",
     "model_module_version": "1.5.0",
     "model_name": "DescriptionStyleModel",
     "state": {
      "_model_module": "@jupyter-widgets/controls",
      "_model_module_version": "1.5.0",
      "_model_name": "DescriptionStyleModel",
      "_view_count": null,
      "_view_module": "@jupyter-widgets/base",
      "_view_module_version": "1.2.0",
      "_view_name": "StyleView",
      "description_width": ""
     }
    },
    "adc472d346e8488b98e51efe29b494b2": {
     "model_module": "@jupyter-widgets/controls",
     "model_module_version": "1.5.0",
     "model_name": "HTMLModel",
     "state": {
      "_dom_classes": [],
      "_model_module": "@jupyter-widgets/controls",
      "_model_module_version": "1.5.0",
      "_model_name": "HTMLModel",
      "_view_count": null,
      "_view_module": "@jupyter-widgets/controls",
      "_view_module_version": "1.5.0",
      "_view_name": "HTMLView",
      "description": "",
      "description_tooltip": null,
      "layout": "IPY_MODEL_77a0d921b0ff43059732fb35d11a74bd",
      "placeholder": "​",
      "style": "IPY_MODEL_2e82d0e9278e4f9ba3000ea7923a6669",
      "value": " 654/654 [00:01&lt;00:00, 409.95it/s]"
     }
    },
    "ae23cd63fb6c47d99388bbe7194aa5ee": {
     "model_module": "@jupyter-widgets/controls",
     "model_module_version": "1.5.0",
     "model_name": "ProgressStyleModel",
     "state": {
      "_model_module": "@jupyter-widgets/controls",
      "_model_module_version": "1.5.0",
      "_model_name": "ProgressStyleModel",
      "_view_count": null,
      "_view_module": "@jupyter-widgets/base",
      "_view_module_version": "1.2.0",
      "_view_name": "StyleView",
      "bar_color": null,
      "description_width": ""
     }
    },
    "ae4344ccaf2049eaa1c838ffe0a2b3c8": {
     "model_module": "@jupyter-widgets/controls",
     "model_module_version": "1.5.0",
     "model_name": "HBoxModel",
     "state": {
      "_dom_classes": [],
      "_model_module": "@jupyter-widgets/controls",
      "_model_module_version": "1.5.0",
      "_model_name": "HBoxModel",
      "_view_count": null,
      "_view_module": "@jupyter-widgets/controls",
      "_view_module_version": "1.5.0",
      "_view_name": "HBoxView",
      "box_style": "",
      "children": [
       "IPY_MODEL_c01e89866a034007b74a2ea1ad9589c9",
       "IPY_MODEL_0c7c81fd06d046d69b98efbf70e79d76",
       "IPY_MODEL_235de09cfec94670a7e1ae1649a090f3"
      ],
      "layout": "IPY_MODEL_ffa5bc74d7e34ef7a1a486278c0c5dce"
     }
    },
    "afc38e7408dd471abfb353aa948db81e": {
     "model_module": "@jupyter-widgets/controls",
     "model_module_version": "1.5.0",
     "model_name": "ProgressStyleModel",
     "state": {
      "_model_module": "@jupyter-widgets/controls",
      "_model_module_version": "1.5.0",
      "_model_name": "ProgressStyleModel",
      "_view_count": null,
      "_view_module": "@jupyter-widgets/base",
      "_view_module_version": "1.2.0",
      "_view_name": "StyleView",
      "bar_color": null,
      "description_width": ""
     }
    },
    "afee4831dcea457dbf149ca04b001678": {
     "model_module": "@jupyter-widgets/base",
     "model_module_version": "1.2.0",
     "model_name": "LayoutModel",
     "state": {
      "_model_module": "@jupyter-widgets/base",
      "_model_module_version": "1.2.0",
      "_model_name": "LayoutModel",
      "_view_count": null,
      "_view_module": "@jupyter-widgets/base",
      "_view_module_version": "1.2.0",
      "_view_name": "LayoutView",
      "align_content": null,
      "align_items": null,
      "align_self": null,
      "border": null,
      "bottom": null,
      "display": null,
      "flex": null,
      "flex_flow": null,
      "grid_area": null,
      "grid_auto_columns": null,
      "grid_auto_flow": null,
      "grid_auto_rows": null,
      "grid_column": null,
      "grid_gap": null,
      "grid_row": null,
      "grid_template_areas": null,
      "grid_template_columns": null,
      "grid_template_rows": null,
      "height": null,
      "justify_content": null,
      "justify_items": null,
      "left": null,
      "margin": null,
      "max_height": null,
      "max_width": null,
      "min_height": null,
      "min_width": null,
      "object_fit": null,
      "object_position": null,
      "order": null,
      "overflow": null,
      "overflow_x": null,
      "overflow_y": null,
      "padding": null,
      "right": null,
      "top": null,
      "visibility": null,
      "width": null
     }
    },
    "b042e53b30134b0387b0c1ab3806d888": {
     "model_module": "@jupyter-widgets/controls",
     "model_module_version": "1.5.0",
     "model_name": "DescriptionStyleModel",
     "state": {
      "_model_module": "@jupyter-widgets/controls",
      "_model_module_version": "1.5.0",
      "_model_name": "DescriptionStyleModel",
      "_view_count": null,
      "_view_module": "@jupyter-widgets/base",
      "_view_module_version": "1.2.0",
      "_view_name": "StyleView",
      "description_width": ""
     }
    },
    "b05af1ff1b93487ab0ab78a5c9cbc411": {
     "model_module": "@jupyter-widgets/base",
     "model_module_version": "1.2.0",
     "model_name": "LayoutModel",
     "state": {
      "_model_module": "@jupyter-widgets/base",
      "_model_module_version": "1.2.0",
      "_model_name": "LayoutModel",
      "_view_count": null,
      "_view_module": "@jupyter-widgets/base",
      "_view_module_version": "1.2.0",
      "_view_name": "LayoutView",
      "align_content": null,
      "align_items": null,
      "align_self": null,
      "border": null,
      "bottom": null,
      "display": null,
      "flex": null,
      "flex_flow": null,
      "grid_area": null,
      "grid_auto_columns": null,
      "grid_auto_flow": null,
      "grid_auto_rows": null,
      "grid_column": null,
      "grid_gap": null,
      "grid_row": null,
      "grid_template_areas": null,
      "grid_template_columns": null,
      "grid_template_rows": null,
      "height": null,
      "justify_content": null,
      "justify_items": null,
      "left": null,
      "margin": null,
      "max_height": null,
      "max_width": null,
      "min_height": null,
      "min_width": null,
      "object_fit": null,
      "object_position": null,
      "order": null,
      "overflow": null,
      "overflow_x": null,
      "overflow_y": null,
      "padding": null,
      "right": null,
      "top": null,
      "visibility": null,
      "width": null
     }
    },
    "b08227caa1034ca6b0ef1b930f9b1e36": {
     "model_module": "@jupyter-widgets/base",
     "model_module_version": "1.2.0",
     "model_name": "LayoutModel",
     "state": {
      "_model_module": "@jupyter-widgets/base",
      "_model_module_version": "1.2.0",
      "_model_name": "LayoutModel",
      "_view_count": null,
      "_view_module": "@jupyter-widgets/base",
      "_view_module_version": "1.2.0",
      "_view_name": "LayoutView",
      "align_content": null,
      "align_items": null,
      "align_self": null,
      "border": null,
      "bottom": null,
      "display": null,
      "flex": null,
      "flex_flow": null,
      "grid_area": null,
      "grid_auto_columns": null,
      "grid_auto_flow": null,
      "grid_auto_rows": null,
      "grid_column": null,
      "grid_gap": null,
      "grid_row": null,
      "grid_template_areas": null,
      "grid_template_columns": null,
      "grid_template_rows": null,
      "height": null,
      "justify_content": null,
      "justify_items": null,
      "left": null,
      "margin": null,
      "max_height": null,
      "max_width": null,
      "min_height": null,
      "min_width": null,
      "object_fit": null,
      "object_position": null,
      "order": null,
      "overflow": null,
      "overflow_x": null,
      "overflow_y": null,
      "padding": null,
      "right": null,
      "top": null,
      "visibility": null,
      "width": null
     }
    },
    "b1e2772ed6494d2fb7f315460c33faeb": {
     "model_module": "@jupyter-widgets/controls",
     "model_module_version": "1.5.0",
     "model_name": "HBoxModel",
     "state": {
      "_dom_classes": [],
      "_model_module": "@jupyter-widgets/controls",
      "_model_module_version": "1.5.0",
      "_model_name": "HBoxModel",
      "_view_count": null,
      "_view_module": "@jupyter-widgets/controls",
      "_view_module_version": "1.5.0",
      "_view_name": "HBoxView",
      "box_style": "",
      "children": [
       "IPY_MODEL_7e5d014e8d794a5db540fb350d09bf17",
       "IPY_MODEL_1382fb4f1cd0441f8051c8dbdc2ebe88",
       "IPY_MODEL_d24bbdb8a8c24aa9886a278aeb1cefec"
      ],
      "layout": "IPY_MODEL_fbbc552de17e4d30a3055188daef956d"
     }
    },
    "b1f8ed4a01b149f49c401f85b81a9152": {
     "model_module": "@jupyter-widgets/base",
     "model_module_version": "1.2.0",
     "model_name": "LayoutModel",
     "state": {
      "_model_module": "@jupyter-widgets/base",
      "_model_module_version": "1.2.0",
      "_model_name": "LayoutModel",
      "_view_count": null,
      "_view_module": "@jupyter-widgets/base",
      "_view_module_version": "1.2.0",
      "_view_name": "LayoutView",
      "align_content": null,
      "align_items": null,
      "align_self": null,
      "border": null,
      "bottom": null,
      "display": null,
      "flex": null,
      "flex_flow": null,
      "grid_area": null,
      "grid_auto_columns": null,
      "grid_auto_flow": null,
      "grid_auto_rows": null,
      "grid_column": null,
      "grid_gap": null,
      "grid_row": null,
      "grid_template_areas": null,
      "grid_template_columns": null,
      "grid_template_rows": null,
      "height": null,
      "justify_content": null,
      "justify_items": null,
      "left": null,
      "margin": null,
      "max_height": null,
      "max_width": null,
      "min_height": null,
      "min_width": null,
      "object_fit": null,
      "object_position": null,
      "order": null,
      "overflow": null,
      "overflow_x": null,
      "overflow_y": null,
      "padding": null,
      "right": null,
      "top": null,
      "visibility": null,
      "width": null
     }
    },
    "b2513b0ef70e4137bb0e8ef536eced5c": {
     "model_module": "@jupyter-widgets/base",
     "model_module_version": "1.2.0",
     "model_name": "LayoutModel",
     "state": {
      "_model_module": "@jupyter-widgets/base",
      "_model_module_version": "1.2.0",
      "_model_name": "LayoutModel",
      "_view_count": null,
      "_view_module": "@jupyter-widgets/base",
      "_view_module_version": "1.2.0",
      "_view_name": "LayoutView",
      "align_content": null,
      "align_items": null,
      "align_self": null,
      "border": null,
      "bottom": null,
      "display": null,
      "flex": null,
      "flex_flow": null,
      "grid_area": null,
      "grid_auto_columns": null,
      "grid_auto_flow": null,
      "grid_auto_rows": null,
      "grid_column": null,
      "grid_gap": null,
      "grid_row": null,
      "grid_template_areas": null,
      "grid_template_columns": null,
      "grid_template_rows": null,
      "height": null,
      "justify_content": null,
      "justify_items": null,
      "left": null,
      "margin": null,
      "max_height": null,
      "max_width": null,
      "min_height": null,
      "min_width": null,
      "object_fit": null,
      "object_position": null,
      "order": null,
      "overflow": null,
      "overflow_x": null,
      "overflow_y": null,
      "padding": null,
      "right": null,
      "top": null,
      "visibility": null,
      "width": null
     }
    },
    "b33a9fa8bf03408c810303bfa8b59c3f": {
     "model_module": "@jupyter-widgets/base",
     "model_module_version": "1.2.0",
     "model_name": "LayoutModel",
     "state": {
      "_model_module": "@jupyter-widgets/base",
      "_model_module_version": "1.2.0",
      "_model_name": "LayoutModel",
      "_view_count": null,
      "_view_module": "@jupyter-widgets/base",
      "_view_module_version": "1.2.0",
      "_view_name": "LayoutView",
      "align_content": null,
      "align_items": null,
      "align_self": null,
      "border": null,
      "bottom": null,
      "display": null,
      "flex": null,
      "flex_flow": null,
      "grid_area": null,
      "grid_auto_columns": null,
      "grid_auto_flow": null,
      "grid_auto_rows": null,
      "grid_column": null,
      "grid_gap": null,
      "grid_row": null,
      "grid_template_areas": null,
      "grid_template_columns": null,
      "grid_template_rows": null,
      "height": null,
      "justify_content": null,
      "justify_items": null,
      "left": null,
      "margin": null,
      "max_height": null,
      "max_width": null,
      "min_height": null,
      "min_width": null,
      "object_fit": null,
      "object_position": null,
      "order": null,
      "overflow": null,
      "overflow_x": null,
      "overflow_y": null,
      "padding": null,
      "right": null,
      "top": null,
      "visibility": null,
      "width": null
     }
    },
    "b4b03336805e43c38a5b5b1e8081dbb2": {
     "model_module": "@jupyter-widgets/controls",
     "model_module_version": "1.5.0",
     "model_name": "HTMLModel",
     "state": {
      "_dom_classes": [],
      "_model_module": "@jupyter-widgets/controls",
      "_model_module_version": "1.5.0",
      "_model_name": "HTMLModel",
      "_view_count": null,
      "_view_module": "@jupyter-widgets/controls",
      "_view_module_version": "1.5.0",
      "_view_name": "HTMLView",
      "description": "",
      "description_tooltip": null,
      "layout": "IPY_MODEL_26303c61443f40afac31184993ae61e1",
      "placeholder": "​",
      "style": "IPY_MODEL_52a5a63254244bcb92aa82103af75450",
      "value": " 88/88 [00:37&lt;00:00,  2.91it/s]"
     }
    },
    "b4da91d3dda543d5b7bad504d3e7fc67": {
     "model_module": "@jupyter-widgets/base",
     "model_module_version": "1.2.0",
     "model_name": "LayoutModel",
     "state": {
      "_model_module": "@jupyter-widgets/base",
      "_model_module_version": "1.2.0",
      "_model_name": "LayoutModel",
      "_view_count": null,
      "_view_module": "@jupyter-widgets/base",
      "_view_module_version": "1.2.0",
      "_view_name": "LayoutView",
      "align_content": null,
      "align_items": null,
      "align_self": null,
      "border": null,
      "bottom": null,
      "display": null,
      "flex": null,
      "flex_flow": null,
      "grid_area": null,
      "grid_auto_columns": null,
      "grid_auto_flow": null,
      "grid_auto_rows": null,
      "grid_column": null,
      "grid_gap": null,
      "grid_row": null,
      "grid_template_areas": null,
      "grid_template_columns": null,
      "grid_template_rows": null,
      "height": null,
      "justify_content": null,
      "justify_items": null,
      "left": null,
      "margin": null,
      "max_height": null,
      "max_width": null,
      "min_height": null,
      "min_width": null,
      "object_fit": null,
      "object_position": null,
      "order": null,
      "overflow": null,
      "overflow_x": null,
      "overflow_y": null,
      "padding": null,
      "right": null,
      "top": null,
      "visibility": null,
      "width": null
     }
    },
    "b56b6df6483d4972ae9e0beda5d3e911": {
     "model_module": "@jupyter-widgets/controls",
     "model_module_version": "1.5.0",
     "model_name": "DescriptionStyleModel",
     "state": {
      "_model_module": "@jupyter-widgets/controls",
      "_model_module_version": "1.5.0",
      "_model_name": "DescriptionStyleModel",
      "_view_count": null,
      "_view_module": "@jupyter-widgets/base",
      "_view_module_version": "1.2.0",
      "_view_name": "StyleView",
      "description_width": ""
     }
    },
    "b592b773bbf947a2ab47014405a1eb1f": {
     "model_module": "@jupyter-widgets/base",
     "model_module_version": "1.2.0",
     "model_name": "LayoutModel",
     "state": {
      "_model_module": "@jupyter-widgets/base",
      "_model_module_version": "1.2.0",
      "_model_name": "LayoutModel",
      "_view_count": null,
      "_view_module": "@jupyter-widgets/base",
      "_view_module_version": "1.2.0",
      "_view_name": "LayoutView",
      "align_content": null,
      "align_items": null,
      "align_self": null,
      "border": null,
      "bottom": null,
      "display": null,
      "flex": null,
      "flex_flow": null,
      "grid_area": null,
      "grid_auto_columns": null,
      "grid_auto_flow": null,
      "grid_auto_rows": null,
      "grid_column": null,
      "grid_gap": null,
      "grid_row": null,
      "grid_template_areas": null,
      "grid_template_columns": null,
      "grid_template_rows": null,
      "height": null,
      "justify_content": null,
      "justify_items": null,
      "left": null,
      "margin": null,
      "max_height": null,
      "max_width": null,
      "min_height": null,
      "min_width": null,
      "object_fit": null,
      "object_position": null,
      "order": null,
      "overflow": null,
      "overflow_x": null,
      "overflow_y": null,
      "padding": null,
      "right": null,
      "top": null,
      "visibility": null,
      "width": null
     }
    },
    "b9967852708d46808a647e5b8dd74d25": {
     "model_module": "@jupyter-widgets/controls",
     "model_module_version": "1.5.0",
     "model_name": "FloatProgressModel",
     "state": {
      "_dom_classes": [],
      "_model_module": "@jupyter-widgets/controls",
      "_model_module_version": "1.5.0",
      "_model_name": "FloatProgressModel",
      "_view_count": null,
      "_view_module": "@jupyter-widgets/controls",
      "_view_module_version": "1.5.0",
      "_view_name": "ProgressView",
      "bar_style": "success",
      "description": "",
      "description_tooltip": null,
      "layout": "IPY_MODEL_afee4831dcea457dbf149ca04b001678",
      "max": 12,
      "min": 0,
      "orientation": "horizontal",
      "style": "IPY_MODEL_6ef68afe94e340a5bddfc6ae9cab1caf",
      "value": 12
     }
    },
    "bc2756b24bd94b82b27e3d7f7719d9e7": {
     "model_module": "@jupyter-widgets/controls",
     "model_module_version": "1.5.0",
     "model_name": "FloatProgressModel",
     "state": {
      "_dom_classes": [],
      "_model_module": "@jupyter-widgets/controls",
      "_model_module_version": "1.5.0",
      "_model_name": "FloatProgressModel",
      "_view_count": null,
      "_view_module": "@jupyter-widgets/controls",
      "_view_module_version": "1.5.0",
      "_view_name": "ProgressView",
      "bar_style": "success",
      "description": "",
      "description_tooltip": null,
      "layout": "IPY_MODEL_5b60dd02c54a4882b3eee3abd3a12f8d",
      "max": 88,
      "min": 0,
      "orientation": "horizontal",
      "style": "IPY_MODEL_81f786fa6c6447d9b201fc369c357302",
      "value": 88
     }
    },
    "bcbc3a6e49ba4756a238c6d293965393": {
     "model_module": "@jupyter-widgets/base",
     "model_module_version": "1.2.0",
     "model_name": "LayoutModel",
     "state": {
      "_model_module": "@jupyter-widgets/base",
      "_model_module_version": "1.2.0",
      "_model_name": "LayoutModel",
      "_view_count": null,
      "_view_module": "@jupyter-widgets/base",
      "_view_module_version": "1.2.0",
      "_view_name": "LayoutView",
      "align_content": null,
      "align_items": null,
      "align_self": null,
      "border": null,
      "bottom": null,
      "display": null,
      "flex": null,
      "flex_flow": null,
      "grid_area": null,
      "grid_auto_columns": null,
      "grid_auto_flow": null,
      "grid_auto_rows": null,
      "grid_column": null,
      "grid_gap": null,
      "grid_row": null,
      "grid_template_areas": null,
      "grid_template_columns": null,
      "grid_template_rows": null,
      "height": null,
      "justify_content": null,
      "justify_items": null,
      "left": null,
      "margin": null,
      "max_height": null,
      "max_width": null,
      "min_height": null,
      "min_width": null,
      "object_fit": null,
      "object_position": null,
      "order": null,
      "overflow": null,
      "overflow_x": null,
      "overflow_y": null,
      "padding": null,
      "right": null,
      "top": null,
      "visibility": null,
      "width": null
     }
    },
    "bd074f0217c64290ae5096a47486f62e": {
     "model_module": "@jupyter-widgets/base",
     "model_module_version": "1.2.0",
     "model_name": "LayoutModel",
     "state": {
      "_model_module": "@jupyter-widgets/base",
      "_model_module_version": "1.2.0",
      "_model_name": "LayoutModel",
      "_view_count": null,
      "_view_module": "@jupyter-widgets/base",
      "_view_module_version": "1.2.0",
      "_view_name": "LayoutView",
      "align_content": null,
      "align_items": null,
      "align_self": null,
      "border": null,
      "bottom": null,
      "display": null,
      "flex": null,
      "flex_flow": null,
      "grid_area": null,
      "grid_auto_columns": null,
      "grid_auto_flow": null,
      "grid_auto_rows": null,
      "grid_column": null,
      "grid_gap": null,
      "grid_row": null,
      "grid_template_areas": null,
      "grid_template_columns": null,
      "grid_template_rows": null,
      "height": null,
      "justify_content": null,
      "justify_items": null,
      "left": null,
      "margin": null,
      "max_height": null,
      "max_width": null,
      "min_height": null,
      "min_width": null,
      "object_fit": null,
      "object_position": null,
      "order": null,
      "overflow": null,
      "overflow_x": null,
      "overflow_y": null,
      "padding": null,
      "right": null,
      "top": null,
      "visibility": null,
      "width": null
     }
    },
    "bd3ea10f317440bda57860bffda9c97a": {
     "model_module": "@jupyter-widgets/base",
     "model_module_version": "1.2.0",
     "model_name": "LayoutModel",
     "state": {
      "_model_module": "@jupyter-widgets/base",
      "_model_module_version": "1.2.0",
      "_model_name": "LayoutModel",
      "_view_count": null,
      "_view_module": "@jupyter-widgets/base",
      "_view_module_version": "1.2.0",
      "_view_name": "LayoutView",
      "align_content": null,
      "align_items": null,
      "align_self": null,
      "border": null,
      "bottom": null,
      "display": null,
      "flex": null,
      "flex_flow": null,
      "grid_area": null,
      "grid_auto_columns": null,
      "grid_auto_flow": null,
      "grid_auto_rows": null,
      "grid_column": null,
      "grid_gap": null,
      "grid_row": null,
      "grid_template_areas": null,
      "grid_template_columns": null,
      "grid_template_rows": null,
      "height": null,
      "justify_content": null,
      "justify_items": null,
      "left": null,
      "margin": null,
      "max_height": null,
      "max_width": null,
      "min_height": null,
      "min_width": null,
      "object_fit": null,
      "object_position": null,
      "order": null,
      "overflow": null,
      "overflow_x": null,
      "overflow_y": null,
      "padding": null,
      "right": null,
      "top": null,
      "visibility": null,
      "width": null
     }
    },
    "be30018a39d648829a112726bcad35f1": {
     "model_module": "@jupyter-widgets/controls",
     "model_module_version": "1.5.0",
     "model_name": "FloatProgressModel",
     "state": {
      "_dom_classes": [],
      "_model_module": "@jupyter-widgets/controls",
      "_model_module_version": "1.5.0",
      "_model_name": "FloatProgressModel",
      "_view_count": null,
      "_view_module": "@jupyter-widgets/controls",
      "_view_module_version": "1.5.0",
      "_view_name": "ProgressView",
      "bar_style": "success",
      "description": "",
      "description_tooltip": null,
      "layout": "IPY_MODEL_82d55e13d50f42d7921fd2f96698e942",
      "max": 654,
      "min": 0,
      "orientation": "horizontal",
      "style": "IPY_MODEL_55f1244392e74571ac9196639f863130",
      "value": 654
     }
    },
    "c01e89866a034007b74a2ea1ad9589c9": {
     "model_module": "@jupyter-widgets/controls",
     "model_module_version": "1.5.0",
     "model_name": "HTMLModel",
     "state": {
      "_dom_classes": [],
      "_model_module": "@jupyter-widgets/controls",
      "_model_module_version": "1.5.0",
      "_model_name": "HTMLModel",
      "_view_count": null,
      "_view_module": "@jupyter-widgets/controls",
      "_view_module_version": "1.5.0",
      "_view_name": "HTMLView",
      "description": "",
      "description_tooltip": null,
      "layout": "IPY_MODEL_5e389a2ba7a24ce7a28ac207a5d12aa8",
      "placeholder": "​",
      "style": "IPY_MODEL_560b0096640541dbac1d804470ced31b",
      "value": "Epochs 1/12. Running Loss:    2.7995: 100%"
     }
    },
    "c1788e660b4b42539b95ad966bada078": {
     "model_module": "@jupyter-widgets/controls",
     "model_module_version": "1.5.0",
     "model_name": "DescriptionStyleModel",
     "state": {
      "_model_module": "@jupyter-widgets/controls",
      "_model_module_version": "1.5.0",
      "_model_name": "DescriptionStyleModel",
      "_view_count": null,
      "_view_module": "@jupyter-widgets/base",
      "_view_module_version": "1.2.0",
      "_view_name": "StyleView",
      "description_width": ""
     }
    },
    "c2792e2f1cd046839d8bc9fd13d07e72": {
     "model_module": "@jupyter-widgets/controls",
     "model_module_version": "1.5.0",
     "model_name": "HBoxModel",
     "state": {
      "_dom_classes": [],
      "_model_module": "@jupyter-widgets/controls",
      "_model_module_version": "1.5.0",
      "_model_name": "HBoxModel",
      "_view_count": null,
      "_view_module": "@jupyter-widgets/controls",
      "_view_module_version": "1.5.0",
      "_view_name": "HBoxView",
      "box_style": "",
      "children": [
       "IPY_MODEL_751779015d194426b3e20329cc201e09",
       "IPY_MODEL_09892ac6f7984ecf85d1540be0f4c267",
       "IPY_MODEL_6e0348890a494d44996a911e96cd5880"
      ],
      "layout": "IPY_MODEL_a307df45fe4d4485b19cf3cdfff58110"
     }
    },
    "c2eb2c91e5e14e3f9f5015b450e96697": {
     "model_module": "@jupyter-widgets/controls",
     "model_module_version": "1.5.0",
     "model_name": "DescriptionStyleModel",
     "state": {
      "_model_module": "@jupyter-widgets/controls",
      "_model_module_version": "1.5.0",
      "_model_name": "DescriptionStyleModel",
      "_view_count": null,
      "_view_module": "@jupyter-widgets/base",
      "_view_module_version": "1.2.0",
      "_view_name": "StyleView",
      "description_width": ""
     }
    },
    "c31afa4325e047d4b083424ba232897f": {
     "model_module": "@jupyter-widgets/controls",
     "model_module_version": "1.5.0",
     "model_name": "HBoxModel",
     "state": {
      "_dom_classes": [],
      "_model_module": "@jupyter-widgets/controls",
      "_model_module_version": "1.5.0",
      "_model_name": "HBoxModel",
      "_view_count": null,
      "_view_module": "@jupyter-widgets/controls",
      "_view_module_version": "1.5.0",
      "_view_name": "HBoxView",
      "box_style": "",
      "children": [
       "IPY_MODEL_95eb8eaf48bf440680287c8c3f8952e6",
       "IPY_MODEL_70d77dc27bea4ae091a69a8f647e0ea4",
       "IPY_MODEL_47d3b7711feb4a1da5dd4352e80be5e7"
      ],
      "layout": "IPY_MODEL_85551fc4ac7942ba9aa00143716d0ea5"
     }
    },
    "c3876a7344ac493380ef937cbff2710c": {
     "model_module": "@jupyter-widgets/controls",
     "model_module_version": "1.5.0",
     "model_name": "ProgressStyleModel",
     "state": {
      "_model_module": "@jupyter-widgets/controls",
      "_model_module_version": "1.5.0",
      "_model_name": "ProgressStyleModel",
      "_view_count": null,
      "_view_module": "@jupyter-widgets/base",
      "_view_module_version": "1.2.0",
      "_view_name": "StyleView",
      "bar_color": null,
      "description_width": ""
     }
    },
    "c3fc315d61fb4f1481c9396cee0b6ece": {
     "model_module": "@jupyter-widgets/base",
     "model_module_version": "1.2.0",
     "model_name": "LayoutModel",
     "state": {
      "_model_module": "@jupyter-widgets/base",
      "_model_module_version": "1.2.0",
      "_model_name": "LayoutModel",
      "_view_count": null,
      "_view_module": "@jupyter-widgets/base",
      "_view_module_version": "1.2.0",
      "_view_name": "LayoutView",
      "align_content": null,
      "align_items": null,
      "align_self": null,
      "border": null,
      "bottom": null,
      "display": null,
      "flex": null,
      "flex_flow": null,
      "grid_area": null,
      "grid_auto_columns": null,
      "grid_auto_flow": null,
      "grid_auto_rows": null,
      "grid_column": null,
      "grid_gap": null,
      "grid_row": null,
      "grid_template_areas": null,
      "grid_template_columns": null,
      "grid_template_rows": null,
      "height": null,
      "justify_content": null,
      "justify_items": null,
      "left": null,
      "margin": null,
      "max_height": null,
      "max_width": null,
      "min_height": null,
      "min_width": null,
      "object_fit": null,
      "object_position": null,
      "order": null,
      "overflow": null,
      "overflow_x": null,
      "overflow_y": null,
      "padding": null,
      "right": null,
      "top": null,
      "visibility": null,
      "width": null
     }
    },
    "c452eb8a1c354a9c9fe8b43c68e994d3": {
     "model_module": "@jupyter-widgets/controls",
     "model_module_version": "1.5.0",
     "model_name": "DescriptionStyleModel",
     "state": {
      "_model_module": "@jupyter-widgets/controls",
      "_model_module_version": "1.5.0",
      "_model_name": "DescriptionStyleModel",
      "_view_count": null,
      "_view_module": "@jupyter-widgets/base",
      "_view_module_version": "1.2.0",
      "_view_name": "StyleView",
      "description_width": ""
     }
    },
    "c4da41fa0a444fb6a636e23095404b7d": {
     "model_module": "@jupyter-widgets/controls",
     "model_module_version": "1.5.0",
     "model_name": "DescriptionStyleModel",
     "state": {
      "_model_module": "@jupyter-widgets/controls",
      "_model_module_version": "1.5.0",
      "_model_name": "DescriptionStyleModel",
      "_view_count": null,
      "_view_module": "@jupyter-widgets/base",
      "_view_module_version": "1.2.0",
      "_view_name": "StyleView",
      "description_width": ""
     }
    },
    "c5237619d24a404fb0459c5769a4a550": {
     "model_module": "@jupyter-widgets/controls",
     "model_module_version": "1.5.0",
     "model_name": "HTMLModel",
     "state": {
      "_dom_classes": [],
      "_model_module": "@jupyter-widgets/controls",
      "_model_module_version": "1.5.0",
      "_model_name": "HTMLModel",
      "_view_count": null,
      "_view_module": "@jupyter-widgets/controls",
      "_view_module_version": "1.5.0",
      "_view_name": "HTMLView",
      "description": "",
      "description_tooltip": null,
      "layout": "IPY_MODEL_b1f8ed4a01b149f49c401f85b81a9152",
      "placeholder": "​",
      "style": "IPY_MODEL_016868cf755d452ca688369d8d46b370",
      "value": "100%"
     }
    },
    "c60f52d1ab8f4d90ab859cbdeca60d82": {
     "model_module": "@jupyter-widgets/base",
     "model_module_version": "1.2.0",
     "model_name": "LayoutModel",
     "state": {
      "_model_module": "@jupyter-widgets/base",
      "_model_module_version": "1.2.0",
      "_model_name": "LayoutModel",
      "_view_count": null,
      "_view_module": "@jupyter-widgets/base",
      "_view_module_version": "1.2.0",
      "_view_name": "LayoutView",
      "align_content": null,
      "align_items": null,
      "align_self": null,
      "border": null,
      "bottom": null,
      "display": null,
      "flex": null,
      "flex_flow": null,
      "grid_area": null,
      "grid_auto_columns": null,
      "grid_auto_flow": null,
      "grid_auto_rows": null,
      "grid_column": null,
      "grid_gap": null,
      "grid_row": null,
      "grid_template_areas": null,
      "grid_template_columns": null,
      "grid_template_rows": null,
      "height": null,
      "justify_content": null,
      "justify_items": null,
      "left": null,
      "margin": null,
      "max_height": null,
      "max_width": null,
      "min_height": null,
      "min_width": null,
      "object_fit": null,
      "object_position": null,
      "order": null,
      "overflow": null,
      "overflow_x": null,
      "overflow_y": null,
      "padding": null,
      "right": null,
      "top": null,
      "visibility": null,
      "width": null
     }
    },
    "c7ea228fcec94aab996a96ca9f67e8d2": {
     "model_module": "@jupyter-widgets/controls",
     "model_module_version": "1.5.0",
     "model_name": "DescriptionStyleModel",
     "state": {
      "_model_module": "@jupyter-widgets/controls",
      "_model_module_version": "1.5.0",
      "_model_name": "DescriptionStyleModel",
      "_view_count": null,
      "_view_module": "@jupyter-widgets/base",
      "_view_module_version": "1.2.0",
      "_view_name": "StyleView",
      "description_width": ""
     }
    },
    "c82c4424f9954f58b5109ce7ade702f1": {
     "model_module": "@jupyter-widgets/controls",
     "model_module_version": "1.5.0",
     "model_name": "FloatProgressModel",
     "state": {
      "_dom_classes": [],
      "_model_module": "@jupyter-widgets/controls",
      "_model_module_version": "1.5.0",
      "_model_name": "FloatProgressModel",
      "_view_count": null,
      "_view_module": "@jupyter-widgets/controls",
      "_view_module_version": "1.5.0",
      "_view_name": "ProgressView",
      "bar_style": "success",
      "description": "",
      "description_tooltip": null,
      "layout": "IPY_MODEL_13a50e079e514e6b9e8799f82cb52536",
      "max": 88,
      "min": 0,
      "orientation": "horizontal",
      "style": "IPY_MODEL_6e8b6d1b05384e2985d1e4ed0be1c4cc",
      "value": 88
     }
    },
    "c885e7f997404fed8ec550a2e2a0a4dd": {
     "model_module": "@jupyter-widgets/controls",
     "model_module_version": "1.5.0",
     "model_name": "ProgressStyleModel",
     "state": {
      "_model_module": "@jupyter-widgets/controls",
      "_model_module_version": "1.5.0",
      "_model_name": "ProgressStyleModel",
      "_view_count": null,
      "_view_module": "@jupyter-widgets/base",
      "_view_module_version": "1.2.0",
      "_view_name": "StyleView",
      "bar_color": null,
      "description_width": ""
     }
    },
    "c89bd7b0c41e41d3afdf58a1cc9eea40": {
     "model_module": "@jupyter-widgets/base",
     "model_module_version": "1.2.0",
     "model_name": "LayoutModel",
     "state": {
      "_model_module": "@jupyter-widgets/base",
      "_model_module_version": "1.2.0",
      "_model_name": "LayoutModel",
      "_view_count": null,
      "_view_module": "@jupyter-widgets/base",
      "_view_module_version": "1.2.0",
      "_view_name": "LayoutView",
      "align_content": null,
      "align_items": null,
      "align_self": null,
      "border": null,
      "bottom": null,
      "display": null,
      "flex": null,
      "flex_flow": null,
      "grid_area": null,
      "grid_auto_columns": null,
      "grid_auto_flow": null,
      "grid_auto_rows": null,
      "grid_column": null,
      "grid_gap": null,
      "grid_row": null,
      "grid_template_areas": null,
      "grid_template_columns": null,
      "grid_template_rows": null,
      "height": null,
      "justify_content": null,
      "justify_items": null,
      "left": null,
      "margin": null,
      "max_height": null,
      "max_width": null,
      "min_height": null,
      "min_width": null,
      "object_fit": null,
      "object_position": null,
      "order": null,
      "overflow": null,
      "overflow_x": null,
      "overflow_y": null,
      "padding": null,
      "right": null,
      "top": null,
      "visibility": null,
      "width": null
     }
    },
    "c8c052d619e345edab43af75cb3694bc": {
     "model_module": "@jupyter-widgets/controls",
     "model_module_version": "1.5.0",
     "model_name": "HTMLModel",
     "state": {
      "_dom_classes": [],
      "_model_module": "@jupyter-widgets/controls",
      "_model_module_version": "1.5.0",
      "_model_name": "HTMLModel",
      "_view_count": null,
      "_view_module": "@jupyter-widgets/controls",
      "_view_module_version": "1.5.0",
      "_view_name": "HTMLView",
      "description": "",
      "description_tooltip": null,
      "layout": "IPY_MODEL_e4e9979315404ca2859ce06290395c67",
      "placeholder": "​",
      "style": "IPY_MODEL_68983805f76c4cc88178a1e322f42c31",
      "value": "100%"
     }
    },
    "c929aadd4d544366bb58b370ddfbbff1": {
     "model_module": "@jupyter-widgets/controls",
     "model_module_version": "1.5.0",
     "model_name": "ProgressStyleModel",
     "state": {
      "_model_module": "@jupyter-widgets/controls",
      "_model_module_version": "1.5.0",
      "_model_name": "ProgressStyleModel",
      "_view_count": null,
      "_view_module": "@jupyter-widgets/base",
      "_view_module_version": "1.2.0",
      "_view_name": "StyleView",
      "bar_color": null,
      "description_width": ""
     }
    },
    "ca8dea293eef47bc84d9eb189f4840fd": {
     "model_module": "@jupyter-widgets/controls",
     "model_module_version": "1.5.0",
     "model_name": "HTMLModel",
     "state": {
      "_dom_classes": [],
      "_model_module": "@jupyter-widgets/controls",
      "_model_module_version": "1.5.0",
      "_model_name": "HTMLModel",
      "_view_count": null,
      "_view_module": "@jupyter-widgets/controls",
      "_view_module_version": "1.5.0",
      "_view_name": "HTMLView",
      "description": "",
      "description_tooltip": null,
      "layout": "IPY_MODEL_50f2c277d4404cff9f6058e6b2d9a472",
      "placeholder": "​",
      "style": "IPY_MODEL_a99bd2a593cc4e0d94b7610d2b345c11",
      "value": "Epochs 10/12. Running Loss:    0.9957: 100%"
     }
    },
    "cbeeb003961148249946908c44d2b81b": {
     "model_module": "@jupyter-widgets/controls",
     "model_module_version": "1.5.0",
     "model_name": "DescriptionStyleModel",
     "state": {
      "_model_module": "@jupyter-widgets/controls",
      "_model_module_version": "1.5.0",
      "_model_name": "DescriptionStyleModel",
      "_view_count": null,
      "_view_module": "@jupyter-widgets/base",
      "_view_module_version": "1.2.0",
      "_view_name": "StyleView",
      "description_width": ""
     }
    },
    "cf03603c81af4438951d4d5ee27ee940": {
     "model_module": "@jupyter-widgets/base",
     "model_module_version": "1.2.0",
     "model_name": "LayoutModel",
     "state": {
      "_model_module": "@jupyter-widgets/base",
      "_model_module_version": "1.2.0",
      "_model_name": "LayoutModel",
      "_view_count": null,
      "_view_module": "@jupyter-widgets/base",
      "_view_module_version": "1.2.0",
      "_view_name": "LayoutView",
      "align_content": null,
      "align_items": null,
      "align_self": null,
      "border": null,
      "bottom": null,
      "display": null,
      "flex": null,
      "flex_flow": null,
      "grid_area": null,
      "grid_auto_columns": null,
      "grid_auto_flow": null,
      "grid_auto_rows": null,
      "grid_column": null,
      "grid_gap": null,
      "grid_row": null,
      "grid_template_areas": null,
      "grid_template_columns": null,
      "grid_template_rows": null,
      "height": null,
      "justify_content": null,
      "justify_items": null,
      "left": null,
      "margin": null,
      "max_height": null,
      "max_width": null,
      "min_height": null,
      "min_width": null,
      "object_fit": null,
      "object_position": null,
      "order": null,
      "overflow": null,
      "overflow_x": null,
      "overflow_y": null,
      "padding": null,
      "right": null,
      "top": null,
      "visibility": null,
      "width": null
     }
    },
    "cfa8c7023fe642409294a2e3252bb0e3": {
     "model_module": "@jupyter-widgets/base",
     "model_module_version": "1.2.0",
     "model_name": "LayoutModel",
     "state": {
      "_model_module": "@jupyter-widgets/base",
      "_model_module_version": "1.2.0",
      "_model_name": "LayoutModel",
      "_view_count": null,
      "_view_module": "@jupyter-widgets/base",
      "_view_module_version": "1.2.0",
      "_view_name": "LayoutView",
      "align_content": null,
      "align_items": null,
      "align_self": null,
      "border": null,
      "bottom": null,
      "display": null,
      "flex": null,
      "flex_flow": null,
      "grid_area": null,
      "grid_auto_columns": null,
      "grid_auto_flow": null,
      "grid_auto_rows": null,
      "grid_column": null,
      "grid_gap": null,
      "grid_row": null,
      "grid_template_areas": null,
      "grid_template_columns": null,
      "grid_template_rows": null,
      "height": null,
      "justify_content": null,
      "justify_items": null,
      "left": null,
      "margin": null,
      "max_height": null,
      "max_width": null,
      "min_height": null,
      "min_width": null,
      "object_fit": null,
      "object_position": null,
      "order": null,
      "overflow": null,
      "overflow_x": null,
      "overflow_y": null,
      "padding": null,
      "right": null,
      "top": null,
      "visibility": null,
      "width": null
     }
    },
    "d24bbdb8a8c24aa9886a278aeb1cefec": {
     "model_module": "@jupyter-widgets/controls",
     "model_module_version": "1.5.0",
     "model_name": "HTMLModel",
     "state": {
      "_dom_classes": [],
      "_model_module": "@jupyter-widgets/controls",
      "_model_module_version": "1.5.0",
      "_model_name": "HTMLModel",
      "_view_count": null,
      "_view_module": "@jupyter-widgets/controls",
      "_view_module_version": "1.5.0",
      "_view_name": "HTMLView",
      "description": "",
      "description_tooltip": null,
      "layout": "IPY_MODEL_8263e1b41bee42f4902cdf685754795f",
      "placeholder": "​",
      "style": "IPY_MODEL_0feeff43eecb4f12bcbd42338676dede",
      "value": " 88/88 [00:38&lt;00:00,  2.83it/s]"
     }
    },
    "d3237388f67c4bb6b9fa1cdf93bb9f7d": {
     "model_module": "@jupyter-widgets/base",
     "model_module_version": "1.2.0",
     "model_name": "LayoutModel",
     "state": {
      "_model_module": "@jupyter-widgets/base",
      "_model_module_version": "1.2.0",
      "_model_name": "LayoutModel",
      "_view_count": null,
      "_view_module": "@jupyter-widgets/base",
      "_view_module_version": "1.2.0",
      "_view_name": "LayoutView",
      "align_content": null,
      "align_items": null,
      "align_self": null,
      "border": null,
      "bottom": null,
      "display": null,
      "flex": null,
      "flex_flow": null,
      "grid_area": null,
      "grid_auto_columns": null,
      "grid_auto_flow": null,
      "grid_auto_rows": null,
      "grid_column": null,
      "grid_gap": null,
      "grid_row": null,
      "grid_template_areas": null,
      "grid_template_columns": null,
      "grid_template_rows": null,
      "height": null,
      "justify_content": null,
      "justify_items": null,
      "left": null,
      "margin": null,
      "max_height": null,
      "max_width": null,
      "min_height": null,
      "min_width": null,
      "object_fit": null,
      "object_position": null,
      "order": null,
      "overflow": null,
      "overflow_x": null,
      "overflow_y": null,
      "padding": null,
      "right": null,
      "top": null,
      "visibility": null,
      "width": null
     }
    },
    "d54194b73b284dbc9d5ac9ff7753a819": {
     "model_module": "@jupyter-widgets/base",
     "model_module_version": "1.2.0",
     "model_name": "LayoutModel",
     "state": {
      "_model_module": "@jupyter-widgets/base",
      "_model_module_version": "1.2.0",
      "_model_name": "LayoutModel",
      "_view_count": null,
      "_view_module": "@jupyter-widgets/base",
      "_view_module_version": "1.2.0",
      "_view_name": "LayoutView",
      "align_content": null,
      "align_items": null,
      "align_self": null,
      "border": null,
      "bottom": null,
      "display": null,
      "flex": null,
      "flex_flow": null,
      "grid_area": null,
      "grid_auto_columns": null,
      "grid_auto_flow": null,
      "grid_auto_rows": null,
      "grid_column": null,
      "grid_gap": null,
      "grid_row": null,
      "grid_template_areas": null,
      "grid_template_columns": null,
      "grid_template_rows": null,
      "height": null,
      "justify_content": null,
      "justify_items": null,
      "left": null,
      "margin": null,
      "max_height": null,
      "max_width": null,
      "min_height": null,
      "min_width": null,
      "object_fit": null,
      "object_position": null,
      "order": null,
      "overflow": null,
      "overflow_x": null,
      "overflow_y": null,
      "padding": null,
      "right": null,
      "top": null,
      "visibility": null,
      "width": null
     }
    },
    "d611fb296ca54178a47c652e545a1ae0": {
     "model_module": "@jupyter-widgets/controls",
     "model_module_version": "1.5.0",
     "model_name": "FloatProgressModel",
     "state": {
      "_dom_classes": [],
      "_model_module": "@jupyter-widgets/controls",
      "_model_module_version": "1.5.0",
      "_model_name": "FloatProgressModel",
      "_view_count": null,
      "_view_module": "@jupyter-widgets/controls",
      "_view_module_version": "1.5.0",
      "_view_name": "ProgressView",
      "bar_style": "success",
      "description": "",
      "description_tooltip": null,
      "layout": "IPY_MODEL_468908b5397d4f75b0bf747780b286fb",
      "max": 654,
      "min": 0,
      "orientation": "horizontal",
      "style": "IPY_MODEL_104d1d3c4abe4c469d0cfaa9797555c7",
      "value": 654
     }
    },
    "d709a8bd0d8d43238684fb592af27df1": {
     "model_module": "@jupyter-widgets/controls",
     "model_module_version": "1.5.0",
     "model_name": "HTMLModel",
     "state": {
      "_dom_classes": [],
      "_model_module": "@jupyter-widgets/controls",
      "_model_module_version": "1.5.0",
      "_model_name": "HTMLModel",
      "_view_count": null,
      "_view_module": "@jupyter-widgets/controls",
      "_view_module_version": "1.5.0",
      "_view_name": "HTMLView",
      "description": "",
      "description_tooltip": null,
      "layout": "IPY_MODEL_cf03603c81af4438951d4d5ee27ee940",
      "placeholder": "​",
      "style": "IPY_MODEL_5a9d4876a31a40309bb8758de0523a93",
      "value": "Epochs 3/12. Running Loss:    1.6537: 100%"
     }
    },
    "d83d397a128a44a7aa868018f0bc02d2": {
     "model_module": "@jupyter-widgets/controls",
     "model_module_version": "1.5.0",
     "model_name": "LabelModel",
     "state": {
      "_dom_classes": [],
      "_model_module": "@jupyter-widgets/controls",
      "_model_module_version": "1.5.0",
      "_model_name": "LabelModel",
      "_view_count": null,
      "_view_module": "@jupyter-widgets/controls",
      "_view_module_version": "1.5.0",
      "_view_name": "LabelView",
      "description": "",
      "description_tooltip": null,
      "layout": "IPY_MODEL_939449cb321349e3ad254374ca6f190b",
      "placeholder": "​",
      "style": "IPY_MODEL_3c077cf4a994417097028c3674f650b7",
      "value": " 0.01MB of 0.01MB uploaded (0.00MB deduped)\r"
     }
    },
    "d8f04eaddcc44844b12b264c74d97660": {
     "model_module": "@jupyter-widgets/base",
     "model_module_version": "1.2.0",
     "model_name": "LayoutModel",
     "state": {
      "_model_module": "@jupyter-widgets/base",
      "_model_module_version": "1.2.0",
      "_model_name": "LayoutModel",
      "_view_count": null,
      "_view_module": "@jupyter-widgets/base",
      "_view_module_version": "1.2.0",
      "_view_name": "LayoutView",
      "align_content": null,
      "align_items": null,
      "align_self": null,
      "border": null,
      "bottom": null,
      "display": null,
      "flex": null,
      "flex_flow": null,
      "grid_area": null,
      "grid_auto_columns": null,
      "grid_auto_flow": null,
      "grid_auto_rows": null,
      "grid_column": null,
      "grid_gap": null,
      "grid_row": null,
      "grid_template_areas": null,
      "grid_template_columns": null,
      "grid_template_rows": null,
      "height": null,
      "justify_content": null,
      "justify_items": null,
      "left": null,
      "margin": null,
      "max_height": null,
      "max_width": null,
      "min_height": null,
      "min_width": null,
      "object_fit": null,
      "object_position": null,
      "order": null,
      "overflow": null,
      "overflow_x": null,
      "overflow_y": null,
      "padding": null,
      "right": null,
      "top": null,
      "visibility": null,
      "width": null
     }
    },
    "d8fa2882ac6b4f2cb4479a45d6fdc1bf": {
     "model_module": "@jupyter-widgets/controls",
     "model_module_version": "1.5.0",
     "model_name": "ProgressStyleModel",
     "state": {
      "_model_module": "@jupyter-widgets/controls",
      "_model_module_version": "1.5.0",
      "_model_name": "ProgressStyleModel",
      "_view_count": null,
      "_view_module": "@jupyter-widgets/base",
      "_view_module_version": "1.2.0",
      "_view_name": "StyleView",
      "bar_color": null,
      "description_width": ""
     }
    },
    "da26e3a4ebf64e7fa7a4a0a5fbcb5891": {
     "model_module": "@jupyter-widgets/controls",
     "model_module_version": "1.5.0",
     "model_name": "FloatProgressModel",
     "state": {
      "_dom_classes": [],
      "_model_module": "@jupyter-widgets/controls",
      "_model_module_version": "1.5.0",
      "_model_name": "FloatProgressModel",
      "_view_count": null,
      "_view_module": "@jupyter-widgets/controls",
      "_view_module_version": "1.5.0",
      "_view_name": "ProgressView",
      "bar_style": "success",
      "description": "",
      "description_tooltip": null,
      "layout": "IPY_MODEL_0404498b044846a68a1973717c338bb0",
      "max": 82,
      "min": 0,
      "orientation": "horizontal",
      "style": "IPY_MODEL_de932e3b963043fb9cb2f8820579fab4",
      "value": 82
     }
    },
    "da485b248eb54f12abb12e69ff6c34a6": {
     "model_module": "@jupyter-widgets/base",
     "model_module_version": "1.2.0",
     "model_name": "LayoutModel",
     "state": {
      "_model_module": "@jupyter-widgets/base",
      "_model_module_version": "1.2.0",
      "_model_name": "LayoutModel",
      "_view_count": null,
      "_view_module": "@jupyter-widgets/base",
      "_view_module_version": "1.2.0",
      "_view_name": "LayoutView",
      "align_content": null,
      "align_items": null,
      "align_self": null,
      "border": null,
      "bottom": null,
      "display": null,
      "flex": null,
      "flex_flow": null,
      "grid_area": null,
      "grid_auto_columns": null,
      "grid_auto_flow": null,
      "grid_auto_rows": null,
      "grid_column": null,
      "grid_gap": null,
      "grid_row": null,
      "grid_template_areas": null,
      "grid_template_columns": null,
      "grid_template_rows": null,
      "height": null,
      "justify_content": null,
      "justify_items": null,
      "left": null,
      "margin": null,
      "max_height": null,
      "max_width": null,
      "min_height": null,
      "min_width": null,
      "object_fit": null,
      "object_position": null,
      "order": null,
      "overflow": null,
      "overflow_x": null,
      "overflow_y": null,
      "padding": null,
      "right": null,
      "top": null,
      "visibility": null,
      "width": null
     }
    },
    "db1a4351f33949f2874f59244494ac8f": {
     "model_module": "@jupyter-widgets/controls",
     "model_module_version": "1.5.0",
     "model_name": "DescriptionStyleModel",
     "state": {
      "_model_module": "@jupyter-widgets/controls",
      "_model_module_version": "1.5.0",
      "_model_name": "DescriptionStyleModel",
      "_view_count": null,
      "_view_module": "@jupyter-widgets/base",
      "_view_module_version": "1.2.0",
      "_view_name": "StyleView",
      "description_width": ""
     }
    },
    "dc6c7a290c5342ce985f55e560c89ef5": {
     "model_module": "@jupyter-widgets/controls",
     "model_module_version": "1.5.0",
     "model_name": "HTMLModel",
     "state": {
      "_dom_classes": [],
      "_model_module": "@jupyter-widgets/controls",
      "_model_module_version": "1.5.0",
      "_model_name": "HTMLModel",
      "_view_count": null,
      "_view_module": "@jupyter-widgets/controls",
      "_view_module_version": "1.5.0",
      "_view_name": "HTMLView",
      "description": "",
      "description_tooltip": null,
      "layout": "IPY_MODEL_f160775be32e409e85971f3f3d979b5b",
      "placeholder": "​",
      "style": "IPY_MODEL_b042e53b30134b0387b0c1ab3806d888",
      "value": "100%"
     }
    },
    "de01e68e8c3d4bc29d09dd2a6a081aee": {
     "model_module": "@jupyter-widgets/base",
     "model_module_version": "1.2.0",
     "model_name": "LayoutModel",
     "state": {
      "_model_module": "@jupyter-widgets/base",
      "_model_module_version": "1.2.0",
      "_model_name": "LayoutModel",
      "_view_count": null,
      "_view_module": "@jupyter-widgets/base",
      "_view_module_version": "1.2.0",
      "_view_name": "LayoutView",
      "align_content": null,
      "align_items": null,
      "align_self": null,
      "border": null,
      "bottom": null,
      "display": null,
      "flex": null,
      "flex_flow": null,
      "grid_area": null,
      "grid_auto_columns": null,
      "grid_auto_flow": null,
      "grid_auto_rows": null,
      "grid_column": null,
      "grid_gap": null,
      "grid_row": null,
      "grid_template_areas": null,
      "grid_template_columns": null,
      "grid_template_rows": null,
      "height": null,
      "justify_content": null,
      "justify_items": null,
      "left": null,
      "margin": null,
      "max_height": null,
      "max_width": null,
      "min_height": null,
      "min_width": null,
      "object_fit": null,
      "object_position": null,
      "order": null,
      "overflow": null,
      "overflow_x": null,
      "overflow_y": null,
      "padding": null,
      "right": null,
      "top": null,
      "visibility": null,
      "width": null
     }
    },
    "de932e3b963043fb9cb2f8820579fab4": {
     "model_module": "@jupyter-widgets/controls",
     "model_module_version": "1.5.0",
     "model_name": "ProgressStyleModel",
     "state": {
      "_model_module": "@jupyter-widgets/controls",
      "_model_module_version": "1.5.0",
      "_model_name": "ProgressStyleModel",
      "_view_count": null,
      "_view_module": "@jupyter-widgets/base",
      "_view_module_version": "1.2.0",
      "_view_name": "StyleView",
      "bar_color": null,
      "description_width": ""
     }
    },
    "e057f81dcd9e45958e8bb9a4921c3f8a": {
     "model_module": "@jupyter-widgets/base",
     "model_module_version": "1.2.0",
     "model_name": "LayoutModel",
     "state": {
      "_model_module": "@jupyter-widgets/base",
      "_model_module_version": "1.2.0",
      "_model_name": "LayoutModel",
      "_view_count": null,
      "_view_module": "@jupyter-widgets/base",
      "_view_module_version": "1.2.0",
      "_view_name": "LayoutView",
      "align_content": null,
      "align_items": null,
      "align_self": null,
      "border": null,
      "bottom": null,
      "display": null,
      "flex": null,
      "flex_flow": null,
      "grid_area": null,
      "grid_auto_columns": null,
      "grid_auto_flow": null,
      "grid_auto_rows": null,
      "grid_column": null,
      "grid_gap": null,
      "grid_row": null,
      "grid_template_areas": null,
      "grid_template_columns": null,
      "grid_template_rows": null,
      "height": null,
      "justify_content": null,
      "justify_items": null,
      "left": null,
      "margin": null,
      "max_height": null,
      "max_width": null,
      "min_height": null,
      "min_width": null,
      "object_fit": null,
      "object_position": null,
      "order": null,
      "overflow": null,
      "overflow_x": null,
      "overflow_y": null,
      "padding": null,
      "right": null,
      "top": null,
      "visibility": null,
      "width": null
     }
    },
    "e084a6ca3ba8484ba92202065036d832": {
     "model_module": "@jupyter-widgets/controls",
     "model_module_version": "1.5.0",
     "model_name": "DescriptionStyleModel",
     "state": {
      "_model_module": "@jupyter-widgets/controls",
      "_model_module_version": "1.5.0",
      "_model_name": "DescriptionStyleModel",
      "_view_count": null,
      "_view_module": "@jupyter-widgets/base",
      "_view_module_version": "1.2.0",
      "_view_name": "StyleView",
      "description_width": ""
     }
    },
    "e130b161d8ae44ad8d1a406ee00d9004": {
     "model_module": "@jupyter-widgets/base",
     "model_module_version": "1.2.0",
     "model_name": "LayoutModel",
     "state": {
      "_model_module": "@jupyter-widgets/base",
      "_model_module_version": "1.2.0",
      "_model_name": "LayoutModel",
      "_view_count": null,
      "_view_module": "@jupyter-widgets/base",
      "_view_module_version": "1.2.0",
      "_view_name": "LayoutView",
      "align_content": null,
      "align_items": null,
      "align_self": null,
      "border": null,
      "bottom": null,
      "display": null,
      "flex": null,
      "flex_flow": null,
      "grid_area": null,
      "grid_auto_columns": null,
      "grid_auto_flow": null,
      "grid_auto_rows": null,
      "grid_column": null,
      "grid_gap": null,
      "grid_row": null,
      "grid_template_areas": null,
      "grid_template_columns": null,
      "grid_template_rows": null,
      "height": null,
      "justify_content": null,
      "justify_items": null,
      "left": null,
      "margin": null,
      "max_height": null,
      "max_width": null,
      "min_height": null,
      "min_width": null,
      "object_fit": null,
      "object_position": null,
      "order": null,
      "overflow": null,
      "overflow_x": null,
      "overflow_y": null,
      "padding": null,
      "right": null,
      "top": null,
      "visibility": null,
      "width": null
     }
    },
    "e20192c0b1094fc0b1c73ef1ba619210": {
     "model_module": "@jupyter-widgets/controls",
     "model_module_version": "1.5.0",
     "model_name": "ProgressStyleModel",
     "state": {
      "_model_module": "@jupyter-widgets/controls",
      "_model_module_version": "1.5.0",
      "_model_name": "ProgressStyleModel",
      "_view_count": null,
      "_view_module": "@jupyter-widgets/base",
      "_view_module_version": "1.2.0",
      "_view_name": "StyleView",
      "bar_color": null,
      "description_width": ""
     }
    },
    "e24fc15730744c96b38d2bc8b5fbeced": {
     "model_module": "@jupyter-widgets/controls",
     "model_module_version": "1.5.0",
     "model_name": "ProgressStyleModel",
     "state": {
      "_model_module": "@jupyter-widgets/controls",
      "_model_module_version": "1.5.0",
      "_model_name": "ProgressStyleModel",
      "_view_count": null,
      "_view_module": "@jupyter-widgets/base",
      "_view_module_version": "1.2.0",
      "_view_name": "StyleView",
      "bar_color": null,
      "description_width": ""
     }
    },
    "e255e89709dd45a5bb5d29499fc9ec70": {
     "model_module": "@jupyter-widgets/controls",
     "model_module_version": "1.5.0",
     "model_name": "FloatProgressModel",
     "state": {
      "_dom_classes": [],
      "_model_module": "@jupyter-widgets/controls",
      "_model_module_version": "1.5.0",
      "_model_name": "FloatProgressModel",
      "_view_count": null,
      "_view_module": "@jupyter-widgets/controls",
      "_view_module_version": "1.5.0",
      "_view_name": "ProgressView",
      "bar_style": "success",
      "description": "",
      "description_tooltip": null,
      "layout": "IPY_MODEL_49eb18f07a494066bc2bf1aca2f6dc96",
      "max": 88,
      "min": 0,
      "orientation": "horizontal",
      "style": "IPY_MODEL_c885e7f997404fed8ec550a2e2a0a4dd",
      "value": 88
     }
    },
    "e2d0f978cbf9483fb5ea272ebd9cf4d7": {
     "model_module": "@jupyter-widgets/controls",
     "model_module_version": "1.5.0",
     "model_name": "DescriptionStyleModel",
     "state": {
      "_model_module": "@jupyter-widgets/controls",
      "_model_module_version": "1.5.0",
      "_model_name": "DescriptionStyleModel",
      "_view_count": null,
      "_view_module": "@jupyter-widgets/base",
      "_view_module_version": "1.2.0",
      "_view_name": "StyleView",
      "description_width": ""
     }
    },
    "e3ddb3a627c44aaca08e4fcedcf67875": {
     "model_module": "@jupyter-widgets/controls",
     "model_module_version": "1.5.0",
     "model_name": "HBoxModel",
     "state": {
      "_dom_classes": [],
      "_model_module": "@jupyter-widgets/controls",
      "_model_module_version": "1.5.0",
      "_model_name": "HBoxModel",
      "_view_count": null,
      "_view_module": "@jupyter-widgets/controls",
      "_view_module_version": "1.5.0",
      "_view_name": "HBoxView",
      "box_style": "",
      "children": [
       "IPY_MODEL_eed9797ddb614413afa9c332d695b93c",
       "IPY_MODEL_a3355d45624d43c09790817ace0556a6",
       "IPY_MODEL_f427df0028af4869bdaeefe34e0c2732"
      ],
      "layout": "IPY_MODEL_19e9db7db2f04736b1d0a5ced15ad2fd"
     }
    },
    "e41720049b30475cb767c8cc6a0fe84d": {
     "model_module": "@jupyter-widgets/controls",
     "model_module_version": "1.5.0",
     "model_name": "HTMLModel",
     "state": {
      "_dom_classes": [],
      "_model_module": "@jupyter-widgets/controls",
      "_model_module_version": "1.5.0",
      "_model_name": "HTMLModel",
      "_view_count": null,
      "_view_module": "@jupyter-widgets/controls",
      "_view_module_version": "1.5.0",
      "_view_name": "HTMLView",
      "description": "",
      "description_tooltip": null,
      "layout": "IPY_MODEL_0abad0acf1544247b3dd9a916254d4a6",
      "placeholder": "​",
      "style": "IPY_MODEL_aa9c3272c53e4b5ba0b7019c8d4b4eaf",
      "value": " 654/654 [00:31&lt;00:00, 21.08it/s]"
     }
    },
    "e47d30f4002a422da028a55f22f61a2a": {
     "model_module": "@jupyter-widgets/base",
     "model_module_version": "1.2.0",
     "model_name": "LayoutModel",
     "state": {
      "_model_module": "@jupyter-widgets/base",
      "_model_module_version": "1.2.0",
      "_model_name": "LayoutModel",
      "_view_count": null,
      "_view_module": "@jupyter-widgets/base",
      "_view_module_version": "1.2.0",
      "_view_name": "LayoutView",
      "align_content": null,
      "align_items": null,
      "align_self": null,
      "border": null,
      "bottom": null,
      "display": null,
      "flex": null,
      "flex_flow": null,
      "grid_area": null,
      "grid_auto_columns": null,
      "grid_auto_flow": null,
      "grid_auto_rows": null,
      "grid_column": null,
      "grid_gap": null,
      "grid_row": null,
      "grid_template_areas": null,
      "grid_template_columns": null,
      "grid_template_rows": null,
      "height": null,
      "justify_content": null,
      "justify_items": null,
      "left": null,
      "margin": null,
      "max_height": null,
      "max_width": null,
      "min_height": null,
      "min_width": null,
      "object_fit": null,
      "object_position": null,
      "order": null,
      "overflow": null,
      "overflow_x": null,
      "overflow_y": null,
      "padding": null,
      "right": null,
      "top": null,
      "visibility": null,
      "width": null
     }
    },
    "e4e9979315404ca2859ce06290395c67": {
     "model_module": "@jupyter-widgets/base",
     "model_module_version": "1.2.0",
     "model_name": "LayoutModel",
     "state": {
      "_model_module": "@jupyter-widgets/base",
      "_model_module_version": "1.2.0",
      "_model_name": "LayoutModel",
      "_view_count": null,
      "_view_module": "@jupyter-widgets/base",
      "_view_module_version": "1.2.0",
      "_view_name": "LayoutView",
      "align_content": null,
      "align_items": null,
      "align_self": null,
      "border": null,
      "bottom": null,
      "display": null,
      "flex": null,
      "flex_flow": null,
      "grid_area": null,
      "grid_auto_columns": null,
      "grid_auto_flow": null,
      "grid_auto_rows": null,
      "grid_column": null,
      "grid_gap": null,
      "grid_row": null,
      "grid_template_areas": null,
      "grid_template_columns": null,
      "grid_template_rows": null,
      "height": null,
      "justify_content": null,
      "justify_items": null,
      "left": null,
      "margin": null,
      "max_height": null,
      "max_width": null,
      "min_height": null,
      "min_width": null,
      "object_fit": null,
      "object_position": null,
      "order": null,
      "overflow": null,
      "overflow_x": null,
      "overflow_y": null,
      "padding": null,
      "right": null,
      "top": null,
      "visibility": null,
      "width": null
     }
    },
    "e584126fe6334bd894eae2a1eee40edf": {
     "model_module": "@jupyter-widgets/controls",
     "model_module_version": "1.5.0",
     "model_name": "HBoxModel",
     "state": {
      "_dom_classes": [],
      "_model_module": "@jupyter-widgets/controls",
      "_model_module_version": "1.5.0",
      "_model_name": "HBoxModel",
      "_view_count": null,
      "_view_module": "@jupyter-widgets/controls",
      "_view_module_version": "1.5.0",
      "_view_name": "HBoxView",
      "box_style": "",
      "children": [
       "IPY_MODEL_0141219afc1143719f10fa5a99842af4",
       "IPY_MODEL_9d6bacb8b14c4a968c5a6ca1eee159f0",
       "IPY_MODEL_4e1ead4108de4bc4bd2a6bd9564cbe11"
      ],
      "layout": "IPY_MODEL_7a9aacf62df949c1bc0f8202d4341b15"
     }
    },
    "e598429ed41c42c78e395b305a8b2049": {
     "model_module": "@jupyter-widgets/base",
     "model_module_version": "1.2.0",
     "model_name": "LayoutModel",
     "state": {
      "_model_module": "@jupyter-widgets/base",
      "_model_module_version": "1.2.0",
      "_model_name": "LayoutModel",
      "_view_count": null,
      "_view_module": "@jupyter-widgets/base",
      "_view_module_version": "1.2.0",
      "_view_name": "LayoutView",
      "align_content": null,
      "align_items": null,
      "align_self": null,
      "border": null,
      "bottom": null,
      "display": null,
      "flex": null,
      "flex_flow": null,
      "grid_area": null,
      "grid_auto_columns": null,
      "grid_auto_flow": null,
      "grid_auto_rows": null,
      "grid_column": null,
      "grid_gap": null,
      "grid_row": null,
      "grid_template_areas": null,
      "grid_template_columns": null,
      "grid_template_rows": null,
      "height": null,
      "justify_content": null,
      "justify_items": null,
      "left": null,
      "margin": null,
      "max_height": null,
      "max_width": null,
      "min_height": null,
      "min_width": null,
      "object_fit": null,
      "object_position": null,
      "order": null,
      "overflow": null,
      "overflow_x": null,
      "overflow_y": null,
      "padding": null,
      "right": null,
      "top": null,
      "visibility": null,
      "width": null
     }
    },
    "e9fd1d5b97e04c799beaa09707bc0fc8": {
     "model_module": "@jupyter-widgets/base",
     "model_module_version": "1.2.0",
     "model_name": "LayoutModel",
     "state": {
      "_model_module": "@jupyter-widgets/base",
      "_model_module_version": "1.2.0",
      "_model_name": "LayoutModel",
      "_view_count": null,
      "_view_module": "@jupyter-widgets/base",
      "_view_module_version": "1.2.0",
      "_view_name": "LayoutView",
      "align_content": null,
      "align_items": null,
      "align_self": null,
      "border": null,
      "bottom": null,
      "display": null,
      "flex": null,
      "flex_flow": null,
      "grid_area": null,
      "grid_auto_columns": null,
      "grid_auto_flow": null,
      "grid_auto_rows": null,
      "grid_column": null,
      "grid_gap": null,
      "grid_row": null,
      "grid_template_areas": null,
      "grid_template_columns": null,
      "grid_template_rows": null,
      "height": null,
      "justify_content": null,
      "justify_items": null,
      "left": null,
      "margin": null,
      "max_height": null,
      "max_width": null,
      "min_height": null,
      "min_width": null,
      "object_fit": null,
      "object_position": null,
      "order": null,
      "overflow": null,
      "overflow_x": null,
      "overflow_y": null,
      "padding": null,
      "right": null,
      "top": null,
      "visibility": null,
      "width": null
     }
    },
    "ea9c7df7196f4d52986f622ca04038f9": {
     "model_module": "@jupyter-widgets/controls",
     "model_module_version": "1.5.0",
     "model_name": "HTMLModel",
     "state": {
      "_dom_classes": [],
      "_model_module": "@jupyter-widgets/controls",
      "_model_module_version": "1.5.0",
      "_model_name": "HTMLModel",
      "_view_count": null,
      "_view_module": "@jupyter-widgets/controls",
      "_view_module_version": "1.5.0",
      "_view_name": "HTMLView",
      "description": "",
      "description_tooltip": null,
      "layout": "IPY_MODEL_de01e68e8c3d4bc29d09dd2a6a081aee",
      "placeholder": "​",
      "style": "IPY_MODEL_db1a4351f33949f2874f59244494ac8f",
      "value": " 88/88 [00:38&lt;00:00,  2.82it/s]"
     }
    },
    "ecc595347ddf40e3890c3575840326a4": {
     "model_module": "@jupyter-widgets/controls",
     "model_module_version": "1.5.0",
     "model_name": "FloatProgressModel",
     "state": {
      "_dom_classes": [],
      "_model_module": "@jupyter-widgets/controls",
      "_model_module_version": "1.5.0",
      "_model_name": "FloatProgressModel",
      "_view_count": null,
      "_view_module": "@jupyter-widgets/controls",
      "_view_module_version": "1.5.0",
      "_view_name": "ProgressView",
      "bar_style": "success",
      "description": "",
      "description_tooltip": null,
      "layout": "IPY_MODEL_e057f81dcd9e45958e8bb9a4921c3f8a",
      "max": 654,
      "min": 0,
      "orientation": "horizontal",
      "style": "IPY_MODEL_c3876a7344ac493380ef937cbff2710c",
      "value": 654
     }
    },
    "ed0eb0a15f9e40f9b1a87646b702003a": {
     "model_module": "@jupyter-widgets/controls",
     "model_module_version": "1.5.0",
     "model_name": "HTMLModel",
     "state": {
      "_dom_classes": [],
      "_model_module": "@jupyter-widgets/controls",
      "_model_module_version": "1.5.0",
      "_model_name": "HTMLModel",
      "_view_count": null,
      "_view_module": "@jupyter-widgets/controls",
      "_view_module_version": "1.5.0",
      "_view_name": "HTMLView",
      "description": "",
      "description_tooltip": null,
      "layout": "IPY_MODEL_e9fd1d5b97e04c799beaa09707bc0fc8",
      "placeholder": "​",
      "style": "IPY_MODEL_3c7c922bb0204299bbae71e55569589b",
      "value": " 88/88 [00:38&lt;00:00,  2.83it/s]"
     }
    },
    "eed9797ddb614413afa9c332d695b93c": {
     "model_module": "@jupyter-widgets/controls",
     "model_module_version": "1.5.0",
     "model_name": "HTMLModel",
     "state": {
      "_dom_classes": [],
      "_model_module": "@jupyter-widgets/controls",
      "_model_module_version": "1.5.0",
      "_model_name": "HTMLModel",
      "_view_count": null,
      "_view_module": "@jupyter-widgets/controls",
      "_view_module_version": "1.5.0",
      "_view_name": "HTMLView",
      "description": "",
      "description_tooltip": null,
      "layout": "IPY_MODEL_a55a9672c3d0447f97ffb38d1c4d15d2",
      "placeholder": "​",
      "style": "IPY_MODEL_73242d9fa66f41eba062ae3d0da287bf",
      "value": "Epochs 5/12. Running Loss:    1.2085: 100%"
     }
    },
    "f0d2aac6cc404a8394c2d0196e4ecb82": {
     "model_module": "@jupyter-widgets/base",
     "model_module_version": "1.2.0",
     "model_name": "LayoutModel",
     "state": {
      "_model_module": "@jupyter-widgets/base",
      "_model_module_version": "1.2.0",
      "_model_name": "LayoutModel",
      "_view_count": null,
      "_view_module": "@jupyter-widgets/base",
      "_view_module_version": "1.2.0",
      "_view_name": "LayoutView",
      "align_content": null,
      "align_items": null,
      "align_self": null,
      "border": null,
      "bottom": null,
      "display": null,
      "flex": null,
      "flex_flow": null,
      "grid_area": null,
      "grid_auto_columns": null,
      "grid_auto_flow": null,
      "grid_auto_rows": null,
      "grid_column": null,
      "grid_gap": null,
      "grid_row": null,
      "grid_template_areas": null,
      "grid_template_columns": null,
      "grid_template_rows": null,
      "height": null,
      "justify_content": null,
      "justify_items": null,
      "left": null,
      "margin": null,
      "max_height": null,
      "max_width": null,
      "min_height": null,
      "min_width": null,
      "object_fit": null,
      "object_position": null,
      "order": null,
      "overflow": null,
      "overflow_x": null,
      "overflow_y": null,
      "padding": null,
      "right": null,
      "top": null,
      "visibility": null,
      "width": null
     }
    },
    "f1457426a085442490af65db8cc99fbc": {
     "model_module": "@jupyter-widgets/base",
     "model_module_version": "1.2.0",
     "model_name": "LayoutModel",
     "state": {
      "_model_module": "@jupyter-widgets/base",
      "_model_module_version": "1.2.0",
      "_model_name": "LayoutModel",
      "_view_count": null,
      "_view_module": "@jupyter-widgets/base",
      "_view_module_version": "1.2.0",
      "_view_name": "LayoutView",
      "align_content": null,
      "align_items": null,
      "align_self": null,
      "border": null,
      "bottom": null,
      "display": null,
      "flex": null,
      "flex_flow": null,
      "grid_area": null,
      "grid_auto_columns": null,
      "grid_auto_flow": null,
      "grid_auto_rows": null,
      "grid_column": null,
      "grid_gap": null,
      "grid_row": null,
      "grid_template_areas": null,
      "grid_template_columns": null,
      "grid_template_rows": null,
      "height": null,
      "justify_content": null,
      "justify_items": null,
      "left": null,
      "margin": null,
      "max_height": null,
      "max_width": null,
      "min_height": null,
      "min_width": null,
      "object_fit": null,
      "object_position": null,
      "order": null,
      "overflow": null,
      "overflow_x": null,
      "overflow_y": null,
      "padding": null,
      "right": null,
      "top": null,
      "visibility": null,
      "width": null
     }
    },
    "f160775be32e409e85971f3f3d979b5b": {
     "model_module": "@jupyter-widgets/base",
     "model_module_version": "1.2.0",
     "model_name": "LayoutModel",
     "state": {
      "_model_module": "@jupyter-widgets/base",
      "_model_module_version": "1.2.0",
      "_model_name": "LayoutModel",
      "_view_count": null,
      "_view_module": "@jupyter-widgets/base",
      "_view_module_version": "1.2.0",
      "_view_name": "LayoutView",
      "align_content": null,
      "align_items": null,
      "align_self": null,
      "border": null,
      "bottom": null,
      "display": null,
      "flex": null,
      "flex_flow": null,
      "grid_area": null,
      "grid_auto_columns": null,
      "grid_auto_flow": null,
      "grid_auto_rows": null,
      "grid_column": null,
      "grid_gap": null,
      "grid_row": null,
      "grid_template_areas": null,
      "grid_template_columns": null,
      "grid_template_rows": null,
      "height": null,
      "justify_content": null,
      "justify_items": null,
      "left": null,
      "margin": null,
      "max_height": null,
      "max_width": null,
      "min_height": null,
      "min_width": null,
      "object_fit": null,
      "object_position": null,
      "order": null,
      "overflow": null,
      "overflow_x": null,
      "overflow_y": null,
      "padding": null,
      "right": null,
      "top": null,
      "visibility": null,
      "width": null
     }
    },
    "f1fd08ff87564afa8c2173bbb9931d44": {
     "model_module": "@jupyter-widgets/base",
     "model_module_version": "1.2.0",
     "model_name": "LayoutModel",
     "state": {
      "_model_module": "@jupyter-widgets/base",
      "_model_module_version": "1.2.0",
      "_model_name": "LayoutModel",
      "_view_count": null,
      "_view_module": "@jupyter-widgets/base",
      "_view_module_version": "1.2.0",
      "_view_name": "LayoutView",
      "align_content": null,
      "align_items": null,
      "align_self": null,
      "border": null,
      "bottom": null,
      "display": null,
      "flex": null,
      "flex_flow": null,
      "grid_area": null,
      "grid_auto_columns": null,
      "grid_auto_flow": null,
      "grid_auto_rows": null,
      "grid_column": null,
      "grid_gap": null,
      "grid_row": null,
      "grid_template_areas": null,
      "grid_template_columns": null,
      "grid_template_rows": null,
      "height": null,
      "justify_content": null,
      "justify_items": null,
      "left": null,
      "margin": null,
      "max_height": null,
      "max_width": null,
      "min_height": null,
      "min_width": null,
      "object_fit": null,
      "object_position": null,
      "order": null,
      "overflow": null,
      "overflow_x": null,
      "overflow_y": null,
      "padding": null,
      "right": null,
      "top": null,
      "visibility": null,
      "width": null
     }
    },
    "f3599019c4c84353ad234874b3389cca": {
     "model_module": "@jupyter-widgets/base",
     "model_module_version": "1.2.0",
     "model_name": "LayoutModel",
     "state": {
      "_model_module": "@jupyter-widgets/base",
      "_model_module_version": "1.2.0",
      "_model_name": "LayoutModel",
      "_view_count": null,
      "_view_module": "@jupyter-widgets/base",
      "_view_module_version": "1.2.0",
      "_view_name": "LayoutView",
      "align_content": null,
      "align_items": null,
      "align_self": null,
      "border": null,
      "bottom": null,
      "display": null,
      "flex": null,
      "flex_flow": null,
      "grid_area": null,
      "grid_auto_columns": null,
      "grid_auto_flow": null,
      "grid_auto_rows": null,
      "grid_column": null,
      "grid_gap": null,
      "grid_row": null,
      "grid_template_areas": null,
      "grid_template_columns": null,
      "grid_template_rows": null,
      "height": null,
      "justify_content": null,
      "justify_items": null,
      "left": null,
      "margin": null,
      "max_height": null,
      "max_width": null,
      "min_height": null,
      "min_width": null,
      "object_fit": null,
      "object_position": null,
      "order": null,
      "overflow": null,
      "overflow_x": null,
      "overflow_y": null,
      "padding": null,
      "right": null,
      "top": null,
      "visibility": null,
      "width": null
     }
    },
    "f379376077b44cbb9e0955ecd6b5ffa6": {
     "model_module": "@jupyter-widgets/controls",
     "model_module_version": "1.5.0",
     "model_name": "HBoxModel",
     "state": {
      "_dom_classes": [],
      "_model_module": "@jupyter-widgets/controls",
      "_model_module_version": "1.5.0",
      "_model_name": "HBoxModel",
      "_view_count": null,
      "_view_module": "@jupyter-widgets/controls",
      "_view_module_version": "1.5.0",
      "_view_name": "HBoxView",
      "box_style": "",
      "children": [
       "IPY_MODEL_8e41d49373e144eab8cf6966a7dd30cf",
       "IPY_MODEL_26966e787cf54b0180c27b1fdcfc09f5",
       "IPY_MODEL_0f2b6ac1e3a24904ab1e6d7c47034f19"
      ],
      "layout": "IPY_MODEL_c3fc315d61fb4f1481c9396cee0b6ece"
     }
    },
    "f3d1fe0a6306449fa72ae6c38ed9a7be": {
     "model_module": "@jupyter-widgets/controls",
     "model_module_version": "1.5.0",
     "model_name": "HTMLModel",
     "state": {
      "_dom_classes": [],
      "_model_module": "@jupyter-widgets/controls",
      "_model_module_version": "1.5.0",
      "_model_name": "HTMLModel",
      "_view_count": null,
      "_view_module": "@jupyter-widgets/controls",
      "_view_module_version": "1.5.0",
      "_view_name": "HTMLView",
      "description": "",
      "description_tooltip": null,
      "layout": "IPY_MODEL_ab12545bff1345c0a000c7ae6f4525ff",
      "placeholder": "​",
      "style": "IPY_MODEL_115b3ffdd6b645a687ec1df438a67c43",
      "value": " 88/88 [00:38&lt;00:00,  2.78it/s]"
     }
    },
    "f41333f520594383b5602a37efa99957": {
     "model_module": "@jupyter-widgets/controls",
     "model_module_version": "1.5.0",
     "model_name": "HTMLModel",
     "state": {
      "_dom_classes": [],
      "_model_module": "@jupyter-widgets/controls",
      "_model_module_version": "1.5.0",
      "_model_name": "HTMLModel",
      "_view_count": null,
      "_view_module": "@jupyter-widgets/controls",
      "_view_module_version": "1.5.0",
      "_view_name": "HTMLView",
      "description": "",
      "description_tooltip": null,
      "layout": "IPY_MODEL_e598429ed41c42c78e395b305a8b2049",
      "placeholder": "​",
      "style": "IPY_MODEL_102d4c38186d4f2f96299d557ad8fb16",
      "value": "100%"
     }
    },
    "f427df0028af4869bdaeefe34e0c2732": {
     "model_module": "@jupyter-widgets/controls",
     "model_module_version": "1.5.0",
     "model_name": "HTMLModel",
     "state": {
      "_dom_classes": [],
      "_model_module": "@jupyter-widgets/controls",
      "_model_module_version": "1.5.0",
      "_model_name": "HTMLModel",
      "_view_count": null,
      "_view_module": "@jupyter-widgets/controls",
      "_view_module_version": "1.5.0",
      "_view_name": "HTMLView",
      "description": "",
      "description_tooltip": null,
      "layout": "IPY_MODEL_bd074f0217c64290ae5096a47486f62e",
      "placeholder": "​",
      "style": "IPY_MODEL_fa791ec59e8a45f4b50af0932ae7f02c",
      "value": " 88/88 [00:38&lt;00:00,  2.84it/s]"
     }
    },
    "f4f072b203134a70a51d7969657844c8": {
     "model_module": "@jupyter-widgets/base",
     "model_module_version": "1.2.0",
     "model_name": "LayoutModel",
     "state": {
      "_model_module": "@jupyter-widgets/base",
      "_model_module_version": "1.2.0",
      "_model_name": "LayoutModel",
      "_view_count": null,
      "_view_module": "@jupyter-widgets/base",
      "_view_module_version": "1.2.0",
      "_view_name": "LayoutView",
      "align_content": null,
      "align_items": null,
      "align_self": null,
      "border": null,
      "bottom": null,
      "display": null,
      "flex": null,
      "flex_flow": null,
      "grid_area": null,
      "grid_auto_columns": null,
      "grid_auto_flow": null,
      "grid_auto_rows": null,
      "grid_column": null,
      "grid_gap": null,
      "grid_row": null,
      "grid_template_areas": null,
      "grid_template_columns": null,
      "grid_template_rows": null,
      "height": null,
      "justify_content": null,
      "justify_items": null,
      "left": null,
      "margin": null,
      "max_height": null,
      "max_width": null,
      "min_height": null,
      "min_width": null,
      "object_fit": null,
      "object_position": null,
      "order": null,
      "overflow": null,
      "overflow_x": null,
      "overflow_y": null,
      "padding": null,
      "right": null,
      "top": null,
      "visibility": null,
      "width": null
     }
    },
    "f506bc00a0324011b8b8f0b9c0306db3": {
     "model_module": "@jupyter-widgets/controls",
     "model_module_version": "1.5.0",
     "model_name": "HTMLModel",
     "state": {
      "_dom_classes": [],
      "_model_module": "@jupyter-widgets/controls",
      "_model_module_version": "1.5.0",
      "_model_name": "HTMLModel",
      "_view_count": null,
      "_view_module": "@jupyter-widgets/controls",
      "_view_module_version": "1.5.0",
      "_view_name": "HTMLView",
      "description": "",
      "description_tooltip": null,
      "layout": "IPY_MODEL_04282e1751464ac2ad96437d34e40a41",
      "placeholder": "​",
      "style": "IPY_MODEL_8994968834ca46bb8ef8910c58e2cfb9",
      "value": "Epochs 8/12. Running Loss:    1.3284: 100%"
     }
    },
    "f56a2dda521b4e04bb9ef501c8e1f452": {
     "model_module": "@jupyter-widgets/base",
     "model_module_version": "1.2.0",
     "model_name": "LayoutModel",
     "state": {
      "_model_module": "@jupyter-widgets/base",
      "_model_module_version": "1.2.0",
      "_model_name": "LayoutModel",
      "_view_count": null,
      "_view_module": "@jupyter-widgets/base",
      "_view_module_version": "1.2.0",
      "_view_name": "LayoutView",
      "align_content": null,
      "align_items": null,
      "align_self": null,
      "border": null,
      "bottom": null,
      "display": null,
      "flex": null,
      "flex_flow": null,
      "grid_area": null,
      "grid_auto_columns": null,
      "grid_auto_flow": null,
      "grid_auto_rows": null,
      "grid_column": null,
      "grid_gap": null,
      "grid_row": null,
      "grid_template_areas": null,
      "grid_template_columns": null,
      "grid_template_rows": null,
      "height": null,
      "justify_content": null,
      "justify_items": null,
      "left": null,
      "margin": null,
      "max_height": null,
      "max_width": null,
      "min_height": null,
      "min_width": null,
      "object_fit": null,
      "object_position": null,
      "order": null,
      "overflow": null,
      "overflow_x": null,
      "overflow_y": null,
      "padding": null,
      "right": null,
      "top": null,
      "visibility": null,
      "width": null
     }
    },
    "f5b56d04849440778b8293f8e3ca40ef": {
     "model_module": "@jupyter-widgets/controls",
     "model_module_version": "1.5.0",
     "model_name": "DescriptionStyleModel",
     "state": {
      "_model_module": "@jupyter-widgets/controls",
      "_model_module_version": "1.5.0",
      "_model_name": "DescriptionStyleModel",
      "_view_count": null,
      "_view_module": "@jupyter-widgets/base",
      "_view_module_version": "1.2.0",
      "_view_name": "StyleView",
      "description_width": ""
     }
    },
    "f6a8abb461bb4fb2bd1c26e6df6e0c90": {
     "model_module": "@jupyter-widgets/controls",
     "model_module_version": "1.5.0",
     "model_name": "DescriptionStyleModel",
     "state": {
      "_model_module": "@jupyter-widgets/controls",
      "_model_module_version": "1.5.0",
      "_model_name": "DescriptionStyleModel",
      "_view_count": null,
      "_view_module": "@jupyter-widgets/base",
      "_view_module_version": "1.2.0",
      "_view_name": "StyleView",
      "description_width": ""
     }
    },
    "f90eb94c158547b586b9f4bd243a812a": {
     "model_module": "@jupyter-widgets/controls",
     "model_module_version": "1.5.0",
     "model_name": "DescriptionStyleModel",
     "state": {
      "_model_module": "@jupyter-widgets/controls",
      "_model_module_version": "1.5.0",
      "_model_name": "DescriptionStyleModel",
      "_view_count": null,
      "_view_module": "@jupyter-widgets/base",
      "_view_module_version": "1.2.0",
      "_view_name": "StyleView",
      "description_width": ""
     }
    },
    "f9408b99e4f14b3d9d529977cb785aa4": {
     "model_module": "@jupyter-widgets/base",
     "model_module_version": "1.2.0",
     "model_name": "LayoutModel",
     "state": {
      "_model_module": "@jupyter-widgets/base",
      "_model_module_version": "1.2.0",
      "_model_name": "LayoutModel",
      "_view_count": null,
      "_view_module": "@jupyter-widgets/base",
      "_view_module_version": "1.2.0",
      "_view_name": "LayoutView",
      "align_content": null,
      "align_items": null,
      "align_self": null,
      "border": null,
      "bottom": null,
      "display": null,
      "flex": null,
      "flex_flow": null,
      "grid_area": null,
      "grid_auto_columns": null,
      "grid_auto_flow": null,
      "grid_auto_rows": null,
      "grid_column": null,
      "grid_gap": null,
      "grid_row": null,
      "grid_template_areas": null,
      "grid_template_columns": null,
      "grid_template_rows": null,
      "height": null,
      "justify_content": null,
      "justify_items": null,
      "left": null,
      "margin": null,
      "max_height": null,
      "max_width": null,
      "min_height": null,
      "min_width": null,
      "object_fit": null,
      "object_position": null,
      "order": null,
      "overflow": null,
      "overflow_x": null,
      "overflow_y": null,
      "padding": null,
      "right": null,
      "top": null,
      "visibility": null,
      "width": null
     }
    },
    "f950b74132374fe18924aec3de21b6b8": {
     "model_module": "@jupyter-widgets/base",
     "model_module_version": "1.2.0",
     "model_name": "LayoutModel",
     "state": {
      "_model_module": "@jupyter-widgets/base",
      "_model_module_version": "1.2.0",
      "_model_name": "LayoutModel",
      "_view_count": null,
      "_view_module": "@jupyter-widgets/base",
      "_view_module_version": "1.2.0",
      "_view_name": "LayoutView",
      "align_content": null,
      "align_items": null,
      "align_self": null,
      "border": null,
      "bottom": null,
      "display": null,
      "flex": null,
      "flex_flow": null,
      "grid_area": null,
      "grid_auto_columns": null,
      "grid_auto_flow": null,
      "grid_auto_rows": null,
      "grid_column": null,
      "grid_gap": null,
      "grid_row": null,
      "grid_template_areas": null,
      "grid_template_columns": null,
      "grid_template_rows": null,
      "height": null,
      "justify_content": null,
      "justify_items": null,
      "left": null,
      "margin": null,
      "max_height": null,
      "max_width": null,
      "min_height": null,
      "min_width": null,
      "object_fit": null,
      "object_position": null,
      "order": null,
      "overflow": null,
      "overflow_x": null,
      "overflow_y": null,
      "padding": null,
      "right": null,
      "top": null,
      "visibility": null,
      "width": null
     }
    },
    "f99f12d22b1b418d821ec900f3e38ce0": {
     "model_module": "@jupyter-widgets/controls",
     "model_module_version": "1.5.0",
     "model_name": "DescriptionStyleModel",
     "state": {
      "_model_module": "@jupyter-widgets/controls",
      "_model_module_version": "1.5.0",
      "_model_name": "DescriptionStyleModel",
      "_view_count": null,
      "_view_module": "@jupyter-widgets/base",
      "_view_module_version": "1.2.0",
      "_view_name": "StyleView",
      "description_width": ""
     }
    },
    "fa791ec59e8a45f4b50af0932ae7f02c": {
     "model_module": "@jupyter-widgets/controls",
     "model_module_version": "1.5.0",
     "model_name": "DescriptionStyleModel",
     "state": {
      "_model_module": "@jupyter-widgets/controls",
      "_model_module_version": "1.5.0",
      "_model_name": "DescriptionStyleModel",
      "_view_count": null,
      "_view_module": "@jupyter-widgets/base",
      "_view_module_version": "1.2.0",
      "_view_name": "StyleView",
      "description_width": ""
     }
    },
    "faa8bcfdcb2d481eb5e63fc73e0a8824": {
     "model_module": "@jupyter-widgets/base",
     "model_module_version": "1.2.0",
     "model_name": "LayoutModel",
     "state": {
      "_model_module": "@jupyter-widgets/base",
      "_model_module_version": "1.2.0",
      "_model_name": "LayoutModel",
      "_view_count": null,
      "_view_module": "@jupyter-widgets/base",
      "_view_module_version": "1.2.0",
      "_view_name": "LayoutView",
      "align_content": null,
      "align_items": null,
      "align_self": null,
      "border": null,
      "bottom": null,
      "display": null,
      "flex": null,
      "flex_flow": null,
      "grid_area": null,
      "grid_auto_columns": null,
      "grid_auto_flow": null,
      "grid_auto_rows": null,
      "grid_column": null,
      "grid_gap": null,
      "grid_row": null,
      "grid_template_areas": null,
      "grid_template_columns": null,
      "grid_template_rows": null,
      "height": null,
      "justify_content": null,
      "justify_items": null,
      "left": null,
      "margin": null,
      "max_height": null,
      "max_width": null,
      "min_height": null,
      "min_width": null,
      "object_fit": null,
      "object_position": null,
      "order": null,
      "overflow": null,
      "overflow_x": null,
      "overflow_y": null,
      "padding": null,
      "right": null,
      "top": null,
      "visibility": null,
      "width": null
     }
    },
    "fb05ef0745ce48d7a505dad1653cb6e6": {
     "model_module": "@jupyter-widgets/controls",
     "model_module_version": "1.5.0",
     "model_name": "DescriptionStyleModel",
     "state": {
      "_model_module": "@jupyter-widgets/controls",
      "_model_module_version": "1.5.0",
      "_model_name": "DescriptionStyleModel",
      "_view_count": null,
      "_view_module": "@jupyter-widgets/base",
      "_view_module_version": "1.2.0",
      "_view_name": "StyleView",
      "description_width": ""
     }
    },
    "fbbc552de17e4d30a3055188daef956d": {
     "model_module": "@jupyter-widgets/base",
     "model_module_version": "1.2.0",
     "model_name": "LayoutModel",
     "state": {
      "_model_module": "@jupyter-widgets/base",
      "_model_module_version": "1.2.0",
      "_model_name": "LayoutModel",
      "_view_count": null,
      "_view_module": "@jupyter-widgets/base",
      "_view_module_version": "1.2.0",
      "_view_name": "LayoutView",
      "align_content": null,
      "align_items": null,
      "align_self": null,
      "border": null,
      "bottom": null,
      "display": null,
      "flex": null,
      "flex_flow": null,
      "grid_area": null,
      "grid_auto_columns": null,
      "grid_auto_flow": null,
      "grid_auto_rows": null,
      "grid_column": null,
      "grid_gap": null,
      "grid_row": null,
      "grid_template_areas": null,
      "grid_template_columns": null,
      "grid_template_rows": null,
      "height": null,
      "justify_content": null,
      "justify_items": null,
      "left": null,
      "margin": null,
      "max_height": null,
      "max_width": null,
      "min_height": null,
      "min_width": null,
      "object_fit": null,
      "object_position": null,
      "order": null,
      "overflow": null,
      "overflow_x": null,
      "overflow_y": null,
      "padding": null,
      "right": null,
      "top": null,
      "visibility": null,
      "width": null
     }
    },
    "fca5ead103824c73a3b155c59acb3d78": {
     "model_module": "@jupyter-widgets/controls",
     "model_module_version": "1.5.0",
     "model_name": "HBoxModel",
     "state": {
      "_dom_classes": [],
      "_model_module": "@jupyter-widgets/controls",
      "_model_module_version": "1.5.0",
      "_model_name": "HBoxModel",
      "_view_count": null,
      "_view_module": "@jupyter-widgets/controls",
      "_view_module_version": "1.5.0",
      "_view_name": "HBoxView",
      "box_style": "",
      "children": [
       "IPY_MODEL_f506bc00a0324011b8b8f0b9c0306db3",
       "IPY_MODEL_bc2756b24bd94b82b27e3d7f7719d9e7",
       "IPY_MODEL_ea9c7df7196f4d52986f622ca04038f9"
      ],
      "layout": "IPY_MODEL_883866a1f0884eb69a0fc9d078e6b1aa"
     }
    },
    "fd345de0c536427e83aafcc7d9edf5fd": {
     "model_module": "@jupyter-widgets/controls",
     "model_module_version": "1.5.0",
     "model_name": "DescriptionStyleModel",
     "state": {
      "_model_module": "@jupyter-widgets/controls",
      "_model_module_version": "1.5.0",
      "_model_name": "DescriptionStyleModel",
      "_view_count": null,
      "_view_module": "@jupyter-widgets/base",
      "_view_module_version": "1.2.0",
      "_view_name": "StyleView",
      "description_width": ""
     }
    },
    "fd9caf3bf52b4080aa0bfd43871ac3fc": {
     "model_module": "@jupyter-widgets/controls",
     "model_module_version": "1.5.0",
     "model_name": "DescriptionStyleModel",
     "state": {
      "_model_module": "@jupyter-widgets/controls",
      "_model_module_version": "1.5.0",
      "_model_name": "DescriptionStyleModel",
      "_view_count": null,
      "_view_module": "@jupyter-widgets/base",
      "_view_module_version": "1.2.0",
      "_view_name": "StyleView",
      "description_width": ""
     }
    },
    "fe3b76e0f7b043408af9d9c41aaa3e15": {
     "model_module": "@jupyter-widgets/controls",
     "model_module_version": "1.5.0",
     "model_name": "HTMLModel",
     "state": {
      "_dom_classes": [],
      "_model_module": "@jupyter-widgets/controls",
      "_model_module_version": "1.5.0",
      "_model_name": "HTMLModel",
      "_view_count": null,
      "_view_module": "@jupyter-widgets/controls",
      "_view_module_version": "1.5.0",
      "_view_name": "HTMLView",
      "description": "",
      "description_tooltip": null,
      "layout": "IPY_MODEL_da485b248eb54f12abb12e69ff6c34a6",
      "placeholder": "​",
      "style": "IPY_MODEL_fb05ef0745ce48d7a505dad1653cb6e6",
      "value": "Epoch 12 of 12: 100%"
     }
    },
    "feede7927ac94dfa88062e0b35ae70c4": {
     "model_module": "@jupyter-widgets/controls",
     "model_module_version": "1.5.0",
     "model_name": "HTMLModel",
     "state": {
      "_dom_classes": [],
      "_model_module": "@jupyter-widgets/controls",
      "_model_module_version": "1.5.0",
      "_model_name": "HTMLModel",
      "_view_count": null,
      "_view_module": "@jupyter-widgets/controls",
      "_view_module_version": "1.5.0",
      "_view_name": "HTMLView",
      "description": "",
      "description_tooltip": null,
      "layout": "IPY_MODEL_19cfd40e2a07404a9a9836dbaffbbe6c",
      "placeholder": "​",
      "style": "IPY_MODEL_e084a6ca3ba8484ba92202065036d832",
      "value": " 654/654 [00:01&lt;00:00, 459.95it/s]"
     }
    },
    "ffa5bc74d7e34ef7a1a486278c0c5dce": {
     "model_module": "@jupyter-widgets/base",
     "model_module_version": "1.2.0",
     "model_name": "LayoutModel",
     "state": {
      "_model_module": "@jupyter-widgets/base",
      "_model_module_version": "1.2.0",
      "_model_name": "LayoutModel",
      "_view_count": null,
      "_view_module": "@jupyter-widgets/base",
      "_view_module_version": "1.2.0",
      "_view_name": "LayoutView",
      "align_content": null,
      "align_items": null,
      "align_self": null,
      "border": null,
      "bottom": null,
      "display": null,
      "flex": null,
      "flex_flow": null,
      "grid_area": null,
      "grid_auto_columns": null,
      "grid_auto_flow": null,
      "grid_auto_rows": null,
      "grid_column": null,
      "grid_gap": null,
      "grid_row": null,
      "grid_template_areas": null,
      "grid_template_columns": null,
      "grid_template_rows": null,
      "height": null,
      "justify_content": null,
      "justify_items": null,
      "left": null,
      "margin": null,
      "max_height": null,
      "max_width": null,
      "min_height": null,
      "min_width": null,
      "object_fit": null,
      "object_position": null,
      "order": null,
      "overflow": null,
      "overflow_x": null,
      "overflow_y": null,
      "padding": null,
      "right": null,
      "top": null,
      "visibility": null,
      "width": null
     }
    }
   }
  }
 },
 "nbformat": 4,
 "nbformat_minor": 4
}
